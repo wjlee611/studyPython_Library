{
  "nbformat": 4,
  "nbformat_minor": 0,
  "metadata": {
    "colab": {
      "name": "_Matplotlib 한번에 제대로 배우기.ipynb",
      "provenance": [],
      "collapsed_sections": [],
      "toc_visible": true,
      "include_colab_link": true
    },
    "kernelspec": {
      "name": "python3",
      "display_name": "Python 3"
    }
  },
  "cells": [
    {
      "cell_type": "markdown",
      "metadata": {
        "id": "view-in-github",
        "colab_type": "text"
      },
      "source": [
        "<a href=\"https://colab.research.google.com/github/wjlee611/studyPython_Library/blob/main/_Matplotlib_%ED%95%9C%EB%B2%88%EC%97%90_%EC%A0%9C%EB%8C%80%EB%A1%9C_%EB%B0%B0%EC%9A%B0%EA%B8%B0.ipynb\" target=\"_parent\"><img src=\"https://colab.research.google.com/assets/colab-badge.svg\" alt=\"Open In Colab\"/></a>"
      ]
    },
    {
      "cell_type": "markdown",
      "metadata": {
        "id": "THtgQUmq725R"
      },
      "source": [
        "# Matplotlib\n",
        "\n",
        "---\n",
        "\n"
      ]
    },
    {
      "cell_type": "markdown",
      "metadata": {
        "id": "twO7rs7j9mZK"
      },
      "source": [
        "## Matplotlib 특징\n",
        "\n",
        "* 파이썬의 대표적인 과학 계산용 그래프 라이브러리\n",
        "* 선 그래프, 히스토그램, 산점도 등의 고품질 그래프 제공\n",
        "* 저수준 api를 사용한 다양한 시각화 기능 제공\n",
        "* 다양한 운영체제와 그래픽 백엔드에서 동작\n"
      ]
    },
    {
      "cell_type": "code",
      "metadata": {
        "id": "6p_eBTPH7pHE"
      },
      "source": [
        ""
      ],
      "execution_count": null,
      "outputs": []
    },
    {
      "cell_type": "markdown",
      "metadata": {
        "id": "asNHPuG2CeuJ"
      },
      "source": [
        "## 라인 플롯(Line Plot)\n",
        "\n",
        "* 플롯(plot)은 그림(figure)와 축(axes)으로 구성\n",
        "* `plt.Figure`: 축과 그래픽, 텍스트, 레이블을 표시하는 모든 객체를 포함하는 컨테이너\n",
        "* `plt.Axes`: 눈금과 레이블이 있는 테두리 박스로 시각화를 형성하는 플롯 요소 포함"
      ]
    },
    {
      "cell_type": "code",
      "metadata": {
        "id": "0owW1hC1BHNJ"
      },
      "source": [
        ""
      ],
      "execution_count": null,
      "outputs": []
    },
    {
      "cell_type": "code",
      "metadata": {
        "id": "GmLZrxPyCjf4"
      },
      "source": [
        ""
      ],
      "execution_count": null,
      "outputs": []
    },
    {
      "cell_type": "code",
      "metadata": {
        "id": "HUwLZHWTH10L"
      },
      "source": [
        ""
      ],
      "execution_count": null,
      "outputs": []
    },
    {
      "cell_type": "code",
      "metadata": {
        "id": "3Bwc991vIp4n"
      },
      "source": [
        ""
      ],
      "execution_count": null,
      "outputs": []
    },
    {
      "cell_type": "code",
      "metadata": {
        "id": "CuSkO-pgNGeC"
      },
      "source": [
        ""
      ],
      "execution_count": null,
      "outputs": []
    },
    {
      "cell_type": "markdown",
      "metadata": {
        "id": "Gd1JfqnV-K-p"
      },
      "source": [
        "## 라인 스타일(Line Style)\n"
      ]
    },
    {
      "cell_type": "code",
      "metadata": {
        "id": "8V2tENVDSCHt"
      },
      "source": [
        ""
      ],
      "execution_count": null,
      "outputs": []
    },
    {
      "cell_type": "code",
      "metadata": {
        "id": "NLH_i_6tSr1p"
      },
      "source": [
        ""
      ],
      "execution_count": null,
      "outputs": []
    },
    {
      "cell_type": "markdown",
      "metadata": {
        "id": "dNnBBFvXnSW0"
      },
      "source": [
        "## 색상 스타일(Color Style)\n"
      ]
    },
    {
      "cell_type": "code",
      "metadata": {
        "id": "p-7O7g3mPIqC"
      },
      "source": [
        ""
      ],
      "execution_count": null,
      "outputs": []
    },
    {
      "cell_type": "code",
      "metadata": {
        "id": "ifXEKV5Hn5W9"
      },
      "source": [
        ""
      ],
      "execution_count": null,
      "outputs": []
    },
    {
      "cell_type": "code",
      "metadata": {
        "id": "S8Vm21dTQBZT"
      },
      "source": [
        ""
      ],
      "execution_count": null,
      "outputs": []
    },
    {
      "cell_type": "markdown",
      "metadata": {
        "id": "silDVAT2XEdS"
      },
      "source": [
        "## 플롯 축(Plot Axis)"
      ]
    },
    {
      "cell_type": "code",
      "metadata": {
        "id": "IJO5BAIdU6nL"
      },
      "source": [
        ""
      ],
      "execution_count": null,
      "outputs": []
    },
    {
      "cell_type": "code",
      "metadata": {
        "id": "QXQ0COEoXVlc"
      },
      "source": [
        ""
      ],
      "execution_count": null,
      "outputs": []
    },
    {
      "cell_type": "code",
      "metadata": {
        "id": "V4aAlsWmbLft"
      },
      "source": [
        ""
      ],
      "execution_count": null,
      "outputs": []
    },
    {
      "cell_type": "code",
      "metadata": {
        "id": "s1T-55l1rlyZ"
      },
      "source": [
        ""
      ],
      "execution_count": null,
      "outputs": []
    },
    {
      "cell_type": "code",
      "metadata": {
        "id": "QrvKXdq6xb51"
      },
      "source": [
        ""
      ],
      "execution_count": null,
      "outputs": []
    },
    {
      "cell_type": "markdown",
      "metadata": {
        "id": "4J-l6wRqxoke"
      },
      "source": [
        "## 플롯 레이블(Plot Label)"
      ]
    },
    {
      "cell_type": "code",
      "metadata": {
        "id": "GQxTwMFnxgUf"
      },
      "source": [
        ""
      ],
      "execution_count": null,
      "outputs": []
    },
    {
      "cell_type": "code",
      "metadata": {
        "id": "9u2IejhGx6O7"
      },
      "source": [
        ""
      ],
      "execution_count": null,
      "outputs": []
    },
    {
      "cell_type": "markdown",
      "metadata": {
        "id": "yo24g5M8J3ao"
      },
      "source": [
        "## 폰트 관리자(Font Manager)"
      ]
    },
    {
      "cell_type": "code",
      "metadata": {
        "id": "FJOGVv6fJ5HP"
      },
      "source": [
        ""
      ],
      "execution_count": null,
      "outputs": []
    },
    {
      "cell_type": "code",
      "metadata": {
        "id": "vlfBRiH2KBeY"
      },
      "source": [
        ""
      ],
      "execution_count": null,
      "outputs": []
    },
    {
      "cell_type": "markdown",
      "metadata": {
        "id": "uxJTuHJxL98j"
      },
      "source": [
        "## 플롯 범례(Plot Legend)\n"
      ]
    },
    {
      "cell_type": "code",
      "metadata": {
        "id": "KrBL1bdLLwwN"
      },
      "source": [
        ""
      ],
      "execution_count": null,
      "outputs": []
    },
    {
      "cell_type": "code",
      "metadata": {
        "id": "uLf3kSolMFvZ"
      },
      "source": [
        ""
      ],
      "execution_count": null,
      "outputs": []
    },
    {
      "cell_type": "code",
      "metadata": {
        "id": "d-feuXF1MG4i"
      },
      "source": [
        ""
      ],
      "execution_count": null,
      "outputs": []
    },
    {
      "cell_type": "code",
      "metadata": {
        "id": "1fMgiA23MH6P"
      },
      "source": [
        ""
      ],
      "execution_count": null,
      "outputs": []
    },
    {
      "cell_type": "code",
      "metadata": {
        "id": "FImrjsPfMKSa"
      },
      "source": [
        ""
      ],
      "execution_count": null,
      "outputs": []
    },
    {
      "cell_type": "code",
      "metadata": {
        "id": "CewJLozFMNye"
      },
      "source": [
        ""
      ],
      "execution_count": null,
      "outputs": []
    },
    {
      "cell_type": "code",
      "metadata": {
        "id": "3x5fP1P0MRmE"
      },
      "source": [
        ""
      ],
      "execution_count": null,
      "outputs": []
    },
    {
      "cell_type": "code",
      "metadata": {
        "id": "UDyJiXNYMqCY"
      },
      "source": [
        ""
      ],
      "execution_count": null,
      "outputs": []
    },
    {
      "cell_type": "code",
      "metadata": {
        "id": "CQMiOf4ClBQA"
      },
      "source": [
        ""
      ],
      "execution_count": null,
      "outputs": []
    },
    {
      "cell_type": "code",
      "metadata": {
        "id": "fxIVX4u7M55F"
      },
      "source": [
        ""
      ],
      "execution_count": null,
      "outputs": []
    },
    {
      "cell_type": "code",
      "metadata": {
        "id": "isQc6PbsM7TJ"
      },
      "source": [
        ""
      ],
      "execution_count": null,
      "outputs": []
    },
    {
      "cell_type": "markdown",
      "metadata": {
        "id": "7V7M3x-gNMH9"
      },
      "source": [
        "## 다중 플롯(Multiple Subplots)"
      ]
    },
    {
      "cell_type": "code",
      "metadata": {
        "id": "o9lCcXi7NJ8i"
      },
      "source": [
        ""
      ],
      "execution_count": null,
      "outputs": []
    },
    {
      "cell_type": "code",
      "metadata": {
        "id": "9-SMlZeMNRmu"
      },
      "source": [
        ""
      ],
      "execution_count": null,
      "outputs": []
    },
    {
      "cell_type": "code",
      "metadata": {
        "id": "6ZqyvYYyNT3A"
      },
      "source": [
        ""
      ],
      "execution_count": null,
      "outputs": []
    },
    {
      "cell_type": "code",
      "metadata": {
        "id": "TDkummn3NU-F"
      },
      "source": [
        ""
      ],
      "execution_count": null,
      "outputs": []
    },
    {
      "cell_type": "code",
      "metadata": {
        "id": "KJJKJAkwNWpF"
      },
      "source": [
        ""
      ],
      "execution_count": null,
      "outputs": []
    },
    {
      "cell_type": "code",
      "metadata": {
        "id": "16TZhO-bNXl0"
      },
      "source": [
        ""
      ],
      "execution_count": null,
      "outputs": []
    },
    {
      "cell_type": "code",
      "metadata": {
        "id": "slP_mHe0Naad"
      },
      "source": [
        ""
      ],
      "execution_count": null,
      "outputs": []
    },
    {
      "cell_type": "markdown",
      "metadata": {
        "id": "e_ryn6sSNgZ2"
      },
      "source": [
        "## 텍스트와 주석(Text and Annotation)"
      ]
    },
    {
      "cell_type": "code",
      "metadata": {
        "id": "_a8Y-WJ3NbwG"
      },
      "source": [
        ""
      ],
      "execution_count": null,
      "outputs": []
    },
    {
      "cell_type": "code",
      "metadata": {
        "id": "cB3m0gK1N4h6"
      },
      "source": [
        ""
      ],
      "execution_count": null,
      "outputs": []
    },
    {
      "cell_type": "code",
      "metadata": {
        "id": "d_9s52tbN58u"
      },
      "source": [
        ""
      ],
      "execution_count": null,
      "outputs": []
    },
    {
      "cell_type": "code",
      "metadata": {
        "id": "02phIcdjBFcu"
      },
      "source": [
        ""
      ],
      "execution_count": null,
      "outputs": []
    },
    {
      "cell_type": "markdown",
      "metadata": {
        "id": "BOFRFNB0OFFw"
      },
      "source": [
        "## 눈금 맞춤(Customizing Ticks)\n"
      ]
    },
    {
      "cell_type": "code",
      "metadata": {
        "id": "vjRo5OJHN7sx"
      },
      "source": [
        ""
      ],
      "execution_count": null,
      "outputs": []
    },
    {
      "cell_type": "code",
      "metadata": {
        "id": "4MH4B5woOTEt"
      },
      "source": [
        ""
      ],
      "execution_count": null,
      "outputs": []
    },
    {
      "cell_type": "code",
      "metadata": {
        "id": "JhFroZwbOWPs"
      },
      "source": [
        ""
      ],
      "execution_count": null,
      "outputs": []
    },
    {
      "cell_type": "code",
      "metadata": {
        "id": "aN2BVWuyOZxt"
      },
      "source": [
        ""
      ],
      "execution_count": null,
      "outputs": []
    },
    {
      "cell_type": "code",
      "metadata": {
        "id": "Ya9MKFSsAI2d"
      },
      "source": [
        ""
      ],
      "execution_count": null,
      "outputs": []
    },
    {
      "cell_type": "code",
      "metadata": {
        "id": "gr2osNK73xas"
      },
      "source": [
        ""
      ],
      "execution_count": null,
      "outputs": []
    },
    {
      "cell_type": "markdown",
      "metadata": {
        "id": "Efad26QIlqOV"
      },
      "source": [
        "## 스타일(Style)"
      ]
    },
    {
      "cell_type": "code",
      "metadata": {
        "id": "5t0IJI_V7wvY"
      },
      "source": [
        ""
      ],
      "execution_count": null,
      "outputs": []
    },
    {
      "cell_type": "code",
      "metadata": {
        "id": "fbZvBxq7MoN8"
      },
      "source": [
        ""
      ],
      "execution_count": null,
      "outputs": []
    },
    {
      "cell_type": "markdown",
      "metadata": {
        "id": "zwGydvBLmcih"
      },
      "source": [
        "## 플롯 종류\n",
        "\n",
        "| 함수 | 설명 |\n",
        "|------|------|\n",
        "| `bar` | 막대 플롯(bar plot) 생성 |\n",
        "| `barbs` | barbs의 2차원 필드 그리기 |\n",
        "| `boxplot` | 상자 및 수염 플롯 생성 |\n",
        "| `cohere` | x와 y의 일관성 시각화 그리기 |\n",
        "| `contour` | 플롯 등고선 |\n",
        "| `errorbar` | 오류 막대 그래프 |\n",
        "| `hexbin` | 육각형 binning 플롯 생성 |\n",
        "| `hist` | 히스토그램 플롯 |\n",
        "| `imshow` | 축에 이미지 표시 |\n",
        "| `pcolor` | 2차원 배열의 유사 플롯 생성 |\n",
        "| `pcolormesh` | 사각 망사 그래프 |\n",
        "| `pie` | 파이 차트 플롯 |\n",
        "| `plot` | 플롯 라인 또는 마커 |\n",
        "| `quiver` | 화살표의 2차원 필드 생성 |\n",
        "| `sankey` | Sankey 흐름도 생성 |\n",
        "| `scatter` | x대 y의 산점도 생성 |\n",
        "| `stem` | 줄기 그래프 생성 |\n",
        "| `streamplot` | 벡터 흐름의 스트림 라인 그리기 |"
      ]
    },
    {
      "cell_type": "markdown",
      "metadata": {
        "id": "nwBJdyNQEcV8"
      },
      "source": [
        "## 막대 플롯(Barplot)"
      ]
    },
    {
      "cell_type": "code",
      "metadata": {
        "id": "VTccbKFsEzPJ"
      },
      "source": [
        ""
      ],
      "execution_count": null,
      "outputs": []
    },
    {
      "cell_type": "code",
      "metadata": {
        "id": "0zbW8nDj52vK"
      },
      "source": [
        ""
      ],
      "execution_count": null,
      "outputs": []
    },
    {
      "cell_type": "code",
      "metadata": {
        "id": "a_Sw18uXIdZL"
      },
      "source": [
        ""
      ],
      "execution_count": null,
      "outputs": []
    },
    {
      "cell_type": "code",
      "metadata": {
        "id": "k7T9R6tjIksz"
      },
      "source": [
        ""
      ],
      "execution_count": null,
      "outputs": []
    },
    {
      "cell_type": "code",
      "metadata": {
        "id": "XgeLNCaMyJkx"
      },
      "source": [
        ""
      ],
      "execution_count": null,
      "outputs": []
    },
    {
      "cell_type": "markdown",
      "metadata": {
        "id": "oNBHQGHw3Eo0"
      },
      "source": [
        "## 스템 플롯(Stem Plot)"
      ]
    },
    {
      "cell_type": "code",
      "metadata": {
        "id": "IcLZPwqw3G3Q"
      },
      "source": [
        ""
      ],
      "execution_count": null,
      "outputs": []
    },
    {
      "cell_type": "markdown",
      "metadata": {
        "id": "0_EgxuzNwUb4"
      },
      "source": [
        "## 박스플롯(Box Plot)"
      ]
    },
    {
      "cell_type": "code",
      "metadata": {
        "id": "VZfM8YbUwUGh"
      },
      "source": [
        ""
      ],
      "execution_count": null,
      "outputs": []
    },
    {
      "cell_type": "markdown",
      "metadata": {
        "id": "nztv8Tcs8iop"
      },
      "source": [
        "## 산점도(Scatter Plot)"
      ]
    },
    {
      "cell_type": "code",
      "metadata": {
        "id": "0dXrcf4Y7uGd"
      },
      "source": [
        ""
      ],
      "execution_count": null,
      "outputs": []
    },
    {
      "cell_type": "code",
      "metadata": {
        "id": "9niBe5wF8w2f"
      },
      "source": [
        ""
      ],
      "execution_count": null,
      "outputs": []
    },
    {
      "cell_type": "code",
      "metadata": {
        "id": "eJNcDFxY-IKz"
      },
      "source": [
        ""
      ],
      "execution_count": null,
      "outputs": []
    },
    {
      "cell_type": "code",
      "metadata": {
        "id": "HPhwc6a7_qi9"
      },
      "source": [
        ""
      ],
      "execution_count": null,
      "outputs": []
    },
    {
      "cell_type": "code",
      "metadata": {
        "id": "tAmdRO3ByrJo"
      },
      "source": [
        ""
      ],
      "execution_count": null,
      "outputs": []
    },
    {
      "cell_type": "code",
      "metadata": {
        "id": "DRW8I4geBTH7"
      },
      "source": [
        ""
      ],
      "execution_count": null,
      "outputs": []
    },
    {
      "cell_type": "markdown",
      "metadata": {
        "id": "09PGYXlKBaVJ"
      },
      "source": [
        "* `cmap`: color map: https://matplotlib.org/3.1.0/tutorials/colors/colormaps.html"
      ]
    },
    {
      "cell_type": "code",
      "metadata": {
        "id": "vuAfjGHOCz_m"
      },
      "source": [
        ""
      ],
      "execution_count": null,
      "outputs": []
    },
    {
      "cell_type": "code",
      "metadata": {
        "id": "fg66LWrc8Qo3"
      },
      "source": [
        ""
      ],
      "execution_count": null,
      "outputs": []
    },
    {
      "cell_type": "markdown",
      "metadata": {
        "id": "W9oUyZ4KzGG9"
      },
      "source": [
        "## x와 y의 일관성 차트(coherence)"
      ]
    },
    {
      "cell_type": "code",
      "metadata": {
        "id": "jQH2efY089OZ"
      },
      "source": [
        ""
      ],
      "execution_count": null,
      "outputs": []
    },
    {
      "cell_type": "code",
      "metadata": {
        "id": "_Nkf9De5zINk"
      },
      "source": [
        ""
      ],
      "execution_count": null,
      "outputs": []
    },
    {
      "cell_type": "code",
      "metadata": {
        "id": "_QMq21pU9FRT"
      },
      "source": [
        ""
      ],
      "execution_count": null,
      "outputs": []
    },
    {
      "cell_type": "code",
      "metadata": {
        "id": "t_HGbKEG1cxb"
      },
      "source": [
        ""
      ],
      "execution_count": null,
      "outputs": []
    },
    {
      "cell_type": "markdown",
      "metadata": {
        "id": "SVsXRXfnEyCm"
      },
      "source": [
        "## 오차 막대(Error Bar)\n",
        "\n",
        "* 예상 측정 오차를 나타내는 데 사용\n",
        "* 오차 막대는 값의 불확실성을 나타냄"
      ]
    },
    {
      "cell_type": "code",
      "metadata": {
        "id": "q11mEAVREKS5"
      },
      "source": [
        ""
      ],
      "execution_count": null,
      "outputs": []
    },
    {
      "cell_type": "code",
      "metadata": {
        "id": "4V1c9mC8HCVC"
      },
      "source": [
        ""
      ],
      "execution_count": null,
      "outputs": []
    },
    {
      "cell_type": "markdown",
      "metadata": {
        "id": "IFj99Cde0ZXx"
      },
      "source": [
        "## 2차원 유사 플롯(pcolor/pcolormesh)"
      ]
    },
    {
      "cell_type": "code",
      "metadata": {
        "id": "mdG3rJKY0Z0o"
      },
      "source": [
        ""
      ],
      "execution_count": null,
      "outputs": []
    },
    {
      "cell_type": "code",
      "metadata": {
        "id": "jK4660hI1i__"
      },
      "source": [
        ""
      ],
      "execution_count": null,
      "outputs": []
    },
    {
      "cell_type": "markdown",
      "metadata": {
        "id": "wFReSXRMLBPP"
      },
      "source": [
        "## 히스토그램, 구간화, 밀도(Histograms, Binnings, and Density)"
      ]
    },
    {
      "cell_type": "code",
      "metadata": {
        "id": "-btNw6NKK8Qm"
      },
      "source": [
        ""
      ],
      "execution_count": null,
      "outputs": []
    },
    {
      "cell_type": "code",
      "metadata": {
        "id": "xs84TSh3LJKQ"
      },
      "source": [
        ""
      ],
      "execution_count": null,
      "outputs": []
    },
    {
      "cell_type": "code",
      "metadata": {
        "id": "TfH0v6Z_LKu0"
      },
      "source": [
        ""
      ],
      "execution_count": null,
      "outputs": []
    },
    {
      "cell_type": "code",
      "metadata": {
        "id": "PbLnkTT7LL7i"
      },
      "source": [
        ""
      ],
      "execution_count": null,
      "outputs": []
    },
    {
      "cell_type": "code",
      "metadata": {
        "id": "jxe-xLfXLrUm"
      },
      "source": [
        ""
      ],
      "execution_count": null,
      "outputs": []
    },
    {
      "cell_type": "markdown",
      "metadata": {
        "id": "0KkbEcaBKkW3"
      },
      "source": [
        "## 밀도와 등고선 플롯(Density and Contour Plots)"
      ]
    },
    {
      "cell_type": "code",
      "metadata": {
        "id": "9Bi5P8e2QrPU"
      },
      "source": [
        ""
      ],
      "execution_count": null,
      "outputs": []
    },
    {
      "cell_type": "code",
      "metadata": {
        "id": "4X6EFOcm7CJK"
      },
      "source": [
        ""
      ],
      "execution_count": null,
      "outputs": []
    },
    {
      "cell_type": "code",
      "metadata": {
        "id": "cDqxQefTQGMP"
      },
      "source": [
        ""
      ],
      "execution_count": null,
      "outputs": []
    },
    {
      "cell_type": "code",
      "metadata": {
        "id": "z3-9Lsk8YNqb"
      },
      "source": [
        ""
      ],
      "execution_count": null,
      "outputs": []
    },
    {
      "cell_type": "code",
      "metadata": {
        "id": "iQGZsr7eKv6V"
      },
      "source": [
        ""
      ],
      "execution_count": null,
      "outputs": []
    },
    {
      "cell_type": "markdown",
      "metadata": {
        "id": "a3AcXeOk7gBR"
      },
      "source": [
        "## 스트림 플롯(Stream Plot)"
      ]
    },
    {
      "cell_type": "code",
      "metadata": {
        "id": "UA9fiub_0i8A"
      },
      "source": [
        ""
      ],
      "execution_count": null,
      "outputs": []
    },
    {
      "cell_type": "code",
      "metadata": {
        "id": "7RVp6Ola7fiE"
      },
      "source": [
        ""
      ],
      "execution_count": null,
      "outputs": []
    },
    {
      "cell_type": "markdown",
      "metadata": {
        "id": "zIHaRQVO2pey"
      },
      "source": [
        "## 화살표 2차원 필드(quiver)"
      ]
    },
    {
      "cell_type": "code",
      "metadata": {
        "id": "tLNYPQNc2p3B"
      },
      "source": [
        ""
      ],
      "execution_count": null,
      "outputs": []
    },
    {
      "cell_type": "markdown",
      "metadata": {
        "id": "ALkHP7oJ6VGM"
      },
      "source": [
        "## 파이 차트(Pie Chart)\n",
        "\n",
        "* 원그래프, 파이차트는 전체에 대한 각 부분의 비율을 부채꼴 모양으로 나타낸 그래프\n",
        "* 각 부채꼴의 중심각이 전체에서 차지하는 비율을 나타내며, 비율을 한눈에 볼 수 있다는 장점\n",
        "* 전체적인 비율을 쉽게 파악할 수 있어서 언론사에서 통계 수치를 공개할 때 자주 활용"
      ]
    },
    {
      "cell_type": "code",
      "metadata": {
        "id": "I7hdUGr-61Vh"
      },
      "source": [
        ""
      ],
      "execution_count": null,
      "outputs": []
    },
    {
      "cell_type": "code",
      "metadata": {
        "id": "Ov6RqCrA9KnE"
      },
      "source": [
        ""
      ],
      "execution_count": null,
      "outputs": []
    },
    {
      "cell_type": "markdown",
      "metadata": {
        "id": "A5EtMpxuGcvy"
      },
      "source": [
        "## 레이다 차트(Radar Chart)\n",
        "\n",
        "* 어떤 측정 목표에 대한 평가항목이 여러 개일 때 항목 수에 따라 원을 같은 간격으로 나누고, 중심으로부터 일정 간격으로 동심으로 척도를 재는 칸을 나누어 각 평가항목의 정량화된 점수에 따라 그 위치에 점을 찍고 평가항목간 점을 이어 선으로 만들어 항목 간 균형을 한눈에 볼 수 있도록 해주는 도표\n",
        "* 여러 측정 목표를 함께 겹쳐 놓아 비교하기에도 편리\n",
        "각 항목 간 비율뿐만 아니라 균형과 경향을 직관적으로 알 수 있어 편리"
      ]
    },
    {
      "cell_type": "code",
      "metadata": {
        "id": "Th6i-vE7GeoZ"
      },
      "source": [
        ""
      ],
      "execution_count": null,
      "outputs": []
    },
    {
      "cell_type": "markdown",
      "metadata": {
        "id": "MoZRQaHxHst1"
      },
      "source": [
        "## 생키 다이어그램(Sankey Diagram)\n",
        "\n",
        "* 흐름(Flow) 다이어그램의 한 종류로서 그 화살표의 너비로 흐름의 양을 비율적으로 보여줌"
      ]
    },
    {
      "cell_type": "code",
      "metadata": {
        "id": "cpmZh161Hvs2"
      },
      "source": [
        ""
      ],
      "execution_count": null,
      "outputs": []
    },
    {
      "cell_type": "markdown",
      "metadata": {
        "id": "28tiDunhQ4Cc"
      },
      "source": [
        "## 3차원 플로팅(Three-Dimensional Plotting)"
      ]
    },
    {
      "cell_type": "code",
      "metadata": {
        "id": "GcmZDt8GQzGg"
      },
      "source": [
        ""
      ],
      "execution_count": null,
      "outputs": []
    },
    {
      "cell_type": "code",
      "metadata": {
        "id": "0g4TUQfeRBGt"
      },
      "source": [
        ""
      ],
      "execution_count": null,
      "outputs": []
    },
    {
      "cell_type": "code",
      "metadata": {
        "id": "rOvnRYoM0Zbj"
      },
      "source": [
        ""
      ],
      "execution_count": null,
      "outputs": []
    },
    {
      "cell_type": "code",
      "metadata": {
        "id": "tN-UPaq0RB72"
      },
      "source": [
        ""
      ],
      "execution_count": null,
      "outputs": []
    },
    {
      "cell_type": "code",
      "metadata": {
        "id": "sxVBtuiLRDQ4"
      },
      "source": [
        ""
      ],
      "execution_count": null,
      "outputs": []
    },
    {
      "cell_type": "code",
      "metadata": {
        "id": "kPG0EvFPRE0f"
      },
      "source": [
        ""
      ],
      "execution_count": null,
      "outputs": []
    },
    {
      "cell_type": "code",
      "metadata": {
        "id": "vQxjjJCCRFhf"
      },
      "source": [
        ""
      ],
      "execution_count": null,
      "outputs": []
    },
    {
      "cell_type": "code",
      "metadata": {
        "id": "G-YMi1gIRG0I"
      },
      "source": [
        ""
      ],
      "execution_count": null,
      "outputs": []
    },
    {
      "cell_type": "code",
      "metadata": {
        "id": "sLVBVXJYRIKg"
      },
      "source": [
        ""
      ],
      "execution_count": null,
      "outputs": []
    },
    {
      "cell_type": "code",
      "metadata": {
        "id": "ZDuldw6KRJT_"
      },
      "source": [
        ""
      ],
      "execution_count": null,
      "outputs": []
    },
    {
      "cell_type": "code",
      "metadata": {
        "id": "pKnaAeijRKfz"
      },
      "source": [
        ""
      ],
      "execution_count": null,
      "outputs": []
    },
    {
      "cell_type": "code",
      "metadata": {
        "id": "_j5qI5uLRLtt"
      },
      "source": [
        ""
      ],
      "execution_count": null,
      "outputs": []
    },
    {
      "cell_type": "code",
      "metadata": {
        "id": "pOsMXPluRMnm"
      },
      "source": [
        ""
      ],
      "execution_count": null,
      "outputs": []
    },
    {
      "cell_type": "code",
      "metadata": {
        "id": "_a9CvXL95mpT"
      },
      "source": [
        ""
      ],
      "execution_count": null,
      "outputs": []
    },
    {
      "cell_type": "markdown",
      "metadata": {
        "id": "GQFW5dyhFFTQ"
      },
      "source": [
        "## 참고문헌\n",
        "\n",
        "* Matplotlib, https://matplotlib.org/\n",
        "* Igor Milovanovi, \"Python Data Visualization Cookbook\", Packt\n",
        "* Jake VanderPlas, \"Python Data Science Handbook\", O'Reilly\n",
        "* Wes Mckinney, \"Python for Data Analysis\", O'Reilly"
      ]
    }
  ]
}