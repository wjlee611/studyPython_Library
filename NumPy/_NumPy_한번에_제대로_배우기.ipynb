{
  "cells": [
    {
      "cell_type": "markdown",
      "metadata": {
        "colab_type": "text",
        "id": "view-in-github"
      },
      "source": [
        "<a href=\"https://colab.research.google.com/github/wjlee611/studyPython_Library/blob/main/_NumPy_%ED%95%9C%EB%B2%88%EC%97%90_%EC%A0%9C%EB%8C%80%EB%A1%9C_%EB%B0%B0%EC%9A%B0%EA%B8%B0.ipynb\" target=\"_parent\"><img src=\"https://colab.research.google.com/assets/colab-badge.svg\" alt=\"Open In Colab\"/></a>"
      ]
    },
    {
      "cell_type": "markdown",
      "metadata": {
        "id": "J_FfQuu2Tb30"
      },
      "source": [
        "# NumPy 한번에 제대로 배우기"
      ]
    },
    {
      "cell_type": "markdown",
      "metadata": {
        "id": "Zgrrh9T2vs8u"
      },
      "source": [
        "\n",
        "\n",
        "---\n",
        "\n"
      ]
    },
    {
      "cell_type": "markdown",
      "metadata": {
        "id": "oR5hNBH-Retd"
      },
      "source": [
        "## NumPy 특징\n",
        "\n",
        "* Numerical Python의 약자\n",
        "* 고성능 과학 계산용 패키지로 강력한 N차원 배열 객체\n",
        "* 범용적 데이터 처리에 사용 가능한 다차원 컨테이너\n",
        "* 정교한 브로드캐스팅(broadcasting) 기능\n",
        "* 파이썬의 자료형 list와 비슷하지만, 더 빠르고 메모리를 효율적으로 관리\n",
        "* 반복문 없이 데이터 배열에 대한 처리를 지원하여 빠르고 편리\n",
        "* 데이터 과학 도구에 대한 생태계의 핵심을 이루고 있음"
      ]
    },
    {
      "cell_type": "code",
      "execution_count": 1,
      "metadata": {
        "id": "R9klTdhLQ564"
      },
      "outputs": [
        {
          "data": {
            "text/plain": [
              "'1.21.2'"
            ]
          },
          "execution_count": 1,
          "metadata": {},
          "output_type": "execute_result"
        }
      ],
      "source": [
        "import numpy as np\n",
        "np.__version__"
      ]
    },
    {
      "cell_type": "markdown",
      "metadata": {
        "id": "2hSWC5ptGyWP"
      },
      "source": [
        "\n",
        "\n",
        "---\n",
        "\n"
      ]
    },
    {
      "cell_type": "markdown",
      "metadata": {
        "id": "1kgkJZFlVUqk"
      },
      "source": [
        "## 배열 생성"
      ]
    },
    {
      "cell_type": "markdown",
      "metadata": {
        "id": "5eQ4sAkMbzm0"
      },
      "source": [
        "### 리스트로 배열 만들기\n"
      ]
    },
    {
      "cell_type": "code",
      "execution_count": 2,
      "metadata": {
        "id": "Mtod2jcPWVvV"
      },
      "outputs": [
        {
          "name": "stdout",
          "output_type": "stream",
          "text": [
            "[1 2 3 4 5]\n",
            "<class 'numpy.ndarray'>\n",
            "(5,)\n",
            "1 2 3 4 5\n",
            "[4 5 3 4 5]\n"
          ]
        }
      ],
      "source": [
        "a1 = np.array([1, 2, 3, 4, 5])\n",
        "print(a1)\n",
        "print(type(a1))\n",
        "print(a1.shape)\n",
        "print(a1[0], a1[1], a1[2], a1[3], a1[4])\n",
        "a1[0] = 4\n",
        "a1[1] = 5\n",
        "print(a1)"
      ]
    },
    {
      "cell_type": "code",
      "execution_count": 3,
      "metadata": {
        "id": "vp9tkHH8esXT"
      },
      "outputs": [
        {
          "name": "stdout",
          "output_type": "stream",
          "text": [
            "[[1 2 3]\n",
            " [4 5 6]\n",
            " [7 8 9]]\n",
            "(3, 3)\n",
            "1 5 9\n"
          ]
        }
      ],
      "source": [
        "a2 = np.array([[1, 2, 3], [4, 5, 6], [7, 8, 9]])\n",
        "print(a2)\n",
        "print(a2.shape)\n",
        "print(a2[0, 0], a2[1, 1], a2[2][2])"
      ]
    },
    {
      "cell_type": "code",
      "execution_count": 4,
      "metadata": {
        "id": "Baj4gZ2meuJu"
      },
      "outputs": [
        {
          "name": "stdout",
          "output_type": "stream",
          "text": [
            "[[[1 2 3]\n",
            "  [4 5 6]\n",
            "  [7 8 9]]\n",
            "\n",
            " [[1 2 3]\n",
            "  [4 5 6]\n",
            "  [7 8 9]]\n",
            "\n",
            " [[1 2 3]\n",
            "  [4 5 6]\n",
            "  [7 8 9]]]\n",
            "(3, 3, 3)\n"
          ]
        }
      ],
      "source": [
        "a3 = np.array([[[1, 2, 3], [4, 5, 6], [7, 8, 9]],\n",
        "                [[1, 2, 3], [4, 5, 6], [7, 8, 9]],\n",
        "                [[1, 2, 3], [4, 5, 6], [7, 8, 9]]])\n",
        "print(a3)\n",
        "print(a3.shape)"
      ]
    },
    {
      "cell_type": "markdown",
      "metadata": {
        "id": "PNkKtw4CoSDB"
      },
      "source": [
        "### 배열 생성 및 초기화"
      ]
    },
    {
      "cell_type": "markdown",
      "metadata": {
        "id": "mJVii5p_VfgM"
      },
      "source": [
        "* `zeros()`: 모든 요소를 0으로 초기화"
      ]
    },
    {
      "cell_type": "code",
      "execution_count": 5,
      "metadata": {
        "id": "W_SF1tVoVTf1"
      },
      "outputs": [
        {
          "data": {
            "text/plain": [
              "array([0., 0., 0., 0., 0., 0., 0., 0., 0., 0.])"
            ]
          },
          "execution_count": 5,
          "metadata": {},
          "output_type": "execute_result"
        }
      ],
      "source": [
        "np.zeros(10)"
      ]
    },
    {
      "cell_type": "markdown",
      "metadata": {
        "id": "LjYFQrODVqhX"
      },
      "source": [
        "* `ones()`: 모든 요소를 1로 초기화"
      ]
    },
    {
      "cell_type": "code",
      "execution_count": 6,
      "metadata": {
        "id": "MURoqsMsVeUw"
      },
      "outputs": [
        {
          "data": {
            "text/plain": [
              "array([[1., 1., 1.],\n",
              "       [1., 1., 1.],\n",
              "       [1., 1., 1.]])"
            ]
          },
          "execution_count": 6,
          "metadata": {},
          "output_type": "execute_result"
        }
      ],
      "source": [
        "np.ones((3, 3))"
      ]
    },
    {
      "cell_type": "markdown",
      "metadata": {
        "id": "jnmm3Cj-cGtx"
      },
      "source": [
        "* `full()`: 모든 요소를 지정한 값으로 초기화"
      ]
    },
    {
      "cell_type": "code",
      "execution_count": 7,
      "metadata": {
        "id": "oscabrdcV7Ny"
      },
      "outputs": [
        {
          "data": {
            "text/plain": [
              "array([[1.23, 1.23, 1.23],\n",
              "       [1.23, 1.23, 1.23],\n",
              "       [1.23, 1.23, 1.23]])"
            ]
          },
          "execution_count": 7,
          "metadata": {},
          "output_type": "execute_result"
        }
      ],
      "source": [
        "np.full((3, 3), 1.23)"
      ]
    },
    {
      "cell_type": "markdown",
      "metadata": {
        "id": "0SRI4jbmlIKc"
      },
      "source": [
        "* `eye()`: 단위행렬(identity matrix) 생성\n",
        "  + 주대각선의 원소가 모두 1이고 나머지 원소는 모두 0인 정사각 행렬"
      ]
    },
    {
      "cell_type": "code",
      "execution_count": 8,
      "metadata": {
        "id": "VceBVLLjk9o5"
      },
      "outputs": [
        {
          "data": {
            "text/plain": [
              "array([[1., 0., 0.],\n",
              "       [0., 1., 0.],\n",
              "       [0., 0., 1.]])"
            ]
          },
          "execution_count": 8,
          "metadata": {},
          "output_type": "execute_result"
        }
      ],
      "source": [
        "np.eye(3)"
      ]
    },
    {
      "cell_type": "markdown",
      "metadata": {
        "id": "7CCH1ZMT5R02"
      },
      "source": [
        "* `tri()`: 삼각행렬 생성"
      ]
    },
    {
      "cell_type": "code",
      "execution_count": 9,
      "metadata": {
        "id": "mLe2Bhj05VYu"
      },
      "outputs": [
        {
          "data": {
            "text/plain": [
              "array([[1., 0., 0.],\n",
              "       [1., 1., 0.],\n",
              "       [1., 1., 1.]])"
            ]
          },
          "execution_count": 9,
          "metadata": {},
          "output_type": "execute_result"
        }
      ],
      "source": [
        "np.tri(3)"
      ]
    },
    {
      "cell_type": "markdown",
      "metadata": {
        "id": "ObZRA4HclZlO"
      },
      "source": [
        "* `empty()`: 초기화되지 않은 배열 생성\n",
        "  + 초기화가 없어서 배열 생성비용 저렴하고 빠름\n",
        "  + 초기화되지 않아서 기존 메모리 위치에 존재하는 값이 있음"
      ]
    },
    {
      "cell_type": "code",
      "execution_count": 10,
      "metadata": {
        "id": "I3SoFgiglAkz"
      },
      "outputs": [
        {
          "data": {
            "text/plain": [
              "array([0., 0., 0., 0., 0., 0., 0., 0., 0., 0.])"
            ]
          },
          "execution_count": 10,
          "metadata": {},
          "output_type": "execute_result"
        }
      ],
      "source": [
        "np.empty(10)"
      ]
    },
    {
      "cell_type": "markdown",
      "metadata": {
        "id": "p3uSl1Ccmi5_"
      },
      "source": [
        "* `_like()`: 지정된 배열과 shape가 같은 행렬 생성\n",
        "  + `np.zeros_like()`\n",
        "  + `np.ones_like()`\n",
        "  + `np.full_like()`\n",
        "  + `np.empty_like()`"
      ]
    },
    {
      "cell_type": "code",
      "execution_count": 11,
      "metadata": {
        "id": "Ad5RskRRlZLs"
      },
      "outputs": [
        {
          "name": "stdout",
          "output_type": "stream",
          "text": [
            "[4 5 3 4 5]\n"
          ]
        },
        {
          "data": {
            "text/plain": [
              "array([0, 0, 0, 0, 0])"
            ]
          },
          "execution_count": 11,
          "metadata": {},
          "output_type": "execute_result"
        }
      ],
      "source": [
        "print(a1)\n",
        "np.zeros_like(a1)"
      ]
    },
    {
      "cell_type": "code",
      "execution_count": 12,
      "metadata": {
        "id": "KChUHsG003Nf"
      },
      "outputs": [
        {
          "name": "stdout",
          "output_type": "stream",
          "text": [
            "[[1 2 3]\n",
            " [4 5 6]\n",
            " [7 8 9]]\n"
          ]
        },
        {
          "data": {
            "text/plain": [
              "array([[0, 0, 0],\n",
              "       [0, 0, 0],\n",
              "       [0, 0, 0]])"
            ]
          },
          "execution_count": 12,
          "metadata": {},
          "output_type": "execute_result"
        }
      ],
      "source": [
        "print(a2)\n",
        "np.full_like(a2, 0.01)"
      ]
    },
    {
      "cell_type": "code",
      "execution_count": 13,
      "metadata": {
        "id": "PUnDz6b305Gg"
      },
      "outputs": [
        {
          "name": "stdout",
          "output_type": "stream",
          "text": [
            "[[[1 2 3]\n",
            "  [4 5 6]\n",
            "  [7 8 9]]\n",
            "\n",
            " [[1 2 3]\n",
            "  [4 5 6]\n",
            "  [7 8 9]]\n",
            "\n",
            " [[1 2 3]\n",
            "  [4 5 6]\n",
            "  [7 8 9]]]\n"
          ]
        },
        {
          "data": {
            "text/plain": [
              "array([[[   0, 2043,    0],\n",
              "        [   0,    0,    0],\n",
              "        [   0,    0,    0]],\n",
              "\n",
              "       [[   0,    0,    0],\n",
              "        [   0,    0,    0],\n",
              "        [   0,    0,    0]],\n",
              "\n",
              "       [[   0,    0,    0],\n",
              "        [   0,    0,    0],\n",
              "        [   0,    0,    0]]])"
            ]
          },
          "execution_count": 13,
          "metadata": {},
          "output_type": "execute_result"
        }
      ],
      "source": [
        "print(a3)\n",
        "np.empty_like(a3)"
      ]
    },
    {
      "cell_type": "markdown",
      "metadata": {
        "id": "apoksGJNrn1z"
      },
      "source": [
        "### 생성한 값으로 배열 생성"
      ]
    },
    {
      "cell_type": "markdown",
      "metadata": {
        "id": "H3nmLct8cnV8"
      },
      "source": [
        "* `arange()`: 정수 범위로 배열 생성"
      ]
    },
    {
      "cell_type": "code",
      "execution_count": 14,
      "metadata": {
        "id": "mANy4WY4cDKa"
      },
      "outputs": [
        {
          "data": {
            "text/plain": [
              "array([ 0,  2,  4,  6,  8, 10, 12, 14, 16, 18, 20, 22, 24, 26, 28])"
            ]
          },
          "execution_count": 14,
          "metadata": {},
          "output_type": "execute_result"
        }
      ],
      "source": [
        "np.arange(0, 30, 2)"
      ]
    },
    {
      "cell_type": "markdown",
      "metadata": {
        "id": "s5kET1e6itlo"
      },
      "source": [
        "* `linspace()`: 범위 내에서 균등 간격의 배열 생성"
      ]
    },
    {
      "cell_type": "code",
      "execution_count": 15,
      "metadata": {
        "id": "u4q9gI7Zcltz"
      },
      "outputs": [
        {
          "data": {
            "text/plain": [
              "array([0.  , 0.25, 0.5 , 0.75, 1.  ])"
            ]
          },
          "execution_count": 15,
          "metadata": {},
          "output_type": "execute_result"
        }
      ],
      "source": [
        "np.linspace(0, 1, 5)"
      ]
    },
    {
      "cell_type": "markdown",
      "metadata": {
        "id": "Eq26d7T3nnAH"
      },
      "source": [
        "* `logspace()`: 범위 내에서 균등간격으로 로그 스케일로 배열 생성"
      ]
    },
    {
      "cell_type": "code",
      "execution_count": 16,
      "metadata": {
        "id": "-O29WBVEnyXX"
      },
      "outputs": [
        {
          "data": {
            "text/plain": [
              "array([ 1.        ,  1.77827941,  3.16227766,  5.62341325, 10.        ])"
            ]
          },
          "execution_count": 16,
          "metadata": {},
          "output_type": "execute_result"
        }
      ],
      "source": [
        "np.logspace(0, 1, 5)"
      ]
    },
    {
      "cell_type": "markdown",
      "metadata": {
        "id": "6_88s4_Jr7fO"
      },
      "source": [
        "### 랜덤값으로 배열 생성\n"
      ]
    },
    {
      "cell_type": "markdown",
      "metadata": {
        "id": "CoK1cVUkjNMg"
      },
      "source": [
        "* `random.random()`: 랜덤한 수의 배열 생성"
      ]
    },
    {
      "cell_type": "code",
      "execution_count": 17,
      "metadata": {
        "id": "qJwccKEnjMze"
      },
      "outputs": [
        {
          "data": {
            "text/plain": [
              "array([[0.25467612, 0.68582637, 0.11035426],\n",
              "       [0.12506301, 0.96623594, 0.97252206],\n",
              "       [0.38437746, 0.00442662, 0.35053452]])"
            ]
          },
          "execution_count": 17,
          "metadata": {},
          "output_type": "execute_result"
        }
      ],
      "source": [
        "np.random.random((3, 3))"
      ]
    },
    {
      "cell_type": "markdown",
      "metadata": {
        "id": "BYsAVwA1kvDI"
      },
      "source": [
        "* `random.randint()`: 일정 구간의 랜덤 정수의 배열 생성"
      ]
    },
    {
      "cell_type": "code",
      "execution_count": 18,
      "metadata": {
        "id": "oR-UszZ_jqfQ"
      },
      "outputs": [
        {
          "data": {
            "text/plain": [
              "array([[3, 1, 8],\n",
              "       [9, 9, 7],\n",
              "       [4, 9, 8]])"
            ]
          },
          "execution_count": 18,
          "metadata": {},
          "output_type": "execute_result"
        }
      ],
      "source": [
        "np.random.randint(0, 10, (3, 3))"
      ]
    },
    {
      "cell_type": "markdown",
      "metadata": {
        "id": "2r557WHsjrL3"
      },
      "source": [
        "* `random.normal()`: 정규분포(normal distribution)를 고려한 랜덤한 수의 배열 생성\n",
        "* 평균=0, 표준편차=1, 3 x 3 배열"
      ]
    },
    {
      "cell_type": "code",
      "execution_count": 19,
      "metadata": {
        "id": "Oan3bSpHi2Wq"
      },
      "outputs": [
        {
          "data": {
            "text/plain": [
              "array([[-1.69439302,  1.01621519,  0.21726689],\n",
              "       [ 1.90006241, -2.11312543,  0.04970945],\n",
              "       [-0.04226157,  0.1640513 , -0.26914185]])"
            ]
          },
          "execution_count": 19,
          "metadata": {},
          "output_type": "execute_result"
        }
      ],
      "source": [
        "np.random.normal(0, 1, (3, 3))"
      ]
    },
    {
      "cell_type": "markdown",
      "metadata": {
        "id": "fPO-D1rHsrFw"
      },
      "source": [
        "* `random.rand()`: 균등분포(uniform distribution)를 고려한 랜덤한 수의 배열 생성"
      ]
    },
    {
      "cell_type": "code",
      "execution_count": 20,
      "metadata": {
        "id": "DxiyEjnXnDUT"
      },
      "outputs": [
        {
          "data": {
            "text/plain": [
              "array([[0.46776116, 0.3545587 , 0.01584942],\n",
              "       [0.28800593, 0.62713414, 0.39766951],\n",
              "       [0.65225295, 0.25523184, 0.51856602]])"
            ]
          },
          "execution_count": 20,
          "metadata": {},
          "output_type": "execute_result"
        }
      ],
      "source": [
        "np.random.rand(3, 3)"
      ]
    },
    {
      "cell_type": "markdown",
      "metadata": {
        "id": "IegH2dsPLQgd"
      },
      "source": [
        "* `random.randn()`: 표준 정규 분포(standard normal distribution)를 고려한 랜덤한 수의 배열 생성"
      ]
    },
    {
      "cell_type": "code",
      "execution_count": 21,
      "metadata": {
        "id": "V61VHa-JLIma"
      },
      "outputs": [
        {
          "data": {
            "text/plain": [
              "array([[ 0.14207253, -0.18648963,  2.65258326],\n",
              "       [-0.50175214, -0.8682768 ,  0.40708209],\n",
              "       [-0.60286462, -2.02617983, -0.42427876]])"
            ]
          },
          "execution_count": 21,
          "metadata": {},
          "output_type": "execute_result"
        }
      ],
      "source": [
        "np.random.randn(3, 3)"
      ]
    },
    {
      "cell_type": "markdown",
      "metadata": {
        "id": "5ts0cYLQL_pT"
      },
      "source": [
        "### 표준 데이터 타입"
      ]
    },
    {
      "cell_type": "code",
      "execution_count": 22,
      "metadata": {
        "id": "rxqTqAFKL73y"
      },
      "outputs": [
        {
          "data": {
            "text/plain": [
              "array([0, 0, 0, 0, 0, 0, 0, 0, 0, 0, 0, 0, 0, 0, 0, 0, 0, 0, 0, 0])"
            ]
          },
          "execution_count": 22,
          "metadata": {},
          "output_type": "execute_result"
        }
      ],
      "source": [
        "np.zeros(20, dtype = int)"
      ]
    },
    {
      "cell_type": "code",
      "execution_count": 23,
      "metadata": {
        "id": "o9TuSl6HIsXr"
      },
      "outputs": [
        {
          "data": {
            "text/plain": [
              "array([[ True,  True,  True],\n",
              "       [ True,  True,  True],\n",
              "       [ True,  True,  True]])"
            ]
          },
          "execution_count": 23,
          "metadata": {},
          "output_type": "execute_result"
        }
      ],
      "source": [
        "np.ones((3, 3), dtype = bool)"
      ]
    },
    {
      "cell_type": "code",
      "execution_count": 24,
      "metadata": {
        "id": "w-TciNfzEhY0"
      },
      "outputs": [
        {
          "data": {
            "text/plain": [
              "array([[1.23, 1.23, 1.23],\n",
              "       [1.23, 1.23, 1.23],\n",
              "       [1.23, 1.23, 1.23]])"
            ]
          },
          "execution_count": 24,
          "metadata": {},
          "output_type": "execute_result"
        }
      ],
      "source": [
        "np.full((3, 3), 1.23, dtype = float)"
      ]
    },
    {
      "cell_type": "markdown",
      "metadata": {
        "id": "1qFumu-p-0mQ"
      },
      "source": [
        "### 날짜/시간 배열 생성\n"
      ]
    },
    {
      "cell_type": "code",
      "execution_count": 25,
      "metadata": {
        "id": "D8ozvTUf-6Rr"
      },
      "outputs": [
        {
          "data": {
            "text/plain": [
              "array('2022-02-24', dtype='datetime64[D]')"
            ]
          },
          "execution_count": 25,
          "metadata": {},
          "output_type": "execute_result"
        }
      ],
      "source": [
        "date = np.array('2022-02-24', dtype=np.datetime64)\n",
        "date"
      ]
    },
    {
      "cell_type": "code",
      "execution_count": 26,
      "metadata": {
        "id": "XIjLUkn6_K3J"
      },
      "outputs": [
        {
          "data": {
            "text/plain": [
              "array(['2022-02-24', '2022-02-25', '2022-02-26', '2022-02-27',\n",
              "       '2022-02-28', '2022-03-01', '2022-03-02', '2022-03-03',\n",
              "       '2022-03-04', '2022-03-05', '2022-03-06', '2022-03-07'],\n",
              "      dtype='datetime64[D]')"
            ]
          },
          "execution_count": 26,
          "metadata": {},
          "output_type": "execute_result"
        }
      ],
      "source": [
        "date + np.arange(12)"
      ]
    },
    {
      "cell_type": "code",
      "execution_count": 27,
      "metadata": {
        "id": "EO7yE5VR_Wlh"
      },
      "outputs": [
        {
          "data": {
            "text/plain": [
              "numpy.datetime64('2022-02-24T16:00')"
            ]
          },
          "execution_count": 27,
          "metadata": {},
          "output_type": "execute_result"
        }
      ],
      "source": [
        "datetime = np.datetime64('2022-02-24 16:00')\n",
        "datetime"
      ]
    },
    {
      "cell_type": "code",
      "execution_count": 28,
      "metadata": {
        "id": "3dnOlf9i_kzX"
      },
      "outputs": [
        {
          "data": {
            "text/plain": [
              "numpy.datetime64('2022-02-24T16:00:50.120000000')"
            ]
          },
          "execution_count": 28,
          "metadata": {},
          "output_type": "execute_result"
        }
      ],
      "source": [
        "datetime = np.datetime64('2022-02-24 16:00:50.12', 'ns')\n",
        "datetime"
      ]
    },
    {
      "cell_type": "markdown",
      "metadata": {
        "id": "5AREIamhGxAr"
      },
      "source": [
        "\n",
        "\n",
        "---\n",
        "\n"
      ]
    },
    {
      "cell_type": "markdown",
      "metadata": {
        "id": "d88tkTqbBE5V"
      },
      "source": [
        "## 배열 조회"
      ]
    },
    {
      "cell_type": "markdown",
      "metadata": {
        "id": "vRqwfbjtFnPn"
      },
      "source": [
        "### 배열 속성 정보"
      ]
    },
    {
      "cell_type": "code",
      "execution_count": 29,
      "metadata": {
        "id": "R5Rlcll7GXrM"
      },
      "outputs": [],
      "source": [
        "def array_info(array):\n",
        "    print(array)\n",
        "    print('ndim:', array.ndim)\n",
        "    print('shape:', array.shape)\n",
        "    print('dtype:', array.dtype)\n",
        "    print('size:', array.size)\n",
        "    print('itemsize:', array.itemsize)\n",
        "    print('nbytes:', array.nbytes)\n",
        "    print('strides:', array.strides)"
      ]
    },
    {
      "cell_type": "code",
      "execution_count": 30,
      "metadata": {
        "id": "Na59LwA7KXZV"
      },
      "outputs": [
        {
          "name": "stdout",
          "output_type": "stream",
          "text": [
            "[4 5 3 4 5]\n",
            "ndim: 1\n",
            "shape: (5,)\n",
            "dtype: int64\n",
            "size: 5\n",
            "itemsize: 8\n",
            "nbytes: 40\n",
            "strides: (8,)\n"
          ]
        }
      ],
      "source": [
        "array_info(a1)"
      ]
    },
    {
      "cell_type": "code",
      "execution_count": 31,
      "metadata": {
        "id": "Urzr_LsdLah0"
      },
      "outputs": [
        {
          "name": "stdout",
          "output_type": "stream",
          "text": [
            "[[1 2 3]\n",
            " [4 5 6]\n",
            " [7 8 9]]\n",
            "ndim: 2\n",
            "shape: (3, 3)\n",
            "dtype: int64\n",
            "size: 9\n",
            "itemsize: 8\n",
            "nbytes: 72\n",
            "strides: (24, 8)\n"
          ]
        }
      ],
      "source": [
        "array_info(a2)"
      ]
    },
    {
      "cell_type": "code",
      "execution_count": 32,
      "metadata": {
        "id": "jktqh1lsLf4V"
      },
      "outputs": [
        {
          "name": "stdout",
          "output_type": "stream",
          "text": [
            "[[[1 2 3]\n",
            "  [4 5 6]\n",
            "  [7 8 9]]\n",
            "\n",
            " [[1 2 3]\n",
            "  [4 5 6]\n",
            "  [7 8 9]]\n",
            "\n",
            " [[1 2 3]\n",
            "  [4 5 6]\n",
            "  [7 8 9]]]\n",
            "ndim: 3\n",
            "shape: (3, 3, 3)\n",
            "dtype: int64\n",
            "size: 27\n",
            "itemsize: 8\n",
            "nbytes: 216\n",
            "strides: (72, 24, 8)\n"
          ]
        }
      ],
      "source": [
        "array_info(a3)"
      ]
    },
    {
      "cell_type": "markdown",
      "metadata": {},
      "source": [
        "```strides()```: 다음 차원으로 넘어가기 위해 필요한 자원(bytes)"
      ]
    },
    {
      "cell_type": "markdown",
      "metadata": {
        "id": "LV1WfdBWFqDu"
      },
      "source": [
        "### 인덱싱(Indexing)"
      ]
    },
    {
      "cell_type": "code",
      "execution_count": 33,
      "metadata": {
        "id": "Nyb7eDmGFr5m"
      },
      "outputs": [
        {
          "name": "stdout",
          "output_type": "stream",
          "text": [
            "[4 5 3 4 5]\n",
            "4\n",
            "5\n",
            "5\n",
            "4\n"
          ]
        }
      ],
      "source": [
        "print(a1)\n",
        "print(a1[0])\n",
        "print(a1[1])\n",
        "print(a1[-1])\n",
        "print(a1[-2])"
      ]
    },
    {
      "cell_type": "code",
      "execution_count": 34,
      "metadata": {
        "id": "uHMNcQW3Kn-h"
      },
      "outputs": [
        {
          "name": "stdout",
          "output_type": "stream",
          "text": [
            "[[1 2 3]\n",
            " [4 5 6]\n",
            " [7 8 9]]\n",
            "1\n",
            "2\n",
            "5\n",
            "9\n"
          ]
        }
      ],
      "source": [
        "print(a2)\n",
        "print(a2[0, 0])\n",
        "print(a2[0, 1])\n",
        "print(a2[1, 1])\n",
        "print(a2[2, -1])"
      ]
    },
    {
      "cell_type": "code",
      "execution_count": 35,
      "metadata": {
        "id": "IX5yDMGiMxYZ"
      },
      "outputs": [
        {
          "name": "stdout",
          "output_type": "stream",
          "text": [
            "[[[1 2 3]\n",
            "  [4 5 6]\n",
            "  [7 8 9]]\n",
            "\n",
            " [[1 2 3]\n",
            "  [4 5 6]\n",
            "  [7 8 9]]\n",
            "\n",
            " [[1 2 3]\n",
            "  [4 5 6]\n",
            "  [7 8 9]]]\n",
            "1\n",
            "5\n",
            "9\n",
            "9\n"
          ]
        }
      ],
      "source": [
        "print(a3)\n",
        "print(a3[0, 0, 0])\n",
        "print(a3[1, 1, 1])\n",
        "print(a3[2, 2, 2])\n",
        "print(a3[2, -1, -1])"
      ]
    },
    {
      "cell_type": "markdown",
      "metadata": {
        "id": "uSeXu2y_O4cu"
      },
      "source": [
        "### 슬라이싱(Slicing)"
      ]
    },
    {
      "cell_type": "markdown",
      "metadata": {
        "id": "1hikO_6ZPp5m"
      },
      "source": [
        "* 슬라이싱 구문: `a[start:stop:step]`\n",
        "* 기본값: start=0, stop=ndim, step=1"
      ]
    },
    {
      "cell_type": "code",
      "execution_count": 36,
      "metadata": {
        "id": "PYZOOCoVO7BF"
      },
      "outputs": [
        {
          "name": "stdout",
          "output_type": "stream",
          "text": [
            "[4 5 3 4 5]\n",
            "[4 5]\n",
            "[4 5 3 4 5]\n",
            "[4]\n",
            "[4 3 5]\n",
            "[5 4 3 5 4]\n"
          ]
        }
      ],
      "source": [
        "print(a1)\n",
        "print(a1[0:2])\n",
        "print(a1[0:])\n",
        "print(a1[:1])\n",
        "print(a1[::2])\n",
        "print(a1[::-1])"
      ]
    },
    {
      "cell_type": "code",
      "execution_count": 37,
      "metadata": {
        "id": "oULOFrBQWs1G"
      },
      "outputs": [
        {
          "name": "stdout",
          "output_type": "stream",
          "text": [
            "[[1 2 3]\n",
            " [4 5 6]\n",
            " [7 8 9]]\n",
            "[4 5 6]\n",
            "[4 5 6]\n",
            "[[1 2]\n",
            " [4 5]]\n",
            "[[6 5 4]\n",
            " [9 8 7]]\n",
            "[[9 8 7]\n",
            " [6 5 4]\n",
            " [3 2 1]]\n"
          ]
        }
      ],
      "source": [
        "print(a2)\n",
        "print(a2[1])\n",
        "print(a2[1, :])\n",
        "print(a2[:2, :2])\n",
        "print(a2[1:, ::-1])\n",
        "print(a2[::-1, ::-1])"
      ]
    },
    {
      "cell_type": "markdown",
      "metadata": {
        "id": "LD52bXAsBgbH"
      },
      "source": [
        "### 불리언 인덱싱(Boolean Indexing)\n",
        "\n",
        "* 배열 각 요소의 선택 여부를 불리언(True or False)로 지정\n",
        "* True 값인 인덱스의 값만 조회"
      ]
    },
    {
      "cell_type": "code",
      "execution_count": 38,
      "metadata": {
        "id": "pOvNsH2oBgz-"
      },
      "outputs": [
        {
          "name": "stdout",
          "output_type": "stream",
          "text": [
            "[4 5 3 4 5]\n",
            "[5 3 5]\n",
            "[4 3 4]\n"
          ]
        }
      ],
      "source": [
        "print(a1)\n",
        "bi = [False, True, True, False, True]\n",
        "print(a1[bi])\n",
        "bi = [True, False, True, True, False]\n",
        "print(a1[bi])"
      ]
    },
    {
      "cell_type": "code",
      "execution_count": 39,
      "metadata": {
        "id": "EFfquM2kWHAU"
      },
      "outputs": [
        {
          "name": "stdout",
          "output_type": "stream",
          "text": [
            "[[1 2 3]\n",
            " [4 5 6]\n",
            " [7 8 9]]\n",
            "[[False False False]\n",
            " [False  True  True]\n",
            " [False  True False]]\n",
            "[5 6 8]\n"
          ]
        }
      ],
      "source": [
        "print(a2)\n",
        "bi = np.random.randint(0, 2, (3, 3), dtype=bool)\n",
        "print(bi)\n",
        "print(a2[bi])"
      ]
    },
    {
      "cell_type": "markdown",
      "metadata": {
        "id": "R5hes-hdBujH"
      },
      "source": [
        "### 팬시 인덱싱(Fancy Indedxing)"
      ]
    },
    {
      "cell_type": "code",
      "execution_count": 40,
      "metadata": {
        "id": "z-Luw5fzBx30"
      },
      "outputs": [
        {
          "name": "stdout",
          "output_type": "stream",
          "text": [
            "[4 5 3 4 5]\n",
            "[4, 3]\n",
            "[4 3]\n",
            "[[4 5]\n",
            " [3 4]]\n"
          ]
        }
      ],
      "source": [
        "print(a1)\n",
        "print([a1[0], a1[2]])\n",
        "idx = [0, 2]\n",
        "print(a1[idx])\n",
        "idx = np.array([[0, 1],\n",
        "                [2, 0]])\n",
        "print(a1[idx])"
      ]
    },
    {
      "cell_type": "code",
      "execution_count": 41,
      "metadata": {
        "id": "p_Dd0oiJahgj"
      },
      "outputs": [
        {
          "name": "stdout",
          "output_type": "stream",
          "text": [
            "[[1 2 3]\n",
            " [4 5 6]\n",
            " [7 8 9]]\n",
            "[2 9]\n",
            "[[1 2 3]\n",
            " [7 8 9]]\n",
            "[[2 3]\n",
            " [5 6]\n",
            " [8 9]]\n",
            "[2 8]\n",
            "[8 9]\n",
            "[[2 3]\n",
            " [8 9]]\n",
            "[[5 6]\n",
            " [8 9]]\n"
          ]
        }
      ],
      "source": [
        "print(a2)\n",
        "row = np.array([0, 2])\n",
        "col = np.array([1, 2])\n",
        "print(a2[row, col])\n",
        "print(a2[row, :])\n",
        "print(a2[:, col])\n",
        "print(a2[row, 1])\n",
        "print(a2[2, col])\n",
        "print(a2[row, 1:])\n",
        "print(a2[1:, col])"
      ]
    },
    {
      "cell_type": "markdown",
      "metadata": {
        "id": "F71_PQF1GvTs"
      },
      "source": [
        "\n",
        "\n",
        "---\n",
        "\n"
      ]
    },
    {
      "cell_type": "markdown",
      "metadata": {
        "id": "zDI5yQ58O-IX"
      },
      "source": [
        "## 배열 값 삽입/수정/삭제/복사"
      ]
    },
    {
      "cell_type": "markdown",
      "metadata": {
        "id": "zajd1qpVOQYy"
      },
      "source": [
        "### 배열 값 삽입\n",
        "\n",
        "* `insert()`: 배열의 특정 위치에 값 삽입\n",
        "* axis를 지정하지 않으면 1차원 배열로 변환\n",
        "* 추가할 방향을 axis로 지정\n",
        "* 원본 배열 변경없이 새로운 배열 반환"
      ]
    },
    {
      "cell_type": "code",
      "execution_count": 42,
      "metadata": {
        "id": "sedRT54rP395"
      },
      "outputs": [
        {
          "name": "stdout",
          "output_type": "stream",
          "text": [
            "[4 5 3 4 5]\n",
            "[10  4  5  3  4  5]\n",
            "[4 5 3 4 5]\n",
            "[ 4  5 10  3  4  5]\n"
          ]
        }
      ],
      "source": [
        "print(a1)\n",
        "b1 = np.insert(a1, 0, 10)\n",
        "print(b1)\n",
        "print(a1)\n",
        "c1 = np.insert(a1, 2, 10)\n",
        "print(c1)"
      ]
    },
    {
      "cell_type": "code",
      "execution_count": 43,
      "metadata": {
        "id": "zNmu1E4iQ6h-"
      },
      "outputs": [
        {
          "name": "stdout",
          "output_type": "stream",
          "text": [
            "[[1 2 3]\n",
            " [4 5 6]\n",
            " [7 8 9]]\n",
            "[[ 1  2  3]\n",
            " [10 11 12]\n",
            " [ 4  5  6]\n",
            " [ 7  8  9]]\n",
            "[[ 1 10  2  3]\n",
            " [ 4 10  5  6]\n",
            " [ 7 10  8  9]]\n"
          ]
        }
      ],
      "source": [
        "print(a2)\n",
        "b2 = np.insert(a2, 1, [10, 11, 12], axis=0)\n",
        "print(b2)\n",
        "c2 = np.insert(a2, 1, 10, axis=1)\n",
        "print(c2)"
      ]
    },
    {
      "cell_type": "markdown",
      "metadata": {
        "id": "OlEzG4ffNjyL"
      },
      "source": [
        "### 배열 값 수정\n",
        "\n",
        "* 배열의 인덱싱으로 접근하여 값 수정"
      ]
    },
    {
      "cell_type": "code",
      "execution_count": 44,
      "metadata": {
        "id": "ec43i1KWNjeN"
      },
      "outputs": [
        {
          "name": "stdout",
          "output_type": "stream",
          "text": [
            "[4 5 3 4 5]\n",
            "[1 2 3 4 5]\n",
            "[9 9 3 4 5]\n",
            "[9 0 3 0 0]\n",
            "[9 4 3 4 4]\n"
          ]
        }
      ],
      "source": [
        "print(a1)\n",
        "a1[0] = 1\n",
        "a1[1] = 2\n",
        "print(a1)\n",
        "a1[:2] = 9\n",
        "print(a1)\n",
        "i = np.array([1, 3, 4])\n",
        "a1[i] = 0\n",
        "print(a1)\n",
        "a1[i] += 4\n",
        "print(a1)"
      ]
    },
    {
      "cell_type": "code",
      "execution_count": 45,
      "metadata": {
        "id": "IApNNx3NOMQh"
      },
      "outputs": [
        {
          "name": "stdout",
          "output_type": "stream",
          "text": [
            "[[1 2 3]\n",
            " [4 5 6]\n",
            " [7 8 9]]\n",
            "[[1 2 3]\n",
            " [4 2 6]\n",
            " [7 8 3]]\n",
            "[[1 1 1]\n",
            " [4 2 6]\n",
            " [7 8 3]]\n",
            "[[1 1 1]\n",
            " [4 2 9]\n",
            " [7 8 9]]\n",
            "[[1 0 1]\n",
            " [4 2 0]\n",
            " [7 8 9]]\n"
          ]
        }
      ],
      "source": [
        "print(a2)\n",
        "a2[0, 0] = 1\n",
        "a2[1, 1] = 2\n",
        "a2[2, 2] = 3\n",
        "print(a2)\n",
        "a2[0] = 1\n",
        "print(a2)\n",
        "a2[1:, 2] = 9\n",
        "print(a2)\n",
        "row = np.array([0, 1])\n",
        "col = np.array([1, 2])\n",
        "a2[row, col] = 0\n",
        "print(a2)"
      ]
    },
    {
      "cell_type": "markdown",
      "metadata": {
        "id": "emV7DgrITPcn"
      },
      "source": [
        "### 배열 값 삭제\n",
        "\n",
        "* `delete()`: 배열의 특정 위치에 값 삭제\n",
        "* axis를 지정하지 않으면 1차원 배열로 변환\n",
        "* 삭제할 방향을 axis로 지정\n",
        "* 원본 배열 변경없이 새로운 배열 반환"
      ]
    },
    {
      "cell_type": "code",
      "execution_count": 46,
      "metadata": {
        "id": "I3k_Yx8lTRJ2"
      },
      "outputs": [
        {
          "name": "stdout",
          "output_type": "stream",
          "text": [
            "[9 4 3 4 4]\n",
            "[9 3 4 4]\n",
            "[9 4 3 4 4]\n"
          ]
        }
      ],
      "source": [
        "print(a1)\n",
        "b1 = np.delete(a1, 1)\n",
        "print(b1)\n",
        "print(a1)"
      ]
    },
    {
      "cell_type": "code",
      "execution_count": 47,
      "metadata": {
        "id": "tRTwMIfJTq_y"
      },
      "outputs": [
        {
          "name": "stdout",
          "output_type": "stream",
          "text": [
            "[[1 0 1]\n",
            " [4 2 0]\n",
            " [7 8 9]]\n",
            "[[1 0 1]\n",
            " [7 8 9]]\n",
            "[[1 1]\n",
            " [4 0]\n",
            " [7 9]]\n"
          ]
        }
      ],
      "source": [
        "print(a2)\n",
        "b2 = np.delete(a2, 1, axis=0)\n",
        "print(b2)\n",
        "c2 = np.delete(a2, 1, axis=1)\n",
        "print(c2)"
      ]
    },
    {
      "cell_type": "markdown",
      "metadata": {
        "id": "UydkYxV8Z6Fx"
      },
      "source": [
        "### 배열 복사\n",
        "\n",
        "* 리스트 자료형과 달리 배열의 슬라이스는 복사본이 아님"
      ]
    },
    {
      "cell_type": "code",
      "execution_count": 48,
      "metadata": {
        "id": "n2_0L8KWZ7wH"
      },
      "outputs": [
        {
          "name": "stdout",
          "output_type": "stream",
          "text": [
            "[[1 0 1]\n",
            " [4 2 0]\n",
            " [7 8 9]]\n",
            "[[1 0]\n",
            " [4 2]]\n",
            "[[1 0]\n",
            " [4 2]]\n",
            "[[1 0]\n",
            " [4 0]]\n",
            "[[1 0 1]\n",
            " [4 0 0]\n",
            " [7 8 9]]\n"
          ]
        }
      ],
      "source": [
        "print(a2)\n",
        "print(a2[:2, :2])\n",
        "a2_sub = a2[:2, :2]\n",
        "print(a2_sub)\n",
        "a2_sub[:, 1] = 0\n",
        "print(a2_sub)\n",
        "print(a2)"
      ]
    },
    {
      "cell_type": "markdown",
      "metadata": {
        "id": "UrQqOC1Eat5l"
      },
      "source": [
        "\n",
        "* `copy()`: 배열이나 하위 배열 내의 값을 명시적으로 복사"
      ]
    },
    {
      "cell_type": "code",
      "execution_count": 49,
      "metadata": {
        "id": "hLBZ7Qn6bAKO"
      },
      "outputs": [
        {
          "name": "stdout",
          "output_type": "stream",
          "text": [
            "[[1 0 1]\n",
            " [4 0 0]\n",
            " [7 8 9]]\n",
            "[[1 0]\n",
            " [4 0]]\n",
            "[[1 1]\n",
            " [4 1]]\n",
            "[[1 0 1]\n",
            " [4 0 0]\n",
            " [7 8 9]]\n"
          ]
        }
      ],
      "source": [
        "print(a2)\n",
        "a2_sub_copy = a2[:2, :2].copy()\n",
        "print(a2_sub_copy)\n",
        "a2_sub_copy[:, 1] = 1\n",
        "print(a2_sub_copy)\n",
        "print(a2)"
      ]
    },
    {
      "cell_type": "markdown",
      "metadata": {
        "id": "4HTc9FXOGtA7"
      },
      "source": [
        "\n",
        "\n",
        "---\n",
        "\n"
      ]
    },
    {
      "cell_type": "markdown",
      "metadata": {
        "id": "XVZY082__yV6"
      },
      "source": [
        "## 배열 변환"
      ]
    },
    {
      "cell_type": "markdown",
      "metadata": {
        "id": "Ec09aPeBO58M"
      },
      "source": [
        "### 배열 전치 및 축 변경"
      ]
    },
    {
      "cell_type": "code",
      "execution_count": 50,
      "metadata": {
        "id": "anYByBpoWZmj"
      },
      "outputs": [
        {
          "name": "stdout",
          "output_type": "stream",
          "text": [
            "[[1 0 1]\n",
            " [4 0 0]\n",
            " [7 8 9]]\n",
            "[[1 4 7]\n",
            " [0 0 8]\n",
            " [1 0 9]]\n"
          ]
        }
      ],
      "source": [
        "print(a2)\n",
        "print(a2.T)"
      ]
    },
    {
      "cell_type": "code",
      "execution_count": 51,
      "metadata": {
        "id": "wg4XC6kiRnZo"
      },
      "outputs": [
        {
          "name": "stdout",
          "output_type": "stream",
          "text": [
            "[[[1 2 3]\n",
            "  [4 5 6]\n",
            "  [7 8 9]]\n",
            "\n",
            " [[1 2 3]\n",
            "  [4 5 6]\n",
            "  [7 8 9]]\n",
            "\n",
            " [[1 2 3]\n",
            "  [4 5 6]\n",
            "  [7 8 9]]]\n",
            "[[[1 1 1]\n",
            "  [4 4 4]\n",
            "  [7 7 7]]\n",
            "\n",
            " [[2 2 2]\n",
            "  [5 5 5]\n",
            "  [8 8 8]]\n",
            "\n",
            " [[3 3 3]\n",
            "  [6 6 6]\n",
            "  [9 9 9]]]\n"
          ]
        }
      ],
      "source": [
        "print(a3)\n",
        "print(a3.T)"
      ]
    },
    {
      "cell_type": "code",
      "execution_count": 52,
      "metadata": {
        "id": "6lPwXL8rRTfI"
      },
      "outputs": [
        {
          "name": "stdout",
          "output_type": "stream",
          "text": [
            "[[1 0 1]\n",
            " [4 0 0]\n",
            " [7 8 9]]\n",
            "[[1 4 7]\n",
            " [0 0 8]\n",
            " [1 0 9]]\n"
          ]
        }
      ],
      "source": [
        "print(a2)\n",
        "print(a2.swapaxes(1, 0))"
      ]
    },
    {
      "cell_type": "code",
      "execution_count": 53,
      "metadata": {
        "id": "oLbEHtijRewH"
      },
      "outputs": [
        {
          "name": "stdout",
          "output_type": "stream",
          "text": [
            "[[[1 2 3]\n",
            "  [4 5 6]\n",
            "  [7 8 9]]\n",
            "\n",
            " [[1 2 3]\n",
            "  [4 5 6]\n",
            "  [7 8 9]]\n",
            "\n",
            " [[1 2 3]\n",
            "  [4 5 6]\n",
            "  [7 8 9]]]\n",
            "[[[1 4 7]\n",
            "  [2 5 8]\n",
            "  [3 6 9]]\n",
            "\n",
            " [[1 4 7]\n",
            "  [2 5 8]\n",
            "  [3 6 9]]\n",
            "\n",
            " [[1 4 7]\n",
            "  [2 5 8]\n",
            "  [3 6 9]]]\n"
          ]
        }
      ],
      "source": [
        "print(a3)\n",
        "print(a3.swapaxes(1, 2))"
      ]
    },
    {
      "cell_type": "markdown",
      "metadata": {
        "id": "M7xN8WdOdb_S"
      },
      "source": [
        "### 배열 재구조화\n"
      ]
    },
    {
      "cell_type": "markdown",
      "metadata": {
        "id": "JwZJMpXGfY0V"
      },
      "source": [
        "* `reshape()`: 배열의 형상을 변경"
      ]
    },
    {
      "cell_type": "code",
      "execution_count": 54,
      "metadata": {
        "id": "SlGQ17VQdd8i"
      },
      "outputs": [
        {
          "name": "stdout",
          "output_type": "stream",
          "text": [
            "[1 2 3 4 5 6 7 8 9]\n",
            "[[1 2 3]\n",
            " [4 5 6]\n",
            " [7 8 9]]\n"
          ]
        }
      ],
      "source": [
        "n1 = np.arange(1, 10)\n",
        "print(n1)\n",
        "print(n1.reshape(3, 3))"
      ]
    },
    {
      "cell_type": "markdown",
      "metadata": {
        "id": "y_U1W-fQfuQY"
      },
      "source": [
        "* `newaxis()`: 새로운 축 추가"
      ]
    },
    {
      "cell_type": "code",
      "execution_count": 55,
      "metadata": {
        "id": "COif_weCfkGo"
      },
      "outputs": [
        {
          "name": "stdout",
          "output_type": "stream",
          "text": [
            "[1 2 3 4 5 6 7 8 9]\n",
            "[[1 2 3 4 5]]\n",
            "[[1]\n",
            " [2]\n",
            " [3]\n",
            " [4]\n",
            " [5]]\n"
          ]
        }
      ],
      "source": [
        "print(n1)\n",
        "print(n1[np.newaxis, :5])\n",
        "print(n1[:5, np.newaxis])"
      ]
    },
    {
      "cell_type": "markdown",
      "metadata": {
        "id": "FR82RSDggbcJ"
      },
      "source": [
        "### 배열 크기 변경"
      ]
    },
    {
      "cell_type": "markdown",
      "metadata": {
        "id": "D1LuDMVFl4tc"
      },
      "source": [
        "* 배열 모양만 변경"
      ]
    },
    {
      "cell_type": "code",
      "execution_count": 56,
      "metadata": {
        "id": "7B6pHlfxgdSJ"
      },
      "outputs": [
        {
          "name": "stdout",
          "output_type": "stream",
          "text": [
            "[[4 4 5 9 5]\n",
            " [8 2 1 2 1]]\n",
            "[[4 4]\n",
            " [5 9]\n",
            " [5 8]\n",
            " [2 1]\n",
            " [2 1]]\n"
          ]
        }
      ],
      "source": [
        "n2 = np.random.randint(0, 10, (2, 5))\n",
        "print(n2)\n",
        "n2.resize(5, 2)\n",
        "print(n2)"
      ]
    },
    {
      "cell_type": "markdown",
      "metadata": {
        "id": "s0adm-h9l6sv"
      },
      "source": [
        "* 배열 크기 증가\n",
        "* 남은 공간은 0으로 채워짐"
      ]
    },
    {
      "cell_type": "code",
      "execution_count": 57,
      "metadata": {
        "id": "IrX0UcjrlWRV"
      },
      "outputs": [
        {
          "name": "stdout",
          "output_type": "stream",
          "text": [
            "[[4 4 5 9 5]\n",
            " [8 2 1 2 1]\n",
            " [0 0 0 0 0]\n",
            " [0 0 0 0 0]\n",
            " [0 0 0 0 0]]\n"
          ]
        }
      ],
      "source": [
        "n2.resize(5, 5)\n",
        "print(n2)"
      ]
    },
    {
      "cell_type": "markdown",
      "metadata": {
        "id": "78hPDEzfl9JB"
      },
      "source": [
        "* 배열 크기 감소\n",
        "* 포함되지 않은 값은 삭제됨"
      ]
    },
    {
      "cell_type": "code",
      "execution_count": 58,
      "metadata": {
        "id": "fJWrwhc6lmjW"
      },
      "outputs": [
        {
          "name": "stdout",
          "output_type": "stream",
          "text": [
            "[[4 4 5]\n",
            " [9 5 8]\n",
            " [2 1 2]]\n"
          ]
        }
      ],
      "source": [
        "n2.resize(3, 3)\n",
        "print(n2)"
      ]
    },
    {
      "cell_type": "markdown",
      "metadata": {
        "id": "r9z2gD_pHyx9"
      },
      "source": [
        "### 배열 추가\n",
        "\n",
        "* `append()`: 배열의 끝에 값 추가"
      ]
    },
    {
      "cell_type": "code",
      "execution_count": 59,
      "metadata": {
        "id": "fH4lpQKNH5s1"
      },
      "outputs": [
        {
          "name": "stdout",
          "output_type": "stream",
          "text": [
            "[[1 2 3]\n",
            " [4 5 6]\n",
            " [7 8 9]]\n",
            "[[10 11 12]\n",
            " [13 14 15]\n",
            " [16 17 18]]\n"
          ]
        }
      ],
      "source": [
        "a2 = np.arange(1, 10).reshape(3, 3)\n",
        "print(a2)\n",
        "b2 = np.arange(10, 19).reshape(3, 3)\n",
        "print(b2)"
      ]
    },
    {
      "cell_type": "markdown",
      "metadata": {
        "id": "n8SMl5VVIquk"
      },
      "source": [
        "* axis 지정이 없으면 1차원 배열 형태로 변형되어 결합"
      ]
    },
    {
      "cell_type": "code",
      "execution_count": 60,
      "metadata": {
        "id": "LRltk3yFIVsV"
      },
      "outputs": [
        {
          "name": "stdout",
          "output_type": "stream",
          "text": [
            "[ 1  2  3  4  5  6  7  8  9 10 11 12 13 14 15 16 17 18]\n"
          ]
        }
      ],
      "source": [
        "c2 = np.append(a2, b2)\n",
        "print(c2)"
      ]
    },
    {
      "cell_type": "markdown",
      "metadata": {
        "id": "sVW2UFVZJfpR"
      },
      "source": [
        "* axis를 0으로 지정\n",
        "* shape[0]을 제외한 나머지 shape은 같아야 함"
      ]
    },
    {
      "cell_type": "code",
      "execution_count": 61,
      "metadata": {
        "id": "nwJ4xLOeIbMg"
      },
      "outputs": [
        {
          "name": "stdout",
          "output_type": "stream",
          "text": [
            "[[ 1  2  3]\n",
            " [ 4  5  6]\n",
            " [ 7  8  9]\n",
            " [10 11 12]\n",
            " [13 14 15]\n",
            " [16 17 18]]\n"
          ]
        }
      ],
      "source": [
        "c2 = np.append(a2, b2, axis=0)\n",
        "print(c2)"
      ]
    },
    {
      "cell_type": "markdown",
      "metadata": {
        "id": "4YXxzygaJmj-"
      },
      "source": [
        "* axis를 1로 지정\n",
        "* shape[1]을 제외한 나머지 shape은 같아야 함"
      ]
    },
    {
      "cell_type": "code",
      "execution_count": 62,
      "metadata": {
        "id": "JYE4_5gAJmYe"
      },
      "outputs": [
        {
          "name": "stdout",
          "output_type": "stream",
          "text": [
            "[[ 1  2  3 10 11 12]\n",
            " [ 4  5  6 13 14 15]\n",
            " [ 7  8  9 16 17 18]]\n"
          ]
        }
      ],
      "source": [
        "c2 = np.append(a2, b2, axis=1)\n",
        "print(c2)"
      ]
    },
    {
      "cell_type": "markdown",
      "metadata": {
        "id": "9sTza3b2hoe4"
      },
      "source": [
        "### 배열 연결"
      ]
    },
    {
      "cell_type": "markdown",
      "metadata": {
        "id": "TRun2NPYj8Ct"
      },
      "source": [
        "* `concatenate()`: 튜플이나 배열의 리스트를 인수로 사용해 배열 연결"
      ]
    },
    {
      "cell_type": "code",
      "execution_count": 63,
      "metadata": {
        "id": "lmEqdPifhrB_"
      },
      "outputs": [
        {
          "data": {
            "text/plain": [
              "array([1, 3, 5, 2, 4, 6])"
            ]
          },
          "execution_count": 63,
          "metadata": {},
          "output_type": "execute_result"
        }
      ],
      "source": [
        "a1 = np.array([1,3,5])\n",
        "b1 = np.array([2,4,6])\n",
        "np.concatenate([a1, b1])"
      ]
    },
    {
      "cell_type": "code",
      "execution_count": 64,
      "metadata": {
        "id": "IkoTNIt2k0tp"
      },
      "outputs": [
        {
          "data": {
            "text/plain": [
              "array([1, 3, 5, 2, 4, 6, 7, 8, 9])"
            ]
          },
          "execution_count": 64,
          "metadata": {},
          "output_type": "execute_result"
        }
      ],
      "source": [
        "c1 = np.array([7,8,9])\n",
        "np.concatenate([a1, b1, c1])"
      ]
    },
    {
      "cell_type": "code",
      "execution_count": 65,
      "metadata": {
        "id": "vX0SCYX3lEs2"
      },
      "outputs": [
        {
          "data": {
            "text/plain": [
              "array([[1, 2, 3],\n",
              "       [4, 5, 6],\n",
              "       [1, 2, 3],\n",
              "       [4, 5, 6]])"
            ]
          },
          "execution_count": 65,
          "metadata": {},
          "output_type": "execute_result"
        }
      ],
      "source": [
        "a2 = np.array([[1,2,3], \n",
        "                [4,5,6]])\n",
        "np.concatenate([a2, a2])"
      ]
    },
    {
      "cell_type": "code",
      "execution_count": 66,
      "metadata": {
        "id": "Rv6xGva7lxHP"
      },
      "outputs": [
        {
          "data": {
            "text/plain": [
              "array([[1, 2, 3, 1, 2, 3],\n",
              "       [4, 5, 6, 4, 5, 6]])"
            ]
          },
          "execution_count": 66,
          "metadata": {},
          "output_type": "execute_result"
        }
      ],
      "source": [
        "np.concatenate([a2, a2], axis=1)"
      ]
    },
    {
      "cell_type": "markdown",
      "metadata": {
        "id": "MbiBbx4nl2KD"
      },
      "source": [
        "* `vstack()`: 수직 스택(vertical stack), 1차원으로 연결"
      ]
    },
    {
      "cell_type": "code",
      "execution_count": 67,
      "metadata": {
        "id": "HkHJwdBMl_qi"
      },
      "outputs": [
        {
          "data": {
            "text/plain": [
              "array([[1, 2, 3],\n",
              "       [4, 5, 6],\n",
              "       [1, 2, 3],\n",
              "       [4, 5, 6]])"
            ]
          },
          "execution_count": 67,
          "metadata": {},
          "output_type": "execute_result"
        }
      ],
      "source": [
        "np.vstack([a2, a2])"
      ]
    },
    {
      "cell_type": "markdown",
      "metadata": {
        "id": "-hTlAnWxmHA_"
      },
      "source": [
        "* `hstack()`: 수평 스택(horizontal stack), 2차원으로 연결"
      ]
    },
    {
      "cell_type": "code",
      "execution_count": 68,
      "metadata": {
        "id": "-HsGlAytmNEz"
      },
      "outputs": [
        {
          "data": {
            "text/plain": [
              "array([[1, 2, 3, 1, 2, 3],\n",
              "       [4, 5, 6, 4, 5, 6]])"
            ]
          },
          "execution_count": 68,
          "metadata": {},
          "output_type": "execute_result"
        }
      ],
      "source": [
        "np.hstack([a2, a2])"
      ]
    },
    {
      "cell_type": "markdown",
      "metadata": {
        "id": "CshM6LURmUhV"
      },
      "source": [
        "* `dstack()`: 깊이 스택(depth stack), 3차원으로 연결"
      ]
    },
    {
      "cell_type": "code",
      "execution_count": 69,
      "metadata": {
        "id": "TFBdRddpmU4m"
      },
      "outputs": [
        {
          "data": {
            "text/plain": [
              "array([[[1, 1],\n",
              "        [2, 2],\n",
              "        [3, 3]],\n",
              "\n",
              "       [[4, 4],\n",
              "        [5, 5],\n",
              "        [6, 6]]])"
            ]
          },
          "execution_count": 69,
          "metadata": {},
          "output_type": "execute_result"
        }
      ],
      "source": [
        "np.dstack([a2, a2])"
      ]
    },
    {
      "cell_type": "markdown",
      "metadata": {
        "id": "JUBtc4UnpaSz"
      },
      "source": [
        "* `stack()`: 새로운 차원으로 연결"
      ]
    },
    {
      "cell_type": "code",
      "execution_count": 70,
      "metadata": {
        "id": "JzoujQ9_pHS5"
      },
      "outputs": [
        {
          "data": {
            "text/plain": [
              "array([[[1, 2, 3],\n",
              "        [4, 5, 6]],\n",
              "\n",
              "       [[1, 2, 3],\n",
              "        [4, 5, 6]]])"
            ]
          },
          "execution_count": 70,
          "metadata": {},
          "output_type": "execute_result"
        }
      ],
      "source": [
        "np.stack([a2, a2])"
      ]
    },
    {
      "cell_type": "markdown",
      "metadata": {
        "id": "eYz74NYKo8iH"
      },
      "source": [
        "### 배열 분할"
      ]
    },
    {
      "cell_type": "markdown",
      "metadata": {
        "id": "wjt2zku5pBmF"
      },
      "source": [
        "* `split()`: 배열 분할"
      ]
    },
    {
      "cell_type": "code",
      "execution_count": 71,
      "metadata": {
        "id": "H_2e71heo-Eq"
      },
      "outputs": [
        {
          "name": "stdout",
          "output_type": "stream",
          "text": [
            "[0 1 2 3 4 5 6 7 8 9]\n",
            "[0 1 2 3 4] [5 6 7 8 9]\n",
            "[0 1] [2 3] [4 5] [6 7] [8 9]\n"
          ]
        }
      ],
      "source": [
        "a1 = np.arange(0, 10)\n",
        "print(a1)\n",
        "b1, c1 = np.split(a1, [5])\n",
        "print(b1, c1)\n",
        "b1, c1, d1, e1, f1 = np.split(a1, [2, 4, 6, 8])\n",
        "print(b1, c1, d1, e1, f1)"
      ]
    },
    {
      "cell_type": "markdown",
      "metadata": {
        "id": "IvvdCQcKsCLn"
      },
      "source": [
        "* `vsplit()`: 수직 분할, 1차원으로 분할"
      ]
    },
    {
      "cell_type": "code",
      "execution_count": 72,
      "metadata": {
        "id": "GdMYlsiLsCoe"
      },
      "outputs": [
        {
          "name": "stdout",
          "output_type": "stream",
          "text": [
            "[[1 2 3]\n",
            " [4 5 6]\n",
            " [7 8 9]]\n",
            "[[1 2 3]\n",
            " [4 5 6]]\n",
            "[[7 8 9]]\n"
          ]
        }
      ],
      "source": [
        "a2 = np.arange(1, 10).reshape(3, 3)\n",
        "print(a2)\n",
        "b2, c2 = np.vsplit(a2, [2])\n",
        "print(b2)\n",
        "print(c2)"
      ]
    },
    {
      "cell_type": "markdown",
      "metadata": {
        "id": "1aC0a034rSXi"
      },
      "source": [
        "* `hsplit()`: 수평 분할, 2차원으로 분할"
      ]
    },
    {
      "cell_type": "code",
      "execution_count": 73,
      "metadata": {
        "id": "ShMnE_bnrSBJ"
      },
      "outputs": [
        {
          "name": "stdout",
          "output_type": "stream",
          "text": [
            "[[1 2 3]\n",
            " [4 5 6]\n",
            " [7 8 9]]\n",
            "[[1 2]\n",
            " [4 5]\n",
            " [7 8]]\n",
            "[[3]\n",
            " [6]\n",
            " [9]]\n"
          ]
        }
      ],
      "source": [
        "a2 = np.arange(1, 10).reshape(3, 3)\n",
        "print(a2)\n",
        "b2, c2 = np.hsplit(a2, [2])\n",
        "print(b2)\n",
        "print(c2)"
      ]
    },
    {
      "cell_type": "markdown",
      "metadata": {
        "id": "Pz3BDD8qsQER"
      },
      "source": [
        "* `dsplit()`: 깊이 분할, 3차원으로 분할"
      ]
    },
    {
      "cell_type": "code",
      "execution_count": 74,
      "metadata": {
        "id": "DqHFGd43sQYj"
      },
      "outputs": [
        {
          "name": "stdout",
          "output_type": "stream",
          "text": [
            "[[[ 1  2  3]\n",
            "  [ 4  5  6]\n",
            "  [ 7  8  9]]\n",
            "\n",
            " [[10 11 12]\n",
            "  [13 14 15]\n",
            "  [16 17 18]]\n",
            "\n",
            " [[19 20 21]\n",
            "  [22 23 24]\n",
            "  [25 26 27]]]\n",
            "[[[ 1  2]\n",
            "  [ 4  5]\n",
            "  [ 7  8]]\n",
            "\n",
            " [[10 11]\n",
            "  [13 14]\n",
            "  [16 17]]\n",
            "\n",
            " [[19 20]\n",
            "  [22 23]\n",
            "  [25 26]]]\n",
            "[[[ 3]\n",
            "  [ 6]\n",
            "  [ 9]]\n",
            "\n",
            " [[12]\n",
            "  [15]\n",
            "  [18]]\n",
            "\n",
            " [[21]\n",
            "  [24]\n",
            "  [27]]]\n"
          ]
        }
      ],
      "source": [
        "a3 = np.arange(1, 28).reshape(3, 3, 3)\n",
        "print(a3)\n",
        "b3, c3 = np.dsplit(a3, [2])\n",
        "print(b3)\n",
        "print(c3)"
      ]
    },
    {
      "cell_type": "markdown",
      "metadata": {
        "id": "rK-zrDZuGoVd"
      },
      "source": [
        "\n",
        "\n",
        "---\n",
        "\n"
      ]
    },
    {
      "cell_type": "markdown",
      "metadata": {
        "id": "Vc-iSWewJ3C1"
      },
      "source": [
        "## 배열 연산\n",
        "\n",
        "* NumPy의 배열 연산은 벡터화(vectorized) 연산을 사용\n",
        "* 일반적으로 NumPy의 범용 함수(universal functions)를 통해 구현\n",
        "* 배열 요소에 대한 반복적인 계산을 효율적으로 수행"
      ]
    },
    {
      "cell_type": "markdown",
      "metadata": {
        "id": "Pg2er1A2w3cz"
      },
      "source": [
        "### 브로드캐스팅(Broadcasting)"
      ]
    },
    {
      "cell_type": "code",
      "execution_count": 75,
      "metadata": {
        "id": "IGU-HRgr20nj"
      },
      "outputs": [
        {
          "name": "stdout",
          "output_type": "stream",
          "text": [
            "[1 2 3]\n",
            "[6 7 8]\n"
          ]
        }
      ],
      "source": [
        "a1 = np.array([1,2,3])\n",
        "print(a1)\n",
        "print(a1+5)"
      ]
    },
    {
      "cell_type": "code",
      "execution_count": 76,
      "metadata": {
        "id": "IAzsmIAn1HNt"
      },
      "outputs": [
        {
          "name": "stdout",
          "output_type": "stream",
          "text": [
            "[[1 2 3]\n",
            " [4 5 6]\n",
            " [7 8 9]]\n",
            "[[ 2  4  6]\n",
            " [ 5  7  9]\n",
            " [ 8 10 12]]\n"
          ]
        }
      ],
      "source": [
        "a2 = np.arange(1, 10).reshape(3, 3)\n",
        "print(a2)\n",
        "print(a1+a2)"
      ]
    },
    {
      "cell_type": "code",
      "execution_count": 77,
      "metadata": {},
      "outputs": [
        {
          "name": "stdout",
          "output_type": "stream",
          "text": [
            "[[1]\n",
            " [2]\n",
            " [3]]\n",
            "[[2 3 4]\n",
            " [3 4 5]\n",
            " [4 5 6]]\n"
          ]
        }
      ],
      "source": [
        "b2 = np.array([1,2,3]).reshape(3, 1)\n",
        "print(b2)\n",
        "print(a1+b2)"
      ]
    },
    {
      "cell_type": "markdown",
      "metadata": {
        "id": "NZzLHHLmwl_b"
      },
      "source": [
        "### 산술 연산(Arithmetic Operators)"
      ]
    },
    {
      "cell_type": "code",
      "execution_count": 78,
      "metadata": {
        "id": "jHrIjHGEi05k"
      },
      "outputs": [
        {
          "name": "stdout",
          "output_type": "stream",
          "text": [
            "[1 2 3 4 5 6 7 8 9]\n",
            "[ 2  3  4  5  6  7  8  9 10]\n",
            "[11 12 13 14 15 16 17 18 19]\n",
            "[-1  0  1  2  3  4  5  6  7]\n",
            "[-9 -8 -7 -6 -5 -4 -3 -2 -1]\n",
            "[-1 -2 -3 -4 -5 -6 -7 -8 -9]\n",
            "[-1 -2 -3 -4 -5 -6 -7 -8 -9]\n",
            "[ 2  4  6  8 10 12 14 16 18]\n",
            "[ 2  4  6  8 10 12 14 16 18]\n",
            "[0.5 1.  1.5 2.  2.5 3.  3.5 4.  4.5]\n",
            "[0 1 1 2 2 3 3 4 4]\n",
            "[ 1  4  9 16 25 36 49 64 81]\n",
            "[1 0 1 0 1 0 1 0 1]\n"
          ]
        }
      ],
      "source": [
        "a1 = np.arange(1, 10)\n",
        "print(a1)\n",
        "print(a1+1)\n",
        "print(np.add(a1, 10))\n",
        "print(a1-2)\n",
        "print(np.subtract(a1, 10))\n",
        "print(-a1)\n",
        "print(np.negative(a1))\n",
        "print(a1*2)\n",
        "print(np.multiply(a1, 2))\n",
        "print(np.divide(a1, 2))  # /\n",
        "print(np.floor_divide(a1, 2))  # //: 나누고 내림\n",
        "print(np.power(a1, 2))  # **\n",
        "print(np.mod(a1, 2))  # %"
      ]
    },
    {
      "cell_type": "code",
      "execution_count": 79,
      "metadata": {
        "id": "sMUYzXk3psgC"
      },
      "outputs": [
        {
          "name": "stdout",
          "output_type": "stream",
          "text": [
            "[1 2 3 4 5 6 7 8 9]\n",
            "[5 9 1 6 4 2 2 2 9]\n",
            "[ 6 11  4 10  9  8  9 10 18]\n",
            "[ 5 18  3 24 20 12 14 16 81]\n",
            "[0 0 3 0 1 3 3 4 1]\n",
            "[        1       512         3      4096       625        36        49\n",
            "        64 387420489]\n",
            "[1 2 0 4 1 0 1 0 0]\n"
          ]
        }
      ],
      "source": [
        "a1 = np.arange(1, 10)\n",
        "b1 = np.random.randint(1, 10, size=9)\n",
        "print(a1)\n",
        "print(b1)\n",
        "print(a1+b1)\n",
        "print(a1*b1)\n",
        "print(a1//b1)\n",
        "print(a1**b1)\n",
        "print(a1%b1)"
      ]
    },
    {
      "cell_type": "code",
      "execution_count": 80,
      "metadata": {
        "id": "ZkyjPmk5onPK"
      },
      "outputs": [
        {
          "name": "stdout",
          "output_type": "stream",
          "text": [
            "[[1 2 3]\n",
            " [4 5 6]\n",
            " [7 8 9]]\n",
            "[[2 8 1]\n",
            " [7 7 6]\n",
            " [7 3 9]]\n",
            "[[ 3 10  4]\n",
            " [11 12 12]\n",
            " [14 11 18]]\n",
            "[[ 2 16  3]\n",
            " [28 35 36]\n",
            " [49 24 81]]\n",
            "[[0 0 3]\n",
            " [0 0 1]\n",
            " [1 2 1]]\n",
            "[[        1       256         3]\n",
            " [    16384     78125     46656]\n",
            " [   823543       512 387420489]]\n",
            "[[1 2 0]\n",
            " [4 5 0]\n",
            " [0 2 0]]\n"
          ]
        }
      ],
      "source": [
        "a2 = np.arange(1, 10).reshape(3, 3)\n",
        "b2 = np.random.randint(1, 10, size=(3, 3))\n",
        "print(a2)\n",
        "print(b2)\n",
        "print(a2+b2)\n",
        "print(a2*b2)\n",
        "print(a2//b2)\n",
        "print(a2**b2)\n",
        "print(a2%b2)"
      ]
    },
    {
      "cell_type": "markdown",
      "metadata": {
        "id": "hxG_aECas3a9"
      },
      "source": [
        "#### 절대값 함수(Absolute Function)\n",
        "\n",
        "* `absolute()`, `abs()`: 내장된 절대값 함수"
      ]
    },
    {
      "cell_type": "code",
      "execution_count": 81,
      "metadata": {
        "id": "YmX-0LvWs7qM"
      },
      "outputs": [
        {
          "name": "stdout",
          "output_type": "stream",
          "text": [
            "[ 3  1 -2  2  9]\n",
            "[3 1 2 2 9]\n",
            "[3 1 2 2 9]\n"
          ]
        }
      ],
      "source": [
        "a1 = np.random.randint(-10, 10, size=5)\n",
        "print(a1)\n",
        "print(np.absolute(a1))\n",
        "print(np.abs(a1))"
      ]
    },
    {
      "cell_type": "markdown",
      "metadata": {
        "id": "U5uE3sVtzRvA"
      },
      "source": [
        "#### 제곱/제곱근 함수\n",
        "\n",
        "* `square`, `sqrt`: 제곱, 제곱근 함수"
      ]
    },
    {
      "cell_type": "code",
      "execution_count": 82,
      "metadata": {
        "id": "ggnIxDGzzTfX"
      },
      "outputs": [
        {
          "name": "stdout",
          "output_type": "stream",
          "text": [
            "[[1 2 3]\n",
            " [4 5 6]\n",
            " [7 8 9]]\n",
            "[[ 1  4  9]\n",
            " [16 25 36]\n",
            " [49 64 81]]\n",
            "[[1.         1.41421356 1.73205081]\n",
            " [2.         2.23606798 2.44948974]\n",
            " [2.64575131 2.82842712 3.        ]]\n"
          ]
        }
      ],
      "source": [
        "print(a2)\n",
        "print(np.square(a2))\n",
        "print(np.sqrt(a2))"
      ]
    },
    {
      "cell_type": "markdown",
      "metadata": {
        "id": "tWh1aQ50vRhB"
      },
      "source": [
        "#### 지수와 로그 함수 (Exponential and Log Function)"
      ]
    },
    {
      "cell_type": "code",
      "execution_count": 83,
      "metadata": {
        "id": "Dygt3AyHvTZz"
      },
      "outputs": [
        {
          "name": "stdout",
          "output_type": "stream",
          "text": [
            "[7 7 4 8 1]\n",
            "[1.09663316e+03 1.09663316e+03 5.45981500e+01 2.98095799e+03\n",
            " 2.71828183e+00]\n",
            "[128. 128.  16. 256.   2.]\n",
            "[49 49 16 64  1]\n"
          ]
        }
      ],
      "source": [
        "a1 = np.random.randint(1, 10, size=5)\n",
        "print(a1)\n",
        "print(np.exp(a1))\n",
        "print(np.exp2(a1))\n",
        "print(np.power(a1, 2))"
      ]
    },
    {
      "cell_type": "code",
      "execution_count": 84,
      "metadata": {
        "id": "YB0BzwxDvnkT"
      },
      "outputs": [
        {
          "name": "stdout",
          "output_type": "stream",
          "text": [
            "[7 7 4 8 1]\n",
            "[1.94591015 1.94591015 1.38629436 2.07944154 0.        ]\n",
            "[2.80735492 2.80735492 2.         3.         0.        ]\n",
            "[0.84509804 0.84509804 0.60205999 0.90308999 0.        ]\n"
          ]
        }
      ],
      "source": [
        "print(a1)\n",
        "print(np.log(a1))\n",
        "print(np.log2(a1))\n",
        "print(np.log10(a1))"
      ]
    },
    {
      "cell_type": "markdown",
      "metadata": {
        "id": "wE_p9AxjtdJ9"
      },
      "source": [
        "#### 삼각 함수(Trigonometrical Function)\n"
      ]
    },
    {
      "cell_type": "code",
      "execution_count": 85,
      "metadata": {
        "id": "6bOSPS81tuo5"
      },
      "outputs": [
        {
          "name": "stdout",
          "output_type": "stream",
          "text": [
            "[0.         1.57079633 3.14159265]\n",
            "[0.0000000e+00 1.0000000e+00 1.2246468e-16]\n",
            "[ 1.000000e+00  6.123234e-17 -1.000000e+00]\n",
            "[ 0.00000000e+00  1.63312394e+16 -1.22464680e-16]\n"
          ]
        }
      ],
      "source": [
        "t = np.linspace(0, np.pi, 3)\n",
        "print(t)\n",
        "print(np.sin(t))\n",
        "print(np.cos(t))\n",
        "print(np.tan(t))"
      ]
    },
    {
      "cell_type": "code",
      "execution_count": 86,
      "metadata": {
        "id": "v7m-AQW9uJ9u"
      },
      "outputs": [
        {
          "name": "stdout",
          "output_type": "stream",
          "text": [
            "[-1, 0, 1]\n",
            "[-1.57079633  0.          1.57079633]\n",
            "[3.14159265 1.57079633 0.        ]\n",
            "[-0.78539816  0.          0.78539816]\n"
          ]
        }
      ],
      "source": [
        "x = [-1, 0 ,1]\n",
        "print(x)\n",
        "print(np.arcsin(x))\n",
        "print(np.arccos(x))\n",
        "print(np.arctan(x))"
      ]
    },
    {
      "cell_type": "markdown",
      "metadata": {
        "id": "hKJtYUVWwxQy"
      },
      "source": [
        "### 집계 함수(Aggregate Functions)"
      ]
    },
    {
      "cell_type": "markdown",
      "metadata": {
        "id": "GdxMrX5l9m6W"
      },
      "source": [
        "#### sum(): 합 계산"
      ]
    },
    {
      "cell_type": "code",
      "execution_count": 87,
      "metadata": {
        "id": "AJQ3GjLI0cZU"
      },
      "outputs": [
        {
          "name": "stdout",
          "output_type": "stream",
          "text": [
            "[[1 1 4]\n",
            " [8 6 8]\n",
            " [3 5 2]]\n",
            "38 38\n",
            "[12 12 14] [12 12 14]\n",
            "[ 6 22 10] [ 6 22 10]\n"
          ]
        }
      ],
      "source": [
        "a2 = np.random.randint(1, 10, size=(3, 3))\n",
        "print(a2)\n",
        "print(a2.sum(), np.sum(a2))\n",
        "print(a2.sum(axis=0), np.sum(a2, axis=0))\n",
        "print(a2.sum(axis=1), np.sum(a2, axis=1))"
      ]
    },
    {
      "cell_type": "markdown",
      "metadata": {
        "id": "U4W4iIb9J4Zd"
      },
      "source": [
        "#### cumsum(): 누적합 계산"
      ]
    },
    {
      "cell_type": "code",
      "execution_count": 88,
      "metadata": {
        "id": "SRZWZD3UJ4wo"
      },
      "outputs": [
        {
          "name": "stdout",
          "output_type": "stream",
          "text": [
            "[[1 1 4]\n",
            " [8 6 8]\n",
            " [3 5 2]]\n",
            "[ 1  2  6 14 20 28 31 36 38]\n",
            "[[ 1  1  4]\n",
            " [ 9  7 12]\n",
            " [12 12 14]]\n",
            "[[ 1  2  6]\n",
            " [ 8 14 22]\n",
            " [ 3  8 10]]\n"
          ]
        }
      ],
      "source": [
        "print(a2)\n",
        "print(np.cumsum(a2))\n",
        "print(np.cumsum(a2, axis=0))\n",
        "print(np.cumsum(a2, axis=1))"
      ]
    },
    {
      "cell_type": "markdown",
      "metadata": {
        "id": "pVaJRWQ-LV0f"
      },
      "source": [
        "#### diff(): 차분 계산"
      ]
    },
    {
      "cell_type": "code",
      "execution_count": 89,
      "metadata": {
        "id": "yKjnWtGVLWJj"
      },
      "outputs": [
        {
          "name": "stdout",
          "output_type": "stream",
          "text": [
            "[[1 1 4]\n",
            " [8 6 8]\n",
            " [3 5 2]]\n",
            "[[ 0  3]\n",
            " [-2  2]\n",
            " [ 2 -3]]\n",
            "[[ 7  5  4]\n",
            " [-5 -1 -6]]\n",
            "[[ 0  3]\n",
            " [-2  2]\n",
            " [ 2 -3]]\n"
          ]
        }
      ],
      "source": [
        "print(a2)\n",
        "print(np.diff(a2))\n",
        "print(np.diff(a2, axis=0))\n",
        "print(np.diff(a2, axis=1))"
      ]
    },
    {
      "cell_type": "markdown",
      "metadata": {
        "id": "b6I38HfA9vGL"
      },
      "source": [
        "#### prod(): 곱 계산"
      ]
    },
    {
      "cell_type": "code",
      "execution_count": 90,
      "metadata": {
        "id": "rGPMXGe89y0O"
      },
      "outputs": [
        {
          "name": "stdout",
          "output_type": "stream",
          "text": [
            "[[1 1 4]\n",
            " [8 6 8]\n",
            " [3 5 2]]\n",
            "46080\n",
            "[24 30 64]\n",
            "[  4 384  30]\n"
          ]
        }
      ],
      "source": [
        "print(a2)\n",
        "print(np.prod(a2))\n",
        "print(np.prod(a2, axis=0))\n",
        "print(np.prod(a2, axis=1))"
      ]
    },
    {
      "cell_type": "markdown",
      "metadata": {
        "id": "RwaoVUGcKkkE"
      },
      "source": [
        "#### cumprod(): 누적곱 계산"
      ]
    },
    {
      "cell_type": "code",
      "execution_count": 91,
      "metadata": {
        "id": "jwYoX9inKk4D"
      },
      "outputs": [
        {
          "name": "stdout",
          "output_type": "stream",
          "text": [
            "[[1 1 4]\n",
            " [8 6 8]\n",
            " [3 5 2]]\n",
            "[    1     1     4    32   192  1536  4608 23040 46080]\n",
            "[[ 1  1  4]\n",
            " [ 8  6 32]\n",
            " [24 30 64]]\n",
            "[[  1   1   4]\n",
            " [  8  48 384]\n",
            " [  3  15  30]]\n"
          ]
        }
      ],
      "source": [
        "print(a2)\n",
        "print(np.cumprod(a2))\n",
        "print(np.cumprod(a2, axis=0))\n",
        "print(np.cumprod(a2, axis=1))"
      ]
    },
    {
      "cell_type": "markdown",
      "metadata": {
        "id": "_LMAbL9hMV7T"
      },
      "source": [
        "#### dot()/matmul(): 점곱/행렬곱 계산"
      ]
    },
    {
      "cell_type": "code",
      "execution_count": 92,
      "metadata": {
        "id": "xC6FBzF0MWW1"
      },
      "outputs": [
        {
          "name": "stdout",
          "output_type": "stream",
          "text": [
            "[[1 1 4]\n",
            " [8 6 8]\n",
            " [3 5 2]]\n",
            "[[1 1 1]\n",
            " [1 1 1]\n",
            " [1 1 1]]\n",
            "[[ 6  6  6]\n",
            " [22 22 22]\n",
            " [10 10 10]]\n",
            "[[ 6  6  6]\n",
            " [22 22 22]\n",
            " [10 10 10]]\n"
          ]
        }
      ],
      "source": [
        "print(a2)\n",
        "b2 = np.ones_like(a2)\n",
        "print(b2)\n",
        "print(np.dot(a2, b2))\n",
        "print(np.matmul(a2, b2))"
      ]
    },
    {
      "cell_type": "markdown",
      "metadata": {
        "id": "juVk3vnjPu31"
      },
      "source": [
        "#### tensordot(): 텐서곱 계산"
      ]
    },
    {
      "cell_type": "code",
      "execution_count": 93,
      "metadata": {
        "id": "3LrcLOcjPvNI"
      },
      "outputs": [
        {
          "name": "stdout",
          "output_type": "stream",
          "text": [
            "[[1 1 4]\n",
            " [8 6 8]\n",
            " [3 5 2]]\n",
            "[[1 1 1]\n",
            " [1 1 1]\n",
            " [1 1 1]]\n",
            "38\n",
            "[[[[1 1 1]\n",
            "   [1 1 1]\n",
            "   [1 1 1]]\n",
            "\n",
            "  [[1 1 1]\n",
            "   [1 1 1]\n",
            "   [1 1 1]]\n",
            "\n",
            "  [[4 4 4]\n",
            "   [4 4 4]\n",
            "   [4 4 4]]]\n",
            "\n",
            "\n",
            " [[[8 8 8]\n",
            "   [8 8 8]\n",
            "   [8 8 8]]\n",
            "\n",
            "  [[6 6 6]\n",
            "   [6 6 6]\n",
            "   [6 6 6]]\n",
            "\n",
            "  [[8 8 8]\n",
            "   [8 8 8]\n",
            "   [8 8 8]]]\n",
            "\n",
            "\n",
            " [[[3 3 3]\n",
            "   [3 3 3]\n",
            "   [3 3 3]]\n",
            "\n",
            "  [[5 5 5]\n",
            "   [5 5 5]\n",
            "   [5 5 5]]\n",
            "\n",
            "  [[2 2 2]\n",
            "   [2 2 2]\n",
            "   [2 2 2]]]]\n",
            "[[ 6  6  6]\n",
            " [22 22 22]\n",
            " [10 10 10]]\n"
          ]
        }
      ],
      "source": [
        "print(a2)\n",
        "print(b2)\n",
        "print(np.tensordot(a2, b2))\n",
        "print(np.tensordot(a2, b2, axes=0))\n",
        "print(np.tensordot(a2, b2, axes=1))"
      ]
    },
    {
      "cell_type": "markdown",
      "metadata": {
        "id": "UzmZhB5TNRMX"
      },
      "source": [
        "#### cross(): 벡터곱"
      ]
    },
    {
      "cell_type": "code",
      "execution_count": 94,
      "metadata": {
        "id": "xvT2hy1FNRkU"
      },
      "outputs": [
        {
          "name": "stdout",
          "output_type": "stream",
          "text": [
            "[-3  6 -3]\n"
          ]
        }
      ],
      "source": [
        "x = [1, 2, 3]\n",
        "y = [4, 5, 6]\n",
        "print(np.cross(x, y))"
      ]
    },
    {
      "cell_type": "markdown",
      "metadata": {
        "id": "SJVYmtrSO5YL"
      },
      "source": [
        "#### inner()/outer(): 내적/외적"
      ]
    },
    {
      "cell_type": "code",
      "execution_count": 95,
      "metadata": {
        "id": "HJpomax7O5s6"
      },
      "outputs": [
        {
          "name": "stdout",
          "output_type": "stream",
          "text": [
            "[[1 1 4]\n",
            " [8 6 8]\n",
            " [3 5 2]]\n",
            "[[1 1 1]\n",
            " [1 1 1]\n",
            " [1 1 1]]\n",
            "[[ 6  6  6]\n",
            " [22 22 22]\n",
            " [10 10 10]]\n",
            "[[1 1 1 1 1 1 1 1 1]\n",
            " [1 1 1 1 1 1 1 1 1]\n",
            " [4 4 4 4 4 4 4 4 4]\n",
            " [8 8 8 8 8 8 8 8 8]\n",
            " [6 6 6 6 6 6 6 6 6]\n",
            " [8 8 8 8 8 8 8 8 8]\n",
            " [3 3 3 3 3 3 3 3 3]\n",
            " [5 5 5 5 5 5 5 5 5]\n",
            " [2 2 2 2 2 2 2 2 2]]\n"
          ]
        }
      ],
      "source": [
        "print(a2)\n",
        "print(b2)\n",
        "print(np.inner(a2, b2))\n",
        "print(np.outer(a2, b2))"
      ]
    },
    {
      "cell_type": "markdown",
      "metadata": {
        "id": "9CIotQgI_RQ-"
      },
      "source": [
        "#### mean(): 평균 계산"
      ]
    },
    {
      "cell_type": "code",
      "execution_count": 96,
      "metadata": {
        "id": "g96wAEOT_bUk"
      },
      "outputs": [
        {
          "name": "stdout",
          "output_type": "stream",
          "text": [
            "[[1 1 4]\n",
            " [8 6 8]\n",
            " [3 5 2]]\n",
            "4.222222222222222\n",
            "[4.         4.         4.66666667]\n",
            "[2.         7.33333333 3.33333333]\n"
          ]
        }
      ],
      "source": [
        "print(a2)\n",
        "print(np.mean(a2))\n",
        "print(np.mean(a2, axis=0))\n",
        "print(np.mean(a2, axis=1))"
      ]
    },
    {
      "cell_type": "markdown",
      "metadata": {
        "id": "wAG_zijP_Z5o"
      },
      "source": [
        "#### std(): 표준 편차 계산"
      ]
    },
    {
      "cell_type": "code",
      "execution_count": 97,
      "metadata": {
        "id": "hlpnuyug_TXA"
      },
      "outputs": [
        {
          "name": "stdout",
          "output_type": "stream",
          "text": [
            "[[1 1 4]\n",
            " [8 6 8]\n",
            " [3 5 2]]\n",
            "2.57240820062005\n",
            "[2.94392029 2.1602469  2.49443826]\n",
            "[1.41421356 0.94280904 1.24721913]\n"
          ]
        }
      ],
      "source": [
        "print(a2)\n",
        "print(np.std(a2))\n",
        "print(np.std(a2, axis=0))\n",
        "print(np.std(a2, axis=1))"
      ]
    },
    {
      "cell_type": "markdown",
      "metadata": {
        "id": "5FFTCCDaAEhx"
      },
      "source": [
        "#### var(): 분산 계산"
      ]
    },
    {
      "cell_type": "code",
      "execution_count": 98,
      "metadata": {
        "id": "CRMNkSdzAGZG"
      },
      "outputs": [
        {
          "name": "stdout",
          "output_type": "stream",
          "text": [
            "[[1 1 4]\n",
            " [8 6 8]\n",
            " [3 5 2]]\n",
            "6.617283950617283\n",
            "[8.66666667 4.66666667 6.22222222]\n",
            "[2.         0.88888889 1.55555556]\n"
          ]
        }
      ],
      "source": [
        "print(a2)\n",
        "print(np.var(a2))\n",
        "print(np.var(a2, axis=0))\n",
        "print(np.var(a2, axis=1))"
      ]
    },
    {
      "cell_type": "markdown",
      "metadata": {
        "id": "QFeh-4tmCCrU"
      },
      "source": [
        "#### min(): 최소값"
      ]
    },
    {
      "cell_type": "code",
      "execution_count": 99,
      "metadata": {
        "id": "SMNCfYBQCEtf"
      },
      "outputs": [
        {
          "name": "stdout",
          "output_type": "stream",
          "text": [
            "[[1 1 4]\n",
            " [8 6 8]\n",
            " [3 5 2]]\n",
            "1\n",
            "[1 1 2]\n",
            "[1 6 2]\n"
          ]
        }
      ],
      "source": [
        "print(a2)\n",
        "print(np.min(a2))\n",
        "print(np.min(a2, axis=0))\n",
        "print(np.min(a2, axis=1))"
      ]
    },
    {
      "cell_type": "markdown",
      "metadata": {
        "id": "A3n_JBnBJ2bo"
      },
      "source": [
        "#### max(): 최대값"
      ]
    },
    {
      "cell_type": "code",
      "execution_count": 100,
      "metadata": {
        "id": "FmuOFKGAJ6Pf"
      },
      "outputs": [
        {
          "name": "stdout",
          "output_type": "stream",
          "text": [
            "[[1 1 4]\n",
            " [8 6 8]\n",
            " [3 5 2]]\n",
            "8\n",
            "[8 6 8]\n",
            "[4 8 5]\n"
          ]
        }
      ],
      "source": [
        "print(a2)\n",
        "print(np.max(a2))\n",
        "print(np.max(a2, axis=0))\n",
        "print(np.max(a2, axis=1))"
      ]
    },
    {
      "cell_type": "markdown",
      "metadata": {
        "id": "PvGOKDP0J_5b"
      },
      "source": [
        "#### argmin(): 최소값 인덱스"
      ]
    },
    {
      "cell_type": "code",
      "execution_count": 101,
      "metadata": {
        "id": "1ILP7L3yKCqA"
      },
      "outputs": [
        {
          "name": "stdout",
          "output_type": "stream",
          "text": [
            "[[1 1 4]\n",
            " [8 6 8]\n",
            " [3 5 2]]\n",
            "0\n",
            "[0 0 2]\n",
            "[0 1 2]\n"
          ]
        }
      ],
      "source": [
        "print(a2)\n",
        "print(np.argmin(a2))\n",
        "print(np.argmin(a2, axis=0))\n",
        "print(np.argmin(a2, axis=1))"
      ]
    },
    {
      "cell_type": "markdown",
      "metadata": {
        "id": "23IcSctIKbUa"
      },
      "source": [
        "#### argmax(): 최대값 인덱스"
      ]
    },
    {
      "cell_type": "code",
      "execution_count": 102,
      "metadata": {
        "id": "2m21cfCFKd-Q"
      },
      "outputs": [
        {
          "name": "stdout",
          "output_type": "stream",
          "text": [
            "[[1 1 4]\n",
            " [8 6 8]\n",
            " [3 5 2]]\n",
            "3\n",
            "[1 1 1]\n",
            "[2 0 1]\n"
          ]
        }
      ],
      "source": [
        "print(a2)\n",
        "print(np.argmax(a2))\n",
        "print(np.argmax(a2, axis=0))\n",
        "print(np.argmax(a2, axis=1))"
      ]
    },
    {
      "cell_type": "markdown",
      "metadata": {
        "id": "3TjeNFQLKuZb"
      },
      "source": [
        "#### median(): 중앙값"
      ]
    },
    {
      "cell_type": "code",
      "execution_count": 103,
      "metadata": {
        "id": "kSLN17bpKwv6"
      },
      "outputs": [
        {
          "name": "stdout",
          "output_type": "stream",
          "text": [
            "[[1 1 4]\n",
            " [8 6 8]\n",
            " [3 5 2]]\n",
            "4.0\n",
            "[3. 5. 4.]\n",
            "[1. 8. 3.]\n"
          ]
        }
      ],
      "source": [
        "print(a2)\n",
        "print(np.median(a2))\n",
        "print(np.median(a2, axis=0))\n",
        "print(np.median(a2, axis=1))"
      ]
    },
    {
      "cell_type": "markdown",
      "metadata": {
        "id": "df-Id-nhLs3L"
      },
      "source": [
        "#### percentile(): 백분위 수\n",
        "\n"
      ]
    },
    {
      "cell_type": "code",
      "execution_count": 104,
      "metadata": {
        "id": "N-TCx9hnLvhK"
      },
      "outputs": [
        {
          "name": "stdout",
          "output_type": "stream",
          "text": [
            "[0 1 2 3]\n",
            "[0.  0.6 1.2 1.8 2.4 3. ]\n",
            "[0 1 2 2 3 3]\n",
            "[0 0 1 1 2 3]\n",
            "[0 1 1 2 2 3]\n",
            "[0.  0.5 1.5 1.5 2.5 3. ]\n"
          ]
        }
      ],
      "source": [
        "a1 = np.array([0, 1, 2, 3])\n",
        "print(a1)\n",
        "print(np.percentile(a1, [0, 20, 40, 60, 80, 100], interpolation='linear'))\n",
        "print(np.percentile(a1, [0, 20, 40, 60, 80, 100], interpolation='higher'))\n",
        "print(np.percentile(a1, [0, 20, 40, 60, 80, 100], interpolation='lower'))\n",
        "print(np.percentile(a1, [0, 20, 40, 60, 80, 100], interpolation='nearest'))\n",
        "print(np.percentile(a1, [0, 20, 40, 60, 80, 100], interpolation='midpoint'))"
      ]
    },
    {
      "cell_type": "markdown",
      "metadata": {
        "id": "x0NnNsvvNDIs"
      },
      "source": [
        "#### any()"
      ]
    },
    {
      "cell_type": "code",
      "execution_count": 105,
      "metadata": {
        "id": "I1XDqsFxOMvA"
      },
      "outputs": [
        {
          "name": "stdout",
          "output_type": "stream",
          "text": [
            "[[False False  True]\n",
            " [False  True  True]\n",
            " [False  True  True]]\n",
            "True\n",
            "[False  True  True]\n",
            "[ True  True  True]\n"
          ]
        }
      ],
      "source": [
        "a2 = np.array([[False, False, True],\n",
        "                [False, True, True],\n",
        "                [False, True, True]])\n",
        "print(a2)\n",
        "print(np.any(a2))\n",
        "print(np.any(a2, axis=0))\n",
        "print(np.any(a2, axis=1))"
      ]
    },
    {
      "cell_type": "markdown",
      "metadata": {
        "id": "Uw-wjYgyONBZ"
      },
      "source": [
        "#### all()"
      ]
    },
    {
      "cell_type": "code",
      "execution_count": 106,
      "metadata": {
        "id": "sXi2AHOHONYq"
      },
      "outputs": [
        {
          "name": "stdout",
          "output_type": "stream",
          "text": [
            "[[False False  True]\n",
            " [False  True  True]\n",
            " [False  True  True]]\n",
            "False\n",
            "[False False  True]\n",
            "[False False False]\n"
          ]
        }
      ],
      "source": [
        "a2 = np.array([[False, False, True],\n",
        "                [False, True, True],\n",
        "                [False, True, True]])\n",
        "print(a2)\n",
        "print(np.all(a2))\n",
        "print(np.all(a2, axis=0))\n",
        "print(np.all(a2, axis=1))"
      ]
    },
    {
      "cell_type": "markdown",
      "metadata": {
        "id": "0n7lgzmUwqr1"
      },
      "source": [
        "### 비교 연산(Comparison Operators)\n"
      ]
    },
    {
      "cell_type": "code",
      "execution_count": 107,
      "metadata": {
        "id": "E00V-nBTVnCu"
      },
      "outputs": [
        {
          "name": "stdout",
          "output_type": "stream",
          "text": [
            "[1 2 3 4 5 6 7 8 9]\n",
            "[False False False False  True False False False False]\n",
            "[ True  True  True  True False  True  True  True  True]\n",
            "[ True  True  True  True False False False False False]\n",
            "[ True  True  True  True  True False False False False]\n",
            "[False False False False False  True  True  True  True]\n",
            "[False False False False  True  True  True  True  True]\n"
          ]
        }
      ],
      "source": [
        "a1 = np.arange(1, 10)\n",
        "print(a1)\n",
        "print(a1 == 5)\n",
        "print(a1 != 5)\n",
        "print(a1 < 5)\n",
        "print(a1 <= 5)\n",
        "print(a1 > 5)\n",
        "print(a1 >= 5)"
      ]
    },
    {
      "cell_type": "code",
      "execution_count": 108,
      "metadata": {
        "id": "3MwV1CU1WsWS"
      },
      "outputs": [
        {
          "name": "stdout",
          "output_type": "stream",
          "text": [
            "[[1 2 3]\n",
            " [4 5 6]\n",
            " [7 8 9]]\n",
            "45\n",
            "4\n",
            "4\n",
            "[1 1 2]\n",
            "[0 1 3]\n",
            "True\n",
            "[ True  True  True]\n",
            "[False  True  True]\n",
            "False\n",
            "[False False False]\n",
            "[False False  True]\n"
          ]
        }
      ],
      "source": [
        "a2 = np.arange(1, 10).reshape(3, 3)\n",
        "print(a2)\n",
        "print(np.sum(a2))\n",
        "print(np.count_nonzero(a2 > 5))\n",
        "print(np.sum(a2 > 5))\n",
        "print(np.sum(a2 > 5, axis=0))\n",
        "print(np.sum(a2 > 5, axis=1))\n",
        "print(np.any(a2 > 5))\n",
        "print(np.any(a2 > 5, axis=0))\n",
        "print(np.any(a2 > 5, axis=1))\n",
        "print(np.all(a2 > 5))\n",
        "print(np.all(a2 > 5, axis=0))\n",
        "print(np.all(a2 > 5, axis=1))"
      ]
    },
    {
      "cell_type": "code",
      "execution_count": 109,
      "metadata": {
        "id": "D4cuMoyEPn8R"
      },
      "outputs": [
        {
          "name": "stdout",
          "output_type": "stream",
          "text": [
            "[1 2 3 4 5]\n",
            "[1 2 3 3 4]\n",
            "[ True  True  True False False]\n"
          ]
        }
      ],
      "source": [
        "a1 = np.array([1, 2, 3, 4, 5])\n",
        "print(a1)\n",
        "b1 = np.array([1, 2, 3, 3, 4])\n",
        "print(b1)\n",
        "print(np.isclose(a1, b1))"
      ]
    },
    {
      "cell_type": "code",
      "execution_count": 110,
      "metadata": {
        "id": "af9VSc6FyMBh"
      },
      "outputs": [
        {
          "name": "stdout",
          "output_type": "stream",
          "text": [
            "[ nan   2.  inf   4. -inf]\n",
            "[ True False False False False]\n",
            "[False False  True False  True]\n",
            "[False  True False  True False]\n"
          ]
        }
      ],
      "source": [
        "a1 = np.array([np.nan, 2, np.inf, 4, np.NINF])\n",
        "print(a1)\n",
        "print(np.isnan(a1))\n",
        "print(np.isinf(a1))\n",
        "print(np.isfinite(a1))"
      ]
    },
    {
      "cell_type": "markdown",
      "metadata": {
        "id": "4BHMetMlYmt-"
      },
      "source": [
        "#### 불리언 연산자(Boolean Operators)\n"
      ]
    },
    {
      "cell_type": "code",
      "execution_count": 111,
      "metadata": {
        "id": "ZV1-8DkUHOZq"
      },
      "outputs": [
        {
          "name": "stdout",
          "output_type": "stream",
          "text": [
            "[[1 2 3]\n",
            " [4 5 6]\n",
            " [7 8 9]]\n",
            "[[False False False]\n",
            " [False False  True]\n",
            " [ True False False]]\n",
            "[6 7]\n",
            "[[ True  True  True]\n",
            " [ True  True  True]\n",
            " [ True  True  True]]\n",
            "[1 2 3 4 5 6 7 8 9]\n",
            "[[ True  True  True]\n",
            " [ True  True False]\n",
            " [False  True  True]]\n",
            "[1 2 3 4 5 8 9]\n",
            "[[ True  True  True]\n",
            " [ True  True False]\n",
            " [False False False]]\n",
            "[1 2 3 4 5]\n"
          ]
        }
      ],
      "source": [
        "a2 = np.arange(1, 10).reshape(3, 3)\n",
        "print(a2)\n",
        "\n",
        "print((a2 > 5) & (a2 < 8))\n",
        "print(a2[(a2 > 5) & (a2 < 8)])\n",
        "\n",
        "print((a2 > 5) | (a2 < 8))\n",
        "print(a2[(a2 > 5) | (a2 < 8)])\n",
        "\n",
        "print((a2 > 5) ^ (a2 < 8))\n",
        "print(a2[(a2 > 5) ^ (a2 < 8)])\n",
        "\n",
        "print(~(a2 > 5))\n",
        "print(a2[~(a2 > 5)])"
      ]
    },
    {
      "cell_type": "markdown",
      "metadata": {
        "id": "FlQJVeGBxIFw"
      },
      "source": [
        "### 배열 정렬"
      ]
    },
    {
      "cell_type": "code",
      "execution_count": 112,
      "metadata": {
        "id": "x0sodUMqLU37"
      },
      "outputs": [
        {
          "name": "stdout",
          "output_type": "stream",
          "text": [
            "[8 2 9 1 3 1 4 9 7 4]\n",
            "[1 1 2 3 4 4 7 8 9 9]\n",
            "[8 2 9 1 3 1 4 9 7 4]\n",
            "[3 5 1 4 6 9 8 0 2 7]\n",
            "[8 2 9 1 3 1 4 9 7 4]\n",
            "None\n",
            "[1 1 2 3 4 4 7 8 9 9]\n"
          ]
        }
      ],
      "source": [
        "a1 = np.random.randint(1, 10, size=10)\n",
        "print(a1)\n",
        "print(np.sort(a1))\n",
        "print(a1)\n",
        "print(np.argsort(a1))\n",
        "print(a1)\n",
        "print(a1.sort())\n",
        "print(a1)"
      ]
    },
    {
      "cell_type": "code",
      "execution_count": 113,
      "metadata": {
        "id": "FO_sO5POzeMp"
      },
      "outputs": [
        {
          "name": "stdout",
          "output_type": "stream",
          "text": [
            "[[3 9 4]\n",
            " [5 7 9]\n",
            " [4 3 1]]\n",
            "[[3 3 1]\n",
            " [4 7 4]\n",
            " [5 9 9]]\n",
            "[[3 4 9]\n",
            " [5 7 9]\n",
            " [1 3 4]]\n"
          ]
        }
      ],
      "source": [
        "a2 = np.random.randint(1, 10, size=(3, 3))\n",
        "print(a2)\n",
        "print(np.sort(a2, axis=0))\n",
        "print(np.sort(a2, axis=1))"
      ]
    },
    {
      "cell_type": "markdown",
      "metadata": {
        "id": "yYSItPz_00sZ"
      },
      "source": [
        "#### 부분 정렬\n",
        "\n",
        "* `partition()`: 배열에서 k개의 작은 값을 반환"
      ]
    },
    {
      "cell_type": "code",
      "execution_count": 114,
      "metadata": {
        "id": "QQwov4N00YFP"
      },
      "outputs": [
        {
          "name": "stdout",
          "output_type": "stream",
          "text": [
            "[4 7 2 6 6 5 9 6 3 1]\n",
            "[3 1 2 4 7 5 9 6 6 6]\n"
          ]
        }
      ],
      "source": [
        "a1 = np.random.randint(1, 10, size=10)\n",
        "print(a1)\n",
        "print(np.partition(a1, 3))"
      ]
    },
    {
      "cell_type": "code",
      "execution_count": 115,
      "metadata": {},
      "outputs": [
        {
          "name": "stdout",
          "output_type": "stream",
          "text": [
            "[[5 8 5 9 2]\n",
            " [1 9 8 8 7]\n",
            " [4 3 9 2 9]\n",
            " [2 7 1 8 2]\n",
            " [1 6 3 3 6]]\n",
            "[[2 5 5 8 9]\n",
            " [1 7 8 8 9]\n",
            " [2 4 3 9 9]\n",
            " [1 2 2 7 8]\n",
            " [3 1 3 6 6]]\n",
            "[[2 3 1 2 2]\n",
            " [1 6 3 3 2]\n",
            " [1 7 5 8 6]\n",
            " [4 8 8 8 7]\n",
            " [5 9 9 9 9]]\n",
            "[[2 5 5 8 9]\n",
            " [1 7 8 8 9]\n",
            " [2 4 3 9 9]\n",
            " [1 2 2 7 8]\n",
            " [3 1 3 6 6]]\n"
          ]
        }
      ],
      "source": [
        "a2 = np.random.randint(1, 10, size=(5, 5))\n",
        "print(a2)\n",
        "print(np.partition(a2, 3))\n",
        "print(np.partition(a2, 3, axis=0))\n",
        "print(np.partition(a2, 3, axis=1))"
      ]
    },
    {
      "cell_type": "markdown",
      "metadata": {
        "id": "77DSA72ML5cI"
      },
      "source": [
        "## 배열 입출력\n"
      ]
    },
    {
      "cell_type": "code",
      "execution_count": 116,
      "metadata": {
        "id": "da-Mm_gzIs7U"
      },
      "outputs": [
        {
          "name": "stdout",
          "output_type": "stream",
          "text": [
            "[[4 2 1 1 1]\n",
            " [5 4 4 3 5]\n",
            " [5 5 9 8 7]\n",
            " [9 9 5 9 8]\n",
            " [5 4 7 6 8]]\n"
          ]
        }
      ],
      "source": [
        "a2 = np.random.randint(1, 10, size=(5, 5))\n",
        "print(a2)\n",
        "np.save('a', a2)"
      ]
    },
    {
      "cell_type": "code",
      "execution_count": 117,
      "metadata": {
        "colab": {
          "base_uri": "https://localhost:8080/",
          "height": 34
        },
        "id": "pFOWyDvAsf11",
        "outputId": "8be0a298-07ab-4526-e9d4-2796faadee9a"
      },
      "outputs": [
        {
          "name": "stdout",
          "output_type": "stream",
          "text": [
            "_NumPy_한번에_제대로_배우기.ipynb\n",
            "a.csv\n",
            "a.npy\n",
            "ab.npz\n",
            "b.csv\n"
          ]
        }
      ],
      "source": [
        "!ls"
      ]
    },
    {
      "cell_type": "code",
      "execution_count": 118,
      "metadata": {
        "id": "Hvb_ilyisoIV"
      },
      "outputs": [
        {
          "name": "stdout",
          "output_type": "stream",
          "text": [
            "[[7 1 1 8 2]\n",
            " [1 9 7 6 1]\n",
            " [1 6 5 6 9]\n",
            " [3 3 5 5 9]\n",
            " [3 3 1 7 5]]\n"
          ]
        }
      ],
      "source": [
        "b2 = np.random.randint(1, 10, size=(5, 5))\n",
        "print(b2)\n",
        "np.savez('ab', a2, b2)"
      ]
    },
    {
      "cell_type": "code",
      "execution_count": 119,
      "metadata": {
        "id": "ArWZfL31s1wU"
      },
      "outputs": [
        {
          "name": "stdout",
          "output_type": "stream",
          "text": [
            "_NumPy_한번에_제대로_배우기.ipynb\n",
            "a.csv\n",
            "a.npy\n",
            "ab.npz\n",
            "b.csv\n"
          ]
        }
      ],
      "source": [
        "!ls"
      ]
    },
    {
      "cell_type": "code",
      "execution_count": 120,
      "metadata": {
        "id": "che4cEJEs2Tr"
      },
      "outputs": [
        {
          "name": "stdout",
          "output_type": "stream",
          "text": [
            "[[4 2 1 1 1]\n",
            " [5 4 4 3 5]\n",
            " [5 5 9 8 7]\n",
            " [9 9 5 9 8]\n",
            " [5 4 7 6 8]]\n"
          ]
        }
      ],
      "source": [
        "npy = np.load('a.npy')\n",
        "print(npy)"
      ]
    },
    {
      "cell_type": "code",
      "execution_count": 121,
      "metadata": {
        "id": "X2yIUsYvtMj6"
      },
      "outputs": [
        {
          "name": "stdout",
          "output_type": "stream",
          "text": [
            "['arr_0', 'arr_1']\n",
            "[[4 2 1 1 1]\n",
            " [5 4 4 3 5]\n",
            " [5 5 9 8 7]\n",
            " [9 9 5 9 8]\n",
            " [5 4 7 6 8]]\n",
            "[[7 1 1 8 2]\n",
            " [1 9 7 6 1]\n",
            " [1 6 5 6 9]\n",
            " [3 3 5 5 9]\n",
            " [3 3 1 7 5]]\n"
          ]
        }
      ],
      "source": [
        "npz = np.load('ab.npz')\n",
        "print(npz.files)\n",
        "print(npz['arr_0'])\n",
        "print(npz['arr_1'])"
      ]
    },
    {
      "cell_type": "code",
      "execution_count": 122,
      "metadata": {
        "id": "Yj5ec-CYtaH1"
      },
      "outputs": [
        {
          "name": "stdout",
          "output_type": "stream",
          "text": [
            "[[4 2 1 1 1]\n",
            " [5 4 4 3 5]\n",
            " [5 5 9 8 7]\n",
            " [9 9 5 9 8]\n",
            " [5 4 7 6 8]]\n"
          ]
        }
      ],
      "source": [
        "print(a2)\n",
        "np.savetxt('a.csv', a2, delimiter=',')"
      ]
    },
    {
      "cell_type": "code",
      "execution_count": 123,
      "metadata": {
        "id": "_NIDrc-VuPmv"
      },
      "outputs": [
        {
          "name": "stdout",
          "output_type": "stream",
          "text": [
            "_NumPy_한번에_제대로_배우기.ipynb\n",
            "a.csv\n",
            "a.npy\n",
            "ab.npz\n",
            "b.csv\n"
          ]
        }
      ],
      "source": [
        "!ls"
      ]
    },
    {
      "cell_type": "code",
      "execution_count": 124,
      "metadata": {
        "id": "bPhmIoVBuQMf"
      },
      "outputs": [
        {
          "name": "stdout",
          "output_type": "stream",
          "text": [
            "4.000000000000000000e+00,2.000000000000000000e+00,1.000000000000000000e+00,1.000000000000000000e+00,1.000000000000000000e+00\n",
            "5.000000000000000000e+00,4.000000000000000000e+00,4.000000000000000000e+00,3.000000000000000000e+00,5.000000000000000000e+00\n",
            "5.000000000000000000e+00,5.000000000000000000e+00,9.000000000000000000e+00,8.000000000000000000e+00,7.000000000000000000e+00\n",
            "9.000000000000000000e+00,9.000000000000000000e+00,5.000000000000000000e+00,9.000000000000000000e+00,8.000000000000000000e+00\n",
            "5.000000000000000000e+00,4.000000000000000000e+00,7.000000000000000000e+00,6.000000000000000000e+00,8.000000000000000000e+00\n"
          ]
        }
      ],
      "source": [
        "!cat a.csv"
      ]
    },
    {
      "cell_type": "code",
      "execution_count": 125,
      "metadata": {
        "id": "FeB2p4azuTDv"
      },
      "outputs": [
        {
          "name": "stdout",
          "output_type": "stream",
          "text": [
            "[[4. 2. 1. 1. 1.]\n",
            " [5. 4. 4. 3. 5.]\n",
            " [5. 5. 9. 8. 7.]\n",
            " [9. 9. 5. 9. 8.]\n",
            " [5. 4. 7. 6. 8.]]\n"
          ]
        }
      ],
      "source": [
        "csv = np.loadtxt('a.csv', delimiter=',')\n",
        "print(csv)"
      ]
    },
    {
      "cell_type": "code",
      "execution_count": 126,
      "metadata": {
        "id": "IUg8Vg4fuxR5"
      },
      "outputs": [
        {
          "name": "stdout",
          "output_type": "stream",
          "text": [
            "[[7 1 1 8 2]\n",
            " [1 9 7 6 1]\n",
            " [1 6 5 6 9]\n",
            " [3 3 5 5 9]\n",
            " [3 3 1 7 5]]\n"
          ]
        }
      ],
      "source": [
        "print(b2)\n",
        "np.savetxt('b.csv', b2, delimiter=',', fmt='%.2e', header='c1, c2, c3, c4, c5', )"
      ]
    },
    {
      "cell_type": "code",
      "execution_count": 127,
      "metadata": {
        "id": "lIK5dSv6vtm2"
      },
      "outputs": [
        {
          "name": "stdout",
          "output_type": "stream",
          "text": [
            "# c1, c2, c3, c4, c5\n",
            "7.00e+00,1.00e+00,1.00e+00,8.00e+00,2.00e+00\n",
            "1.00e+00,9.00e+00,7.00e+00,6.00e+00,1.00e+00\n",
            "1.00e+00,6.00e+00,5.00e+00,6.00e+00,9.00e+00\n",
            "3.00e+00,3.00e+00,5.00e+00,5.00e+00,9.00e+00\n",
            "3.00e+00,3.00e+00,1.00e+00,7.00e+00,5.00e+00\n"
          ]
        }
      ],
      "source": [
        "!cat b.csv"
      ]
    },
    {
      "cell_type": "code",
      "execution_count": 128,
      "metadata": {
        "id": "l4O-gVxdv8-d"
      },
      "outputs": [
        {
          "name": "stdout",
          "output_type": "stream",
          "text": [
            "[[7. 1. 1. 8. 2.]\n",
            " [1. 9. 7. 6. 1.]\n",
            " [1. 6. 5. 6. 9.]\n",
            " [3. 3. 5. 5. 9.]\n",
            " [3. 3. 1. 7. 5.]]\n"
          ]
        }
      ],
      "source": [
        "csv = np.loadtxt('b.csv', delimiter=',')\n",
        "print(csv)"
      ]
    },
    {
      "cell_type": "markdown",
      "metadata": {
        "id": "JM2Ghx2NGloN"
      },
      "source": [
        "\n",
        "\n",
        "---\n",
        "\n"
      ]
    }
  ],
  "metadata": {
    "colab": {
      "collapsed_sections": [],
      "include_colab_link": true,
      "name": "_NumPy 한번에 제대로 배우기.ipynb",
      "provenance": [],
      "toc_visible": true
    },
    "kernelspec": {
      "display_name": "Python 3",
      "name": "python3"
    },
    "language_info": {
      "codemirror_mode": {
        "name": "ipython",
        "version": 3
      },
      "file_extension": ".py",
      "mimetype": "text/x-python",
      "name": "python",
      "nbconvert_exporter": "python",
      "pygments_lexer": "ipython3",
      "version": "3.7.11"
    }
  },
  "nbformat": 4,
  "nbformat_minor": 0
}
