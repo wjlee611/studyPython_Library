{
  "cells": [
    {
      "cell_type": "markdown",
      "metadata": {
        "colab_type": "text",
        "id": "view-in-github"
      },
      "source": [
        "<a href=\"https://colab.research.google.com/github/wjlee611/studyPython_Library/blob/main/_Pandas_%ED%95%9C%EB%B2%88%EC%97%90_%EC%A0%9C%EB%8C%80%EB%A1%9C_%EB%B0%B0%EC%9A%B0%EA%B8%B0.ipynb\" target=\"_parent\"><img src=\"https://colab.research.google.com/assets/colab-badge.svg\" alt=\"Open In Colab\"/></a>"
      ]
    },
    {
      "cell_type": "markdown",
      "metadata": {
        "id": "l5jkTeeNjUae"
      },
      "source": [
        "# Pandas 한번에 제대로 배우기\n"
      ]
    },
    {
      "cell_type": "markdown",
      "metadata": {
        "id": "063zrZmgk8Gx"
      },
      "source": [
        "\n",
        "\n",
        "---\n",
        "\n"
      ]
    },
    {
      "cell_type": "code",
      "execution_count": 1,
      "metadata": {
        "id": "yse0ihPdjJbw"
      },
      "outputs": [
        {
          "data": {
            "text/plain": [
              "'1.3.4'"
            ]
          },
          "execution_count": 1,
          "metadata": {},
          "output_type": "execute_result"
        }
      ],
      "source": [
        "import numpy as np\n",
        "import pandas as pd\n",
        "pd.__version__"
      ]
    },
    {
      "cell_type": "markdown",
      "metadata": {
        "id": "CsH0REQfuLu2"
      },
      "source": [
        "## Pandas 객체\n"
      ]
    },
    {
      "cell_type": "markdown",
      "metadata": {
        "id": "J4u_-QUtwsKq"
      },
      "source": [
        "### Series 객체"
      ]
    },
    {
      "cell_type": "code",
      "execution_count": 2,
      "metadata": {
        "id": "xb5Lsw3Qk_6Q"
      },
      "outputs": [
        {
          "data": {
            "text/plain": [
              "0    0.00\n",
              "1    0.25\n",
              "2    0.50\n",
              "3    0.75\n",
              "4    1.00\n",
              "dtype: float64"
            ]
          },
          "execution_count": 2,
          "metadata": {},
          "output_type": "execute_result"
        }
      ],
      "source": [
        "s = pd.Series([0, 0.25, 0.5, 0.75, 1.0])\n",
        "s"
      ]
    },
    {
      "cell_type": "code",
      "execution_count": 3,
      "metadata": {
        "id": "kU9VyUV6uiNx"
      },
      "outputs": [
        {
          "data": {
            "text/plain": [
              "array([0.  , 0.25, 0.5 , 0.75, 1.  ])"
            ]
          },
          "execution_count": 3,
          "metadata": {},
          "output_type": "execute_result"
        }
      ],
      "source": [
        "s.values"
      ]
    },
    {
      "cell_type": "code",
      "execution_count": 4,
      "metadata": {
        "id": "4fRQDuG2une6"
      },
      "outputs": [
        {
          "data": {
            "text/plain": [
              "RangeIndex(start=0, stop=5, step=1)"
            ]
          },
          "execution_count": 4,
          "metadata": {},
          "output_type": "execute_result"
        }
      ],
      "source": [
        "s.index"
      ]
    },
    {
      "cell_type": "code",
      "execution_count": 5,
      "metadata": {
        "id": "yZZ8khTnun6k"
      },
      "outputs": [
        {
          "data": {
            "text/plain": [
              "0.25"
            ]
          },
          "execution_count": 5,
          "metadata": {},
          "output_type": "execute_result"
        }
      ],
      "source": [
        "s[1]"
      ]
    },
    {
      "cell_type": "code",
      "execution_count": 6,
      "metadata": {
        "id": "TYahWVDa5QHX"
      },
      "outputs": [
        {
          "data": {
            "text/plain": [
              "1    0.25\n",
              "2    0.50\n",
              "3    0.75\n",
              "dtype: float64"
            ]
          },
          "execution_count": 6,
          "metadata": {},
          "output_type": "execute_result"
        }
      ],
      "source": [
        "s[1:4]"
      ]
    },
    {
      "cell_type": "code",
      "execution_count": 7,
      "metadata": {
        "id": "YSLBo7xOuw4X"
      },
      "outputs": [
        {
          "data": {
            "text/plain": [
              "a    0.00\n",
              "b    0.25\n",
              "c    0.50\n",
              "d    0.75\n",
              "e    1.00\n",
              "dtype: float64"
            ]
          },
          "execution_count": 7,
          "metadata": {},
          "output_type": "execute_result"
        }
      ],
      "source": [
        "s = pd.Series([0, 0.25, 0.5, 0.75, 1], \n",
        "                index=['a', 'b', 'c', 'd', 'e'])\n",
        "s"
      ]
    },
    {
      "cell_type": "code",
      "execution_count": 8,
      "metadata": {
        "id": "9cZUdDGdvKMs"
      },
      "outputs": [
        {
          "data": {
            "text/plain": [
              "0.5"
            ]
          },
          "execution_count": 8,
          "metadata": {},
          "output_type": "execute_result"
        }
      ],
      "source": [
        "s['c']"
      ]
    },
    {
      "cell_type": "code",
      "execution_count": 9,
      "metadata": {
        "id": "YME6WAvUnvAE"
      },
      "outputs": [
        {
          "data": {
            "text/plain": [
              "c    0.50\n",
              "d    0.75\n",
              "e    1.00\n",
              "dtype: float64"
            ]
          },
          "execution_count": 9,
          "metadata": {},
          "output_type": "execute_result"
        }
      ],
      "source": [
        "s[['c', 'd', 'e']]"
      ]
    },
    {
      "cell_type": "code",
      "execution_count": 10,
      "metadata": {
        "id": "ICRZfCe1o9SO"
      },
      "outputs": [
        {
          "data": {
            "text/plain": [
              "True"
            ]
          },
          "execution_count": 10,
          "metadata": {},
          "output_type": "execute_result"
        }
      ],
      "source": [
        "'b' in s"
      ]
    },
    {
      "cell_type": "code",
      "execution_count": 11,
      "metadata": {
        "id": "fk7JuV4yvLUO"
      },
      "outputs": [
        {
          "data": {
            "text/plain": [
              "2     0.00\n",
              "4     0.25\n",
              "6     0.50\n",
              "8     0.75\n",
              "10    1.00\n",
              "dtype: float64"
            ]
          },
          "execution_count": 11,
          "metadata": {},
          "output_type": "execute_result"
        }
      ],
      "source": [
        "s = pd.Series([0, 0.25, 0.5, 0.75, 1],\n",
        "                index=[2, 4, 6, 8, 10])\n",
        "s"
      ]
    },
    {
      "cell_type": "code",
      "execution_count": 12,
      "metadata": {
        "id": "z8X3HamnxweS"
      },
      "outputs": [
        {
          "data": {
            "text/plain": [
              "0.25"
            ]
          },
          "execution_count": 12,
          "metadata": {},
          "output_type": "execute_result"
        }
      ],
      "source": [
        "s[4]"
      ]
    },
    {
      "cell_type": "code",
      "execution_count": 13,
      "metadata": {
        "id": "BPIhn89Tn_wd"
      },
      "outputs": [
        {
          "data": {
            "text/plain": [
              "6     0.50\n",
              "8     0.75\n",
              "10    1.00\n",
              "dtype: float64"
            ]
          },
          "execution_count": 13,
          "metadata": {},
          "output_type": "execute_result"
        }
      ],
      "source": [
        "s[2:]"
      ]
    },
    {
      "cell_type": "code",
      "execution_count": 14,
      "metadata": {
        "id": "bJjXA4YLrRUK"
      },
      "outputs": [
        {
          "data": {
            "text/plain": [
              "array([0.  , 0.25, 0.5 , 0.75, 1.  ])"
            ]
          },
          "execution_count": 14,
          "metadata": {},
          "output_type": "execute_result"
        }
      ],
      "source": [
        "s.unique()"
      ]
    },
    {
      "cell_type": "code",
      "execution_count": 15,
      "metadata": {
        "id": "e77ZJdhtrejE"
      },
      "outputs": [
        {
          "data": {
            "text/plain": [
              "0.00    1\n",
              "0.25    1\n",
              "0.50    1\n",
              "0.75    1\n",
              "1.00    1\n",
              "dtype: int64"
            ]
          },
          "execution_count": 15,
          "metadata": {},
          "output_type": "execute_result"
        }
      ],
      "source": [
        "s.value_counts()"
      ]
    },
    {
      "cell_type": "code",
      "execution_count": 16,
      "metadata": {
        "id": "5M0yujydruQv"
      },
      "outputs": [
        {
          "data": {
            "text/plain": [
              "2     False\n",
              "4      True\n",
              "6     False\n",
              "8      True\n",
              "10    False\n",
              "dtype: bool"
            ]
          },
          "execution_count": 16,
          "metadata": {},
          "output_type": "execute_result"
        }
      ],
      "source": [
        "s.isin([0.25, 0.75])"
      ]
    },
    {
      "cell_type": "code",
      "execution_count": 17,
      "metadata": {
        "id": "4Ys3lrybxyz4"
      },
      "outputs": [
        {
          "data": {
            "text/plain": [
              "서울특별시    9720846\n",
              "부산광역시    3404423\n",
              "인천광역시    2947217\n",
              "대구광역시    2427954\n",
              "대전광역시    1471040\n",
              "광주광역시    1455048\n",
              "dtype: int64"
            ]
          },
          "execution_count": 17,
          "metadata": {},
          "output_type": "execute_result"
        }
      ],
      "source": [
        "pop_tuple = {'서울특별시': 9720846,\n",
        "            '부산광역시': 3404423,\n",
        "            '인천광역시': 2947217,\n",
        "            '대구광역시': 2427954,\n",
        "            '대전광역시': 1471040,\n",
        "            '광주광역시': 1455048}\n",
        "population = pd.Series(pop_tuple)\n",
        "population"
      ]
    },
    {
      "cell_type": "code",
      "execution_count": 18,
      "metadata": {
        "id": "6colocsazpUm"
      },
      "outputs": [
        {
          "data": {
            "text/plain": [
              "9720846"
            ]
          },
          "execution_count": 18,
          "metadata": {},
          "output_type": "execute_result"
        }
      ],
      "source": [
        "population['서울특별시']"
      ]
    },
    {
      "cell_type": "code",
      "execution_count": 19,
      "metadata": {
        "id": "3Vrk6g0bz2pP"
      },
      "outputs": [
        {
          "data": {
            "text/plain": [
              "서울특별시    9720846\n",
              "부산광역시    3404423\n",
              "인천광역시    2947217\n",
              "dtype: int64"
            ]
          },
          "execution_count": 19,
          "metadata": {},
          "output_type": "execute_result"
        }
      ],
      "source": [
        "population['서울특별시':'인천광역시']"
      ]
    },
    {
      "cell_type": "markdown",
      "metadata": {
        "id": "2oGWT2Kd0JV0"
      },
      "source": [
        "### DataFrame 객체"
      ]
    },
    {
      "cell_type": "code",
      "execution_count": 20,
      "metadata": {
        "id": "BWi3ow9C3N5c"
      },
      "outputs": [
        {
          "data": {
            "text/html": [
              "<div>\n",
              "<style scoped>\n",
              "    .dataframe tbody tr th:only-of-type {\n",
              "        vertical-align: middle;\n",
              "    }\n",
              "\n",
              "    .dataframe tbody tr th {\n",
              "        vertical-align: top;\n",
              "    }\n",
              "\n",
              "    .dataframe thead th {\n",
              "        text-align: right;\n",
              "    }\n",
              "</style>\n",
              "<table border=\"1\" class=\"dataframe\">\n",
              "  <thead>\n",
              "    <tr style=\"text-align: right;\">\n",
              "      <th></th>\n",
              "      <th>A</th>\n",
              "      <th>B</th>\n",
              "      <th>D</th>\n",
              "      <th>C</th>\n",
              "    </tr>\n",
              "  </thead>\n",
              "  <tbody>\n",
              "    <tr>\n",
              "      <th>0</th>\n",
              "      <td>2</td>\n",
              "      <td>4</td>\n",
              "      <td>3.0</td>\n",
              "      <td>NaN</td>\n",
              "    </tr>\n",
              "    <tr>\n",
              "      <th>1</th>\n",
              "      <td>4</td>\n",
              "      <td>5</td>\n",
              "      <td>NaN</td>\n",
              "      <td>7.0</td>\n",
              "    </tr>\n",
              "  </tbody>\n",
              "</table>\n",
              "</div>"
            ],
            "text/plain": [
              "   A  B    D    C\n",
              "0  2  4  3.0  NaN\n",
              "1  4  5  NaN  7.0"
            ]
          },
          "execution_count": 20,
          "metadata": {},
          "output_type": "execute_result"
        }
      ],
      "source": [
        "pd.DataFrame([{'A':2, 'B':4, 'D':3}, {'A':4, 'B':5, 'C':7}])"
      ]
    },
    {
      "cell_type": "code",
      "execution_count": 21,
      "metadata": {
        "id": "KSeay5dT35eH"
      },
      "outputs": [
        {
          "data": {
            "text/html": [
              "<div>\n",
              "<style scoped>\n",
              "    .dataframe tbody tr th:only-of-type {\n",
              "        vertical-align: middle;\n",
              "    }\n",
              "\n",
              "    .dataframe tbody tr th {\n",
              "        vertical-align: top;\n",
              "    }\n",
              "\n",
              "    .dataframe thead th {\n",
              "        text-align: right;\n",
              "    }\n",
              "</style>\n",
              "<table border=\"1\" class=\"dataframe\">\n",
              "  <thead>\n",
              "    <tr style=\"text-align: right;\">\n",
              "      <th></th>\n",
              "      <th>A</th>\n",
              "      <th>B</th>\n",
              "      <th>C</th>\n",
              "      <th>D</th>\n",
              "      <th>E</th>\n",
              "    </tr>\n",
              "  </thead>\n",
              "  <tbody>\n",
              "    <tr>\n",
              "      <th>1</th>\n",
              "      <td>0.204214</td>\n",
              "      <td>0.522123</td>\n",
              "      <td>0.407508</td>\n",
              "      <td>0.782999</td>\n",
              "      <td>0.403507</td>\n",
              "    </tr>\n",
              "    <tr>\n",
              "      <th>2</th>\n",
              "      <td>0.245695</td>\n",
              "      <td>0.657860</td>\n",
              "      <td>0.502449</td>\n",
              "      <td>0.439810</td>\n",
              "      <td>0.239222</td>\n",
              "    </tr>\n",
              "    <tr>\n",
              "      <th>3</th>\n",
              "      <td>0.551318</td>\n",
              "      <td>0.346028</td>\n",
              "      <td>0.463586</td>\n",
              "      <td>0.513904</td>\n",
              "      <td>0.229802</td>\n",
              "    </tr>\n",
              "    <tr>\n",
              "      <th>4</th>\n",
              "      <td>0.389230</td>\n",
              "      <td>0.663822</td>\n",
              "      <td>0.148588</td>\n",
              "      <td>0.855890</td>\n",
              "      <td>0.045541</td>\n",
              "    </tr>\n",
              "    <tr>\n",
              "      <th>5</th>\n",
              "      <td>0.327097</td>\n",
              "      <td>0.885807</td>\n",
              "      <td>0.142292</td>\n",
              "      <td>0.522689</td>\n",
              "      <td>0.670479</td>\n",
              "    </tr>\n",
              "  </tbody>\n",
              "</table>\n",
              "</div>"
            ],
            "text/plain": [
              "          A         B         C         D         E\n",
              "1  0.204214  0.522123  0.407508  0.782999  0.403507\n",
              "2  0.245695  0.657860  0.502449  0.439810  0.239222\n",
              "3  0.551318  0.346028  0.463586  0.513904  0.229802\n",
              "4  0.389230  0.663822  0.148588  0.855890  0.045541\n",
              "5  0.327097  0.885807  0.142292  0.522689  0.670479"
            ]
          },
          "execution_count": 21,
          "metadata": {},
          "output_type": "execute_result"
        }
      ],
      "source": [
        "pd.DataFrame(np.random.rand(5, 5),\n",
        "            columns=['A', 'B', 'C', 'D', 'E'],\n",
        "            index=[1, 2, 3, 4, 5])"
      ]
    },
    {
      "cell_type": "code",
      "execution_count": 22,
      "metadata": {
        "id": "LF5SPGK5z7PA"
      },
      "outputs": [
        {
          "data": {
            "text/plain": [
              "서울특별시    4732275\n",
              "부산광역시    1668618\n",
              "인천광역시    1476813\n",
              "대구광역시    1198815\n",
              "대전광역시     734441\n",
              "광주광역시     720060\n",
              "dtype: int64"
            ]
          },
          "execution_count": 22,
          "metadata": {},
          "output_type": "execute_result"
        }
      ],
      "source": [
        "male_tuple = {'서울특별시': 4732275,\n",
        "            '부산광역시': 1668618,\n",
        "            '인천광역시': 1476813,\n",
        "            '대구광역시': 1198815,\n",
        "            '대전광역시': 734441,\n",
        "            '광주광역시': 720060}\n",
        "male = pd.Series(male_tuple)\n",
        "male"
      ]
    },
    {
      "cell_type": "code",
      "execution_count": 23,
      "metadata": {
        "id": "1XAK9yR91tyy"
      },
      "outputs": [
        {
          "data": {
            "text/plain": [
              "서울특별시    4988571\n",
              "부산광역시    1735805\n",
              "인천광역시    1470404\n",
              "대구광역시    1229139\n",
              "대전광역시     736599\n",
              "광주광역시     734988\n",
              "dtype: int64"
            ]
          },
          "execution_count": 23,
          "metadata": {},
          "output_type": "execute_result"
        }
      ],
      "source": [
        "female_tuple = {'서울특별시': 4988571,\n",
        "            '부산광역시': 1735805,\n",
        "            '인천광역시': 1470404,\n",
        "            '대구광역시': 1229139,\n",
        "            '대전광역시': 736599,\n",
        "            '광주광역시': 734988}\n",
        "female = pd.Series(female_tuple)\n",
        "female"
      ]
    },
    {
      "cell_type": "code",
      "execution_count": 24,
      "metadata": {
        "id": "gpOOL8zh2EI-"
      },
      "outputs": [
        {
          "data": {
            "text/html": [
              "<div>\n",
              "<style scoped>\n",
              "    .dataframe tbody tr th:only-of-type {\n",
              "        vertical-align: middle;\n",
              "    }\n",
              "\n",
              "    .dataframe tbody tr th {\n",
              "        vertical-align: top;\n",
              "    }\n",
              "\n",
              "    .dataframe thead th {\n",
              "        text-align: right;\n",
              "    }\n",
              "</style>\n",
              "<table border=\"1\" class=\"dataframe\">\n",
              "  <thead>\n",
              "    <tr style=\"text-align: right;\">\n",
              "      <th></th>\n",
              "      <th>인구수</th>\n",
              "      <th>남자인구수</th>\n",
              "      <th>여자인구수</th>\n",
              "    </tr>\n",
              "  </thead>\n",
              "  <tbody>\n",
              "    <tr>\n",
              "      <th>서울특별시</th>\n",
              "      <td>9720846</td>\n",
              "      <td>4732275</td>\n",
              "      <td>4988571</td>\n",
              "    </tr>\n",
              "    <tr>\n",
              "      <th>부산광역시</th>\n",
              "      <td>3404423</td>\n",
              "      <td>1668618</td>\n",
              "      <td>1735805</td>\n",
              "    </tr>\n",
              "    <tr>\n",
              "      <th>인천광역시</th>\n",
              "      <td>2947217</td>\n",
              "      <td>1476813</td>\n",
              "      <td>1470404</td>\n",
              "    </tr>\n",
              "    <tr>\n",
              "      <th>대구광역시</th>\n",
              "      <td>2427954</td>\n",
              "      <td>1198815</td>\n",
              "      <td>1229139</td>\n",
              "    </tr>\n",
              "    <tr>\n",
              "      <th>대전광역시</th>\n",
              "      <td>1471040</td>\n",
              "      <td>734441</td>\n",
              "      <td>736599</td>\n",
              "    </tr>\n",
              "    <tr>\n",
              "      <th>광주광역시</th>\n",
              "      <td>1455048</td>\n",
              "      <td>720060</td>\n",
              "      <td>734988</td>\n",
              "    </tr>\n",
              "  </tbody>\n",
              "</table>\n",
              "</div>"
            ],
            "text/plain": [
              "           인구수    남자인구수    여자인구수\n",
              "서울특별시  9720846  4732275  4988571\n",
              "부산광역시  3404423  1668618  1735805\n",
              "인천광역시  2947217  1476813  1470404\n",
              "대구광역시  2427954  1198815  1229139\n",
              "대전광역시  1471040   734441   736599\n",
              "광주광역시  1455048   720060   734988"
            ]
          },
          "execution_count": 24,
          "metadata": {},
          "output_type": "execute_result"
        }
      ],
      "source": [
        "korea_df = pd.DataFrame({'인구수': population,\n",
        "                        '남자인구수': male,\n",
        "                        '여자인구수': female})\n",
        "korea_df"
      ]
    },
    {
      "cell_type": "code",
      "execution_count": 25,
      "metadata": {
        "id": "9A0OSZFw2TJZ"
      },
      "outputs": [
        {
          "data": {
            "text/plain": [
              "Index(['서울특별시', '부산광역시', '인천광역시', '대구광역시', '대전광역시', '광주광역시'], dtype='object')"
            ]
          },
          "execution_count": 25,
          "metadata": {},
          "output_type": "execute_result"
        }
      ],
      "source": [
        "korea_df.index"
      ]
    },
    {
      "cell_type": "code",
      "execution_count": 26,
      "metadata": {
        "id": "qCRB-v6w2Xmt"
      },
      "outputs": [
        {
          "data": {
            "text/plain": [
              "Index(['인구수', '남자인구수', '여자인구수'], dtype='object')"
            ]
          },
          "execution_count": 26,
          "metadata": {},
          "output_type": "execute_result"
        }
      ],
      "source": [
        "korea_df.columns"
      ]
    },
    {
      "cell_type": "code",
      "execution_count": 27,
      "metadata": {
        "id": "I86OnLLj2bSf"
      },
      "outputs": [
        {
          "data": {
            "text/plain": [
              "서울특별시    4988571\n",
              "부산광역시    1735805\n",
              "인천광역시    1470404\n",
              "대구광역시    1229139\n",
              "대전광역시     736599\n",
              "광주광역시     734988\n",
              "Name: 여자인구수, dtype: int64"
            ]
          },
          "execution_count": 27,
          "metadata": {},
          "output_type": "execute_result"
        }
      ],
      "source": [
        "korea_df['여자인구수']"
      ]
    },
    {
      "cell_type": "code",
      "execution_count": 28,
      "metadata": {
        "id": "I2Cx16L42gSj"
      },
      "outputs": [
        {
          "data": {
            "text/html": [
              "<div>\n",
              "<style scoped>\n",
              "    .dataframe tbody tr th:only-of-type {\n",
              "        vertical-align: middle;\n",
              "    }\n",
              "\n",
              "    .dataframe tbody tr th {\n",
              "        vertical-align: top;\n",
              "    }\n",
              "\n",
              "    .dataframe thead th {\n",
              "        text-align: right;\n",
              "    }\n",
              "</style>\n",
              "<table border=\"1\" class=\"dataframe\">\n",
              "  <thead>\n",
              "    <tr style=\"text-align: right;\">\n",
              "      <th></th>\n",
              "      <th>인구수</th>\n",
              "      <th>남자인구수</th>\n",
              "      <th>여자인구수</th>\n",
              "    </tr>\n",
              "  </thead>\n",
              "  <tbody>\n",
              "    <tr>\n",
              "      <th>서울특별시</th>\n",
              "      <td>9720846</td>\n",
              "      <td>4732275</td>\n",
              "      <td>4988571</td>\n",
              "    </tr>\n",
              "    <tr>\n",
              "      <th>부산광역시</th>\n",
              "      <td>3404423</td>\n",
              "      <td>1668618</td>\n",
              "      <td>1735805</td>\n",
              "    </tr>\n",
              "    <tr>\n",
              "      <th>인천광역시</th>\n",
              "      <td>2947217</td>\n",
              "      <td>1476813</td>\n",
              "      <td>1470404</td>\n",
              "    </tr>\n",
              "  </tbody>\n",
              "</table>\n",
              "</div>"
            ],
            "text/plain": [
              "           인구수    남자인구수    여자인구수\n",
              "서울특별시  9720846  4732275  4988571\n",
              "부산광역시  3404423  1668618  1735805\n",
              "인천광역시  2947217  1476813  1470404"
            ]
          },
          "execution_count": 28,
          "metadata": {},
          "output_type": "execute_result"
        }
      ],
      "source": [
        "korea_df['서울특별시':'인천광역시']"
      ]
    },
    {
      "cell_type": "markdown",
      "metadata": {
        "id": "YLyCNxg45qyN"
      },
      "source": [
        "### Index 객체\n"
      ]
    },
    {
      "cell_type": "code",
      "execution_count": 29,
      "metadata": {
        "id": "sveOOZiM4dDu"
      },
      "outputs": [
        {
          "data": {
            "text/plain": [
              "Int64Index([2, 4, 6, 8, 10], dtype='int64')"
            ]
          },
          "execution_count": 29,
          "metadata": {},
          "output_type": "execute_result"
        }
      ],
      "source": [
        "idx = pd.Index([2, 4, 6, 8, 10])\n",
        "idx"
      ]
    },
    {
      "cell_type": "code",
      "execution_count": 30,
      "metadata": {
        "id": "wq3KUCST5yDP"
      },
      "outputs": [
        {
          "data": {
            "text/plain": [
              "4"
            ]
          },
          "execution_count": 30,
          "metadata": {},
          "output_type": "execute_result"
        }
      ],
      "source": [
        "idx[1]"
      ]
    },
    {
      "cell_type": "code",
      "execution_count": 31,
      "metadata": {
        "id": "4MZR1LaP500X"
      },
      "outputs": [
        {
          "data": {
            "text/plain": [
              "Int64Index([2, 6, 10], dtype='int64')"
            ]
          },
          "execution_count": 31,
          "metadata": {},
          "output_type": "execute_result"
        }
      ],
      "source": [
        "idx[0:5:2]"
      ]
    },
    {
      "cell_type": "code",
      "execution_count": 32,
      "metadata": {
        "id": "NcGmnV_H52uy"
      },
      "outputs": [
        {
          "data": {
            "text/plain": [
              "Int64Index([10], dtype='int64')"
            ]
          },
          "execution_count": 32,
          "metadata": {},
          "output_type": "execute_result"
        }
      ],
      "source": [
        "idx[-1::]"
      ]
    },
    {
      "cell_type": "code",
      "execution_count": 33,
      "metadata": {
        "id": "0mtbfeYY54Jk"
      },
      "outputs": [
        {
          "data": {
            "text/plain": [
              "Int64Index([2, 6, 10], dtype='int64')"
            ]
          },
          "execution_count": 33,
          "metadata": {},
          "output_type": "execute_result"
        }
      ],
      "source": [
        "idx[::2]"
      ]
    },
    {
      "cell_type": "code",
      "execution_count": 34,
      "metadata": {
        "id": "CB_BwH3G57c9"
      },
      "outputs": [
        {
          "name": "stdout",
          "output_type": "stream",
          "text": [
            "Int64Index([2, 4, 6, 8, 10], dtype='int64')\n",
            "5\n",
            "(5,)\n",
            "1\n",
            "int64\n"
          ]
        }
      ],
      "source": [
        "print(idx)\n",
        "print(idx.size)\n",
        "print(idx.shape)\n",
        "print(idx.ndim)\n",
        "print(idx.dtype)"
      ]
    },
    {
      "cell_type": "markdown",
      "metadata": {
        "id": "M2xlGdrok22S"
      },
      "source": [
        "#### Index 연산"
      ]
    },
    {
      "cell_type": "code",
      "execution_count": 35,
      "metadata": {
        "id": "e2yx1bpE6B3_"
      },
      "outputs": [
        {
          "name": "stdout",
          "output_type": "stream",
          "text": [
            "Int64Index([1, 2, 4, 6, 8, 2, 4, 5, 6, 7], dtype='int64')\n",
            "Int64Index([1, 8], dtype='int64')\n",
            "Int64Index([-1, -2, -1, 0, 1], dtype='int64')\n",
            "Int64Index([2, 4, 6], dtype='int64')\n",
            "Int64Index([2, 4, 6], dtype='int64')\n",
            "Int64Index([1, 2, 4, 5, 6, 7, 8], dtype='int64')\n",
            "Int64Index([1, 2, 4, 5, 6, 7, 8], dtype='int64')\n",
            "Int64Index([2, 4, 6, 8], dtype='int64')\n",
            "Int64Index([1, 4, 6, 8], dtype='int64')\n",
            "Int64Index([1, 5, 7, 8], dtype='int64')\n"
          ]
        },
        {
          "name": "stderr",
          "output_type": "stream",
          "text": [
            "/Users/wjlee/opt/anaconda3/envs/study_ML_37/lib/python3.7/site-packages/ipykernel_launcher.py:8: FutureWarning: Index.__and__ operating as a set operation is deprecated, in the future this will be a logical operation matching Series.__and__.  Use index.intersection(other) instead\n",
            "  \n",
            "/Users/wjlee/opt/anaconda3/envs/study_ML_37/lib/python3.7/site-packages/ipykernel_launcher.py:10: FutureWarning: Index.__or__ operating as a set operation is deprecated, in the future this will be a logical operation matching Series.__or__.  Use index.union(other) instead\n",
            "  # Remove the CWD from sys.path while we load stuff.\n",
            "/Users/wjlee/opt/anaconda3/envs/study_ML_37/lib/python3.7/site-packages/ipykernel_launcher.py:13: FutureWarning: Index.__xor__ operating as a set operation is deprecated, in the future this will be a logical operation matching Series.__xor__.  Use index.symmetric_difference(other) instead\n",
            "  del sys.path[0]\n"
          ]
        }
      ],
      "source": [
        "idx1 = pd.Index([1, 2, 4, 6, 8])\n",
        "idx2 = pd.Index([2, 4, 5, 6, 7])\n",
        "\n",
        "print(idx1.append(idx2))\n",
        "print(idx1.difference(idx2))\n",
        "print(idx1 - idx2)\n",
        "print(idx1.intersection(idx2))\n",
        "print(idx1 & idx2)\n",
        "print(idx1.union(idx2))\n",
        "print(idx1 | idx2)\n",
        "print(idx1.delete(0))\n",
        "print(idx1.drop(2))\n",
        "print(idx1 ^ idx2)"
      ]
    },
    {
      "cell_type": "markdown",
      "metadata": {
        "id": "kd8eQIoYHoaS"
      },
      "source": [
        "\n",
        "\n",
        "---\n",
        "\n"
      ]
    },
    {
      "cell_type": "markdown",
      "metadata": {
        "id": "KZLKu-HM6yEm"
      },
      "source": [
        "## 인덱싱(Indexing)"
      ]
    },
    {
      "cell_type": "code",
      "execution_count": 36,
      "metadata": {
        "id": "2kLDyvXi60-A"
      },
      "outputs": [
        {
          "data": {
            "text/plain": [
              "a    0.00\n",
              "b    0.25\n",
              "c    0.50\n",
              "d    0.75\n",
              "e    1.00\n",
              "dtype: float64"
            ]
          },
          "execution_count": 36,
          "metadata": {},
          "output_type": "execute_result"
        }
      ],
      "source": [
        "s = pd.Series([0, 0.25, 0.5, 0.75, 1],\n",
        "            index=['a', 'b', 'c', 'd', 'e'])\n",
        "s"
      ]
    },
    {
      "cell_type": "code",
      "execution_count": 37,
      "metadata": {
        "id": "5oXPBg2kHqMH"
      },
      "outputs": [
        {
          "data": {
            "text/plain": [
              "0.25"
            ]
          },
          "execution_count": 37,
          "metadata": {},
          "output_type": "execute_result"
        }
      ],
      "source": [
        "s['b']"
      ]
    },
    {
      "cell_type": "code",
      "execution_count": 38,
      "metadata": {
        "id": "msZ7pmajIgiR"
      },
      "outputs": [
        {
          "data": {
            "text/plain": [
              "True"
            ]
          },
          "execution_count": 38,
          "metadata": {},
          "output_type": "execute_result"
        }
      ],
      "source": [
        "'b' in s"
      ]
    },
    {
      "cell_type": "code",
      "execution_count": 39,
      "metadata": {
        "id": "lyi7cVYbIjPF"
      },
      "outputs": [
        {
          "data": {
            "text/plain": [
              "Index(['a', 'b', 'c', 'd', 'e'], dtype='object')"
            ]
          },
          "execution_count": 39,
          "metadata": {},
          "output_type": "execute_result"
        }
      ],
      "source": [
        "s.keys()"
      ]
    },
    {
      "cell_type": "code",
      "execution_count": 40,
      "metadata": {
        "id": "AQc6QXxBIj9m"
      },
      "outputs": [
        {
          "data": {
            "text/plain": [
              "[('a', 0.0), ('b', 0.25), ('c', 0.5), ('d', 0.75), ('e', 1.0)]"
            ]
          },
          "execution_count": 40,
          "metadata": {},
          "output_type": "execute_result"
        }
      ],
      "source": [
        "list(s.items())"
      ]
    },
    {
      "cell_type": "code",
      "execution_count": 41,
      "metadata": {
        "id": "ZwWy7NqlImoZ"
      },
      "outputs": [
        {
          "data": {
            "text/plain": [
              "a    0.00\n",
              "b    0.25\n",
              "c    0.50\n",
              "d    0.75\n",
              "e    1.00\n",
              "f    1.25\n",
              "dtype: float64"
            ]
          },
          "execution_count": 41,
          "metadata": {},
          "output_type": "execute_result"
        }
      ],
      "source": [
        "s['f'] = 1.25\n",
        "s"
      ]
    },
    {
      "cell_type": "code",
      "execution_count": 42,
      "metadata": {
        "id": "r_q7ScSMIu4C"
      },
      "outputs": [
        {
          "data": {
            "text/plain": [
              "a    0.00\n",
              "b    0.25\n",
              "c    0.50\n",
              "d    0.75\n",
              "dtype: float64"
            ]
          },
          "execution_count": 42,
          "metadata": {},
          "output_type": "execute_result"
        }
      ],
      "source": [
        "s['a':'d']"
      ]
    },
    {
      "cell_type": "code",
      "execution_count": 43,
      "metadata": {
        "id": "1EPBjuijIzhX"
      },
      "outputs": [
        {
          "data": {
            "text/plain": [
              "a    0.00\n",
              "b    0.25\n",
              "c    0.50\n",
              "d    0.75\n",
              "dtype: float64"
            ]
          },
          "execution_count": 43,
          "metadata": {},
          "output_type": "execute_result"
        }
      ],
      "source": [
        "s[0:4]"
      ]
    },
    {
      "cell_type": "code",
      "execution_count": 44,
      "metadata": {
        "id": "3O4Cm0fXI1sZ"
      },
      "outputs": [
        {
          "data": {
            "text/plain": [
              "c    0.50\n",
              "d    0.75\n",
              "dtype: float64"
            ]
          },
          "execution_count": 44,
          "metadata": {},
          "output_type": "execute_result"
        }
      ],
      "source": [
        "s[(s > 0.4) & (s < 0.8)]"
      ]
    },
    {
      "cell_type": "code",
      "execution_count": 45,
      "metadata": {
        "id": "i9DDqXO0I9wo"
      },
      "outputs": [
        {
          "data": {
            "text/plain": [
              "a    0.0\n",
              "c    0.5\n",
              "e    1.0\n",
              "dtype: float64"
            ]
          },
          "execution_count": 45,
          "metadata": {},
          "output_type": "execute_result"
        }
      ],
      "source": [
        "s[(['a', 'c', 'e'])]"
      ]
    },
    {
      "cell_type": "markdown",
      "metadata": {
        "id": "NoRP6_bPrViW"
      },
      "source": [
        "### Series 인덱싱"
      ]
    },
    {
      "cell_type": "code",
      "execution_count": 46,
      "metadata": {
        "id": "lf8mRyNeI_b_"
      },
      "outputs": [
        {
          "data": {
            "text/plain": [
              "1    a\n",
              "3    b\n",
              "5    c\n",
              "7    d\n",
              "9    e\n",
              "dtype: object"
            ]
          },
          "execution_count": 46,
          "metadata": {},
          "output_type": "execute_result"
        }
      ],
      "source": [
        "s = pd.Series(['a', 'b', 'c', 'd', 'e'],\n",
        "            index=[1, 3, 5, 7, 9])\n",
        "s"
      ]
    },
    {
      "cell_type": "code",
      "execution_count": 47,
      "metadata": {
        "id": "5H1JoKlKLjsw"
      },
      "outputs": [
        {
          "data": {
            "text/plain": [
              "'a'"
            ]
          },
          "execution_count": 47,
          "metadata": {},
          "output_type": "execute_result"
        }
      ],
      "source": [
        "s[1]"
      ]
    },
    {
      "cell_type": "code",
      "execution_count": 48,
      "metadata": {
        "id": "hVSHrsMzLln2"
      },
      "outputs": [
        {
          "data": {
            "text/plain": [
              "5    c\n",
              "7    d\n",
              "dtype: object"
            ]
          },
          "execution_count": 48,
          "metadata": {},
          "output_type": "execute_result"
        }
      ],
      "source": [
        "s[2:4]"
      ]
    },
    {
      "cell_type": "code",
      "execution_count": 49,
      "metadata": {
        "id": "qtpxKX78Lmlm"
      },
      "outputs": [
        {
          "data": {
            "text/plain": [
              "'b'"
            ]
          },
          "execution_count": 49,
          "metadata": {},
          "output_type": "execute_result"
        }
      ],
      "source": [
        "s.iloc[1]"
      ]
    },
    {
      "cell_type": "code",
      "execution_count": 50,
      "metadata": {
        "id": "gy5ShWM4LqMU"
      },
      "outputs": [
        {
          "data": {
            "text/plain": [
              "5    c\n",
              "7    d\n",
              "dtype: object"
            ]
          },
          "execution_count": 50,
          "metadata": {},
          "output_type": "execute_result"
        }
      ],
      "source": [
        "s.iloc[2:4]"
      ]
    },
    {
      "cell_type": "code",
      "execution_count": 51,
      "metadata": {
        "id": "utldkXViqAfQ"
      },
      "outputs": [
        {
          "data": {
            "text/plain": [
              "0    NaN\n",
              "1      a\n",
              "2    NaN\n",
              "3      b\n",
              "4    NaN\n",
              "5      c\n",
              "6    NaN\n",
              "7      d\n",
              "8    NaN\n",
              "9      e\n",
              "dtype: object"
            ]
          },
          "execution_count": 51,
          "metadata": {},
          "output_type": "execute_result"
        }
      ],
      "source": [
        "s.reindex(range(10))"
      ]
    },
    {
      "cell_type": "code",
      "execution_count": 52,
      "metadata": {
        "id": "-4jACtEQqm2o"
      },
      "outputs": [
        {
          "data": {
            "text/plain": [
              "0    a\n",
              "1    a\n",
              "2    b\n",
              "3    b\n",
              "4    c\n",
              "5    c\n",
              "6    d\n",
              "7    d\n",
              "8    e\n",
              "9    e\n",
              "dtype: object"
            ]
          },
          "execution_count": 52,
          "metadata": {},
          "output_type": "execute_result"
        }
      ],
      "source": [
        "s.reindex(range(10), method='bfill')"
      ]
    },
    {
      "cell_type": "markdown",
      "metadata": {
        "id": "aOLEal9Hrli0"
      },
      "source": [
        "### DataFrame 인덱싱\n"
      ]
    },
    {
      "cell_type": "code",
      "execution_count": 53,
      "metadata": {
        "id": "77aifW07LsTZ"
      },
      "outputs": [
        {
          "data": {
            "text/html": [
              "<div>\n",
              "<style scoped>\n",
              "    .dataframe tbody tr th:only-of-type {\n",
              "        vertical-align: middle;\n",
              "    }\n",
              "\n",
              "    .dataframe tbody tr th {\n",
              "        vertical-align: top;\n",
              "    }\n",
              "\n",
              "    .dataframe thead th {\n",
              "        text-align: right;\n",
              "    }\n",
              "</style>\n",
              "<table border=\"1\" class=\"dataframe\">\n",
              "  <thead>\n",
              "    <tr style=\"text-align: right;\">\n",
              "      <th></th>\n",
              "      <th>인구수</th>\n",
              "      <th>남자인구수</th>\n",
              "      <th>여자인구수</th>\n",
              "    </tr>\n",
              "  </thead>\n",
              "  <tbody>\n",
              "    <tr>\n",
              "      <th>서울특별시</th>\n",
              "      <td>9720846</td>\n",
              "      <td>4732275</td>\n",
              "      <td>4988571</td>\n",
              "    </tr>\n",
              "    <tr>\n",
              "      <th>부산광역시</th>\n",
              "      <td>3404423</td>\n",
              "      <td>1668618</td>\n",
              "      <td>1735805</td>\n",
              "    </tr>\n",
              "    <tr>\n",
              "      <th>인천광역시</th>\n",
              "      <td>2947217</td>\n",
              "      <td>1476813</td>\n",
              "      <td>1470404</td>\n",
              "    </tr>\n",
              "    <tr>\n",
              "      <th>대구광역시</th>\n",
              "      <td>2427954</td>\n",
              "      <td>1198815</td>\n",
              "      <td>1229139</td>\n",
              "    </tr>\n",
              "    <tr>\n",
              "      <th>대전광역시</th>\n",
              "      <td>1471040</td>\n",
              "      <td>734441</td>\n",
              "      <td>736599</td>\n",
              "    </tr>\n",
              "    <tr>\n",
              "      <th>광주광역시</th>\n",
              "      <td>1455048</td>\n",
              "      <td>720060</td>\n",
              "      <td>734988</td>\n",
              "    </tr>\n",
              "  </tbody>\n",
              "</table>\n",
              "</div>"
            ],
            "text/plain": [
              "           인구수    남자인구수    여자인구수\n",
              "서울특별시  9720846  4732275  4988571\n",
              "부산광역시  3404423  1668618  1735805\n",
              "인천광역시  2947217  1476813  1470404\n",
              "대구광역시  2427954  1198815  1229139\n",
              "대전광역시  1471040   734441   736599\n",
              "광주광역시  1455048   720060   734988"
            ]
          },
          "execution_count": 53,
          "metadata": {},
          "output_type": "execute_result"
        }
      ],
      "source": [
        "korea_df"
      ]
    },
    {
      "cell_type": "code",
      "execution_count": 54,
      "metadata": {
        "id": "Gqv2LvUsL_hy"
      },
      "outputs": [
        {
          "data": {
            "text/plain": [
              "서울특별시    4732275\n",
              "부산광역시    1668618\n",
              "인천광역시    1476813\n",
              "대구광역시    1198815\n",
              "대전광역시     734441\n",
              "광주광역시     720060\n",
              "Name: 남자인구수, dtype: int64"
            ]
          },
          "execution_count": 54,
          "metadata": {},
          "output_type": "execute_result"
        }
      ],
      "source": [
        "korea_df['남자인구수']"
      ]
    },
    {
      "cell_type": "code",
      "execution_count": 55,
      "metadata": {
        "id": "ASLLVKjxOCaq"
      },
      "outputs": [
        {
          "data": {
            "text/plain": [
              "서울특별시    4732275\n",
              "부산광역시    1668618\n",
              "인천광역시    1476813\n",
              "대구광역시    1198815\n",
              "대전광역시     734441\n",
              "광주광역시     720060\n",
              "Name: 남자인구수, dtype: int64"
            ]
          },
          "execution_count": 55,
          "metadata": {},
          "output_type": "execute_result"
        }
      ],
      "source": [
        "korea_df.남자인구수"
      ]
    },
    {
      "cell_type": "code",
      "execution_count": 56,
      "metadata": {
        "id": "HwAFfjLBOEp5"
      },
      "outputs": [
        {
          "data": {
            "text/plain": [
              "서울특별시    4988571\n",
              "부산광역시    1735805\n",
              "인천광역시    1470404\n",
              "대구광역시    1229139\n",
              "대전광역시     736599\n",
              "광주광역시     734988\n",
              "Name: 여자인구수, dtype: int64"
            ]
          },
          "execution_count": 56,
          "metadata": {},
          "output_type": "execute_result"
        }
      ],
      "source": [
        "korea_df.여자인구수"
      ]
    },
    {
      "cell_type": "code",
      "execution_count": 57,
      "metadata": {
        "id": "pECRBE1iOJqe"
      },
      "outputs": [],
      "source": [
        "korea_df['남여비율'] = (korea_df['남자인구수'] * 100 / korea_df['여자인구수'])"
      ]
    },
    {
      "cell_type": "code",
      "execution_count": 58,
      "metadata": {
        "id": "MYpzQMFiOrGC"
      },
      "outputs": [
        {
          "data": {
            "text/plain": [
              "서울특별시     94.862336\n",
              "부산광역시     96.129346\n",
              "인천광역시    100.435867\n",
              "대구광역시     97.532907\n",
              "대전광역시     99.707032\n",
              "광주광역시     97.968946\n",
              "Name: 남여비율, dtype: float64"
            ]
          },
          "execution_count": 58,
          "metadata": {},
          "output_type": "execute_result"
        }
      ],
      "source": [
        "korea_df.남여비율"
      ]
    },
    {
      "cell_type": "code",
      "execution_count": 59,
      "metadata": {
        "id": "wVpY62uBOs9E"
      },
      "outputs": [
        {
          "data": {
            "text/plain": [
              "array([[9.72084600e+06, 4.73227500e+06, 4.98857100e+06, 9.48623363e+01],\n",
              "       [3.40442300e+06, 1.66861800e+06, 1.73580500e+06, 9.61293463e+01],\n",
              "       [2.94721700e+06, 1.47681300e+06, 1.47040400e+06, 1.00435867e+02],\n",
              "       [2.42795400e+06, 1.19881500e+06, 1.22913900e+06, 9.75329072e+01],\n",
              "       [1.47104000e+06, 7.34441000e+05, 7.36599000e+05, 9.97070319e+01],\n",
              "       [1.45504800e+06, 7.20060000e+05, 7.34988000e+05, 9.79689464e+01]])"
            ]
          },
          "execution_count": 59,
          "metadata": {},
          "output_type": "execute_result"
        }
      ],
      "source": [
        "korea_df.values"
      ]
    },
    {
      "cell_type": "code",
      "execution_count": 60,
      "metadata": {
        "id": "RRce4iuBO30i"
      },
      "outputs": [
        {
          "data": {
            "text/html": [
              "<div>\n",
              "<style scoped>\n",
              "    .dataframe tbody tr th:only-of-type {\n",
              "        vertical-align: middle;\n",
              "    }\n",
              "\n",
              "    .dataframe tbody tr th {\n",
              "        vertical-align: top;\n",
              "    }\n",
              "\n",
              "    .dataframe thead th {\n",
              "        text-align: right;\n",
              "    }\n",
              "</style>\n",
              "<table border=\"1\" class=\"dataframe\">\n",
              "  <thead>\n",
              "    <tr style=\"text-align: right;\">\n",
              "      <th></th>\n",
              "      <th>서울특별시</th>\n",
              "      <th>부산광역시</th>\n",
              "      <th>인천광역시</th>\n",
              "      <th>대구광역시</th>\n",
              "      <th>대전광역시</th>\n",
              "      <th>광주광역시</th>\n",
              "    </tr>\n",
              "  </thead>\n",
              "  <tbody>\n",
              "    <tr>\n",
              "      <th>인구수</th>\n",
              "      <td>9.720846e+06</td>\n",
              "      <td>3.404423e+06</td>\n",
              "      <td>2.947217e+06</td>\n",
              "      <td>2.427954e+06</td>\n",
              "      <td>1.471040e+06</td>\n",
              "      <td>1.455048e+06</td>\n",
              "    </tr>\n",
              "    <tr>\n",
              "      <th>남자인구수</th>\n",
              "      <td>4.732275e+06</td>\n",
              "      <td>1.668618e+06</td>\n",
              "      <td>1.476813e+06</td>\n",
              "      <td>1.198815e+06</td>\n",
              "      <td>7.344410e+05</td>\n",
              "      <td>7.200600e+05</td>\n",
              "    </tr>\n",
              "    <tr>\n",
              "      <th>여자인구수</th>\n",
              "      <td>4.988571e+06</td>\n",
              "      <td>1.735805e+06</td>\n",
              "      <td>1.470404e+06</td>\n",
              "      <td>1.229139e+06</td>\n",
              "      <td>7.365990e+05</td>\n",
              "      <td>7.349880e+05</td>\n",
              "    </tr>\n",
              "    <tr>\n",
              "      <th>남여비율</th>\n",
              "      <td>9.486234e+01</td>\n",
              "      <td>9.612935e+01</td>\n",
              "      <td>1.004359e+02</td>\n",
              "      <td>9.753291e+01</td>\n",
              "      <td>9.970703e+01</td>\n",
              "      <td>9.796895e+01</td>\n",
              "    </tr>\n",
              "  </tbody>\n",
              "</table>\n",
              "</div>"
            ],
            "text/plain": [
              "              서울특별시         부산광역시         인천광역시         대구광역시         대전광역시  \\\n",
              "인구수    9.720846e+06  3.404423e+06  2.947217e+06  2.427954e+06  1.471040e+06   \n",
              "남자인구수  4.732275e+06  1.668618e+06  1.476813e+06  1.198815e+06  7.344410e+05   \n",
              "여자인구수  4.988571e+06  1.735805e+06  1.470404e+06  1.229139e+06  7.365990e+05   \n",
              "남여비율   9.486234e+01  9.612935e+01  1.004359e+02  9.753291e+01  9.970703e+01   \n",
              "\n",
              "              광주광역시  \n",
              "인구수    1.455048e+06  \n",
              "남자인구수  7.200600e+05  \n",
              "여자인구수  7.349880e+05  \n",
              "남여비율   9.796895e+01  "
            ]
          },
          "execution_count": 60,
          "metadata": {},
          "output_type": "execute_result"
        }
      ],
      "source": [
        "korea_df.T"
      ]
    },
    {
      "cell_type": "code",
      "execution_count": 61,
      "metadata": {
        "id": "4kgf30KQO_s3"
      },
      "outputs": [
        {
          "data": {
            "text/plain": [
              "array([9.72084600e+06, 4.73227500e+06, 4.98857100e+06, 9.48623363e+01])"
            ]
          },
          "execution_count": 61,
          "metadata": {},
          "output_type": "execute_result"
        }
      ],
      "source": [
        "korea_df.values[0]"
      ]
    },
    {
      "cell_type": "code",
      "execution_count": 62,
      "metadata": {
        "id": "QmM75FOUPBgH"
      },
      "outputs": [
        {
          "data": {
            "text/plain": [
              "서울특별시    9720846\n",
              "부산광역시    3404423\n",
              "인천광역시    2947217\n",
              "대구광역시    2427954\n",
              "대전광역시    1471040\n",
              "광주광역시    1455048\n",
              "Name: 인구수, dtype: int64"
            ]
          },
          "execution_count": 62,
          "metadata": {},
          "output_type": "execute_result"
        }
      ],
      "source": [
        "korea_df['인구수']"
      ]
    },
    {
      "cell_type": "code",
      "execution_count": 63,
      "metadata": {
        "id": "TdhfKQSgPERt"
      },
      "outputs": [
        {
          "data": {
            "text/html": [
              "<div>\n",
              "<style scoped>\n",
              "    .dataframe tbody tr th:only-of-type {\n",
              "        vertical-align: middle;\n",
              "    }\n",
              "\n",
              "    .dataframe tbody tr th {\n",
              "        vertical-align: top;\n",
              "    }\n",
              "\n",
              "    .dataframe thead th {\n",
              "        text-align: right;\n",
              "    }\n",
              "</style>\n",
              "<table border=\"1\" class=\"dataframe\">\n",
              "  <thead>\n",
              "    <tr style=\"text-align: right;\">\n",
              "      <th></th>\n",
              "      <th>인구수</th>\n",
              "      <th>남자인구수</th>\n",
              "    </tr>\n",
              "  </thead>\n",
              "  <tbody>\n",
              "    <tr>\n",
              "      <th>서울특별시</th>\n",
              "      <td>9720846</td>\n",
              "      <td>4732275</td>\n",
              "    </tr>\n",
              "    <tr>\n",
              "      <th>부산광역시</th>\n",
              "      <td>3404423</td>\n",
              "      <td>1668618</td>\n",
              "    </tr>\n",
              "    <tr>\n",
              "      <th>인천광역시</th>\n",
              "      <td>2947217</td>\n",
              "      <td>1476813</td>\n",
              "    </tr>\n",
              "  </tbody>\n",
              "</table>\n",
              "</div>"
            ],
            "text/plain": [
              "           인구수    남자인구수\n",
              "서울특별시  9720846  4732275\n",
              "부산광역시  3404423  1668618\n",
              "인천광역시  2947217  1476813"
            ]
          },
          "execution_count": 63,
          "metadata": {},
          "output_type": "execute_result"
        }
      ],
      "source": [
        "korea_df.loc[:'인천광역시', :'남자인구수']"
      ]
    },
    {
      "cell_type": "code",
      "execution_count": 64,
      "metadata": {
        "id": "UKbn4mbdPGqb"
      },
      "outputs": [
        {
          "data": {
            "text/html": [
              "<div>\n",
              "<style scoped>\n",
              "    .dataframe tbody tr th:only-of-type {\n",
              "        vertical-align: middle;\n",
              "    }\n",
              "\n",
              "    .dataframe tbody tr th {\n",
              "        vertical-align: top;\n",
              "    }\n",
              "\n",
              "    .dataframe thead th {\n",
              "        text-align: right;\n",
              "    }\n",
              "</style>\n",
              "<table border=\"1\" class=\"dataframe\">\n",
              "  <thead>\n",
              "    <tr style=\"text-align: right;\">\n",
              "      <th></th>\n",
              "      <th>인구수</th>\n",
              "      <th>남자인구수</th>\n",
              "      <th>여자인구수</th>\n",
              "      <th>남여비율</th>\n",
              "    </tr>\n",
              "  </thead>\n",
              "  <tbody>\n",
              "    <tr>\n",
              "      <th>서울특별시</th>\n",
              "      <td>9720846</td>\n",
              "      <td>4732275</td>\n",
              "      <td>4988571</td>\n",
              "      <td>94.862336</td>\n",
              "    </tr>\n",
              "    <tr>\n",
              "      <th>부산광역시</th>\n",
              "      <td>3404423</td>\n",
              "      <td>1668618</td>\n",
              "      <td>1735805</td>\n",
              "      <td>96.129346</td>\n",
              "    </tr>\n",
              "    <tr>\n",
              "      <th>인천광역시</th>\n",
              "      <td>2947217</td>\n",
              "      <td>1476813</td>\n",
              "      <td>1470404</td>\n",
              "      <td>100.435867</td>\n",
              "    </tr>\n",
              "    <tr>\n",
              "      <th>대구광역시</th>\n",
              "      <td>2427954</td>\n",
              "      <td>1198815</td>\n",
              "      <td>1229139</td>\n",
              "      <td>97.532907</td>\n",
              "    </tr>\n",
              "  </tbody>\n",
              "</table>\n",
              "</div>"
            ],
            "text/plain": [
              "           인구수    남자인구수    여자인구수        남여비율\n",
              "서울특별시  9720846  4732275  4988571   94.862336\n",
              "부산광역시  3404423  1668618  1735805   96.129346\n",
              "인천광역시  2947217  1476813  1470404  100.435867\n",
              "대구광역시  2427954  1198815  1229139   97.532907"
            ]
          },
          "execution_count": 64,
          "metadata": {},
          "output_type": "execute_result"
        }
      ],
      "source": [
        "korea_df.loc[(korea_df.여자인구수 > 1000000)]"
      ]
    },
    {
      "cell_type": "code",
      "execution_count": 65,
      "metadata": {
        "id": "QMK8qC5YQRUc"
      },
      "outputs": [
        {
          "data": {
            "text/html": [
              "<div>\n",
              "<style scoped>\n",
              "    .dataframe tbody tr th:only-of-type {\n",
              "        vertical-align: middle;\n",
              "    }\n",
              "\n",
              "    .dataframe tbody tr th {\n",
              "        vertical-align: top;\n",
              "    }\n",
              "\n",
              "    .dataframe thead th {\n",
              "        text-align: right;\n",
              "    }\n",
              "</style>\n",
              "<table border=\"1\" class=\"dataframe\">\n",
              "  <thead>\n",
              "    <tr style=\"text-align: right;\">\n",
              "      <th></th>\n",
              "      <th>인구수</th>\n",
              "      <th>남자인구수</th>\n",
              "      <th>여자인구수</th>\n",
              "      <th>남여비율</th>\n",
              "    </tr>\n",
              "  </thead>\n",
              "  <tbody>\n",
              "    <tr>\n",
              "      <th>대전광역시</th>\n",
              "      <td>1471040</td>\n",
              "      <td>734441</td>\n",
              "      <td>736599</td>\n",
              "      <td>99.707032</td>\n",
              "    </tr>\n",
              "    <tr>\n",
              "      <th>광주광역시</th>\n",
              "      <td>1455048</td>\n",
              "      <td>720060</td>\n",
              "      <td>734988</td>\n",
              "      <td>97.968946</td>\n",
              "    </tr>\n",
              "  </tbody>\n",
              "</table>\n",
              "</div>"
            ],
            "text/plain": [
              "           인구수   남자인구수   여자인구수       남여비율\n",
              "대전광역시  1471040  734441  736599  99.707032\n",
              "광주광역시  1455048  720060  734988  97.968946"
            ]
          },
          "execution_count": 65,
          "metadata": {},
          "output_type": "execute_result"
        }
      ],
      "source": [
        "korea_df.loc[(korea_df.인구수 < 2000000)]"
      ]
    },
    {
      "cell_type": "code",
      "execution_count": 66,
      "metadata": {
        "id": "sKV0f9f5Yfxz"
      },
      "outputs": [
        {
          "data": {
            "text/html": [
              "<div>\n",
              "<style scoped>\n",
              "    .dataframe tbody tr th:only-of-type {\n",
              "        vertical-align: middle;\n",
              "    }\n",
              "\n",
              "    .dataframe tbody tr th {\n",
              "        vertical-align: top;\n",
              "    }\n",
              "\n",
              "    .dataframe thead th {\n",
              "        text-align: right;\n",
              "    }\n",
              "</style>\n",
              "<table border=\"1\" class=\"dataframe\">\n",
              "  <thead>\n",
              "    <tr style=\"text-align: right;\">\n",
              "      <th></th>\n",
              "      <th>인구수</th>\n",
              "      <th>남자인구수</th>\n",
              "      <th>여자인구수</th>\n",
              "      <th>남여비율</th>\n",
              "    </tr>\n",
              "  </thead>\n",
              "  <tbody>\n",
              "    <tr>\n",
              "      <th>서울특별시</th>\n",
              "      <td>9720846</td>\n",
              "      <td>4732275</td>\n",
              "      <td>4988571</td>\n",
              "      <td>94.862336</td>\n",
              "    </tr>\n",
              "    <tr>\n",
              "      <th>부산광역시</th>\n",
              "      <td>3404423</td>\n",
              "      <td>1668618</td>\n",
              "      <td>1735805</td>\n",
              "      <td>96.129346</td>\n",
              "    </tr>\n",
              "    <tr>\n",
              "      <th>인천광역시</th>\n",
              "      <td>2947217</td>\n",
              "      <td>1476813</td>\n",
              "      <td>1470404</td>\n",
              "      <td>100.435867</td>\n",
              "    </tr>\n",
              "  </tbody>\n",
              "</table>\n",
              "</div>"
            ],
            "text/plain": [
              "           인구수    남자인구수    여자인구수        남여비율\n",
              "서울특별시  9720846  4732275  4988571   94.862336\n",
              "부산광역시  3404423  1668618  1735805   96.129346\n",
              "인천광역시  2947217  1476813  1470404  100.435867"
            ]
          },
          "execution_count": 66,
          "metadata": {},
          "output_type": "execute_result"
        }
      ],
      "source": [
        "korea_df.loc[(korea_df.인구수 > 2500000)]"
      ]
    },
    {
      "cell_type": "code",
      "execution_count": 67,
      "metadata": {
        "id": "XYAGQU5IP7Md"
      },
      "outputs": [
        {
          "data": {
            "text/html": [
              "<div>\n",
              "<style scoped>\n",
              "    .dataframe tbody tr th:only-of-type {\n",
              "        vertical-align: middle;\n",
              "    }\n",
              "\n",
              "    .dataframe tbody tr th {\n",
              "        vertical-align: top;\n",
              "    }\n",
              "\n",
              "    .dataframe thead th {\n",
              "        text-align: right;\n",
              "    }\n",
              "</style>\n",
              "<table border=\"1\" class=\"dataframe\">\n",
              "  <thead>\n",
              "    <tr style=\"text-align: right;\">\n",
              "      <th></th>\n",
              "      <th>인구수</th>\n",
              "      <th>남자인구수</th>\n",
              "      <th>여자인구수</th>\n",
              "      <th>남여비율</th>\n",
              "    </tr>\n",
              "  </thead>\n",
              "  <tbody>\n",
              "    <tr>\n",
              "      <th>인천광역시</th>\n",
              "      <td>2947217</td>\n",
              "      <td>1476813</td>\n",
              "      <td>1470404</td>\n",
              "      <td>100.435867</td>\n",
              "    </tr>\n",
              "  </tbody>\n",
              "</table>\n",
              "</div>"
            ],
            "text/plain": [
              "           인구수    남자인구수    여자인구수        남여비율\n",
              "인천광역시  2947217  1476813  1470404  100.435867"
            ]
          },
          "execution_count": 67,
          "metadata": {},
          "output_type": "execute_result"
        }
      ],
      "source": [
        "korea_df.loc[(korea_df.남여비율 > 100)]"
      ]
    },
    {
      "cell_type": "code",
      "execution_count": 68,
      "metadata": {
        "id": "s752djzTPNiY"
      },
      "outputs": [
        {
          "data": {
            "text/html": [
              "<div>\n",
              "<style scoped>\n",
              "    .dataframe tbody tr th:only-of-type {\n",
              "        vertical-align: middle;\n",
              "    }\n",
              "\n",
              "    .dataframe tbody tr th {\n",
              "        vertical-align: top;\n",
              "    }\n",
              "\n",
              "    .dataframe thead th {\n",
              "        text-align: right;\n",
              "    }\n",
              "</style>\n",
              "<table border=\"1\" class=\"dataframe\">\n",
              "  <thead>\n",
              "    <tr style=\"text-align: right;\">\n",
              "      <th></th>\n",
              "      <th>인구수</th>\n",
              "      <th>남자인구수</th>\n",
              "      <th>여자인구수</th>\n",
              "      <th>남여비율</th>\n",
              "    </tr>\n",
              "  </thead>\n",
              "  <tbody>\n",
              "    <tr>\n",
              "      <th>서울특별시</th>\n",
              "      <td>9720846</td>\n",
              "      <td>4732275</td>\n",
              "      <td>4988571</td>\n",
              "      <td>94.862336</td>\n",
              "    </tr>\n",
              "    <tr>\n",
              "      <th>부산광역시</th>\n",
              "      <td>3404423</td>\n",
              "      <td>1668618</td>\n",
              "      <td>1735805</td>\n",
              "      <td>96.129346</td>\n",
              "    </tr>\n",
              "  </tbody>\n",
              "</table>\n",
              "</div>"
            ],
            "text/plain": [
              "           인구수    남자인구수    여자인구수       남여비율\n",
              "서울특별시  9720846  4732275  4988571  94.862336\n",
              "부산광역시  3404423  1668618  1735805  96.129346"
            ]
          },
          "execution_count": 68,
          "metadata": {},
          "output_type": "execute_result"
        }
      ],
      "source": [
        "korea_df.loc[(korea_df.인구수 > 2500000) & (korea_df.남여비율 < 100)]"
      ]
    },
    {
      "cell_type": "code",
      "execution_count": 69,
      "metadata": {
        "id": "NKk4cWARPQgE"
      },
      "outputs": [
        {
          "data": {
            "text/html": [
              "<div>\n",
              "<style scoped>\n",
              "    .dataframe tbody tr th:only-of-type {\n",
              "        vertical-align: middle;\n",
              "    }\n",
              "\n",
              "    .dataframe tbody tr th {\n",
              "        vertical-align: top;\n",
              "    }\n",
              "\n",
              "    .dataframe thead th {\n",
              "        text-align: right;\n",
              "    }\n",
              "</style>\n",
              "<table border=\"1\" class=\"dataframe\">\n",
              "  <thead>\n",
              "    <tr style=\"text-align: right;\">\n",
              "      <th></th>\n",
              "      <th>인구수</th>\n",
              "      <th>남자인구수</th>\n",
              "    </tr>\n",
              "  </thead>\n",
              "  <tbody>\n",
              "    <tr>\n",
              "      <th>서울특별시</th>\n",
              "      <td>9720846</td>\n",
              "      <td>4732275</td>\n",
              "    </tr>\n",
              "    <tr>\n",
              "      <th>부산광역시</th>\n",
              "      <td>3404423</td>\n",
              "      <td>1668618</td>\n",
              "    </tr>\n",
              "    <tr>\n",
              "      <th>인천광역시</th>\n",
              "      <td>2947217</td>\n",
              "      <td>1476813</td>\n",
              "    </tr>\n",
              "  </tbody>\n",
              "</table>\n",
              "</div>"
            ],
            "text/plain": [
              "           인구수    남자인구수\n",
              "서울특별시  9720846  4732275\n",
              "부산광역시  3404423  1668618\n",
              "인천광역시  2947217  1476813"
            ]
          },
          "execution_count": 69,
          "metadata": {},
          "output_type": "execute_result"
        }
      ],
      "source": [
        "korea_df.iloc[:3, :2]"
      ]
    },
    {
      "cell_type": "markdown",
      "metadata": {
        "id": "KJfzYxtksAMb"
      },
      "source": [
        "### 다중 인덱싱(Multi Indexing)\n",
        "\n",
        "* 1차원의 Series와 2차원의 DataFrame 객체를 넘어 3차원, 4차원 이상의 고차원 데이터 처리\n",
        "* 단일 인덱스 내에 여러 인덱스를 포함하는 다중 인덱싱"
      ]
    },
    {
      "cell_type": "markdown",
      "metadata": {
        "id": "K2c8rSnJ0NZx"
      },
      "source": [
        "#### 다중 인덱스 Series"
      ]
    },
    {
      "cell_type": "code",
      "execution_count": 70,
      "metadata": {
        "id": "kEA1qtgWtJcG"
      },
      "outputs": [
        {
          "data": {
            "text/html": [
              "<div>\n",
              "<style scoped>\n",
              "    .dataframe tbody tr th:only-of-type {\n",
              "        vertical-align: middle;\n",
              "    }\n",
              "\n",
              "    .dataframe tbody tr th {\n",
              "        vertical-align: top;\n",
              "    }\n",
              "\n",
              "    .dataframe thead th {\n",
              "        text-align: right;\n",
              "    }\n",
              "</style>\n",
              "<table border=\"1\" class=\"dataframe\">\n",
              "  <thead>\n",
              "    <tr style=\"text-align: right;\">\n",
              "      <th></th>\n",
              "      <th>인구수</th>\n",
              "      <th>남자인구수</th>\n",
              "      <th>여자인구수</th>\n",
              "      <th>남여비율</th>\n",
              "    </tr>\n",
              "  </thead>\n",
              "  <tbody>\n",
              "    <tr>\n",
              "      <th>서울특별시</th>\n",
              "      <td>9720846</td>\n",
              "      <td>4732275</td>\n",
              "      <td>4988571</td>\n",
              "      <td>94.862336</td>\n",
              "    </tr>\n",
              "    <tr>\n",
              "      <th>부산광역시</th>\n",
              "      <td>3404423</td>\n",
              "      <td>1668618</td>\n",
              "      <td>1735805</td>\n",
              "      <td>96.129346</td>\n",
              "    </tr>\n",
              "    <tr>\n",
              "      <th>인천광역시</th>\n",
              "      <td>2947217</td>\n",
              "      <td>1476813</td>\n",
              "      <td>1470404</td>\n",
              "      <td>100.435867</td>\n",
              "    </tr>\n",
              "    <tr>\n",
              "      <th>대구광역시</th>\n",
              "      <td>2427954</td>\n",
              "      <td>1198815</td>\n",
              "      <td>1229139</td>\n",
              "      <td>97.532907</td>\n",
              "    </tr>\n",
              "    <tr>\n",
              "      <th>대전광역시</th>\n",
              "      <td>1471040</td>\n",
              "      <td>734441</td>\n",
              "      <td>736599</td>\n",
              "      <td>99.707032</td>\n",
              "    </tr>\n",
              "    <tr>\n",
              "      <th>광주광역시</th>\n",
              "      <td>1455048</td>\n",
              "      <td>720060</td>\n",
              "      <td>734988</td>\n",
              "      <td>97.968946</td>\n",
              "    </tr>\n",
              "  </tbody>\n",
              "</table>\n",
              "</div>"
            ],
            "text/plain": [
              "           인구수    남자인구수    여자인구수        남여비율\n",
              "서울특별시  9720846  4732275  4988571   94.862336\n",
              "부산광역시  3404423  1668618  1735805   96.129346\n",
              "인천광역시  2947217  1476813  1470404  100.435867\n",
              "대구광역시  2427954  1198815  1229139   97.532907\n",
              "대전광역시  1471040   734441   736599   99.707032\n",
              "광주광역시  1455048   720060   734988   97.968946"
            ]
          },
          "execution_count": 70,
          "metadata": {},
          "output_type": "execute_result"
        }
      ],
      "source": [
        "korea_df"
      ]
    },
    {
      "cell_type": "code",
      "execution_count": 71,
      "metadata": {
        "id": "3nO23L67vKpP"
      },
      "outputs": [
        {
          "data": {
            "text/plain": [
              "[('서울특별시', 2010),\n",
              " ('서울특별시', 2020),\n",
              " ('부산광역시', 2010),\n",
              " ('부산광역시', 2020),\n",
              " ('인천광역시', 2010),\n",
              " ('인천광역시', 2020),\n",
              " ('대구광역시', 2010),\n",
              " ('대구광역시', 2020),\n",
              " ('대전광역시', 2010),\n",
              " ('대전광역시', 2020),\n",
              " ('광주광역시', 2010),\n",
              " ('광주광역시', 2020)]"
            ]
          },
          "execution_count": 71,
          "metadata": {},
          "output_type": "execute_result"
        }
      ],
      "source": [
        "idx_tuples = [('서울특별시', 2010), ('서울특별시', 2020),\n",
        "            ('부산광역시', 2010), ('부산광역시', 2020),\n",
        "            ('인천광역시', 2010), ('인천광역시', 2020),\n",
        "            ('대구광역시', 2010), ('대구광역시', 2020),\n",
        "            ('대전광역시', 2010), ('대전광역시', 2020),\n",
        "            ('광주광역시', 2010), ('광주광역시', 2020)]\n",
        "idx_tuples"
      ]
    },
    {
      "cell_type": "code",
      "execution_count": 72,
      "metadata": {
        "id": "FWw04oTC36Gy"
      },
      "outputs": [
        {
          "data": {
            "text/plain": [
              "(서울특별시, 2010)    10312545\n",
              "(서울특별시, 2020)     9720846\n",
              "(부산광역시, 2010)     2567910\n",
              "(부산광역시, 2020)     3404423\n",
              "(인천광역시, 2010)     2758296\n",
              "(인천광역시, 2020)     2947217\n",
              "(대구광역시, 2010)     2511676\n",
              "(대구광역시, 2020)     2427954\n",
              "(대전광역시, 2010)     1503664\n",
              "(대전광역시, 2020)     1471040\n",
              "(광주광역시, 2010)     1454636\n",
              "(광주광역시, 2020)     1455048\n",
              "dtype: int64"
            ]
          },
          "execution_count": 72,
          "metadata": {},
          "output_type": "execute_result"
        }
      ],
      "source": [
        "pop_tuples = [10312545, 9720846,\n",
        "            2567910, 3404423,\n",
        "            2758296, 2947217,\n",
        "            2511676, 2427954,\n",
        "            1503664, 1471040,\n",
        "            1454636, 1455048]\n",
        "population = pd.Series(pop_tuples, index=idx_tuples)\n",
        "population"
      ]
    },
    {
      "cell_type": "code",
      "execution_count": 73,
      "metadata": {
        "id": "1cOc-3Da1kGZ"
      },
      "outputs": [
        {
          "data": {
            "text/plain": [
              "MultiIndex([('서울특별시', 2010),\n",
              "            ('서울특별시', 2020),\n",
              "            ('부산광역시', 2010),\n",
              "            ('부산광역시', 2020),\n",
              "            ('인천광역시', 2010),\n",
              "            ('인천광역시', 2020),\n",
              "            ('대구광역시', 2010),\n",
              "            ('대구광역시', 2020),\n",
              "            ('대전광역시', 2010),\n",
              "            ('대전광역시', 2020),\n",
              "            ('광주광역시', 2010),\n",
              "            ('광주광역시', 2020)],\n",
              "           )"
            ]
          },
          "execution_count": 73,
          "metadata": {},
          "output_type": "execute_result"
        }
      ],
      "source": [
        "midx = pd.MultiIndex.from_tuples(idx_tuples)\n",
        "midx"
      ]
    },
    {
      "cell_type": "code",
      "execution_count": 74,
      "metadata": {
        "id": "q_dEok8s5yLx"
      },
      "outputs": [
        {
          "data": {
            "text/plain": [
              "서울특별시  2010    10312545\n",
              "       2020     9720846\n",
              "부산광역시  2010     2567910\n",
              "       2020     3404423\n",
              "인천광역시  2010     2758296\n",
              "       2020     2947217\n",
              "대구광역시  2010     2511676\n",
              "       2020     2427954\n",
              "대전광역시  2010     1503664\n",
              "       2020     1471040\n",
              "광주광역시  2010     1454636\n",
              "       2020     1455048\n",
              "dtype: int64"
            ]
          },
          "execution_count": 74,
          "metadata": {},
          "output_type": "execute_result"
        }
      ],
      "source": [
        "population = population.reindex(midx)\n",
        "population"
      ]
    },
    {
      "cell_type": "code",
      "execution_count": 75,
      "metadata": {
        "id": "NmhgBRyI5-W0"
      },
      "outputs": [
        {
          "data": {
            "text/plain": [
              "서울특별시    10312545\n",
              "부산광역시     2567910\n",
              "인천광역시     2758296\n",
              "대구광역시     2511676\n",
              "대전광역시     1503664\n",
              "광주광역시     1454636\n",
              "dtype: int64"
            ]
          },
          "execution_count": 75,
          "metadata": {},
          "output_type": "execute_result"
        }
      ],
      "source": [
        "population[:, 2010]"
      ]
    },
    {
      "cell_type": "code",
      "execution_count": 76,
      "metadata": {
        "id": "-t0tJ1mh6hkn"
      },
      "outputs": [
        {
          "data": {
            "text/plain": [
              "2010    1503664\n",
              "2020    1471040\n",
              "dtype: int64"
            ]
          },
          "execution_count": 76,
          "metadata": {},
          "output_type": "execute_result"
        }
      ],
      "source": [
        "population['대전광역시', :]"
      ]
    },
    {
      "cell_type": "code",
      "execution_count": 77,
      "metadata": {
        "id": "ppSy2UMT-LY-"
      },
      "outputs": [
        {
          "data": {
            "text/html": [
              "<div>\n",
              "<style scoped>\n",
              "    .dataframe tbody tr th:only-of-type {\n",
              "        vertical-align: middle;\n",
              "    }\n",
              "\n",
              "    .dataframe tbody tr th {\n",
              "        vertical-align: top;\n",
              "    }\n",
              "\n",
              "    .dataframe thead th {\n",
              "        text-align: right;\n",
              "    }\n",
              "</style>\n",
              "<table border=\"1\" class=\"dataframe\">\n",
              "  <thead>\n",
              "    <tr style=\"text-align: right;\">\n",
              "      <th></th>\n",
              "      <th>2010</th>\n",
              "      <th>2020</th>\n",
              "    </tr>\n",
              "  </thead>\n",
              "  <tbody>\n",
              "    <tr>\n",
              "      <th>광주광역시</th>\n",
              "      <td>1454636</td>\n",
              "      <td>1455048</td>\n",
              "    </tr>\n",
              "    <tr>\n",
              "      <th>대구광역시</th>\n",
              "      <td>2511676</td>\n",
              "      <td>2427954</td>\n",
              "    </tr>\n",
              "    <tr>\n",
              "      <th>대전광역시</th>\n",
              "      <td>1503664</td>\n",
              "      <td>1471040</td>\n",
              "    </tr>\n",
              "    <tr>\n",
              "      <th>부산광역시</th>\n",
              "      <td>2567910</td>\n",
              "      <td>3404423</td>\n",
              "    </tr>\n",
              "    <tr>\n",
              "      <th>서울특별시</th>\n",
              "      <td>10312545</td>\n",
              "      <td>9720846</td>\n",
              "    </tr>\n",
              "    <tr>\n",
              "      <th>인천광역시</th>\n",
              "      <td>2758296</td>\n",
              "      <td>2947217</td>\n",
              "    </tr>\n",
              "  </tbody>\n",
              "</table>\n",
              "</div>"
            ],
            "text/plain": [
              "           2010     2020\n",
              "광주광역시   1454636  1455048\n",
              "대구광역시   2511676  2427954\n",
              "대전광역시   1503664  1471040\n",
              "부산광역시   2567910  3404423\n",
              "서울특별시  10312545  9720846\n",
              "인천광역시   2758296  2947217"
            ]
          },
          "execution_count": 77,
          "metadata": {},
          "output_type": "execute_result"
        }
      ],
      "source": [
        "korea_mdf = population.unstack()\n",
        "korea_mdf"
      ]
    },
    {
      "cell_type": "code",
      "execution_count": 78,
      "metadata": {
        "id": "SCDTvAeL-SDk"
      },
      "outputs": [
        {
          "data": {
            "text/plain": [
              "광주광역시  2010     1454636\n",
              "       2020     1455048\n",
              "대구광역시  2010     2511676\n",
              "       2020     2427954\n",
              "대전광역시  2010     1503664\n",
              "       2020     1471040\n",
              "부산광역시  2010     2567910\n",
              "       2020     3404423\n",
              "서울특별시  2010    10312545\n",
              "       2020     9720846\n",
              "인천광역시  2010     2758296\n",
              "       2020     2947217\n",
              "dtype: int64"
            ]
          },
          "execution_count": 78,
          "metadata": {},
          "output_type": "execute_result"
        }
      ],
      "source": [
        "korea_mdf.stack()"
      ]
    },
    {
      "cell_type": "code",
      "execution_count": 79,
      "metadata": {
        "id": "0MYobeuhBp92"
      },
      "outputs": [
        {
          "data": {
            "text/plain": [
              "[5111259,\n",
              " 4732275,\n",
              " 1773170,\n",
              " 1668618,\n",
              " 1390356,\n",
              " 1476813,\n",
              " 1255245,\n",
              " 1198815,\n",
              " 753648,\n",
              " 734441,\n",
              " 721780,\n",
              " 720060]"
            ]
          },
          "execution_count": 79,
          "metadata": {},
          "output_type": "execute_result"
        }
      ],
      "source": [
        "male_tuple = [5111259, 4732275,\n",
        "            1773170, 1668618,\n",
        "            1390356, 1476813,\n",
        "            1255245, 1198815,\n",
        "            753648, 734441,\n",
        "            721780, 720060]\n",
        "male_tuple"
      ]
    },
    {
      "cell_type": "code",
      "execution_count": 80,
      "metadata": {
        "id": "x8Y7Z77sF6Jf"
      },
      "outputs": [
        {
          "data": {
            "text/html": [
              "<div>\n",
              "<style scoped>\n",
              "    .dataframe tbody tr th:only-of-type {\n",
              "        vertical-align: middle;\n",
              "    }\n",
              "\n",
              "    .dataframe tbody tr th {\n",
              "        vertical-align: top;\n",
              "    }\n",
              "\n",
              "    .dataframe thead th {\n",
              "        text-align: right;\n",
              "    }\n",
              "</style>\n",
              "<table border=\"1\" class=\"dataframe\">\n",
              "  <thead>\n",
              "    <tr style=\"text-align: right;\">\n",
              "      <th></th>\n",
              "      <th></th>\n",
              "      <th>총인구수</th>\n",
              "      <th>남자인구수</th>\n",
              "    </tr>\n",
              "  </thead>\n",
              "  <tbody>\n",
              "    <tr>\n",
              "      <th rowspan=\"2\" valign=\"top\">서울특별시</th>\n",
              "      <th>2010</th>\n",
              "      <td>10312545</td>\n",
              "      <td>5111259</td>\n",
              "    </tr>\n",
              "    <tr>\n",
              "      <th>2020</th>\n",
              "      <td>9720846</td>\n",
              "      <td>4732275</td>\n",
              "    </tr>\n",
              "    <tr>\n",
              "      <th rowspan=\"2\" valign=\"top\">부산광역시</th>\n",
              "      <th>2010</th>\n",
              "      <td>2567910</td>\n",
              "      <td>1773170</td>\n",
              "    </tr>\n",
              "    <tr>\n",
              "      <th>2020</th>\n",
              "      <td>3404423</td>\n",
              "      <td>1668618</td>\n",
              "    </tr>\n",
              "    <tr>\n",
              "      <th rowspan=\"2\" valign=\"top\">인천광역시</th>\n",
              "      <th>2010</th>\n",
              "      <td>2758296</td>\n",
              "      <td>1390356</td>\n",
              "    </tr>\n",
              "    <tr>\n",
              "      <th>2020</th>\n",
              "      <td>2947217</td>\n",
              "      <td>1476813</td>\n",
              "    </tr>\n",
              "    <tr>\n",
              "      <th rowspan=\"2\" valign=\"top\">대구광역시</th>\n",
              "      <th>2010</th>\n",
              "      <td>2511676</td>\n",
              "      <td>1255245</td>\n",
              "    </tr>\n",
              "    <tr>\n",
              "      <th>2020</th>\n",
              "      <td>2427954</td>\n",
              "      <td>1198815</td>\n",
              "    </tr>\n",
              "    <tr>\n",
              "      <th rowspan=\"2\" valign=\"top\">대전광역시</th>\n",
              "      <th>2010</th>\n",
              "      <td>1503664</td>\n",
              "      <td>753648</td>\n",
              "    </tr>\n",
              "    <tr>\n",
              "      <th>2020</th>\n",
              "      <td>1471040</td>\n",
              "      <td>734441</td>\n",
              "    </tr>\n",
              "    <tr>\n",
              "      <th rowspan=\"2\" valign=\"top\">광주광역시</th>\n",
              "      <th>2010</th>\n",
              "      <td>1454636</td>\n",
              "      <td>721780</td>\n",
              "    </tr>\n",
              "    <tr>\n",
              "      <th>2020</th>\n",
              "      <td>1455048</td>\n",
              "      <td>720060</td>\n",
              "    </tr>\n",
              "  </tbody>\n",
              "</table>\n",
              "</div>"
            ],
            "text/plain": [
              "                총인구수    남자인구수\n",
              "서울특별시 2010  10312545  5111259\n",
              "      2020   9720846  4732275\n",
              "부산광역시 2010   2567910  1773170\n",
              "      2020   3404423  1668618\n",
              "인천광역시 2010   2758296  1390356\n",
              "      2020   2947217  1476813\n",
              "대구광역시 2010   2511676  1255245\n",
              "      2020   2427954  1198815\n",
              "대전광역시 2010   1503664   753648\n",
              "      2020   1471040   734441\n",
              "광주광역시 2010   1454636   721780\n",
              "      2020   1455048   720060"
            ]
          },
          "execution_count": 80,
          "metadata": {},
          "output_type": "execute_result"
        }
      ],
      "source": [
        "korea_mdf = pd.DataFrame({'총인구수': population,\n",
        "                        '남자인구수': male_tuple})\n",
        "korea_mdf"
      ]
    },
    {
      "cell_type": "code",
      "execution_count": 81,
      "metadata": {
        "id": "mtXvWQcMGwCo"
      },
      "outputs": [
        {
          "data": {
            "text/plain": [
              "[5201286,\n",
              " 4988571,\n",
              " 1794740,\n",
              " 1735805,\n",
              " 1367940,\n",
              " 1470404,\n",
              " 1256431,\n",
              " 1229139,\n",
              " 750016,\n",
              " 736599,\n",
              " 732856,\n",
              " 734988]"
            ]
          },
          "execution_count": 81,
          "metadata": {},
          "output_type": "execute_result"
        }
      ],
      "source": [
        "female_tuple = [5201286, 4988571,\n",
        "                1794740, 1735805,\n",
        "                1367940, 1470404,\n",
        "                1256431, 1229139,\n",
        "                750016, 736599,\n",
        "                732856, 734988]\n",
        "female_tuple"
      ]
    },
    {
      "cell_type": "code",
      "execution_count": 82,
      "metadata": {
        "id": "iihD5i0hHZJl"
      },
      "outputs": [
        {
          "data": {
            "text/html": [
              "<div>\n",
              "<style scoped>\n",
              "    .dataframe tbody tr th:only-of-type {\n",
              "        vertical-align: middle;\n",
              "    }\n",
              "\n",
              "    .dataframe tbody tr th {\n",
              "        vertical-align: top;\n",
              "    }\n",
              "\n",
              "    .dataframe thead th {\n",
              "        text-align: right;\n",
              "    }\n",
              "</style>\n",
              "<table border=\"1\" class=\"dataframe\">\n",
              "  <thead>\n",
              "    <tr style=\"text-align: right;\">\n",
              "      <th></th>\n",
              "      <th></th>\n",
              "      <th>총인구수</th>\n",
              "      <th>남자인구수</th>\n",
              "      <th>여자인구수</th>\n",
              "    </tr>\n",
              "  </thead>\n",
              "  <tbody>\n",
              "    <tr>\n",
              "      <th rowspan=\"2\" valign=\"top\">서울특별시</th>\n",
              "      <th>2010</th>\n",
              "      <td>10312545</td>\n",
              "      <td>5111259</td>\n",
              "      <td>5201286</td>\n",
              "    </tr>\n",
              "    <tr>\n",
              "      <th>2020</th>\n",
              "      <td>9720846</td>\n",
              "      <td>4732275</td>\n",
              "      <td>4988571</td>\n",
              "    </tr>\n",
              "    <tr>\n",
              "      <th rowspan=\"2\" valign=\"top\">부산광역시</th>\n",
              "      <th>2010</th>\n",
              "      <td>2567910</td>\n",
              "      <td>1773170</td>\n",
              "      <td>1794740</td>\n",
              "    </tr>\n",
              "    <tr>\n",
              "      <th>2020</th>\n",
              "      <td>3404423</td>\n",
              "      <td>1668618</td>\n",
              "      <td>1735805</td>\n",
              "    </tr>\n",
              "    <tr>\n",
              "      <th rowspan=\"2\" valign=\"top\">인천광역시</th>\n",
              "      <th>2010</th>\n",
              "      <td>2758296</td>\n",
              "      <td>1390356</td>\n",
              "      <td>1367940</td>\n",
              "    </tr>\n",
              "    <tr>\n",
              "      <th>2020</th>\n",
              "      <td>2947217</td>\n",
              "      <td>1476813</td>\n",
              "      <td>1470404</td>\n",
              "    </tr>\n",
              "    <tr>\n",
              "      <th rowspan=\"2\" valign=\"top\">대구광역시</th>\n",
              "      <th>2010</th>\n",
              "      <td>2511676</td>\n",
              "      <td>1255245</td>\n",
              "      <td>1256431</td>\n",
              "    </tr>\n",
              "    <tr>\n",
              "      <th>2020</th>\n",
              "      <td>2427954</td>\n",
              "      <td>1198815</td>\n",
              "      <td>1229139</td>\n",
              "    </tr>\n",
              "    <tr>\n",
              "      <th rowspan=\"2\" valign=\"top\">대전광역시</th>\n",
              "      <th>2010</th>\n",
              "      <td>1503664</td>\n",
              "      <td>753648</td>\n",
              "      <td>750016</td>\n",
              "    </tr>\n",
              "    <tr>\n",
              "      <th>2020</th>\n",
              "      <td>1471040</td>\n",
              "      <td>734441</td>\n",
              "      <td>736599</td>\n",
              "    </tr>\n",
              "    <tr>\n",
              "      <th rowspan=\"2\" valign=\"top\">광주광역시</th>\n",
              "      <th>2010</th>\n",
              "      <td>1454636</td>\n",
              "      <td>721780</td>\n",
              "      <td>732856</td>\n",
              "    </tr>\n",
              "    <tr>\n",
              "      <th>2020</th>\n",
              "      <td>1455048</td>\n",
              "      <td>720060</td>\n",
              "      <td>734988</td>\n",
              "    </tr>\n",
              "  </tbody>\n",
              "</table>\n",
              "</div>"
            ],
            "text/plain": [
              "                총인구수    남자인구수    여자인구수\n",
              "서울특별시 2010  10312545  5111259  5201286\n",
              "      2020   9720846  4732275  4988571\n",
              "부산광역시 2010   2567910  1773170  1794740\n",
              "      2020   3404423  1668618  1735805\n",
              "인천광역시 2010   2758296  1390356  1367940\n",
              "      2020   2947217  1476813  1470404\n",
              "대구광역시 2010   2511676  1255245  1256431\n",
              "      2020   2427954  1198815  1229139\n",
              "대전광역시 2010   1503664   753648   750016\n",
              "      2020   1471040   734441   736599\n",
              "광주광역시 2010   1454636   721780   732856\n",
              "      2020   1455048   720060   734988"
            ]
          },
          "execution_count": 82,
          "metadata": {},
          "output_type": "execute_result"
        }
      ],
      "source": [
        "korea_mdf = pd.DataFrame({'총인구수': population,\n",
        "                        '남자인구수': male_tuple,\n",
        "                        '여자인구수': female_tuple})\n",
        "korea_mdf"
      ]
    },
    {
      "cell_type": "code",
      "execution_count": 83,
      "metadata": {
        "id": "tfEo_ilxI10d"
      },
      "outputs": [
        {
          "data": {
            "text/plain": [
              "서울특별시  2010     98.269140\n",
              "       2020     94.862336\n",
              "부산광역시  2010     98.798155\n",
              "       2020     96.129346\n",
              "인천광역시  2010    101.638668\n",
              "       2020    100.435867\n",
              "대구광역시  2010     99.905606\n",
              "       2020     97.532907\n",
              "대전광역시  2010    100.484256\n",
              "       2020     99.707032\n",
              "광주광역시  2010     98.488653\n",
              "       2020     97.968946\n",
              "dtype: float64"
            ]
          },
          "execution_count": 83,
          "metadata": {},
          "output_type": "execute_result"
        }
      ],
      "source": [
        "ratio = korea_mdf['남자인구수'] / korea_mdf.여자인구수 * 100\n",
        "ratio"
      ]
    },
    {
      "cell_type": "code",
      "execution_count": 84,
      "metadata": {
        "id": "SEZnxJ4gxR44"
      },
      "outputs": [
        {
          "data": {
            "text/html": [
              "<div>\n",
              "<style scoped>\n",
              "    .dataframe tbody tr th:only-of-type {\n",
              "        vertical-align: middle;\n",
              "    }\n",
              "\n",
              "    .dataframe tbody tr th {\n",
              "        vertical-align: top;\n",
              "    }\n",
              "\n",
              "    .dataframe thead th {\n",
              "        text-align: right;\n",
              "    }\n",
              "</style>\n",
              "<table border=\"1\" class=\"dataframe\">\n",
              "  <thead>\n",
              "    <tr style=\"text-align: right;\">\n",
              "      <th></th>\n",
              "      <th>2010</th>\n",
              "      <th>2020</th>\n",
              "    </tr>\n",
              "  </thead>\n",
              "  <tbody>\n",
              "    <tr>\n",
              "      <th>광주광역시</th>\n",
              "      <td>98.488653</td>\n",
              "      <td>97.968946</td>\n",
              "    </tr>\n",
              "    <tr>\n",
              "      <th>대구광역시</th>\n",
              "      <td>99.905606</td>\n",
              "      <td>97.532907</td>\n",
              "    </tr>\n",
              "    <tr>\n",
              "      <th>대전광역시</th>\n",
              "      <td>100.484256</td>\n",
              "      <td>99.707032</td>\n",
              "    </tr>\n",
              "    <tr>\n",
              "      <th>부산광역시</th>\n",
              "      <td>98.798155</td>\n",
              "      <td>96.129346</td>\n",
              "    </tr>\n",
              "    <tr>\n",
              "      <th>서울특별시</th>\n",
              "      <td>98.269140</td>\n",
              "      <td>94.862336</td>\n",
              "    </tr>\n",
              "    <tr>\n",
              "      <th>인천광역시</th>\n",
              "      <td>101.638668</td>\n",
              "      <td>100.435867</td>\n",
              "    </tr>\n",
              "  </tbody>\n",
              "</table>\n",
              "</div>"
            ],
            "text/plain": [
              "             2010        2020\n",
              "광주광역시   98.488653   97.968946\n",
              "대구광역시   99.905606   97.532907\n",
              "대전광역시  100.484256   99.707032\n",
              "부산광역시   98.798155   96.129346\n",
              "서울특별시   98.269140   94.862336\n",
              "인천광역시  101.638668  100.435867"
            ]
          },
          "execution_count": 84,
          "metadata": {},
          "output_type": "execute_result"
        }
      ],
      "source": [
        "ratio.unstack()"
      ]
    },
    {
      "cell_type": "code",
      "execution_count": 85,
      "metadata": {
        "id": "pjKTjkngxmdk"
      },
      "outputs": [
        {
          "data": {
            "text/html": [
              "<div>\n",
              "<style scoped>\n",
              "    .dataframe tbody tr th:only-of-type {\n",
              "        vertical-align: middle;\n",
              "    }\n",
              "\n",
              "    .dataframe tbody tr th {\n",
              "        vertical-align: top;\n",
              "    }\n",
              "\n",
              "    .dataframe thead th {\n",
              "        text-align: right;\n",
              "    }\n",
              "</style>\n",
              "<table border=\"1\" class=\"dataframe\">\n",
              "  <thead>\n",
              "    <tr style=\"text-align: right;\">\n",
              "      <th></th>\n",
              "      <th></th>\n",
              "      <th>총인구수</th>\n",
              "      <th>남자인구수</th>\n",
              "      <th>여자인구수</th>\n",
              "      <th>남여비율</th>\n",
              "    </tr>\n",
              "  </thead>\n",
              "  <tbody>\n",
              "    <tr>\n",
              "      <th rowspan=\"2\" valign=\"top\">서울특별시</th>\n",
              "      <th>2010</th>\n",
              "      <td>10312545</td>\n",
              "      <td>5111259</td>\n",
              "      <td>5201286</td>\n",
              "      <td>98.269140</td>\n",
              "    </tr>\n",
              "    <tr>\n",
              "      <th>2020</th>\n",
              "      <td>9720846</td>\n",
              "      <td>4732275</td>\n",
              "      <td>4988571</td>\n",
              "      <td>94.862336</td>\n",
              "    </tr>\n",
              "    <tr>\n",
              "      <th rowspan=\"2\" valign=\"top\">부산광역시</th>\n",
              "      <th>2010</th>\n",
              "      <td>2567910</td>\n",
              "      <td>1773170</td>\n",
              "      <td>1794740</td>\n",
              "      <td>98.798155</td>\n",
              "    </tr>\n",
              "    <tr>\n",
              "      <th>2020</th>\n",
              "      <td>3404423</td>\n",
              "      <td>1668618</td>\n",
              "      <td>1735805</td>\n",
              "      <td>96.129346</td>\n",
              "    </tr>\n",
              "    <tr>\n",
              "      <th rowspan=\"2\" valign=\"top\">인천광역시</th>\n",
              "      <th>2010</th>\n",
              "      <td>2758296</td>\n",
              "      <td>1390356</td>\n",
              "      <td>1367940</td>\n",
              "      <td>101.638668</td>\n",
              "    </tr>\n",
              "    <tr>\n",
              "      <th>2020</th>\n",
              "      <td>2947217</td>\n",
              "      <td>1476813</td>\n",
              "      <td>1470404</td>\n",
              "      <td>100.435867</td>\n",
              "    </tr>\n",
              "    <tr>\n",
              "      <th rowspan=\"2\" valign=\"top\">대구광역시</th>\n",
              "      <th>2010</th>\n",
              "      <td>2511676</td>\n",
              "      <td>1255245</td>\n",
              "      <td>1256431</td>\n",
              "      <td>99.905606</td>\n",
              "    </tr>\n",
              "    <tr>\n",
              "      <th>2020</th>\n",
              "      <td>2427954</td>\n",
              "      <td>1198815</td>\n",
              "      <td>1229139</td>\n",
              "      <td>97.532907</td>\n",
              "    </tr>\n",
              "    <tr>\n",
              "      <th rowspan=\"2\" valign=\"top\">대전광역시</th>\n",
              "      <th>2010</th>\n",
              "      <td>1503664</td>\n",
              "      <td>753648</td>\n",
              "      <td>750016</td>\n",
              "      <td>100.484256</td>\n",
              "    </tr>\n",
              "    <tr>\n",
              "      <th>2020</th>\n",
              "      <td>1471040</td>\n",
              "      <td>734441</td>\n",
              "      <td>736599</td>\n",
              "      <td>99.707032</td>\n",
              "    </tr>\n",
              "    <tr>\n",
              "      <th rowspan=\"2\" valign=\"top\">광주광역시</th>\n",
              "      <th>2010</th>\n",
              "      <td>1454636</td>\n",
              "      <td>721780</td>\n",
              "      <td>732856</td>\n",
              "      <td>98.488653</td>\n",
              "    </tr>\n",
              "    <tr>\n",
              "      <th>2020</th>\n",
              "      <td>1455048</td>\n",
              "      <td>720060</td>\n",
              "      <td>734988</td>\n",
              "      <td>97.968946</td>\n",
              "    </tr>\n",
              "  </tbody>\n",
              "</table>\n",
              "</div>"
            ],
            "text/plain": [
              "                총인구수    남자인구수    여자인구수        남여비율\n",
              "서울특별시 2010  10312545  5111259  5201286   98.269140\n",
              "      2020   9720846  4732275  4988571   94.862336\n",
              "부산광역시 2010   2567910  1773170  1794740   98.798155\n",
              "      2020   3404423  1668618  1735805   96.129346\n",
              "인천광역시 2010   2758296  1390356  1367940  101.638668\n",
              "      2020   2947217  1476813  1470404  100.435867\n",
              "대구광역시 2010   2511676  1255245  1256431   99.905606\n",
              "      2020   2427954  1198815  1229139   97.532907\n",
              "대전광역시 2010   1503664   753648   750016  100.484256\n",
              "      2020   1471040   734441   736599   99.707032\n",
              "광주광역시 2010   1454636   721780   732856   98.488653\n",
              "      2020   1455048   720060   734988   97.968946"
            ]
          },
          "execution_count": 85,
          "metadata": {},
          "output_type": "execute_result"
        }
      ],
      "source": [
        "korea_mdf = pd.DataFrame({'총인구수': population,\n",
        "                        '남자인구수': male_tuple,\n",
        "                        '여자인구수': female_tuple,\n",
        "                        '남여비율': ratio})\n",
        "korea_mdf"
      ]
    },
    {
      "cell_type": "markdown",
      "metadata": {
        "id": "dwMPxdAYzN2-"
      },
      "source": [
        "#### 다중 인덱스 생성"
      ]
    },
    {
      "cell_type": "code",
      "execution_count": 86,
      "metadata": {
        "id": "0AWJ--PgyQ9_"
      },
      "outputs": [
        {
          "data": {
            "text/html": [
              "<div>\n",
              "<style scoped>\n",
              "    .dataframe tbody tr th:only-of-type {\n",
              "        vertical-align: middle;\n",
              "    }\n",
              "\n",
              "    .dataframe tbody tr th {\n",
              "        vertical-align: top;\n",
              "    }\n",
              "\n",
              "    .dataframe thead th {\n",
              "        text-align: right;\n",
              "    }\n",
              "</style>\n",
              "<table border=\"1\" class=\"dataframe\">\n",
              "  <thead>\n",
              "    <tr style=\"text-align: right;\">\n",
              "      <th></th>\n",
              "      <th></th>\n",
              "      <th>c1</th>\n",
              "      <th>c2</th>\n",
              "      <th>c3</th>\n",
              "    </tr>\n",
              "  </thead>\n",
              "  <tbody>\n",
              "    <tr>\n",
              "      <th rowspan=\"2\" valign=\"top\">a</th>\n",
              "      <th>1</th>\n",
              "      <td>0.942276</td>\n",
              "      <td>0.447994</td>\n",
              "      <td>0.760024</td>\n",
              "    </tr>\n",
              "    <tr>\n",
              "      <th>2</th>\n",
              "      <td>0.574360</td>\n",
              "      <td>0.853859</td>\n",
              "      <td>0.473852</td>\n",
              "    </tr>\n",
              "    <tr>\n",
              "      <th rowspan=\"2\" valign=\"top\">b</th>\n",
              "      <th>1</th>\n",
              "      <td>0.156821</td>\n",
              "      <td>0.947653</td>\n",
              "      <td>0.631461</td>\n",
              "    </tr>\n",
              "    <tr>\n",
              "      <th>2</th>\n",
              "      <td>0.882634</td>\n",
              "      <td>0.815588</td>\n",
              "      <td>0.339584</td>\n",
              "    </tr>\n",
              "    <tr>\n",
              "      <th rowspan=\"2\" valign=\"top\">c</th>\n",
              "      <th>1</th>\n",
              "      <td>0.393410</td>\n",
              "      <td>0.793162</td>\n",
              "      <td>0.119446</td>\n",
              "    </tr>\n",
              "    <tr>\n",
              "      <th>2</th>\n",
              "      <td>0.924543</td>\n",
              "      <td>0.856601</td>\n",
              "      <td>0.741116</td>\n",
              "    </tr>\n",
              "  </tbody>\n",
              "</table>\n",
              "</div>"
            ],
            "text/plain": [
              "           c1        c2        c3\n",
              "a 1  0.942276  0.447994  0.760024\n",
              "  2  0.574360  0.853859  0.473852\n",
              "b 1  0.156821  0.947653  0.631461\n",
              "  2  0.882634  0.815588  0.339584\n",
              "c 1  0.393410  0.793162  0.119446\n",
              "  2  0.924543  0.856601  0.741116"
            ]
          },
          "execution_count": 86,
          "metadata": {},
          "output_type": "execute_result"
        }
      ],
      "source": [
        "df = pd.DataFrame(np.random.rand(6, 3),\n",
        "                index=[['a', 'a', 'b', 'b', 'c', 'c'], [1, 2, 1, 2, 1, 2]],\n",
        "                columns=['c1', 'c2', 'c3'])\n",
        "df"
      ]
    },
    {
      "cell_type": "code",
      "execution_count": 87,
      "metadata": {
        "id": "b9lRLS_l0tr8"
      },
      "outputs": [
        {
          "data": {
            "text/plain": [
              "MultiIndex([('a', 1),\n",
              "            ('a', 2),\n",
              "            ('b', 1),\n",
              "            ('b', 2),\n",
              "            ('c', 1),\n",
              "            ('c', 2)],\n",
              "           )"
            ]
          },
          "execution_count": 87,
          "metadata": {},
          "output_type": "execute_result"
        }
      ],
      "source": [
        "pd.MultiIndex.from_arrays([['a', 'a', 'b', 'b', 'c', 'c'], [1, 2, 1, 2, 1, 2]])"
      ]
    },
    {
      "cell_type": "code",
      "execution_count": 88,
      "metadata": {
        "id": "IkjKulZW2Ocr"
      },
      "outputs": [
        {
          "data": {
            "text/plain": [
              "MultiIndex([('a', 1),\n",
              "            ('a', 2),\n",
              "            ('b', 1),\n",
              "            ('b', 2),\n",
              "            ('c', 1),\n",
              "            ('c', 2)],\n",
              "           )"
            ]
          },
          "execution_count": 88,
          "metadata": {},
          "output_type": "execute_result"
        }
      ],
      "source": [
        "pd.MultiIndex.from_tuples([('a', 1),\n",
        "                        ('a', 2),\n",
        "                        ('b', 1),\n",
        "                        ('b', 2),\n",
        "                        ('c', 1),\n",
        "                        ('c', 2)])"
      ]
    },
    {
      "cell_type": "code",
      "execution_count": 89,
      "metadata": {
        "id": "xfQ8edOF2eN_"
      },
      "outputs": [
        {
          "data": {
            "text/plain": [
              "MultiIndex([('a', 1),\n",
              "            ('a', 2),\n",
              "            ('b', 1),\n",
              "            ('b', 2),\n",
              "            ('c', 1),\n",
              "            ('c', 2)],\n",
              "           )"
            ]
          },
          "execution_count": 89,
          "metadata": {},
          "output_type": "execute_result"
        }
      ],
      "source": [
        "pd.MultiIndex.from_product([['a', 'b', 'c'], [1, 2]])"
      ]
    },
    {
      "cell_type": "code",
      "execution_count": 90,
      "metadata": {
        "id": "bK3cXvJy3Bhg"
      },
      "outputs": [
        {
          "data": {
            "text/plain": [
              "MultiIndex([('a', 1),\n",
              "            ('a', 2),\n",
              "            ('b', 1),\n",
              "            ('b', 2),\n",
              "            ('c', 1),\n",
              "            ('c', 2)],\n",
              "           )"
            ]
          },
          "execution_count": 90,
          "metadata": {},
          "output_type": "execute_result"
        }
      ],
      "source": [
        "pd.MultiIndex(levels=[['a', 'b', 'c'], [1, 2]],\n",
        "            codes=[[0, 0, 1, 1, 2, 2], [0, 1, 0, 1, 0, 1]])"
      ]
    },
    {
      "cell_type": "code",
      "execution_count": 91,
      "metadata": {
        "id": "hWJShVRj5RFP"
      },
      "outputs": [
        {
          "data": {
            "text/plain": [
              "서울특별시  2010    10312545\n",
              "       2020     9720846\n",
              "부산광역시  2010     2567910\n",
              "       2020     3404423\n",
              "인천광역시  2010     2758296\n",
              "       2020     2947217\n",
              "대구광역시  2010     2511676\n",
              "       2020     2427954\n",
              "대전광역시  2010     1503664\n",
              "       2020     1471040\n",
              "광주광역시  2010     1454636\n",
              "       2020     1455048\n",
              "dtype: int64"
            ]
          },
          "execution_count": 91,
          "metadata": {},
          "output_type": "execute_result"
        }
      ],
      "source": [
        "population"
      ]
    },
    {
      "cell_type": "code",
      "execution_count": 92,
      "metadata": {
        "id": "KNos70_J5ZjD"
      },
      "outputs": [
        {
          "data": {
            "text/plain": [
              "행정구역   년도  \n",
              "서울특별시  2010    10312545\n",
              "       2020     9720846\n",
              "부산광역시  2010     2567910\n",
              "       2020     3404423\n",
              "인천광역시  2010     2758296\n",
              "       2020     2947217\n",
              "대구광역시  2010     2511676\n",
              "       2020     2427954\n",
              "대전광역시  2010     1503664\n",
              "       2020     1471040\n",
              "광주광역시  2010     1454636\n",
              "       2020     1455048\n",
              "dtype: int64"
            ]
          },
          "execution_count": 92,
          "metadata": {},
          "output_type": "execute_result"
        }
      ],
      "source": [
        "population.index.names = ['행정구역', '년도']\n",
        "population"
      ]
    },
    {
      "cell_type": "code",
      "execution_count": 93,
      "metadata": {
        "id": "Th-G-FAn6z-j"
      },
      "outputs": [
        {
          "data": {
            "text/html": [
              "<div>\n",
              "<style scoped>\n",
              "    .dataframe tbody tr th:only-of-type {\n",
              "        vertical-align: middle;\n",
              "    }\n",
              "\n",
              "    .dataframe tbody tr th {\n",
              "        vertical-align: top;\n",
              "    }\n",
              "\n",
              "    .dataframe thead tr th {\n",
              "        text-align: left;\n",
              "    }\n",
              "\n",
              "    .dataframe thead tr:last-of-type th {\n",
              "        text-align: right;\n",
              "    }\n",
              "</style>\n",
              "<table border=\"1\" class=\"dataframe\">\n",
              "  <thead>\n",
              "    <tr>\n",
              "      <th></th>\n",
              "      <th>col_name1</th>\n",
              "      <th colspan=\"2\" halign=\"left\">c1</th>\n",
              "      <th colspan=\"2\" halign=\"left\">c2</th>\n",
              "      <th colspan=\"2\" halign=\"left\">c3</th>\n",
              "    </tr>\n",
              "    <tr>\n",
              "      <th></th>\n",
              "      <th>col_name2</th>\n",
              "      <th>1</th>\n",
              "      <th>2</th>\n",
              "      <th>1</th>\n",
              "      <th>2</th>\n",
              "      <th>1</th>\n",
              "      <th>2</th>\n",
              "    </tr>\n",
              "    <tr>\n",
              "      <th>name1</th>\n",
              "      <th>name2</th>\n",
              "      <th></th>\n",
              "      <th></th>\n",
              "      <th></th>\n",
              "      <th></th>\n",
              "      <th></th>\n",
              "      <th></th>\n",
              "    </tr>\n",
              "  </thead>\n",
              "  <tbody>\n",
              "    <tr>\n",
              "      <th rowspan=\"2\" valign=\"top\">a</th>\n",
              "      <th>1</th>\n",
              "      <td>0.42</td>\n",
              "      <td>-1.75</td>\n",
              "      <td>1.80</td>\n",
              "      <td>0.20</td>\n",
              "      <td>-1.16</td>\n",
              "      <td>-0.05</td>\n",
              "    </tr>\n",
              "    <tr>\n",
              "      <th>2</th>\n",
              "      <td>0.98</td>\n",
              "      <td>-0.98</td>\n",
              "      <td>0.33</td>\n",
              "      <td>-0.41</td>\n",
              "      <td>-0.07</td>\n",
              "      <td>0.27</td>\n",
              "    </tr>\n",
              "    <tr>\n",
              "      <th rowspan=\"2\" valign=\"top\">b</th>\n",
              "      <th>1</th>\n",
              "      <td>1.36</td>\n",
              "      <td>1.99</td>\n",
              "      <td>0.27</td>\n",
              "      <td>0.35</td>\n",
              "      <td>-1.72</td>\n",
              "      <td>-0.82</td>\n",
              "    </tr>\n",
              "    <tr>\n",
              "      <th>2</th>\n",
              "      <td>0.07</td>\n",
              "      <td>-0.09</td>\n",
              "      <td>-1.19</td>\n",
              "      <td>1.17</td>\n",
              "      <td>-0.05</td>\n",
              "      <td>-0.88</td>\n",
              "    </tr>\n",
              "    <tr>\n",
              "      <th rowspan=\"2\" valign=\"top\">c</th>\n",
              "      <th>1</th>\n",
              "      <td>1.45</td>\n",
              "      <td>0.63</td>\n",
              "      <td>2.33</td>\n",
              "      <td>0.35</td>\n",
              "      <td>2.08</td>\n",
              "      <td>-1.54</td>\n",
              "    </tr>\n",
              "    <tr>\n",
              "      <th>2</th>\n",
              "      <td>1.13</td>\n",
              "      <td>2.03</td>\n",
              "      <td>-1.01</td>\n",
              "      <td>-0.59</td>\n",
              "      <td>0.27</td>\n",
              "      <td>0.22</td>\n",
              "    </tr>\n",
              "  </tbody>\n",
              "</table>\n",
              "</div>"
            ],
            "text/plain": [
              "col_name1      c1          c2          c3      \n",
              "col_name2       1     2     1     2     1     2\n",
              "name1 name2                                    \n",
              "a     1      0.42 -1.75  1.80  0.20 -1.16 -0.05\n",
              "      2      0.98 -0.98  0.33 -0.41 -0.07  0.27\n",
              "b     1      1.36  1.99  0.27  0.35 -1.72 -0.82\n",
              "      2      0.07 -0.09 -1.19  1.17 -0.05 -0.88\n",
              "c     1      1.45  0.63  2.33  0.35  2.08 -1.54\n",
              "      2      1.13  2.03 -1.01 -0.59  0.27  0.22"
            ]
          },
          "execution_count": 93,
          "metadata": {},
          "output_type": "execute_result"
        }
      ],
      "source": [
        "idx = pd.MultiIndex.from_product([['a', 'b', 'c'], [1, 2]],\n",
        "                                names=['name1', 'name2'])\n",
        "cols = pd.MultiIndex.from_product([['c1', 'c2', 'c3'], [1, 2]],\n",
        "                                names=['col_name1', 'col_name2'])\n",
        "data = np.round(np.random.randn(6, 6), 2)\n",
        "mdf = pd.DataFrame(data, index=idx, columns=cols)\n",
        "mdf"
      ]
    },
    {
      "cell_type": "code",
      "execution_count": 94,
      "metadata": {
        "id": "ooMpG3MG8nhc"
      },
      "outputs": [
        {
          "data": {
            "text/html": [
              "<div>\n",
              "<style scoped>\n",
              "    .dataframe tbody tr th:only-of-type {\n",
              "        vertical-align: middle;\n",
              "    }\n",
              "\n",
              "    .dataframe tbody tr th {\n",
              "        vertical-align: top;\n",
              "    }\n",
              "\n",
              "    .dataframe thead th {\n",
              "        text-align: right;\n",
              "    }\n",
              "</style>\n",
              "<table border=\"1\" class=\"dataframe\">\n",
              "  <thead>\n",
              "    <tr style=\"text-align: right;\">\n",
              "      <th></th>\n",
              "      <th>col_name2</th>\n",
              "      <th>1</th>\n",
              "      <th>2</th>\n",
              "    </tr>\n",
              "    <tr>\n",
              "      <th>name1</th>\n",
              "      <th>name2</th>\n",
              "      <th></th>\n",
              "      <th></th>\n",
              "    </tr>\n",
              "  </thead>\n",
              "  <tbody>\n",
              "    <tr>\n",
              "      <th rowspan=\"2\" valign=\"top\">a</th>\n",
              "      <th>1</th>\n",
              "      <td>1.80</td>\n",
              "      <td>0.20</td>\n",
              "    </tr>\n",
              "    <tr>\n",
              "      <th>2</th>\n",
              "      <td>0.33</td>\n",
              "      <td>-0.41</td>\n",
              "    </tr>\n",
              "    <tr>\n",
              "      <th rowspan=\"2\" valign=\"top\">b</th>\n",
              "      <th>1</th>\n",
              "      <td>0.27</td>\n",
              "      <td>0.35</td>\n",
              "    </tr>\n",
              "    <tr>\n",
              "      <th>2</th>\n",
              "      <td>-1.19</td>\n",
              "      <td>1.17</td>\n",
              "    </tr>\n",
              "    <tr>\n",
              "      <th rowspan=\"2\" valign=\"top\">c</th>\n",
              "      <th>1</th>\n",
              "      <td>2.33</td>\n",
              "      <td>0.35</td>\n",
              "    </tr>\n",
              "    <tr>\n",
              "      <th>2</th>\n",
              "      <td>-1.01</td>\n",
              "      <td>-0.59</td>\n",
              "    </tr>\n",
              "  </tbody>\n",
              "</table>\n",
              "</div>"
            ],
            "text/plain": [
              "col_name2       1     2\n",
              "name1 name2            \n",
              "a     1      1.80  0.20\n",
              "      2      0.33 -0.41\n",
              "b     1      0.27  0.35\n",
              "      2     -1.19  1.17\n",
              "c     1      2.33  0.35\n",
              "      2     -1.01 -0.59"
            ]
          },
          "execution_count": 94,
          "metadata": {},
          "output_type": "execute_result"
        }
      ],
      "source": [
        "mdf['c2']"
      ]
    },
    {
      "cell_type": "markdown",
      "metadata": {
        "id": "d2jFmy1x837m"
      },
      "source": [
        "#### 인덱싱 및 슬라이싱"
      ]
    },
    {
      "cell_type": "code",
      "execution_count": 95,
      "metadata": {
        "id": "5qDexsN98_3V"
      },
      "outputs": [
        {
          "data": {
            "text/plain": [
              "행정구역   년도  \n",
              "서울특별시  2010    10312545\n",
              "       2020     9720846\n",
              "부산광역시  2010     2567910\n",
              "       2020     3404423\n",
              "인천광역시  2010     2758296\n",
              "       2020     2947217\n",
              "대구광역시  2010     2511676\n",
              "       2020     2427954\n",
              "대전광역시  2010     1503664\n",
              "       2020     1471040\n",
              "광주광역시  2010     1454636\n",
              "       2020     1455048\n",
              "dtype: int64"
            ]
          },
          "execution_count": 95,
          "metadata": {},
          "output_type": "execute_result"
        }
      ],
      "source": [
        "population"
      ]
    },
    {
      "cell_type": "code",
      "execution_count": 96,
      "metadata": {
        "id": "daJEr_c_9EGT"
      },
      "outputs": [
        {
          "data": {
            "text/plain": [
              "2758296"
            ]
          },
          "execution_count": 96,
          "metadata": {},
          "output_type": "execute_result"
        }
      ],
      "source": [
        "population['인천광역시', 2010]"
      ]
    },
    {
      "cell_type": "code",
      "execution_count": 97,
      "metadata": {
        "id": "AqPBvowq9YY3"
      },
      "outputs": [
        {
          "data": {
            "text/plain": [
              "행정구역\n",
              "서울특별시    10312545\n",
              "부산광역시     2567910\n",
              "인천광역시     2758296\n",
              "대구광역시     2511676\n",
              "대전광역시     1503664\n",
              "광주광역시     1454636\n",
              "dtype: int64"
            ]
          },
          "execution_count": 97,
          "metadata": {},
          "output_type": "execute_result"
        }
      ],
      "source": [
        "population[:, 2010]"
      ]
    },
    {
      "cell_type": "code",
      "execution_count": 98,
      "metadata": {
        "id": "zkMhB7q1-DlM"
      },
      "outputs": [
        {
          "data": {
            "text/plain": [
              "행정구역   년도  \n",
              "서울특별시  2010    10312545\n",
              "       2020     9720846\n",
              "부산광역시  2020     3404423\n",
              "dtype: int64"
            ]
          },
          "execution_count": 98,
          "metadata": {},
          "output_type": "execute_result"
        }
      ],
      "source": [
        "population[population > 3000000]"
      ]
    },
    {
      "cell_type": "code",
      "execution_count": 99,
      "metadata": {
        "id": "tcQ-jXF--Q0m"
      },
      "outputs": [
        {
          "data": {
            "text/plain": [
              "행정구역   년도  \n",
              "대구광역시  2010    2511676\n",
              "       2020    2427954\n",
              "대전광역시  2010    1503664\n",
              "       2020    1471040\n",
              "dtype: int64"
            ]
          },
          "execution_count": 99,
          "metadata": {},
          "output_type": "execute_result"
        }
      ],
      "source": [
        "population[['대구광역시', '대전광역시']]"
      ]
    },
    {
      "cell_type": "code",
      "execution_count": 100,
      "metadata": {
        "id": "88uFVbPP-Z4g"
      },
      "outputs": [
        {
          "data": {
            "text/html": [
              "<div>\n",
              "<style scoped>\n",
              "    .dataframe tbody tr th:only-of-type {\n",
              "        vertical-align: middle;\n",
              "    }\n",
              "\n",
              "    .dataframe tbody tr th {\n",
              "        vertical-align: top;\n",
              "    }\n",
              "\n",
              "    .dataframe thead tr th {\n",
              "        text-align: left;\n",
              "    }\n",
              "\n",
              "    .dataframe thead tr:last-of-type th {\n",
              "        text-align: right;\n",
              "    }\n",
              "</style>\n",
              "<table border=\"1\" class=\"dataframe\">\n",
              "  <thead>\n",
              "    <tr>\n",
              "      <th></th>\n",
              "      <th>col_name1</th>\n",
              "      <th colspan=\"2\" halign=\"left\">c1</th>\n",
              "      <th colspan=\"2\" halign=\"left\">c2</th>\n",
              "      <th colspan=\"2\" halign=\"left\">c3</th>\n",
              "    </tr>\n",
              "    <tr>\n",
              "      <th></th>\n",
              "      <th>col_name2</th>\n",
              "      <th>1</th>\n",
              "      <th>2</th>\n",
              "      <th>1</th>\n",
              "      <th>2</th>\n",
              "      <th>1</th>\n",
              "      <th>2</th>\n",
              "    </tr>\n",
              "    <tr>\n",
              "      <th>name1</th>\n",
              "      <th>name2</th>\n",
              "      <th></th>\n",
              "      <th></th>\n",
              "      <th></th>\n",
              "      <th></th>\n",
              "      <th></th>\n",
              "      <th></th>\n",
              "    </tr>\n",
              "  </thead>\n",
              "  <tbody>\n",
              "    <tr>\n",
              "      <th rowspan=\"2\" valign=\"top\">a</th>\n",
              "      <th>1</th>\n",
              "      <td>0.42</td>\n",
              "      <td>-1.75</td>\n",
              "      <td>1.80</td>\n",
              "      <td>0.20</td>\n",
              "      <td>-1.16</td>\n",
              "      <td>-0.05</td>\n",
              "    </tr>\n",
              "    <tr>\n",
              "      <th>2</th>\n",
              "      <td>0.98</td>\n",
              "      <td>-0.98</td>\n",
              "      <td>0.33</td>\n",
              "      <td>-0.41</td>\n",
              "      <td>-0.07</td>\n",
              "      <td>0.27</td>\n",
              "    </tr>\n",
              "    <tr>\n",
              "      <th rowspan=\"2\" valign=\"top\">b</th>\n",
              "      <th>1</th>\n",
              "      <td>1.36</td>\n",
              "      <td>1.99</td>\n",
              "      <td>0.27</td>\n",
              "      <td>0.35</td>\n",
              "      <td>-1.72</td>\n",
              "      <td>-0.82</td>\n",
              "    </tr>\n",
              "    <tr>\n",
              "      <th>2</th>\n",
              "      <td>0.07</td>\n",
              "      <td>-0.09</td>\n",
              "      <td>-1.19</td>\n",
              "      <td>1.17</td>\n",
              "      <td>-0.05</td>\n",
              "      <td>-0.88</td>\n",
              "    </tr>\n",
              "    <tr>\n",
              "      <th rowspan=\"2\" valign=\"top\">c</th>\n",
              "      <th>1</th>\n",
              "      <td>1.45</td>\n",
              "      <td>0.63</td>\n",
              "      <td>2.33</td>\n",
              "      <td>0.35</td>\n",
              "      <td>2.08</td>\n",
              "      <td>-1.54</td>\n",
              "    </tr>\n",
              "    <tr>\n",
              "      <th>2</th>\n",
              "      <td>1.13</td>\n",
              "      <td>2.03</td>\n",
              "      <td>-1.01</td>\n",
              "      <td>-0.59</td>\n",
              "      <td>0.27</td>\n",
              "      <td>0.22</td>\n",
              "    </tr>\n",
              "  </tbody>\n",
              "</table>\n",
              "</div>"
            ],
            "text/plain": [
              "col_name1      c1          c2          c3      \n",
              "col_name2       1     2     1     2     1     2\n",
              "name1 name2                                    \n",
              "a     1      0.42 -1.75  1.80  0.20 -1.16 -0.05\n",
              "      2      0.98 -0.98  0.33 -0.41 -0.07  0.27\n",
              "b     1      1.36  1.99  0.27  0.35 -1.72 -0.82\n",
              "      2      0.07 -0.09 -1.19  1.17 -0.05 -0.88\n",
              "c     1      1.45  0.63  2.33  0.35  2.08 -1.54\n",
              "      2      1.13  2.03 -1.01 -0.59  0.27  0.22"
            ]
          },
          "execution_count": 100,
          "metadata": {},
          "output_type": "execute_result"
        }
      ],
      "source": [
        "mdf"
      ]
    },
    {
      "cell_type": "code",
      "execution_count": 101,
      "metadata": {
        "id": "RwkBWRU_-fHW"
      },
      "outputs": [
        {
          "data": {
            "text/plain": [
              "name1  name2\n",
              "a      1        1.80\n",
              "       2        0.33\n",
              "b      1        0.27\n",
              "       2       -1.19\n",
              "c      1        2.33\n",
              "       2       -1.01\n",
              "Name: (c2, 1), dtype: float64"
            ]
          },
          "execution_count": 101,
          "metadata": {},
          "output_type": "execute_result"
        }
      ],
      "source": [
        "mdf['c2', 1]"
      ]
    },
    {
      "cell_type": "code",
      "execution_count": 102,
      "metadata": {
        "id": "GVqzxZcq-tiq"
      },
      "outputs": [
        {
          "data": {
            "text/html": [
              "<div>\n",
              "<style scoped>\n",
              "    .dataframe tbody tr th:only-of-type {\n",
              "        vertical-align: middle;\n",
              "    }\n",
              "\n",
              "    .dataframe tbody tr th {\n",
              "        vertical-align: top;\n",
              "    }\n",
              "\n",
              "    .dataframe thead tr th {\n",
              "        text-align: left;\n",
              "    }\n",
              "\n",
              "    .dataframe thead tr:last-of-type th {\n",
              "        text-align: right;\n",
              "    }\n",
              "</style>\n",
              "<table border=\"1\" class=\"dataframe\">\n",
              "  <thead>\n",
              "    <tr>\n",
              "      <th></th>\n",
              "      <th>col_name1</th>\n",
              "      <th colspan=\"2\" halign=\"left\">c1</th>\n",
              "      <th colspan=\"2\" halign=\"left\">c2</th>\n",
              "    </tr>\n",
              "    <tr>\n",
              "      <th></th>\n",
              "      <th>col_name2</th>\n",
              "      <th>1</th>\n",
              "      <th>2</th>\n",
              "      <th>1</th>\n",
              "      <th>2</th>\n",
              "    </tr>\n",
              "    <tr>\n",
              "      <th>name1</th>\n",
              "      <th>name2</th>\n",
              "      <th></th>\n",
              "      <th></th>\n",
              "      <th></th>\n",
              "      <th></th>\n",
              "    </tr>\n",
              "  </thead>\n",
              "  <tbody>\n",
              "    <tr>\n",
              "      <th rowspan=\"2\" valign=\"top\">a</th>\n",
              "      <th>1</th>\n",
              "      <td>0.42</td>\n",
              "      <td>-1.75</td>\n",
              "      <td>1.80</td>\n",
              "      <td>0.20</td>\n",
              "    </tr>\n",
              "    <tr>\n",
              "      <th>2</th>\n",
              "      <td>0.98</td>\n",
              "      <td>-0.98</td>\n",
              "      <td>0.33</td>\n",
              "      <td>-0.41</td>\n",
              "    </tr>\n",
              "    <tr>\n",
              "      <th>b</th>\n",
              "      <th>1</th>\n",
              "      <td>1.36</td>\n",
              "      <td>1.99</td>\n",
              "      <td>0.27</td>\n",
              "      <td>0.35</td>\n",
              "    </tr>\n",
              "  </tbody>\n",
              "</table>\n",
              "</div>"
            ],
            "text/plain": [
              "col_name1      c1          c2      \n",
              "col_name2       1     2     1     2\n",
              "name1 name2                        \n",
              "a     1      0.42 -1.75  1.80  0.20\n",
              "      2      0.98 -0.98  0.33 -0.41\n",
              "b     1      1.36  1.99  0.27  0.35"
            ]
          },
          "execution_count": 102,
          "metadata": {},
          "output_type": "execute_result"
        }
      ],
      "source": [
        "mdf.iloc[:3, :4]"
      ]
    },
    {
      "cell_type": "code",
      "execution_count": 103,
      "metadata": {
        "id": "Ywhin1Dc--st"
      },
      "outputs": [
        {
          "data": {
            "text/plain": [
              "name1  name2\n",
              "a      1        1.80\n",
              "       2        0.33\n",
              "b      1        0.27\n",
              "       2       -1.19\n",
              "c      1        2.33\n",
              "       2       -1.01\n",
              "Name: (c2, 1), dtype: float64"
            ]
          },
          "execution_count": 103,
          "metadata": {},
          "output_type": "execute_result"
        }
      ],
      "source": [
        "mdf.loc[:, ('c2', 1)]"
      ]
    },
    {
      "cell_type": "code",
      "execution_count": 104,
      "metadata": {
        "id": "_Q9X9HWs_fMN"
      },
      "outputs": [
        {
          "data": {
            "text/html": [
              "<div>\n",
              "<style scoped>\n",
              "    .dataframe tbody tr th:only-of-type {\n",
              "        vertical-align: middle;\n",
              "    }\n",
              "\n",
              "    .dataframe tbody tr th {\n",
              "        vertical-align: top;\n",
              "    }\n",
              "\n",
              "    .dataframe thead tr th {\n",
              "        text-align: left;\n",
              "    }\n",
              "\n",
              "    .dataframe thead tr:last-of-type th {\n",
              "        text-align: right;\n",
              "    }\n",
              "</style>\n",
              "<table border=\"1\" class=\"dataframe\">\n",
              "  <thead>\n",
              "    <tr>\n",
              "      <th></th>\n",
              "      <th>col_name1</th>\n",
              "      <th>c1</th>\n",
              "      <th>c2</th>\n",
              "      <th>c3</th>\n",
              "    </tr>\n",
              "    <tr>\n",
              "      <th></th>\n",
              "      <th>col_name2</th>\n",
              "      <th>2</th>\n",
              "      <th>2</th>\n",
              "      <th>2</th>\n",
              "    </tr>\n",
              "    <tr>\n",
              "      <th>name1</th>\n",
              "      <th>name2</th>\n",
              "      <th></th>\n",
              "      <th></th>\n",
              "      <th></th>\n",
              "    </tr>\n",
              "  </thead>\n",
              "  <tbody>\n",
              "    <tr>\n",
              "      <th>a</th>\n",
              "      <th>2</th>\n",
              "      <td>-0.98</td>\n",
              "      <td>-0.41</td>\n",
              "      <td>0.27</td>\n",
              "    </tr>\n",
              "    <tr>\n",
              "      <th>b</th>\n",
              "      <th>2</th>\n",
              "      <td>-0.09</td>\n",
              "      <td>1.17</td>\n",
              "      <td>-0.88</td>\n",
              "    </tr>\n",
              "    <tr>\n",
              "      <th>c</th>\n",
              "      <th>2</th>\n",
              "      <td>2.03</td>\n",
              "      <td>-0.59</td>\n",
              "      <td>0.22</td>\n",
              "    </tr>\n",
              "  </tbody>\n",
              "</table>\n",
              "</div>"
            ],
            "text/plain": [
              "col_name1      c1    c2    c3\n",
              "col_name2       2     2     2\n",
              "name1 name2                  \n",
              "a     2     -0.98 -0.41  0.27\n",
              "b     2     -0.09  1.17 -0.88\n",
              "c     2      2.03 -0.59  0.22"
            ]
          },
          "execution_count": 104,
          "metadata": {},
          "output_type": "execute_result"
        }
      ],
      "source": [
        "idx_slice = pd.IndexSlice\n",
        "mdf.loc[idx_slice[:, 2], idx_slice[:, 2]]"
      ]
    },
    {
      "cell_type": "markdown",
      "metadata": {
        "id": "Nt4Rby0LA9M0"
      },
      "source": [
        "#### 다중 인덱스 재정렬"
      ]
    },
    {
      "cell_type": "code",
      "execution_count": 105,
      "metadata": {
        "id": "NgpfPvpaBBHR"
      },
      "outputs": [
        {
          "data": {
            "text/plain": [
              "MultiIndex([('a', 1),\n",
              "            ('a', 2),\n",
              "            ('b', 1),\n",
              "            ('b', 2),\n",
              "            ('c', 1),\n",
              "            ('c', 2)],\n",
              "           names=['name1', 'name2'])"
            ]
          },
          "execution_count": 105,
          "metadata": {},
          "output_type": "execute_result"
        }
      ],
      "source": [
        "idx"
      ]
    },
    {
      "cell_type": "code",
      "execution_count": 106,
      "metadata": {
        "id": "uniTQ5qIBMfP"
      },
      "outputs": [
        {
          "data": {
            "text/html": [
              "<div>\n",
              "<style scoped>\n",
              "    .dataframe tbody tr th:only-of-type {\n",
              "        vertical-align: middle;\n",
              "    }\n",
              "\n",
              "    .dataframe tbody tr th {\n",
              "        vertical-align: top;\n",
              "    }\n",
              "\n",
              "    .dataframe thead th {\n",
              "        text-align: right;\n",
              "    }\n",
              "</style>\n",
              "<table border=\"1\" class=\"dataframe\">\n",
              "  <thead>\n",
              "    <tr style=\"text-align: right;\">\n",
              "      <th></th>\n",
              "      <th></th>\n",
              "      <th>총인구수</th>\n",
              "      <th>남자인구수</th>\n",
              "      <th>여자인구수</th>\n",
              "      <th>남여비율</th>\n",
              "    </tr>\n",
              "    <tr>\n",
              "      <th>행정구역</th>\n",
              "      <th>년도</th>\n",
              "      <th></th>\n",
              "      <th></th>\n",
              "      <th></th>\n",
              "      <th></th>\n",
              "    </tr>\n",
              "  </thead>\n",
              "  <tbody>\n",
              "    <tr>\n",
              "      <th rowspan=\"2\" valign=\"top\">서울특별시</th>\n",
              "      <th>2010</th>\n",
              "      <td>10312545</td>\n",
              "      <td>5111259</td>\n",
              "      <td>5201286</td>\n",
              "      <td>98.269140</td>\n",
              "    </tr>\n",
              "    <tr>\n",
              "      <th>2020</th>\n",
              "      <td>9720846</td>\n",
              "      <td>4732275</td>\n",
              "      <td>4988571</td>\n",
              "      <td>94.862336</td>\n",
              "    </tr>\n",
              "    <tr>\n",
              "      <th rowspan=\"2\" valign=\"top\">부산광역시</th>\n",
              "      <th>2010</th>\n",
              "      <td>2567910</td>\n",
              "      <td>1773170</td>\n",
              "      <td>1794740</td>\n",
              "      <td>98.798155</td>\n",
              "    </tr>\n",
              "    <tr>\n",
              "      <th>2020</th>\n",
              "      <td>3404423</td>\n",
              "      <td>1668618</td>\n",
              "      <td>1735805</td>\n",
              "      <td>96.129346</td>\n",
              "    </tr>\n",
              "    <tr>\n",
              "      <th rowspan=\"2\" valign=\"top\">인천광역시</th>\n",
              "      <th>2010</th>\n",
              "      <td>2758296</td>\n",
              "      <td>1390356</td>\n",
              "      <td>1367940</td>\n",
              "      <td>101.638668</td>\n",
              "    </tr>\n",
              "    <tr>\n",
              "      <th>2020</th>\n",
              "      <td>2947217</td>\n",
              "      <td>1476813</td>\n",
              "      <td>1470404</td>\n",
              "      <td>100.435867</td>\n",
              "    </tr>\n",
              "    <tr>\n",
              "      <th rowspan=\"2\" valign=\"top\">대구광역시</th>\n",
              "      <th>2010</th>\n",
              "      <td>2511676</td>\n",
              "      <td>1255245</td>\n",
              "      <td>1256431</td>\n",
              "      <td>99.905606</td>\n",
              "    </tr>\n",
              "    <tr>\n",
              "      <th>2020</th>\n",
              "      <td>2427954</td>\n",
              "      <td>1198815</td>\n",
              "      <td>1229139</td>\n",
              "      <td>97.532907</td>\n",
              "    </tr>\n",
              "    <tr>\n",
              "      <th rowspan=\"2\" valign=\"top\">대전광역시</th>\n",
              "      <th>2010</th>\n",
              "      <td>1503664</td>\n",
              "      <td>753648</td>\n",
              "      <td>750016</td>\n",
              "      <td>100.484256</td>\n",
              "    </tr>\n",
              "    <tr>\n",
              "      <th>2020</th>\n",
              "      <td>1471040</td>\n",
              "      <td>734441</td>\n",
              "      <td>736599</td>\n",
              "      <td>99.707032</td>\n",
              "    </tr>\n",
              "    <tr>\n",
              "      <th rowspan=\"2\" valign=\"top\">광주광역시</th>\n",
              "      <th>2010</th>\n",
              "      <td>1454636</td>\n",
              "      <td>721780</td>\n",
              "      <td>732856</td>\n",
              "      <td>98.488653</td>\n",
              "    </tr>\n",
              "    <tr>\n",
              "      <th>2020</th>\n",
              "      <td>1455048</td>\n",
              "      <td>720060</td>\n",
              "      <td>734988</td>\n",
              "      <td>97.968946</td>\n",
              "    </tr>\n",
              "  </tbody>\n",
              "</table>\n",
              "</div>"
            ],
            "text/plain": [
              "                총인구수    남자인구수    여자인구수        남여비율\n",
              "행정구역  년도                                          \n",
              "서울특별시 2010  10312545  5111259  5201286   98.269140\n",
              "      2020   9720846  4732275  4988571   94.862336\n",
              "부산광역시 2010   2567910  1773170  1794740   98.798155\n",
              "      2020   3404423  1668618  1735805   96.129346\n",
              "인천광역시 2010   2758296  1390356  1367940  101.638668\n",
              "      2020   2947217  1476813  1470404  100.435867\n",
              "대구광역시 2010   2511676  1255245  1256431   99.905606\n",
              "      2020   2427954  1198815  1229139   97.532907\n",
              "대전광역시 2010   1503664   753648   750016  100.484256\n",
              "      2020   1471040   734441   736599   99.707032\n",
              "광주광역시 2010   1454636   721780   732856   98.488653\n",
              "      2020   1455048   720060   734988   97.968946"
            ]
          },
          "execution_count": 106,
          "metadata": {},
          "output_type": "execute_result"
        }
      ],
      "source": [
        "korea_mdf"
      ]
    },
    {
      "cell_type": "code",
      "execution_count": 107,
      "metadata": {
        "id": "zilkRp8RBm87"
      },
      "outputs": [
        {
          "data": {
            "text/html": [
              "<div>\n",
              "<style scoped>\n",
              "    .dataframe tbody tr th:only-of-type {\n",
              "        vertical-align: middle;\n",
              "    }\n",
              "\n",
              "    .dataframe tbody tr th {\n",
              "        vertical-align: top;\n",
              "    }\n",
              "\n",
              "    .dataframe thead th {\n",
              "        text-align: right;\n",
              "    }\n",
              "</style>\n",
              "<table border=\"1\" class=\"dataframe\">\n",
              "  <thead>\n",
              "    <tr style=\"text-align: right;\">\n",
              "      <th></th>\n",
              "      <th></th>\n",
              "      <th>총인구수</th>\n",
              "      <th>남자인구수</th>\n",
              "      <th>여자인구수</th>\n",
              "      <th>남여비율</th>\n",
              "    </tr>\n",
              "    <tr>\n",
              "      <th>행정구역</th>\n",
              "      <th>년도</th>\n",
              "      <th></th>\n",
              "      <th></th>\n",
              "      <th></th>\n",
              "      <th></th>\n",
              "    </tr>\n",
              "  </thead>\n",
              "  <tbody>\n",
              "    <tr>\n",
              "      <th rowspan=\"2\" valign=\"top\">광주광역시</th>\n",
              "      <th>2010</th>\n",
              "      <td>1454636</td>\n",
              "      <td>721780</td>\n",
              "      <td>732856</td>\n",
              "      <td>98.488653</td>\n",
              "    </tr>\n",
              "    <tr>\n",
              "      <th>2020</th>\n",
              "      <td>1455048</td>\n",
              "      <td>720060</td>\n",
              "      <td>734988</td>\n",
              "      <td>97.968946</td>\n",
              "    </tr>\n",
              "    <tr>\n",
              "      <th rowspan=\"2\" valign=\"top\">대구광역시</th>\n",
              "      <th>2010</th>\n",
              "      <td>2511676</td>\n",
              "      <td>1255245</td>\n",
              "      <td>1256431</td>\n",
              "      <td>99.905606</td>\n",
              "    </tr>\n",
              "    <tr>\n",
              "      <th>2020</th>\n",
              "      <td>2427954</td>\n",
              "      <td>1198815</td>\n",
              "      <td>1229139</td>\n",
              "      <td>97.532907</td>\n",
              "    </tr>\n",
              "    <tr>\n",
              "      <th rowspan=\"2\" valign=\"top\">대전광역시</th>\n",
              "      <th>2010</th>\n",
              "      <td>1503664</td>\n",
              "      <td>753648</td>\n",
              "      <td>750016</td>\n",
              "      <td>100.484256</td>\n",
              "    </tr>\n",
              "    <tr>\n",
              "      <th>2020</th>\n",
              "      <td>1471040</td>\n",
              "      <td>734441</td>\n",
              "      <td>736599</td>\n",
              "      <td>99.707032</td>\n",
              "    </tr>\n",
              "    <tr>\n",
              "      <th rowspan=\"2\" valign=\"top\">부산광역시</th>\n",
              "      <th>2010</th>\n",
              "      <td>2567910</td>\n",
              "      <td>1773170</td>\n",
              "      <td>1794740</td>\n",
              "      <td>98.798155</td>\n",
              "    </tr>\n",
              "    <tr>\n",
              "      <th>2020</th>\n",
              "      <td>3404423</td>\n",
              "      <td>1668618</td>\n",
              "      <td>1735805</td>\n",
              "      <td>96.129346</td>\n",
              "    </tr>\n",
              "    <tr>\n",
              "      <th rowspan=\"2\" valign=\"top\">서울특별시</th>\n",
              "      <th>2010</th>\n",
              "      <td>10312545</td>\n",
              "      <td>5111259</td>\n",
              "      <td>5201286</td>\n",
              "      <td>98.269140</td>\n",
              "    </tr>\n",
              "    <tr>\n",
              "      <th>2020</th>\n",
              "      <td>9720846</td>\n",
              "      <td>4732275</td>\n",
              "      <td>4988571</td>\n",
              "      <td>94.862336</td>\n",
              "    </tr>\n",
              "    <tr>\n",
              "      <th rowspan=\"2\" valign=\"top\">인천광역시</th>\n",
              "      <th>2010</th>\n",
              "      <td>2758296</td>\n",
              "      <td>1390356</td>\n",
              "      <td>1367940</td>\n",
              "      <td>101.638668</td>\n",
              "    </tr>\n",
              "    <tr>\n",
              "      <th>2020</th>\n",
              "      <td>2947217</td>\n",
              "      <td>1476813</td>\n",
              "      <td>1470404</td>\n",
              "      <td>100.435867</td>\n",
              "    </tr>\n",
              "  </tbody>\n",
              "</table>\n",
              "</div>"
            ],
            "text/plain": [
              "                총인구수    남자인구수    여자인구수        남여비율\n",
              "행정구역  년도                                          \n",
              "광주광역시 2010   1454636   721780   732856   98.488653\n",
              "      2020   1455048   720060   734988   97.968946\n",
              "대구광역시 2010   2511676  1255245  1256431   99.905606\n",
              "      2020   2427954  1198815  1229139   97.532907\n",
              "대전광역시 2010   1503664   753648   750016  100.484256\n",
              "      2020   1471040   734441   736599   99.707032\n",
              "부산광역시 2010   2567910  1773170  1794740   98.798155\n",
              "      2020   3404423  1668618  1735805   96.129346\n",
              "서울특별시 2010  10312545  5111259  5201286   98.269140\n",
              "      2020   9720846  4732275  4988571   94.862336\n",
              "인천광역시 2010   2758296  1390356  1367940  101.638668\n",
              "      2020   2947217  1476813  1470404  100.435867"
            ]
          },
          "execution_count": 107,
          "metadata": {},
          "output_type": "execute_result"
        }
      ],
      "source": [
        "#korea_mdf['서울특별시':'인천광역시']\n",
        "\n",
        "korea_mdf = korea_mdf.sort_index()\n",
        "korea_mdf"
      ]
    },
    {
      "cell_type": "code",
      "execution_count": 108,
      "metadata": {
        "id": "4928t860U-Ot"
      },
      "outputs": [
        {
          "data": {
            "text/html": [
              "<div>\n",
              "<style scoped>\n",
              "    .dataframe tbody tr th:only-of-type {\n",
              "        vertical-align: middle;\n",
              "    }\n",
              "\n",
              "    .dataframe tbody tr th {\n",
              "        vertical-align: top;\n",
              "    }\n",
              "\n",
              "    .dataframe thead th {\n",
              "        text-align: right;\n",
              "    }\n",
              "</style>\n",
              "<table border=\"1\" class=\"dataframe\">\n",
              "  <thead>\n",
              "    <tr style=\"text-align: right;\">\n",
              "      <th></th>\n",
              "      <th></th>\n",
              "      <th>총인구수</th>\n",
              "      <th>남자인구수</th>\n",
              "      <th>여자인구수</th>\n",
              "      <th>남여비율</th>\n",
              "    </tr>\n",
              "    <tr>\n",
              "      <th>행정구역</th>\n",
              "      <th>년도</th>\n",
              "      <th></th>\n",
              "      <th></th>\n",
              "      <th></th>\n",
              "      <th></th>\n",
              "    </tr>\n",
              "  </thead>\n",
              "  <tbody>\n",
              "    <tr>\n",
              "      <th rowspan=\"2\" valign=\"top\">서울특별시</th>\n",
              "      <th>2010</th>\n",
              "      <td>10312545</td>\n",
              "      <td>5111259</td>\n",
              "      <td>5201286</td>\n",
              "      <td>98.269140</td>\n",
              "    </tr>\n",
              "    <tr>\n",
              "      <th>2020</th>\n",
              "      <td>9720846</td>\n",
              "      <td>4732275</td>\n",
              "      <td>4988571</td>\n",
              "      <td>94.862336</td>\n",
              "    </tr>\n",
              "    <tr>\n",
              "      <th rowspan=\"2\" valign=\"top\">인천광역시</th>\n",
              "      <th>2010</th>\n",
              "      <td>2758296</td>\n",
              "      <td>1390356</td>\n",
              "      <td>1367940</td>\n",
              "      <td>101.638668</td>\n",
              "    </tr>\n",
              "    <tr>\n",
              "      <th>2020</th>\n",
              "      <td>2947217</td>\n",
              "      <td>1476813</td>\n",
              "      <td>1470404</td>\n",
              "      <td>100.435867</td>\n",
              "    </tr>\n",
              "  </tbody>\n",
              "</table>\n",
              "</div>"
            ],
            "text/plain": [
              "                총인구수    남자인구수    여자인구수        남여비율\n",
              "행정구역  년도                                          \n",
              "서울특별시 2010  10312545  5111259  5201286   98.269140\n",
              "      2020   9720846  4732275  4988571   94.862336\n",
              "인천광역시 2010   2758296  1390356  1367940  101.638668\n",
              "      2020   2947217  1476813  1470404  100.435867"
            ]
          },
          "execution_count": 108,
          "metadata": {},
          "output_type": "execute_result"
        }
      ],
      "source": [
        "korea_mdf['서울특별시':'인천광역시']"
      ]
    },
    {
      "cell_type": "code",
      "execution_count": 109,
      "metadata": {
        "id": "x0XfqiPwVaId"
      },
      "outputs": [
        {
          "data": {
            "text/html": [
              "<div>\n",
              "<style scoped>\n",
              "    .dataframe tbody tr th:only-of-type {\n",
              "        vertical-align: middle;\n",
              "    }\n",
              "\n",
              "    .dataframe tbody tr th {\n",
              "        vertical-align: top;\n",
              "    }\n",
              "\n",
              "    .dataframe thead tr th {\n",
              "        text-align: left;\n",
              "    }\n",
              "\n",
              "    .dataframe thead tr:last-of-type th {\n",
              "        text-align: right;\n",
              "    }\n",
              "</style>\n",
              "<table border=\"1\" class=\"dataframe\">\n",
              "  <thead>\n",
              "    <tr>\n",
              "      <th></th>\n",
              "      <th colspan=\"6\" halign=\"left\">총인구수</th>\n",
              "      <th colspan=\"4\" halign=\"left\">남자인구수</th>\n",
              "      <th>...</th>\n",
              "      <th colspan=\"4\" halign=\"left\">여자인구수</th>\n",
              "      <th colspan=\"6\" halign=\"left\">남여비율</th>\n",
              "    </tr>\n",
              "    <tr>\n",
              "      <th>행정구역</th>\n",
              "      <th>광주광역시</th>\n",
              "      <th>대구광역시</th>\n",
              "      <th>대전광역시</th>\n",
              "      <th>부산광역시</th>\n",
              "      <th>서울특별시</th>\n",
              "      <th>인천광역시</th>\n",
              "      <th>광주광역시</th>\n",
              "      <th>대구광역시</th>\n",
              "      <th>대전광역시</th>\n",
              "      <th>부산광역시</th>\n",
              "      <th>...</th>\n",
              "      <th>대전광역시</th>\n",
              "      <th>부산광역시</th>\n",
              "      <th>서울특별시</th>\n",
              "      <th>인천광역시</th>\n",
              "      <th>광주광역시</th>\n",
              "      <th>대구광역시</th>\n",
              "      <th>대전광역시</th>\n",
              "      <th>부산광역시</th>\n",
              "      <th>서울특별시</th>\n",
              "      <th>인천광역시</th>\n",
              "    </tr>\n",
              "    <tr>\n",
              "      <th>년도</th>\n",
              "      <th></th>\n",
              "      <th></th>\n",
              "      <th></th>\n",
              "      <th></th>\n",
              "      <th></th>\n",
              "      <th></th>\n",
              "      <th></th>\n",
              "      <th></th>\n",
              "      <th></th>\n",
              "      <th></th>\n",
              "      <th></th>\n",
              "      <th></th>\n",
              "      <th></th>\n",
              "      <th></th>\n",
              "      <th></th>\n",
              "      <th></th>\n",
              "      <th></th>\n",
              "      <th></th>\n",
              "      <th></th>\n",
              "      <th></th>\n",
              "      <th></th>\n",
              "    </tr>\n",
              "  </thead>\n",
              "  <tbody>\n",
              "    <tr>\n",
              "      <th>2010</th>\n",
              "      <td>1454636</td>\n",
              "      <td>2511676</td>\n",
              "      <td>1503664</td>\n",
              "      <td>2567910</td>\n",
              "      <td>10312545</td>\n",
              "      <td>2758296</td>\n",
              "      <td>721780</td>\n",
              "      <td>1255245</td>\n",
              "      <td>753648</td>\n",
              "      <td>1773170</td>\n",
              "      <td>...</td>\n",
              "      <td>750016</td>\n",
              "      <td>1794740</td>\n",
              "      <td>5201286</td>\n",
              "      <td>1367940</td>\n",
              "      <td>98.488653</td>\n",
              "      <td>99.905606</td>\n",
              "      <td>100.484256</td>\n",
              "      <td>98.798155</td>\n",
              "      <td>98.269140</td>\n",
              "      <td>101.638668</td>\n",
              "    </tr>\n",
              "    <tr>\n",
              "      <th>2020</th>\n",
              "      <td>1455048</td>\n",
              "      <td>2427954</td>\n",
              "      <td>1471040</td>\n",
              "      <td>3404423</td>\n",
              "      <td>9720846</td>\n",
              "      <td>2947217</td>\n",
              "      <td>720060</td>\n",
              "      <td>1198815</td>\n",
              "      <td>734441</td>\n",
              "      <td>1668618</td>\n",
              "      <td>...</td>\n",
              "      <td>736599</td>\n",
              "      <td>1735805</td>\n",
              "      <td>4988571</td>\n",
              "      <td>1470404</td>\n",
              "      <td>97.968946</td>\n",
              "      <td>97.532907</td>\n",
              "      <td>99.707032</td>\n",
              "      <td>96.129346</td>\n",
              "      <td>94.862336</td>\n",
              "      <td>100.435867</td>\n",
              "    </tr>\n",
              "  </tbody>\n",
              "</table>\n",
              "<p>2 rows × 24 columns</p>\n",
              "</div>"
            ],
            "text/plain": [
              "         총인구수                                                 남자인구수           \\\n",
              "행정구역    광주광역시    대구광역시    대전광역시    부산광역시     서울특별시    인천광역시   광주광역시    대구광역시   \n",
              "년도                                                                             \n",
              "2010  1454636  2511676  1503664  2567910  10312545  2758296  721780  1255245   \n",
              "2020  1455048  2427954  1471040  3404423   9720846  2947217  720060  1198815   \n",
              "\n",
              "                       ...   여자인구수                                  남여비율  \\\n",
              "행정구역   대전광역시    부산광역시  ...   대전광역시    부산광역시    서울특별시    인천광역시      광주광역시   \n",
              "년도                     ...                                                 \n",
              "2010  753648  1773170  ...  750016  1794740  5201286  1367940  98.488653   \n",
              "2020  734441  1668618  ...  736599  1735805  4988571  1470404  97.968946   \n",
              "\n",
              "                                                               \n",
              "행정구역      대구광역시       대전광역시      부산광역시      서울특별시       인천광역시  \n",
              "년도                                                             \n",
              "2010  99.905606  100.484256  98.798155  98.269140  101.638668  \n",
              "2020  97.532907   99.707032  96.129346  94.862336  100.435867  \n",
              "\n",
              "[2 rows x 24 columns]"
            ]
          },
          "execution_count": 109,
          "metadata": {},
          "output_type": "execute_result"
        }
      ],
      "source": [
        "korea_mdf.unstack(level=0)"
      ]
    },
    {
      "cell_type": "code",
      "execution_count": 110,
      "metadata": {
        "id": "K-x8Kr_lVpUC"
      },
      "outputs": [
        {
          "data": {
            "text/html": [
              "<div>\n",
              "<style scoped>\n",
              "    .dataframe tbody tr th:only-of-type {\n",
              "        vertical-align: middle;\n",
              "    }\n",
              "\n",
              "    .dataframe tbody tr th {\n",
              "        vertical-align: top;\n",
              "    }\n",
              "\n",
              "    .dataframe thead tr th {\n",
              "        text-align: left;\n",
              "    }\n",
              "\n",
              "    .dataframe thead tr:last-of-type th {\n",
              "        text-align: right;\n",
              "    }\n",
              "</style>\n",
              "<table border=\"1\" class=\"dataframe\">\n",
              "  <thead>\n",
              "    <tr>\n",
              "      <th></th>\n",
              "      <th colspan=\"2\" halign=\"left\">총인구수</th>\n",
              "      <th colspan=\"2\" halign=\"left\">남자인구수</th>\n",
              "      <th colspan=\"2\" halign=\"left\">여자인구수</th>\n",
              "      <th colspan=\"2\" halign=\"left\">남여비율</th>\n",
              "    </tr>\n",
              "    <tr>\n",
              "      <th>년도</th>\n",
              "      <th>2010</th>\n",
              "      <th>2020</th>\n",
              "      <th>2010</th>\n",
              "      <th>2020</th>\n",
              "      <th>2010</th>\n",
              "      <th>2020</th>\n",
              "      <th>2010</th>\n",
              "      <th>2020</th>\n",
              "    </tr>\n",
              "    <tr>\n",
              "      <th>행정구역</th>\n",
              "      <th></th>\n",
              "      <th></th>\n",
              "      <th></th>\n",
              "      <th></th>\n",
              "      <th></th>\n",
              "      <th></th>\n",
              "      <th></th>\n",
              "      <th></th>\n",
              "    </tr>\n",
              "  </thead>\n",
              "  <tbody>\n",
              "    <tr>\n",
              "      <th>광주광역시</th>\n",
              "      <td>1454636</td>\n",
              "      <td>1455048</td>\n",
              "      <td>721780</td>\n",
              "      <td>720060</td>\n",
              "      <td>732856</td>\n",
              "      <td>734988</td>\n",
              "      <td>98.488653</td>\n",
              "      <td>97.968946</td>\n",
              "    </tr>\n",
              "    <tr>\n",
              "      <th>대구광역시</th>\n",
              "      <td>2511676</td>\n",
              "      <td>2427954</td>\n",
              "      <td>1255245</td>\n",
              "      <td>1198815</td>\n",
              "      <td>1256431</td>\n",
              "      <td>1229139</td>\n",
              "      <td>99.905606</td>\n",
              "      <td>97.532907</td>\n",
              "    </tr>\n",
              "    <tr>\n",
              "      <th>대전광역시</th>\n",
              "      <td>1503664</td>\n",
              "      <td>1471040</td>\n",
              "      <td>753648</td>\n",
              "      <td>734441</td>\n",
              "      <td>750016</td>\n",
              "      <td>736599</td>\n",
              "      <td>100.484256</td>\n",
              "      <td>99.707032</td>\n",
              "    </tr>\n",
              "    <tr>\n",
              "      <th>부산광역시</th>\n",
              "      <td>2567910</td>\n",
              "      <td>3404423</td>\n",
              "      <td>1773170</td>\n",
              "      <td>1668618</td>\n",
              "      <td>1794740</td>\n",
              "      <td>1735805</td>\n",
              "      <td>98.798155</td>\n",
              "      <td>96.129346</td>\n",
              "    </tr>\n",
              "    <tr>\n",
              "      <th>서울특별시</th>\n",
              "      <td>10312545</td>\n",
              "      <td>9720846</td>\n",
              "      <td>5111259</td>\n",
              "      <td>4732275</td>\n",
              "      <td>5201286</td>\n",
              "      <td>4988571</td>\n",
              "      <td>98.269140</td>\n",
              "      <td>94.862336</td>\n",
              "    </tr>\n",
              "    <tr>\n",
              "      <th>인천광역시</th>\n",
              "      <td>2758296</td>\n",
              "      <td>2947217</td>\n",
              "      <td>1390356</td>\n",
              "      <td>1476813</td>\n",
              "      <td>1367940</td>\n",
              "      <td>1470404</td>\n",
              "      <td>101.638668</td>\n",
              "      <td>100.435867</td>\n",
              "    </tr>\n",
              "  </tbody>\n",
              "</table>\n",
              "</div>"
            ],
            "text/plain": [
              "           총인구수             남자인구수             여자인구수                 남여비율  \\\n",
              "년도         2010     2020     2010     2020     2010     2020        2010   \n",
              "행정구역                                                                       \n",
              "광주광역시   1454636  1455048   721780   720060   732856   734988   98.488653   \n",
              "대구광역시   2511676  2427954  1255245  1198815  1256431  1229139   99.905606   \n",
              "대전광역시   1503664  1471040   753648   734441   750016   736599  100.484256   \n",
              "부산광역시   2567910  3404423  1773170  1668618  1794740  1735805   98.798155   \n",
              "서울특별시  10312545  9720846  5111259  4732275  5201286  4988571   98.269140   \n",
              "인천광역시   2758296  2947217  1390356  1476813  1367940  1470404  101.638668   \n",
              "\n",
              "                   \n",
              "년도           2020  \n",
              "행정구역               \n",
              "광주광역시   97.968946  \n",
              "대구광역시   97.532907  \n",
              "대전광역시   99.707032  \n",
              "부산광역시   96.129346  \n",
              "서울특별시   94.862336  \n",
              "인천광역시  100.435867  "
            ]
          },
          "execution_count": 110,
          "metadata": {},
          "output_type": "execute_result"
        }
      ],
      "source": [
        "korea_mdf.unstack(level=1)"
      ]
    },
    {
      "cell_type": "code",
      "execution_count": 111,
      "metadata": {
        "id": "rWxg_YXIVw6x"
      },
      "outputs": [
        {
          "data": {
            "text/plain": [
              "행정구역   년도         \n",
              "광주광역시  2010  총인구수     1.454636e+06\n",
              "             남자인구수    7.217800e+05\n",
              "             여자인구수    7.328560e+05\n",
              "             남여비율     9.848865e+01\n",
              "       2020  총인구수     1.455048e+06\n",
              "             남자인구수    7.200600e+05\n",
              "             여자인구수    7.349880e+05\n",
              "             남여비율     9.796895e+01\n",
              "대구광역시  2010  총인구수     2.511676e+06\n",
              "             남자인구수    1.255245e+06\n",
              "             여자인구수    1.256431e+06\n",
              "             남여비율     9.990561e+01\n",
              "       2020  총인구수     2.427954e+06\n",
              "             남자인구수    1.198815e+06\n",
              "             여자인구수    1.229139e+06\n",
              "             남여비율     9.753291e+01\n",
              "대전광역시  2010  총인구수     1.503664e+06\n",
              "             남자인구수    7.536480e+05\n",
              "             여자인구수    7.500160e+05\n",
              "             남여비율     1.004843e+02\n",
              "       2020  총인구수     1.471040e+06\n",
              "             남자인구수    7.344410e+05\n",
              "             여자인구수    7.365990e+05\n",
              "             남여비율     9.970703e+01\n",
              "부산광역시  2010  총인구수     2.567910e+06\n",
              "             남자인구수    1.773170e+06\n",
              "             여자인구수    1.794740e+06\n",
              "             남여비율     9.879815e+01\n",
              "       2020  총인구수     3.404423e+06\n",
              "             남자인구수    1.668618e+06\n",
              "             여자인구수    1.735805e+06\n",
              "             남여비율     9.612935e+01\n",
              "서울특별시  2010  총인구수     1.031254e+07\n",
              "             남자인구수    5.111259e+06\n",
              "             여자인구수    5.201286e+06\n",
              "             남여비율     9.826914e+01\n",
              "       2020  총인구수     9.720846e+06\n",
              "             남자인구수    4.732275e+06\n",
              "             여자인구수    4.988571e+06\n",
              "             남여비율     9.486234e+01\n",
              "인천광역시  2010  총인구수     2.758296e+06\n",
              "             남자인구수    1.390356e+06\n",
              "             여자인구수    1.367940e+06\n",
              "             남여비율     1.016387e+02\n",
              "       2020  총인구수     2.947217e+06\n",
              "             남자인구수    1.476813e+06\n",
              "             여자인구수    1.470404e+06\n",
              "             남여비율     1.004359e+02\n",
              "dtype: float64"
            ]
          },
          "execution_count": 111,
          "metadata": {},
          "output_type": "execute_result"
        }
      ],
      "source": [
        "korea_mdf.stack()"
      ]
    },
    {
      "cell_type": "code",
      "execution_count": 112,
      "metadata": {
        "id": "tSCUmYovYiAA"
      },
      "outputs": [
        {
          "data": {
            "text/html": [
              "<div>\n",
              "<style scoped>\n",
              "    .dataframe tbody tr th:only-of-type {\n",
              "        vertical-align: middle;\n",
              "    }\n",
              "\n",
              "    .dataframe tbody tr th {\n",
              "        vertical-align: top;\n",
              "    }\n",
              "\n",
              "    .dataframe thead th {\n",
              "        text-align: right;\n",
              "    }\n",
              "</style>\n",
              "<table border=\"1\" class=\"dataframe\">\n",
              "  <thead>\n",
              "    <tr style=\"text-align: right;\">\n",
              "      <th></th>\n",
              "      <th></th>\n",
              "      <th>총인구수</th>\n",
              "      <th>남자인구수</th>\n",
              "      <th>여자인구수</th>\n",
              "      <th>남여비율</th>\n",
              "    </tr>\n",
              "    <tr>\n",
              "      <th>행정구역</th>\n",
              "      <th>년도</th>\n",
              "      <th></th>\n",
              "      <th></th>\n",
              "      <th></th>\n",
              "      <th></th>\n",
              "    </tr>\n",
              "  </thead>\n",
              "  <tbody>\n",
              "    <tr>\n",
              "      <th rowspan=\"2\" valign=\"top\">광주광역시</th>\n",
              "      <th>2010</th>\n",
              "      <td>1454636</td>\n",
              "      <td>721780</td>\n",
              "      <td>732856</td>\n",
              "      <td>98.488653</td>\n",
              "    </tr>\n",
              "    <tr>\n",
              "      <th>2020</th>\n",
              "      <td>1455048</td>\n",
              "      <td>720060</td>\n",
              "      <td>734988</td>\n",
              "      <td>97.968946</td>\n",
              "    </tr>\n",
              "    <tr>\n",
              "      <th rowspan=\"2\" valign=\"top\">대구광역시</th>\n",
              "      <th>2010</th>\n",
              "      <td>2511676</td>\n",
              "      <td>1255245</td>\n",
              "      <td>1256431</td>\n",
              "      <td>99.905606</td>\n",
              "    </tr>\n",
              "    <tr>\n",
              "      <th>2020</th>\n",
              "      <td>2427954</td>\n",
              "      <td>1198815</td>\n",
              "      <td>1229139</td>\n",
              "      <td>97.532907</td>\n",
              "    </tr>\n",
              "    <tr>\n",
              "      <th rowspan=\"2\" valign=\"top\">대전광역시</th>\n",
              "      <th>2010</th>\n",
              "      <td>1503664</td>\n",
              "      <td>753648</td>\n",
              "      <td>750016</td>\n",
              "      <td>100.484256</td>\n",
              "    </tr>\n",
              "    <tr>\n",
              "      <th>2020</th>\n",
              "      <td>1471040</td>\n",
              "      <td>734441</td>\n",
              "      <td>736599</td>\n",
              "      <td>99.707032</td>\n",
              "    </tr>\n",
              "    <tr>\n",
              "      <th rowspan=\"2\" valign=\"top\">부산광역시</th>\n",
              "      <th>2010</th>\n",
              "      <td>2567910</td>\n",
              "      <td>1773170</td>\n",
              "      <td>1794740</td>\n",
              "      <td>98.798155</td>\n",
              "    </tr>\n",
              "    <tr>\n",
              "      <th>2020</th>\n",
              "      <td>3404423</td>\n",
              "      <td>1668618</td>\n",
              "      <td>1735805</td>\n",
              "      <td>96.129346</td>\n",
              "    </tr>\n",
              "    <tr>\n",
              "      <th rowspan=\"2\" valign=\"top\">서울특별시</th>\n",
              "      <th>2010</th>\n",
              "      <td>10312545</td>\n",
              "      <td>5111259</td>\n",
              "      <td>5201286</td>\n",
              "      <td>98.269140</td>\n",
              "    </tr>\n",
              "    <tr>\n",
              "      <th>2020</th>\n",
              "      <td>9720846</td>\n",
              "      <td>4732275</td>\n",
              "      <td>4988571</td>\n",
              "      <td>94.862336</td>\n",
              "    </tr>\n",
              "    <tr>\n",
              "      <th rowspan=\"2\" valign=\"top\">인천광역시</th>\n",
              "      <th>2010</th>\n",
              "      <td>2758296</td>\n",
              "      <td>1390356</td>\n",
              "      <td>1367940</td>\n",
              "      <td>101.638668</td>\n",
              "    </tr>\n",
              "    <tr>\n",
              "      <th>2020</th>\n",
              "      <td>2947217</td>\n",
              "      <td>1476813</td>\n",
              "      <td>1470404</td>\n",
              "      <td>100.435867</td>\n",
              "    </tr>\n",
              "  </tbody>\n",
              "</table>\n",
              "</div>"
            ],
            "text/plain": [
              "                총인구수    남자인구수    여자인구수        남여비율\n",
              "행정구역  년도                                          \n",
              "광주광역시 2010   1454636   721780   732856   98.488653\n",
              "      2020   1455048   720060   734988   97.968946\n",
              "대구광역시 2010   2511676  1255245  1256431   99.905606\n",
              "      2020   2427954  1198815  1229139   97.532907\n",
              "대전광역시 2010   1503664   753648   750016  100.484256\n",
              "      2020   1471040   734441   736599   99.707032\n",
              "부산광역시 2010   2567910  1773170  1794740   98.798155\n",
              "      2020   3404423  1668618  1735805   96.129346\n",
              "서울특별시 2010  10312545  5111259  5201286   98.269140\n",
              "      2020   9720846  4732275  4988571   94.862336\n",
              "인천광역시 2010   2758296  1390356  1367940  101.638668\n",
              "      2020   2947217  1476813  1470404  100.435867"
            ]
          },
          "execution_count": 112,
          "metadata": {},
          "output_type": "execute_result"
        }
      ],
      "source": [
        "korea_mdf"
      ]
    },
    {
      "cell_type": "code",
      "execution_count": 113,
      "metadata": {
        "id": "wdWqvOFZWJPf"
      },
      "outputs": [
        {
          "data": {
            "text/html": [
              "<div>\n",
              "<style scoped>\n",
              "    .dataframe tbody tr th:only-of-type {\n",
              "        vertical-align: middle;\n",
              "    }\n",
              "\n",
              "    .dataframe tbody tr th {\n",
              "        vertical-align: top;\n",
              "    }\n",
              "\n",
              "    .dataframe thead th {\n",
              "        text-align: right;\n",
              "    }\n",
              "</style>\n",
              "<table border=\"1\" class=\"dataframe\">\n",
              "  <thead>\n",
              "    <tr style=\"text-align: right;\">\n",
              "      <th></th>\n",
              "      <th>행정구역</th>\n",
              "      <th>총인구수</th>\n",
              "      <th>남자인구수</th>\n",
              "      <th>여자인구수</th>\n",
              "      <th>남여비율</th>\n",
              "    </tr>\n",
              "    <tr>\n",
              "      <th>년도</th>\n",
              "      <th></th>\n",
              "      <th></th>\n",
              "      <th></th>\n",
              "      <th></th>\n",
              "      <th></th>\n",
              "    </tr>\n",
              "  </thead>\n",
              "  <tbody>\n",
              "    <tr>\n",
              "      <th>2010</th>\n",
              "      <td>광주광역시</td>\n",
              "      <td>1454636</td>\n",
              "      <td>721780</td>\n",
              "      <td>732856</td>\n",
              "      <td>98.488653</td>\n",
              "    </tr>\n",
              "    <tr>\n",
              "      <th>2020</th>\n",
              "      <td>광주광역시</td>\n",
              "      <td>1455048</td>\n",
              "      <td>720060</td>\n",
              "      <td>734988</td>\n",
              "      <td>97.968946</td>\n",
              "    </tr>\n",
              "    <tr>\n",
              "      <th>2010</th>\n",
              "      <td>대구광역시</td>\n",
              "      <td>2511676</td>\n",
              "      <td>1255245</td>\n",
              "      <td>1256431</td>\n",
              "      <td>99.905606</td>\n",
              "    </tr>\n",
              "    <tr>\n",
              "      <th>2020</th>\n",
              "      <td>대구광역시</td>\n",
              "      <td>2427954</td>\n",
              "      <td>1198815</td>\n",
              "      <td>1229139</td>\n",
              "      <td>97.532907</td>\n",
              "    </tr>\n",
              "    <tr>\n",
              "      <th>2010</th>\n",
              "      <td>대전광역시</td>\n",
              "      <td>1503664</td>\n",
              "      <td>753648</td>\n",
              "      <td>750016</td>\n",
              "      <td>100.484256</td>\n",
              "    </tr>\n",
              "    <tr>\n",
              "      <th>2020</th>\n",
              "      <td>대전광역시</td>\n",
              "      <td>1471040</td>\n",
              "      <td>734441</td>\n",
              "      <td>736599</td>\n",
              "      <td>99.707032</td>\n",
              "    </tr>\n",
              "    <tr>\n",
              "      <th>2010</th>\n",
              "      <td>부산광역시</td>\n",
              "      <td>2567910</td>\n",
              "      <td>1773170</td>\n",
              "      <td>1794740</td>\n",
              "      <td>98.798155</td>\n",
              "    </tr>\n",
              "    <tr>\n",
              "      <th>2020</th>\n",
              "      <td>부산광역시</td>\n",
              "      <td>3404423</td>\n",
              "      <td>1668618</td>\n",
              "      <td>1735805</td>\n",
              "      <td>96.129346</td>\n",
              "    </tr>\n",
              "    <tr>\n",
              "      <th>2010</th>\n",
              "      <td>서울특별시</td>\n",
              "      <td>10312545</td>\n",
              "      <td>5111259</td>\n",
              "      <td>5201286</td>\n",
              "      <td>98.269140</td>\n",
              "    </tr>\n",
              "    <tr>\n",
              "      <th>2020</th>\n",
              "      <td>서울특별시</td>\n",
              "      <td>9720846</td>\n",
              "      <td>4732275</td>\n",
              "      <td>4988571</td>\n",
              "      <td>94.862336</td>\n",
              "    </tr>\n",
              "    <tr>\n",
              "      <th>2010</th>\n",
              "      <td>인천광역시</td>\n",
              "      <td>2758296</td>\n",
              "      <td>1390356</td>\n",
              "      <td>1367940</td>\n",
              "      <td>101.638668</td>\n",
              "    </tr>\n",
              "    <tr>\n",
              "      <th>2020</th>\n",
              "      <td>인천광역시</td>\n",
              "      <td>2947217</td>\n",
              "      <td>1476813</td>\n",
              "      <td>1470404</td>\n",
              "      <td>100.435867</td>\n",
              "    </tr>\n",
              "  </tbody>\n",
              "</table>\n",
              "</div>"
            ],
            "text/plain": [
              "       행정구역      총인구수    남자인구수    여자인구수        남여비율\n",
              "년도                                                 \n",
              "2010  광주광역시   1454636   721780   732856   98.488653\n",
              "2020  광주광역시   1455048   720060   734988   97.968946\n",
              "2010  대구광역시   2511676  1255245  1256431   99.905606\n",
              "2020  대구광역시   2427954  1198815  1229139   97.532907\n",
              "2010  대전광역시   1503664   753648   750016  100.484256\n",
              "2020  대전광역시   1471040   734441   736599   99.707032\n",
              "2010  부산광역시   2567910  1773170  1794740   98.798155\n",
              "2020  부산광역시   3404423  1668618  1735805   96.129346\n",
              "2010  서울특별시  10312545  5111259  5201286   98.269140\n",
              "2020  서울특별시   9720846  4732275  4988571   94.862336\n",
              "2010  인천광역시   2758296  1390356  1367940  101.638668\n",
              "2020  인천광역시   2947217  1476813  1470404  100.435867"
            ]
          },
          "execution_count": 113,
          "metadata": {},
          "output_type": "execute_result"
        }
      ],
      "source": [
        "idx_flat = korea_mdf.reset_index(level=0)\n",
        "idx_flat"
      ]
    },
    {
      "cell_type": "code",
      "execution_count": 114,
      "metadata": {
        "id": "6LozVYW-W_Rx"
      },
      "outputs": [
        {
          "data": {
            "text/html": [
              "<div>\n",
              "<style scoped>\n",
              "    .dataframe tbody tr th:only-of-type {\n",
              "        vertical-align: middle;\n",
              "    }\n",
              "\n",
              "    .dataframe tbody tr th {\n",
              "        vertical-align: top;\n",
              "    }\n",
              "\n",
              "    .dataframe thead th {\n",
              "        text-align: right;\n",
              "    }\n",
              "</style>\n",
              "<table border=\"1\" class=\"dataframe\">\n",
              "  <thead>\n",
              "    <tr style=\"text-align: right;\">\n",
              "      <th></th>\n",
              "      <th>행정구역</th>\n",
              "      <th>년도</th>\n",
              "      <th>총인구수</th>\n",
              "      <th>남자인구수</th>\n",
              "      <th>여자인구수</th>\n",
              "      <th>남여비율</th>\n",
              "    </tr>\n",
              "  </thead>\n",
              "  <tbody>\n",
              "    <tr>\n",
              "      <th>0</th>\n",
              "      <td>광주광역시</td>\n",
              "      <td>2010</td>\n",
              "      <td>1454636</td>\n",
              "      <td>721780</td>\n",
              "      <td>732856</td>\n",
              "      <td>98.488653</td>\n",
              "    </tr>\n",
              "    <tr>\n",
              "      <th>1</th>\n",
              "      <td>광주광역시</td>\n",
              "      <td>2020</td>\n",
              "      <td>1455048</td>\n",
              "      <td>720060</td>\n",
              "      <td>734988</td>\n",
              "      <td>97.968946</td>\n",
              "    </tr>\n",
              "    <tr>\n",
              "      <th>2</th>\n",
              "      <td>대구광역시</td>\n",
              "      <td>2010</td>\n",
              "      <td>2511676</td>\n",
              "      <td>1255245</td>\n",
              "      <td>1256431</td>\n",
              "      <td>99.905606</td>\n",
              "    </tr>\n",
              "    <tr>\n",
              "      <th>3</th>\n",
              "      <td>대구광역시</td>\n",
              "      <td>2020</td>\n",
              "      <td>2427954</td>\n",
              "      <td>1198815</td>\n",
              "      <td>1229139</td>\n",
              "      <td>97.532907</td>\n",
              "    </tr>\n",
              "    <tr>\n",
              "      <th>4</th>\n",
              "      <td>대전광역시</td>\n",
              "      <td>2010</td>\n",
              "      <td>1503664</td>\n",
              "      <td>753648</td>\n",
              "      <td>750016</td>\n",
              "      <td>100.484256</td>\n",
              "    </tr>\n",
              "    <tr>\n",
              "      <th>5</th>\n",
              "      <td>대전광역시</td>\n",
              "      <td>2020</td>\n",
              "      <td>1471040</td>\n",
              "      <td>734441</td>\n",
              "      <td>736599</td>\n",
              "      <td>99.707032</td>\n",
              "    </tr>\n",
              "    <tr>\n",
              "      <th>6</th>\n",
              "      <td>부산광역시</td>\n",
              "      <td>2010</td>\n",
              "      <td>2567910</td>\n",
              "      <td>1773170</td>\n",
              "      <td>1794740</td>\n",
              "      <td>98.798155</td>\n",
              "    </tr>\n",
              "    <tr>\n",
              "      <th>7</th>\n",
              "      <td>부산광역시</td>\n",
              "      <td>2020</td>\n",
              "      <td>3404423</td>\n",
              "      <td>1668618</td>\n",
              "      <td>1735805</td>\n",
              "      <td>96.129346</td>\n",
              "    </tr>\n",
              "    <tr>\n",
              "      <th>8</th>\n",
              "      <td>서울특별시</td>\n",
              "      <td>2010</td>\n",
              "      <td>10312545</td>\n",
              "      <td>5111259</td>\n",
              "      <td>5201286</td>\n",
              "      <td>98.269140</td>\n",
              "    </tr>\n",
              "    <tr>\n",
              "      <th>9</th>\n",
              "      <td>서울특별시</td>\n",
              "      <td>2020</td>\n",
              "      <td>9720846</td>\n",
              "      <td>4732275</td>\n",
              "      <td>4988571</td>\n",
              "      <td>94.862336</td>\n",
              "    </tr>\n",
              "    <tr>\n",
              "      <th>10</th>\n",
              "      <td>인천광역시</td>\n",
              "      <td>2010</td>\n",
              "      <td>2758296</td>\n",
              "      <td>1390356</td>\n",
              "      <td>1367940</td>\n",
              "      <td>101.638668</td>\n",
              "    </tr>\n",
              "    <tr>\n",
              "      <th>11</th>\n",
              "      <td>인천광역시</td>\n",
              "      <td>2020</td>\n",
              "      <td>2947217</td>\n",
              "      <td>1476813</td>\n",
              "      <td>1470404</td>\n",
              "      <td>100.435867</td>\n",
              "    </tr>\n",
              "  </tbody>\n",
              "</table>\n",
              "</div>"
            ],
            "text/plain": [
              "     행정구역    년도      총인구수    남자인구수    여자인구수        남여비율\n",
              "0   광주광역시  2010   1454636   721780   732856   98.488653\n",
              "1   광주광역시  2020   1455048   720060   734988   97.968946\n",
              "2   대구광역시  2010   2511676  1255245  1256431   99.905606\n",
              "3   대구광역시  2020   2427954  1198815  1229139   97.532907\n",
              "4   대전광역시  2010   1503664   753648   750016  100.484256\n",
              "5   대전광역시  2020   1471040   734441   736599   99.707032\n",
              "6   부산광역시  2010   2567910  1773170  1794740   98.798155\n",
              "7   부산광역시  2020   3404423  1668618  1735805   96.129346\n",
              "8   서울특별시  2010  10312545  5111259  5201286   98.269140\n",
              "9   서울특별시  2020   9720846  4732275  4988571   94.862336\n",
              "10  인천광역시  2010   2758296  1390356  1367940  101.638668\n",
              "11  인천광역시  2020   2947217  1476813  1470404  100.435867"
            ]
          },
          "execution_count": 114,
          "metadata": {},
          "output_type": "execute_result"
        }
      ],
      "source": [
        "idx_flat = korea_mdf.reset_index(level=(0, 1))\n",
        "idx_flat"
      ]
    },
    {
      "cell_type": "code",
      "execution_count": 115,
      "metadata": {
        "id": "185tiItmY5wI"
      },
      "outputs": [
        {
          "name": "stderr",
          "output_type": "stream",
          "text": [
            "/Users/wjlee/opt/anaconda3/envs/study_ML_37/lib/python3.7/site-packages/ipykernel_launcher.py:1: FutureWarning: In a future version of pandas all arguments of DataFrame.set_index except for the argument 'keys' will be keyword-only\n",
            "  \"\"\"Entry point for launching an IPython kernel.\n"
          ]
        },
        {
          "data": {
            "text/html": [
              "<div>\n",
              "<style scoped>\n",
              "    .dataframe tbody tr th:only-of-type {\n",
              "        vertical-align: middle;\n",
              "    }\n",
              "\n",
              "    .dataframe tbody tr th {\n",
              "        vertical-align: top;\n",
              "    }\n",
              "\n",
              "    .dataframe thead th {\n",
              "        text-align: right;\n",
              "    }\n",
              "</style>\n",
              "<table border=\"1\" class=\"dataframe\">\n",
              "  <thead>\n",
              "    <tr style=\"text-align: right;\">\n",
              "      <th></th>\n",
              "      <th>년도</th>\n",
              "      <th>총인구수</th>\n",
              "      <th>남자인구수</th>\n",
              "      <th>여자인구수</th>\n",
              "      <th>남여비율</th>\n",
              "    </tr>\n",
              "    <tr>\n",
              "      <th>행정구역</th>\n",
              "      <th></th>\n",
              "      <th></th>\n",
              "      <th></th>\n",
              "      <th></th>\n",
              "      <th></th>\n",
              "    </tr>\n",
              "  </thead>\n",
              "  <tbody>\n",
              "    <tr>\n",
              "      <th>광주광역시</th>\n",
              "      <td>2010</td>\n",
              "      <td>1454636</td>\n",
              "      <td>721780</td>\n",
              "      <td>732856</td>\n",
              "      <td>98.488653</td>\n",
              "    </tr>\n",
              "    <tr>\n",
              "      <th>광주광역시</th>\n",
              "      <td>2020</td>\n",
              "      <td>1455048</td>\n",
              "      <td>720060</td>\n",
              "      <td>734988</td>\n",
              "      <td>97.968946</td>\n",
              "    </tr>\n",
              "    <tr>\n",
              "      <th>대구광역시</th>\n",
              "      <td>2010</td>\n",
              "      <td>2511676</td>\n",
              "      <td>1255245</td>\n",
              "      <td>1256431</td>\n",
              "      <td>99.905606</td>\n",
              "    </tr>\n",
              "    <tr>\n",
              "      <th>대구광역시</th>\n",
              "      <td>2020</td>\n",
              "      <td>2427954</td>\n",
              "      <td>1198815</td>\n",
              "      <td>1229139</td>\n",
              "      <td>97.532907</td>\n",
              "    </tr>\n",
              "    <tr>\n",
              "      <th>대전광역시</th>\n",
              "      <td>2010</td>\n",
              "      <td>1503664</td>\n",
              "      <td>753648</td>\n",
              "      <td>750016</td>\n",
              "      <td>100.484256</td>\n",
              "    </tr>\n",
              "    <tr>\n",
              "      <th>대전광역시</th>\n",
              "      <td>2020</td>\n",
              "      <td>1471040</td>\n",
              "      <td>734441</td>\n",
              "      <td>736599</td>\n",
              "      <td>99.707032</td>\n",
              "    </tr>\n",
              "    <tr>\n",
              "      <th>부산광역시</th>\n",
              "      <td>2010</td>\n",
              "      <td>2567910</td>\n",
              "      <td>1773170</td>\n",
              "      <td>1794740</td>\n",
              "      <td>98.798155</td>\n",
              "    </tr>\n",
              "    <tr>\n",
              "      <th>부산광역시</th>\n",
              "      <td>2020</td>\n",
              "      <td>3404423</td>\n",
              "      <td>1668618</td>\n",
              "      <td>1735805</td>\n",
              "      <td>96.129346</td>\n",
              "    </tr>\n",
              "    <tr>\n",
              "      <th>서울특별시</th>\n",
              "      <td>2010</td>\n",
              "      <td>10312545</td>\n",
              "      <td>5111259</td>\n",
              "      <td>5201286</td>\n",
              "      <td>98.269140</td>\n",
              "    </tr>\n",
              "    <tr>\n",
              "      <th>서울특별시</th>\n",
              "      <td>2020</td>\n",
              "      <td>9720846</td>\n",
              "      <td>4732275</td>\n",
              "      <td>4988571</td>\n",
              "      <td>94.862336</td>\n",
              "    </tr>\n",
              "    <tr>\n",
              "      <th>인천광역시</th>\n",
              "      <td>2010</td>\n",
              "      <td>2758296</td>\n",
              "      <td>1390356</td>\n",
              "      <td>1367940</td>\n",
              "      <td>101.638668</td>\n",
              "    </tr>\n",
              "    <tr>\n",
              "      <th>인천광역시</th>\n",
              "      <td>2020</td>\n",
              "      <td>2947217</td>\n",
              "      <td>1476813</td>\n",
              "      <td>1470404</td>\n",
              "      <td>100.435867</td>\n",
              "    </tr>\n",
              "  </tbody>\n",
              "</table>\n",
              "</div>"
            ],
            "text/plain": [
              "         년도      총인구수    남자인구수    여자인구수        남여비율\n",
              "행정구역                                               \n",
              "광주광역시  2010   1454636   721780   732856   98.488653\n",
              "광주광역시  2020   1455048   720060   734988   97.968946\n",
              "대구광역시  2010   2511676  1255245  1256431   99.905606\n",
              "대구광역시  2020   2427954  1198815  1229139   97.532907\n",
              "대전광역시  2010   1503664   753648   750016  100.484256\n",
              "대전광역시  2020   1471040   734441   736599   99.707032\n",
              "부산광역시  2010   2567910  1773170  1794740   98.798155\n",
              "부산광역시  2020   3404423  1668618  1735805   96.129346\n",
              "서울특별시  2010  10312545  5111259  5201286   98.269140\n",
              "서울특별시  2020   9720846  4732275  4988571   94.862336\n",
              "인천광역시  2010   2758296  1390356  1367940  101.638668\n",
              "인천광역시  2020   2947217  1476813  1470404  100.435867"
            ]
          },
          "execution_count": 115,
          "metadata": {},
          "output_type": "execute_result"
        }
      ],
      "source": [
        "idx_flat.set_index('행정구역', '년도')"
      ]
    },
    {
      "cell_type": "markdown",
      "metadata": {
        "id": "iTw6ejGdZuiw"
      },
      "source": [
        "## 데이터 연산"
      ]
    },
    {
      "cell_type": "code",
      "execution_count": 116,
      "metadata": {
        "id": "s89AjfxyYp2u"
      },
      "outputs": [
        {
          "data": {
            "text/plain": [
              "0    5\n",
              "1    0\n",
              "2    0\n",
              "3    1\n",
              "4    7\n",
              "dtype: int64"
            ]
          },
          "execution_count": 116,
          "metadata": {},
          "output_type": "execute_result"
        }
      ],
      "source": [
        "s = pd.Series(np.random.randint(0, 10, 5))\n",
        "s"
      ]
    },
    {
      "cell_type": "code",
      "execution_count": 117,
      "metadata": {
        "id": "EGXDMOzgZ8EW"
      },
      "outputs": [
        {
          "data": {
            "text/html": [
              "<div>\n",
              "<style scoped>\n",
              "    .dataframe tbody tr th:only-of-type {\n",
              "        vertical-align: middle;\n",
              "    }\n",
              "\n",
              "    .dataframe tbody tr th {\n",
              "        vertical-align: top;\n",
              "    }\n",
              "\n",
              "    .dataframe thead th {\n",
              "        text-align: right;\n",
              "    }\n",
              "</style>\n",
              "<table border=\"1\" class=\"dataframe\">\n",
              "  <thead>\n",
              "    <tr style=\"text-align: right;\">\n",
              "      <th></th>\n",
              "      <th>A</th>\n",
              "      <th>B</th>\n",
              "      <th>C</th>\n",
              "    </tr>\n",
              "  </thead>\n",
              "  <tbody>\n",
              "    <tr>\n",
              "      <th>0</th>\n",
              "      <td>6</td>\n",
              "      <td>2</td>\n",
              "      <td>0</td>\n",
              "    </tr>\n",
              "    <tr>\n",
              "      <th>1</th>\n",
              "      <td>9</td>\n",
              "      <td>2</td>\n",
              "      <td>2</td>\n",
              "    </tr>\n",
              "    <tr>\n",
              "      <th>2</th>\n",
              "      <td>7</td>\n",
              "      <td>6</td>\n",
              "      <td>9</td>\n",
              "    </tr>\n",
              "  </tbody>\n",
              "</table>\n",
              "</div>"
            ],
            "text/plain": [
              "   A  B  C\n",
              "0  6  2  0\n",
              "1  9  2  2\n",
              "2  7  6  9"
            ]
          },
          "execution_count": 117,
          "metadata": {},
          "output_type": "execute_result"
        }
      ],
      "source": [
        "df = pd.DataFrame(np.random.randint(0, 10, (3, 3)),\n",
        "                columns=['A', 'B', 'C'])\n",
        "df"
      ]
    },
    {
      "cell_type": "code",
      "execution_count": 118,
      "metadata": {
        "id": "iBbFzDqFabQv"
      },
      "outputs": [
        {
          "data": {
            "text/plain": [
              "0     148.413159\n",
              "1       1.000000\n",
              "2       1.000000\n",
              "3       2.718282\n",
              "4    1096.633158\n",
              "dtype: float64"
            ]
          },
          "execution_count": 118,
          "metadata": {},
          "output_type": "execute_result"
        }
      ],
      "source": [
        "np.exp(s)"
      ]
    },
    {
      "cell_type": "code",
      "execution_count": 119,
      "metadata": {
        "id": "LGsnlcjfagUv"
      },
      "outputs": [
        {
          "data": {
            "text/html": [
              "<div>\n",
              "<style scoped>\n",
              "    .dataframe tbody tr th:only-of-type {\n",
              "        vertical-align: middle;\n",
              "    }\n",
              "\n",
              "    .dataframe tbody tr th {\n",
              "        vertical-align: top;\n",
              "    }\n",
              "\n",
              "    .dataframe thead th {\n",
              "        text-align: right;\n",
              "    }\n",
              "</style>\n",
              "<table border=\"1\" class=\"dataframe\">\n",
              "  <thead>\n",
              "    <tr style=\"text-align: right;\">\n",
              "      <th></th>\n",
              "      <th>A</th>\n",
              "      <th>B</th>\n",
              "      <th>C</th>\n",
              "    </tr>\n",
              "  </thead>\n",
              "  <tbody>\n",
              "    <tr>\n",
              "      <th>0</th>\n",
              "      <td>-1.836970e-16</td>\n",
              "      <td>6.123234e-17</td>\n",
              "      <td>1.000000e+00</td>\n",
              "    </tr>\n",
              "    <tr>\n",
              "      <th>1</th>\n",
              "      <td>7.071068e-01</td>\n",
              "      <td>6.123234e-17</td>\n",
              "      <td>6.123234e-17</td>\n",
              "    </tr>\n",
              "    <tr>\n",
              "      <th>2</th>\n",
              "      <td>7.071068e-01</td>\n",
              "      <td>-1.836970e-16</td>\n",
              "      <td>7.071068e-01</td>\n",
              "    </tr>\n",
              "  </tbody>\n",
              "</table>\n",
              "</div>"
            ],
            "text/plain": [
              "              A             B             C\n",
              "0 -1.836970e-16  6.123234e-17  1.000000e+00\n",
              "1  7.071068e-01  6.123234e-17  6.123234e-17\n",
              "2  7.071068e-01 -1.836970e-16  7.071068e-01"
            ]
          },
          "execution_count": 119,
          "metadata": {},
          "output_type": "execute_result"
        }
      ],
      "source": [
        "np.cos(df * np.pi / 4)"
      ]
    },
    {
      "cell_type": "code",
      "execution_count": 120,
      "metadata": {
        "id": "lUpXJh0uajOg"
      },
      "outputs": [
        {
          "data": {
            "text/plain": [
              "0     NaN\n",
              "1     5.0\n",
              "2     9.0\n",
              "3    13.0\n",
              "4    17.0\n",
              "5     NaN\n",
              "dtype: float64"
            ]
          },
          "execution_count": 120,
          "metadata": {},
          "output_type": "execute_result"
        }
      ],
      "source": [
        "s1 = pd.Series([1, 3, 5, 7, 9], index=[0, 1, 2, 3, 4])\n",
        "s2 = pd.Series([2, 4, 6, 8, 10], index=[1, 2, 3, 4, 5])\n",
        "s1 + s2"
      ]
    },
    {
      "cell_type": "code",
      "execution_count": 121,
      "metadata": {
        "id": "UMNfm7S7caJd"
      },
      "outputs": [
        {
          "data": {
            "text/plain": [
              "0     1.0\n",
              "1     5.0\n",
              "2     9.0\n",
              "3    13.0\n",
              "4    17.0\n",
              "5    10.0\n",
              "dtype: float64"
            ]
          },
          "execution_count": 121,
          "metadata": {},
          "output_type": "execute_result"
        }
      ],
      "source": [
        "s1.add(s2, fill_value=0)"
      ]
    },
    {
      "cell_type": "code",
      "execution_count": 122,
      "metadata": {
        "id": "7gQjdKNYdHl4"
      },
      "outputs": [
        {
          "data": {
            "text/html": [
              "<div>\n",
              "<style scoped>\n",
              "    .dataframe tbody tr th:only-of-type {\n",
              "        vertical-align: middle;\n",
              "    }\n",
              "\n",
              "    .dataframe tbody tr th {\n",
              "        vertical-align: top;\n",
              "    }\n",
              "\n",
              "    .dataframe thead th {\n",
              "        text-align: right;\n",
              "    }\n",
              "</style>\n",
              "<table border=\"1\" class=\"dataframe\">\n",
              "  <thead>\n",
              "    <tr style=\"text-align: right;\">\n",
              "      <th></th>\n",
              "      <th>A</th>\n",
              "      <th>C</th>\n",
              "      <th>D</th>\n",
              "    </tr>\n",
              "  </thead>\n",
              "  <tbody>\n",
              "    <tr>\n",
              "      <th>0</th>\n",
              "      <td>9</td>\n",
              "      <td>16</td>\n",
              "      <td>10</td>\n",
              "    </tr>\n",
              "    <tr>\n",
              "      <th>1</th>\n",
              "      <td>1</td>\n",
              "      <td>12</td>\n",
              "      <td>2</td>\n",
              "    </tr>\n",
              "    <tr>\n",
              "      <th>2</th>\n",
              "      <td>1</td>\n",
              "      <td>7</td>\n",
              "      <td>9</td>\n",
              "    </tr>\n",
              "  </tbody>\n",
              "</table>\n",
              "</div>"
            ],
            "text/plain": [
              "   A   C   D\n",
              "0  9  16  10\n",
              "1  1  12   2\n",
              "2  1   7   9"
            ]
          },
          "execution_count": 122,
          "metadata": {},
          "output_type": "execute_result"
        }
      ],
      "source": [
        "df1 = pd.DataFrame(np.random.randint(0, 20, (3, 3)),\n",
        "                columns=list('ACD'))\n",
        "df1"
      ]
    },
    {
      "cell_type": "code",
      "execution_count": 123,
      "metadata": {
        "id": "RFDnK7BHdUGM"
      },
      "outputs": [
        {
          "data": {
            "text/html": [
              "<div>\n",
              "<style scoped>\n",
              "    .dataframe tbody tr th:only-of-type {\n",
              "        vertical-align: middle;\n",
              "    }\n",
              "\n",
              "    .dataframe tbody tr th {\n",
              "        vertical-align: top;\n",
              "    }\n",
              "\n",
              "    .dataframe thead th {\n",
              "        text-align: right;\n",
              "    }\n",
              "</style>\n",
              "<table border=\"1\" class=\"dataframe\">\n",
              "  <thead>\n",
              "    <tr style=\"text-align: right;\">\n",
              "      <th></th>\n",
              "      <th>B</th>\n",
              "      <th>A</th>\n",
              "      <th>E</th>\n",
              "      <th>C</th>\n",
              "      <th>D</th>\n",
              "    </tr>\n",
              "  </thead>\n",
              "  <tbody>\n",
              "    <tr>\n",
              "      <th>0</th>\n",
              "      <td>16</td>\n",
              "      <td>19</td>\n",
              "      <td>11</td>\n",
              "      <td>5</td>\n",
              "      <td>6</td>\n",
              "    </tr>\n",
              "    <tr>\n",
              "      <th>1</th>\n",
              "      <td>5</td>\n",
              "      <td>5</td>\n",
              "      <td>17</td>\n",
              "      <td>15</td>\n",
              "      <td>18</td>\n",
              "    </tr>\n",
              "    <tr>\n",
              "      <th>2</th>\n",
              "      <td>10</td>\n",
              "      <td>16</td>\n",
              "      <td>4</td>\n",
              "      <td>3</td>\n",
              "      <td>4</td>\n",
              "    </tr>\n",
              "    <tr>\n",
              "      <th>3</th>\n",
              "      <td>10</td>\n",
              "      <td>0</td>\n",
              "      <td>1</td>\n",
              "      <td>16</td>\n",
              "      <td>19</td>\n",
              "    </tr>\n",
              "    <tr>\n",
              "      <th>4</th>\n",
              "      <td>15</td>\n",
              "      <td>1</td>\n",
              "      <td>8</td>\n",
              "      <td>10</td>\n",
              "      <td>3</td>\n",
              "    </tr>\n",
              "  </tbody>\n",
              "</table>\n",
              "</div>"
            ],
            "text/plain": [
              "    B   A   E   C   D\n",
              "0  16  19  11   5   6\n",
              "1   5   5  17  15  18\n",
              "2  10  16   4   3   4\n",
              "3  10   0   1  16  19\n",
              "4  15   1   8  10   3"
            ]
          },
          "execution_count": 123,
          "metadata": {},
          "output_type": "execute_result"
        }
      ],
      "source": [
        "df2 = pd.DataFrame(np.random.randint(0, 20, (5, 5)),\n",
        "                columns=list('BAECD'))\n",
        "df2"
      ]
    },
    {
      "cell_type": "code",
      "execution_count": 124,
      "metadata": {
        "id": "2ZtF9SKVdeuy"
      },
      "outputs": [
        {
          "data": {
            "text/html": [
              "<div>\n",
              "<style scoped>\n",
              "    .dataframe tbody tr th:only-of-type {\n",
              "        vertical-align: middle;\n",
              "    }\n",
              "\n",
              "    .dataframe tbody tr th {\n",
              "        vertical-align: top;\n",
              "    }\n",
              "\n",
              "    .dataframe thead th {\n",
              "        text-align: right;\n",
              "    }\n",
              "</style>\n",
              "<table border=\"1\" class=\"dataframe\">\n",
              "  <thead>\n",
              "    <tr style=\"text-align: right;\">\n",
              "      <th></th>\n",
              "      <th>A</th>\n",
              "      <th>B</th>\n",
              "      <th>C</th>\n",
              "      <th>D</th>\n",
              "      <th>E</th>\n",
              "    </tr>\n",
              "  </thead>\n",
              "  <tbody>\n",
              "    <tr>\n",
              "      <th>0</th>\n",
              "      <td>28.0</td>\n",
              "      <td>NaN</td>\n",
              "      <td>21.0</td>\n",
              "      <td>16.0</td>\n",
              "      <td>NaN</td>\n",
              "    </tr>\n",
              "    <tr>\n",
              "      <th>1</th>\n",
              "      <td>6.0</td>\n",
              "      <td>NaN</td>\n",
              "      <td>27.0</td>\n",
              "      <td>20.0</td>\n",
              "      <td>NaN</td>\n",
              "    </tr>\n",
              "    <tr>\n",
              "      <th>2</th>\n",
              "      <td>17.0</td>\n",
              "      <td>NaN</td>\n",
              "      <td>10.0</td>\n",
              "      <td>13.0</td>\n",
              "      <td>NaN</td>\n",
              "    </tr>\n",
              "    <tr>\n",
              "      <th>3</th>\n",
              "      <td>NaN</td>\n",
              "      <td>NaN</td>\n",
              "      <td>NaN</td>\n",
              "      <td>NaN</td>\n",
              "      <td>NaN</td>\n",
              "    </tr>\n",
              "    <tr>\n",
              "      <th>4</th>\n",
              "      <td>NaN</td>\n",
              "      <td>NaN</td>\n",
              "      <td>NaN</td>\n",
              "      <td>NaN</td>\n",
              "      <td>NaN</td>\n",
              "    </tr>\n",
              "  </tbody>\n",
              "</table>\n",
              "</div>"
            ],
            "text/plain": [
              "      A   B     C     D   E\n",
              "0  28.0 NaN  21.0  16.0 NaN\n",
              "1   6.0 NaN  27.0  20.0 NaN\n",
              "2  17.0 NaN  10.0  13.0 NaN\n",
              "3   NaN NaN   NaN   NaN NaN\n",
              "4   NaN NaN   NaN   NaN NaN"
            ]
          },
          "execution_count": 124,
          "metadata": {},
          "output_type": "execute_result"
        }
      ],
      "source": [
        "df1 + df2"
      ]
    },
    {
      "cell_type": "code",
      "execution_count": 125,
      "metadata": {
        "id": "jHQflTypdq7U"
      },
      "outputs": [
        {
          "data": {
            "text/html": [
              "<div>\n",
              "<style scoped>\n",
              "    .dataframe tbody tr th:only-of-type {\n",
              "        vertical-align: middle;\n",
              "    }\n",
              "\n",
              "    .dataframe tbody tr th {\n",
              "        vertical-align: top;\n",
              "    }\n",
              "\n",
              "    .dataframe thead th {\n",
              "        text-align: right;\n",
              "    }\n",
              "</style>\n",
              "<table border=\"1\" class=\"dataframe\">\n",
              "  <thead>\n",
              "    <tr style=\"text-align: right;\">\n",
              "      <th></th>\n",
              "      <th>A</th>\n",
              "      <th>B</th>\n",
              "      <th>C</th>\n",
              "      <th>D</th>\n",
              "      <th>E</th>\n",
              "    </tr>\n",
              "  </thead>\n",
              "  <tbody>\n",
              "    <tr>\n",
              "      <th>0</th>\n",
              "      <td>28.000000</td>\n",
              "      <td>23.444444</td>\n",
              "      <td>21.000000</td>\n",
              "      <td>16.000000</td>\n",
              "      <td>18.444444</td>\n",
              "    </tr>\n",
              "    <tr>\n",
              "      <th>1</th>\n",
              "      <td>6.000000</td>\n",
              "      <td>12.444444</td>\n",
              "      <td>27.000000</td>\n",
              "      <td>20.000000</td>\n",
              "      <td>24.444444</td>\n",
              "    </tr>\n",
              "    <tr>\n",
              "      <th>2</th>\n",
              "      <td>17.000000</td>\n",
              "      <td>17.444444</td>\n",
              "      <td>10.000000</td>\n",
              "      <td>13.000000</td>\n",
              "      <td>11.444444</td>\n",
              "    </tr>\n",
              "    <tr>\n",
              "      <th>3</th>\n",
              "      <td>7.444444</td>\n",
              "      <td>17.444444</td>\n",
              "      <td>23.444444</td>\n",
              "      <td>26.444444</td>\n",
              "      <td>8.444444</td>\n",
              "    </tr>\n",
              "    <tr>\n",
              "      <th>4</th>\n",
              "      <td>8.444444</td>\n",
              "      <td>22.444444</td>\n",
              "      <td>17.444444</td>\n",
              "      <td>10.444444</td>\n",
              "      <td>15.444444</td>\n",
              "    </tr>\n",
              "  </tbody>\n",
              "</table>\n",
              "</div>"
            ],
            "text/plain": [
              "           A          B          C          D          E\n",
              "0  28.000000  23.444444  21.000000  16.000000  18.444444\n",
              "1   6.000000  12.444444  27.000000  20.000000  24.444444\n",
              "2  17.000000  17.444444  10.000000  13.000000  11.444444\n",
              "3   7.444444  17.444444  23.444444  26.444444   8.444444\n",
              "4   8.444444  22.444444  17.444444  10.444444  15.444444"
            ]
          },
          "execution_count": 125,
          "metadata": {},
          "output_type": "execute_result"
        }
      ],
      "source": [
        "fvalue = df1.stack().mean()\n",
        "df1.add(df2, fill_value=fvalue)"
      ]
    },
    {
      "cell_type": "markdown",
      "metadata": {
        "id": "zAl0KQLGfOGu"
      },
      "source": [
        "### 연산자 범용 함수\n"
      ]
    },
    {
      "cell_type": "markdown",
      "metadata": {
        "id": "rtf6di7UxZm-"
      },
      "source": [
        "#### add()"
      ]
    },
    {
      "cell_type": "code",
      "execution_count": 126,
      "metadata": {
        "id": "S0ZrcMDNevbl"
      },
      "outputs": [
        {
          "data": {
            "text/plain": [
              "array([[3, 6, 6],\n",
              "       [3, 7, 1],\n",
              "       [4, 3, 2]])"
            ]
          },
          "execution_count": 126,
          "metadata": {},
          "output_type": "execute_result"
        }
      ],
      "source": [
        "a = np.random.randint(1, 10, size=(3, 3))\n",
        "a"
      ]
    },
    {
      "cell_type": "code",
      "execution_count": 127,
      "metadata": {
        "id": "XwyOkCCRiJUJ"
      },
      "outputs": [
        {
          "data": {
            "text/plain": [
              "array([[ 6, 12, 12],\n",
              "       [ 6, 13,  7],\n",
              "       [ 7,  9,  8]])"
            ]
          },
          "execution_count": 127,
          "metadata": {},
          "output_type": "execute_result"
        }
      ],
      "source": [
        "a + a[0]"
      ]
    },
    {
      "cell_type": "code",
      "execution_count": 128,
      "metadata": {
        "id": "qIZRHvYqhnb4"
      },
      "outputs": [
        {
          "data": {
            "text/html": [
              "<div>\n",
              "<style scoped>\n",
              "    .dataframe tbody tr th:only-of-type {\n",
              "        vertical-align: middle;\n",
              "    }\n",
              "\n",
              "    .dataframe tbody tr th {\n",
              "        vertical-align: top;\n",
              "    }\n",
              "\n",
              "    .dataframe thead th {\n",
              "        text-align: right;\n",
              "    }\n",
              "</style>\n",
              "<table border=\"1\" class=\"dataframe\">\n",
              "  <thead>\n",
              "    <tr style=\"text-align: right;\">\n",
              "      <th></th>\n",
              "      <th>A</th>\n",
              "      <th>B</th>\n",
              "      <th>C</th>\n",
              "    </tr>\n",
              "  </thead>\n",
              "  <tbody>\n",
              "    <tr>\n",
              "      <th>0</th>\n",
              "      <td>3</td>\n",
              "      <td>6</td>\n",
              "      <td>6</td>\n",
              "    </tr>\n",
              "    <tr>\n",
              "      <th>1</th>\n",
              "      <td>3</td>\n",
              "      <td>7</td>\n",
              "      <td>1</td>\n",
              "    </tr>\n",
              "    <tr>\n",
              "      <th>2</th>\n",
              "      <td>4</td>\n",
              "      <td>3</td>\n",
              "      <td>2</td>\n",
              "    </tr>\n",
              "  </tbody>\n",
              "</table>\n",
              "</div>"
            ],
            "text/plain": [
              "   A  B  C\n",
              "0  3  6  6\n",
              "1  3  7  1\n",
              "2  4  3  2"
            ]
          },
          "execution_count": 128,
          "metadata": {},
          "output_type": "execute_result"
        }
      ],
      "source": [
        "df = pd.DataFrame(a, columns=list('ABC'))\n",
        "df"
      ]
    },
    {
      "cell_type": "code",
      "execution_count": 129,
      "metadata": {
        "id": "wJVgHWuVxpMJ"
      },
      "outputs": [
        {
          "data": {
            "text/html": [
              "<div>\n",
              "<style scoped>\n",
              "    .dataframe tbody tr th:only-of-type {\n",
              "        vertical-align: middle;\n",
              "    }\n",
              "\n",
              "    .dataframe tbody tr th {\n",
              "        vertical-align: top;\n",
              "    }\n",
              "\n",
              "    .dataframe thead th {\n",
              "        text-align: right;\n",
              "    }\n",
              "</style>\n",
              "<table border=\"1\" class=\"dataframe\">\n",
              "  <thead>\n",
              "    <tr style=\"text-align: right;\">\n",
              "      <th></th>\n",
              "      <th>A</th>\n",
              "      <th>B</th>\n",
              "      <th>C</th>\n",
              "    </tr>\n",
              "  </thead>\n",
              "  <tbody>\n",
              "    <tr>\n",
              "      <th>0</th>\n",
              "      <td>6</td>\n",
              "      <td>12</td>\n",
              "      <td>12</td>\n",
              "    </tr>\n",
              "    <tr>\n",
              "      <th>1</th>\n",
              "      <td>6</td>\n",
              "      <td>13</td>\n",
              "      <td>7</td>\n",
              "    </tr>\n",
              "    <tr>\n",
              "      <th>2</th>\n",
              "      <td>7</td>\n",
              "      <td>9</td>\n",
              "      <td>8</td>\n",
              "    </tr>\n",
              "  </tbody>\n",
              "</table>\n",
              "</div>"
            ],
            "text/plain": [
              "   A   B   C\n",
              "0  6  12  12\n",
              "1  6  13   7\n",
              "2  7   9   8"
            ]
          },
          "execution_count": 129,
          "metadata": {},
          "output_type": "execute_result"
        }
      ],
      "source": [
        "df + df.iloc[0]"
      ]
    },
    {
      "cell_type": "code",
      "execution_count": 130,
      "metadata": {
        "id": "O_OF4OrGq5Cl"
      },
      "outputs": [
        {
          "data": {
            "text/html": [
              "<div>\n",
              "<style scoped>\n",
              "    .dataframe tbody tr th:only-of-type {\n",
              "        vertical-align: middle;\n",
              "    }\n",
              "\n",
              "    .dataframe tbody tr th {\n",
              "        vertical-align: top;\n",
              "    }\n",
              "\n",
              "    .dataframe thead th {\n",
              "        text-align: right;\n",
              "    }\n",
              "</style>\n",
              "<table border=\"1\" class=\"dataframe\">\n",
              "  <thead>\n",
              "    <tr style=\"text-align: right;\">\n",
              "      <th></th>\n",
              "      <th>A</th>\n",
              "      <th>B</th>\n",
              "      <th>C</th>\n",
              "    </tr>\n",
              "  </thead>\n",
              "  <tbody>\n",
              "    <tr>\n",
              "      <th>0</th>\n",
              "      <td>6</td>\n",
              "      <td>12</td>\n",
              "      <td>12</td>\n",
              "    </tr>\n",
              "    <tr>\n",
              "      <th>1</th>\n",
              "      <td>6</td>\n",
              "      <td>13</td>\n",
              "      <td>7</td>\n",
              "    </tr>\n",
              "    <tr>\n",
              "      <th>2</th>\n",
              "      <td>7</td>\n",
              "      <td>9</td>\n",
              "      <td>8</td>\n",
              "    </tr>\n",
              "  </tbody>\n",
              "</table>\n",
              "</div>"
            ],
            "text/plain": [
              "   A   B   C\n",
              "0  6  12  12\n",
              "1  6  13   7\n",
              "2  7   9   8"
            ]
          },
          "execution_count": 130,
          "metadata": {},
          "output_type": "execute_result"
        }
      ],
      "source": [
        "df.add(df.iloc[0])"
      ]
    },
    {
      "cell_type": "markdown",
      "metadata": {
        "id": "b32g_aLTxriU"
      },
      "source": [
        "#### sub() / subtract()"
      ]
    },
    {
      "cell_type": "code",
      "execution_count": 131,
      "metadata": {
        "id": "_eJ9wpPKM8Ue"
      },
      "outputs": [
        {
          "data": {
            "text/plain": [
              "array([[3, 6, 6],\n",
              "       [3, 7, 1],\n",
              "       [4, 3, 2]])"
            ]
          },
          "execution_count": 131,
          "metadata": {},
          "output_type": "execute_result"
        }
      ],
      "source": [
        "a"
      ]
    },
    {
      "cell_type": "code",
      "execution_count": 132,
      "metadata": {
        "id": "d2kvlPJRhj05"
      },
      "outputs": [
        {
          "data": {
            "text/plain": [
              "array([[ 0,  0,  0],\n",
              "       [ 0,  1, -5],\n",
              "       [ 1, -3, -4]])"
            ]
          },
          "execution_count": 132,
          "metadata": {},
          "output_type": "execute_result"
        }
      ],
      "source": [
        "a - a[0]"
      ]
    },
    {
      "cell_type": "code",
      "execution_count": 133,
      "metadata": {
        "id": "4_BYRrbnxzxV"
      },
      "outputs": [
        {
          "data": {
            "text/html": [
              "<div>\n",
              "<style scoped>\n",
              "    .dataframe tbody tr th:only-of-type {\n",
              "        vertical-align: middle;\n",
              "    }\n",
              "\n",
              "    .dataframe tbody tr th {\n",
              "        vertical-align: top;\n",
              "    }\n",
              "\n",
              "    .dataframe thead th {\n",
              "        text-align: right;\n",
              "    }\n",
              "</style>\n",
              "<table border=\"1\" class=\"dataframe\">\n",
              "  <thead>\n",
              "    <tr style=\"text-align: right;\">\n",
              "      <th></th>\n",
              "      <th>A</th>\n",
              "      <th>B</th>\n",
              "      <th>C</th>\n",
              "    </tr>\n",
              "  </thead>\n",
              "  <tbody>\n",
              "    <tr>\n",
              "      <th>0</th>\n",
              "      <td>3</td>\n",
              "      <td>6</td>\n",
              "      <td>6</td>\n",
              "    </tr>\n",
              "    <tr>\n",
              "      <th>1</th>\n",
              "      <td>3</td>\n",
              "      <td>7</td>\n",
              "      <td>1</td>\n",
              "    </tr>\n",
              "    <tr>\n",
              "      <th>2</th>\n",
              "      <td>4</td>\n",
              "      <td>3</td>\n",
              "      <td>2</td>\n",
              "    </tr>\n",
              "  </tbody>\n",
              "</table>\n",
              "</div>"
            ],
            "text/plain": [
              "   A  B  C\n",
              "0  3  6  6\n",
              "1  3  7  1\n",
              "2  4  3  2"
            ]
          },
          "execution_count": 133,
          "metadata": {},
          "output_type": "execute_result"
        }
      ],
      "source": [
        "df"
      ]
    },
    {
      "cell_type": "code",
      "execution_count": 134,
      "metadata": {
        "id": "u2AUSDI8q9z3"
      },
      "outputs": [
        {
          "data": {
            "text/html": [
              "<div>\n",
              "<style scoped>\n",
              "    .dataframe tbody tr th:only-of-type {\n",
              "        vertical-align: middle;\n",
              "    }\n",
              "\n",
              "    .dataframe tbody tr th {\n",
              "        vertical-align: top;\n",
              "    }\n",
              "\n",
              "    .dataframe thead th {\n",
              "        text-align: right;\n",
              "    }\n",
              "</style>\n",
              "<table border=\"1\" class=\"dataframe\">\n",
              "  <thead>\n",
              "    <tr style=\"text-align: right;\">\n",
              "      <th></th>\n",
              "      <th>A</th>\n",
              "      <th>B</th>\n",
              "      <th>C</th>\n",
              "    </tr>\n",
              "  </thead>\n",
              "  <tbody>\n",
              "    <tr>\n",
              "      <th>0</th>\n",
              "      <td>0</td>\n",
              "      <td>0</td>\n",
              "      <td>0</td>\n",
              "    </tr>\n",
              "    <tr>\n",
              "      <th>1</th>\n",
              "      <td>0</td>\n",
              "      <td>1</td>\n",
              "      <td>-5</td>\n",
              "    </tr>\n",
              "    <tr>\n",
              "      <th>2</th>\n",
              "      <td>1</td>\n",
              "      <td>-3</td>\n",
              "      <td>-4</td>\n",
              "    </tr>\n",
              "  </tbody>\n",
              "</table>\n",
              "</div>"
            ],
            "text/plain": [
              "   A  B  C\n",
              "0  0  0  0\n",
              "1  0  1 -5\n",
              "2  1 -3 -4"
            ]
          },
          "execution_count": 134,
          "metadata": {},
          "output_type": "execute_result"
        }
      ],
      "source": [
        "df - df.iloc[0]"
      ]
    },
    {
      "cell_type": "code",
      "execution_count": 135,
      "metadata": {
        "id": "JTtB-d7lxKCj"
      },
      "outputs": [
        {
          "data": {
            "text/html": [
              "<div>\n",
              "<style scoped>\n",
              "    .dataframe tbody tr th:only-of-type {\n",
              "        vertical-align: middle;\n",
              "    }\n",
              "\n",
              "    .dataframe tbody tr th {\n",
              "        vertical-align: top;\n",
              "    }\n",
              "\n",
              "    .dataframe thead th {\n",
              "        text-align: right;\n",
              "    }\n",
              "</style>\n",
              "<table border=\"1\" class=\"dataframe\">\n",
              "  <thead>\n",
              "    <tr style=\"text-align: right;\">\n",
              "      <th></th>\n",
              "      <th>A</th>\n",
              "      <th>B</th>\n",
              "      <th>C</th>\n",
              "    </tr>\n",
              "  </thead>\n",
              "  <tbody>\n",
              "    <tr>\n",
              "      <th>0</th>\n",
              "      <td>0</td>\n",
              "      <td>0</td>\n",
              "      <td>0</td>\n",
              "    </tr>\n",
              "    <tr>\n",
              "      <th>1</th>\n",
              "      <td>0</td>\n",
              "      <td>1</td>\n",
              "      <td>-5</td>\n",
              "    </tr>\n",
              "    <tr>\n",
              "      <th>2</th>\n",
              "      <td>1</td>\n",
              "      <td>-3</td>\n",
              "      <td>-4</td>\n",
              "    </tr>\n",
              "  </tbody>\n",
              "</table>\n",
              "</div>"
            ],
            "text/plain": [
              "   A  B  C\n",
              "0  0  0  0\n",
              "1  0  1 -5\n",
              "2  1 -3 -4"
            ]
          },
          "execution_count": 135,
          "metadata": {},
          "output_type": "execute_result"
        }
      ],
      "source": [
        "df.sub(df.iloc[0])"
      ]
    },
    {
      "cell_type": "code",
      "execution_count": 136,
      "metadata": {
        "id": "fLHUViwohvsr"
      },
      "outputs": [
        {
          "data": {
            "text/html": [
              "<div>\n",
              "<style scoped>\n",
              "    .dataframe tbody tr th:only-of-type {\n",
              "        vertical-align: middle;\n",
              "    }\n",
              "\n",
              "    .dataframe tbody tr th {\n",
              "        vertical-align: top;\n",
              "    }\n",
              "\n",
              "    .dataframe thead th {\n",
              "        text-align: right;\n",
              "    }\n",
              "</style>\n",
              "<table border=\"1\" class=\"dataframe\">\n",
              "  <thead>\n",
              "    <tr style=\"text-align: right;\">\n",
              "      <th></th>\n",
              "      <th>A</th>\n",
              "      <th>B</th>\n",
              "      <th>C</th>\n",
              "    </tr>\n",
              "  </thead>\n",
              "  <tbody>\n",
              "    <tr>\n",
              "      <th>0</th>\n",
              "      <td>-3</td>\n",
              "      <td>0</td>\n",
              "      <td>0</td>\n",
              "    </tr>\n",
              "    <tr>\n",
              "      <th>1</th>\n",
              "      <td>-4</td>\n",
              "      <td>0</td>\n",
              "      <td>-6</td>\n",
              "    </tr>\n",
              "    <tr>\n",
              "      <th>2</th>\n",
              "      <td>1</td>\n",
              "      <td>0</td>\n",
              "      <td>-1</td>\n",
              "    </tr>\n",
              "  </tbody>\n",
              "</table>\n",
              "</div>"
            ],
            "text/plain": [
              "   A  B  C\n",
              "0 -3  0  0\n",
              "1 -4  0 -6\n",
              "2  1  0 -1"
            ]
          },
          "execution_count": 136,
          "metadata": {},
          "output_type": "execute_result"
        }
      ],
      "source": [
        "df.subtract(df['B'], axis=0)"
      ]
    },
    {
      "cell_type": "markdown",
      "metadata": {
        "id": "k57PyNCpzN0e"
      },
      "source": [
        "#### mul() / multply()\n",
        "\n",
        "\n"
      ]
    },
    {
      "cell_type": "code",
      "execution_count": 137,
      "metadata": {
        "id": "oeNX64mMzl8X"
      },
      "outputs": [
        {
          "data": {
            "text/plain": [
              "array([[3, 6, 6],\n",
              "       [3, 7, 1],\n",
              "       [4, 3, 2]])"
            ]
          },
          "execution_count": 137,
          "metadata": {},
          "output_type": "execute_result"
        }
      ],
      "source": [
        "a"
      ]
    },
    {
      "cell_type": "code",
      "execution_count": 138,
      "metadata": {
        "id": "9XwcE7ySiMvS"
      },
      "outputs": [
        {
          "data": {
            "text/plain": [
              "array([[ 9, 42,  6],\n",
              "       [ 9, 49,  1],\n",
              "       [12, 21,  2]])"
            ]
          },
          "execution_count": 138,
          "metadata": {},
          "output_type": "execute_result"
        }
      ],
      "source": [
        "a * a[1]"
      ]
    },
    {
      "cell_type": "code",
      "execution_count": 139,
      "metadata": {
        "id": "42xISoWmzm8M"
      },
      "outputs": [
        {
          "data": {
            "text/html": [
              "<div>\n",
              "<style scoped>\n",
              "    .dataframe tbody tr th:only-of-type {\n",
              "        vertical-align: middle;\n",
              "    }\n",
              "\n",
              "    .dataframe tbody tr th {\n",
              "        vertical-align: top;\n",
              "    }\n",
              "\n",
              "    .dataframe thead th {\n",
              "        text-align: right;\n",
              "    }\n",
              "</style>\n",
              "<table border=\"1\" class=\"dataframe\">\n",
              "  <thead>\n",
              "    <tr style=\"text-align: right;\">\n",
              "      <th></th>\n",
              "      <th>A</th>\n",
              "      <th>B</th>\n",
              "      <th>C</th>\n",
              "    </tr>\n",
              "  </thead>\n",
              "  <tbody>\n",
              "    <tr>\n",
              "      <th>0</th>\n",
              "      <td>3</td>\n",
              "      <td>6</td>\n",
              "      <td>6</td>\n",
              "    </tr>\n",
              "    <tr>\n",
              "      <th>1</th>\n",
              "      <td>3</td>\n",
              "      <td>7</td>\n",
              "      <td>1</td>\n",
              "    </tr>\n",
              "    <tr>\n",
              "      <th>2</th>\n",
              "      <td>4</td>\n",
              "      <td>3</td>\n",
              "      <td>2</td>\n",
              "    </tr>\n",
              "  </tbody>\n",
              "</table>\n",
              "</div>"
            ],
            "text/plain": [
              "   A  B  C\n",
              "0  3  6  6\n",
              "1  3  7  1\n",
              "2  4  3  2"
            ]
          },
          "execution_count": 139,
          "metadata": {},
          "output_type": "execute_result"
        }
      ],
      "source": [
        "df"
      ]
    },
    {
      "cell_type": "code",
      "execution_count": 140,
      "metadata": {
        "id": "aS6XjFjCh2Jn"
      },
      "outputs": [
        {
          "data": {
            "text/html": [
              "<div>\n",
              "<style scoped>\n",
              "    .dataframe tbody tr th:only-of-type {\n",
              "        vertical-align: middle;\n",
              "    }\n",
              "\n",
              "    .dataframe tbody tr th {\n",
              "        vertical-align: top;\n",
              "    }\n",
              "\n",
              "    .dataframe thead th {\n",
              "        text-align: right;\n",
              "    }\n",
              "</style>\n",
              "<table border=\"1\" class=\"dataframe\">\n",
              "  <thead>\n",
              "    <tr style=\"text-align: right;\">\n",
              "      <th></th>\n",
              "      <th>A</th>\n",
              "      <th>B</th>\n",
              "      <th>C</th>\n",
              "    </tr>\n",
              "  </thead>\n",
              "  <tbody>\n",
              "    <tr>\n",
              "      <th>0</th>\n",
              "      <td>9</td>\n",
              "      <td>42</td>\n",
              "      <td>6</td>\n",
              "    </tr>\n",
              "    <tr>\n",
              "      <th>1</th>\n",
              "      <td>9</td>\n",
              "      <td>49</td>\n",
              "      <td>1</td>\n",
              "    </tr>\n",
              "    <tr>\n",
              "      <th>2</th>\n",
              "      <td>12</td>\n",
              "      <td>21</td>\n",
              "      <td>2</td>\n",
              "    </tr>\n",
              "  </tbody>\n",
              "</table>\n",
              "</div>"
            ],
            "text/plain": [
              "    A   B  C\n",
              "0   9  42  6\n",
              "1   9  49  1\n",
              "2  12  21  2"
            ]
          },
          "execution_count": 140,
          "metadata": {},
          "output_type": "execute_result"
        }
      ],
      "source": [
        "df * df.iloc[1]"
      ]
    },
    {
      "cell_type": "code",
      "execution_count": 141,
      "metadata": {
        "id": "GxIj27xmrGAR"
      },
      "outputs": [
        {
          "data": {
            "text/html": [
              "<div>\n",
              "<style scoped>\n",
              "    .dataframe tbody tr th:only-of-type {\n",
              "        vertical-align: middle;\n",
              "    }\n",
              "\n",
              "    .dataframe tbody tr th {\n",
              "        vertical-align: top;\n",
              "    }\n",
              "\n",
              "    .dataframe thead th {\n",
              "        text-align: right;\n",
              "    }\n",
              "</style>\n",
              "<table border=\"1\" class=\"dataframe\">\n",
              "  <thead>\n",
              "    <tr style=\"text-align: right;\">\n",
              "      <th></th>\n",
              "      <th>A</th>\n",
              "      <th>B</th>\n",
              "      <th>C</th>\n",
              "    </tr>\n",
              "  </thead>\n",
              "  <tbody>\n",
              "    <tr>\n",
              "      <th>0</th>\n",
              "      <td>9</td>\n",
              "      <td>42</td>\n",
              "      <td>6</td>\n",
              "    </tr>\n",
              "    <tr>\n",
              "      <th>1</th>\n",
              "      <td>9</td>\n",
              "      <td>49</td>\n",
              "      <td>1</td>\n",
              "    </tr>\n",
              "    <tr>\n",
              "      <th>2</th>\n",
              "      <td>12</td>\n",
              "      <td>21</td>\n",
              "      <td>2</td>\n",
              "    </tr>\n",
              "  </tbody>\n",
              "</table>\n",
              "</div>"
            ],
            "text/plain": [
              "    A   B  C\n",
              "0   9  42  6\n",
              "1   9  49  1\n",
              "2  12  21  2"
            ]
          },
          "execution_count": 141,
          "metadata": {},
          "output_type": "execute_result"
        }
      ],
      "source": [
        "df.mul(df.iloc[1])"
      ]
    },
    {
      "cell_type": "code",
      "execution_count": 142,
      "metadata": {
        "id": "HpE8CYBVvUML"
      },
      "outputs": [
        {
          "data": {
            "text/html": [
              "<div>\n",
              "<style scoped>\n",
              "    .dataframe tbody tr th:only-of-type {\n",
              "        vertical-align: middle;\n",
              "    }\n",
              "\n",
              "    .dataframe tbody tr th {\n",
              "        vertical-align: top;\n",
              "    }\n",
              "\n",
              "    .dataframe thead th {\n",
              "        text-align: right;\n",
              "    }\n",
              "</style>\n",
              "<table border=\"1\" class=\"dataframe\">\n",
              "  <thead>\n",
              "    <tr style=\"text-align: right;\">\n",
              "      <th></th>\n",
              "      <th>A</th>\n",
              "      <th>B</th>\n",
              "      <th>C</th>\n",
              "    </tr>\n",
              "  </thead>\n",
              "  <tbody>\n",
              "    <tr>\n",
              "      <th>0</th>\n",
              "      <td>12</td>\n",
              "      <td>18</td>\n",
              "      <td>12</td>\n",
              "    </tr>\n",
              "    <tr>\n",
              "      <th>1</th>\n",
              "      <td>12</td>\n",
              "      <td>21</td>\n",
              "      <td>2</td>\n",
              "    </tr>\n",
              "    <tr>\n",
              "      <th>2</th>\n",
              "      <td>16</td>\n",
              "      <td>9</td>\n",
              "      <td>4</td>\n",
              "    </tr>\n",
              "  </tbody>\n",
              "</table>\n",
              "</div>"
            ],
            "text/plain": [
              "    A   B   C\n",
              "0  12  18  12\n",
              "1  12  21   2\n",
              "2  16   9   4"
            ]
          },
          "execution_count": 142,
          "metadata": {},
          "output_type": "execute_result"
        }
      ],
      "source": [
        "df.multiply(df.iloc[2])"
      ]
    },
    {
      "cell_type": "markdown",
      "metadata": {
        "id": "hFAaKfw2zpFE"
      },
      "source": [
        "#### truediv() /  div() / divide() / floordiv()"
      ]
    },
    {
      "cell_type": "code",
      "execution_count": 143,
      "metadata": {
        "id": "BQ56Fdtyzyvp"
      },
      "outputs": [
        {
          "data": {
            "text/plain": [
              "array([[3, 6, 6],\n",
              "       [3, 7, 1],\n",
              "       [4, 3, 2]])"
            ]
          },
          "execution_count": 143,
          "metadata": {},
          "output_type": "execute_result"
        }
      ],
      "source": [
        "a"
      ]
    },
    {
      "cell_type": "code",
      "execution_count": 144,
      "metadata": {
        "id": "fgKLOKM5iQMu"
      },
      "outputs": [
        {
          "data": {
            "text/plain": [
              "array([[1.        , 1.        , 1.        ],\n",
              "       [1.        , 1.16666667, 0.16666667],\n",
              "       [1.33333333, 0.5       , 0.33333333]])"
            ]
          },
          "execution_count": 144,
          "metadata": {},
          "output_type": "execute_result"
        }
      ],
      "source": [
        "a / a[0]"
      ]
    },
    {
      "cell_type": "code",
      "execution_count": 145,
      "metadata": {
        "id": "HjYXWxgfz5WD"
      },
      "outputs": [
        {
          "data": {
            "text/html": [
              "<div>\n",
              "<style scoped>\n",
              "    .dataframe tbody tr th:only-of-type {\n",
              "        vertical-align: middle;\n",
              "    }\n",
              "\n",
              "    .dataframe tbody tr th {\n",
              "        vertical-align: top;\n",
              "    }\n",
              "\n",
              "    .dataframe thead th {\n",
              "        text-align: right;\n",
              "    }\n",
              "</style>\n",
              "<table border=\"1\" class=\"dataframe\">\n",
              "  <thead>\n",
              "    <tr style=\"text-align: right;\">\n",
              "      <th></th>\n",
              "      <th>A</th>\n",
              "      <th>B</th>\n",
              "      <th>C</th>\n",
              "    </tr>\n",
              "  </thead>\n",
              "  <tbody>\n",
              "    <tr>\n",
              "      <th>0</th>\n",
              "      <td>3</td>\n",
              "      <td>6</td>\n",
              "      <td>6</td>\n",
              "    </tr>\n",
              "    <tr>\n",
              "      <th>1</th>\n",
              "      <td>3</td>\n",
              "      <td>7</td>\n",
              "      <td>1</td>\n",
              "    </tr>\n",
              "    <tr>\n",
              "      <th>2</th>\n",
              "      <td>4</td>\n",
              "      <td>3</td>\n",
              "      <td>2</td>\n",
              "    </tr>\n",
              "  </tbody>\n",
              "</table>\n",
              "</div>"
            ],
            "text/plain": [
              "   A  B  C\n",
              "0  3  6  6\n",
              "1  3  7  1\n",
              "2  4  3  2"
            ]
          },
          "execution_count": 145,
          "metadata": {},
          "output_type": "execute_result"
        }
      ],
      "source": [
        "df"
      ]
    },
    {
      "cell_type": "code",
      "execution_count": 146,
      "metadata": {
        "id": "Nw0xsKsAz9XV"
      },
      "outputs": [
        {
          "data": {
            "text/html": [
              "<div>\n",
              "<style scoped>\n",
              "    .dataframe tbody tr th:only-of-type {\n",
              "        vertical-align: middle;\n",
              "    }\n",
              "\n",
              "    .dataframe tbody tr th {\n",
              "        vertical-align: top;\n",
              "    }\n",
              "\n",
              "    .dataframe thead th {\n",
              "        text-align: right;\n",
              "    }\n",
              "</style>\n",
              "<table border=\"1\" class=\"dataframe\">\n",
              "  <thead>\n",
              "    <tr style=\"text-align: right;\">\n",
              "      <th></th>\n",
              "      <th>A</th>\n",
              "      <th>B</th>\n",
              "      <th>C</th>\n",
              "    </tr>\n",
              "  </thead>\n",
              "  <tbody>\n",
              "    <tr>\n",
              "      <th>0</th>\n",
              "      <td>1.000000</td>\n",
              "      <td>1.000000</td>\n",
              "      <td>1.000000</td>\n",
              "    </tr>\n",
              "    <tr>\n",
              "      <th>1</th>\n",
              "      <td>1.000000</td>\n",
              "      <td>1.166667</td>\n",
              "      <td>0.166667</td>\n",
              "    </tr>\n",
              "    <tr>\n",
              "      <th>2</th>\n",
              "      <td>1.333333</td>\n",
              "      <td>0.500000</td>\n",
              "      <td>0.333333</td>\n",
              "    </tr>\n",
              "  </tbody>\n",
              "</table>\n",
              "</div>"
            ],
            "text/plain": [
              "          A         B         C\n",
              "0  1.000000  1.000000  1.000000\n",
              "1  1.000000  1.166667  0.166667\n",
              "2  1.333333  0.500000  0.333333"
            ]
          },
          "execution_count": 146,
          "metadata": {},
          "output_type": "execute_result"
        }
      ],
      "source": [
        "df / df.iloc[0]"
      ]
    },
    {
      "cell_type": "code",
      "execution_count": 147,
      "metadata": {
        "id": "ZoSaKROE0Ab_"
      },
      "outputs": [
        {
          "data": {
            "text/html": [
              "<div>\n",
              "<style scoped>\n",
              "    .dataframe tbody tr th:only-of-type {\n",
              "        vertical-align: middle;\n",
              "    }\n",
              "\n",
              "    .dataframe tbody tr th {\n",
              "        vertical-align: top;\n",
              "    }\n",
              "\n",
              "    .dataframe thead th {\n",
              "        text-align: right;\n",
              "    }\n",
              "</style>\n",
              "<table border=\"1\" class=\"dataframe\">\n",
              "  <thead>\n",
              "    <tr style=\"text-align: right;\">\n",
              "      <th></th>\n",
              "      <th>A</th>\n",
              "      <th>B</th>\n",
              "      <th>C</th>\n",
              "    </tr>\n",
              "  </thead>\n",
              "  <tbody>\n",
              "    <tr>\n",
              "      <th>0</th>\n",
              "      <td>1.000000</td>\n",
              "      <td>1.000000</td>\n",
              "      <td>1.000000</td>\n",
              "    </tr>\n",
              "    <tr>\n",
              "      <th>1</th>\n",
              "      <td>1.000000</td>\n",
              "      <td>1.166667</td>\n",
              "      <td>0.166667</td>\n",
              "    </tr>\n",
              "    <tr>\n",
              "      <th>2</th>\n",
              "      <td>1.333333</td>\n",
              "      <td>0.500000</td>\n",
              "      <td>0.333333</td>\n",
              "    </tr>\n",
              "  </tbody>\n",
              "</table>\n",
              "</div>"
            ],
            "text/plain": [
              "          A         B         C\n",
              "0  1.000000  1.000000  1.000000\n",
              "1  1.000000  1.166667  0.166667\n",
              "2  1.333333  0.500000  0.333333"
            ]
          },
          "execution_count": 147,
          "metadata": {},
          "output_type": "execute_result"
        }
      ],
      "source": [
        "df.truediv(df.iloc[0])"
      ]
    },
    {
      "cell_type": "code",
      "execution_count": 148,
      "metadata": {
        "id": "Q21li5Sk0TJw"
      },
      "outputs": [
        {
          "data": {
            "text/html": [
              "<div>\n",
              "<style scoped>\n",
              "    .dataframe tbody tr th:only-of-type {\n",
              "        vertical-align: middle;\n",
              "    }\n",
              "\n",
              "    .dataframe tbody tr th {\n",
              "        vertical-align: top;\n",
              "    }\n",
              "\n",
              "    .dataframe thead th {\n",
              "        text-align: right;\n",
              "    }\n",
              "</style>\n",
              "<table border=\"1\" class=\"dataframe\">\n",
              "  <thead>\n",
              "    <tr style=\"text-align: right;\">\n",
              "      <th></th>\n",
              "      <th>A</th>\n",
              "      <th>B</th>\n",
              "      <th>C</th>\n",
              "    </tr>\n",
              "  </thead>\n",
              "  <tbody>\n",
              "    <tr>\n",
              "      <th>0</th>\n",
              "      <td>1.000000</td>\n",
              "      <td>0.857143</td>\n",
              "      <td>6.0</td>\n",
              "    </tr>\n",
              "    <tr>\n",
              "      <th>1</th>\n",
              "      <td>1.000000</td>\n",
              "      <td>1.000000</td>\n",
              "      <td>1.0</td>\n",
              "    </tr>\n",
              "    <tr>\n",
              "      <th>2</th>\n",
              "      <td>1.333333</td>\n",
              "      <td>0.428571</td>\n",
              "      <td>2.0</td>\n",
              "    </tr>\n",
              "  </tbody>\n",
              "</table>\n",
              "</div>"
            ],
            "text/plain": [
              "          A         B    C\n",
              "0  1.000000  0.857143  6.0\n",
              "1  1.000000  1.000000  1.0\n",
              "2  1.333333  0.428571  2.0"
            ]
          },
          "execution_count": 148,
          "metadata": {},
          "output_type": "execute_result"
        }
      ],
      "source": [
        "df.div(df.iloc[1])"
      ]
    },
    {
      "cell_type": "code",
      "execution_count": 149,
      "metadata": {
        "id": "ct4NWN-rp4Gp"
      },
      "outputs": [
        {
          "data": {
            "text/html": [
              "<div>\n",
              "<style scoped>\n",
              "    .dataframe tbody tr th:only-of-type {\n",
              "        vertical-align: middle;\n",
              "    }\n",
              "\n",
              "    .dataframe tbody tr th {\n",
              "        vertical-align: top;\n",
              "    }\n",
              "\n",
              "    .dataframe thead th {\n",
              "        text-align: right;\n",
              "    }\n",
              "</style>\n",
              "<table border=\"1\" class=\"dataframe\">\n",
              "  <thead>\n",
              "    <tr style=\"text-align: right;\">\n",
              "      <th></th>\n",
              "      <th>A</th>\n",
              "      <th>B</th>\n",
              "      <th>C</th>\n",
              "    </tr>\n",
              "  </thead>\n",
              "  <tbody>\n",
              "    <tr>\n",
              "      <th>0</th>\n",
              "      <td>0.75</td>\n",
              "      <td>2.000000</td>\n",
              "      <td>3.0</td>\n",
              "    </tr>\n",
              "    <tr>\n",
              "      <th>1</th>\n",
              "      <td>0.75</td>\n",
              "      <td>2.333333</td>\n",
              "      <td>0.5</td>\n",
              "    </tr>\n",
              "    <tr>\n",
              "      <th>2</th>\n",
              "      <td>1.00</td>\n",
              "      <td>1.000000</td>\n",
              "      <td>1.0</td>\n",
              "    </tr>\n",
              "  </tbody>\n",
              "</table>\n",
              "</div>"
            ],
            "text/plain": [
              "      A         B    C\n",
              "0  0.75  2.000000  3.0\n",
              "1  0.75  2.333333  0.5\n",
              "2  1.00  1.000000  1.0"
            ]
          },
          "execution_count": 149,
          "metadata": {},
          "output_type": "execute_result"
        }
      ],
      "source": [
        "df.divide(df.iloc[2])"
      ]
    },
    {
      "cell_type": "code",
      "execution_count": 150,
      "metadata": {
        "id": "2ShseE-LiYxb"
      },
      "outputs": [
        {
          "data": {
            "text/plain": [
              "array([[1, 1, 1],\n",
              "       [1, 1, 0],\n",
              "       [1, 0, 0]])"
            ]
          },
          "execution_count": 150,
          "metadata": {},
          "output_type": "execute_result"
        }
      ],
      "source": [
        "a // a[0]"
      ]
    },
    {
      "cell_type": "code",
      "execution_count": 151,
      "metadata": {
        "id": "XAbDLNYqovd9"
      },
      "outputs": [
        {
          "data": {
            "text/html": [
              "<div>\n",
              "<style scoped>\n",
              "    .dataframe tbody tr th:only-of-type {\n",
              "        vertical-align: middle;\n",
              "    }\n",
              "\n",
              "    .dataframe tbody tr th {\n",
              "        vertical-align: top;\n",
              "    }\n",
              "\n",
              "    .dataframe thead th {\n",
              "        text-align: right;\n",
              "    }\n",
              "</style>\n",
              "<table border=\"1\" class=\"dataframe\">\n",
              "  <thead>\n",
              "    <tr style=\"text-align: right;\">\n",
              "      <th></th>\n",
              "      <th>A</th>\n",
              "      <th>B</th>\n",
              "      <th>C</th>\n",
              "    </tr>\n",
              "  </thead>\n",
              "  <tbody>\n",
              "    <tr>\n",
              "      <th>0</th>\n",
              "      <td>1</td>\n",
              "      <td>1</td>\n",
              "      <td>1</td>\n",
              "    </tr>\n",
              "    <tr>\n",
              "      <th>1</th>\n",
              "      <td>1</td>\n",
              "      <td>1</td>\n",
              "      <td>0</td>\n",
              "    </tr>\n",
              "    <tr>\n",
              "      <th>2</th>\n",
              "      <td>1</td>\n",
              "      <td>0</td>\n",
              "      <td>0</td>\n",
              "    </tr>\n",
              "  </tbody>\n",
              "</table>\n",
              "</div>"
            ],
            "text/plain": [
              "   A  B  C\n",
              "0  1  1  1\n",
              "1  1  1  0\n",
              "2  1  0  0"
            ]
          },
          "execution_count": 151,
          "metadata": {},
          "output_type": "execute_result"
        }
      ],
      "source": [
        "df.floordiv(df.iloc[0])"
      ]
    },
    {
      "cell_type": "markdown",
      "metadata": {
        "id": "kd9HSQ6y0SwS"
      },
      "source": [
        "#### mod()"
      ]
    },
    {
      "cell_type": "code",
      "execution_count": 152,
      "metadata": {
        "id": "EzEbDy4iqOFR"
      },
      "outputs": [
        {
          "data": {
            "text/plain": [
              "array([[3, 6, 6],\n",
              "       [3, 7, 1],\n",
              "       [4, 3, 2]])"
            ]
          },
          "execution_count": 152,
          "metadata": {},
          "output_type": "execute_result"
        }
      ],
      "source": [
        "a"
      ]
    },
    {
      "cell_type": "code",
      "execution_count": 153,
      "metadata": {
        "id": "twDUry6dipns"
      },
      "outputs": [
        {
          "data": {
            "text/plain": [
              "array([[0, 0, 0],\n",
              "       [0, 1, 1],\n",
              "       [1, 3, 2]])"
            ]
          },
          "execution_count": 153,
          "metadata": {},
          "output_type": "execute_result"
        }
      ],
      "source": [
        "a % a[0]"
      ]
    },
    {
      "cell_type": "code",
      "execution_count": 154,
      "metadata": {
        "id": "aqQMEZTdqPUN"
      },
      "outputs": [
        {
          "data": {
            "text/html": [
              "<div>\n",
              "<style scoped>\n",
              "    .dataframe tbody tr th:only-of-type {\n",
              "        vertical-align: middle;\n",
              "    }\n",
              "\n",
              "    .dataframe tbody tr th {\n",
              "        vertical-align: top;\n",
              "    }\n",
              "\n",
              "    .dataframe thead th {\n",
              "        text-align: right;\n",
              "    }\n",
              "</style>\n",
              "<table border=\"1\" class=\"dataframe\">\n",
              "  <thead>\n",
              "    <tr style=\"text-align: right;\">\n",
              "      <th></th>\n",
              "      <th>A</th>\n",
              "      <th>B</th>\n",
              "      <th>C</th>\n",
              "    </tr>\n",
              "  </thead>\n",
              "  <tbody>\n",
              "    <tr>\n",
              "      <th>0</th>\n",
              "      <td>3</td>\n",
              "      <td>6</td>\n",
              "      <td>6</td>\n",
              "    </tr>\n",
              "    <tr>\n",
              "      <th>1</th>\n",
              "      <td>3</td>\n",
              "      <td>7</td>\n",
              "      <td>1</td>\n",
              "    </tr>\n",
              "    <tr>\n",
              "      <th>2</th>\n",
              "      <td>4</td>\n",
              "      <td>3</td>\n",
              "      <td>2</td>\n",
              "    </tr>\n",
              "  </tbody>\n",
              "</table>\n",
              "</div>"
            ],
            "text/plain": [
              "   A  B  C\n",
              "0  3  6  6\n",
              "1  3  7  1\n",
              "2  4  3  2"
            ]
          },
          "execution_count": 154,
          "metadata": {},
          "output_type": "execute_result"
        }
      ],
      "source": [
        "df"
      ]
    },
    {
      "cell_type": "code",
      "execution_count": 155,
      "metadata": {
        "id": "NdXlrc8LqQUE"
      },
      "outputs": [
        {
          "data": {
            "text/html": [
              "<div>\n",
              "<style scoped>\n",
              "    .dataframe tbody tr th:only-of-type {\n",
              "        vertical-align: middle;\n",
              "    }\n",
              "\n",
              "    .dataframe tbody tr th {\n",
              "        vertical-align: top;\n",
              "    }\n",
              "\n",
              "    .dataframe thead th {\n",
              "        text-align: right;\n",
              "    }\n",
              "</style>\n",
              "<table border=\"1\" class=\"dataframe\">\n",
              "  <thead>\n",
              "    <tr style=\"text-align: right;\">\n",
              "      <th></th>\n",
              "      <th>A</th>\n",
              "      <th>B</th>\n",
              "      <th>C</th>\n",
              "    </tr>\n",
              "  </thead>\n",
              "  <tbody>\n",
              "    <tr>\n",
              "      <th>0</th>\n",
              "      <td>0</td>\n",
              "      <td>0</td>\n",
              "      <td>0</td>\n",
              "    </tr>\n",
              "    <tr>\n",
              "      <th>1</th>\n",
              "      <td>0</td>\n",
              "      <td>1</td>\n",
              "      <td>1</td>\n",
              "    </tr>\n",
              "    <tr>\n",
              "      <th>2</th>\n",
              "      <td>1</td>\n",
              "      <td>3</td>\n",
              "      <td>2</td>\n",
              "    </tr>\n",
              "  </tbody>\n",
              "</table>\n",
              "</div>"
            ],
            "text/plain": [
              "   A  B  C\n",
              "0  0  0  0\n",
              "1  0  1  1\n",
              "2  1  3  2"
            ]
          },
          "execution_count": 155,
          "metadata": {},
          "output_type": "execute_result"
        }
      ],
      "source": [
        "df.mod(df.iloc[0])"
      ]
    },
    {
      "cell_type": "markdown",
      "metadata": {
        "id": "U7ZuwbTDp9Se"
      },
      "source": [
        "#### pow()"
      ]
    },
    {
      "cell_type": "code",
      "execution_count": 156,
      "metadata": {
        "id": "zHZfX4K5qU0Y"
      },
      "outputs": [
        {
          "data": {
            "text/plain": [
              "array([[3, 6, 6],\n",
              "       [3, 7, 1],\n",
              "       [4, 3, 2]])"
            ]
          },
          "execution_count": 156,
          "metadata": {},
          "output_type": "execute_result"
        }
      ],
      "source": [
        "a"
      ]
    },
    {
      "cell_type": "code",
      "execution_count": 157,
      "metadata": {
        "id": "KpA3rMqAispd"
      },
      "outputs": [
        {
          "data": {
            "text/plain": [
              "array([[    27,  46656,  46656],\n",
              "       [    27, 117649,      1],\n",
              "       [    64,    729,     64]])"
            ]
          },
          "execution_count": 157,
          "metadata": {},
          "output_type": "execute_result"
        }
      ],
      "source": [
        "a ** a[0]"
      ]
    },
    {
      "cell_type": "code",
      "execution_count": 158,
      "metadata": {
        "id": "E0kXJgdWqWcw"
      },
      "outputs": [
        {
          "data": {
            "text/html": [
              "<div>\n",
              "<style scoped>\n",
              "    .dataframe tbody tr th:only-of-type {\n",
              "        vertical-align: middle;\n",
              "    }\n",
              "\n",
              "    .dataframe tbody tr th {\n",
              "        vertical-align: top;\n",
              "    }\n",
              "\n",
              "    .dataframe thead th {\n",
              "        text-align: right;\n",
              "    }\n",
              "</style>\n",
              "<table border=\"1\" class=\"dataframe\">\n",
              "  <thead>\n",
              "    <tr style=\"text-align: right;\">\n",
              "      <th></th>\n",
              "      <th>A</th>\n",
              "      <th>B</th>\n",
              "      <th>C</th>\n",
              "    </tr>\n",
              "  </thead>\n",
              "  <tbody>\n",
              "    <tr>\n",
              "      <th>0</th>\n",
              "      <td>3</td>\n",
              "      <td>6</td>\n",
              "      <td>6</td>\n",
              "    </tr>\n",
              "    <tr>\n",
              "      <th>1</th>\n",
              "      <td>3</td>\n",
              "      <td>7</td>\n",
              "      <td>1</td>\n",
              "    </tr>\n",
              "    <tr>\n",
              "      <th>2</th>\n",
              "      <td>4</td>\n",
              "      <td>3</td>\n",
              "      <td>2</td>\n",
              "    </tr>\n",
              "  </tbody>\n",
              "</table>\n",
              "</div>"
            ],
            "text/plain": [
              "   A  B  C\n",
              "0  3  6  6\n",
              "1  3  7  1\n",
              "2  4  3  2"
            ]
          },
          "execution_count": 158,
          "metadata": {},
          "output_type": "execute_result"
        }
      ],
      "source": [
        "df"
      ]
    },
    {
      "cell_type": "code",
      "execution_count": 159,
      "metadata": {
        "id": "x3QIEcXoqW27"
      },
      "outputs": [
        {
          "data": {
            "text/html": [
              "<div>\n",
              "<style scoped>\n",
              "    .dataframe tbody tr th:only-of-type {\n",
              "        vertical-align: middle;\n",
              "    }\n",
              "\n",
              "    .dataframe tbody tr th {\n",
              "        vertical-align: top;\n",
              "    }\n",
              "\n",
              "    .dataframe thead th {\n",
              "        text-align: right;\n",
              "    }\n",
              "</style>\n",
              "<table border=\"1\" class=\"dataframe\">\n",
              "  <thead>\n",
              "    <tr style=\"text-align: right;\">\n",
              "      <th></th>\n",
              "      <th>A</th>\n",
              "      <th>B</th>\n",
              "      <th>C</th>\n",
              "    </tr>\n",
              "  </thead>\n",
              "  <tbody>\n",
              "    <tr>\n",
              "      <th>0</th>\n",
              "      <td>27</td>\n",
              "      <td>46656</td>\n",
              "      <td>46656</td>\n",
              "    </tr>\n",
              "    <tr>\n",
              "      <th>1</th>\n",
              "      <td>27</td>\n",
              "      <td>117649</td>\n",
              "      <td>1</td>\n",
              "    </tr>\n",
              "    <tr>\n",
              "      <th>2</th>\n",
              "      <td>64</td>\n",
              "      <td>729</td>\n",
              "      <td>64</td>\n",
              "    </tr>\n",
              "  </tbody>\n",
              "</table>\n",
              "</div>"
            ],
            "text/plain": [
              "    A       B      C\n",
              "0  27   46656  46656\n",
              "1  27  117649      1\n",
              "2  64     729     64"
            ]
          },
          "execution_count": 159,
          "metadata": {},
          "output_type": "execute_result"
        }
      ],
      "source": [
        "df.pow(df.iloc[0])"
      ]
    },
    {
      "cell_type": "code",
      "execution_count": 160,
      "metadata": {
        "id": "CAZBCAMLqyLz"
      },
      "outputs": [
        {
          "data": {
            "text/plain": [
              "A    3\n",
              "C    6\n",
              "Name: 0, dtype: int64"
            ]
          },
          "execution_count": 160,
          "metadata": {},
          "output_type": "execute_result"
        }
      ],
      "source": [
        "row = df.iloc[0, ::2]\n",
        "row"
      ]
    },
    {
      "cell_type": "code",
      "execution_count": 161,
      "metadata": {
        "id": "s8fiykE0q5WM"
      },
      "outputs": [
        {
          "data": {
            "text/html": [
              "<div>\n",
              "<style scoped>\n",
              "    .dataframe tbody tr th:only-of-type {\n",
              "        vertical-align: middle;\n",
              "    }\n",
              "\n",
              "    .dataframe tbody tr th {\n",
              "        vertical-align: top;\n",
              "    }\n",
              "\n",
              "    .dataframe thead th {\n",
              "        text-align: right;\n",
              "    }\n",
              "</style>\n",
              "<table border=\"1\" class=\"dataframe\">\n",
              "  <thead>\n",
              "    <tr style=\"text-align: right;\">\n",
              "      <th></th>\n",
              "      <th>A</th>\n",
              "      <th>B</th>\n",
              "      <th>C</th>\n",
              "    </tr>\n",
              "  </thead>\n",
              "  <tbody>\n",
              "    <tr>\n",
              "      <th>0</th>\n",
              "      <td>0.0</td>\n",
              "      <td>NaN</td>\n",
              "      <td>0.0</td>\n",
              "    </tr>\n",
              "    <tr>\n",
              "      <th>1</th>\n",
              "      <td>0.0</td>\n",
              "      <td>NaN</td>\n",
              "      <td>-5.0</td>\n",
              "    </tr>\n",
              "    <tr>\n",
              "      <th>2</th>\n",
              "      <td>1.0</td>\n",
              "      <td>NaN</td>\n",
              "      <td>-4.0</td>\n",
              "    </tr>\n",
              "  </tbody>\n",
              "</table>\n",
              "</div>"
            ],
            "text/plain": [
              "     A   B    C\n",
              "0  0.0 NaN  0.0\n",
              "1  0.0 NaN -5.0\n",
              "2  1.0 NaN -4.0"
            ]
          },
          "execution_count": 161,
          "metadata": {},
          "output_type": "execute_result"
        }
      ],
      "source": [
        "df - row"
      ]
    },
    {
      "cell_type": "markdown",
      "metadata": {
        "id": "olpJULJ5x1KI"
      },
      "source": [
        "### 정렬(Sort)"
      ]
    },
    {
      "cell_type": "code",
      "execution_count": 162,
      "metadata": {
        "id": "Wplj3Uw00Isa"
      },
      "outputs": [
        {
          "data": {
            "text/plain": [
              "A    0\n",
              "D    1\n",
              "B    2\n",
              "C    3\n",
              "E    4\n",
              "dtype: int64"
            ]
          },
          "execution_count": 162,
          "metadata": {},
          "output_type": "execute_result"
        }
      ],
      "source": [
        "s = pd.Series(range(5), index=list('ADBCE'))\n",
        "s"
      ]
    },
    {
      "cell_type": "code",
      "execution_count": 163,
      "metadata": {
        "id": "6teCdpge0Xp6"
      },
      "outputs": [
        {
          "data": {
            "text/plain": [
              "A    0\n",
              "B    2\n",
              "C    3\n",
              "D    1\n",
              "E    4\n",
              "dtype: int64"
            ]
          },
          "execution_count": 163,
          "metadata": {},
          "output_type": "execute_result"
        }
      ],
      "source": [
        "s.sort_index()"
      ]
    },
    {
      "cell_type": "code",
      "execution_count": 164,
      "metadata": {
        "id": "l77lqhu71Nd4"
      },
      "outputs": [
        {
          "data": {
            "text/plain": [
              "A    0\n",
              "D    1\n",
              "B    2\n",
              "C    3\n",
              "E    4\n",
              "dtype: int64"
            ]
          },
          "execution_count": 164,
          "metadata": {},
          "output_type": "execute_result"
        }
      ],
      "source": [
        "s.sort_values()"
      ]
    },
    {
      "cell_type": "code",
      "execution_count": 165,
      "metadata": {
        "id": "HXw87Eo0x3tZ"
      },
      "outputs": [
        {
          "data": {
            "text/html": [
              "<div>\n",
              "<style scoped>\n",
              "    .dataframe tbody tr th:only-of-type {\n",
              "        vertical-align: middle;\n",
              "    }\n",
              "\n",
              "    .dataframe tbody tr th {\n",
              "        vertical-align: top;\n",
              "    }\n",
              "\n",
              "    .dataframe thead th {\n",
              "        text-align: right;\n",
              "    }\n",
              "</style>\n",
              "<table border=\"1\" class=\"dataframe\">\n",
              "  <thead>\n",
              "    <tr style=\"text-align: right;\">\n",
              "      <th></th>\n",
              "      <th>B</th>\n",
              "      <th>D</th>\n",
              "      <th>A</th>\n",
              "      <th>C</th>\n",
              "    </tr>\n",
              "  </thead>\n",
              "  <tbody>\n",
              "    <tr>\n",
              "      <th>2</th>\n",
              "      <td>3</td>\n",
              "      <td>6</td>\n",
              "      <td>1</td>\n",
              "      <td>0</td>\n",
              "    </tr>\n",
              "    <tr>\n",
              "      <th>4</th>\n",
              "      <td>4</td>\n",
              "      <td>8</td>\n",
              "      <td>6</td>\n",
              "      <td>5</td>\n",
              "    </tr>\n",
              "    <tr>\n",
              "      <th>1</th>\n",
              "      <td>4</td>\n",
              "      <td>5</td>\n",
              "      <td>0</td>\n",
              "      <td>3</td>\n",
              "    </tr>\n",
              "    <tr>\n",
              "      <th>3</th>\n",
              "      <td>6</td>\n",
              "      <td>1</td>\n",
              "      <td>4</td>\n",
              "      <td>3</td>\n",
              "    </tr>\n",
              "  </tbody>\n",
              "</table>\n",
              "</div>"
            ],
            "text/plain": [
              "   B  D  A  C\n",
              "2  3  6  1  0\n",
              "4  4  8  6  5\n",
              "1  4  5  0  3\n",
              "3  6  1  4  3"
            ]
          },
          "execution_count": 165,
          "metadata": {},
          "output_type": "execute_result"
        }
      ],
      "source": [
        "df = pd.DataFrame(np.random.randint(0, 10, (4, 4)),\n",
        "                                    index=[2, 4, 1, 3],\n",
        "                                    columns=list('BDAC'))\n",
        "df"
      ]
    },
    {
      "cell_type": "code",
      "execution_count": 166,
      "metadata": {
        "id": "EOsqFoi2zMZ3"
      },
      "outputs": [
        {
          "data": {
            "text/html": [
              "<div>\n",
              "<style scoped>\n",
              "    .dataframe tbody tr th:only-of-type {\n",
              "        vertical-align: middle;\n",
              "    }\n",
              "\n",
              "    .dataframe tbody tr th {\n",
              "        vertical-align: top;\n",
              "    }\n",
              "\n",
              "    .dataframe thead th {\n",
              "        text-align: right;\n",
              "    }\n",
              "</style>\n",
              "<table border=\"1\" class=\"dataframe\">\n",
              "  <thead>\n",
              "    <tr style=\"text-align: right;\">\n",
              "      <th></th>\n",
              "      <th>B</th>\n",
              "      <th>D</th>\n",
              "      <th>A</th>\n",
              "      <th>C</th>\n",
              "    </tr>\n",
              "  </thead>\n",
              "  <tbody>\n",
              "    <tr>\n",
              "      <th>1</th>\n",
              "      <td>4</td>\n",
              "      <td>5</td>\n",
              "      <td>0</td>\n",
              "      <td>3</td>\n",
              "    </tr>\n",
              "    <tr>\n",
              "      <th>2</th>\n",
              "      <td>3</td>\n",
              "      <td>6</td>\n",
              "      <td>1</td>\n",
              "      <td>0</td>\n",
              "    </tr>\n",
              "    <tr>\n",
              "      <th>3</th>\n",
              "      <td>6</td>\n",
              "      <td>1</td>\n",
              "      <td>4</td>\n",
              "      <td>3</td>\n",
              "    </tr>\n",
              "    <tr>\n",
              "      <th>4</th>\n",
              "      <td>4</td>\n",
              "      <td>8</td>\n",
              "      <td>6</td>\n",
              "      <td>5</td>\n",
              "    </tr>\n",
              "  </tbody>\n",
              "</table>\n",
              "</div>"
            ],
            "text/plain": [
              "   B  D  A  C\n",
              "1  4  5  0  3\n",
              "2  3  6  1  0\n",
              "3  6  1  4  3\n",
              "4  4  8  6  5"
            ]
          },
          "execution_count": 166,
          "metadata": {},
          "output_type": "execute_result"
        }
      ],
      "source": [
        "df.sort_index()"
      ]
    },
    {
      "cell_type": "code",
      "execution_count": 167,
      "metadata": {},
      "outputs": [
        {
          "data": {
            "text/html": [
              "<div>\n",
              "<style scoped>\n",
              "    .dataframe tbody tr th:only-of-type {\n",
              "        vertical-align: middle;\n",
              "    }\n",
              "\n",
              "    .dataframe tbody tr th {\n",
              "        vertical-align: top;\n",
              "    }\n",
              "\n",
              "    .dataframe thead th {\n",
              "        text-align: right;\n",
              "    }\n",
              "</style>\n",
              "<table border=\"1\" class=\"dataframe\">\n",
              "  <thead>\n",
              "    <tr style=\"text-align: right;\">\n",
              "      <th></th>\n",
              "      <th>A</th>\n",
              "      <th>B</th>\n",
              "      <th>C</th>\n",
              "      <th>D</th>\n",
              "    </tr>\n",
              "  </thead>\n",
              "  <tbody>\n",
              "    <tr>\n",
              "      <th>2</th>\n",
              "      <td>1</td>\n",
              "      <td>3</td>\n",
              "      <td>0</td>\n",
              "      <td>6</td>\n",
              "    </tr>\n",
              "    <tr>\n",
              "      <th>4</th>\n",
              "      <td>6</td>\n",
              "      <td>4</td>\n",
              "      <td>5</td>\n",
              "      <td>8</td>\n",
              "    </tr>\n",
              "    <tr>\n",
              "      <th>1</th>\n",
              "      <td>0</td>\n",
              "      <td>4</td>\n",
              "      <td>3</td>\n",
              "      <td>5</td>\n",
              "    </tr>\n",
              "    <tr>\n",
              "      <th>3</th>\n",
              "      <td>4</td>\n",
              "      <td>6</td>\n",
              "      <td>3</td>\n",
              "      <td>1</td>\n",
              "    </tr>\n",
              "  </tbody>\n",
              "</table>\n",
              "</div>"
            ],
            "text/plain": [
              "   A  B  C  D\n",
              "2  1  3  0  6\n",
              "4  6  4  5  8\n",
              "1  0  4  3  5\n",
              "3  4  6  3  1"
            ]
          },
          "execution_count": 167,
          "metadata": {},
          "output_type": "execute_result"
        }
      ],
      "source": [
        "df.sort_index(axis=1)"
      ]
    },
    {
      "cell_type": "code",
      "execution_count": 168,
      "metadata": {
        "id": "FZ8zzlx90kqU"
      },
      "outputs": [
        {
          "data": {
            "text/html": [
              "<div>\n",
              "<style scoped>\n",
              "    .dataframe tbody tr th:only-of-type {\n",
              "        vertical-align: middle;\n",
              "    }\n",
              "\n",
              "    .dataframe tbody tr th {\n",
              "        vertical-align: top;\n",
              "    }\n",
              "\n",
              "    .dataframe thead th {\n",
              "        text-align: right;\n",
              "    }\n",
              "</style>\n",
              "<table border=\"1\" class=\"dataframe\">\n",
              "  <thead>\n",
              "    <tr style=\"text-align: right;\">\n",
              "      <th></th>\n",
              "      <th>B</th>\n",
              "      <th>D</th>\n",
              "      <th>A</th>\n",
              "      <th>C</th>\n",
              "    </tr>\n",
              "  </thead>\n",
              "  <tbody>\n",
              "    <tr>\n",
              "      <th>1</th>\n",
              "      <td>4</td>\n",
              "      <td>5</td>\n",
              "      <td>0</td>\n",
              "      <td>3</td>\n",
              "    </tr>\n",
              "    <tr>\n",
              "      <th>2</th>\n",
              "      <td>3</td>\n",
              "      <td>6</td>\n",
              "      <td>1</td>\n",
              "      <td>0</td>\n",
              "    </tr>\n",
              "    <tr>\n",
              "      <th>3</th>\n",
              "      <td>6</td>\n",
              "      <td>1</td>\n",
              "      <td>4</td>\n",
              "      <td>3</td>\n",
              "    </tr>\n",
              "    <tr>\n",
              "      <th>4</th>\n",
              "      <td>4</td>\n",
              "      <td>8</td>\n",
              "      <td>6</td>\n",
              "      <td>5</td>\n",
              "    </tr>\n",
              "  </tbody>\n",
              "</table>\n",
              "</div>"
            ],
            "text/plain": [
              "   B  D  A  C\n",
              "1  4  5  0  3\n",
              "2  3  6  1  0\n",
              "3  6  1  4  3\n",
              "4  4  8  6  5"
            ]
          },
          "execution_count": 168,
          "metadata": {},
          "output_type": "execute_result"
        }
      ],
      "source": [
        "df.sort_values(by='A')"
      ]
    },
    {
      "cell_type": "code",
      "execution_count": 169,
      "metadata": {
        "id": "cfbgpa6R1T1r"
      },
      "outputs": [
        {
          "data": {
            "text/html": [
              "<div>\n",
              "<style scoped>\n",
              "    .dataframe tbody tr th:only-of-type {\n",
              "        vertical-align: middle;\n",
              "    }\n",
              "\n",
              "    .dataframe tbody tr th {\n",
              "        vertical-align: top;\n",
              "    }\n",
              "\n",
              "    .dataframe thead th {\n",
              "        text-align: right;\n",
              "    }\n",
              "</style>\n",
              "<table border=\"1\" class=\"dataframe\">\n",
              "  <thead>\n",
              "    <tr style=\"text-align: right;\">\n",
              "      <th></th>\n",
              "      <th>B</th>\n",
              "      <th>D</th>\n",
              "      <th>A</th>\n",
              "      <th>C</th>\n",
              "    </tr>\n",
              "  </thead>\n",
              "  <tbody>\n",
              "    <tr>\n",
              "      <th>1</th>\n",
              "      <td>4</td>\n",
              "      <td>5</td>\n",
              "      <td>0</td>\n",
              "      <td>3</td>\n",
              "    </tr>\n",
              "    <tr>\n",
              "      <th>2</th>\n",
              "      <td>3</td>\n",
              "      <td>6</td>\n",
              "      <td>1</td>\n",
              "      <td>0</td>\n",
              "    </tr>\n",
              "    <tr>\n",
              "      <th>3</th>\n",
              "      <td>6</td>\n",
              "      <td>1</td>\n",
              "      <td>4</td>\n",
              "      <td>3</td>\n",
              "    </tr>\n",
              "    <tr>\n",
              "      <th>4</th>\n",
              "      <td>4</td>\n",
              "      <td>8</td>\n",
              "      <td>6</td>\n",
              "      <td>5</td>\n",
              "    </tr>\n",
              "  </tbody>\n",
              "</table>\n",
              "</div>"
            ],
            "text/plain": [
              "   B  D  A  C\n",
              "1  4  5  0  3\n",
              "2  3  6  1  0\n",
              "3  6  1  4  3\n",
              "4  4  8  6  5"
            ]
          },
          "execution_count": 169,
          "metadata": {},
          "output_type": "execute_result"
        }
      ],
      "source": [
        "df.sort_values(by=['A', 'C'])"
      ]
    },
    {
      "cell_type": "markdown",
      "metadata": {
        "id": "Xrv5nCNj3K-0"
      },
      "source": [
        "### 순위(Ranking)\n"
      ]
    },
    {
      "cell_type": "code",
      "execution_count": 170,
      "metadata": {
        "id": "GYroEZZ4105r"
      },
      "outputs": [
        {
          "data": {
            "text/plain": [
              "0   -2\n",
              "1    4\n",
              "2    5\n",
              "3    7\n",
              "4    2\n",
              "5   -1\n",
              "6    4\n",
              "7    9\n",
              "8    4\n",
              "9   -1\n",
              "dtype: int64"
            ]
          },
          "execution_count": 170,
          "metadata": {},
          "output_type": "execute_result"
        }
      ],
      "source": [
        "s = pd.Series([-2, 4, 5, 7, 2, -1, 4, 9, 4, -1])\n",
        "s"
      ]
    },
    {
      "cell_type": "code",
      "execution_count": 171,
      "metadata": {
        "id": "S4pX_jtq2ih3"
      },
      "outputs": [
        {
          "data": {
            "text/plain": [
              "0     1.0\n",
              "1     6.0\n",
              "2     8.0\n",
              "3     9.0\n",
              "4     4.0\n",
              "5     2.5\n",
              "6     6.0\n",
              "7    10.0\n",
              "8     6.0\n",
              "9     2.5\n",
              "dtype: float64"
            ]
          },
          "execution_count": 171,
          "metadata": {},
          "output_type": "execute_result"
        }
      ],
      "source": [
        "s.rank()"
      ]
    },
    {
      "cell_type": "code",
      "execution_count": 172,
      "metadata": {
        "id": "qBjoTMbx2keP"
      },
      "outputs": [
        {
          "data": {
            "text/plain": [
              "0     1.0\n",
              "1     5.0\n",
              "2     8.0\n",
              "3     9.0\n",
              "4     4.0\n",
              "5     2.0\n",
              "6     6.0\n",
              "7    10.0\n",
              "8     7.0\n",
              "9     3.0\n",
              "dtype: float64"
            ]
          },
          "execution_count": 172,
          "metadata": {},
          "output_type": "execute_result"
        }
      ],
      "source": [
        "s.rank(method='first')"
      ]
    },
    {
      "cell_type": "code",
      "execution_count": 173,
      "metadata": {
        "id": "QRI_Z5KO2zG4"
      },
      "outputs": [
        {
          "data": {
            "text/plain": [
              "0     1.0\n",
              "1     5.0\n",
              "2     8.0\n",
              "3     9.0\n",
              "4     4.0\n",
              "5     2.0\n",
              "6     5.0\n",
              "7    10.0\n",
              "8     5.0\n",
              "9     2.0\n",
              "dtype: float64"
            ]
          },
          "execution_count": 173,
          "metadata": {},
          "output_type": "execute_result"
        }
      ],
      "source": [
        "s.rank(method='min')"
      ]
    },
    {
      "cell_type": "markdown",
      "metadata": {
        "id": "P6wc1ajiQe4r"
      },
      "source": [
        "### 고성능 연산"
      ]
    },
    {
      "cell_type": "code",
      "execution_count": 174,
      "metadata": {
        "id": "E4u2T6oSQhFu"
      },
      "outputs": [],
      "source": [
        "nrows, ncols = 100000, 100\n",
        "df1, df2, df3, df4 = (pd.DataFrame(np.random.rand(nrows, ncols)) for i in range(4))"
      ]
    },
    {
      "cell_type": "code",
      "execution_count": 175,
      "metadata": {
        "id": "SGg14HnyQvk2"
      },
      "outputs": [
        {
          "name": "stdout",
          "output_type": "stream",
          "text": [
            "8.19 ms ± 11.8 µs per loop (mean ± std. dev. of 7 runs, 100 loops each)\n"
          ]
        }
      ],
      "source": [
        "%timeit df1 + df2 + df3 + df4"
      ]
    },
    {
      "cell_type": "code",
      "execution_count": 176,
      "metadata": {
        "id": "k_GkpEnMQ0Fi"
      },
      "outputs": [
        {
          "name": "stdout",
          "output_type": "stream",
          "text": [
            "5.36 ms ± 41 µs per loop (mean ± std. dev. of 7 runs, 100 loops each)\n"
          ]
        }
      ],
      "source": [
        "%timeit pd.eval('df1 + df2 + df3 + df4')"
      ]
    },
    {
      "cell_type": "code",
      "execution_count": 177,
      "metadata": {
        "id": "qPAdmY8cQ7Sn"
      },
      "outputs": [
        {
          "name": "stdout",
          "output_type": "stream",
          "text": [
            "14.7 ms ± 165 µs per loop (mean ± std. dev. of 7 runs, 100 loops each)\n"
          ]
        }
      ],
      "source": [
        "%timeit df1 * -df2 / (-df3 * df4)"
      ]
    },
    {
      "cell_type": "code",
      "execution_count": 178,
      "metadata": {
        "id": "eZzfGsGuRE3e"
      },
      "outputs": [
        {
          "name": "stdout",
          "output_type": "stream",
          "text": [
            "5.58 ms ± 78.2 µs per loop (mean ± std. dev. of 7 runs, 100 loops each)\n"
          ]
        }
      ],
      "source": [
        "%timeit pd.eval('df1 * -df2 / (-df3 * df4)')"
      ]
    },
    {
      "cell_type": "code",
      "execution_count": 179,
      "metadata": {
        "id": "snts2jL2RVq-"
      },
      "outputs": [
        {
          "name": "stdout",
          "output_type": "stream",
          "text": [
            "9.12 ms ± 21.4 µs per loop (mean ± std. dev. of 7 runs, 100 loops each)\n"
          ]
        }
      ],
      "source": [
        "%timeit (df1 < df2) & (df2 <= df3) & (df3 != df4)"
      ]
    },
    {
      "cell_type": "code",
      "execution_count": 180,
      "metadata": {
        "id": "nb6RYOJtRdE8"
      },
      "outputs": [
        {
          "name": "stdout",
          "output_type": "stream",
          "text": [
            "11.5 ms ± 103 µs per loop (mean ± std. dev. of 7 runs, 100 loops each)\n"
          ]
        }
      ],
      "source": [
        "%timeit pd.eval('(df1 < df2) & (df2 <= df3) & (df3 != df4)')"
      ]
    },
    {
      "cell_type": "code",
      "execution_count": 181,
      "metadata": {
        "id": "MPmsqO2jRyVp"
      },
      "outputs": [
        {
          "data": {
            "text/html": [
              "<div>\n",
              "<style scoped>\n",
              "    .dataframe tbody tr th:only-of-type {\n",
              "        vertical-align: middle;\n",
              "    }\n",
              "\n",
              "    .dataframe tbody tr th {\n",
              "        vertical-align: top;\n",
              "    }\n",
              "\n",
              "    .dataframe thead th {\n",
              "        text-align: right;\n",
              "    }\n",
              "</style>\n",
              "<table border=\"1\" class=\"dataframe\">\n",
              "  <thead>\n",
              "    <tr style=\"text-align: right;\">\n",
              "      <th></th>\n",
              "      <th>A</th>\n",
              "      <th>B</th>\n",
              "      <th>C</th>\n",
              "      <th>D</th>\n",
              "      <th>E</th>\n",
              "    </tr>\n",
              "  </thead>\n",
              "  <tbody>\n",
              "    <tr>\n",
              "      <th>0</th>\n",
              "      <td>0.557640</td>\n",
              "      <td>0.699168</td>\n",
              "      <td>0.855364</td>\n",
              "      <td>0.776106</td>\n",
              "      <td>0.909158</td>\n",
              "    </tr>\n",
              "    <tr>\n",
              "      <th>1</th>\n",
              "      <td>0.326209</td>\n",
              "      <td>0.095715</td>\n",
              "      <td>0.806076</td>\n",
              "      <td>0.163647</td>\n",
              "      <td>0.248770</td>\n",
              "    </tr>\n",
              "    <tr>\n",
              "      <th>2</th>\n",
              "      <td>0.972695</td>\n",
              "      <td>0.310504</td>\n",
              "      <td>0.079310</td>\n",
              "      <td>0.854444</td>\n",
              "      <td>0.554816</td>\n",
              "    </tr>\n",
              "    <tr>\n",
              "      <th>3</th>\n",
              "      <td>0.840619</td>\n",
              "      <td>0.429751</td>\n",
              "      <td>0.501187</td>\n",
              "      <td>0.213000</td>\n",
              "      <td>0.508882</td>\n",
              "    </tr>\n",
              "    <tr>\n",
              "      <th>4</th>\n",
              "      <td>0.003434</td>\n",
              "      <td>0.830062</td>\n",
              "      <td>0.678627</td>\n",
              "      <td>0.356220</td>\n",
              "      <td>0.155991</td>\n",
              "    </tr>\n",
              "  </tbody>\n",
              "</table>\n",
              "</div>"
            ],
            "text/plain": [
              "          A         B         C         D         E\n",
              "0  0.557640  0.699168  0.855364  0.776106  0.909158\n",
              "1  0.326209  0.095715  0.806076  0.163647  0.248770\n",
              "2  0.972695  0.310504  0.079310  0.854444  0.554816\n",
              "3  0.840619  0.429751  0.501187  0.213000  0.508882\n",
              "4  0.003434  0.830062  0.678627  0.356220  0.155991"
            ]
          },
          "execution_count": 181,
          "metadata": {},
          "output_type": "execute_result"
        }
      ],
      "source": [
        "df = pd.DataFrame(np.random.rand(1000000, 5), columns=list('ABCDE'))\n",
        "df.head()"
      ]
    },
    {
      "cell_type": "code",
      "execution_count": 182,
      "metadata": {
        "id": "GNbooD08TyAD"
      },
      "outputs": [
        {
          "name": "stdout",
          "output_type": "stream",
          "text": [
            "3.71 ms ± 11.4 µs per loop (mean ± std. dev. of 7 runs, 100 loops each)\n"
          ]
        }
      ],
      "source": [
        "%timeit df['A'] + df['B'] / df['C'] - df['D'] * df['E']"
      ]
    },
    {
      "cell_type": "code",
      "execution_count": 183,
      "metadata": {
        "id": "fgwU0lS4UOl0"
      },
      "outputs": [
        {
          "name": "stdout",
          "output_type": "stream",
          "text": [
            "1.84 ms ± 25.2 µs per loop (mean ± std. dev. of 7 runs, 1000 loops each)\n"
          ]
        }
      ],
      "source": [
        "#%timeit pd.eval(\"df['A'] + df['B'] / df['C'] - df['D'] * df['E']\")\n",
        "#python 3.9.9에선 작동함\n",
        "%timeit pd.eval(\"df.A + df.B / df.C - df.D * df.E\")"
      ]
    },
    {
      "cell_type": "code",
      "execution_count": 184,
      "metadata": {
        "id": "roVl8OAOUiHt"
      },
      "outputs": [
        {
          "name": "stdout",
          "output_type": "stream",
          "text": [
            "2.8 ms ± 43.8 µs per loop (mean ± std. dev. of 7 runs, 100 loops each)\n"
          ]
        }
      ],
      "source": [
        "%timeit df.eval('A + B / C - D * E')"
      ]
    },
    {
      "cell_type": "code",
      "execution_count": 185,
      "metadata": {
        "id": "Hud7fAOtVGDC"
      },
      "outputs": [
        {
          "data": {
            "text/html": [
              "<div>\n",
              "<style scoped>\n",
              "    .dataframe tbody tr th:only-of-type {\n",
              "        vertical-align: middle;\n",
              "    }\n",
              "\n",
              "    .dataframe tbody tr th {\n",
              "        vertical-align: top;\n",
              "    }\n",
              "\n",
              "    .dataframe thead th {\n",
              "        text-align: right;\n",
              "    }\n",
              "</style>\n",
              "<table border=\"1\" class=\"dataframe\">\n",
              "  <thead>\n",
              "    <tr style=\"text-align: right;\">\n",
              "      <th></th>\n",
              "      <th>A</th>\n",
              "      <th>B</th>\n",
              "      <th>C</th>\n",
              "      <th>D</th>\n",
              "      <th>E</th>\n",
              "      <th>R</th>\n",
              "    </tr>\n",
              "  </thead>\n",
              "  <tbody>\n",
              "    <tr>\n",
              "      <th>0</th>\n",
              "      <td>0.557640</td>\n",
              "      <td>0.699168</td>\n",
              "      <td>0.855364</td>\n",
              "      <td>0.776106</td>\n",
              "      <td>0.909158</td>\n",
              "      <td>0.669429</td>\n",
              "    </tr>\n",
              "    <tr>\n",
              "      <th>1</th>\n",
              "      <td>0.326209</td>\n",
              "      <td>0.095715</td>\n",
              "      <td>0.806076</td>\n",
              "      <td>0.163647</td>\n",
              "      <td>0.248770</td>\n",
              "      <td>0.404241</td>\n",
              "    </tr>\n",
              "    <tr>\n",
              "      <th>2</th>\n",
              "      <td>0.972695</td>\n",
              "      <td>0.310504</td>\n",
              "      <td>0.079310</td>\n",
              "      <td>0.854444</td>\n",
              "      <td>0.554816</td>\n",
              "      <td>4.413725</td>\n",
              "    </tr>\n",
              "    <tr>\n",
              "      <th>3</th>\n",
              "      <td>0.840619</td>\n",
              "      <td>0.429751</td>\n",
              "      <td>0.501187</td>\n",
              "      <td>0.213000</td>\n",
              "      <td>0.508882</td>\n",
              "      <td>1.589692</td>\n",
              "    </tr>\n",
              "    <tr>\n",
              "      <th>4</th>\n",
              "      <td>0.003434</td>\n",
              "      <td>0.830062</td>\n",
              "      <td>0.678627</td>\n",
              "      <td>0.356220</td>\n",
              "      <td>0.155991</td>\n",
              "      <td>1.171015</td>\n",
              "    </tr>\n",
              "  </tbody>\n",
              "</table>\n",
              "</div>"
            ],
            "text/plain": [
              "          A         B         C         D         E         R\n",
              "0  0.557640  0.699168  0.855364  0.776106  0.909158  0.669429\n",
              "1  0.326209  0.095715  0.806076  0.163647  0.248770  0.404241\n",
              "2  0.972695  0.310504  0.079310  0.854444  0.554816  4.413725\n",
              "3  0.840619  0.429751  0.501187  0.213000  0.508882  1.589692\n",
              "4  0.003434  0.830062  0.678627  0.356220  0.155991  1.171015"
            ]
          },
          "execution_count": 185,
          "metadata": {},
          "output_type": "execute_result"
        }
      ],
      "source": [
        "df.eval('R = A + B / C - D * E', inplace=True)\n",
        "df.head()"
      ]
    },
    {
      "cell_type": "code",
      "execution_count": 186,
      "metadata": {
        "id": "qFaoM0OBVUbX"
      },
      "outputs": [
        {
          "data": {
            "text/html": [
              "<div>\n",
              "<style scoped>\n",
              "    .dataframe tbody tr th:only-of-type {\n",
              "        vertical-align: middle;\n",
              "    }\n",
              "\n",
              "    .dataframe tbody tr th {\n",
              "        vertical-align: top;\n",
              "    }\n",
              "\n",
              "    .dataframe thead th {\n",
              "        text-align: right;\n",
              "    }\n",
              "</style>\n",
              "<table border=\"1\" class=\"dataframe\">\n",
              "  <thead>\n",
              "    <tr style=\"text-align: right;\">\n",
              "      <th></th>\n",
              "      <th>A</th>\n",
              "      <th>B</th>\n",
              "      <th>C</th>\n",
              "      <th>D</th>\n",
              "      <th>E</th>\n",
              "      <th>R</th>\n",
              "    </tr>\n",
              "  </thead>\n",
              "  <tbody>\n",
              "    <tr>\n",
              "      <th>0</th>\n",
              "      <td>0.557640</td>\n",
              "      <td>0.699168</td>\n",
              "      <td>0.855364</td>\n",
              "      <td>0.776106</td>\n",
              "      <td>0.909158</td>\n",
              "      <td>0.445852</td>\n",
              "    </tr>\n",
              "    <tr>\n",
              "      <th>1</th>\n",
              "      <td>0.326209</td>\n",
              "      <td>0.095715</td>\n",
              "      <td>0.806076</td>\n",
              "      <td>0.163647</td>\n",
              "      <td>0.248770</td>\n",
              "      <td>0.248177</td>\n",
              "    </tr>\n",
              "    <tr>\n",
              "      <th>2</th>\n",
              "      <td>0.972695</td>\n",
              "      <td>0.310504</td>\n",
              "      <td>0.079310</td>\n",
              "      <td>0.854444</td>\n",
              "      <td>0.554816</td>\n",
              "      <td>-2.468336</td>\n",
              "    </tr>\n",
              "    <tr>\n",
              "      <th>3</th>\n",
              "      <td>0.840619</td>\n",
              "      <td>0.429751</td>\n",
              "      <td>0.501187</td>\n",
              "      <td>0.213000</td>\n",
              "      <td>0.508882</td>\n",
              "      <td>0.091545</td>\n",
              "    </tr>\n",
              "    <tr>\n",
              "      <th>4</th>\n",
              "      <td>0.003434</td>\n",
              "      <td>0.830062</td>\n",
              "      <td>0.678627</td>\n",
              "      <td>0.356220</td>\n",
              "      <td>0.155991</td>\n",
              "      <td>-1.164147</td>\n",
              "    </tr>\n",
              "  </tbody>\n",
              "</table>\n",
              "</div>"
            ],
            "text/plain": [
              "          A         B         C         D         E         R\n",
              "0  0.557640  0.699168  0.855364  0.776106  0.909158  0.445852\n",
              "1  0.326209  0.095715  0.806076  0.163647  0.248770  0.248177\n",
              "2  0.972695  0.310504  0.079310  0.854444  0.554816 -2.468336\n",
              "3  0.840619  0.429751  0.501187  0.213000  0.508882  0.091545\n",
              "4  0.003434  0.830062  0.678627  0.356220  0.155991 -1.164147"
            ]
          },
          "execution_count": 186,
          "metadata": {},
          "output_type": "execute_result"
        }
      ],
      "source": [
        "df.eval('R = A - B / C + D * E', inplace=True)\n",
        "df.head()"
      ]
    },
    {
      "cell_type": "code",
      "execution_count": 187,
      "metadata": {
        "id": "3_Z4QpBuVrJY"
      },
      "outputs": [
        {
          "data": {
            "text/plain": [
              "0         1.264855\n",
              "1         0.640975\n",
              "2         1.023267\n",
              "3         1.271449\n",
              "4         0.146798\n",
              "            ...   \n",
              "999995    0.431790\n",
              "999996    0.292273\n",
              "999997    0.400090\n",
              "999998    0.542885\n",
              "999999    0.579232\n",
              "Length: 1000000, dtype: float64"
            ]
          },
          "execution_count": 187,
          "metadata": {},
          "output_type": "execute_result"
        }
      ],
      "source": [
        "col_mean = df.mean(1)\n",
        "df['A'] + col_mean"
      ]
    },
    {
      "cell_type": "code",
      "execution_count": 188,
      "metadata": {
        "id": "Ge5N1eHXV7hs"
      },
      "outputs": [
        {
          "data": {
            "text/plain": [
              "0         1.264855\n",
              "1         0.640975\n",
              "2         1.023267\n",
              "3         1.271449\n",
              "4         0.146798\n",
              "            ...   \n",
              "999995    0.431790\n",
              "999996    0.292273\n",
              "999997    0.400090\n",
              "999998    0.542885\n",
              "999999    0.579232\n",
              "Length: 1000000, dtype: float64"
            ]
          },
          "execution_count": 188,
          "metadata": {},
          "output_type": "execute_result"
        }
      ],
      "source": [
        "df.eval('A + @col_mean')  #@: 외부 변수 참조"
      ]
    },
    {
      "cell_type": "code",
      "execution_count": 189,
      "metadata": {
        "id": "lSoS8MRFWKSm"
      },
      "outputs": [
        {
          "data": {
            "text/html": [
              "<div>\n",
              "<style scoped>\n",
              "    .dataframe tbody tr th:only-of-type {\n",
              "        vertical-align: middle;\n",
              "    }\n",
              "\n",
              "    .dataframe tbody tr th {\n",
              "        vertical-align: top;\n",
              "    }\n",
              "\n",
              "    .dataframe thead th {\n",
              "        text-align: right;\n",
              "    }\n",
              "</style>\n",
              "<table border=\"1\" class=\"dataframe\">\n",
              "  <thead>\n",
              "    <tr style=\"text-align: right;\">\n",
              "      <th></th>\n",
              "      <th>A</th>\n",
              "      <th>B</th>\n",
              "      <th>C</th>\n",
              "      <th>D</th>\n",
              "      <th>E</th>\n",
              "      <th>R</th>\n",
              "    </tr>\n",
              "  </thead>\n",
              "  <tbody>\n",
              "    <tr>\n",
              "      <th>25</th>\n",
              "      <td>0.220112</td>\n",
              "      <td>0.179811</td>\n",
              "      <td>0.343685</td>\n",
              "      <td>0.870182</td>\n",
              "      <td>0.282334</td>\n",
              "      <td>-0.057393</td>\n",
              "    </tr>\n",
              "    <tr>\n",
              "      <th>27</th>\n",
              "      <td>0.085207</td>\n",
              "      <td>0.048252</td>\n",
              "      <td>0.115417</td>\n",
              "      <td>0.253180</td>\n",
              "      <td>0.196068</td>\n",
              "      <td>-0.283221</td>\n",
              "    </tr>\n",
              "    <tr>\n",
              "      <th>28</th>\n",
              "      <td>0.381892</td>\n",
              "      <td>0.082431</td>\n",
              "      <td>0.128601</td>\n",
              "      <td>0.125830</td>\n",
              "      <td>0.926479</td>\n",
              "      <td>-0.142514</td>\n",
              "    </tr>\n",
              "    <tr>\n",
              "      <th>38</th>\n",
              "      <td>0.314158</td>\n",
              "      <td>0.460602</td>\n",
              "      <td>0.497980</td>\n",
              "      <td>0.190599</td>\n",
              "      <td>0.460359</td>\n",
              "      <td>-0.523038</td>\n",
              "    </tr>\n",
              "    <tr>\n",
              "      <th>41</th>\n",
              "      <td>0.172141</td>\n",
              "      <td>0.127803</td>\n",
              "      <td>0.432127</td>\n",
              "      <td>0.592307</td>\n",
              "      <td>0.757997</td>\n",
              "      <td>0.325355</td>\n",
              "    </tr>\n",
              "    <tr>\n",
              "      <th>...</th>\n",
              "      <td>...</td>\n",
              "      <td>...</td>\n",
              "      <td>...</td>\n",
              "      <td>...</td>\n",
              "      <td>...</td>\n",
              "      <td>...</td>\n",
              "    </tr>\n",
              "    <tr>\n",
              "      <th>999966</th>\n",
              "      <td>0.087939</td>\n",
              "      <td>0.388269</td>\n",
              "      <td>0.173828</td>\n",
              "      <td>0.011049</td>\n",
              "      <td>0.981142</td>\n",
              "      <td>-2.134851</td>\n",
              "    </tr>\n",
              "    <tr>\n",
              "      <th>999983</th>\n",
              "      <td>0.042207</td>\n",
              "      <td>0.423287</td>\n",
              "      <td>0.364575</td>\n",
              "      <td>0.844768</td>\n",
              "      <td>0.182543</td>\n",
              "      <td>-0.964627</td>\n",
              "    </tr>\n",
              "    <tr>\n",
              "      <th>999988</th>\n",
              "      <td>0.354207</td>\n",
              "      <td>0.088999</td>\n",
              "      <td>0.019706</td>\n",
              "      <td>0.522963</td>\n",
              "      <td>0.125154</td>\n",
              "      <td>-4.096600</td>\n",
              "    </tr>\n",
              "    <tr>\n",
              "      <th>999994</th>\n",
              "      <td>0.210119</td>\n",
              "      <td>0.094604</td>\n",
              "      <td>0.158844</td>\n",
              "      <td>0.334705</td>\n",
              "      <td>0.023446</td>\n",
              "      <td>-0.377615</td>\n",
              "    </tr>\n",
              "    <tr>\n",
              "      <th>999998</th>\n",
              "      <td>0.198587</td>\n",
              "      <td>0.152797</td>\n",
              "      <td>0.219643</td>\n",
              "      <td>0.733378</td>\n",
              "      <td>0.726016</td>\n",
              "      <td>0.035370</td>\n",
              "    </tr>\n",
              "  </tbody>\n",
              "</table>\n",
              "<p>125359 rows × 6 columns</p>\n",
              "</div>"
            ],
            "text/plain": [
              "               A         B         C         D         E         R\n",
              "25      0.220112  0.179811  0.343685  0.870182  0.282334 -0.057393\n",
              "27      0.085207  0.048252  0.115417  0.253180  0.196068 -0.283221\n",
              "28      0.381892  0.082431  0.128601  0.125830  0.926479 -0.142514\n",
              "38      0.314158  0.460602  0.497980  0.190599  0.460359 -0.523038\n",
              "41      0.172141  0.127803  0.432127  0.592307  0.757997  0.325355\n",
              "...          ...       ...       ...       ...       ...       ...\n",
              "999966  0.087939  0.388269  0.173828  0.011049  0.981142 -2.134851\n",
              "999983  0.042207  0.423287  0.364575  0.844768  0.182543 -0.964627\n",
              "999988  0.354207  0.088999  0.019706  0.522963  0.125154 -4.096600\n",
              "999994  0.210119  0.094604  0.158844  0.334705  0.023446 -0.377615\n",
              "999998  0.198587  0.152797  0.219643  0.733378  0.726016  0.035370\n",
              "\n",
              "[125359 rows x 6 columns]"
            ]
          },
          "execution_count": 189,
          "metadata": {},
          "output_type": "execute_result"
        }
      ],
      "source": [
        "df[(df.A < 0.5) & (df.B < 0.5) & (df.C < 0.5)]"
      ]
    },
    {
      "cell_type": "code",
      "execution_count": 190,
      "metadata": {
        "id": "DQGuGdV0WZ3Y"
      },
      "outputs": [
        {
          "data": {
            "text/html": [
              "<div>\n",
              "<style scoped>\n",
              "    .dataframe tbody tr th:only-of-type {\n",
              "        vertical-align: middle;\n",
              "    }\n",
              "\n",
              "    .dataframe tbody tr th {\n",
              "        vertical-align: top;\n",
              "    }\n",
              "\n",
              "    .dataframe thead th {\n",
              "        text-align: right;\n",
              "    }\n",
              "</style>\n",
              "<table border=\"1\" class=\"dataframe\">\n",
              "  <thead>\n",
              "    <tr style=\"text-align: right;\">\n",
              "      <th></th>\n",
              "      <th>A</th>\n",
              "      <th>B</th>\n",
              "      <th>C</th>\n",
              "      <th>D</th>\n",
              "      <th>E</th>\n",
              "      <th>R</th>\n",
              "    </tr>\n",
              "  </thead>\n",
              "  <tbody>\n",
              "    <tr>\n",
              "      <th>25</th>\n",
              "      <td>0.220112</td>\n",
              "      <td>0.179811</td>\n",
              "      <td>0.343685</td>\n",
              "      <td>0.870182</td>\n",
              "      <td>0.282334</td>\n",
              "      <td>-0.057393</td>\n",
              "    </tr>\n",
              "    <tr>\n",
              "      <th>27</th>\n",
              "      <td>0.085207</td>\n",
              "      <td>0.048252</td>\n",
              "      <td>0.115417</td>\n",
              "      <td>0.253180</td>\n",
              "      <td>0.196068</td>\n",
              "      <td>-0.283221</td>\n",
              "    </tr>\n",
              "    <tr>\n",
              "      <th>28</th>\n",
              "      <td>0.381892</td>\n",
              "      <td>0.082431</td>\n",
              "      <td>0.128601</td>\n",
              "      <td>0.125830</td>\n",
              "      <td>0.926479</td>\n",
              "      <td>-0.142514</td>\n",
              "    </tr>\n",
              "    <tr>\n",
              "      <th>38</th>\n",
              "      <td>0.314158</td>\n",
              "      <td>0.460602</td>\n",
              "      <td>0.497980</td>\n",
              "      <td>0.190599</td>\n",
              "      <td>0.460359</td>\n",
              "      <td>-0.523038</td>\n",
              "    </tr>\n",
              "    <tr>\n",
              "      <th>41</th>\n",
              "      <td>0.172141</td>\n",
              "      <td>0.127803</td>\n",
              "      <td>0.432127</td>\n",
              "      <td>0.592307</td>\n",
              "      <td>0.757997</td>\n",
              "      <td>0.325355</td>\n",
              "    </tr>\n",
              "    <tr>\n",
              "      <th>...</th>\n",
              "      <td>...</td>\n",
              "      <td>...</td>\n",
              "      <td>...</td>\n",
              "      <td>...</td>\n",
              "      <td>...</td>\n",
              "      <td>...</td>\n",
              "    </tr>\n",
              "    <tr>\n",
              "      <th>999966</th>\n",
              "      <td>0.087939</td>\n",
              "      <td>0.388269</td>\n",
              "      <td>0.173828</td>\n",
              "      <td>0.011049</td>\n",
              "      <td>0.981142</td>\n",
              "      <td>-2.134851</td>\n",
              "    </tr>\n",
              "    <tr>\n",
              "      <th>999983</th>\n",
              "      <td>0.042207</td>\n",
              "      <td>0.423287</td>\n",
              "      <td>0.364575</td>\n",
              "      <td>0.844768</td>\n",
              "      <td>0.182543</td>\n",
              "      <td>-0.964627</td>\n",
              "    </tr>\n",
              "    <tr>\n",
              "      <th>999988</th>\n",
              "      <td>0.354207</td>\n",
              "      <td>0.088999</td>\n",
              "      <td>0.019706</td>\n",
              "      <td>0.522963</td>\n",
              "      <td>0.125154</td>\n",
              "      <td>-4.096600</td>\n",
              "    </tr>\n",
              "    <tr>\n",
              "      <th>999994</th>\n",
              "      <td>0.210119</td>\n",
              "      <td>0.094604</td>\n",
              "      <td>0.158844</td>\n",
              "      <td>0.334705</td>\n",
              "      <td>0.023446</td>\n",
              "      <td>-0.377615</td>\n",
              "    </tr>\n",
              "    <tr>\n",
              "      <th>999998</th>\n",
              "      <td>0.198587</td>\n",
              "      <td>0.152797</td>\n",
              "      <td>0.219643</td>\n",
              "      <td>0.733378</td>\n",
              "      <td>0.726016</td>\n",
              "      <td>0.035370</td>\n",
              "    </tr>\n",
              "  </tbody>\n",
              "</table>\n",
              "<p>125359 rows × 6 columns</p>\n",
              "</div>"
            ],
            "text/plain": [
              "               A         B         C         D         E         R\n",
              "25      0.220112  0.179811  0.343685  0.870182  0.282334 -0.057393\n",
              "27      0.085207  0.048252  0.115417  0.253180  0.196068 -0.283221\n",
              "28      0.381892  0.082431  0.128601  0.125830  0.926479 -0.142514\n",
              "38      0.314158  0.460602  0.497980  0.190599  0.460359 -0.523038\n",
              "41      0.172141  0.127803  0.432127  0.592307  0.757997  0.325355\n",
              "...          ...       ...       ...       ...       ...       ...\n",
              "999966  0.087939  0.388269  0.173828  0.011049  0.981142 -2.134851\n",
              "999983  0.042207  0.423287  0.364575  0.844768  0.182543 -0.964627\n",
              "999988  0.354207  0.088999  0.019706  0.522963  0.125154 -4.096600\n",
              "999994  0.210119  0.094604  0.158844  0.334705  0.023446 -0.377615\n",
              "999998  0.198587  0.152797  0.219643  0.733378  0.726016  0.035370\n",
              "\n",
              "[125359 rows x 6 columns]"
            ]
          },
          "execution_count": 190,
          "metadata": {},
          "output_type": "execute_result"
        }
      ],
      "source": [
        "pd.eval(\"df[(df.A < 0.5) & (df.B < 0.5) & (df.C < 0.5)]\")"
      ]
    },
    {
      "cell_type": "code",
      "execution_count": 191,
      "metadata": {
        "id": "xhWXd_LEW3wL"
      },
      "outputs": [
        {
          "data": {
            "text/html": [
              "<div>\n",
              "<style scoped>\n",
              "    .dataframe tbody tr th:only-of-type {\n",
              "        vertical-align: middle;\n",
              "    }\n",
              "\n",
              "    .dataframe tbody tr th {\n",
              "        vertical-align: top;\n",
              "    }\n",
              "\n",
              "    .dataframe thead th {\n",
              "        text-align: right;\n",
              "    }\n",
              "</style>\n",
              "<table border=\"1\" class=\"dataframe\">\n",
              "  <thead>\n",
              "    <tr style=\"text-align: right;\">\n",
              "      <th></th>\n",
              "      <th>A</th>\n",
              "      <th>B</th>\n",
              "      <th>C</th>\n",
              "      <th>D</th>\n",
              "      <th>E</th>\n",
              "      <th>R</th>\n",
              "    </tr>\n",
              "  </thead>\n",
              "  <tbody>\n",
              "    <tr>\n",
              "      <th>25</th>\n",
              "      <td>0.220112</td>\n",
              "      <td>0.179811</td>\n",
              "      <td>0.343685</td>\n",
              "      <td>0.870182</td>\n",
              "      <td>0.282334</td>\n",
              "      <td>-0.057393</td>\n",
              "    </tr>\n",
              "    <tr>\n",
              "      <th>27</th>\n",
              "      <td>0.085207</td>\n",
              "      <td>0.048252</td>\n",
              "      <td>0.115417</td>\n",
              "      <td>0.253180</td>\n",
              "      <td>0.196068</td>\n",
              "      <td>-0.283221</td>\n",
              "    </tr>\n",
              "    <tr>\n",
              "      <th>28</th>\n",
              "      <td>0.381892</td>\n",
              "      <td>0.082431</td>\n",
              "      <td>0.128601</td>\n",
              "      <td>0.125830</td>\n",
              "      <td>0.926479</td>\n",
              "      <td>-0.142514</td>\n",
              "    </tr>\n",
              "    <tr>\n",
              "      <th>38</th>\n",
              "      <td>0.314158</td>\n",
              "      <td>0.460602</td>\n",
              "      <td>0.497980</td>\n",
              "      <td>0.190599</td>\n",
              "      <td>0.460359</td>\n",
              "      <td>-0.523038</td>\n",
              "    </tr>\n",
              "    <tr>\n",
              "      <th>41</th>\n",
              "      <td>0.172141</td>\n",
              "      <td>0.127803</td>\n",
              "      <td>0.432127</td>\n",
              "      <td>0.592307</td>\n",
              "      <td>0.757997</td>\n",
              "      <td>0.325355</td>\n",
              "    </tr>\n",
              "    <tr>\n",
              "      <th>...</th>\n",
              "      <td>...</td>\n",
              "      <td>...</td>\n",
              "      <td>...</td>\n",
              "      <td>...</td>\n",
              "      <td>...</td>\n",
              "      <td>...</td>\n",
              "    </tr>\n",
              "    <tr>\n",
              "      <th>999966</th>\n",
              "      <td>0.087939</td>\n",
              "      <td>0.388269</td>\n",
              "      <td>0.173828</td>\n",
              "      <td>0.011049</td>\n",
              "      <td>0.981142</td>\n",
              "      <td>-2.134851</td>\n",
              "    </tr>\n",
              "    <tr>\n",
              "      <th>999983</th>\n",
              "      <td>0.042207</td>\n",
              "      <td>0.423287</td>\n",
              "      <td>0.364575</td>\n",
              "      <td>0.844768</td>\n",
              "      <td>0.182543</td>\n",
              "      <td>-0.964627</td>\n",
              "    </tr>\n",
              "    <tr>\n",
              "      <th>999988</th>\n",
              "      <td>0.354207</td>\n",
              "      <td>0.088999</td>\n",
              "      <td>0.019706</td>\n",
              "      <td>0.522963</td>\n",
              "      <td>0.125154</td>\n",
              "      <td>-4.096600</td>\n",
              "    </tr>\n",
              "    <tr>\n",
              "      <th>999994</th>\n",
              "      <td>0.210119</td>\n",
              "      <td>0.094604</td>\n",
              "      <td>0.158844</td>\n",
              "      <td>0.334705</td>\n",
              "      <td>0.023446</td>\n",
              "      <td>-0.377615</td>\n",
              "    </tr>\n",
              "    <tr>\n",
              "      <th>999998</th>\n",
              "      <td>0.198587</td>\n",
              "      <td>0.152797</td>\n",
              "      <td>0.219643</td>\n",
              "      <td>0.733378</td>\n",
              "      <td>0.726016</td>\n",
              "      <td>0.035370</td>\n",
              "    </tr>\n",
              "  </tbody>\n",
              "</table>\n",
              "<p>125359 rows × 6 columns</p>\n",
              "</div>"
            ],
            "text/plain": [
              "               A         B         C         D         E         R\n",
              "25      0.220112  0.179811  0.343685  0.870182  0.282334 -0.057393\n",
              "27      0.085207  0.048252  0.115417  0.253180  0.196068 -0.283221\n",
              "28      0.381892  0.082431  0.128601  0.125830  0.926479 -0.142514\n",
              "38      0.314158  0.460602  0.497980  0.190599  0.460359 -0.523038\n",
              "41      0.172141  0.127803  0.432127  0.592307  0.757997  0.325355\n",
              "...          ...       ...       ...       ...       ...       ...\n",
              "999966  0.087939  0.388269  0.173828  0.011049  0.981142 -2.134851\n",
              "999983  0.042207  0.423287  0.364575  0.844768  0.182543 -0.964627\n",
              "999988  0.354207  0.088999  0.019706  0.522963  0.125154 -4.096600\n",
              "999994  0.210119  0.094604  0.158844  0.334705  0.023446 -0.377615\n",
              "999998  0.198587  0.152797  0.219643  0.733378  0.726016  0.035370\n",
              "\n",
              "[125359 rows x 6 columns]"
            ]
          },
          "execution_count": 191,
          "metadata": {},
          "output_type": "execute_result"
        }
      ],
      "source": [
        "df.query(\"(A < 0.5) and (B < 0.5) and (C < 0.5)\")"
      ]
    },
    {
      "cell_type": "code",
      "execution_count": 192,
      "metadata": {
        "id": "3LhXrBqBXZ3k"
      },
      "outputs": [
        {
          "data": {
            "text/html": [
              "<div>\n",
              "<style scoped>\n",
              "    .dataframe tbody tr th:only-of-type {\n",
              "        vertical-align: middle;\n",
              "    }\n",
              "\n",
              "    .dataframe tbody tr th {\n",
              "        vertical-align: top;\n",
              "    }\n",
              "\n",
              "    .dataframe thead th {\n",
              "        text-align: right;\n",
              "    }\n",
              "</style>\n",
              "<table border=\"1\" class=\"dataframe\">\n",
              "  <thead>\n",
              "    <tr style=\"text-align: right;\">\n",
              "      <th></th>\n",
              "      <th>A</th>\n",
              "      <th>B</th>\n",
              "      <th>C</th>\n",
              "      <th>D</th>\n",
              "      <th>E</th>\n",
              "      <th>R</th>\n",
              "    </tr>\n",
              "  </thead>\n",
              "  <tbody>\n",
              "    <tr>\n",
              "      <th>1</th>\n",
              "      <td>0.326209</td>\n",
              "      <td>0.095715</td>\n",
              "      <td>0.806076</td>\n",
              "      <td>0.163647</td>\n",
              "      <td>0.248770</td>\n",
              "      <td>0.248177</td>\n",
              "    </tr>\n",
              "    <tr>\n",
              "      <th>21</th>\n",
              "      <td>0.174656</td>\n",
              "      <td>0.004149</td>\n",
              "      <td>0.546071</td>\n",
              "      <td>0.377217</td>\n",
              "      <td>0.386749</td>\n",
              "      <td>0.312946</td>\n",
              "    </tr>\n",
              "    <tr>\n",
              "      <th>25</th>\n",
              "      <td>0.220112</td>\n",
              "      <td>0.179811</td>\n",
              "      <td>0.343685</td>\n",
              "      <td>0.870182</td>\n",
              "      <td>0.282334</td>\n",
              "      <td>-0.057393</td>\n",
              "    </tr>\n",
              "    <tr>\n",
              "      <th>27</th>\n",
              "      <td>0.085207</td>\n",
              "      <td>0.048252</td>\n",
              "      <td>0.115417</td>\n",
              "      <td>0.253180</td>\n",
              "      <td>0.196068</td>\n",
              "      <td>-0.283221</td>\n",
              "    </tr>\n",
              "    <tr>\n",
              "      <th>28</th>\n",
              "      <td>0.381892</td>\n",
              "      <td>0.082431</td>\n",
              "      <td>0.128601</td>\n",
              "      <td>0.125830</td>\n",
              "      <td>0.926479</td>\n",
              "      <td>-0.142514</td>\n",
              "    </tr>\n",
              "    <tr>\n",
              "      <th>...</th>\n",
              "      <td>...</td>\n",
              "      <td>...</td>\n",
              "      <td>...</td>\n",
              "      <td>...</td>\n",
              "      <td>...</td>\n",
              "      <td>...</td>\n",
              "    </tr>\n",
              "    <tr>\n",
              "      <th>999992</th>\n",
              "      <td>0.448444</td>\n",
              "      <td>0.140132</td>\n",
              "      <td>0.586179</td>\n",
              "      <td>0.049174</td>\n",
              "      <td>0.871493</td>\n",
              "      <td>0.252238</td>\n",
              "    </tr>\n",
              "    <tr>\n",
              "      <th>999994</th>\n",
              "      <td>0.210119</td>\n",
              "      <td>0.094604</td>\n",
              "      <td>0.158844</td>\n",
              "      <td>0.334705</td>\n",
              "      <td>0.023446</td>\n",
              "      <td>-0.377615</td>\n",
              "    </tr>\n",
              "    <tr>\n",
              "      <th>999996</th>\n",
              "      <td>0.028245</td>\n",
              "      <td>0.208006</td>\n",
              "      <td>0.580579</td>\n",
              "      <td>0.868033</td>\n",
              "      <td>0.122769</td>\n",
              "      <td>-0.223461</td>\n",
              "    </tr>\n",
              "    <tr>\n",
              "      <th>999998</th>\n",
              "      <td>0.198587</td>\n",
              "      <td>0.152797</td>\n",
              "      <td>0.219643</td>\n",
              "      <td>0.733378</td>\n",
              "      <td>0.726016</td>\n",
              "      <td>0.035370</td>\n",
              "    </tr>\n",
              "    <tr>\n",
              "      <th>999999</th>\n",
              "      <td>0.116461</td>\n",
              "      <td>0.022718</td>\n",
              "      <td>0.775840</td>\n",
              "      <td>0.909791</td>\n",
              "      <td>0.452742</td>\n",
              "      <td>0.499079</td>\n",
              "    </tr>\n",
              "  </tbody>\n",
              "</table>\n",
              "<p>250374 rows × 6 columns</p>\n",
              "</div>"
            ],
            "text/plain": [
              "               A         B         C         D         E         R\n",
              "1       0.326209  0.095715  0.806076  0.163647  0.248770  0.248177\n",
              "21      0.174656  0.004149  0.546071  0.377217  0.386749  0.312946\n",
              "25      0.220112  0.179811  0.343685  0.870182  0.282334 -0.057393\n",
              "27      0.085207  0.048252  0.115417  0.253180  0.196068 -0.283221\n",
              "28      0.381892  0.082431  0.128601  0.125830  0.926479 -0.142514\n",
              "...          ...       ...       ...       ...       ...       ...\n",
              "999992  0.448444  0.140132  0.586179  0.049174  0.871493  0.252238\n",
              "999994  0.210119  0.094604  0.158844  0.334705  0.023446 -0.377615\n",
              "999996  0.028245  0.208006  0.580579  0.868033  0.122769 -0.223461\n",
              "999998  0.198587  0.152797  0.219643  0.733378  0.726016  0.035370\n",
              "999999  0.116461  0.022718  0.775840  0.909791  0.452742  0.499079\n",
              "\n",
              "[250374 rows x 6 columns]"
            ]
          },
          "execution_count": 192,
          "metadata": {},
          "output_type": "execute_result"
        }
      ],
      "source": [
        "col_mean = df['D'].mean()\n",
        "df[(df.A < col_mean) & (df.B <col_mean)]"
      ]
    },
    {
      "cell_type": "code",
      "execution_count": 193,
      "metadata": {
        "id": "r2JhqnOzXnKh"
      },
      "outputs": [
        {
          "data": {
            "text/html": [
              "<div>\n",
              "<style scoped>\n",
              "    .dataframe tbody tr th:only-of-type {\n",
              "        vertical-align: middle;\n",
              "    }\n",
              "\n",
              "    .dataframe tbody tr th {\n",
              "        vertical-align: top;\n",
              "    }\n",
              "\n",
              "    .dataframe thead th {\n",
              "        text-align: right;\n",
              "    }\n",
              "</style>\n",
              "<table border=\"1\" class=\"dataframe\">\n",
              "  <thead>\n",
              "    <tr style=\"text-align: right;\">\n",
              "      <th></th>\n",
              "      <th>A</th>\n",
              "      <th>B</th>\n",
              "      <th>C</th>\n",
              "      <th>D</th>\n",
              "      <th>E</th>\n",
              "      <th>R</th>\n",
              "    </tr>\n",
              "  </thead>\n",
              "  <tbody>\n",
              "    <tr>\n",
              "      <th>1</th>\n",
              "      <td>0.326209</td>\n",
              "      <td>0.095715</td>\n",
              "      <td>0.806076</td>\n",
              "      <td>0.163647</td>\n",
              "      <td>0.248770</td>\n",
              "      <td>0.248177</td>\n",
              "    </tr>\n",
              "    <tr>\n",
              "      <th>21</th>\n",
              "      <td>0.174656</td>\n",
              "      <td>0.004149</td>\n",
              "      <td>0.546071</td>\n",
              "      <td>0.377217</td>\n",
              "      <td>0.386749</td>\n",
              "      <td>0.312946</td>\n",
              "    </tr>\n",
              "    <tr>\n",
              "      <th>25</th>\n",
              "      <td>0.220112</td>\n",
              "      <td>0.179811</td>\n",
              "      <td>0.343685</td>\n",
              "      <td>0.870182</td>\n",
              "      <td>0.282334</td>\n",
              "      <td>-0.057393</td>\n",
              "    </tr>\n",
              "    <tr>\n",
              "      <th>27</th>\n",
              "      <td>0.085207</td>\n",
              "      <td>0.048252</td>\n",
              "      <td>0.115417</td>\n",
              "      <td>0.253180</td>\n",
              "      <td>0.196068</td>\n",
              "      <td>-0.283221</td>\n",
              "    </tr>\n",
              "    <tr>\n",
              "      <th>28</th>\n",
              "      <td>0.381892</td>\n",
              "      <td>0.082431</td>\n",
              "      <td>0.128601</td>\n",
              "      <td>0.125830</td>\n",
              "      <td>0.926479</td>\n",
              "      <td>-0.142514</td>\n",
              "    </tr>\n",
              "    <tr>\n",
              "      <th>...</th>\n",
              "      <td>...</td>\n",
              "      <td>...</td>\n",
              "      <td>...</td>\n",
              "      <td>...</td>\n",
              "      <td>...</td>\n",
              "      <td>...</td>\n",
              "    </tr>\n",
              "    <tr>\n",
              "      <th>999992</th>\n",
              "      <td>0.448444</td>\n",
              "      <td>0.140132</td>\n",
              "      <td>0.586179</td>\n",
              "      <td>0.049174</td>\n",
              "      <td>0.871493</td>\n",
              "      <td>0.252238</td>\n",
              "    </tr>\n",
              "    <tr>\n",
              "      <th>999994</th>\n",
              "      <td>0.210119</td>\n",
              "      <td>0.094604</td>\n",
              "      <td>0.158844</td>\n",
              "      <td>0.334705</td>\n",
              "      <td>0.023446</td>\n",
              "      <td>-0.377615</td>\n",
              "    </tr>\n",
              "    <tr>\n",
              "      <th>999996</th>\n",
              "      <td>0.028245</td>\n",
              "      <td>0.208006</td>\n",
              "      <td>0.580579</td>\n",
              "      <td>0.868033</td>\n",
              "      <td>0.122769</td>\n",
              "      <td>-0.223461</td>\n",
              "    </tr>\n",
              "    <tr>\n",
              "      <th>999998</th>\n",
              "      <td>0.198587</td>\n",
              "      <td>0.152797</td>\n",
              "      <td>0.219643</td>\n",
              "      <td>0.733378</td>\n",
              "      <td>0.726016</td>\n",
              "      <td>0.035370</td>\n",
              "    </tr>\n",
              "    <tr>\n",
              "      <th>999999</th>\n",
              "      <td>0.116461</td>\n",
              "      <td>0.022718</td>\n",
              "      <td>0.775840</td>\n",
              "      <td>0.909791</td>\n",
              "      <td>0.452742</td>\n",
              "      <td>0.499079</td>\n",
              "    </tr>\n",
              "  </tbody>\n",
              "</table>\n",
              "<p>250374 rows × 6 columns</p>\n",
              "</div>"
            ],
            "text/plain": [
              "               A         B         C         D         E         R\n",
              "1       0.326209  0.095715  0.806076  0.163647  0.248770  0.248177\n",
              "21      0.174656  0.004149  0.546071  0.377217  0.386749  0.312946\n",
              "25      0.220112  0.179811  0.343685  0.870182  0.282334 -0.057393\n",
              "27      0.085207  0.048252  0.115417  0.253180  0.196068 -0.283221\n",
              "28      0.381892  0.082431  0.128601  0.125830  0.926479 -0.142514\n",
              "...          ...       ...       ...       ...       ...       ...\n",
              "999992  0.448444  0.140132  0.586179  0.049174  0.871493  0.252238\n",
              "999994  0.210119  0.094604  0.158844  0.334705  0.023446 -0.377615\n",
              "999996  0.028245  0.208006  0.580579  0.868033  0.122769 -0.223461\n",
              "999998  0.198587  0.152797  0.219643  0.733378  0.726016  0.035370\n",
              "999999  0.116461  0.022718  0.775840  0.909791  0.452742  0.499079\n",
              "\n",
              "[250374 rows x 6 columns]"
            ]
          },
          "execution_count": 193,
          "metadata": {},
          "output_type": "execute_result"
        }
      ],
      "source": [
        "df.query('A < @col_mean and B < @col_mean')"
      ]
    },
    {
      "cell_type": "markdown",
      "metadata": {
        "id": "098-pgqPZvz6"
      },
      "source": [
        "## 데이터 결합"
      ]
    },
    {
      "cell_type": "markdown",
      "metadata": {
        "id": "BCSOonbBpkpT"
      },
      "source": [
        "### Concat() / Append()"
      ]
    },
    {
      "cell_type": "code",
      "execution_count": 194,
      "metadata": {
        "id": "cTmO8pFKcd_W"
      },
      "outputs": [
        {
          "data": {
            "text/plain": [
              "1    a\n",
              "2    b\n",
              "3    c\n",
              "4    d\n",
              "dtype: object"
            ]
          },
          "execution_count": 194,
          "metadata": {},
          "output_type": "execute_result"
        }
      ],
      "source": [
        "s1 = pd.Series(['a', 'b'], index=[1, 2])\n",
        "s2 = pd.Series(['c', 'd'], index=[3, 4])\n",
        "pd.concat([s1, s2])"
      ]
    },
    {
      "cell_type": "code",
      "execution_count": 195,
      "metadata": {
        "id": "HnvsxJHqrAxj"
      },
      "outputs": [],
      "source": [
        "def create_df(cols, idx):\n",
        "    data = {c: [str(c.lower()) + str(i) for i in idx] for c in cols}\n",
        "    print(data)\n",
        "    return pd.DataFrame(data, idx)\n"
      ]
    },
    {
      "cell_type": "code",
      "execution_count": 196,
      "metadata": {
        "id": "mIqdS3_saR2D"
      },
      "outputs": [
        {
          "name": "stdout",
          "output_type": "stream",
          "text": [
            "{'A': ['a1', 'a2'], 'B': ['b1', 'b2']}\n"
          ]
        },
        {
          "data": {
            "text/html": [
              "<div>\n",
              "<style scoped>\n",
              "    .dataframe tbody tr th:only-of-type {\n",
              "        vertical-align: middle;\n",
              "    }\n",
              "\n",
              "    .dataframe tbody tr th {\n",
              "        vertical-align: top;\n",
              "    }\n",
              "\n",
              "    .dataframe thead th {\n",
              "        text-align: right;\n",
              "    }\n",
              "</style>\n",
              "<table border=\"1\" class=\"dataframe\">\n",
              "  <thead>\n",
              "    <tr style=\"text-align: right;\">\n",
              "      <th></th>\n",
              "      <th>A</th>\n",
              "      <th>B</th>\n",
              "    </tr>\n",
              "  </thead>\n",
              "  <tbody>\n",
              "    <tr>\n",
              "      <th>1</th>\n",
              "      <td>a1</td>\n",
              "      <td>b1</td>\n",
              "    </tr>\n",
              "    <tr>\n",
              "      <th>2</th>\n",
              "      <td>a2</td>\n",
              "      <td>b2</td>\n",
              "    </tr>\n",
              "  </tbody>\n",
              "</table>\n",
              "</div>"
            ],
            "text/plain": [
              "    A   B\n",
              "1  a1  b1\n",
              "2  a2  b2"
            ]
          },
          "execution_count": 196,
          "metadata": {},
          "output_type": "execute_result"
        }
      ],
      "source": [
        "df1 = create_df('AB', [1, 2])\n",
        "df1"
      ]
    },
    {
      "cell_type": "code",
      "execution_count": 197,
      "metadata": {
        "id": "9zjCkIpKawR7"
      },
      "outputs": [
        {
          "name": "stdout",
          "output_type": "stream",
          "text": [
            "{'A': ['a3', 'a4'], 'B': ['b3', 'b4']}\n"
          ]
        },
        {
          "data": {
            "text/html": [
              "<div>\n",
              "<style scoped>\n",
              "    .dataframe tbody tr th:only-of-type {\n",
              "        vertical-align: middle;\n",
              "    }\n",
              "\n",
              "    .dataframe tbody tr th {\n",
              "        vertical-align: top;\n",
              "    }\n",
              "\n",
              "    .dataframe thead th {\n",
              "        text-align: right;\n",
              "    }\n",
              "</style>\n",
              "<table border=\"1\" class=\"dataframe\">\n",
              "  <thead>\n",
              "    <tr style=\"text-align: right;\">\n",
              "      <th></th>\n",
              "      <th>A</th>\n",
              "      <th>B</th>\n",
              "    </tr>\n",
              "  </thead>\n",
              "  <tbody>\n",
              "    <tr>\n",
              "      <th>3</th>\n",
              "      <td>a3</td>\n",
              "      <td>b3</td>\n",
              "    </tr>\n",
              "    <tr>\n",
              "      <th>4</th>\n",
              "      <td>a4</td>\n",
              "      <td>b4</td>\n",
              "    </tr>\n",
              "  </tbody>\n",
              "</table>\n",
              "</div>"
            ],
            "text/plain": [
              "    A   B\n",
              "3  a3  b3\n",
              "4  a4  b4"
            ]
          },
          "execution_count": 197,
          "metadata": {},
          "output_type": "execute_result"
        }
      ],
      "source": [
        "df2 = create_df('AB', [3, 4])\n",
        "df2"
      ]
    },
    {
      "cell_type": "code",
      "execution_count": 198,
      "metadata": {
        "id": "1BoDpvACc_J2"
      },
      "outputs": [
        {
          "data": {
            "text/html": [
              "<div>\n",
              "<style scoped>\n",
              "    .dataframe tbody tr th:only-of-type {\n",
              "        vertical-align: middle;\n",
              "    }\n",
              "\n",
              "    .dataframe tbody tr th {\n",
              "        vertical-align: top;\n",
              "    }\n",
              "\n",
              "    .dataframe thead th {\n",
              "        text-align: right;\n",
              "    }\n",
              "</style>\n",
              "<table border=\"1\" class=\"dataframe\">\n",
              "  <thead>\n",
              "    <tr style=\"text-align: right;\">\n",
              "      <th></th>\n",
              "      <th>A</th>\n",
              "      <th>B</th>\n",
              "    </tr>\n",
              "  </thead>\n",
              "  <tbody>\n",
              "    <tr>\n",
              "      <th>1</th>\n",
              "      <td>a1</td>\n",
              "      <td>b1</td>\n",
              "    </tr>\n",
              "    <tr>\n",
              "      <th>2</th>\n",
              "      <td>a2</td>\n",
              "      <td>b2</td>\n",
              "    </tr>\n",
              "    <tr>\n",
              "      <th>3</th>\n",
              "      <td>a3</td>\n",
              "      <td>b3</td>\n",
              "    </tr>\n",
              "    <tr>\n",
              "      <th>4</th>\n",
              "      <td>a4</td>\n",
              "      <td>b4</td>\n",
              "    </tr>\n",
              "  </tbody>\n",
              "</table>\n",
              "</div>"
            ],
            "text/plain": [
              "    A   B\n",
              "1  a1  b1\n",
              "2  a2  b2\n",
              "3  a3  b3\n",
              "4  a4  b4"
            ]
          },
          "execution_count": 198,
          "metadata": {},
          "output_type": "execute_result"
        }
      ],
      "source": [
        "pd.concat([df1, df2])"
      ]
    },
    {
      "cell_type": "code",
      "execution_count": 199,
      "metadata": {
        "id": "JJL0XcfGdBVu"
      },
      "outputs": [
        {
          "name": "stdout",
          "output_type": "stream",
          "text": [
            "{'A': ['a0', 'a1'], 'B': ['b0', 'b1']}\n"
          ]
        },
        {
          "data": {
            "text/html": [
              "<div>\n",
              "<style scoped>\n",
              "    .dataframe tbody tr th:only-of-type {\n",
              "        vertical-align: middle;\n",
              "    }\n",
              "\n",
              "    .dataframe tbody tr th {\n",
              "        vertical-align: top;\n",
              "    }\n",
              "\n",
              "    .dataframe thead th {\n",
              "        text-align: right;\n",
              "    }\n",
              "</style>\n",
              "<table border=\"1\" class=\"dataframe\">\n",
              "  <thead>\n",
              "    <tr style=\"text-align: right;\">\n",
              "      <th></th>\n",
              "      <th>A</th>\n",
              "      <th>B</th>\n",
              "    </tr>\n",
              "  </thead>\n",
              "  <tbody>\n",
              "    <tr>\n",
              "      <th>0</th>\n",
              "      <td>a0</td>\n",
              "      <td>b0</td>\n",
              "    </tr>\n",
              "    <tr>\n",
              "      <th>1</th>\n",
              "      <td>a1</td>\n",
              "      <td>b1</td>\n",
              "    </tr>\n",
              "  </tbody>\n",
              "</table>\n",
              "</div>"
            ],
            "text/plain": [
              "    A   B\n",
              "0  a0  b0\n",
              "1  a1  b1"
            ]
          },
          "execution_count": 199,
          "metadata": {},
          "output_type": "execute_result"
        }
      ],
      "source": [
        "df3 = create_df('AB', [0, 1])\n",
        "df3"
      ]
    },
    {
      "cell_type": "code",
      "execution_count": 200,
      "metadata": {
        "id": "lYA3JakEdgKV"
      },
      "outputs": [
        {
          "name": "stdout",
          "output_type": "stream",
          "text": [
            "{'C': ['c0', 'c1'], 'D': ['d0', 'd1']}\n"
          ]
        },
        {
          "data": {
            "text/html": [
              "<div>\n",
              "<style scoped>\n",
              "    .dataframe tbody tr th:only-of-type {\n",
              "        vertical-align: middle;\n",
              "    }\n",
              "\n",
              "    .dataframe tbody tr th {\n",
              "        vertical-align: top;\n",
              "    }\n",
              "\n",
              "    .dataframe thead th {\n",
              "        text-align: right;\n",
              "    }\n",
              "</style>\n",
              "<table border=\"1\" class=\"dataframe\">\n",
              "  <thead>\n",
              "    <tr style=\"text-align: right;\">\n",
              "      <th></th>\n",
              "      <th>C</th>\n",
              "      <th>D</th>\n",
              "    </tr>\n",
              "  </thead>\n",
              "  <tbody>\n",
              "    <tr>\n",
              "      <th>0</th>\n",
              "      <td>c0</td>\n",
              "      <td>d0</td>\n",
              "    </tr>\n",
              "    <tr>\n",
              "      <th>1</th>\n",
              "      <td>c1</td>\n",
              "      <td>d1</td>\n",
              "    </tr>\n",
              "  </tbody>\n",
              "</table>\n",
              "</div>"
            ],
            "text/plain": [
              "    C   D\n",
              "0  c0  d0\n",
              "1  c1  d1"
            ]
          },
          "execution_count": 200,
          "metadata": {},
          "output_type": "execute_result"
        }
      ],
      "source": [
        "df4 = create_df('CD', [0, 1])\n",
        "df4"
      ]
    },
    {
      "cell_type": "code",
      "execution_count": 201,
      "metadata": {
        "id": "8QH83dOOdiAs"
      },
      "outputs": [
        {
          "data": {
            "text/html": [
              "<div>\n",
              "<style scoped>\n",
              "    .dataframe tbody tr th:only-of-type {\n",
              "        vertical-align: middle;\n",
              "    }\n",
              "\n",
              "    .dataframe tbody tr th {\n",
              "        vertical-align: top;\n",
              "    }\n",
              "\n",
              "    .dataframe thead th {\n",
              "        text-align: right;\n",
              "    }\n",
              "</style>\n",
              "<table border=\"1\" class=\"dataframe\">\n",
              "  <thead>\n",
              "    <tr style=\"text-align: right;\">\n",
              "      <th></th>\n",
              "      <th>A</th>\n",
              "      <th>B</th>\n",
              "      <th>C</th>\n",
              "      <th>D</th>\n",
              "    </tr>\n",
              "  </thead>\n",
              "  <tbody>\n",
              "    <tr>\n",
              "      <th>0</th>\n",
              "      <td>a0</td>\n",
              "      <td>b0</td>\n",
              "      <td>NaN</td>\n",
              "      <td>NaN</td>\n",
              "    </tr>\n",
              "    <tr>\n",
              "      <th>1</th>\n",
              "      <td>a1</td>\n",
              "      <td>b1</td>\n",
              "      <td>NaN</td>\n",
              "      <td>NaN</td>\n",
              "    </tr>\n",
              "    <tr>\n",
              "      <th>0</th>\n",
              "      <td>NaN</td>\n",
              "      <td>NaN</td>\n",
              "      <td>c0</td>\n",
              "      <td>d0</td>\n",
              "    </tr>\n",
              "    <tr>\n",
              "      <th>1</th>\n",
              "      <td>NaN</td>\n",
              "      <td>NaN</td>\n",
              "      <td>c1</td>\n",
              "      <td>d1</td>\n",
              "    </tr>\n",
              "  </tbody>\n",
              "</table>\n",
              "</div>"
            ],
            "text/plain": [
              "     A    B    C    D\n",
              "0   a0   b0  NaN  NaN\n",
              "1   a1   b1  NaN  NaN\n",
              "0  NaN  NaN   c0   d0\n",
              "1  NaN  NaN   c1   d1"
            ]
          },
          "execution_count": 201,
          "metadata": {},
          "output_type": "execute_result"
        }
      ],
      "source": [
        "pd.concat([df3, df4])"
      ]
    },
    {
      "cell_type": "code",
      "execution_count": 202,
      "metadata": {},
      "outputs": [
        {
          "data": {
            "text/html": [
              "<div>\n",
              "<style scoped>\n",
              "    .dataframe tbody tr th:only-of-type {\n",
              "        vertical-align: middle;\n",
              "    }\n",
              "\n",
              "    .dataframe tbody tr th {\n",
              "        vertical-align: top;\n",
              "    }\n",
              "\n",
              "    .dataframe thead th {\n",
              "        text-align: right;\n",
              "    }\n",
              "</style>\n",
              "<table border=\"1\" class=\"dataframe\">\n",
              "  <thead>\n",
              "    <tr style=\"text-align: right;\">\n",
              "      <th></th>\n",
              "      <th>A</th>\n",
              "      <th>B</th>\n",
              "      <th>C</th>\n",
              "      <th>D</th>\n",
              "    </tr>\n",
              "  </thead>\n",
              "  <tbody>\n",
              "    <tr>\n",
              "      <th>0</th>\n",
              "      <td>a0</td>\n",
              "      <td>b0</td>\n",
              "      <td>c0</td>\n",
              "      <td>d0</td>\n",
              "    </tr>\n",
              "    <tr>\n",
              "      <th>1</th>\n",
              "      <td>a1</td>\n",
              "      <td>b1</td>\n",
              "      <td>c1</td>\n",
              "      <td>d1</td>\n",
              "    </tr>\n",
              "  </tbody>\n",
              "</table>\n",
              "</div>"
            ],
            "text/plain": [
              "    A   B   C   D\n",
              "0  a0  b0  c0  d0\n",
              "1  a1  b1  c1  d1"
            ]
          },
          "execution_count": 202,
          "metadata": {},
          "output_type": "execute_result"
        }
      ],
      "source": [
        "pd.concat([df3, df4], axis=1)"
      ]
    },
    {
      "cell_type": "code",
      "execution_count": 203,
      "metadata": {},
      "outputs": [
        {
          "data": {
            "text/html": [
              "<div>\n",
              "<style scoped>\n",
              "    .dataframe tbody tr th:only-of-type {\n",
              "        vertical-align: middle;\n",
              "    }\n",
              "\n",
              "    .dataframe tbody tr th {\n",
              "        vertical-align: top;\n",
              "    }\n",
              "\n",
              "    .dataframe thead th {\n",
              "        text-align: right;\n",
              "    }\n",
              "</style>\n",
              "<table border=\"1\" class=\"dataframe\">\n",
              "  <thead>\n",
              "    <tr style=\"text-align: right;\">\n",
              "      <th></th>\n",
              "      <th>A</th>\n",
              "      <th>B</th>\n",
              "    </tr>\n",
              "  </thead>\n",
              "  <tbody>\n",
              "    <tr>\n",
              "      <th>1</th>\n",
              "      <td>a1</td>\n",
              "      <td>b1</td>\n",
              "    </tr>\n",
              "    <tr>\n",
              "      <th>2</th>\n",
              "      <td>a2</td>\n",
              "      <td>b2</td>\n",
              "    </tr>\n",
              "    <tr>\n",
              "      <th>0</th>\n",
              "      <td>a0</td>\n",
              "      <td>b0</td>\n",
              "    </tr>\n",
              "    <tr>\n",
              "      <th>1</th>\n",
              "      <td>a1</td>\n",
              "      <td>b1</td>\n",
              "    </tr>\n",
              "  </tbody>\n",
              "</table>\n",
              "</div>"
            ],
            "text/plain": [
              "    A   B\n",
              "1  a1  b1\n",
              "2  a2  b2\n",
              "0  a0  b0\n",
              "1  a1  b1"
            ]
          },
          "execution_count": 203,
          "metadata": {},
          "output_type": "execute_result"
        }
      ],
      "source": [
        "pd.concat([df1, df3])"
      ]
    },
    {
      "cell_type": "code",
      "execution_count": 204,
      "metadata": {
        "id": "b-ZOQg0gdk8E"
      },
      "outputs": [],
      "source": [
        "#pd.concat([df1, df3], verify_integrity=True)"
      ]
    },
    {
      "cell_type": "code",
      "execution_count": 205,
      "metadata": {
        "id": "v_SSoUNIeeGO"
      },
      "outputs": [
        {
          "data": {
            "text/html": [
              "<div>\n",
              "<style scoped>\n",
              "    .dataframe tbody tr th:only-of-type {\n",
              "        vertical-align: middle;\n",
              "    }\n",
              "\n",
              "    .dataframe tbody tr th {\n",
              "        vertical-align: top;\n",
              "    }\n",
              "\n",
              "    .dataframe thead th {\n",
              "        text-align: right;\n",
              "    }\n",
              "</style>\n",
              "<table border=\"1\" class=\"dataframe\">\n",
              "  <thead>\n",
              "    <tr style=\"text-align: right;\">\n",
              "      <th></th>\n",
              "      <th>A</th>\n",
              "      <th>B</th>\n",
              "    </tr>\n",
              "  </thead>\n",
              "  <tbody>\n",
              "    <tr>\n",
              "      <th>0</th>\n",
              "      <td>a1</td>\n",
              "      <td>b1</td>\n",
              "    </tr>\n",
              "    <tr>\n",
              "      <th>1</th>\n",
              "      <td>a2</td>\n",
              "      <td>b2</td>\n",
              "    </tr>\n",
              "    <tr>\n",
              "      <th>2</th>\n",
              "      <td>a0</td>\n",
              "      <td>b0</td>\n",
              "    </tr>\n",
              "    <tr>\n",
              "      <th>3</th>\n",
              "      <td>a1</td>\n",
              "      <td>b1</td>\n",
              "    </tr>\n",
              "  </tbody>\n",
              "</table>\n",
              "</div>"
            ],
            "text/plain": [
              "    A   B\n",
              "0  a1  b1\n",
              "1  a2  b2\n",
              "2  a0  b0\n",
              "3  a1  b1"
            ]
          },
          "execution_count": 205,
          "metadata": {},
          "output_type": "execute_result"
        }
      ],
      "source": [
        "pd.concat([df1, df3], ignore_index=True)"
      ]
    },
    {
      "cell_type": "code",
      "execution_count": 206,
      "metadata": {
        "id": "FxzZqsfYfGIr"
      },
      "outputs": [
        {
          "data": {
            "text/html": [
              "<div>\n",
              "<style scoped>\n",
              "    .dataframe tbody tr th:only-of-type {\n",
              "        vertical-align: middle;\n",
              "    }\n",
              "\n",
              "    .dataframe tbody tr th {\n",
              "        vertical-align: top;\n",
              "    }\n",
              "\n",
              "    .dataframe thead th {\n",
              "        text-align: right;\n",
              "    }\n",
              "</style>\n",
              "<table border=\"1\" class=\"dataframe\">\n",
              "  <thead>\n",
              "    <tr style=\"text-align: right;\">\n",
              "      <th></th>\n",
              "      <th></th>\n",
              "      <th>A</th>\n",
              "      <th>B</th>\n",
              "    </tr>\n",
              "  </thead>\n",
              "  <tbody>\n",
              "    <tr>\n",
              "      <th rowspan=\"2\" valign=\"top\">X</th>\n",
              "      <th>1</th>\n",
              "      <td>a1</td>\n",
              "      <td>b1</td>\n",
              "    </tr>\n",
              "    <tr>\n",
              "      <th>2</th>\n",
              "      <td>a2</td>\n",
              "      <td>b2</td>\n",
              "    </tr>\n",
              "    <tr>\n",
              "      <th rowspan=\"2\" valign=\"top\">Y</th>\n",
              "      <th>0</th>\n",
              "      <td>a0</td>\n",
              "      <td>b0</td>\n",
              "    </tr>\n",
              "    <tr>\n",
              "      <th>1</th>\n",
              "      <td>a1</td>\n",
              "      <td>b1</td>\n",
              "    </tr>\n",
              "  </tbody>\n",
              "</table>\n",
              "</div>"
            ],
            "text/plain": [
              "      A   B\n",
              "X 1  a1  b1\n",
              "  2  a2  b2\n",
              "Y 0  a0  b0\n",
              "  1  a1  b1"
            ]
          },
          "execution_count": 206,
          "metadata": {},
          "output_type": "execute_result"
        }
      ],
      "source": [
        "pd.concat([df1, df3], keys=['X', 'Y'])"
      ]
    },
    {
      "cell_type": "code",
      "execution_count": 207,
      "metadata": {
        "id": "HNPzK-lyfRI7"
      },
      "outputs": [
        {
          "name": "stdout",
          "output_type": "stream",
          "text": [
            "{'A': ['a1', 'a2'], 'B': ['b1', 'b2'], 'C': ['c1', 'c2']}\n",
            "{'B': ['b3', 'b4'], 'C': ['c3', 'c4'], 'D': ['d3', 'd4']}\n"
          ]
        },
        {
          "data": {
            "text/html": [
              "<div>\n",
              "<style scoped>\n",
              "    .dataframe tbody tr th:only-of-type {\n",
              "        vertical-align: middle;\n",
              "    }\n",
              "\n",
              "    .dataframe tbody tr th {\n",
              "        vertical-align: top;\n",
              "    }\n",
              "\n",
              "    .dataframe thead th {\n",
              "        text-align: right;\n",
              "    }\n",
              "</style>\n",
              "<table border=\"1\" class=\"dataframe\">\n",
              "  <thead>\n",
              "    <tr style=\"text-align: right;\">\n",
              "      <th></th>\n",
              "      <th>A</th>\n",
              "      <th>B</th>\n",
              "      <th>C</th>\n",
              "      <th>D</th>\n",
              "    </tr>\n",
              "  </thead>\n",
              "  <tbody>\n",
              "    <tr>\n",
              "      <th>1</th>\n",
              "      <td>a1</td>\n",
              "      <td>b1</td>\n",
              "      <td>c1</td>\n",
              "      <td>NaN</td>\n",
              "    </tr>\n",
              "    <tr>\n",
              "      <th>2</th>\n",
              "      <td>a2</td>\n",
              "      <td>b2</td>\n",
              "      <td>c2</td>\n",
              "      <td>NaN</td>\n",
              "    </tr>\n",
              "    <tr>\n",
              "      <th>3</th>\n",
              "      <td>NaN</td>\n",
              "      <td>b3</td>\n",
              "      <td>c3</td>\n",
              "      <td>d3</td>\n",
              "    </tr>\n",
              "    <tr>\n",
              "      <th>4</th>\n",
              "      <td>NaN</td>\n",
              "      <td>b4</td>\n",
              "      <td>c4</td>\n",
              "      <td>d4</td>\n",
              "    </tr>\n",
              "  </tbody>\n",
              "</table>\n",
              "</div>"
            ],
            "text/plain": [
              "     A   B   C    D\n",
              "1   a1  b1  c1  NaN\n",
              "2   a2  b2  c2  NaN\n",
              "3  NaN  b3  c3   d3\n",
              "4  NaN  b4  c4   d4"
            ]
          },
          "execution_count": 207,
          "metadata": {},
          "output_type": "execute_result"
        }
      ],
      "source": [
        "df5 = create_df('ABC', [1, 2])\n",
        "df6 = create_df('BCD', [3, 4])\n",
        "pd.concat([df5, df6])"
      ]
    },
    {
      "cell_type": "code",
      "execution_count": 208,
      "metadata": {
        "id": "ceNNvVDvfV0m"
      },
      "outputs": [
        {
          "data": {
            "text/html": [
              "<div>\n",
              "<style scoped>\n",
              "    .dataframe tbody tr th:only-of-type {\n",
              "        vertical-align: middle;\n",
              "    }\n",
              "\n",
              "    .dataframe tbody tr th {\n",
              "        vertical-align: top;\n",
              "    }\n",
              "\n",
              "    .dataframe thead th {\n",
              "        text-align: right;\n",
              "    }\n",
              "</style>\n",
              "<table border=\"1\" class=\"dataframe\">\n",
              "  <thead>\n",
              "    <tr style=\"text-align: right;\">\n",
              "      <th></th>\n",
              "      <th>B</th>\n",
              "      <th>C</th>\n",
              "    </tr>\n",
              "  </thead>\n",
              "  <tbody>\n",
              "    <tr>\n",
              "      <th>1</th>\n",
              "      <td>b1</td>\n",
              "      <td>c1</td>\n",
              "    </tr>\n",
              "    <tr>\n",
              "      <th>2</th>\n",
              "      <td>b2</td>\n",
              "      <td>c2</td>\n",
              "    </tr>\n",
              "    <tr>\n",
              "      <th>3</th>\n",
              "      <td>b3</td>\n",
              "      <td>c3</td>\n",
              "    </tr>\n",
              "    <tr>\n",
              "      <th>4</th>\n",
              "      <td>b4</td>\n",
              "      <td>c4</td>\n",
              "    </tr>\n",
              "  </tbody>\n",
              "</table>\n",
              "</div>"
            ],
            "text/plain": [
              "    B   C\n",
              "1  b1  c1\n",
              "2  b2  c2\n",
              "3  b3  c3\n",
              "4  b4  c4"
            ]
          },
          "execution_count": 208,
          "metadata": {},
          "output_type": "execute_result"
        }
      ],
      "source": [
        "pd.concat([df5, df6], join='inner')"
      ]
    },
    {
      "cell_type": "code",
      "execution_count": 209,
      "metadata": {
        "id": "ymWRBGuwgD5W"
      },
      "outputs": [
        {
          "data": {
            "text/html": [
              "<div>\n",
              "<style scoped>\n",
              "    .dataframe tbody tr th:only-of-type {\n",
              "        vertical-align: middle;\n",
              "    }\n",
              "\n",
              "    .dataframe tbody tr th {\n",
              "        vertical-align: top;\n",
              "    }\n",
              "\n",
              "    .dataframe thead th {\n",
              "        text-align: right;\n",
              "    }\n",
              "</style>\n",
              "<table border=\"1\" class=\"dataframe\">\n",
              "  <thead>\n",
              "    <tr style=\"text-align: right;\">\n",
              "      <th></th>\n",
              "      <th>A</th>\n",
              "      <th>B</th>\n",
              "      <th>C</th>\n",
              "      <th>D</th>\n",
              "    </tr>\n",
              "  </thead>\n",
              "  <tbody>\n",
              "    <tr>\n",
              "      <th>1</th>\n",
              "      <td>a1</td>\n",
              "      <td>b1</td>\n",
              "      <td>c1</td>\n",
              "      <td>NaN</td>\n",
              "    </tr>\n",
              "    <tr>\n",
              "      <th>2</th>\n",
              "      <td>a2</td>\n",
              "      <td>b2</td>\n",
              "      <td>c2</td>\n",
              "      <td>NaN</td>\n",
              "    </tr>\n",
              "    <tr>\n",
              "      <th>3</th>\n",
              "      <td>NaN</td>\n",
              "      <td>b3</td>\n",
              "      <td>c3</td>\n",
              "      <td>d3</td>\n",
              "    </tr>\n",
              "    <tr>\n",
              "      <th>4</th>\n",
              "      <td>NaN</td>\n",
              "      <td>b4</td>\n",
              "      <td>c4</td>\n",
              "      <td>d4</td>\n",
              "    </tr>\n",
              "  </tbody>\n",
              "</table>\n",
              "</div>"
            ],
            "text/plain": [
              "     A   B   C    D\n",
              "1   a1  b1  c1  NaN\n",
              "2   a2  b2  c2  NaN\n",
              "3  NaN  b3  c3   d3\n",
              "4  NaN  b4  c4   d4"
            ]
          },
          "execution_count": 209,
          "metadata": {},
          "output_type": "execute_result"
        }
      ],
      "source": [
        "df5.append(df6)"
      ]
    },
    {
      "cell_type": "markdown",
      "metadata": {
        "id": "XCDss0yIppQt"
      },
      "source": [
        "### 병합과 조인"
      ]
    },
    {
      "cell_type": "code",
      "execution_count": 210,
      "metadata": {
        "id": "tD2y5H3EosYY"
      },
      "outputs": [
        {
          "data": {
            "text/html": [
              "<div>\n",
              "<style scoped>\n",
              "    .dataframe tbody tr th:only-of-type {\n",
              "        vertical-align: middle;\n",
              "    }\n",
              "\n",
              "    .dataframe tbody tr th {\n",
              "        vertical-align: top;\n",
              "    }\n",
              "\n",
              "    .dataframe thead th {\n",
              "        text-align: right;\n",
              "    }\n",
              "</style>\n",
              "<table border=\"1\" class=\"dataframe\">\n",
              "  <thead>\n",
              "    <tr style=\"text-align: right;\">\n",
              "      <th></th>\n",
              "      <th>학생</th>\n",
              "      <th>학과</th>\n",
              "    </tr>\n",
              "  </thead>\n",
              "  <tbody>\n",
              "    <tr>\n",
              "      <th>0</th>\n",
              "      <td>홍길동</td>\n",
              "      <td>경영학과</td>\n",
              "    </tr>\n",
              "    <tr>\n",
              "      <th>1</th>\n",
              "      <td>이순신</td>\n",
              "      <td>교육학과</td>\n",
              "    </tr>\n",
              "    <tr>\n",
              "      <th>2</th>\n",
              "      <td>임꺽정</td>\n",
              "      <td>컴퓨터학과</td>\n",
              "    </tr>\n",
              "    <tr>\n",
              "      <th>3</th>\n",
              "      <td>김유신</td>\n",
              "      <td>통계학과</td>\n",
              "    </tr>\n",
              "  </tbody>\n",
              "</table>\n",
              "</div>"
            ],
            "text/plain": [
              "    학생     학과\n",
              "0  홍길동   경영학과\n",
              "1  이순신   교육학과\n",
              "2  임꺽정  컴퓨터학과\n",
              "3  김유신   통계학과"
            ]
          },
          "execution_count": 210,
          "metadata": {},
          "output_type": "execute_result"
        }
      ],
      "source": [
        "df1 = pd.DataFrame({'학생': ['홍길동', '이순신', '임꺽정', '김유신'],\n",
        "                    '학과': ['경영학과', '교육학과', '컴퓨터학과', '통계학과']})\n",
        "df1"
      ]
    },
    {
      "cell_type": "code",
      "execution_count": 211,
      "metadata": {
        "id": "-Gnfj0cVrQ-L"
      },
      "outputs": [
        {
          "data": {
            "text/html": [
              "<div>\n",
              "<style scoped>\n",
              "    .dataframe tbody tr th:only-of-type {\n",
              "        vertical-align: middle;\n",
              "    }\n",
              "\n",
              "    .dataframe tbody tr th {\n",
              "        vertical-align: top;\n",
              "    }\n",
              "\n",
              "    .dataframe thead th {\n",
              "        text-align: right;\n",
              "    }\n",
              "</style>\n",
              "<table border=\"1\" class=\"dataframe\">\n",
              "  <thead>\n",
              "    <tr style=\"text-align: right;\">\n",
              "      <th></th>\n",
              "      <th>학생</th>\n",
              "      <th>입학년도</th>\n",
              "    </tr>\n",
              "  </thead>\n",
              "  <tbody>\n",
              "    <tr>\n",
              "      <th>0</th>\n",
              "      <td>홍길동</td>\n",
              "      <td>2012</td>\n",
              "    </tr>\n",
              "    <tr>\n",
              "      <th>1</th>\n",
              "      <td>이순신</td>\n",
              "      <td>2016</td>\n",
              "    </tr>\n",
              "    <tr>\n",
              "      <th>2</th>\n",
              "      <td>임꺽정</td>\n",
              "      <td>2019</td>\n",
              "    </tr>\n",
              "    <tr>\n",
              "      <th>3</th>\n",
              "      <td>김유신</td>\n",
              "      <td>2020</td>\n",
              "    </tr>\n",
              "  </tbody>\n",
              "</table>\n",
              "</div>"
            ],
            "text/plain": [
              "    학생  입학년도\n",
              "0  홍길동  2012\n",
              "1  이순신  2016\n",
              "2  임꺽정  2019\n",
              "3  김유신  2020"
            ]
          },
          "execution_count": 211,
          "metadata": {},
          "output_type": "execute_result"
        }
      ],
      "source": [
        "df2 = pd.DataFrame({'학생': ['홍길동', '이순신', '임꺽정', '김유신'],\n",
        "                    '입학년도': [2012, 2016, 2019, 2020]})\n",
        "df2"
      ]
    },
    {
      "cell_type": "code",
      "execution_count": 212,
      "metadata": {
        "id": "4_L0wq5BrRqC"
      },
      "outputs": [
        {
          "data": {
            "text/html": [
              "<div>\n",
              "<style scoped>\n",
              "    .dataframe tbody tr th:only-of-type {\n",
              "        vertical-align: middle;\n",
              "    }\n",
              "\n",
              "    .dataframe tbody tr th {\n",
              "        vertical-align: top;\n",
              "    }\n",
              "\n",
              "    .dataframe thead th {\n",
              "        text-align: right;\n",
              "    }\n",
              "</style>\n",
              "<table border=\"1\" class=\"dataframe\">\n",
              "  <thead>\n",
              "    <tr style=\"text-align: right;\">\n",
              "      <th></th>\n",
              "      <th>학생</th>\n",
              "      <th>학과</th>\n",
              "      <th>입학년도</th>\n",
              "    </tr>\n",
              "  </thead>\n",
              "  <tbody>\n",
              "    <tr>\n",
              "      <th>0</th>\n",
              "      <td>홍길동</td>\n",
              "      <td>경영학과</td>\n",
              "      <td>2012</td>\n",
              "    </tr>\n",
              "    <tr>\n",
              "      <th>1</th>\n",
              "      <td>이순신</td>\n",
              "      <td>교육학과</td>\n",
              "      <td>2016</td>\n",
              "    </tr>\n",
              "    <tr>\n",
              "      <th>2</th>\n",
              "      <td>임꺽정</td>\n",
              "      <td>컴퓨터학과</td>\n",
              "      <td>2019</td>\n",
              "    </tr>\n",
              "    <tr>\n",
              "      <th>3</th>\n",
              "      <td>김유신</td>\n",
              "      <td>통계학과</td>\n",
              "      <td>2020</td>\n",
              "    </tr>\n",
              "  </tbody>\n",
              "</table>\n",
              "</div>"
            ],
            "text/plain": [
              "    학생     학과  입학년도\n",
              "0  홍길동   경영학과  2012\n",
              "1  이순신   교육학과  2016\n",
              "2  임꺽정  컴퓨터학과  2019\n",
              "3  김유신   통계학과  2020"
            ]
          },
          "execution_count": 212,
          "metadata": {},
          "output_type": "execute_result"
        }
      ],
      "source": [
        "df3 = pd.merge(df1, df2)\n",
        "df3"
      ]
    },
    {
      "cell_type": "code",
      "execution_count": 213,
      "metadata": {
        "id": "JB30RrgprcxI"
      },
      "outputs": [
        {
          "data": {
            "text/html": [
              "<div>\n",
              "<style scoped>\n",
              "    .dataframe tbody tr th:only-of-type {\n",
              "        vertical-align: middle;\n",
              "    }\n",
              "\n",
              "    .dataframe tbody tr th {\n",
              "        vertical-align: top;\n",
              "    }\n",
              "\n",
              "    .dataframe thead th {\n",
              "        text-align: right;\n",
              "    }\n",
              "</style>\n",
              "<table border=\"1\" class=\"dataframe\">\n",
              "  <thead>\n",
              "    <tr style=\"text-align: right;\">\n",
              "      <th></th>\n",
              "      <th>학과</th>\n",
              "      <th>학과장</th>\n",
              "    </tr>\n",
              "  </thead>\n",
              "  <tbody>\n",
              "    <tr>\n",
              "      <th>0</th>\n",
              "      <td>경영학과</td>\n",
              "      <td>황희</td>\n",
              "    </tr>\n",
              "    <tr>\n",
              "      <th>1</th>\n",
              "      <td>교육학과</td>\n",
              "      <td>장영실</td>\n",
              "    </tr>\n",
              "    <tr>\n",
              "      <th>2</th>\n",
              "      <td>컴퓨터학과</td>\n",
              "      <td>안창호</td>\n",
              "    </tr>\n",
              "    <tr>\n",
              "      <th>3</th>\n",
              "      <td>통계학과</td>\n",
              "      <td>정약용</td>\n",
              "    </tr>\n",
              "  </tbody>\n",
              "</table>\n",
              "</div>"
            ],
            "text/plain": [
              "      학과  학과장\n",
              "0   경영학과   황희\n",
              "1   교육학과  장영실\n",
              "2  컴퓨터학과  안창호\n",
              "3   통계학과  정약용"
            ]
          },
          "execution_count": 213,
          "metadata": {},
          "output_type": "execute_result"
        }
      ],
      "source": [
        "df4 = pd.DataFrame({'학과': ['경영학과', '교육학과', '컴퓨터학과', '통계학과'],\n",
        "                    '학과장': ['황희', '장영실', '안창호', '정약용']})\n",
        "df4"
      ]
    },
    {
      "cell_type": "code",
      "execution_count": 214,
      "metadata": {
        "id": "M-DPYK8-sZ1j"
      },
      "outputs": [
        {
          "data": {
            "text/html": [
              "<div>\n",
              "<style scoped>\n",
              "    .dataframe tbody tr th:only-of-type {\n",
              "        vertical-align: middle;\n",
              "    }\n",
              "\n",
              "    .dataframe tbody tr th {\n",
              "        vertical-align: top;\n",
              "    }\n",
              "\n",
              "    .dataframe thead th {\n",
              "        text-align: right;\n",
              "    }\n",
              "</style>\n",
              "<table border=\"1\" class=\"dataframe\">\n",
              "  <thead>\n",
              "    <tr style=\"text-align: right;\">\n",
              "      <th></th>\n",
              "      <th>학생</th>\n",
              "      <th>학과</th>\n",
              "      <th>입학년도</th>\n",
              "      <th>학과장</th>\n",
              "    </tr>\n",
              "  </thead>\n",
              "  <tbody>\n",
              "    <tr>\n",
              "      <th>0</th>\n",
              "      <td>홍길동</td>\n",
              "      <td>경영학과</td>\n",
              "      <td>2012</td>\n",
              "      <td>황희</td>\n",
              "    </tr>\n",
              "    <tr>\n",
              "      <th>1</th>\n",
              "      <td>이순신</td>\n",
              "      <td>교육학과</td>\n",
              "      <td>2016</td>\n",
              "      <td>장영실</td>\n",
              "    </tr>\n",
              "    <tr>\n",
              "      <th>2</th>\n",
              "      <td>임꺽정</td>\n",
              "      <td>컴퓨터학과</td>\n",
              "      <td>2019</td>\n",
              "      <td>안창호</td>\n",
              "    </tr>\n",
              "    <tr>\n",
              "      <th>3</th>\n",
              "      <td>김유신</td>\n",
              "      <td>통계학과</td>\n",
              "      <td>2020</td>\n",
              "      <td>정약용</td>\n",
              "    </tr>\n",
              "  </tbody>\n",
              "</table>\n",
              "</div>"
            ],
            "text/plain": [
              "    학생     학과  입학년도  학과장\n",
              "0  홍길동   경영학과  2012   황희\n",
              "1  이순신   교육학과  2016  장영실\n",
              "2  임꺽정  컴퓨터학과  2019  안창호\n",
              "3  김유신   통계학과  2020  정약용"
            ]
          },
          "execution_count": 214,
          "metadata": {},
          "output_type": "execute_result"
        }
      ],
      "source": [
        "pd.merge(df3, df4)"
      ]
    },
    {
      "cell_type": "code",
      "execution_count": 215,
      "metadata": {
        "id": "xvXEDN6GsgSF"
      },
      "outputs": [
        {
          "data": {
            "text/html": [
              "<div>\n",
              "<style scoped>\n",
              "    .dataframe tbody tr th:only-of-type {\n",
              "        vertical-align: middle;\n",
              "    }\n",
              "\n",
              "    .dataframe tbody tr th {\n",
              "        vertical-align: top;\n",
              "    }\n",
              "\n",
              "    .dataframe thead th {\n",
              "        text-align: right;\n",
              "    }\n",
              "</style>\n",
              "<table border=\"1\" class=\"dataframe\">\n",
              "  <thead>\n",
              "    <tr style=\"text-align: right;\">\n",
              "      <th></th>\n",
              "      <th>학과</th>\n",
              "      <th>과목</th>\n",
              "    </tr>\n",
              "  </thead>\n",
              "  <tbody>\n",
              "    <tr>\n",
              "      <th>0</th>\n",
              "      <td>경영학과</td>\n",
              "      <td>경영개론</td>\n",
              "    </tr>\n",
              "    <tr>\n",
              "      <th>1</th>\n",
              "      <td>교육학과</td>\n",
              "      <td>기초수학</td>\n",
              "    </tr>\n",
              "    <tr>\n",
              "      <th>2</th>\n",
              "      <td>교육학과</td>\n",
              "      <td>물리학</td>\n",
              "    </tr>\n",
              "    <tr>\n",
              "      <th>3</th>\n",
              "      <td>컴퓨터학과</td>\n",
              "      <td>프로그래밍</td>\n",
              "    </tr>\n",
              "    <tr>\n",
              "      <th>4</th>\n",
              "      <td>컴퓨터학과</td>\n",
              "      <td>운영체제</td>\n",
              "    </tr>\n",
              "    <tr>\n",
              "      <th>5</th>\n",
              "      <td>통계학과</td>\n",
              "      <td>확률론</td>\n",
              "    </tr>\n",
              "  </tbody>\n",
              "</table>\n",
              "</div>"
            ],
            "text/plain": [
              "      학과     과목\n",
              "0   경영학과   경영개론\n",
              "1   교육학과   기초수학\n",
              "2   교육학과    물리학\n",
              "3  컴퓨터학과  프로그래밍\n",
              "4  컴퓨터학과   운영체제\n",
              "5   통계학과    확률론"
            ]
          },
          "execution_count": 215,
          "metadata": {},
          "output_type": "execute_result"
        }
      ],
      "source": [
        "df5 = pd.DataFrame({'학과': ['경영학과', '교육학과', '교육학과', '컴퓨터학과', '컴퓨터학과', '통계학과'],\n",
        "                    '과목': ['경영개론', '기초수학', '물리학', '프로그래밍', '운영체제', '확률론']})\n",
        "df5"
      ]
    },
    {
      "cell_type": "code",
      "execution_count": 216,
      "metadata": {
        "id": "H9JRk6RVtLNJ"
      },
      "outputs": [
        {
          "data": {
            "text/html": [
              "<div>\n",
              "<style scoped>\n",
              "    .dataframe tbody tr th:only-of-type {\n",
              "        vertical-align: middle;\n",
              "    }\n",
              "\n",
              "    .dataframe tbody tr th {\n",
              "        vertical-align: top;\n",
              "    }\n",
              "\n",
              "    .dataframe thead th {\n",
              "        text-align: right;\n",
              "    }\n",
              "</style>\n",
              "<table border=\"1\" class=\"dataframe\">\n",
              "  <thead>\n",
              "    <tr style=\"text-align: right;\">\n",
              "      <th></th>\n",
              "      <th>학생</th>\n",
              "      <th>학과</th>\n",
              "      <th>과목</th>\n",
              "    </tr>\n",
              "  </thead>\n",
              "  <tbody>\n",
              "    <tr>\n",
              "      <th>0</th>\n",
              "      <td>홍길동</td>\n",
              "      <td>경영학과</td>\n",
              "      <td>경영개론</td>\n",
              "    </tr>\n",
              "    <tr>\n",
              "      <th>1</th>\n",
              "      <td>이순신</td>\n",
              "      <td>교육학과</td>\n",
              "      <td>기초수학</td>\n",
              "    </tr>\n",
              "    <tr>\n",
              "      <th>2</th>\n",
              "      <td>이순신</td>\n",
              "      <td>교육학과</td>\n",
              "      <td>물리학</td>\n",
              "    </tr>\n",
              "    <tr>\n",
              "      <th>3</th>\n",
              "      <td>임꺽정</td>\n",
              "      <td>컴퓨터학과</td>\n",
              "      <td>프로그래밍</td>\n",
              "    </tr>\n",
              "    <tr>\n",
              "      <th>4</th>\n",
              "      <td>임꺽정</td>\n",
              "      <td>컴퓨터학과</td>\n",
              "      <td>운영체제</td>\n",
              "    </tr>\n",
              "    <tr>\n",
              "      <th>5</th>\n",
              "      <td>김유신</td>\n",
              "      <td>통계학과</td>\n",
              "      <td>확률론</td>\n",
              "    </tr>\n",
              "  </tbody>\n",
              "</table>\n",
              "</div>"
            ],
            "text/plain": [
              "    학생     학과     과목\n",
              "0  홍길동   경영학과   경영개론\n",
              "1  이순신   교육학과   기초수학\n",
              "2  이순신   교육학과    물리학\n",
              "3  임꺽정  컴퓨터학과  프로그래밍\n",
              "4  임꺽정  컴퓨터학과   운영체제\n",
              "5  김유신   통계학과    확률론"
            ]
          },
          "execution_count": 216,
          "metadata": {},
          "output_type": "execute_result"
        }
      ],
      "source": [
        "pd.merge(df1, df5)"
      ]
    },
    {
      "cell_type": "code",
      "execution_count": 217,
      "metadata": {
        "id": "HCsJ0Wg7teqe"
      },
      "outputs": [
        {
          "data": {
            "text/html": [
              "<div>\n",
              "<style scoped>\n",
              "    .dataframe tbody tr th:only-of-type {\n",
              "        vertical-align: middle;\n",
              "    }\n",
              "\n",
              "    .dataframe tbody tr th {\n",
              "        vertical-align: top;\n",
              "    }\n",
              "\n",
              "    .dataframe thead th {\n",
              "        text-align: right;\n",
              "    }\n",
              "</style>\n",
              "<table border=\"1\" class=\"dataframe\">\n",
              "  <thead>\n",
              "    <tr style=\"text-align: right;\">\n",
              "      <th></th>\n",
              "      <th>학생</th>\n",
              "      <th>학과</th>\n",
              "      <th>입학년도</th>\n",
              "    </tr>\n",
              "  </thead>\n",
              "  <tbody>\n",
              "    <tr>\n",
              "      <th>0</th>\n",
              "      <td>홍길동</td>\n",
              "      <td>경영학과</td>\n",
              "      <td>2012</td>\n",
              "    </tr>\n",
              "    <tr>\n",
              "      <th>1</th>\n",
              "      <td>이순신</td>\n",
              "      <td>교육학과</td>\n",
              "      <td>2016</td>\n",
              "    </tr>\n",
              "    <tr>\n",
              "      <th>2</th>\n",
              "      <td>임꺽정</td>\n",
              "      <td>컴퓨터학과</td>\n",
              "      <td>2019</td>\n",
              "    </tr>\n",
              "    <tr>\n",
              "      <th>3</th>\n",
              "      <td>김유신</td>\n",
              "      <td>통계학과</td>\n",
              "      <td>2020</td>\n",
              "    </tr>\n",
              "  </tbody>\n",
              "</table>\n",
              "</div>"
            ],
            "text/plain": [
              "    학생     학과  입학년도\n",
              "0  홍길동   경영학과  2012\n",
              "1  이순신   교육학과  2016\n",
              "2  임꺽정  컴퓨터학과  2019\n",
              "3  김유신   통계학과  2020"
            ]
          },
          "execution_count": 217,
          "metadata": {},
          "output_type": "execute_result"
        }
      ],
      "source": [
        "pd.merge(df1, df2, on='학생')"
      ]
    },
    {
      "cell_type": "code",
      "execution_count": 218,
      "metadata": {
        "id": "U_ePghIst4fQ"
      },
      "outputs": [
        {
          "data": {
            "text/html": [
              "<div>\n",
              "<style scoped>\n",
              "    .dataframe tbody tr th:only-of-type {\n",
              "        vertical-align: middle;\n",
              "    }\n",
              "\n",
              "    .dataframe tbody tr th {\n",
              "        vertical-align: top;\n",
              "    }\n",
              "\n",
              "    .dataframe thead th {\n",
              "        text-align: right;\n",
              "    }\n",
              "</style>\n",
              "<table border=\"1\" class=\"dataframe\">\n",
              "  <thead>\n",
              "    <tr style=\"text-align: right;\">\n",
              "      <th></th>\n",
              "      <th>이름</th>\n",
              "      <th>성적</th>\n",
              "    </tr>\n",
              "  </thead>\n",
              "  <tbody>\n",
              "    <tr>\n",
              "      <th>0</th>\n",
              "      <td>홍길동</td>\n",
              "      <td>A</td>\n",
              "    </tr>\n",
              "    <tr>\n",
              "      <th>1</th>\n",
              "      <td>이순신</td>\n",
              "      <td>A+</td>\n",
              "    </tr>\n",
              "    <tr>\n",
              "      <th>2</th>\n",
              "      <td>임꺽정</td>\n",
              "      <td>B</td>\n",
              "    </tr>\n",
              "    <tr>\n",
              "      <th>3</th>\n",
              "      <td>김유신</td>\n",
              "      <td>A+</td>\n",
              "    </tr>\n",
              "  </tbody>\n",
              "</table>\n",
              "</div>"
            ],
            "text/plain": [
              "    이름  성적\n",
              "0  홍길동   A\n",
              "1  이순신  A+\n",
              "2  임꺽정   B\n",
              "3  김유신  A+"
            ]
          },
          "execution_count": 218,
          "metadata": {},
          "output_type": "execute_result"
        }
      ],
      "source": [
        "df6 = pd.DataFrame({'이름': ['홍길동', '이순신', '임꺽정', '김유신'],\n",
        "                    '성적': ['A', 'A+', 'B', 'A+']})\n",
        "df6"
      ]
    },
    {
      "cell_type": "code",
      "execution_count": 219,
      "metadata": {
        "id": "-PZ1D1VwuiTG"
      },
      "outputs": [
        {
          "data": {
            "text/html": [
              "<div>\n",
              "<style scoped>\n",
              "    .dataframe tbody tr th:only-of-type {\n",
              "        vertical-align: middle;\n",
              "    }\n",
              "\n",
              "    .dataframe tbody tr th {\n",
              "        vertical-align: top;\n",
              "    }\n",
              "\n",
              "    .dataframe thead th {\n",
              "        text-align: right;\n",
              "    }\n",
              "</style>\n",
              "<table border=\"1\" class=\"dataframe\">\n",
              "  <thead>\n",
              "    <tr style=\"text-align: right;\">\n",
              "      <th></th>\n",
              "      <th>학생</th>\n",
              "      <th>학과</th>\n",
              "      <th>이름</th>\n",
              "      <th>성적</th>\n",
              "    </tr>\n",
              "  </thead>\n",
              "  <tbody>\n",
              "    <tr>\n",
              "      <th>0</th>\n",
              "      <td>홍길동</td>\n",
              "      <td>경영학과</td>\n",
              "      <td>홍길동</td>\n",
              "      <td>A</td>\n",
              "    </tr>\n",
              "    <tr>\n",
              "      <th>1</th>\n",
              "      <td>이순신</td>\n",
              "      <td>교육학과</td>\n",
              "      <td>이순신</td>\n",
              "      <td>A+</td>\n",
              "    </tr>\n",
              "    <tr>\n",
              "      <th>2</th>\n",
              "      <td>임꺽정</td>\n",
              "      <td>컴퓨터학과</td>\n",
              "      <td>임꺽정</td>\n",
              "      <td>B</td>\n",
              "    </tr>\n",
              "    <tr>\n",
              "      <th>3</th>\n",
              "      <td>김유신</td>\n",
              "      <td>통계학과</td>\n",
              "      <td>김유신</td>\n",
              "      <td>A+</td>\n",
              "    </tr>\n",
              "  </tbody>\n",
              "</table>\n",
              "</div>"
            ],
            "text/plain": [
              "    학생     학과   이름  성적\n",
              "0  홍길동   경영학과  홍길동   A\n",
              "1  이순신   교육학과  이순신  A+\n",
              "2  임꺽정  컴퓨터학과  임꺽정   B\n",
              "3  김유신   통계학과  김유신  A+"
            ]
          },
          "execution_count": 219,
          "metadata": {},
          "output_type": "execute_result"
        }
      ],
      "source": [
        "pd.merge(df1, df6, left_on='학생', right_on='이름')"
      ]
    },
    {
      "cell_type": "code",
      "execution_count": 220,
      "metadata": {
        "id": "7z1jmMhSukPA"
      },
      "outputs": [
        {
          "data": {
            "text/html": [
              "<div>\n",
              "<style scoped>\n",
              "    .dataframe tbody tr th:only-of-type {\n",
              "        vertical-align: middle;\n",
              "    }\n",
              "\n",
              "    .dataframe tbody tr th {\n",
              "        vertical-align: top;\n",
              "    }\n",
              "\n",
              "    .dataframe thead th {\n",
              "        text-align: right;\n",
              "    }\n",
              "</style>\n",
              "<table border=\"1\" class=\"dataframe\">\n",
              "  <thead>\n",
              "    <tr style=\"text-align: right;\">\n",
              "      <th></th>\n",
              "      <th>학생</th>\n",
              "      <th>학과</th>\n",
              "      <th>성적</th>\n",
              "    </tr>\n",
              "  </thead>\n",
              "  <tbody>\n",
              "    <tr>\n",
              "      <th>0</th>\n",
              "      <td>홍길동</td>\n",
              "      <td>경영학과</td>\n",
              "      <td>A</td>\n",
              "    </tr>\n",
              "    <tr>\n",
              "      <th>1</th>\n",
              "      <td>이순신</td>\n",
              "      <td>교육학과</td>\n",
              "      <td>A+</td>\n",
              "    </tr>\n",
              "    <tr>\n",
              "      <th>2</th>\n",
              "      <td>임꺽정</td>\n",
              "      <td>컴퓨터학과</td>\n",
              "      <td>B</td>\n",
              "    </tr>\n",
              "    <tr>\n",
              "      <th>3</th>\n",
              "      <td>김유신</td>\n",
              "      <td>통계학과</td>\n",
              "      <td>A+</td>\n",
              "    </tr>\n",
              "  </tbody>\n",
              "</table>\n",
              "</div>"
            ],
            "text/plain": [
              "    학생     학과  성적\n",
              "0  홍길동   경영학과   A\n",
              "1  이순신   교육학과  A+\n",
              "2  임꺽정  컴퓨터학과   B\n",
              "3  김유신   통계학과  A+"
            ]
          },
          "execution_count": 220,
          "metadata": {},
          "output_type": "execute_result"
        }
      ],
      "source": [
        "pd.merge(df1, df6, left_on='학생', right_on='이름').drop('이름', axis=1)"
      ]
    },
    {
      "cell_type": "code",
      "execution_count": 221,
      "metadata": {
        "id": "xBdg5QbquseD"
      },
      "outputs": [],
      "source": [
        "mdf1 = df1.set_index('학생')\n",
        "mdf2 = df2.set_index('학생')"
      ]
    },
    {
      "cell_type": "code",
      "execution_count": 222,
      "metadata": {
        "id": "PkYo6QP-u5MM"
      },
      "outputs": [
        {
          "data": {
            "text/html": [
              "<div>\n",
              "<style scoped>\n",
              "    .dataframe tbody tr th:only-of-type {\n",
              "        vertical-align: middle;\n",
              "    }\n",
              "\n",
              "    .dataframe tbody tr th {\n",
              "        vertical-align: top;\n",
              "    }\n",
              "\n",
              "    .dataframe thead th {\n",
              "        text-align: right;\n",
              "    }\n",
              "</style>\n",
              "<table border=\"1\" class=\"dataframe\">\n",
              "  <thead>\n",
              "    <tr style=\"text-align: right;\">\n",
              "      <th></th>\n",
              "      <th>학과</th>\n",
              "    </tr>\n",
              "    <tr>\n",
              "      <th>학생</th>\n",
              "      <th></th>\n",
              "    </tr>\n",
              "  </thead>\n",
              "  <tbody>\n",
              "    <tr>\n",
              "      <th>홍길동</th>\n",
              "      <td>경영학과</td>\n",
              "    </tr>\n",
              "    <tr>\n",
              "      <th>이순신</th>\n",
              "      <td>교육학과</td>\n",
              "    </tr>\n",
              "    <tr>\n",
              "      <th>임꺽정</th>\n",
              "      <td>컴퓨터학과</td>\n",
              "    </tr>\n",
              "    <tr>\n",
              "      <th>김유신</th>\n",
              "      <td>통계학과</td>\n",
              "    </tr>\n",
              "  </tbody>\n",
              "</table>\n",
              "</div>"
            ],
            "text/plain": [
              "        학과\n",
              "학생        \n",
              "홍길동   경영학과\n",
              "이순신   교육학과\n",
              "임꺽정  컴퓨터학과\n",
              "김유신   통계학과"
            ]
          },
          "execution_count": 222,
          "metadata": {},
          "output_type": "execute_result"
        }
      ],
      "source": [
        "mdf1"
      ]
    },
    {
      "cell_type": "code",
      "execution_count": 223,
      "metadata": {
        "id": "ITON974EvRp8"
      },
      "outputs": [
        {
          "data": {
            "text/html": [
              "<div>\n",
              "<style scoped>\n",
              "    .dataframe tbody tr th:only-of-type {\n",
              "        vertical-align: middle;\n",
              "    }\n",
              "\n",
              "    .dataframe tbody tr th {\n",
              "        vertical-align: top;\n",
              "    }\n",
              "\n",
              "    .dataframe thead th {\n",
              "        text-align: right;\n",
              "    }\n",
              "</style>\n",
              "<table border=\"1\" class=\"dataframe\">\n",
              "  <thead>\n",
              "    <tr style=\"text-align: right;\">\n",
              "      <th></th>\n",
              "      <th>입학년도</th>\n",
              "    </tr>\n",
              "    <tr>\n",
              "      <th>학생</th>\n",
              "      <th></th>\n",
              "    </tr>\n",
              "  </thead>\n",
              "  <tbody>\n",
              "    <tr>\n",
              "      <th>홍길동</th>\n",
              "      <td>2012</td>\n",
              "    </tr>\n",
              "    <tr>\n",
              "      <th>이순신</th>\n",
              "      <td>2016</td>\n",
              "    </tr>\n",
              "    <tr>\n",
              "      <th>임꺽정</th>\n",
              "      <td>2019</td>\n",
              "    </tr>\n",
              "    <tr>\n",
              "      <th>김유신</th>\n",
              "      <td>2020</td>\n",
              "    </tr>\n",
              "  </tbody>\n",
              "</table>\n",
              "</div>"
            ],
            "text/plain": [
              "     입학년도\n",
              "학생       \n",
              "홍길동  2012\n",
              "이순신  2016\n",
              "임꺽정  2019\n",
              "김유신  2020"
            ]
          },
          "execution_count": 223,
          "metadata": {},
          "output_type": "execute_result"
        }
      ],
      "source": [
        "mdf2"
      ]
    },
    {
      "cell_type": "code",
      "execution_count": 224,
      "metadata": {
        "id": "pM9VHro8vR_b"
      },
      "outputs": [
        {
          "data": {
            "text/html": [
              "<div>\n",
              "<style scoped>\n",
              "    .dataframe tbody tr th:only-of-type {\n",
              "        vertical-align: middle;\n",
              "    }\n",
              "\n",
              "    .dataframe tbody tr th {\n",
              "        vertical-align: top;\n",
              "    }\n",
              "\n",
              "    .dataframe thead th {\n",
              "        text-align: right;\n",
              "    }\n",
              "</style>\n",
              "<table border=\"1\" class=\"dataframe\">\n",
              "  <thead>\n",
              "    <tr style=\"text-align: right;\">\n",
              "      <th></th>\n",
              "      <th>학과</th>\n",
              "      <th>입학년도</th>\n",
              "    </tr>\n",
              "    <tr>\n",
              "      <th>학생</th>\n",
              "      <th></th>\n",
              "      <th></th>\n",
              "    </tr>\n",
              "  </thead>\n",
              "  <tbody>\n",
              "    <tr>\n",
              "      <th>홍길동</th>\n",
              "      <td>경영학과</td>\n",
              "      <td>2012</td>\n",
              "    </tr>\n",
              "    <tr>\n",
              "      <th>이순신</th>\n",
              "      <td>교육학과</td>\n",
              "      <td>2016</td>\n",
              "    </tr>\n",
              "    <tr>\n",
              "      <th>임꺽정</th>\n",
              "      <td>컴퓨터학과</td>\n",
              "      <td>2019</td>\n",
              "    </tr>\n",
              "    <tr>\n",
              "      <th>김유신</th>\n",
              "      <td>통계학과</td>\n",
              "      <td>2020</td>\n",
              "    </tr>\n",
              "  </tbody>\n",
              "</table>\n",
              "</div>"
            ],
            "text/plain": [
              "        학과  입학년도\n",
              "학생              \n",
              "홍길동   경영학과  2012\n",
              "이순신   교육학과  2016\n",
              "임꺽정  컴퓨터학과  2019\n",
              "김유신   통계학과  2020"
            ]
          },
          "execution_count": 224,
          "metadata": {},
          "output_type": "execute_result"
        }
      ],
      "source": [
        "pd.merge(mdf1, mdf2, left_index=True, right_index=True)"
      ]
    },
    {
      "cell_type": "code",
      "execution_count": 225,
      "metadata": {
        "id": "tb70J4-YvYL-"
      },
      "outputs": [
        {
          "data": {
            "text/html": [
              "<div>\n",
              "<style scoped>\n",
              "    .dataframe tbody tr th:only-of-type {\n",
              "        vertical-align: middle;\n",
              "    }\n",
              "\n",
              "    .dataframe tbody tr th {\n",
              "        vertical-align: top;\n",
              "    }\n",
              "\n",
              "    .dataframe thead th {\n",
              "        text-align: right;\n",
              "    }\n",
              "</style>\n",
              "<table border=\"1\" class=\"dataframe\">\n",
              "  <thead>\n",
              "    <tr style=\"text-align: right;\">\n",
              "      <th></th>\n",
              "      <th>학과</th>\n",
              "      <th>입학년도</th>\n",
              "    </tr>\n",
              "    <tr>\n",
              "      <th>학생</th>\n",
              "      <th></th>\n",
              "      <th></th>\n",
              "    </tr>\n",
              "  </thead>\n",
              "  <tbody>\n",
              "    <tr>\n",
              "      <th>홍길동</th>\n",
              "      <td>경영학과</td>\n",
              "      <td>2012</td>\n",
              "    </tr>\n",
              "    <tr>\n",
              "      <th>이순신</th>\n",
              "      <td>교육학과</td>\n",
              "      <td>2016</td>\n",
              "    </tr>\n",
              "    <tr>\n",
              "      <th>임꺽정</th>\n",
              "      <td>컴퓨터학과</td>\n",
              "      <td>2019</td>\n",
              "    </tr>\n",
              "    <tr>\n",
              "      <th>김유신</th>\n",
              "      <td>통계학과</td>\n",
              "      <td>2020</td>\n",
              "    </tr>\n",
              "  </tbody>\n",
              "</table>\n",
              "</div>"
            ],
            "text/plain": [
              "        학과  입학년도\n",
              "학생              \n",
              "홍길동   경영학과  2012\n",
              "이순신   교육학과  2016\n",
              "임꺽정  컴퓨터학과  2019\n",
              "김유신   통계학과  2020"
            ]
          },
          "execution_count": 225,
          "metadata": {},
          "output_type": "execute_result"
        }
      ],
      "source": [
        "mdf1.join(mdf2)"
      ]
    },
    {
      "cell_type": "code",
      "execution_count": 226,
      "metadata": {
        "id": "h4jWcr7hvx93"
      },
      "outputs": [
        {
          "data": {
            "text/html": [
              "<div>\n",
              "<style scoped>\n",
              "    .dataframe tbody tr th:only-of-type {\n",
              "        vertical-align: middle;\n",
              "    }\n",
              "\n",
              "    .dataframe tbody tr th {\n",
              "        vertical-align: top;\n",
              "    }\n",
              "\n",
              "    .dataframe thead th {\n",
              "        text-align: right;\n",
              "    }\n",
              "</style>\n",
              "<table border=\"1\" class=\"dataframe\">\n",
              "  <thead>\n",
              "    <tr style=\"text-align: right;\">\n",
              "      <th></th>\n",
              "      <th>학과</th>\n",
              "      <th>이름</th>\n",
              "      <th>성적</th>\n",
              "    </tr>\n",
              "  </thead>\n",
              "  <tbody>\n",
              "    <tr>\n",
              "      <th>0</th>\n",
              "      <td>경영학과</td>\n",
              "      <td>홍길동</td>\n",
              "      <td>A</td>\n",
              "    </tr>\n",
              "    <tr>\n",
              "      <th>1</th>\n",
              "      <td>교육학과</td>\n",
              "      <td>이순신</td>\n",
              "      <td>A+</td>\n",
              "    </tr>\n",
              "    <tr>\n",
              "      <th>2</th>\n",
              "      <td>컴퓨터학과</td>\n",
              "      <td>임꺽정</td>\n",
              "      <td>B</td>\n",
              "    </tr>\n",
              "    <tr>\n",
              "      <th>3</th>\n",
              "      <td>통계학과</td>\n",
              "      <td>김유신</td>\n",
              "      <td>A+</td>\n",
              "    </tr>\n",
              "  </tbody>\n",
              "</table>\n",
              "</div>"
            ],
            "text/plain": [
              "      학과   이름  성적\n",
              "0   경영학과  홍길동   A\n",
              "1   교육학과  이순신  A+\n",
              "2  컴퓨터학과  임꺽정   B\n",
              "3   통계학과  김유신  A+"
            ]
          },
          "execution_count": 226,
          "metadata": {},
          "output_type": "execute_result"
        }
      ],
      "source": [
        "pd.merge(mdf1, df6, left_index=True, right_on='이름')"
      ]
    },
    {
      "cell_type": "code",
      "execution_count": 227,
      "metadata": {
        "id": "5BMgmFDyxmYX"
      },
      "outputs": [
        {
          "data": {
            "text/html": [
              "<div>\n",
              "<style scoped>\n",
              "    .dataframe tbody tr th:only-of-type {\n",
              "        vertical-align: middle;\n",
              "    }\n",
              "\n",
              "    .dataframe tbody tr th {\n",
              "        vertical-align: top;\n",
              "    }\n",
              "\n",
              "    .dataframe thead th {\n",
              "        text-align: right;\n",
              "    }\n",
              "</style>\n",
              "<table border=\"1\" class=\"dataframe\">\n",
              "  <thead>\n",
              "    <tr style=\"text-align: right;\">\n",
              "      <th></th>\n",
              "      <th>이름</th>\n",
              "      <th>주문음식</th>\n",
              "    </tr>\n",
              "  </thead>\n",
              "  <tbody>\n",
              "    <tr>\n",
              "      <th>0</th>\n",
              "      <td>홍길동</td>\n",
              "      <td>햄버거</td>\n",
              "    </tr>\n",
              "    <tr>\n",
              "      <th>1</th>\n",
              "      <td>이순신</td>\n",
              "      <td>피자</td>\n",
              "    </tr>\n",
              "    <tr>\n",
              "      <th>2</th>\n",
              "      <td>임꺽정</td>\n",
              "      <td>짜장면</td>\n",
              "    </tr>\n",
              "  </tbody>\n",
              "</table>\n",
              "</div>"
            ],
            "text/plain": [
              "    이름 주문음식\n",
              "0  홍길동  햄버거\n",
              "1  이순신   피자\n",
              "2  임꺽정  짜장면"
            ]
          },
          "execution_count": 227,
          "metadata": {},
          "output_type": "execute_result"
        }
      ],
      "source": [
        "df7 = pd.DataFrame({'이름': ['홍길동', '이순신', '임꺽정'],\n",
        "                    '주문음식': ['햄버거', '피자', '짜장면']})\n",
        "df7"
      ]
    },
    {
      "cell_type": "code",
      "execution_count": 228,
      "metadata": {
        "id": "K6REnIONx5IB"
      },
      "outputs": [
        {
          "data": {
            "text/html": [
              "<div>\n",
              "<style scoped>\n",
              "    .dataframe tbody tr th:only-of-type {\n",
              "        vertical-align: middle;\n",
              "    }\n",
              "\n",
              "    .dataframe tbody tr th {\n",
              "        vertical-align: top;\n",
              "    }\n",
              "\n",
              "    .dataframe thead th {\n",
              "        text-align: right;\n",
              "    }\n",
              "</style>\n",
              "<table border=\"1\" class=\"dataframe\">\n",
              "  <thead>\n",
              "    <tr style=\"text-align: right;\">\n",
              "      <th></th>\n",
              "      <th>이름</th>\n",
              "      <th>주문음료</th>\n",
              "    </tr>\n",
              "  </thead>\n",
              "  <tbody>\n",
              "    <tr>\n",
              "      <th>0</th>\n",
              "      <td>홍길동</td>\n",
              "      <td>콜라</td>\n",
              "    </tr>\n",
              "    <tr>\n",
              "      <th>1</th>\n",
              "      <td>이순신</td>\n",
              "      <td>사이다</td>\n",
              "    </tr>\n",
              "    <tr>\n",
              "      <th>2</th>\n",
              "      <td>김유진</td>\n",
              "      <td>커피</td>\n",
              "    </tr>\n",
              "  </tbody>\n",
              "</table>\n",
              "</div>"
            ],
            "text/plain": [
              "    이름 주문음료\n",
              "0  홍길동   콜라\n",
              "1  이순신  사이다\n",
              "2  김유진   커피"
            ]
          },
          "execution_count": 228,
          "metadata": {},
          "output_type": "execute_result"
        }
      ],
      "source": [
        "df8 = pd.DataFrame({'이름': ['홍길동', '이순신', '김유진'],\n",
        "                    '주문음료': ['콜라', '사이다', '커피']})\n",
        "df8"
      ]
    },
    {
      "cell_type": "code",
      "execution_count": 229,
      "metadata": {
        "id": "we6EQ2YbyuCl"
      },
      "outputs": [
        {
          "data": {
            "text/html": [
              "<div>\n",
              "<style scoped>\n",
              "    .dataframe tbody tr th:only-of-type {\n",
              "        vertical-align: middle;\n",
              "    }\n",
              "\n",
              "    .dataframe tbody tr th {\n",
              "        vertical-align: top;\n",
              "    }\n",
              "\n",
              "    .dataframe thead th {\n",
              "        text-align: right;\n",
              "    }\n",
              "</style>\n",
              "<table border=\"1\" class=\"dataframe\">\n",
              "  <thead>\n",
              "    <tr style=\"text-align: right;\">\n",
              "      <th></th>\n",
              "      <th>이름</th>\n",
              "      <th>주문음식</th>\n",
              "      <th>주문음료</th>\n",
              "    </tr>\n",
              "  </thead>\n",
              "  <tbody>\n",
              "    <tr>\n",
              "      <th>0</th>\n",
              "      <td>홍길동</td>\n",
              "      <td>햄버거</td>\n",
              "      <td>콜라</td>\n",
              "    </tr>\n",
              "    <tr>\n",
              "      <th>1</th>\n",
              "      <td>이순신</td>\n",
              "      <td>피자</td>\n",
              "      <td>사이다</td>\n",
              "    </tr>\n",
              "  </tbody>\n",
              "</table>\n",
              "</div>"
            ],
            "text/plain": [
              "    이름 주문음식 주문음료\n",
              "0  홍길동  햄버거   콜라\n",
              "1  이순신   피자  사이다"
            ]
          },
          "execution_count": 229,
          "metadata": {},
          "output_type": "execute_result"
        }
      ],
      "source": [
        "pd.merge(df7, df8)"
      ]
    },
    {
      "cell_type": "code",
      "execution_count": 230,
      "metadata": {
        "id": "6fXhbe-zyxk3"
      },
      "outputs": [
        {
          "data": {
            "text/html": [
              "<div>\n",
              "<style scoped>\n",
              "    .dataframe tbody tr th:only-of-type {\n",
              "        vertical-align: middle;\n",
              "    }\n",
              "\n",
              "    .dataframe tbody tr th {\n",
              "        vertical-align: top;\n",
              "    }\n",
              "\n",
              "    .dataframe thead th {\n",
              "        text-align: right;\n",
              "    }\n",
              "</style>\n",
              "<table border=\"1\" class=\"dataframe\">\n",
              "  <thead>\n",
              "    <tr style=\"text-align: right;\">\n",
              "      <th></th>\n",
              "      <th>이름</th>\n",
              "      <th>주문음식</th>\n",
              "      <th>주문음료</th>\n",
              "    </tr>\n",
              "  </thead>\n",
              "  <tbody>\n",
              "    <tr>\n",
              "      <th>0</th>\n",
              "      <td>홍길동</td>\n",
              "      <td>햄버거</td>\n",
              "      <td>콜라</td>\n",
              "    </tr>\n",
              "    <tr>\n",
              "      <th>1</th>\n",
              "      <td>이순신</td>\n",
              "      <td>피자</td>\n",
              "      <td>사이다</td>\n",
              "    </tr>\n",
              "  </tbody>\n",
              "</table>\n",
              "</div>"
            ],
            "text/plain": [
              "    이름 주문음식 주문음료\n",
              "0  홍길동  햄버거   콜라\n",
              "1  이순신   피자  사이다"
            ]
          },
          "execution_count": 230,
          "metadata": {},
          "output_type": "execute_result"
        }
      ],
      "source": [
        "pd.merge(df7, df8, how='inner')"
      ]
    },
    {
      "cell_type": "code",
      "execution_count": 231,
      "metadata": {
        "id": "elU9-4r3y4NE"
      },
      "outputs": [
        {
          "data": {
            "text/html": [
              "<div>\n",
              "<style scoped>\n",
              "    .dataframe tbody tr th:only-of-type {\n",
              "        vertical-align: middle;\n",
              "    }\n",
              "\n",
              "    .dataframe tbody tr th {\n",
              "        vertical-align: top;\n",
              "    }\n",
              "\n",
              "    .dataframe thead th {\n",
              "        text-align: right;\n",
              "    }\n",
              "</style>\n",
              "<table border=\"1\" class=\"dataframe\">\n",
              "  <thead>\n",
              "    <tr style=\"text-align: right;\">\n",
              "      <th></th>\n",
              "      <th>이름</th>\n",
              "      <th>주문음식</th>\n",
              "      <th>주문음료</th>\n",
              "    </tr>\n",
              "  </thead>\n",
              "  <tbody>\n",
              "    <tr>\n",
              "      <th>0</th>\n",
              "      <td>홍길동</td>\n",
              "      <td>햄버거</td>\n",
              "      <td>콜라</td>\n",
              "    </tr>\n",
              "    <tr>\n",
              "      <th>1</th>\n",
              "      <td>이순신</td>\n",
              "      <td>피자</td>\n",
              "      <td>사이다</td>\n",
              "    </tr>\n",
              "    <tr>\n",
              "      <th>2</th>\n",
              "      <td>임꺽정</td>\n",
              "      <td>짜장면</td>\n",
              "      <td>NaN</td>\n",
              "    </tr>\n",
              "    <tr>\n",
              "      <th>3</th>\n",
              "      <td>김유진</td>\n",
              "      <td>NaN</td>\n",
              "      <td>커피</td>\n",
              "    </tr>\n",
              "  </tbody>\n",
              "</table>\n",
              "</div>"
            ],
            "text/plain": [
              "    이름 주문음식 주문음료\n",
              "0  홍길동  햄버거   콜라\n",
              "1  이순신   피자  사이다\n",
              "2  임꺽정  짜장면  NaN\n",
              "3  김유진  NaN   커피"
            ]
          },
          "execution_count": 231,
          "metadata": {},
          "output_type": "execute_result"
        }
      ],
      "source": [
        "pd.merge(df7, df8, how='outer')"
      ]
    },
    {
      "cell_type": "code",
      "execution_count": 232,
      "metadata": {
        "id": "Ojd4m8oLy6tk"
      },
      "outputs": [
        {
          "data": {
            "text/html": [
              "<div>\n",
              "<style scoped>\n",
              "    .dataframe tbody tr th:only-of-type {\n",
              "        vertical-align: middle;\n",
              "    }\n",
              "\n",
              "    .dataframe tbody tr th {\n",
              "        vertical-align: top;\n",
              "    }\n",
              "\n",
              "    .dataframe thead th {\n",
              "        text-align: right;\n",
              "    }\n",
              "</style>\n",
              "<table border=\"1\" class=\"dataframe\">\n",
              "  <thead>\n",
              "    <tr style=\"text-align: right;\">\n",
              "      <th></th>\n",
              "      <th>이름</th>\n",
              "      <th>주문음식</th>\n",
              "      <th>주문음료</th>\n",
              "    </tr>\n",
              "  </thead>\n",
              "  <tbody>\n",
              "    <tr>\n",
              "      <th>0</th>\n",
              "      <td>홍길동</td>\n",
              "      <td>햄버거</td>\n",
              "      <td>콜라</td>\n",
              "    </tr>\n",
              "    <tr>\n",
              "      <th>1</th>\n",
              "      <td>이순신</td>\n",
              "      <td>피자</td>\n",
              "      <td>사이다</td>\n",
              "    </tr>\n",
              "    <tr>\n",
              "      <th>2</th>\n",
              "      <td>임꺽정</td>\n",
              "      <td>짜장면</td>\n",
              "      <td>NaN</td>\n",
              "    </tr>\n",
              "  </tbody>\n",
              "</table>\n",
              "</div>"
            ],
            "text/plain": [
              "    이름 주문음식 주문음료\n",
              "0  홍길동  햄버거   콜라\n",
              "1  이순신   피자  사이다\n",
              "2  임꺽정  짜장면  NaN"
            ]
          },
          "execution_count": 232,
          "metadata": {},
          "output_type": "execute_result"
        }
      ],
      "source": [
        "pd.merge(df7, df8, how='left')"
      ]
    },
    {
      "cell_type": "code",
      "execution_count": 233,
      "metadata": {
        "id": "R0Te8J7Py9Up"
      },
      "outputs": [
        {
          "data": {
            "text/html": [
              "<div>\n",
              "<style scoped>\n",
              "    .dataframe tbody tr th:only-of-type {\n",
              "        vertical-align: middle;\n",
              "    }\n",
              "\n",
              "    .dataframe tbody tr th {\n",
              "        vertical-align: top;\n",
              "    }\n",
              "\n",
              "    .dataframe thead th {\n",
              "        text-align: right;\n",
              "    }\n",
              "</style>\n",
              "<table border=\"1\" class=\"dataframe\">\n",
              "  <thead>\n",
              "    <tr style=\"text-align: right;\">\n",
              "      <th></th>\n",
              "      <th>이름</th>\n",
              "      <th>주문음식</th>\n",
              "      <th>주문음료</th>\n",
              "    </tr>\n",
              "  </thead>\n",
              "  <tbody>\n",
              "    <tr>\n",
              "      <th>0</th>\n",
              "      <td>홍길동</td>\n",
              "      <td>햄버거</td>\n",
              "      <td>콜라</td>\n",
              "    </tr>\n",
              "    <tr>\n",
              "      <th>1</th>\n",
              "      <td>이순신</td>\n",
              "      <td>피자</td>\n",
              "      <td>사이다</td>\n",
              "    </tr>\n",
              "    <tr>\n",
              "      <th>2</th>\n",
              "      <td>김유진</td>\n",
              "      <td>NaN</td>\n",
              "      <td>커피</td>\n",
              "    </tr>\n",
              "  </tbody>\n",
              "</table>\n",
              "</div>"
            ],
            "text/plain": [
              "    이름 주문음식 주문음료\n",
              "0  홍길동  햄버거   콜라\n",
              "1  이순신   피자  사이다\n",
              "2  김유진  NaN   커피"
            ]
          },
          "execution_count": 233,
          "metadata": {},
          "output_type": "execute_result"
        }
      ],
      "source": [
        "pd.merge(df7, df8, how='right')"
      ]
    },
    {
      "cell_type": "code",
      "execution_count": 234,
      "metadata": {
        "id": "7VZHxJsky_L0"
      },
      "outputs": [
        {
          "data": {
            "text/html": [
              "<div>\n",
              "<style scoped>\n",
              "    .dataframe tbody tr th:only-of-type {\n",
              "        vertical-align: middle;\n",
              "    }\n",
              "\n",
              "    .dataframe tbody tr th {\n",
              "        vertical-align: top;\n",
              "    }\n",
              "\n",
              "    .dataframe thead th {\n",
              "        text-align: right;\n",
              "    }\n",
              "</style>\n",
              "<table border=\"1\" class=\"dataframe\">\n",
              "  <thead>\n",
              "    <tr style=\"text-align: right;\">\n",
              "      <th></th>\n",
              "      <th>이름</th>\n",
              "      <th>순위</th>\n",
              "    </tr>\n",
              "  </thead>\n",
              "  <tbody>\n",
              "    <tr>\n",
              "      <th>0</th>\n",
              "      <td>홍길동</td>\n",
              "      <td>3</td>\n",
              "    </tr>\n",
              "    <tr>\n",
              "      <th>1</th>\n",
              "      <td>이순신</td>\n",
              "      <td>2</td>\n",
              "    </tr>\n",
              "    <tr>\n",
              "      <th>2</th>\n",
              "      <td>임꺽정</td>\n",
              "      <td>4</td>\n",
              "    </tr>\n",
              "    <tr>\n",
              "      <th>3</th>\n",
              "      <td>김유신</td>\n",
              "      <td>1</td>\n",
              "    </tr>\n",
              "  </tbody>\n",
              "</table>\n",
              "</div>"
            ],
            "text/plain": [
              "    이름  순위\n",
              "0  홍길동   3\n",
              "1  이순신   2\n",
              "2  임꺽정   4\n",
              "3  김유신   1"
            ]
          },
          "execution_count": 234,
          "metadata": {},
          "output_type": "execute_result"
        }
      ],
      "source": [
        "df9 = pd.DataFrame({'이름': ['홍길동', '이순신', '임꺽정', '김유신'],\n",
        "                    '순위': [3, 2, 4, 1]})\n",
        "df9"
      ]
    },
    {
      "cell_type": "code",
      "execution_count": 235,
      "metadata": {
        "id": "akYbKT0x0A0J"
      },
      "outputs": [
        {
          "data": {
            "text/html": [
              "<div>\n",
              "<style scoped>\n",
              "    .dataframe tbody tr th:only-of-type {\n",
              "        vertical-align: middle;\n",
              "    }\n",
              "\n",
              "    .dataframe tbody tr th {\n",
              "        vertical-align: top;\n",
              "    }\n",
              "\n",
              "    .dataframe thead th {\n",
              "        text-align: right;\n",
              "    }\n",
              "</style>\n",
              "<table border=\"1\" class=\"dataframe\">\n",
              "  <thead>\n",
              "    <tr style=\"text-align: right;\">\n",
              "      <th></th>\n",
              "      <th>이름</th>\n",
              "      <th>순위</th>\n",
              "    </tr>\n",
              "  </thead>\n",
              "  <tbody>\n",
              "    <tr>\n",
              "      <th>0</th>\n",
              "      <td>홍길동</td>\n",
              "      <td>4</td>\n",
              "    </tr>\n",
              "    <tr>\n",
              "      <th>1</th>\n",
              "      <td>이순신</td>\n",
              "      <td>1</td>\n",
              "    </tr>\n",
              "    <tr>\n",
              "      <th>2</th>\n",
              "      <td>임꺽정</td>\n",
              "      <td>3</td>\n",
              "    </tr>\n",
              "    <tr>\n",
              "      <th>3</th>\n",
              "      <td>김유신</td>\n",
              "      <td>2</td>\n",
              "    </tr>\n",
              "  </tbody>\n",
              "</table>\n",
              "</div>"
            ],
            "text/plain": [
              "    이름  순위\n",
              "0  홍길동   4\n",
              "1  이순신   1\n",
              "2  임꺽정   3\n",
              "3  김유신   2"
            ]
          },
          "execution_count": 235,
          "metadata": {},
          "output_type": "execute_result"
        }
      ],
      "source": [
        "df10 = pd.DataFrame({'이름': ['홍길동', '이순신', '임꺽정', '김유신'],\n",
        "                    '순위': [4, 1, 3, 2]})\n",
        "df10"
      ]
    },
    {
      "cell_type": "code",
      "execution_count": 236,
      "metadata": {
        "id": "hC82_HIA0Gts"
      },
      "outputs": [
        {
          "data": {
            "text/html": [
              "<div>\n",
              "<style scoped>\n",
              "    .dataframe tbody tr th:only-of-type {\n",
              "        vertical-align: middle;\n",
              "    }\n",
              "\n",
              "    .dataframe tbody tr th {\n",
              "        vertical-align: top;\n",
              "    }\n",
              "\n",
              "    .dataframe thead th {\n",
              "        text-align: right;\n",
              "    }\n",
              "</style>\n",
              "<table border=\"1\" class=\"dataframe\">\n",
              "  <thead>\n",
              "    <tr style=\"text-align: right;\">\n",
              "      <th></th>\n",
              "      <th>이름</th>\n",
              "      <th>순위_x</th>\n",
              "      <th>순위_y</th>\n",
              "    </tr>\n",
              "  </thead>\n",
              "  <tbody>\n",
              "    <tr>\n",
              "      <th>0</th>\n",
              "      <td>홍길동</td>\n",
              "      <td>3</td>\n",
              "      <td>4</td>\n",
              "    </tr>\n",
              "    <tr>\n",
              "      <th>1</th>\n",
              "      <td>이순신</td>\n",
              "      <td>2</td>\n",
              "      <td>1</td>\n",
              "    </tr>\n",
              "    <tr>\n",
              "      <th>2</th>\n",
              "      <td>임꺽정</td>\n",
              "      <td>4</td>\n",
              "      <td>3</td>\n",
              "    </tr>\n",
              "    <tr>\n",
              "      <th>3</th>\n",
              "      <td>김유신</td>\n",
              "      <td>1</td>\n",
              "      <td>2</td>\n",
              "    </tr>\n",
              "  </tbody>\n",
              "</table>\n",
              "</div>"
            ],
            "text/plain": [
              "    이름  순위_x  순위_y\n",
              "0  홍길동     3     4\n",
              "1  이순신     2     1\n",
              "2  임꺽정     4     3\n",
              "3  김유신     1     2"
            ]
          },
          "execution_count": 236,
          "metadata": {},
          "output_type": "execute_result"
        }
      ],
      "source": [
        "pd.merge(df9, df10, on=\"이름\")"
      ]
    },
    {
      "cell_type": "code",
      "execution_count": 237,
      "metadata": {
        "id": "lvanUKHh0NSl"
      },
      "outputs": [
        {
          "data": {
            "text/html": [
              "<div>\n",
              "<style scoped>\n",
              "    .dataframe tbody tr th:only-of-type {\n",
              "        vertical-align: middle;\n",
              "    }\n",
              "\n",
              "    .dataframe tbody tr th {\n",
              "        vertical-align: top;\n",
              "    }\n",
              "\n",
              "    .dataframe thead th {\n",
              "        text-align: right;\n",
              "    }\n",
              "</style>\n",
              "<table border=\"1\" class=\"dataframe\">\n",
              "  <thead>\n",
              "    <tr style=\"text-align: right;\">\n",
              "      <th></th>\n",
              "      <th>이름</th>\n",
              "      <th>순위_인기</th>\n",
              "      <th>순위_성적</th>\n",
              "    </tr>\n",
              "  </thead>\n",
              "  <tbody>\n",
              "    <tr>\n",
              "      <th>0</th>\n",
              "      <td>홍길동</td>\n",
              "      <td>3</td>\n",
              "      <td>4</td>\n",
              "    </tr>\n",
              "    <tr>\n",
              "      <th>1</th>\n",
              "      <td>이순신</td>\n",
              "      <td>2</td>\n",
              "      <td>1</td>\n",
              "    </tr>\n",
              "    <tr>\n",
              "      <th>2</th>\n",
              "      <td>임꺽정</td>\n",
              "      <td>4</td>\n",
              "      <td>3</td>\n",
              "    </tr>\n",
              "    <tr>\n",
              "      <th>3</th>\n",
              "      <td>김유신</td>\n",
              "      <td>1</td>\n",
              "      <td>2</td>\n",
              "    </tr>\n",
              "  </tbody>\n",
              "</table>\n",
              "</div>"
            ],
            "text/plain": [
              "    이름  순위_인기  순위_성적\n",
              "0  홍길동      3      4\n",
              "1  이순신      2      1\n",
              "2  임꺽정      4      3\n",
              "3  김유신      1      2"
            ]
          },
          "execution_count": 237,
          "metadata": {},
          "output_type": "execute_result"
        }
      ],
      "source": [
        "pd.merge(df9, df10, on=\"이름\", suffixes=[\"_인기\", \"_성적\"])"
      ]
    },
    {
      "cell_type": "markdown",
      "metadata": {
        "id": "TR_8q2S50uIk"
      },
      "source": [
        "## 데이터 집계와 그룹 연산"
      ]
    },
    {
      "cell_type": "markdown",
      "metadata": {
        "id": "NnkMJFRlWPm7"
      },
      "source": [
        "#### 집계 연산(Aggregation)\n"
      ]
    },
    {
      "cell_type": "code",
      "execution_count": 238,
      "metadata": {
        "id": "5AR3wQl_5QLq"
      },
      "outputs": [
        {
          "data": {
            "text/html": [
              "<div>\n",
              "<style scoped>\n",
              "    .dataframe tbody tr th:only-of-type {\n",
              "        vertical-align: middle;\n",
              "    }\n",
              "\n",
              "    .dataframe tbody tr th {\n",
              "        vertical-align: top;\n",
              "    }\n",
              "\n",
              "    .dataframe thead th {\n",
              "        text-align: right;\n",
              "    }\n",
              "</style>\n",
              "<table border=\"1\" class=\"dataframe\">\n",
              "  <thead>\n",
              "    <tr style=\"text-align: right;\">\n",
              "      <th></th>\n",
              "      <th>A</th>\n",
              "      <th>B</th>\n",
              "      <th>C</th>\n",
              "    </tr>\n",
              "  </thead>\n",
              "  <tbody>\n",
              "    <tr>\n",
              "      <th>1</th>\n",
              "      <td>1.00</td>\n",
              "      <td>1.2</td>\n",
              "      <td>NaN</td>\n",
              "    </tr>\n",
              "    <tr>\n",
              "      <th>2</th>\n",
              "      <td>2.40</td>\n",
              "      <td>5.5</td>\n",
              "      <td>4.2</td>\n",
              "    </tr>\n",
              "    <tr>\n",
              "      <th>3</th>\n",
              "      <td>NaN</td>\n",
              "      <td>NaN</td>\n",
              "      <td>NaN</td>\n",
              "    </tr>\n",
              "    <tr>\n",
              "      <th>4</th>\n",
              "      <td>0.44</td>\n",
              "      <td>-3.1</td>\n",
              "      <td>-4.1</td>\n",
              "    </tr>\n",
              "  </tbody>\n",
              "</table>\n",
              "</div>"
            ],
            "text/plain": [
              "      A    B    C\n",
              "1  1.00  1.2  NaN\n",
              "2  2.40  5.5  4.2\n",
              "3   NaN  NaN  NaN\n",
              "4  0.44 -3.1 -4.1"
            ]
          },
          "execution_count": 238,
          "metadata": {},
          "output_type": "execute_result"
        }
      ],
      "source": [
        "df = pd.DataFrame([[1, 1.2, np.nan],\n",
        "                    [2.4, 5.5, 4.2],\n",
        "                    [np.nan, np.nan, np.nan],\n",
        "                    [0.44, -3.1, -4.1]],\n",
        "                    index=[1, 2, 3, 4],\n",
        "                    columns=['A', 'B', 'C'])\n",
        "df"
      ]
    },
    {
      "cell_type": "code",
      "execution_count": 239,
      "metadata": {
        "id": "jI0_ZOegZh86"
      },
      "outputs": [
        {
          "data": {
            "text/html": [
              "<div>\n",
              "<style scoped>\n",
              "    .dataframe tbody tr th:only-of-type {\n",
              "        vertical-align: middle;\n",
              "    }\n",
              "\n",
              "    .dataframe tbody tr th {\n",
              "        vertical-align: top;\n",
              "    }\n",
              "\n",
              "    .dataframe thead th {\n",
              "        text-align: right;\n",
              "    }\n",
              "</style>\n",
              "<table border=\"1\" class=\"dataframe\">\n",
              "  <thead>\n",
              "    <tr style=\"text-align: right;\">\n",
              "      <th></th>\n",
              "      <th>A</th>\n",
              "      <th>B</th>\n",
              "      <th>C</th>\n",
              "    </tr>\n",
              "  </thead>\n",
              "  <tbody>\n",
              "    <tr>\n",
              "      <th>1</th>\n",
              "      <td>1.0</td>\n",
              "      <td>1.2</td>\n",
              "      <td>NaN</td>\n",
              "    </tr>\n",
              "    <tr>\n",
              "      <th>2</th>\n",
              "      <td>2.4</td>\n",
              "      <td>5.5</td>\n",
              "      <td>4.2</td>\n",
              "    </tr>\n",
              "  </tbody>\n",
              "</table>\n",
              "</div>"
            ],
            "text/plain": [
              "     A    B    C\n",
              "1  1.0  1.2  NaN\n",
              "2  2.4  5.5  4.2"
            ]
          },
          "execution_count": 239,
          "metadata": {},
          "output_type": "execute_result"
        }
      ],
      "source": [
        "df.head(2)"
      ]
    },
    {
      "cell_type": "code",
      "execution_count": 240,
      "metadata": {
        "id": "fd2vnUehZoWF"
      },
      "outputs": [
        {
          "data": {
            "text/html": [
              "<div>\n",
              "<style scoped>\n",
              "    .dataframe tbody tr th:only-of-type {\n",
              "        vertical-align: middle;\n",
              "    }\n",
              "\n",
              "    .dataframe tbody tr th {\n",
              "        vertical-align: top;\n",
              "    }\n",
              "\n",
              "    .dataframe thead th {\n",
              "        text-align: right;\n",
              "    }\n",
              "</style>\n",
              "<table border=\"1\" class=\"dataframe\">\n",
              "  <thead>\n",
              "    <tr style=\"text-align: right;\">\n",
              "      <th></th>\n",
              "      <th>A</th>\n",
              "      <th>B</th>\n",
              "      <th>C</th>\n",
              "    </tr>\n",
              "  </thead>\n",
              "  <tbody>\n",
              "    <tr>\n",
              "      <th>3</th>\n",
              "      <td>NaN</td>\n",
              "      <td>NaN</td>\n",
              "      <td>NaN</td>\n",
              "    </tr>\n",
              "    <tr>\n",
              "      <th>4</th>\n",
              "      <td>0.44</td>\n",
              "      <td>-3.1</td>\n",
              "      <td>-4.1</td>\n",
              "    </tr>\n",
              "  </tbody>\n",
              "</table>\n",
              "</div>"
            ],
            "text/plain": [
              "      A    B    C\n",
              "3   NaN  NaN  NaN\n",
              "4  0.44 -3.1 -4.1"
            ]
          },
          "execution_count": 240,
          "metadata": {},
          "output_type": "execute_result"
        }
      ],
      "source": [
        "df.tail(2)"
      ]
    },
    {
      "cell_type": "code",
      "execution_count": 241,
      "metadata": {
        "id": "I4DNBURwZq76"
      },
      "outputs": [
        {
          "data": {
            "text/html": [
              "<div>\n",
              "<style scoped>\n",
              "    .dataframe tbody tr th:only-of-type {\n",
              "        vertical-align: middle;\n",
              "    }\n",
              "\n",
              "    .dataframe tbody tr th {\n",
              "        vertical-align: top;\n",
              "    }\n",
              "\n",
              "    .dataframe thead th {\n",
              "        text-align: right;\n",
              "    }\n",
              "</style>\n",
              "<table border=\"1\" class=\"dataframe\">\n",
              "  <thead>\n",
              "    <tr style=\"text-align: right;\">\n",
              "      <th></th>\n",
              "      <th>A</th>\n",
              "      <th>B</th>\n",
              "      <th>C</th>\n",
              "    </tr>\n",
              "  </thead>\n",
              "  <tbody>\n",
              "    <tr>\n",
              "      <th>count</th>\n",
              "      <td>3.000000</td>\n",
              "      <td>3.00</td>\n",
              "      <td>2.000000</td>\n",
              "    </tr>\n",
              "    <tr>\n",
              "      <th>mean</th>\n",
              "      <td>1.280000</td>\n",
              "      <td>1.20</td>\n",
              "      <td>0.050000</td>\n",
              "    </tr>\n",
              "    <tr>\n",
              "      <th>std</th>\n",
              "      <td>1.009554</td>\n",
              "      <td>4.30</td>\n",
              "      <td>5.868986</td>\n",
              "    </tr>\n",
              "    <tr>\n",
              "      <th>min</th>\n",
              "      <td>0.440000</td>\n",
              "      <td>-3.10</td>\n",
              "      <td>-4.100000</td>\n",
              "    </tr>\n",
              "    <tr>\n",
              "      <th>25%</th>\n",
              "      <td>0.720000</td>\n",
              "      <td>-0.95</td>\n",
              "      <td>-2.025000</td>\n",
              "    </tr>\n",
              "    <tr>\n",
              "      <th>50%</th>\n",
              "      <td>1.000000</td>\n",
              "      <td>1.20</td>\n",
              "      <td>0.050000</td>\n",
              "    </tr>\n",
              "    <tr>\n",
              "      <th>75%</th>\n",
              "      <td>1.700000</td>\n",
              "      <td>3.35</td>\n",
              "      <td>2.125000</td>\n",
              "    </tr>\n",
              "    <tr>\n",
              "      <th>max</th>\n",
              "      <td>2.400000</td>\n",
              "      <td>5.50</td>\n",
              "      <td>4.200000</td>\n",
              "    </tr>\n",
              "  </tbody>\n",
              "</table>\n",
              "</div>"
            ],
            "text/plain": [
              "              A     B         C\n",
              "count  3.000000  3.00  2.000000\n",
              "mean   1.280000  1.20  0.050000\n",
              "std    1.009554  4.30  5.868986\n",
              "min    0.440000 -3.10 -4.100000\n",
              "25%    0.720000 -0.95 -2.025000\n",
              "50%    1.000000  1.20  0.050000\n",
              "75%    1.700000  3.35  2.125000\n",
              "max    2.400000  5.50  4.200000"
            ]
          },
          "execution_count": 241,
          "metadata": {},
          "output_type": "execute_result"
        }
      ],
      "source": [
        "df.describe()"
      ]
    },
    {
      "cell_type": "code",
      "execution_count": 242,
      "metadata": {
        "id": "M9mBVcqmZ-K_"
      },
      "outputs": [
        {
          "name": "stdout",
          "output_type": "stream",
          "text": [
            "      A    B    C\n",
            "1  1.00  1.2  NaN\n",
            "2  2.40  5.5  4.2\n",
            "3   NaN  NaN  NaN\n",
            "4  0.44 -3.1 -4.1\n",
            "2 2\n"
          ]
        }
      ],
      "source": [
        "print(df)\n",
        "print(np.argmin(df), np.argmax(df))"
      ]
    },
    {
      "cell_type": "code",
      "execution_count": 243,
      "metadata": {
        "id": "i65nWUsJa2p1"
      },
      "outputs": [
        {
          "name": "stdout",
          "output_type": "stream",
          "text": [
            "      A    B    C\n",
            "1  1.00  1.2  NaN\n",
            "2  2.40  5.5  4.2\n",
            "3   NaN  NaN  NaN\n",
            "4  0.44 -3.1 -4.1\n",
            "A    4\n",
            "B    4\n",
            "C    4\n",
            "dtype: int64\n",
            "A    2\n",
            "B    2\n",
            "C    2\n",
            "dtype: int64\n"
          ]
        }
      ],
      "source": [
        "print(df)\n",
        "print(df.idxmin())\n",
        "print(df.idxmax())"
      ]
    },
    {
      "cell_type": "code",
      "execution_count": 244,
      "metadata": {
        "id": "jqs9rYXAd-Kn"
      },
      "outputs": [
        {
          "name": "stdout",
          "output_type": "stream",
          "text": [
            "      A    B    C\n",
            "1  1.00  1.2  NaN\n",
            "2  2.40  5.5  4.2\n",
            "3   NaN  NaN  NaN\n",
            "4  0.44 -3.1 -4.1\n",
            "A    1.009554\n",
            "B    4.300000\n",
            "C    5.868986\n",
            "dtype: float64\n",
            "A     1.0192\n",
            "B    18.4900\n",
            "C    34.4450\n",
            "dtype: float64\n"
          ]
        }
      ],
      "source": [
        "print(df)\n",
        "print(df.std())\n",
        "print(df.var())"
      ]
    },
    {
      "cell_type": "code",
      "execution_count": 245,
      "metadata": {
        "id": "gYIy8wF7eNth"
      },
      "outputs": [
        {
          "name": "stdout",
          "output_type": "stream",
          "text": [
            "      A    B    C\n",
            "1  1.00  1.2  NaN\n",
            "2  2.40  5.5  4.2\n",
            "3   NaN  NaN  NaN\n",
            "4  0.44 -3.1 -4.1\n",
            "A    1.15207\n",
            "B    0.00000\n",
            "C        NaN\n",
            "dtype: float64\n",
            "A   NaN\n",
            "B   NaN\n",
            "C   NaN\n",
            "dtype: float64\n"
          ]
        }
      ],
      "source": [
        "print(df)\n",
        "print(df.skew())\n",
        "print(df.kurt())"
      ]
    },
    {
      "cell_type": "code",
      "execution_count": 246,
      "metadata": {
        "id": "IYZJFuMte3Jb"
      },
      "outputs": [
        {
          "name": "stdout",
          "output_type": "stream",
          "text": [
            "      A    B    C\n",
            "1  1.00  1.2  NaN\n",
            "2  2.40  5.5  4.2\n",
            "3   NaN  NaN  NaN\n",
            "4  0.44 -3.1 -4.1\n",
            "A    3.84\n",
            "B    3.60\n",
            "C    0.10\n",
            "dtype: float64\n",
            "      A    B    C\n",
            "1  1.00  1.2  NaN\n",
            "2  3.40  6.7  4.2\n",
            "3   NaN  NaN  NaN\n",
            "4  3.84  3.6  0.1\n"
          ]
        }
      ],
      "source": [
        "print(df)\n",
        "print(df.sum())\n",
        "print(df.cumsum())"
      ]
    },
    {
      "cell_type": "code",
      "execution_count": 247,
      "metadata": {
        "id": "zeo4laoDfARh"
      },
      "outputs": [
        {
          "name": "stdout",
          "output_type": "stream",
          "text": [
            "      A    B    C\n",
            "1  1.00  1.2  NaN\n",
            "2  2.40  5.5  4.2\n",
            "3   NaN  NaN  NaN\n",
            "4  0.44 -3.1 -4.1\n",
            "A     1.056\n",
            "B   -20.460\n",
            "C   -17.220\n",
            "dtype: float64\n",
            "       A      B      C\n",
            "1  1.000   1.20    NaN\n",
            "2  2.400   6.60   4.20\n",
            "3    NaN    NaN    NaN\n",
            "4  1.056 -20.46 -17.22\n"
          ]
        }
      ],
      "source": [
        "print(df)\n",
        "print(df.prod())\n",
        "print(df.cumprod())"
      ]
    },
    {
      "cell_type": "code",
      "execution_count": 248,
      "metadata": {
        "id": "uO8VFmO3mku9"
      },
      "outputs": [
        {
          "data": {
            "text/html": [
              "<div>\n",
              "<style scoped>\n",
              "    .dataframe tbody tr th:only-of-type {\n",
              "        vertical-align: middle;\n",
              "    }\n",
              "\n",
              "    .dataframe tbody tr th {\n",
              "        vertical-align: top;\n",
              "    }\n",
              "\n",
              "    .dataframe thead th {\n",
              "        text-align: right;\n",
              "    }\n",
              "</style>\n",
              "<table border=\"1\" class=\"dataframe\">\n",
              "  <thead>\n",
              "    <tr style=\"text-align: right;\">\n",
              "      <th></th>\n",
              "      <th>A</th>\n",
              "      <th>B</th>\n",
              "      <th>C</th>\n",
              "    </tr>\n",
              "  </thead>\n",
              "  <tbody>\n",
              "    <tr>\n",
              "      <th>1</th>\n",
              "      <td>NaN</td>\n",
              "      <td>NaN</td>\n",
              "      <td>NaN</td>\n",
              "    </tr>\n",
              "    <tr>\n",
              "      <th>2</th>\n",
              "      <td>1.4</td>\n",
              "      <td>4.3</td>\n",
              "      <td>NaN</td>\n",
              "    </tr>\n",
              "    <tr>\n",
              "      <th>3</th>\n",
              "      <td>NaN</td>\n",
              "      <td>NaN</td>\n",
              "      <td>NaN</td>\n",
              "    </tr>\n",
              "    <tr>\n",
              "      <th>4</th>\n",
              "      <td>NaN</td>\n",
              "      <td>NaN</td>\n",
              "      <td>NaN</td>\n",
              "    </tr>\n",
              "  </tbody>\n",
              "</table>\n",
              "</div>"
            ],
            "text/plain": [
              "     A    B   C\n",
              "1  NaN  NaN NaN\n",
              "2  1.4  4.3 NaN\n",
              "3  NaN  NaN NaN\n",
              "4  NaN  NaN NaN"
            ]
          },
          "execution_count": 248,
          "metadata": {},
          "output_type": "execute_result"
        }
      ],
      "source": [
        "df.diff()"
      ]
    },
    {
      "cell_type": "code",
      "execution_count": 249,
      "metadata": {
        "id": "TfgY7dimneBl"
      },
      "outputs": [
        {
          "data": {
            "text/plain": [
              "A    1.00\n",
              "B    1.20\n",
              "C    0.05\n",
              "Name: 0.5, dtype: float64"
            ]
          },
          "execution_count": 249,
          "metadata": {},
          "output_type": "execute_result"
        }
      ],
      "source": [
        "df.quantile()"
      ]
    },
    {
      "cell_type": "code",
      "execution_count": 250,
      "metadata": {
        "id": "dF_MpNjypa2z"
      },
      "outputs": [
        {
          "data": {
            "text/html": [
              "<div>\n",
              "<style scoped>\n",
              "    .dataframe tbody tr th:only-of-type {\n",
              "        vertical-align: middle;\n",
              "    }\n",
              "\n",
              "    .dataframe tbody tr th {\n",
              "        vertical-align: top;\n",
              "    }\n",
              "\n",
              "    .dataframe thead th {\n",
              "        text-align: right;\n",
              "    }\n",
              "</style>\n",
              "<table border=\"1\" class=\"dataframe\">\n",
              "  <thead>\n",
              "    <tr style=\"text-align: right;\">\n",
              "      <th></th>\n",
              "      <th>A</th>\n",
              "      <th>B</th>\n",
              "      <th>C</th>\n",
              "    </tr>\n",
              "  </thead>\n",
              "  <tbody>\n",
              "    <tr>\n",
              "      <th>1</th>\n",
              "      <td>NaN</td>\n",
              "      <td>NaN</td>\n",
              "      <td>NaN</td>\n",
              "    </tr>\n",
              "    <tr>\n",
              "      <th>2</th>\n",
              "      <td>1.400000</td>\n",
              "      <td>3.583333</td>\n",
              "      <td>NaN</td>\n",
              "    </tr>\n",
              "    <tr>\n",
              "      <th>3</th>\n",
              "      <td>0.000000</td>\n",
              "      <td>0.000000</td>\n",
              "      <td>0.00000</td>\n",
              "    </tr>\n",
              "    <tr>\n",
              "      <th>4</th>\n",
              "      <td>-0.816667</td>\n",
              "      <td>-1.563636</td>\n",
              "      <td>-1.97619</td>\n",
              "    </tr>\n",
              "  </tbody>\n",
              "</table>\n",
              "</div>"
            ],
            "text/plain": [
              "          A         B        C\n",
              "1       NaN       NaN      NaN\n",
              "2  1.400000  3.583333      NaN\n",
              "3  0.000000  0.000000  0.00000\n",
              "4 -0.816667 -1.563636 -1.97619"
            ]
          },
          "execution_count": 250,
          "metadata": {},
          "output_type": "execute_result"
        }
      ],
      "source": [
        "df.pct_change()"
      ]
    },
    {
      "cell_type": "code",
      "execution_count": 251,
      "metadata": {
        "id": "oE-GXjRSpN3-"
      },
      "outputs": [
        {
          "data": {
            "text/html": [
              "<div>\n",
              "<style scoped>\n",
              "    .dataframe tbody tr th:only-of-type {\n",
              "        vertical-align: middle;\n",
              "    }\n",
              "\n",
              "    .dataframe tbody tr th {\n",
              "        vertical-align: top;\n",
              "    }\n",
              "\n",
              "    .dataframe thead th {\n",
              "        text-align: right;\n",
              "    }\n",
              "</style>\n",
              "<table border=\"1\" class=\"dataframe\">\n",
              "  <thead>\n",
              "    <tr style=\"text-align: right;\">\n",
              "      <th></th>\n",
              "      <th>A</th>\n",
              "      <th>B</th>\n",
              "      <th>C</th>\n",
              "    </tr>\n",
              "  </thead>\n",
              "  <tbody>\n",
              "    <tr>\n",
              "      <th>A</th>\n",
              "      <td>1.000000</td>\n",
              "      <td>0.970725</td>\n",
              "      <td>1.0</td>\n",
              "    </tr>\n",
              "    <tr>\n",
              "      <th>B</th>\n",
              "      <td>0.970725</td>\n",
              "      <td>1.000000</td>\n",
              "      <td>1.0</td>\n",
              "    </tr>\n",
              "    <tr>\n",
              "      <th>C</th>\n",
              "      <td>1.000000</td>\n",
              "      <td>1.000000</td>\n",
              "      <td>1.0</td>\n",
              "    </tr>\n",
              "  </tbody>\n",
              "</table>\n",
              "</div>"
            ],
            "text/plain": [
              "          A         B    C\n",
              "A  1.000000  0.970725  1.0\n",
              "B  0.970725  1.000000  1.0\n",
              "C  1.000000  1.000000  1.0"
            ]
          },
          "execution_count": 251,
          "metadata": {},
          "output_type": "execute_result"
        }
      ],
      "source": [
        "df.corr()"
      ]
    },
    {
      "cell_type": "code",
      "execution_count": 252,
      "metadata": {
        "id": "NYkglCVFqZbI"
      },
      "outputs": [
        {
          "data": {
            "text/plain": [
              "A    0.970725\n",
              "B    1.000000\n",
              "C    1.000000\n",
              "dtype: float64"
            ]
          },
          "execution_count": 252,
          "metadata": {},
          "output_type": "execute_result"
        }
      ],
      "source": [
        "df.corrwith(df.B)"
      ]
    },
    {
      "cell_type": "code",
      "execution_count": 253,
      "metadata": {
        "id": "reK3YKyVpTh-"
      },
      "outputs": [
        {
          "data": {
            "text/html": [
              "<div>\n",
              "<style scoped>\n",
              "    .dataframe tbody tr th:only-of-type {\n",
              "        vertical-align: middle;\n",
              "    }\n",
              "\n",
              "    .dataframe tbody tr th {\n",
              "        vertical-align: top;\n",
              "    }\n",
              "\n",
              "    .dataframe thead th {\n",
              "        text-align: right;\n",
              "    }\n",
              "</style>\n",
              "<table border=\"1\" class=\"dataframe\">\n",
              "  <thead>\n",
              "    <tr style=\"text-align: right;\">\n",
              "      <th></th>\n",
              "      <th>A</th>\n",
              "      <th>B</th>\n",
              "      <th>C</th>\n",
              "    </tr>\n",
              "  </thead>\n",
              "  <tbody>\n",
              "    <tr>\n",
              "      <th>A</th>\n",
              "      <td>1.0192</td>\n",
              "      <td>4.214</td>\n",
              "      <td>8.134</td>\n",
              "    </tr>\n",
              "    <tr>\n",
              "      <th>B</th>\n",
              "      <td>4.2140</td>\n",
              "      <td>18.490</td>\n",
              "      <td>35.690</td>\n",
              "    </tr>\n",
              "    <tr>\n",
              "      <th>C</th>\n",
              "      <td>8.1340</td>\n",
              "      <td>35.690</td>\n",
              "      <td>34.445</td>\n",
              "    </tr>\n",
              "  </tbody>\n",
              "</table>\n",
              "</div>"
            ],
            "text/plain": [
              "        A       B       C\n",
              "A  1.0192   4.214   8.134\n",
              "B  4.2140  18.490  35.690\n",
              "C  8.1340  35.690  34.445"
            ]
          },
          "execution_count": 253,
          "metadata": {},
          "output_type": "execute_result"
        }
      ],
      "source": [
        "df.cov()"
      ]
    },
    {
      "cell_type": "code",
      "execution_count": 254,
      "metadata": {
        "id": "NYmiwnWmqmOE"
      },
      "outputs": [
        {
          "data": {
            "text/plain": [
              "array([ 1.2,  5.5,  nan, -3.1])"
            ]
          },
          "execution_count": 254,
          "metadata": {},
          "output_type": "execute_result"
        }
      ],
      "source": [
        "df['B'].unique()"
      ]
    },
    {
      "cell_type": "code",
      "execution_count": 255,
      "metadata": {
        "id": "uzOEBqYAq0bf"
      },
      "outputs": [
        {
          "data": {
            "text/plain": [
              "1.00    1\n",
              "2.40    1\n",
              "0.44    1\n",
              "Name: A, dtype: int64"
            ]
          },
          "execution_count": 255,
          "metadata": {},
          "output_type": "execute_result"
        }
      ],
      "source": [
        "df['A'].value_counts()"
      ]
    },
    {
      "cell_type": "markdown",
      "metadata": {
        "id": "iVaTvBns27tS"
      },
      "source": [
        "### GroupBy 연산"
      ]
    },
    {
      "cell_type": "code",
      "execution_count": 256,
      "metadata": {
        "id": "yOTrmBm58Wwm"
      },
      "outputs": [
        {
          "data": {
            "text/html": [
              "<div>\n",
              "<style scoped>\n",
              "    .dataframe tbody tr th:only-of-type {\n",
              "        vertical-align: middle;\n",
              "    }\n",
              "\n",
              "    .dataframe tbody tr th {\n",
              "        vertical-align: top;\n",
              "    }\n",
              "\n",
              "    .dataframe thead th {\n",
              "        text-align: right;\n",
              "    }\n",
              "</style>\n",
              "<table border=\"1\" class=\"dataframe\">\n",
              "  <thead>\n",
              "    <tr style=\"text-align: right;\">\n",
              "      <th></th>\n",
              "      <th>c1</th>\n",
              "      <th>c2</th>\n",
              "      <th>c3</th>\n",
              "      <th>c4</th>\n",
              "    </tr>\n",
              "  </thead>\n",
              "  <tbody>\n",
              "    <tr>\n",
              "      <th>0</th>\n",
              "      <td>a</td>\n",
              "      <td>A</td>\n",
              "      <td>1</td>\n",
              "      <td>0.720282</td>\n",
              "    </tr>\n",
              "    <tr>\n",
              "      <th>1</th>\n",
              "      <td>a</td>\n",
              "      <td>B</td>\n",
              "      <td>1</td>\n",
              "      <td>0.201027</td>\n",
              "    </tr>\n",
              "    <tr>\n",
              "      <th>2</th>\n",
              "      <td>b</td>\n",
              "      <td>B</td>\n",
              "      <td>1</td>\n",
              "      <td>0.349628</td>\n",
              "    </tr>\n",
              "    <tr>\n",
              "      <th>3</th>\n",
              "      <td>b</td>\n",
              "      <td>A</td>\n",
              "      <td>1</td>\n",
              "      <td>0.985372</td>\n",
              "    </tr>\n",
              "    <tr>\n",
              "      <th>4</th>\n",
              "      <td>c</td>\n",
              "      <td>D</td>\n",
              "      <td>1</td>\n",
              "      <td>0.355810</td>\n",
              "    </tr>\n",
              "    <tr>\n",
              "      <th>5</th>\n",
              "      <td>d</td>\n",
              "      <td>C</td>\n",
              "      <td>1</td>\n",
              "      <td>0.493571</td>\n",
              "    </tr>\n",
              "    <tr>\n",
              "      <th>6</th>\n",
              "      <td>b</td>\n",
              "      <td>C</td>\n",
              "      <td>1</td>\n",
              "      <td>0.702081</td>\n",
              "    </tr>\n",
              "  </tbody>\n",
              "</table>\n",
              "</div>"
            ],
            "text/plain": [
              "  c1 c2  c3        c4\n",
              "0  a  A   1  0.720282\n",
              "1  a  B   1  0.201027\n",
              "2  b  B   1  0.349628\n",
              "3  b  A   1  0.985372\n",
              "4  c  D   1  0.355810\n",
              "5  d  C   1  0.493571\n",
              "6  b  C   1  0.702081"
            ]
          },
          "execution_count": 256,
          "metadata": {},
          "output_type": "execute_result"
        }
      ],
      "source": [
        "df = pd.DataFrame({'c1': ['a', 'a', 'b', 'b', 'c', 'd', 'b'],\n",
        "                'c2': ['A', 'B', 'B', 'A', 'D', 'C', 'C'],\n",
        "                'c3': np.random.randint(7),\n",
        "                'c4': np.random.random(7)})\n",
        "df"
      ]
    },
    {
      "cell_type": "code",
      "execution_count": 257,
      "metadata": {
        "id": "8NNZKuIzXKFD"
      },
      "outputs": [
        {
          "data": {
            "text/plain": [
              "c1     object\n",
              "c2     object\n",
              "c3      int64\n",
              "c4    float64\n",
              "dtype: object"
            ]
          },
          "execution_count": 257,
          "metadata": {},
          "output_type": "execute_result"
        }
      ],
      "source": [
        "df.dtypes"
      ]
    },
    {
      "cell_type": "code",
      "execution_count": 258,
      "metadata": {
        "id": "YyL-IgRFJwPE"
      },
      "outputs": [
        {
          "data": {
            "text/plain": [
              "c1\n",
              "a    1.0\n",
              "b    1.0\n",
              "c    1.0\n",
              "d    1.0\n",
              "Name: c3, dtype: float64"
            ]
          },
          "execution_count": 258,
          "metadata": {},
          "output_type": "execute_result"
        }
      ],
      "source": [
        "df['c3'].groupby(df['c1']).mean()"
      ]
    },
    {
      "cell_type": "code",
      "execution_count": 259,
      "metadata": {
        "id": "5Jkhs5U-OMSE"
      },
      "outputs": [
        {
          "data": {
            "text/plain": [
              "c2\n",
              "A    0.187447\n",
              "B    0.105077\n",
              "C    0.147439\n",
              "D         NaN\n",
              "Name: c4, dtype: float64"
            ]
          },
          "execution_count": 259,
          "metadata": {},
          "output_type": "execute_result"
        }
      ],
      "source": [
        "df['c4'].groupby(df['c2']).std()"
      ]
    },
    {
      "cell_type": "code",
      "execution_count": 260,
      "metadata": {
        "id": "WpDjcHLtOSto"
      },
      "outputs": [
        {
          "data": {
            "text/plain": [
              "c1  c2\n",
              "a   A     0.720282\n",
              "    B     0.201027\n",
              "b   A     0.985372\n",
              "    B     0.349628\n",
              "    C     0.702081\n",
              "c   D     0.355810\n",
              "d   C     0.493571\n",
              "Name: c4, dtype: float64"
            ]
          },
          "execution_count": 260,
          "metadata": {},
          "output_type": "execute_result"
        }
      ],
      "source": [
        "df['c4'].groupby([df['c1'], df['c2']]).mean()"
      ]
    },
    {
      "cell_type": "code",
      "execution_count": 261,
      "metadata": {
        "id": "l4CCXC_jOkac"
      },
      "outputs": [
        {
          "data": {
            "text/html": [
              "<div>\n",
              "<style scoped>\n",
              "    .dataframe tbody tr th:only-of-type {\n",
              "        vertical-align: middle;\n",
              "    }\n",
              "\n",
              "    .dataframe tbody tr th {\n",
              "        vertical-align: top;\n",
              "    }\n",
              "\n",
              "    .dataframe thead th {\n",
              "        text-align: right;\n",
              "    }\n",
              "</style>\n",
              "<table border=\"1\" class=\"dataframe\">\n",
              "  <thead>\n",
              "    <tr style=\"text-align: right;\">\n",
              "      <th>c2</th>\n",
              "      <th>A</th>\n",
              "      <th>B</th>\n",
              "      <th>C</th>\n",
              "      <th>D</th>\n",
              "    </tr>\n",
              "    <tr>\n",
              "      <th>c1</th>\n",
              "      <th></th>\n",
              "      <th></th>\n",
              "      <th></th>\n",
              "      <th></th>\n",
              "    </tr>\n",
              "  </thead>\n",
              "  <tbody>\n",
              "    <tr>\n",
              "      <th>a</th>\n",
              "      <td>0.720282</td>\n",
              "      <td>0.201027</td>\n",
              "      <td>NaN</td>\n",
              "      <td>NaN</td>\n",
              "    </tr>\n",
              "    <tr>\n",
              "      <th>b</th>\n",
              "      <td>0.985372</td>\n",
              "      <td>0.349628</td>\n",
              "      <td>0.702081</td>\n",
              "      <td>NaN</td>\n",
              "    </tr>\n",
              "    <tr>\n",
              "      <th>c</th>\n",
              "      <td>NaN</td>\n",
              "      <td>NaN</td>\n",
              "      <td>NaN</td>\n",
              "      <td>0.35581</td>\n",
              "    </tr>\n",
              "    <tr>\n",
              "      <th>d</th>\n",
              "      <td>NaN</td>\n",
              "      <td>NaN</td>\n",
              "      <td>0.493571</td>\n",
              "      <td>NaN</td>\n",
              "    </tr>\n",
              "  </tbody>\n",
              "</table>\n",
              "</div>"
            ],
            "text/plain": [
              "c2         A         B         C        D\n",
              "c1                                       \n",
              "a   0.720282  0.201027       NaN      NaN\n",
              "b   0.985372  0.349628  0.702081      NaN\n",
              "c        NaN       NaN       NaN  0.35581\n",
              "d        NaN       NaN  0.493571      NaN"
            ]
          },
          "execution_count": 261,
          "metadata": {},
          "output_type": "execute_result"
        }
      ],
      "source": [
        "df['c4'].groupby([df['c1'], df['c2']]).mean().unstack()"
      ]
    },
    {
      "cell_type": "code",
      "execution_count": 262,
      "metadata": {
        "id": "v4t_XjXWROgc"
      },
      "outputs": [
        {
          "data": {
            "text/html": [
              "<div>\n",
              "<style scoped>\n",
              "    .dataframe tbody tr th:only-of-type {\n",
              "        vertical-align: middle;\n",
              "    }\n",
              "\n",
              "    .dataframe tbody tr th {\n",
              "        vertical-align: top;\n",
              "    }\n",
              "\n",
              "    .dataframe thead th {\n",
              "        text-align: right;\n",
              "    }\n",
              "</style>\n",
              "<table border=\"1\" class=\"dataframe\">\n",
              "  <thead>\n",
              "    <tr style=\"text-align: right;\">\n",
              "      <th></th>\n",
              "      <th>c3</th>\n",
              "      <th>c4</th>\n",
              "    </tr>\n",
              "    <tr>\n",
              "      <th>c1</th>\n",
              "      <th></th>\n",
              "      <th></th>\n",
              "    </tr>\n",
              "  </thead>\n",
              "  <tbody>\n",
              "    <tr>\n",
              "      <th>a</th>\n",
              "      <td>1.0</td>\n",
              "      <td>0.460654</td>\n",
              "    </tr>\n",
              "    <tr>\n",
              "      <th>b</th>\n",
              "      <td>1.0</td>\n",
              "      <td>0.679027</td>\n",
              "    </tr>\n",
              "    <tr>\n",
              "      <th>c</th>\n",
              "      <td>1.0</td>\n",
              "      <td>0.355810</td>\n",
              "    </tr>\n",
              "    <tr>\n",
              "      <th>d</th>\n",
              "      <td>1.0</td>\n",
              "      <td>0.493571</td>\n",
              "    </tr>\n",
              "  </tbody>\n",
              "</table>\n",
              "</div>"
            ],
            "text/plain": [
              "     c3        c4\n",
              "c1               \n",
              "a   1.0  0.460654\n",
              "b   1.0  0.679027\n",
              "c   1.0  0.355810\n",
              "d   1.0  0.493571"
            ]
          },
          "execution_count": 262,
          "metadata": {},
          "output_type": "execute_result"
        }
      ],
      "source": [
        "df.groupby('c1').mean()"
      ]
    },
    {
      "cell_type": "code",
      "execution_count": 263,
      "metadata": {
        "id": "WrFg05U5RXE6"
      },
      "outputs": [
        {
          "data": {
            "text/html": [
              "<div>\n",
              "<style scoped>\n",
              "    .dataframe tbody tr th:only-of-type {\n",
              "        vertical-align: middle;\n",
              "    }\n",
              "\n",
              "    .dataframe tbody tr th {\n",
              "        vertical-align: top;\n",
              "    }\n",
              "\n",
              "    .dataframe thead th {\n",
              "        text-align: right;\n",
              "    }\n",
              "</style>\n",
              "<table border=\"1\" class=\"dataframe\">\n",
              "  <thead>\n",
              "    <tr style=\"text-align: right;\">\n",
              "      <th></th>\n",
              "      <th></th>\n",
              "      <th>c3</th>\n",
              "      <th>c4</th>\n",
              "    </tr>\n",
              "    <tr>\n",
              "      <th>c1</th>\n",
              "      <th>c2</th>\n",
              "      <th></th>\n",
              "      <th></th>\n",
              "    </tr>\n",
              "  </thead>\n",
              "  <tbody>\n",
              "    <tr>\n",
              "      <th rowspan=\"2\" valign=\"top\">a</th>\n",
              "      <th>A</th>\n",
              "      <td>1.0</td>\n",
              "      <td>0.720282</td>\n",
              "    </tr>\n",
              "    <tr>\n",
              "      <th>B</th>\n",
              "      <td>1.0</td>\n",
              "      <td>0.201027</td>\n",
              "    </tr>\n",
              "    <tr>\n",
              "      <th rowspan=\"3\" valign=\"top\">b</th>\n",
              "      <th>A</th>\n",
              "      <td>1.0</td>\n",
              "      <td>0.985372</td>\n",
              "    </tr>\n",
              "    <tr>\n",
              "      <th>B</th>\n",
              "      <td>1.0</td>\n",
              "      <td>0.349628</td>\n",
              "    </tr>\n",
              "    <tr>\n",
              "      <th>C</th>\n",
              "      <td>1.0</td>\n",
              "      <td>0.702081</td>\n",
              "    </tr>\n",
              "    <tr>\n",
              "      <th>c</th>\n",
              "      <th>D</th>\n",
              "      <td>1.0</td>\n",
              "      <td>0.355810</td>\n",
              "    </tr>\n",
              "    <tr>\n",
              "      <th>d</th>\n",
              "      <th>C</th>\n",
              "      <td>1.0</td>\n",
              "      <td>0.493571</td>\n",
              "    </tr>\n",
              "  </tbody>\n",
              "</table>\n",
              "</div>"
            ],
            "text/plain": [
              "        c3        c4\n",
              "c1 c2               \n",
              "a  A   1.0  0.720282\n",
              "   B   1.0  0.201027\n",
              "b  A   1.0  0.985372\n",
              "   B   1.0  0.349628\n",
              "   C   1.0  0.702081\n",
              "c  D   1.0  0.355810\n",
              "d  C   1.0  0.493571"
            ]
          },
          "execution_count": 263,
          "metadata": {},
          "output_type": "execute_result"
        }
      ],
      "source": [
        "df.groupby(['c1', 'c2']).mean()"
      ]
    },
    {
      "cell_type": "code",
      "execution_count": 264,
      "metadata": {
        "id": "Oj5diRr-Rh3Y"
      },
      "outputs": [
        {
          "data": {
            "text/plain": [
              "c1  c2\n",
              "a   A     1\n",
              "    B     1\n",
              "b   A     1\n",
              "    B     1\n",
              "    C     1\n",
              "c   D     1\n",
              "d   C     1\n",
              "dtype: int64"
            ]
          },
          "execution_count": 264,
          "metadata": {},
          "output_type": "execute_result"
        }
      ],
      "source": [
        "df.groupby(['c1', 'c2']).size()"
      ]
    },
    {
      "cell_type": "code",
      "execution_count": 265,
      "metadata": {
        "id": "drwoM9kNViu9"
      },
      "outputs": [
        {
          "name": "stdout",
          "output_type": "stream",
          "text": [
            "a\n",
            "  c1 c2  c3        c4\n",
            "0  a  A   1  0.720282\n",
            "1  a  B   1  0.201027\n",
            "b\n",
            "  c1 c2  c3        c4\n",
            "2  b  B   1  0.349628\n",
            "3  b  A   1  0.985372\n",
            "6  b  C   1  0.702081\n",
            "c\n",
            "  c1 c2  c3       c4\n",
            "4  c  D   1  0.35581\n",
            "d\n",
            "  c1 c2  c3        c4\n",
            "5  d  C   1  0.493571\n"
          ]
        }
      ],
      "source": [
        "for c1, group in df.groupby('c1'):\n",
        "    print(c1)\n",
        "    print(group)"
      ]
    },
    {
      "cell_type": "code",
      "execution_count": 266,
      "metadata": {
        "id": "TYDUCgdCWQW7"
      },
      "outputs": [
        {
          "name": "stdout",
          "output_type": "stream",
          "text": [
            "('a', 'A')\n",
            "  c1 c2  c3        c4\n",
            "0  a  A   1  0.720282\n",
            "('a', 'B')\n",
            "  c1 c2  c3        c4\n",
            "1  a  B   1  0.201027\n",
            "('b', 'A')\n",
            "  c1 c2  c3        c4\n",
            "3  b  A   1  0.985372\n",
            "('b', 'B')\n",
            "  c1 c2  c3        c4\n",
            "2  b  B   1  0.349628\n",
            "('b', 'C')\n",
            "  c1 c2  c3        c4\n",
            "6  b  C   1  0.702081\n",
            "('c', 'D')\n",
            "  c1 c2  c3       c4\n",
            "4  c  D   1  0.35581\n",
            "('d', 'C')\n",
            "  c1 c2  c3        c4\n",
            "5  d  C   1  0.493571\n"
          ]
        }
      ],
      "source": [
        "for (c1, c2), group in df.groupby(['c1', 'c2']):\n",
        "    print((c1, c2))\n",
        "    print(group)"
      ]
    },
    {
      "cell_type": "code",
      "execution_count": 267,
      "metadata": {
        "id": "gqqcpQx6XFPD"
      },
      "outputs": [
        {
          "data": {
            "text/html": [
              "<div>\n",
              "<style scoped>\n",
              "    .dataframe tbody tr th:only-of-type {\n",
              "        vertical-align: middle;\n",
              "    }\n",
              "\n",
              "    .dataframe tbody tr th {\n",
              "        vertical-align: top;\n",
              "    }\n",
              "\n",
              "    .dataframe thead th {\n",
              "        text-align: right;\n",
              "    }\n",
              "</style>\n",
              "<table border=\"1\" class=\"dataframe\">\n",
              "  <thead>\n",
              "    <tr style=\"text-align: right;\">\n",
              "      <th></th>\n",
              "      <th></th>\n",
              "      <th>c4</th>\n",
              "    </tr>\n",
              "    <tr>\n",
              "      <th>c1</th>\n",
              "      <th>c2</th>\n",
              "      <th></th>\n",
              "    </tr>\n",
              "  </thead>\n",
              "  <tbody>\n",
              "    <tr>\n",
              "      <th rowspan=\"2\" valign=\"top\">a</th>\n",
              "      <th>A</th>\n",
              "      <td>0.720282</td>\n",
              "    </tr>\n",
              "    <tr>\n",
              "      <th>B</th>\n",
              "      <td>0.201027</td>\n",
              "    </tr>\n",
              "    <tr>\n",
              "      <th rowspan=\"3\" valign=\"top\">b</th>\n",
              "      <th>A</th>\n",
              "      <td>0.985372</td>\n",
              "    </tr>\n",
              "    <tr>\n",
              "      <th>B</th>\n",
              "      <td>0.349628</td>\n",
              "    </tr>\n",
              "    <tr>\n",
              "      <th>C</th>\n",
              "      <td>0.702081</td>\n",
              "    </tr>\n",
              "    <tr>\n",
              "      <th>c</th>\n",
              "      <th>D</th>\n",
              "      <td>0.355810</td>\n",
              "    </tr>\n",
              "    <tr>\n",
              "      <th>d</th>\n",
              "      <th>C</th>\n",
              "      <td>0.493571</td>\n",
              "    </tr>\n",
              "  </tbody>\n",
              "</table>\n",
              "</div>"
            ],
            "text/plain": [
              "             c4\n",
              "c1 c2          \n",
              "a  A   0.720282\n",
              "   B   0.201027\n",
              "b  A   0.985372\n",
              "   B   0.349628\n",
              "   C   0.702081\n",
              "c  D   0.355810\n",
              "d  C   0.493571"
            ]
          },
          "execution_count": 267,
          "metadata": {},
          "output_type": "execute_result"
        }
      ],
      "source": [
        "df.groupby(['c1', 'c2'])[['c4']].mean()"
      ]
    },
    {
      "cell_type": "code",
      "execution_count": 268,
      "metadata": {
        "id": "d7gVpUPyYgKO"
      },
      "outputs": [
        {
          "data": {
            "text/html": [
              "<div>\n",
              "<style scoped>\n",
              "    .dataframe tbody tr th:only-of-type {\n",
              "        vertical-align: middle;\n",
              "    }\n",
              "\n",
              "    .dataframe tbody tr th {\n",
              "        vertical-align: top;\n",
              "    }\n",
              "\n",
              "    .dataframe thead th {\n",
              "        text-align: right;\n",
              "    }\n",
              "</style>\n",
              "<table border=\"1\" class=\"dataframe\">\n",
              "  <thead>\n",
              "    <tr style=\"text-align: right;\">\n",
              "      <th></th>\n",
              "      <th>c3</th>\n",
              "    </tr>\n",
              "    <tr>\n",
              "      <th>c1</th>\n",
              "      <th></th>\n",
              "    </tr>\n",
              "  </thead>\n",
              "  <tbody>\n",
              "    <tr>\n",
              "      <th>a</th>\n",
              "      <td>1.0</td>\n",
              "    </tr>\n",
              "    <tr>\n",
              "      <th>b</th>\n",
              "      <td>1.0</td>\n",
              "    </tr>\n",
              "    <tr>\n",
              "      <th>c</th>\n",
              "      <td>1.0</td>\n",
              "    </tr>\n",
              "    <tr>\n",
              "      <th>d</th>\n",
              "      <td>1.0</td>\n",
              "    </tr>\n",
              "  </tbody>\n",
              "</table>\n",
              "</div>"
            ],
            "text/plain": [
              "     c3\n",
              "c1     \n",
              "a   1.0\n",
              "b   1.0\n",
              "c   1.0\n",
              "d   1.0"
            ]
          },
          "execution_count": 268,
          "metadata": {},
          "output_type": "execute_result"
        }
      ],
      "source": [
        "df.groupby('c1')[['c3']].quantile()"
      ]
    },
    {
      "cell_type": "code",
      "execution_count": 269,
      "metadata": {
        "id": "mS0V6sfQZyQv"
      },
      "outputs": [
        {
          "data": {
            "text/plain": [
              "c1\n",
              "a    2\n",
              "b    3\n",
              "c    1\n",
              "d    1\n",
              "Name: c3, dtype: int64"
            ]
          },
          "execution_count": 269,
          "metadata": {},
          "output_type": "execute_result"
        }
      ],
      "source": [
        "df.groupby('c1')['c3'].count()"
      ]
    },
    {
      "cell_type": "code",
      "execution_count": 270,
      "metadata": {
        "id": "bEv1Yx3dZ2kO"
      },
      "outputs": [
        {
          "data": {
            "text/plain": [
              "c1\n",
              "a    0.460654\n",
              "b    0.702081\n",
              "c    0.355810\n",
              "d    0.493571\n",
              "Name: c4, dtype: float64"
            ]
          },
          "execution_count": 270,
          "metadata": {},
          "output_type": "execute_result"
        }
      ],
      "source": [
        "df.groupby('c1')['c4'].median()"
      ]
    },
    {
      "cell_type": "code",
      "execution_count": 271,
      "metadata": {
        "id": "jsZefMocZ58d"
      },
      "outputs": [
        {
          "data": {
            "text/plain": [
              "c1\n",
              "a    0.367169\n",
              "b    0.318498\n",
              "c         NaN\n",
              "d         NaN\n",
              "Name: c4, dtype: float64"
            ]
          },
          "execution_count": 271,
          "metadata": {},
          "output_type": "execute_result"
        }
      ],
      "source": [
        "df.groupby('c1')['c4'].std()"
      ]
    },
    {
      "cell_type": "code",
      "execution_count": 272,
      "metadata": {
        "id": "zDCS1WJUalpC"
      },
      "outputs": [
        {
          "data": {
            "text/html": [
              "<div>\n",
              "<style scoped>\n",
              "    .dataframe tbody tr th:only-of-type {\n",
              "        vertical-align: middle;\n",
              "    }\n",
              "\n",
              "    .dataframe tbody tr th {\n",
              "        vertical-align: top;\n",
              "    }\n",
              "\n",
              "    .dataframe thead th {\n",
              "        text-align: right;\n",
              "    }\n",
              "</style>\n",
              "<table border=\"1\" class=\"dataframe\">\n",
              "  <thead>\n",
              "    <tr style=\"text-align: right;\">\n",
              "      <th></th>\n",
              "      <th></th>\n",
              "      <th>mean</th>\n",
              "      <th>min</th>\n",
              "      <th>max</th>\n",
              "    </tr>\n",
              "    <tr>\n",
              "      <th>c1</th>\n",
              "      <th>c2</th>\n",
              "      <th></th>\n",
              "      <th></th>\n",
              "      <th></th>\n",
              "    </tr>\n",
              "  </thead>\n",
              "  <tbody>\n",
              "    <tr>\n",
              "      <th rowspan=\"2\" valign=\"top\">a</th>\n",
              "      <th>A</th>\n",
              "      <td>0.720282</td>\n",
              "      <td>0.720282</td>\n",
              "      <td>0.720282</td>\n",
              "    </tr>\n",
              "    <tr>\n",
              "      <th>B</th>\n",
              "      <td>0.201027</td>\n",
              "      <td>0.201027</td>\n",
              "      <td>0.201027</td>\n",
              "    </tr>\n",
              "    <tr>\n",
              "      <th rowspan=\"3\" valign=\"top\">b</th>\n",
              "      <th>A</th>\n",
              "      <td>0.985372</td>\n",
              "      <td>0.985372</td>\n",
              "      <td>0.985372</td>\n",
              "    </tr>\n",
              "    <tr>\n",
              "      <th>B</th>\n",
              "      <td>0.349628</td>\n",
              "      <td>0.349628</td>\n",
              "      <td>0.349628</td>\n",
              "    </tr>\n",
              "    <tr>\n",
              "      <th>C</th>\n",
              "      <td>0.702081</td>\n",
              "      <td>0.702081</td>\n",
              "      <td>0.702081</td>\n",
              "    </tr>\n",
              "    <tr>\n",
              "      <th>c</th>\n",
              "      <th>D</th>\n",
              "      <td>0.355810</td>\n",
              "      <td>0.355810</td>\n",
              "      <td>0.355810</td>\n",
              "    </tr>\n",
              "    <tr>\n",
              "      <th>d</th>\n",
              "      <th>C</th>\n",
              "      <td>0.493571</td>\n",
              "      <td>0.493571</td>\n",
              "      <td>0.493571</td>\n",
              "    </tr>\n",
              "  </tbody>\n",
              "</table>\n",
              "</div>"
            ],
            "text/plain": [
              "           mean       min       max\n",
              "c1 c2                              \n",
              "a  A   0.720282  0.720282  0.720282\n",
              "   B   0.201027  0.201027  0.201027\n",
              "b  A   0.985372  0.985372  0.985372\n",
              "   B   0.349628  0.349628  0.349628\n",
              "   C   0.702081  0.702081  0.702081\n",
              "c  D   0.355810  0.355810  0.355810\n",
              "d  C   0.493571  0.493571  0.493571"
            ]
          },
          "execution_count": 272,
          "metadata": {},
          "output_type": "execute_result"
        }
      ],
      "source": [
        "df.groupby(['c1', 'c2'])['c4'].agg(['mean', 'min', 'max'])"
      ]
    },
    {
      "cell_type": "code",
      "execution_count": 273,
      "metadata": {
        "id": "b8GgSFhgbrGu"
      },
      "outputs": [
        {
          "data": {
            "text/html": [
              "<div>\n",
              "<style scoped>\n",
              "    .dataframe tbody tr th:only-of-type {\n",
              "        vertical-align: middle;\n",
              "    }\n",
              "\n",
              "    .dataframe tbody tr th {\n",
              "        vertical-align: top;\n",
              "    }\n",
              "\n",
              "    .dataframe thead th {\n",
              "        text-align: right;\n",
              "    }\n",
              "</style>\n",
              "<table border=\"1\" class=\"dataframe\">\n",
              "  <thead>\n",
              "    <tr style=\"text-align: right;\">\n",
              "      <th></th>\n",
              "      <th>c1</th>\n",
              "      <th>c2</th>\n",
              "      <th>c4</th>\n",
              "    </tr>\n",
              "  </thead>\n",
              "  <tbody>\n",
              "    <tr>\n",
              "      <th>0</th>\n",
              "      <td>a</td>\n",
              "      <td>A</td>\n",
              "      <td>0.720282</td>\n",
              "    </tr>\n",
              "    <tr>\n",
              "      <th>1</th>\n",
              "      <td>a</td>\n",
              "      <td>B</td>\n",
              "      <td>0.201027</td>\n",
              "    </tr>\n",
              "    <tr>\n",
              "      <th>2</th>\n",
              "      <td>b</td>\n",
              "      <td>A</td>\n",
              "      <td>0.985372</td>\n",
              "    </tr>\n",
              "    <tr>\n",
              "      <th>3</th>\n",
              "      <td>b</td>\n",
              "      <td>B</td>\n",
              "      <td>0.349628</td>\n",
              "    </tr>\n",
              "    <tr>\n",
              "      <th>4</th>\n",
              "      <td>b</td>\n",
              "      <td>C</td>\n",
              "      <td>0.702081</td>\n",
              "    </tr>\n",
              "    <tr>\n",
              "      <th>5</th>\n",
              "      <td>c</td>\n",
              "      <td>D</td>\n",
              "      <td>0.355810</td>\n",
              "    </tr>\n",
              "    <tr>\n",
              "      <th>6</th>\n",
              "      <td>d</td>\n",
              "      <td>C</td>\n",
              "      <td>0.493571</td>\n",
              "    </tr>\n",
              "  </tbody>\n",
              "</table>\n",
              "</div>"
            ],
            "text/plain": [
              "  c1 c2        c4\n",
              "0  a  A  0.720282\n",
              "1  a  B  0.201027\n",
              "2  b  A  0.985372\n",
              "3  b  B  0.349628\n",
              "4  b  C  0.702081\n",
              "5  c  D  0.355810\n",
              "6  d  C  0.493571"
            ]
          },
          "execution_count": 273,
          "metadata": {},
          "output_type": "execute_result"
        }
      ],
      "source": [
        "df.groupby(['c1', 'c2'], as_index=False)['c4'].mean()"
      ]
    },
    {
      "cell_type": "code",
      "execution_count": 274,
      "metadata": {
        "id": "-sBX539zduqJ"
      },
      "outputs": [
        {
          "data": {
            "text/plain": [
              "c1  c2\n",
              "a   A     0.720282\n",
              "    B     0.201027\n",
              "b   A     0.985372\n",
              "    B     0.349628\n",
              "    C     0.702081\n",
              "c   D     0.355810\n",
              "d   C     0.493571\n",
              "Name: c4, dtype: float64"
            ]
          },
          "execution_count": 274,
          "metadata": {},
          "output_type": "execute_result"
        }
      ],
      "source": [
        "df.groupby(['c1', 'c2'], group_keys=False)['c4'].mean()"
      ]
    },
    {
      "cell_type": "code",
      "execution_count": 275,
      "metadata": {
        "id": "ijUek7SAd3DR"
      },
      "outputs": [
        {
          "data": {
            "text/html": [
              "<div>\n",
              "<style scoped>\n",
              "    .dataframe tbody tr th:only-of-type {\n",
              "        vertical-align: middle;\n",
              "    }\n",
              "\n",
              "    .dataframe tbody tr th {\n",
              "        vertical-align: top;\n",
              "    }\n",
              "\n",
              "    .dataframe thead th {\n",
              "        text-align: right;\n",
              "    }\n",
              "</style>\n",
              "<table border=\"1\" class=\"dataframe\">\n",
              "  <thead>\n",
              "    <tr style=\"text-align: right;\">\n",
              "      <th></th>\n",
              "      <th>c1</th>\n",
              "      <th>c2</th>\n",
              "      <th>c3</th>\n",
              "      <th>c4</th>\n",
              "    </tr>\n",
              "  </thead>\n",
              "  <tbody>\n",
              "    <tr>\n",
              "      <th>2</th>\n",
              "      <td>b</td>\n",
              "      <td>B</td>\n",
              "      <td>1</td>\n",
              "      <td>0.349628</td>\n",
              "    </tr>\n",
              "    <tr>\n",
              "      <th>3</th>\n",
              "      <td>b</td>\n",
              "      <td>A</td>\n",
              "      <td>1</td>\n",
              "      <td>0.985372</td>\n",
              "    </tr>\n",
              "    <tr>\n",
              "      <th>6</th>\n",
              "      <td>b</td>\n",
              "      <td>C</td>\n",
              "      <td>1</td>\n",
              "      <td>0.702081</td>\n",
              "    </tr>\n",
              "    <tr>\n",
              "      <th>4</th>\n",
              "      <td>c</td>\n",
              "      <td>D</td>\n",
              "      <td>1</td>\n",
              "      <td>0.355810</td>\n",
              "    </tr>\n",
              "    <tr>\n",
              "      <th>5</th>\n",
              "      <td>d</td>\n",
              "      <td>C</td>\n",
              "      <td>1</td>\n",
              "      <td>0.493571</td>\n",
              "    </tr>\n",
              "  </tbody>\n",
              "</table>\n",
              "</div>"
            ],
            "text/plain": [
              "  c1 c2  c3        c4\n",
              "2  b  B   1  0.349628\n",
              "3  b  A   1  0.985372\n",
              "6  b  C   1  0.702081\n",
              "4  c  D   1  0.355810\n",
              "5  d  C   1  0.493571"
            ]
          },
          "execution_count": 275,
          "metadata": {},
          "output_type": "execute_result"
        }
      ],
      "source": [
        "def top(df, n=3, column='c1'):\n",
        "    return df.sort_values(by=column)[-n:]\n",
        "\n",
        "top(df, n=5)"
      ]
    },
    {
      "cell_type": "code",
      "execution_count": 276,
      "metadata": {
        "id": "3Tl7uqElcX7o"
      },
      "outputs": [
        {
          "data": {
            "text/html": [
              "<div>\n",
              "<style scoped>\n",
              "    .dataframe tbody tr th:only-of-type {\n",
              "        vertical-align: middle;\n",
              "    }\n",
              "\n",
              "    .dataframe tbody tr th {\n",
              "        vertical-align: top;\n",
              "    }\n",
              "\n",
              "    .dataframe thead th {\n",
              "        text-align: right;\n",
              "    }\n",
              "</style>\n",
              "<table border=\"1\" class=\"dataframe\">\n",
              "  <thead>\n",
              "    <tr style=\"text-align: right;\">\n",
              "      <th></th>\n",
              "      <th></th>\n",
              "      <th>c1</th>\n",
              "      <th>c2</th>\n",
              "      <th>c3</th>\n",
              "      <th>c4</th>\n",
              "    </tr>\n",
              "    <tr>\n",
              "      <th>c1</th>\n",
              "      <th></th>\n",
              "      <th></th>\n",
              "      <th></th>\n",
              "      <th></th>\n",
              "      <th></th>\n",
              "    </tr>\n",
              "  </thead>\n",
              "  <tbody>\n",
              "    <tr>\n",
              "      <th rowspan=\"2\" valign=\"top\">a</th>\n",
              "      <th>0</th>\n",
              "      <td>a</td>\n",
              "      <td>A</td>\n",
              "      <td>1</td>\n",
              "      <td>0.720282</td>\n",
              "    </tr>\n",
              "    <tr>\n",
              "      <th>1</th>\n",
              "      <td>a</td>\n",
              "      <td>B</td>\n",
              "      <td>1</td>\n",
              "      <td>0.201027</td>\n",
              "    </tr>\n",
              "    <tr>\n",
              "      <th rowspan=\"3\" valign=\"top\">b</th>\n",
              "      <th>2</th>\n",
              "      <td>b</td>\n",
              "      <td>B</td>\n",
              "      <td>1</td>\n",
              "      <td>0.349628</td>\n",
              "    </tr>\n",
              "    <tr>\n",
              "      <th>3</th>\n",
              "      <td>b</td>\n",
              "      <td>A</td>\n",
              "      <td>1</td>\n",
              "      <td>0.985372</td>\n",
              "    </tr>\n",
              "    <tr>\n",
              "      <th>6</th>\n",
              "      <td>b</td>\n",
              "      <td>C</td>\n",
              "      <td>1</td>\n",
              "      <td>0.702081</td>\n",
              "    </tr>\n",
              "    <tr>\n",
              "      <th>c</th>\n",
              "      <th>4</th>\n",
              "      <td>c</td>\n",
              "      <td>D</td>\n",
              "      <td>1</td>\n",
              "      <td>0.355810</td>\n",
              "    </tr>\n",
              "    <tr>\n",
              "      <th>d</th>\n",
              "      <th>5</th>\n",
              "      <td>d</td>\n",
              "      <td>C</td>\n",
              "      <td>1</td>\n",
              "      <td>0.493571</td>\n",
              "    </tr>\n",
              "  </tbody>\n",
              "</table>\n",
              "</div>"
            ],
            "text/plain": [
              "     c1 c2  c3        c4\n",
              "c1                      \n",
              "a  0  a  A   1  0.720282\n",
              "   1  a  B   1  0.201027\n",
              "b  2  b  B   1  0.349628\n",
              "   3  b  A   1  0.985372\n",
              "   6  b  C   1  0.702081\n",
              "c  4  c  D   1  0.355810\n",
              "d  5  d  C   1  0.493571"
            ]
          },
          "execution_count": 276,
          "metadata": {},
          "output_type": "execute_result"
        }
      ],
      "source": [
        "df.groupby('c1').apply(top)"
      ]
    },
    {
      "cell_type": "markdown",
      "metadata": {
        "id": "VS9PZhnt2_h8"
      },
      "source": [
        "### 피벗 테이블(Pivot Table)\n"
      ]
    },
    {
      "cell_type": "code",
      "execution_count": null,
      "metadata": {
        "id": "hBXmgzUzeflH"
      },
      "outputs": [],
      "source": []
    },
    {
      "cell_type": "code",
      "execution_count": null,
      "metadata": {
        "id": "voeul-pxfOb3"
      },
      "outputs": [],
      "source": []
    },
    {
      "cell_type": "code",
      "execution_count": null,
      "metadata": {
        "id": "VCusVjzqfXRb"
      },
      "outputs": [],
      "source": []
    },
    {
      "cell_type": "code",
      "execution_count": null,
      "metadata": {
        "id": "OaUu1cdEgO6f"
      },
      "outputs": [],
      "source": []
    },
    {
      "cell_type": "code",
      "execution_count": null,
      "metadata": {
        "id": "I77K4Mg8jyct"
      },
      "outputs": [],
      "source": []
    },
    {
      "cell_type": "code",
      "execution_count": null,
      "metadata": {
        "id": "xC-rXgvbgivr"
      },
      "outputs": [],
      "source": []
    },
    {
      "cell_type": "markdown",
      "metadata": {
        "id": "bbyFIbJkBjvD"
      },
      "source": [
        "### 범주형(Categorical) 데이터\n"
      ]
    },
    {
      "cell_type": "code",
      "execution_count": null,
      "metadata": {
        "id": "A6tDHNBCBnTT"
      },
      "outputs": [],
      "source": []
    },
    {
      "cell_type": "code",
      "execution_count": null,
      "metadata": {
        "id": "v-_JtRj8B5Wk"
      },
      "outputs": [],
      "source": []
    },
    {
      "cell_type": "code",
      "execution_count": null,
      "metadata": {
        "id": "8EnnyCEdB8J-"
      },
      "outputs": [],
      "source": []
    },
    {
      "cell_type": "code",
      "execution_count": null,
      "metadata": {
        "id": "7Bi_tGNMCD7o"
      },
      "outputs": [],
      "source": []
    },
    {
      "cell_type": "code",
      "execution_count": null,
      "metadata": {
        "id": "4aO21aofCNNx"
      },
      "outputs": [],
      "source": []
    },
    {
      "cell_type": "code",
      "execution_count": null,
      "metadata": {
        "id": "fJ5nbwbVCV0m"
      },
      "outputs": [],
      "source": []
    },
    {
      "cell_type": "code",
      "execution_count": null,
      "metadata": {
        "id": "MZyW5zGdCpx1"
      },
      "outputs": [],
      "source": []
    },
    {
      "cell_type": "code",
      "execution_count": null,
      "metadata": {
        "id": "tOX0QS_iDe60"
      },
      "outputs": [],
      "source": []
    },
    {
      "cell_type": "code",
      "execution_count": null,
      "metadata": {
        "id": "vjDgdPmHE6nK"
      },
      "outputs": [],
      "source": []
    },
    {
      "cell_type": "code",
      "execution_count": null,
      "metadata": {
        "id": "n30Dxm_JFeha"
      },
      "outputs": [],
      "source": []
    },
    {
      "cell_type": "code",
      "execution_count": null,
      "metadata": {
        "id": "Dm7eTHHUFloX"
      },
      "outputs": [],
      "source": []
    },
    {
      "cell_type": "code",
      "execution_count": null,
      "metadata": {
        "id": "w9zC9hE8Fzbj"
      },
      "outputs": [],
      "source": []
    },
    {
      "cell_type": "code",
      "execution_count": null,
      "metadata": {
        "id": "kHIkmMF3F7E6"
      },
      "outputs": [],
      "source": []
    },
    {
      "cell_type": "code",
      "execution_count": null,
      "metadata": {
        "id": "0Hd3a20OGIeK"
      },
      "outputs": [],
      "source": []
    },
    {
      "cell_type": "code",
      "execution_count": null,
      "metadata": {
        "id": "n3MRLHmPHKM2"
      },
      "outputs": [],
      "source": []
    },
    {
      "cell_type": "code",
      "execution_count": null,
      "metadata": {
        "id": "2PYX6ou4HjlD"
      },
      "outputs": [],
      "source": []
    },
    {
      "cell_type": "code",
      "execution_count": null,
      "metadata": {
        "id": "tR-KJXBqH_DD"
      },
      "outputs": [],
      "source": []
    },
    {
      "cell_type": "code",
      "execution_count": null,
      "metadata": {
        "id": "Hiiiuv8DIJRJ"
      },
      "outputs": [],
      "source": []
    },
    {
      "cell_type": "code",
      "execution_count": null,
      "metadata": {
        "id": "Oxhdd12PIQGR"
      },
      "outputs": [],
      "source": []
    },
    {
      "cell_type": "code",
      "execution_count": null,
      "metadata": {
        "id": "w2kR4J0HIagG"
      },
      "outputs": [],
      "source": []
    },
    {
      "cell_type": "code",
      "execution_count": null,
      "metadata": {
        "id": "PP_HNmTxIsi7"
      },
      "outputs": [],
      "source": []
    },
    {
      "cell_type": "code",
      "execution_count": null,
      "metadata": {
        "id": "oOEz4iOoI4tx"
      },
      "outputs": [],
      "source": []
    },
    {
      "cell_type": "code",
      "execution_count": null,
      "metadata": {
        "id": "-Vrw8j9CJ1Qw"
      },
      "outputs": [],
      "source": []
    },
    {
      "cell_type": "markdown",
      "metadata": {
        "id": "wjRK-aLNzLKo"
      },
      "source": [
        "## 문자열 연산"
      ]
    },
    {
      "cell_type": "markdown",
      "metadata": {
        "id": "q1LwRoiH0h8A"
      },
      "source": [
        "#### 문자열 연산자"
      ]
    },
    {
      "cell_type": "code",
      "execution_count": null,
      "metadata": {
        "id": "AXJwgoGYyPx7"
      },
      "outputs": [],
      "source": []
    },
    {
      "cell_type": "code",
      "execution_count": null,
      "metadata": {
        "id": "8UZuQclNzvy7"
      },
      "outputs": [],
      "source": []
    },
    {
      "cell_type": "code",
      "execution_count": null,
      "metadata": {
        "id": "RKC2Y-_p1cgf"
      },
      "outputs": [],
      "source": []
    },
    {
      "cell_type": "code",
      "execution_count": null,
      "metadata": {
        "id": "pEza_iX71gdo"
      },
      "outputs": [],
      "source": []
    },
    {
      "cell_type": "markdown",
      "metadata": {
        "id": "fmpHWLto8PPZ"
      },
      "source": [
        "#### 기타 연산자\n"
      ]
    },
    {
      "cell_type": "code",
      "execution_count": null,
      "metadata": {
        "id": "8OoAFpYw5xUT"
      },
      "outputs": [],
      "source": []
    },
    {
      "cell_type": "code",
      "execution_count": null,
      "metadata": {
        "id": "psOVr0dE8_hQ"
      },
      "outputs": [],
      "source": []
    },
    {
      "cell_type": "code",
      "execution_count": null,
      "metadata": {
        "id": "c1OM6UFk94ty"
      },
      "outputs": [],
      "source": []
    },
    {
      "cell_type": "code",
      "execution_count": null,
      "metadata": {
        "id": "8gTH3OAa9F7R"
      },
      "outputs": [],
      "source": []
    },
    {
      "cell_type": "markdown",
      "metadata": {
        "id": "cc5I6nYe2rIA"
      },
      "source": [
        "#### 정규표현식\n"
      ]
    },
    {
      "cell_type": "code",
      "execution_count": null,
      "metadata": {
        "id": "f__zeZaV2hJt"
      },
      "outputs": [],
      "source": []
    },
    {
      "cell_type": "code",
      "execution_count": null,
      "metadata": {
        "id": "WE-XezJe4FJ1"
      },
      "outputs": [],
      "source": []
    },
    {
      "cell_type": "markdown",
      "metadata": {
        "id": "coa1wuPKAjE4"
      },
      "source": [
        "## 시계열 처리"
      ]
    },
    {
      "cell_type": "code",
      "execution_count": null,
      "metadata": {
        "id": "DpzWbv0F9eE2"
      },
      "outputs": [],
      "source": []
    },
    {
      "cell_type": "code",
      "execution_count": null,
      "metadata": {
        "id": "ucLDgwSaBC-j"
      },
      "outputs": [],
      "source": []
    },
    {
      "cell_type": "code",
      "execution_count": null,
      "metadata": {
        "id": "ULqUMOA6BLTV"
      },
      "outputs": [],
      "source": []
    },
    {
      "cell_type": "code",
      "execution_count": null,
      "metadata": {
        "id": "AWSo-DsCDlem"
      },
      "outputs": [],
      "source": []
    },
    {
      "cell_type": "markdown",
      "metadata": {
        "id": "KuoU8dtlD7kR"
      },
      "source": [
        "#### 시계열 데이터 구조\n"
      ]
    },
    {
      "cell_type": "code",
      "execution_count": null,
      "metadata": {
        "id": "WRDRlDNPDzAc"
      },
      "outputs": [],
      "source": []
    },
    {
      "cell_type": "code",
      "execution_count": null,
      "metadata": {
        "id": "jEXv5UcQHKoZ"
      },
      "outputs": [],
      "source": []
    },
    {
      "cell_type": "code",
      "execution_count": null,
      "metadata": {
        "id": "i11dXCIKIKIA"
      },
      "outputs": [],
      "source": []
    },
    {
      "cell_type": "code",
      "execution_count": null,
      "metadata": {
        "id": "747a7Q8AIOVZ"
      },
      "outputs": [],
      "source": []
    },
    {
      "cell_type": "code",
      "execution_count": null,
      "metadata": {
        "id": "hfaW7kliITUq"
      },
      "outputs": [],
      "source": []
    },
    {
      "cell_type": "code",
      "execution_count": null,
      "metadata": {
        "id": "QnIaj9cfIwjG"
      },
      "outputs": [],
      "source": []
    },
    {
      "cell_type": "code",
      "execution_count": null,
      "metadata": {
        "id": "3A5IqEhwI2KO"
      },
      "outputs": [],
      "source": []
    },
    {
      "cell_type": "code",
      "execution_count": null,
      "metadata": {
        "id": "DmqQPTOgiHLD"
      },
      "outputs": [],
      "source": []
    },
    {
      "cell_type": "code",
      "execution_count": null,
      "metadata": {
        "id": "sWSFkY1EieM6"
      },
      "outputs": [],
      "source": []
    },
    {
      "cell_type": "code",
      "execution_count": null,
      "metadata": {
        "id": "15Nbw1roimzp"
      },
      "outputs": [],
      "source": []
    },
    {
      "cell_type": "markdown",
      "metadata": {
        "id": "eUdhdTqckQML"
      },
      "source": [
        "### 시계열 기본"
      ]
    },
    {
      "cell_type": "code",
      "execution_count": null,
      "metadata": {
        "id": "o3C5bsKnkS3z"
      },
      "outputs": [],
      "source": []
    },
    {
      "cell_type": "code",
      "execution_count": null,
      "metadata": {
        "id": "n0NOghJ3lK8f"
      },
      "outputs": [],
      "source": []
    },
    {
      "cell_type": "code",
      "execution_count": null,
      "metadata": {
        "id": "_eTZ-8BOlYb_"
      },
      "outputs": [],
      "source": []
    },
    {
      "cell_type": "code",
      "execution_count": null,
      "metadata": {
        "id": "vr-FEVSyll5c"
      },
      "outputs": [],
      "source": []
    },
    {
      "cell_type": "code",
      "execution_count": null,
      "metadata": {
        "id": "aaRJ83ZNm1P4"
      },
      "outputs": [],
      "source": []
    },
    {
      "cell_type": "code",
      "execution_count": null,
      "metadata": {
        "id": "h9tW0LHSnAT7"
      },
      "outputs": [],
      "source": []
    },
    {
      "cell_type": "code",
      "execution_count": null,
      "metadata": {
        "id": "-PiTx7qanLSF"
      },
      "outputs": [],
      "source": []
    },
    {
      "cell_type": "code",
      "execution_count": null,
      "metadata": {
        "id": "RZXHXH79oL87"
      },
      "outputs": [],
      "source": []
    },
    {
      "cell_type": "code",
      "execution_count": null,
      "metadata": {
        "id": "OrV7HKEkoZL7"
      },
      "outputs": [],
      "source": []
    },
    {
      "cell_type": "code",
      "execution_count": null,
      "metadata": {
        "id": "bAtqzI_jor5X"
      },
      "outputs": [],
      "source": []
    },
    {
      "cell_type": "code",
      "execution_count": null,
      "metadata": {
        "id": "AkHSxPFKpW3g"
      },
      "outputs": [],
      "source": []
    },
    {
      "cell_type": "code",
      "execution_count": null,
      "metadata": {
        "id": "BLcA7EkOpdwC"
      },
      "outputs": [],
      "source": []
    },
    {
      "cell_type": "code",
      "execution_count": null,
      "metadata": {
        "id": "k2WCkszlqEwH"
      },
      "outputs": [],
      "source": []
    },
    {
      "cell_type": "code",
      "execution_count": null,
      "metadata": {
        "id": "PDFICllKqwrv"
      },
      "outputs": [],
      "source": []
    },
    {
      "cell_type": "code",
      "execution_count": null,
      "metadata": {
        "id": "3q6TX5rVq0q1"
      },
      "outputs": [],
      "source": []
    },
    {
      "cell_type": "code",
      "execution_count": null,
      "metadata": {
        "id": "n0FVEH7sq74X"
      },
      "outputs": [],
      "source": []
    },
    {
      "cell_type": "code",
      "execution_count": null,
      "metadata": {
        "id": "hkbUwF9JrULg"
      },
      "outputs": [],
      "source": []
    },
    {
      "cell_type": "code",
      "execution_count": null,
      "metadata": {
        "id": "Bo4Ao2zisOs6"
      },
      "outputs": [],
      "source": []
    },
    {
      "cell_type": "code",
      "execution_count": null,
      "metadata": {
        "id": "0jxhrhS3tBEq"
      },
      "outputs": [],
      "source": []
    },
    {
      "cell_type": "code",
      "execution_count": null,
      "metadata": {
        "id": "4M9BEkp3tIKW"
      },
      "outputs": [],
      "source": []
    },
    {
      "cell_type": "code",
      "execution_count": null,
      "metadata": {
        "id": "H8vDMscHtRUp"
      },
      "outputs": [],
      "source": []
    },
    {
      "cell_type": "code",
      "execution_count": null,
      "metadata": {
        "id": "eFP7MlKWtiNc"
      },
      "outputs": [],
      "source": []
    },
    {
      "cell_type": "code",
      "execution_count": null,
      "metadata": {
        "id": "k9MGkCSBuAQ1"
      },
      "outputs": [],
      "source": []
    },
    {
      "cell_type": "code",
      "execution_count": null,
      "metadata": {
        "id": "Xhpa_AEWuGv5"
      },
      "outputs": [],
      "source": []
    },
    {
      "cell_type": "code",
      "execution_count": null,
      "metadata": {
        "id": "OExzMN61uUfo"
      },
      "outputs": [],
      "source": []
    },
    {
      "cell_type": "markdown",
      "metadata": {
        "id": "qyGkgydIJVm5"
      },
      "source": [
        "### 주기와 오프셋\n"
      ]
    },
    {
      "cell_type": "code",
      "execution_count": null,
      "metadata": {
        "id": "00N0V3YjI7Vh"
      },
      "outputs": [],
      "source": []
    },
    {
      "cell_type": "code",
      "execution_count": null,
      "metadata": {
        "id": "WSeShMblJDWE"
      },
      "outputs": [],
      "source": []
    },
    {
      "cell_type": "code",
      "execution_count": null,
      "metadata": {
        "id": "IZVLhHbBJMpm"
      },
      "outputs": [],
      "source": []
    },
    {
      "cell_type": "code",
      "execution_count": null,
      "metadata": {
        "id": "8Uzz7uZEK-mZ"
      },
      "outputs": [],
      "source": []
    },
    {
      "cell_type": "code",
      "execution_count": null,
      "metadata": {
        "id": "VGWXkmAh4ZcT"
      },
      "outputs": [],
      "source": []
    },
    {
      "cell_type": "code",
      "execution_count": null,
      "metadata": {
        "id": "2CeqVHBx33XS"
      },
      "outputs": [],
      "source": []
    },
    {
      "cell_type": "markdown",
      "metadata": {
        "id": "muiRlbyH7LPh"
      },
      "source": [
        "### 시프트(Shift)"
      ]
    },
    {
      "cell_type": "code",
      "execution_count": null,
      "metadata": {
        "id": "nYJfyvH-5LZB"
      },
      "outputs": [],
      "source": []
    },
    {
      "cell_type": "code",
      "execution_count": null,
      "metadata": {
        "id": "Dve8sn3D5n4p"
      },
      "outputs": [],
      "source": []
    },
    {
      "cell_type": "code",
      "execution_count": null,
      "metadata": {
        "id": "qWXBes3q5qo6"
      },
      "outputs": [],
      "source": []
    },
    {
      "cell_type": "code",
      "execution_count": null,
      "metadata": {
        "id": "ZN-dCvZU5tLx"
      },
      "outputs": [],
      "source": []
    },
    {
      "cell_type": "code",
      "execution_count": null,
      "metadata": {
        "id": "Yzi9nKB_53D-"
      },
      "outputs": [],
      "source": []
    },
    {
      "cell_type": "code",
      "execution_count": null,
      "metadata": {
        "id": "oUavnBzH6IR1"
      },
      "outputs": [],
      "source": []
    },
    {
      "cell_type": "markdown",
      "metadata": {
        "id": "IGa7k2HO7PJp"
      },
      "source": [
        "### 시간대 처리\n",
        "\n",
        "* 국제표준시(Coordinated Universal Time, UTC)를 기준으로 떨어진 거리만큼 오프셋으로 시간대 처리\n",
        "* 전 세계의 시간대 정보를 모아놓은 올슨 데이터베이스를 활용한 라이브러리인 `pytz` 사용"
      ]
    },
    {
      "cell_type": "code",
      "execution_count": null,
      "metadata": {
        "id": "FxrFeONy7QNb"
      },
      "outputs": [],
      "source": []
    },
    {
      "cell_type": "code",
      "execution_count": null,
      "metadata": {
        "id": "GRjk1NK-7P3O"
      },
      "outputs": [],
      "source": []
    },
    {
      "cell_type": "code",
      "execution_count": null,
      "metadata": {
        "id": "wjngkZuzOU1U"
      },
      "outputs": [],
      "source": []
    },
    {
      "cell_type": "code",
      "execution_count": null,
      "metadata": {
        "id": "_AxYonc1PV1o"
      },
      "outputs": [],
      "source": []
    },
    {
      "cell_type": "code",
      "execution_count": null,
      "metadata": {
        "id": "Zyc-pgsLPxHx"
      },
      "outputs": [],
      "source": []
    },
    {
      "cell_type": "code",
      "execution_count": null,
      "metadata": {
        "id": "7ZOXCc73QJ6U"
      },
      "outputs": [],
      "source": []
    },
    {
      "cell_type": "code",
      "execution_count": null,
      "metadata": {
        "id": "gQTL-ZSBQMJ5"
      },
      "outputs": [],
      "source": []
    },
    {
      "cell_type": "code",
      "execution_count": null,
      "metadata": {
        "id": "Kgm-C70kQX1K"
      },
      "outputs": [],
      "source": []
    },
    {
      "cell_type": "code",
      "execution_count": null,
      "metadata": {
        "id": "uidYzkMEQiw-"
      },
      "outputs": [],
      "source": []
    },
    {
      "cell_type": "code",
      "execution_count": null,
      "metadata": {
        "id": "7T4KfZo1Q0vv"
      },
      "outputs": [],
      "source": []
    },
    {
      "cell_type": "code",
      "execution_count": null,
      "metadata": {
        "id": "nlRi5wiLQ_2t"
      },
      "outputs": [],
      "source": []
    },
    {
      "cell_type": "code",
      "execution_count": null,
      "metadata": {
        "id": "tOnkPX7wRr1K"
      },
      "outputs": [],
      "source": []
    },
    {
      "cell_type": "code",
      "execution_count": null,
      "metadata": {
        "id": "gzpDRNMbS7m4"
      },
      "outputs": [],
      "source": []
    },
    {
      "cell_type": "code",
      "execution_count": null,
      "metadata": {
        "id": "kV1-OuAyS1E1"
      },
      "outputs": [],
      "source": []
    },
    {
      "cell_type": "code",
      "execution_count": null,
      "metadata": {
        "id": "vNWZbRg9S7ib"
      },
      "outputs": [],
      "source": []
    },
    {
      "cell_type": "code",
      "execution_count": null,
      "metadata": {
        "id": "y2YmFHiTSbvl"
      },
      "outputs": [],
      "source": []
    },
    {
      "cell_type": "code",
      "execution_count": null,
      "metadata": {
        "id": "escRmC7CSp7D"
      },
      "outputs": [],
      "source": []
    },
    {
      "cell_type": "code",
      "execution_count": null,
      "metadata": {
        "id": "JktH-gJjSt3y"
      },
      "outputs": [],
      "source": []
    },
    {
      "cell_type": "code",
      "execution_count": null,
      "metadata": {
        "id": "B8qC75WkVdUz"
      },
      "outputs": [],
      "source": []
    },
    {
      "cell_type": "code",
      "execution_count": null,
      "metadata": {
        "id": "vW_WSrFYVr39"
      },
      "outputs": [],
      "source": []
    },
    {
      "cell_type": "code",
      "execution_count": null,
      "metadata": {
        "id": "eirSX--hVxsh"
      },
      "outputs": [],
      "source": []
    },
    {
      "cell_type": "code",
      "execution_count": null,
      "metadata": {
        "id": "c5O6aWCoV6tn"
      },
      "outputs": [],
      "source": []
    },
    {
      "cell_type": "code",
      "execution_count": null,
      "metadata": {
        "id": "fT1R8fH1YLxz"
      },
      "outputs": [],
      "source": []
    },
    {
      "cell_type": "code",
      "execution_count": null,
      "metadata": {
        "id": "AImCb4SwZHDJ"
      },
      "outputs": [],
      "source": []
    },
    {
      "cell_type": "markdown",
      "metadata": {
        "id": "mBESoCw1ZPCb"
      },
      "source": [
        "### 기간과 기간 연산"
      ]
    },
    {
      "cell_type": "code",
      "execution_count": null,
      "metadata": {
        "id": "zPuaVZFOZRXU"
      },
      "outputs": [],
      "source": []
    },
    {
      "cell_type": "code",
      "execution_count": null,
      "metadata": {
        "id": "Pa6d7K81c9D7"
      },
      "outputs": [],
      "source": []
    },
    {
      "cell_type": "code",
      "execution_count": null,
      "metadata": {
        "id": "-8G5Fry1dA0Z"
      },
      "outputs": [],
      "source": []
    },
    {
      "cell_type": "code",
      "execution_count": null,
      "metadata": {
        "id": "uX4eGfqPdJWX"
      },
      "outputs": [],
      "source": []
    },
    {
      "cell_type": "code",
      "execution_count": null,
      "metadata": {
        "id": "bONu-Igwefj5"
      },
      "outputs": [],
      "source": []
    },
    {
      "cell_type": "code",
      "execution_count": null,
      "metadata": {
        "id": "CgIISIP3esTI"
      },
      "outputs": [],
      "source": []
    },
    {
      "cell_type": "code",
      "execution_count": null,
      "metadata": {
        "id": "3UbMifZ9g_2a"
      },
      "outputs": [],
      "source": []
    },
    {
      "cell_type": "code",
      "execution_count": null,
      "metadata": {
        "id": "SrJaYKyFhqNK"
      },
      "outputs": [],
      "source": []
    },
    {
      "cell_type": "code",
      "execution_count": null,
      "metadata": {
        "id": "1zslgmgEhy_E"
      },
      "outputs": [],
      "source": []
    },
    {
      "cell_type": "code",
      "execution_count": null,
      "metadata": {
        "id": "Pf0MhblPh-4A"
      },
      "outputs": [],
      "source": []
    },
    {
      "cell_type": "code",
      "execution_count": null,
      "metadata": {
        "id": "TUAZmHE5iTDQ"
      },
      "outputs": [],
      "source": []
    },
    {
      "cell_type": "code",
      "execution_count": null,
      "metadata": {
        "id": "OXXVYyrSiXx5"
      },
      "outputs": [],
      "source": []
    },
    {
      "cell_type": "code",
      "execution_count": null,
      "metadata": {
        "id": "KwZxN0DSiZcR"
      },
      "outputs": [],
      "source": []
    },
    {
      "cell_type": "code",
      "execution_count": null,
      "metadata": {
        "id": "coUC21I4irbo"
      },
      "outputs": [],
      "source": []
    },
    {
      "cell_type": "code",
      "execution_count": null,
      "metadata": {
        "id": "l1-o5TuTjJ_6"
      },
      "outputs": [],
      "source": []
    },
    {
      "cell_type": "code",
      "execution_count": null,
      "metadata": {
        "id": "OXKM1tInjOo5"
      },
      "outputs": [],
      "source": []
    },
    {
      "cell_type": "code",
      "execution_count": null,
      "metadata": {
        "id": "atGrrBMjj9sh"
      },
      "outputs": [],
      "source": []
    },
    {
      "cell_type": "code",
      "execution_count": null,
      "metadata": {
        "id": "eYrXQPsykF6O"
      },
      "outputs": [],
      "source": []
    },
    {
      "cell_type": "code",
      "execution_count": null,
      "metadata": {
        "id": "Ieb4UV57kPBS"
      },
      "outputs": [],
      "source": []
    },
    {
      "cell_type": "code",
      "execution_count": null,
      "metadata": {
        "id": "kQ0IShLqlPYy"
      },
      "outputs": [],
      "source": []
    },
    {
      "cell_type": "code",
      "execution_count": null,
      "metadata": {
        "id": "uIkBhkpnop55"
      },
      "outputs": [],
      "source": []
    },
    {
      "cell_type": "code",
      "execution_count": null,
      "metadata": {
        "id": "u-37q4u_pTfy"
      },
      "outputs": [],
      "source": []
    },
    {
      "cell_type": "code",
      "execution_count": null,
      "metadata": {
        "id": "BNAgbJ62pzTh"
      },
      "outputs": [],
      "source": []
    },
    {
      "cell_type": "code",
      "execution_count": null,
      "metadata": {
        "id": "hNwIgsrkp4y3"
      },
      "outputs": [],
      "source": []
    },
    {
      "cell_type": "code",
      "execution_count": null,
      "metadata": {
        "id": "cwz_gBl-qWcp"
      },
      "outputs": [],
      "source": []
    },
    {
      "cell_type": "markdown",
      "metadata": {
        "id": "_7_r2sq0qoCb"
      },
      "source": [
        "### 리샘플링(Resampling)\n",
        "\n",
        "* 리샘플링(Resampling): 시계열의 빈도 변환\n",
        "* 다운샘플링(Down sampling): 상위 빈도 데이터를 하위 빈도 데이터로 집계\n",
        "* 업샘플링(Up sampling): 하위 빈도 데이터를 상위 빈도 데이터로 집계"
      ]
    },
    {
      "cell_type": "code",
      "execution_count": null,
      "metadata": {
        "id": "g16pgRe8qq2S"
      },
      "outputs": [],
      "source": []
    },
    {
      "cell_type": "code",
      "execution_count": null,
      "metadata": {
        "id": "dUOidLhdrSga"
      },
      "outputs": [],
      "source": []
    },
    {
      "cell_type": "code",
      "execution_count": null,
      "metadata": {
        "id": "syUsS-UtraUU"
      },
      "outputs": [],
      "source": []
    },
    {
      "cell_type": "code",
      "execution_count": null,
      "metadata": {
        "id": "wqGxv77wujni"
      },
      "outputs": [],
      "source": []
    },
    {
      "cell_type": "code",
      "execution_count": null,
      "metadata": {
        "id": "24TJiPXSu-cN"
      },
      "outputs": [],
      "source": []
    },
    {
      "cell_type": "code",
      "execution_count": null,
      "metadata": {
        "id": "iL0pJxPcwlt5"
      },
      "outputs": [],
      "source": []
    },
    {
      "cell_type": "code",
      "execution_count": null,
      "metadata": {
        "id": "UqjZ7uy1NTAM"
      },
      "outputs": [],
      "source": []
    },
    {
      "cell_type": "code",
      "execution_count": null,
      "metadata": {
        "id": "iTeIafSR1Hfx"
      },
      "outputs": [],
      "source": []
    },
    {
      "cell_type": "code",
      "execution_count": null,
      "metadata": {
        "id": "1KJJ4TSf1nMp"
      },
      "outputs": [],
      "source": []
    },
    {
      "cell_type": "code",
      "execution_count": null,
      "metadata": {
        "id": "79ITf-AM2Jcr"
      },
      "outputs": [],
      "source": []
    },
    {
      "cell_type": "code",
      "execution_count": null,
      "metadata": {
        "id": "kOBZwqXJ626g"
      },
      "outputs": [],
      "source": []
    },
    {
      "cell_type": "code",
      "execution_count": null,
      "metadata": {
        "id": "IZIifPcqBX28"
      },
      "outputs": [],
      "source": []
    },
    {
      "cell_type": "code",
      "execution_count": null,
      "metadata": {
        "id": "iEci9Ws3FNtG"
      },
      "outputs": [],
      "source": []
    },
    {
      "cell_type": "code",
      "execution_count": null,
      "metadata": {
        "id": "TPWnP2YNE2-Y"
      },
      "outputs": [],
      "source": []
    },
    {
      "cell_type": "code",
      "execution_count": null,
      "metadata": {
        "id": "r6b2V4P9B3eN"
      },
      "outputs": [],
      "source": []
    },
    {
      "cell_type": "code",
      "execution_count": null,
      "metadata": {
        "id": "YRU_MPfgC2OC"
      },
      "outputs": [],
      "source": []
    },
    {
      "cell_type": "code",
      "execution_count": null,
      "metadata": {
        "id": "bGwHQKT18B30"
      },
      "outputs": [],
      "source": []
    },
    {
      "cell_type": "code",
      "execution_count": null,
      "metadata": {
        "id": "0-fZbJgkCxvo"
      },
      "outputs": [],
      "source": []
    },
    {
      "cell_type": "markdown",
      "metadata": {
        "id": "gOTm-SAWFqUn"
      },
      "source": [
        "### 무빙 윈도우(Moving Window)"
      ]
    },
    {
      "cell_type": "code",
      "execution_count": null,
      "metadata": {
        "id": "ivW4TjmaFv_8"
      },
      "outputs": [],
      "source": []
    },
    {
      "cell_type": "code",
      "execution_count": null,
      "metadata": {
        "id": "g8NG71H-G3_1"
      },
      "outputs": [],
      "source": []
    },
    {
      "cell_type": "code",
      "execution_count": null,
      "metadata": {
        "id": "fPuiwcxR6r29"
      },
      "outputs": [],
      "source": []
    },
    {
      "cell_type": "code",
      "execution_count": null,
      "metadata": {
        "id": "rrS0Fv6IHkTD"
      },
      "outputs": [],
      "source": []
    },
    {
      "cell_type": "code",
      "execution_count": null,
      "metadata": {
        "id": "5eyUTf9gH7dy"
      },
      "outputs": [],
      "source": []
    },
    {
      "cell_type": "code",
      "execution_count": null,
      "metadata": {
        "id": "jE8ef_y7ISvQ"
      },
      "outputs": [],
      "source": []
    },
    {
      "cell_type": "code",
      "execution_count": null,
      "metadata": {
        "id": "YPivQozCIt2C"
      },
      "outputs": [],
      "source": []
    },
    {
      "cell_type": "code",
      "execution_count": null,
      "metadata": {
        "id": "uwUxlyN-I9Lr"
      },
      "outputs": [],
      "source": []
    },
    {
      "cell_type": "code",
      "execution_count": null,
      "metadata": {
        "id": "t6EOkaA7JQfk"
      },
      "outputs": [],
      "source": []
    },
    {
      "cell_type": "code",
      "execution_count": null,
      "metadata": {
        "id": "iOAqjinMJ-RM"
      },
      "outputs": [],
      "source": []
    },
    {
      "cell_type": "code",
      "execution_count": null,
      "metadata": {
        "id": "DMZPaDR0wR1P"
      },
      "outputs": [],
      "source": []
    },
    {
      "cell_type": "markdown",
      "metadata": {
        "id": "BOO7UiIisygc"
      },
      "source": [
        "## 데이터 읽기 및 저장\n"
      ]
    },
    {
      "cell_type": "markdown",
      "metadata": {
        "id": "gywGx4BUY8kK"
      },
      "source": [
        "### 텍스트 파일 읽기/쓰기"
      ]
    },
    {
      "cell_type": "code",
      "execution_count": null,
      "metadata": {
        "id": "YKleNV0lswbP"
      },
      "outputs": [],
      "source": []
    },
    {
      "cell_type": "code",
      "execution_count": null,
      "metadata": {
        "id": "uDL9fxU_N3e8"
      },
      "outputs": [],
      "source": []
    },
    {
      "cell_type": "code",
      "execution_count": null,
      "metadata": {
        "id": "8qpTNo0rNzQ1"
      },
      "outputs": [],
      "source": []
    },
    {
      "cell_type": "code",
      "execution_count": null,
      "metadata": {
        "id": "uFgOXuSWODON"
      },
      "outputs": [],
      "source": []
    },
    {
      "cell_type": "code",
      "execution_count": null,
      "metadata": {
        "id": "DxsJR_AHOGNM"
      },
      "outputs": [],
      "source": []
    },
    {
      "cell_type": "code",
      "execution_count": null,
      "metadata": {
        "id": "pINjVRJlOP3f"
      },
      "outputs": [],
      "source": []
    },
    {
      "cell_type": "code",
      "execution_count": null,
      "metadata": {
        "id": "_OOxJ6AoOdsa"
      },
      "outputs": [],
      "source": []
    },
    {
      "cell_type": "code",
      "execution_count": null,
      "metadata": {
        "id": "41CvMcUxOqG2"
      },
      "outputs": [],
      "source": []
    },
    {
      "cell_type": "code",
      "execution_count": null,
      "metadata": {
        "id": "IUWp5vjzPG_F"
      },
      "outputs": [],
      "source": []
    },
    {
      "cell_type": "code",
      "execution_count": null,
      "metadata": {
        "id": "lwh3G1yRQr1h"
      },
      "outputs": [],
      "source": []
    },
    {
      "cell_type": "code",
      "execution_count": null,
      "metadata": {
        "id": "PkUJzlMzRBue"
      },
      "outputs": [],
      "source": []
    },
    {
      "cell_type": "code",
      "execution_count": null,
      "metadata": {
        "id": "Ywb5JK5qRTvs"
      },
      "outputs": [],
      "source": []
    },
    {
      "cell_type": "code",
      "execution_count": null,
      "metadata": {
        "id": "PkEC01P2RaiM"
      },
      "outputs": [],
      "source": []
    },
    {
      "cell_type": "code",
      "execution_count": null,
      "metadata": {
        "id": "r-LMeRJUR8N4"
      },
      "outputs": [],
      "source": []
    },
    {
      "cell_type": "code",
      "execution_count": null,
      "metadata": {
        "id": "5eRV5ja3SawJ"
      },
      "outputs": [],
      "source": []
    },
    {
      "cell_type": "code",
      "execution_count": null,
      "metadata": {
        "id": "M7iJwB8MYwSv"
      },
      "outputs": [],
      "source": []
    },
    {
      "cell_type": "code",
      "execution_count": null,
      "metadata": {
        "id": "bsjS12WVZHcq"
      },
      "outputs": [],
      "source": []
    },
    {
      "cell_type": "code",
      "execution_count": null,
      "metadata": {
        "id": "QjP7lyGzZOpi"
      },
      "outputs": [],
      "source": []
    },
    {
      "cell_type": "code",
      "execution_count": null,
      "metadata": {
        "id": "fzxcYo0_ZUMI"
      },
      "outputs": [],
      "source": []
    },
    {
      "cell_type": "code",
      "execution_count": null,
      "metadata": {
        "id": "U0nvJRsTZg5E"
      },
      "outputs": [],
      "source": []
    },
    {
      "cell_type": "code",
      "execution_count": null,
      "metadata": {
        "id": "Xx7oQn_9axOD"
      },
      "outputs": [],
      "source": []
    },
    {
      "cell_type": "code",
      "execution_count": null,
      "metadata": {
        "id": "-cFa44vmbWJ-"
      },
      "outputs": [],
      "source": []
    },
    {
      "cell_type": "code",
      "execution_count": null,
      "metadata": {
        "id": "Sz4D4Rcrbkkj"
      },
      "outputs": [],
      "source": []
    },
    {
      "cell_type": "code",
      "execution_count": null,
      "metadata": {
        "id": "h-3yFqGYcc64"
      },
      "outputs": [],
      "source": []
    },
    {
      "cell_type": "code",
      "execution_count": null,
      "metadata": {
        "id": "8dwRbNbucm9_"
      },
      "outputs": [],
      "source": []
    },
    {
      "cell_type": "code",
      "execution_count": null,
      "metadata": {
        "id": "iEvJFXwTcx-y"
      },
      "outputs": [],
      "source": []
    },
    {
      "cell_type": "code",
      "execution_count": null,
      "metadata": {
        "id": "L5IlKRsKc7-X"
      },
      "outputs": [],
      "source": []
    },
    {
      "cell_type": "code",
      "execution_count": null,
      "metadata": {
        "id": "I2DeeF8rc-lS"
      },
      "outputs": [],
      "source": []
    },
    {
      "cell_type": "markdown",
      "metadata": {
        "id": "FbawLF89dKIZ"
      },
      "source": [
        "### 이진 데이터 파일 읽기/쓰기"
      ]
    },
    {
      "cell_type": "code",
      "execution_count": null,
      "metadata": {
        "id": "r86MX6x7dYgE"
      },
      "outputs": [],
      "source": []
    },
    {
      "cell_type": "code",
      "execution_count": null,
      "metadata": {
        "id": "V2GPiDLKdfmO"
      },
      "outputs": [],
      "source": []
    },
    {
      "cell_type": "code",
      "execution_count": null,
      "metadata": {
        "id": "B3eyfmJRdkQR"
      },
      "outputs": [],
      "source": []
    },
    {
      "cell_type": "code",
      "execution_count": null,
      "metadata": {
        "id": "UzOVC81Ed-2E"
      },
      "outputs": [],
      "source": []
    },
    {
      "cell_type": "code",
      "execution_count": null,
      "metadata": {
        "id": "uaO6OxkCeTq4"
      },
      "outputs": [],
      "source": []
    },
    {
      "cell_type": "code",
      "execution_count": null,
      "metadata": {
        "id": "OG_258xee3PR"
      },
      "outputs": [],
      "source": []
    },
    {
      "cell_type": "code",
      "execution_count": null,
      "metadata": {
        "id": "sWZ22PVde7Ha"
      },
      "outputs": [],
      "source": []
    },
    {
      "cell_type": "code",
      "execution_count": null,
      "metadata": {
        "id": "YglaWJ7CfAKj"
      },
      "outputs": [],
      "source": []
    },
    {
      "cell_type": "code",
      "execution_count": null,
      "metadata": {
        "id": "zjEeShTCfO8i"
      },
      "outputs": [],
      "source": []
    },
    {
      "cell_type": "code",
      "execution_count": null,
      "metadata": {
        "id": "wVRZCDhqfTgf"
      },
      "outputs": [],
      "source": []
    },
    {
      "cell_type": "code",
      "execution_count": null,
      "metadata": {
        "id": "SbB9VJMVfot5"
      },
      "outputs": [],
      "source": []
    },
    {
      "cell_type": "code",
      "execution_count": null,
      "metadata": {
        "id": "eVn_GwrTf7Eu"
      },
      "outputs": [],
      "source": []
    },
    {
      "cell_type": "code",
      "execution_count": null,
      "metadata": {
        "id": "GFvQJWz5gaXG"
      },
      "outputs": [],
      "source": []
    },
    {
      "cell_type": "code",
      "execution_count": null,
      "metadata": {
        "id": "Ij_Yh741gbp1"
      },
      "outputs": [],
      "source": []
    },
    {
      "cell_type": "markdown",
      "metadata": {
        "id": "TC1H-xT_2F8p"
      },
      "source": [
        "## 데이터 정제"
      ]
    },
    {
      "cell_type": "markdown",
      "metadata": {
        "id": "sHfYzJJsqoiD"
      },
      "source": [
        "### 누락값 처리\n",
        "\n",
        "* 대부분의 실제 데이터들은 정제되지 않고 누락값들이 존재\n",
        "* 서로 다른 데이터들은 다른 형태의 결측을 가짐\n",
        "* 결측 데이터는 `null`, `NaN`, `NA`로 표기"
      ]
    },
    {
      "cell_type": "markdown",
      "metadata": {
        "id": "eYG4GJ04HNea"
      },
      "source": [
        "#### None: 파이썬 누락 데이터"
      ]
    },
    {
      "cell_type": "code",
      "execution_count": null,
      "metadata": {
        "id": "SdbmIhZJqYk-"
      },
      "outputs": [],
      "source": []
    },
    {
      "cell_type": "code",
      "execution_count": null,
      "metadata": {
        "id": "TGgJm6tSOqz5"
      },
      "outputs": [],
      "source": []
    },
    {
      "cell_type": "markdown",
      "metadata": {
        "id": "Uz-ozgPrPj7g"
      },
      "source": [
        "#### NaN: 누락된 수치 데이터"
      ]
    },
    {
      "cell_type": "code",
      "execution_count": null,
      "metadata": {
        "id": "XIzPctmuPWfU"
      },
      "outputs": [],
      "source": []
    },
    {
      "cell_type": "code",
      "execution_count": null,
      "metadata": {
        "id": "9TVX3ZN5P6V3"
      },
      "outputs": [],
      "source": []
    },
    {
      "cell_type": "code",
      "execution_count": null,
      "metadata": {
        "id": "iVLmt-aQP8Gj"
      },
      "outputs": [],
      "source": []
    },
    {
      "cell_type": "code",
      "execution_count": null,
      "metadata": {
        "id": "hGP2AkgaSUSz"
      },
      "outputs": [],
      "source": []
    },
    {
      "cell_type": "code",
      "execution_count": null,
      "metadata": {
        "id": "TT4GHf_fSeRi"
      },
      "outputs": [],
      "source": []
    },
    {
      "cell_type": "code",
      "execution_count": null,
      "metadata": {
        "id": "U9qtvBxXSlfX"
      },
      "outputs": [],
      "source": []
    },
    {
      "cell_type": "code",
      "execution_count": null,
      "metadata": {
        "id": "FkOFTHSSS07A"
      },
      "outputs": [],
      "source": []
    },
    {
      "cell_type": "code",
      "execution_count": null,
      "metadata": {
        "id": "RWVqbN1oS6ZH"
      },
      "outputs": [],
      "source": []
    },
    {
      "cell_type": "code",
      "execution_count": null,
      "metadata": {
        "id": "d-jqa8t5S9z7"
      },
      "outputs": [],
      "source": []
    },
    {
      "cell_type": "code",
      "execution_count": null,
      "metadata": {
        "id": "BJHZK_CjTOUq"
      },
      "outputs": [],
      "source": []
    },
    {
      "cell_type": "markdown",
      "metadata": {
        "id": "TeZA_l5fUCks"
      },
      "source": [
        "#### Null 값 처리\n"
      ]
    },
    {
      "cell_type": "code",
      "execution_count": null,
      "metadata": {
        "id": "abbvoVnITo_y"
      },
      "outputs": [],
      "source": []
    },
    {
      "cell_type": "code",
      "execution_count": null,
      "metadata": {
        "id": "9gf6oys8akr0"
      },
      "outputs": [],
      "source": []
    },
    {
      "cell_type": "code",
      "execution_count": null,
      "metadata": {
        "id": "u9noWEenamtc"
      },
      "outputs": [],
      "source": []
    },
    {
      "cell_type": "code",
      "execution_count": null,
      "metadata": {
        "id": "EMWvOC5cauNb"
      },
      "outputs": [],
      "source": []
    },
    {
      "cell_type": "code",
      "execution_count": null,
      "metadata": {
        "id": "RVxZDos7azvf"
      },
      "outputs": [],
      "source": []
    },
    {
      "cell_type": "code",
      "execution_count": null,
      "metadata": {
        "id": "c02BqS-Aa9W-"
      },
      "outputs": [],
      "source": []
    },
    {
      "cell_type": "code",
      "execution_count": null,
      "metadata": {
        "id": "eKJY74ksbJx5"
      },
      "outputs": [],
      "source": []
    },
    {
      "cell_type": "code",
      "execution_count": null,
      "metadata": {
        "id": "hdqOfZdIbMAq"
      },
      "outputs": [],
      "source": []
    },
    {
      "cell_type": "code",
      "execution_count": null,
      "metadata": {
        "id": "Gk6hV9DibQsg"
      },
      "outputs": [],
      "source": []
    },
    {
      "cell_type": "code",
      "execution_count": null,
      "metadata": {
        "id": "88DA4w8ubUjj"
      },
      "outputs": [],
      "source": []
    },
    {
      "cell_type": "code",
      "execution_count": null,
      "metadata": {
        "id": "9F9FIW0-bYZs"
      },
      "outputs": [],
      "source": []
    },
    {
      "cell_type": "code",
      "execution_count": null,
      "metadata": {
        "id": "o3elF07Nqi2E"
      },
      "outputs": [],
      "source": []
    },
    {
      "cell_type": "code",
      "execution_count": null,
      "metadata": {
        "id": "w3Oe_XlsqlbP"
      },
      "outputs": [],
      "source": []
    },
    {
      "cell_type": "code",
      "execution_count": null,
      "metadata": {
        "id": "KDPaKJO7qsTY"
      },
      "outputs": [],
      "source": []
    },
    {
      "cell_type": "code",
      "execution_count": null,
      "metadata": {
        "id": "5kW3F5jAqvVP"
      },
      "outputs": [],
      "source": []
    },
    {
      "cell_type": "code",
      "execution_count": null,
      "metadata": {
        "id": "Gmo1xb_Xriuj"
      },
      "outputs": [],
      "source": []
    },
    {
      "cell_type": "code",
      "execution_count": null,
      "metadata": {
        "id": "JCXIWLKVq4rN"
      },
      "outputs": [],
      "source": []
    },
    {
      "cell_type": "code",
      "execution_count": null,
      "metadata": {
        "id": "BxA3XjSarl3J"
      },
      "outputs": [],
      "source": []
    },
    {
      "cell_type": "code",
      "execution_count": null,
      "metadata": {
        "id": "l0D2GjVeq8Fh"
      },
      "outputs": [],
      "source": []
    },
    {
      "cell_type": "markdown",
      "metadata": {
        "id": "FSLpWYGEiZRR"
      },
      "source": [
        "### 중복 제거"
      ]
    },
    {
      "cell_type": "code",
      "execution_count": null,
      "metadata": {
        "id": "Ii7qOLQ8s1hW"
      },
      "outputs": [],
      "source": []
    },
    {
      "cell_type": "code",
      "execution_count": null,
      "metadata": {
        "id": "14U6mS6fjOu9"
      },
      "outputs": [],
      "source": []
    },
    {
      "cell_type": "code",
      "execution_count": null,
      "metadata": {
        "id": "iLOdlpN5jR0d"
      },
      "outputs": [],
      "source": []
    },
    {
      "cell_type": "markdown",
      "metadata": {
        "id": "GaUfbZgwkCf-"
      },
      "source": [
        "### 값 치환"
      ]
    },
    {
      "cell_type": "code",
      "execution_count": null,
      "metadata": {
        "id": "VdG93-hpkE2j"
      },
      "outputs": [],
      "source": []
    },
    {
      "cell_type": "code",
      "execution_count": null,
      "metadata": {
        "id": "ZRnsdEEukSf3"
      },
      "outputs": [],
      "source": []
    },
    {
      "cell_type": "code",
      "execution_count": null,
      "metadata": {
        "id": "L3fSks4BkYSi"
      },
      "outputs": [],
      "source": []
    },
    {
      "cell_type": "code",
      "execution_count": null,
      "metadata": {
        "id": "_wtD7XeykdLs"
      },
      "outputs": [],
      "source": []
    },
    {
      "cell_type": "markdown",
      "metadata": {
        "id": "4sq_9jXcoFwb"
      },
      "source": [
        "## 참고문헌\n",
        "\n",
        "* Pandas 사이트: https://pandas.pydata.org/\n",
        "* Jake VanderPlas, \"Python Data Science Handbook\", O'Reilly\n",
        "* Wes Mckinney, \"Python for Data Analysis\", O'Reilly"
      ]
    }
  ],
  "metadata": {
    "colab": {
      "collapsed_sections": [],
      "include_colab_link": true,
      "name": "_Pandas 한번에 제대로 배우기.ipynb",
      "provenance": [],
      "toc_visible": true
    },
    "kernelspec": {
      "display_name": "Python 3",
      "name": "python3"
    },
    "language_info": {
      "codemirror_mode": {
        "name": "ipython",
        "version": 3
      },
      "file_extension": ".py",
      "mimetype": "text/x-python",
      "name": "python",
      "nbconvert_exporter": "python",
      "pygments_lexer": "ipython3",
      "version": "3.7.11"
    }
  },
  "nbformat": 4,
  "nbformat_minor": 0
}
