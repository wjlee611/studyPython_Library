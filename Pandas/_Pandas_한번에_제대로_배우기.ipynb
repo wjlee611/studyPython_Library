{
  "cells": [
    {
      "cell_type": "markdown",
      "metadata": {
        "colab_type": "text",
        "id": "view-in-github"
      },
      "source": [
        "<a href=\"https://colab.research.google.com/github/wjlee611/studyPython_Library/blob/main/_Pandas_%ED%95%9C%EB%B2%88%EC%97%90_%EC%A0%9C%EB%8C%80%EB%A1%9C_%EB%B0%B0%EC%9A%B0%EA%B8%B0.ipynb\" target=\"_parent\"><img src=\"https://colab.research.google.com/assets/colab-badge.svg\" alt=\"Open In Colab\"/></a>"
      ]
    },
    {
      "cell_type": "markdown",
      "metadata": {
        "id": "l5jkTeeNjUae"
      },
      "source": [
        "# Pandas 한번에 제대로 배우기\n"
      ]
    },
    {
      "cell_type": "markdown",
      "metadata": {
        "id": "063zrZmgk8Gx"
      },
      "source": [
        "\n",
        "\n",
        "---\n",
        "\n"
      ]
    },
    {
      "cell_type": "code",
      "execution_count": 1,
      "metadata": {
        "id": "yse0ihPdjJbw"
      },
      "outputs": [
        {
          "data": {
            "text/plain": [
              "'1.3.4'"
            ]
          },
          "execution_count": 1,
          "metadata": {},
          "output_type": "execute_result"
        }
      ],
      "source": [
        "import numpy as np\n",
        "import pandas as pd\n",
        "pd.__version__"
      ]
    },
    {
      "cell_type": "markdown",
      "metadata": {
        "id": "CsH0REQfuLu2"
      },
      "source": [
        "## Pandas 객체\n"
      ]
    },
    {
      "cell_type": "markdown",
      "metadata": {
        "id": "J4u_-QUtwsKq"
      },
      "source": [
        "### Series 객체"
      ]
    },
    {
      "cell_type": "code",
      "execution_count": 2,
      "metadata": {
        "id": "xb5Lsw3Qk_6Q"
      },
      "outputs": [
        {
          "data": {
            "text/plain": [
              "0    0.00\n",
              "1    0.25\n",
              "2    0.50\n",
              "3    0.75\n",
              "4    1.00\n",
              "dtype: float64"
            ]
          },
          "execution_count": 2,
          "metadata": {},
          "output_type": "execute_result"
        }
      ],
      "source": [
        "s = pd.Series([0, 0.25, 0.5, 0.75, 1.0])\n",
        "s"
      ]
    },
    {
      "cell_type": "code",
      "execution_count": 3,
      "metadata": {
        "id": "kU9VyUV6uiNx"
      },
      "outputs": [
        {
          "data": {
            "text/plain": [
              "array([0.  , 0.25, 0.5 , 0.75, 1.  ])"
            ]
          },
          "execution_count": 3,
          "metadata": {},
          "output_type": "execute_result"
        }
      ],
      "source": [
        "s.values"
      ]
    },
    {
      "cell_type": "code",
      "execution_count": 4,
      "metadata": {
        "id": "4fRQDuG2une6"
      },
      "outputs": [
        {
          "data": {
            "text/plain": [
              "RangeIndex(start=0, stop=5, step=1)"
            ]
          },
          "execution_count": 4,
          "metadata": {},
          "output_type": "execute_result"
        }
      ],
      "source": [
        "s.index"
      ]
    },
    {
      "cell_type": "code",
      "execution_count": 5,
      "metadata": {
        "id": "yZZ8khTnun6k"
      },
      "outputs": [
        {
          "data": {
            "text/plain": [
              "0.25"
            ]
          },
          "execution_count": 5,
          "metadata": {},
          "output_type": "execute_result"
        }
      ],
      "source": [
        "s[1]"
      ]
    },
    {
      "cell_type": "code",
      "execution_count": 6,
      "metadata": {
        "id": "TYahWVDa5QHX"
      },
      "outputs": [
        {
          "data": {
            "text/plain": [
              "1    0.25\n",
              "2    0.50\n",
              "3    0.75\n",
              "dtype: float64"
            ]
          },
          "execution_count": 6,
          "metadata": {},
          "output_type": "execute_result"
        }
      ],
      "source": [
        "s[1:4]"
      ]
    },
    {
      "cell_type": "code",
      "execution_count": 7,
      "metadata": {
        "id": "YSLBo7xOuw4X"
      },
      "outputs": [
        {
          "data": {
            "text/plain": [
              "a    0.00\n",
              "b    0.25\n",
              "c    0.50\n",
              "d    0.75\n",
              "e    1.00\n",
              "dtype: float64"
            ]
          },
          "execution_count": 7,
          "metadata": {},
          "output_type": "execute_result"
        }
      ],
      "source": [
        "s = pd.Series([0, 0.25, 0.5, 0.75, 1], \n",
        "                index=['a', 'b', 'c', 'd', 'e'])\n",
        "s"
      ]
    },
    {
      "cell_type": "code",
      "execution_count": 8,
      "metadata": {
        "id": "9cZUdDGdvKMs"
      },
      "outputs": [
        {
          "data": {
            "text/plain": [
              "0.5"
            ]
          },
          "execution_count": 8,
          "metadata": {},
          "output_type": "execute_result"
        }
      ],
      "source": [
        "s['c']"
      ]
    },
    {
      "cell_type": "code",
      "execution_count": 9,
      "metadata": {
        "id": "YME6WAvUnvAE"
      },
      "outputs": [
        {
          "data": {
            "text/plain": [
              "c    0.50\n",
              "d    0.75\n",
              "e    1.00\n",
              "dtype: float64"
            ]
          },
          "execution_count": 9,
          "metadata": {},
          "output_type": "execute_result"
        }
      ],
      "source": [
        "s[['c', 'd', 'e']]"
      ]
    },
    {
      "cell_type": "code",
      "execution_count": 10,
      "metadata": {
        "id": "ICRZfCe1o9SO"
      },
      "outputs": [
        {
          "data": {
            "text/plain": [
              "True"
            ]
          },
          "execution_count": 10,
          "metadata": {},
          "output_type": "execute_result"
        }
      ],
      "source": [
        "'b' in s"
      ]
    },
    {
      "cell_type": "code",
      "execution_count": 11,
      "metadata": {
        "id": "fk7JuV4yvLUO"
      },
      "outputs": [
        {
          "data": {
            "text/plain": [
              "2     0.00\n",
              "4     0.25\n",
              "6     0.50\n",
              "8     0.75\n",
              "10    1.00\n",
              "dtype: float64"
            ]
          },
          "execution_count": 11,
          "metadata": {},
          "output_type": "execute_result"
        }
      ],
      "source": [
        "s = pd.Series([0, 0.25, 0.5, 0.75, 1],\n",
        "                index=[2, 4, 6, 8, 10])\n",
        "s"
      ]
    },
    {
      "cell_type": "code",
      "execution_count": 12,
      "metadata": {
        "id": "z8X3HamnxweS"
      },
      "outputs": [
        {
          "data": {
            "text/plain": [
              "0.25"
            ]
          },
          "execution_count": 12,
          "metadata": {},
          "output_type": "execute_result"
        }
      ],
      "source": [
        "s[4]"
      ]
    },
    {
      "cell_type": "code",
      "execution_count": 13,
      "metadata": {
        "id": "BPIhn89Tn_wd"
      },
      "outputs": [
        {
          "data": {
            "text/plain": [
              "6     0.50\n",
              "8     0.75\n",
              "10    1.00\n",
              "dtype: float64"
            ]
          },
          "execution_count": 13,
          "metadata": {},
          "output_type": "execute_result"
        }
      ],
      "source": [
        "s[2:]"
      ]
    },
    {
      "cell_type": "code",
      "execution_count": 14,
      "metadata": {
        "id": "bJjXA4YLrRUK"
      },
      "outputs": [
        {
          "data": {
            "text/plain": [
              "array([0.  , 0.25, 0.5 , 0.75, 1.  ])"
            ]
          },
          "execution_count": 14,
          "metadata": {},
          "output_type": "execute_result"
        }
      ],
      "source": [
        "s.unique()"
      ]
    },
    {
      "cell_type": "code",
      "execution_count": 15,
      "metadata": {
        "id": "e77ZJdhtrejE"
      },
      "outputs": [
        {
          "data": {
            "text/plain": [
              "0.00    1\n",
              "0.25    1\n",
              "0.50    1\n",
              "0.75    1\n",
              "1.00    1\n",
              "dtype: int64"
            ]
          },
          "execution_count": 15,
          "metadata": {},
          "output_type": "execute_result"
        }
      ],
      "source": [
        "s.value_counts()"
      ]
    },
    {
      "cell_type": "code",
      "execution_count": 16,
      "metadata": {
        "id": "5M0yujydruQv"
      },
      "outputs": [
        {
          "data": {
            "text/plain": [
              "2     False\n",
              "4      True\n",
              "6     False\n",
              "8      True\n",
              "10    False\n",
              "dtype: bool"
            ]
          },
          "execution_count": 16,
          "metadata": {},
          "output_type": "execute_result"
        }
      ],
      "source": [
        "s.isin([0.25, 0.75])"
      ]
    },
    {
      "cell_type": "code",
      "execution_count": 17,
      "metadata": {
        "id": "4Ys3lrybxyz4"
      },
      "outputs": [
        {
          "data": {
            "text/plain": [
              "서울특별시    9720846\n",
              "부산광역시    3404423\n",
              "인천광역시    2947217\n",
              "대구광역시    2427954\n",
              "대전광역시    1471040\n",
              "광주광역시    1455048\n",
              "dtype: int64"
            ]
          },
          "execution_count": 17,
          "metadata": {},
          "output_type": "execute_result"
        }
      ],
      "source": [
        "pop_tuple = {'서울특별시': 9720846,\n",
        "            '부산광역시': 3404423,\n",
        "            '인천광역시': 2947217,\n",
        "            '대구광역시': 2427954,\n",
        "            '대전광역시': 1471040,\n",
        "            '광주광역시': 1455048}\n",
        "population = pd.Series(pop_tuple)\n",
        "population"
      ]
    },
    {
      "cell_type": "code",
      "execution_count": 18,
      "metadata": {
        "id": "6colocsazpUm"
      },
      "outputs": [
        {
          "data": {
            "text/plain": [
              "9720846"
            ]
          },
          "execution_count": 18,
          "metadata": {},
          "output_type": "execute_result"
        }
      ],
      "source": [
        "population['서울특별시']"
      ]
    },
    {
      "cell_type": "code",
      "execution_count": 19,
      "metadata": {
        "id": "3Vrk6g0bz2pP"
      },
      "outputs": [
        {
          "data": {
            "text/plain": [
              "서울특별시    9720846\n",
              "부산광역시    3404423\n",
              "인천광역시    2947217\n",
              "dtype: int64"
            ]
          },
          "execution_count": 19,
          "metadata": {},
          "output_type": "execute_result"
        }
      ],
      "source": [
        "population['서울특별시':'인천광역시']"
      ]
    },
    {
      "cell_type": "markdown",
      "metadata": {
        "id": "2oGWT2Kd0JV0"
      },
      "source": [
        "### DataFrame 객체"
      ]
    },
    {
      "cell_type": "code",
      "execution_count": 20,
      "metadata": {
        "id": "BWi3ow9C3N5c"
      },
      "outputs": [
        {
          "data": {
            "text/html": [
              "<div>\n",
              "<style scoped>\n",
              "    .dataframe tbody tr th:only-of-type {\n",
              "        vertical-align: middle;\n",
              "    }\n",
              "\n",
              "    .dataframe tbody tr th {\n",
              "        vertical-align: top;\n",
              "    }\n",
              "\n",
              "    .dataframe thead th {\n",
              "        text-align: right;\n",
              "    }\n",
              "</style>\n",
              "<table border=\"1\" class=\"dataframe\">\n",
              "  <thead>\n",
              "    <tr style=\"text-align: right;\">\n",
              "      <th></th>\n",
              "      <th>A</th>\n",
              "      <th>B</th>\n",
              "      <th>D</th>\n",
              "      <th>C</th>\n",
              "    </tr>\n",
              "  </thead>\n",
              "  <tbody>\n",
              "    <tr>\n",
              "      <th>0</th>\n",
              "      <td>2</td>\n",
              "      <td>4</td>\n",
              "      <td>3.0</td>\n",
              "      <td>NaN</td>\n",
              "    </tr>\n",
              "    <tr>\n",
              "      <th>1</th>\n",
              "      <td>4</td>\n",
              "      <td>5</td>\n",
              "      <td>NaN</td>\n",
              "      <td>7.0</td>\n",
              "    </tr>\n",
              "  </tbody>\n",
              "</table>\n",
              "</div>"
            ],
            "text/plain": [
              "   A  B    D    C\n",
              "0  2  4  3.0  NaN\n",
              "1  4  5  NaN  7.0"
            ]
          },
          "execution_count": 20,
          "metadata": {},
          "output_type": "execute_result"
        }
      ],
      "source": [
        "pd.DataFrame([{'A':2, 'B':4, 'D':3}, {'A':4, 'B':5, 'C':7}])"
      ]
    },
    {
      "cell_type": "code",
      "execution_count": 21,
      "metadata": {
        "id": "KSeay5dT35eH"
      },
      "outputs": [
        {
          "data": {
            "text/html": [
              "<div>\n",
              "<style scoped>\n",
              "    .dataframe tbody tr th:only-of-type {\n",
              "        vertical-align: middle;\n",
              "    }\n",
              "\n",
              "    .dataframe tbody tr th {\n",
              "        vertical-align: top;\n",
              "    }\n",
              "\n",
              "    .dataframe thead th {\n",
              "        text-align: right;\n",
              "    }\n",
              "</style>\n",
              "<table border=\"1\" class=\"dataframe\">\n",
              "  <thead>\n",
              "    <tr style=\"text-align: right;\">\n",
              "      <th></th>\n",
              "      <th>A</th>\n",
              "      <th>B</th>\n",
              "      <th>C</th>\n",
              "      <th>D</th>\n",
              "      <th>E</th>\n",
              "    </tr>\n",
              "  </thead>\n",
              "  <tbody>\n",
              "    <tr>\n",
              "      <th>1</th>\n",
              "      <td>0.426260</td>\n",
              "      <td>0.243609</td>\n",
              "      <td>0.935575</td>\n",
              "      <td>0.414164</td>\n",
              "      <td>0.479601</td>\n",
              "    </tr>\n",
              "    <tr>\n",
              "      <th>2</th>\n",
              "      <td>0.848119</td>\n",
              "      <td>0.876675</td>\n",
              "      <td>0.144824</td>\n",
              "      <td>0.226518</td>\n",
              "      <td>0.606234</td>\n",
              "    </tr>\n",
              "    <tr>\n",
              "      <th>3</th>\n",
              "      <td>0.195545</td>\n",
              "      <td>0.097500</td>\n",
              "      <td>0.495736</td>\n",
              "      <td>0.098395</td>\n",
              "      <td>0.769351</td>\n",
              "    </tr>\n",
              "    <tr>\n",
              "      <th>4</th>\n",
              "      <td>0.467017</td>\n",
              "      <td>0.464643</td>\n",
              "      <td>0.919516</td>\n",
              "      <td>0.242573</td>\n",
              "      <td>0.225567</td>\n",
              "    </tr>\n",
              "    <tr>\n",
              "      <th>5</th>\n",
              "      <td>0.671700</td>\n",
              "      <td>0.988679</td>\n",
              "      <td>0.673663</td>\n",
              "      <td>0.094006</td>\n",
              "      <td>0.390805</td>\n",
              "    </tr>\n",
              "  </tbody>\n",
              "</table>\n",
              "</div>"
            ],
            "text/plain": [
              "          A         B         C         D         E\n",
              "1  0.426260  0.243609  0.935575  0.414164  0.479601\n",
              "2  0.848119  0.876675  0.144824  0.226518  0.606234\n",
              "3  0.195545  0.097500  0.495736  0.098395  0.769351\n",
              "4  0.467017  0.464643  0.919516  0.242573  0.225567\n",
              "5  0.671700  0.988679  0.673663  0.094006  0.390805"
            ]
          },
          "execution_count": 21,
          "metadata": {},
          "output_type": "execute_result"
        }
      ],
      "source": [
        "pd.DataFrame(np.random.rand(5, 5),\n",
        "            columns=['A', 'B', 'C', 'D', 'E'],\n",
        "            index=[1, 2, 3, 4, 5])"
      ]
    },
    {
      "cell_type": "code",
      "execution_count": 22,
      "metadata": {
        "id": "LF5SPGK5z7PA"
      },
      "outputs": [
        {
          "data": {
            "text/plain": [
              "서울특별시    4732275\n",
              "부산광역시    1668618\n",
              "인천광역시    1476813\n",
              "대구광역시    1198815\n",
              "대전광역시     734441\n",
              "광주광역시     720060\n",
              "dtype: int64"
            ]
          },
          "execution_count": 22,
          "metadata": {},
          "output_type": "execute_result"
        }
      ],
      "source": [
        "male_tuple = {'서울특별시': 4732275,\n",
        "            '부산광역시': 1668618,\n",
        "            '인천광역시': 1476813,\n",
        "            '대구광역시': 1198815,\n",
        "            '대전광역시': 734441,\n",
        "            '광주광역시': 720060}\n",
        "male = pd.Series(male_tuple)\n",
        "male"
      ]
    },
    {
      "cell_type": "code",
      "execution_count": 23,
      "metadata": {
        "id": "1XAK9yR91tyy"
      },
      "outputs": [
        {
          "data": {
            "text/plain": [
              "서울특별시    4988571\n",
              "부산광역시    1735805\n",
              "인천광역시    1470404\n",
              "대구광역시    1229139\n",
              "대전광역시     736599\n",
              "광주광역시     734988\n",
              "dtype: int64"
            ]
          },
          "execution_count": 23,
          "metadata": {},
          "output_type": "execute_result"
        }
      ],
      "source": [
        "female_tuple = {'서울특별시': 4988571,\n",
        "            '부산광역시': 1735805,\n",
        "            '인천광역시': 1470404,\n",
        "            '대구광역시': 1229139,\n",
        "            '대전광역시': 736599,\n",
        "            '광주광역시': 734988}\n",
        "female = pd.Series(female_tuple)\n",
        "female"
      ]
    },
    {
      "cell_type": "code",
      "execution_count": 24,
      "metadata": {
        "id": "gpOOL8zh2EI-"
      },
      "outputs": [
        {
          "data": {
            "text/html": [
              "<div>\n",
              "<style scoped>\n",
              "    .dataframe tbody tr th:only-of-type {\n",
              "        vertical-align: middle;\n",
              "    }\n",
              "\n",
              "    .dataframe tbody tr th {\n",
              "        vertical-align: top;\n",
              "    }\n",
              "\n",
              "    .dataframe thead th {\n",
              "        text-align: right;\n",
              "    }\n",
              "</style>\n",
              "<table border=\"1\" class=\"dataframe\">\n",
              "  <thead>\n",
              "    <tr style=\"text-align: right;\">\n",
              "      <th></th>\n",
              "      <th>인구수</th>\n",
              "      <th>남자인구수</th>\n",
              "      <th>여자인구수</th>\n",
              "    </tr>\n",
              "  </thead>\n",
              "  <tbody>\n",
              "    <tr>\n",
              "      <th>서울특별시</th>\n",
              "      <td>9720846</td>\n",
              "      <td>4732275</td>\n",
              "      <td>4988571</td>\n",
              "    </tr>\n",
              "    <tr>\n",
              "      <th>부산광역시</th>\n",
              "      <td>3404423</td>\n",
              "      <td>1668618</td>\n",
              "      <td>1735805</td>\n",
              "    </tr>\n",
              "    <tr>\n",
              "      <th>인천광역시</th>\n",
              "      <td>2947217</td>\n",
              "      <td>1476813</td>\n",
              "      <td>1470404</td>\n",
              "    </tr>\n",
              "    <tr>\n",
              "      <th>대구광역시</th>\n",
              "      <td>2427954</td>\n",
              "      <td>1198815</td>\n",
              "      <td>1229139</td>\n",
              "    </tr>\n",
              "    <tr>\n",
              "      <th>대전광역시</th>\n",
              "      <td>1471040</td>\n",
              "      <td>734441</td>\n",
              "      <td>736599</td>\n",
              "    </tr>\n",
              "    <tr>\n",
              "      <th>광주광역시</th>\n",
              "      <td>1455048</td>\n",
              "      <td>720060</td>\n",
              "      <td>734988</td>\n",
              "    </tr>\n",
              "  </tbody>\n",
              "</table>\n",
              "</div>"
            ],
            "text/plain": [
              "           인구수    남자인구수    여자인구수\n",
              "서울특별시  9720846  4732275  4988571\n",
              "부산광역시  3404423  1668618  1735805\n",
              "인천광역시  2947217  1476813  1470404\n",
              "대구광역시  2427954  1198815  1229139\n",
              "대전광역시  1471040   734441   736599\n",
              "광주광역시  1455048   720060   734988"
            ]
          },
          "execution_count": 24,
          "metadata": {},
          "output_type": "execute_result"
        }
      ],
      "source": [
        "korea_df = pd.DataFrame({'인구수': population,\n",
        "                        '남자인구수': male,\n",
        "                        '여자인구수': female})\n",
        "korea_df"
      ]
    },
    {
      "cell_type": "code",
      "execution_count": 25,
      "metadata": {
        "id": "9A0OSZFw2TJZ"
      },
      "outputs": [
        {
          "data": {
            "text/plain": [
              "Index(['서울특별시', '부산광역시', '인천광역시', '대구광역시', '대전광역시', '광주광역시'], dtype='object')"
            ]
          },
          "execution_count": 25,
          "metadata": {},
          "output_type": "execute_result"
        }
      ],
      "source": [
        "korea_df.index"
      ]
    },
    {
      "cell_type": "code",
      "execution_count": 26,
      "metadata": {
        "id": "qCRB-v6w2Xmt"
      },
      "outputs": [
        {
          "data": {
            "text/plain": [
              "Index(['인구수', '남자인구수', '여자인구수'], dtype='object')"
            ]
          },
          "execution_count": 26,
          "metadata": {},
          "output_type": "execute_result"
        }
      ],
      "source": [
        "korea_df.columns"
      ]
    },
    {
      "cell_type": "code",
      "execution_count": 27,
      "metadata": {
        "id": "I86OnLLj2bSf"
      },
      "outputs": [
        {
          "data": {
            "text/plain": [
              "서울특별시    4988571\n",
              "부산광역시    1735805\n",
              "인천광역시    1470404\n",
              "대구광역시    1229139\n",
              "대전광역시     736599\n",
              "광주광역시     734988\n",
              "Name: 여자인구수, dtype: int64"
            ]
          },
          "execution_count": 27,
          "metadata": {},
          "output_type": "execute_result"
        }
      ],
      "source": [
        "korea_df['여자인구수']"
      ]
    },
    {
      "cell_type": "code",
      "execution_count": 28,
      "metadata": {
        "id": "I2Cx16L42gSj"
      },
      "outputs": [
        {
          "data": {
            "text/html": [
              "<div>\n",
              "<style scoped>\n",
              "    .dataframe tbody tr th:only-of-type {\n",
              "        vertical-align: middle;\n",
              "    }\n",
              "\n",
              "    .dataframe tbody tr th {\n",
              "        vertical-align: top;\n",
              "    }\n",
              "\n",
              "    .dataframe thead th {\n",
              "        text-align: right;\n",
              "    }\n",
              "</style>\n",
              "<table border=\"1\" class=\"dataframe\">\n",
              "  <thead>\n",
              "    <tr style=\"text-align: right;\">\n",
              "      <th></th>\n",
              "      <th>인구수</th>\n",
              "      <th>남자인구수</th>\n",
              "      <th>여자인구수</th>\n",
              "    </tr>\n",
              "  </thead>\n",
              "  <tbody>\n",
              "    <tr>\n",
              "      <th>서울특별시</th>\n",
              "      <td>9720846</td>\n",
              "      <td>4732275</td>\n",
              "      <td>4988571</td>\n",
              "    </tr>\n",
              "    <tr>\n",
              "      <th>부산광역시</th>\n",
              "      <td>3404423</td>\n",
              "      <td>1668618</td>\n",
              "      <td>1735805</td>\n",
              "    </tr>\n",
              "    <tr>\n",
              "      <th>인천광역시</th>\n",
              "      <td>2947217</td>\n",
              "      <td>1476813</td>\n",
              "      <td>1470404</td>\n",
              "    </tr>\n",
              "  </tbody>\n",
              "</table>\n",
              "</div>"
            ],
            "text/plain": [
              "           인구수    남자인구수    여자인구수\n",
              "서울특별시  9720846  4732275  4988571\n",
              "부산광역시  3404423  1668618  1735805\n",
              "인천광역시  2947217  1476813  1470404"
            ]
          },
          "execution_count": 28,
          "metadata": {},
          "output_type": "execute_result"
        }
      ],
      "source": [
        "korea_df['서울특별시':'인천광역시']"
      ]
    },
    {
      "cell_type": "markdown",
      "metadata": {
        "id": "YLyCNxg45qyN"
      },
      "source": [
        "### Index 객체\n"
      ]
    },
    {
      "cell_type": "code",
      "execution_count": 29,
      "metadata": {
        "id": "sveOOZiM4dDu"
      },
      "outputs": [
        {
          "data": {
            "text/plain": [
              "Int64Index([2, 4, 6, 8, 10], dtype='int64')"
            ]
          },
          "execution_count": 29,
          "metadata": {},
          "output_type": "execute_result"
        }
      ],
      "source": [
        "idx = pd.Index([2, 4, 6, 8, 10])\n",
        "idx"
      ]
    },
    {
      "cell_type": "code",
      "execution_count": 30,
      "metadata": {
        "id": "wq3KUCST5yDP"
      },
      "outputs": [
        {
          "data": {
            "text/plain": [
              "4"
            ]
          },
          "execution_count": 30,
          "metadata": {},
          "output_type": "execute_result"
        }
      ],
      "source": [
        "idx[1]"
      ]
    },
    {
      "cell_type": "code",
      "execution_count": 31,
      "metadata": {
        "id": "4MZR1LaP500X"
      },
      "outputs": [
        {
          "data": {
            "text/plain": [
              "Int64Index([2, 6, 10], dtype='int64')"
            ]
          },
          "execution_count": 31,
          "metadata": {},
          "output_type": "execute_result"
        }
      ],
      "source": [
        "idx[0:5:2]"
      ]
    },
    {
      "cell_type": "code",
      "execution_count": 32,
      "metadata": {
        "id": "NcGmnV_H52uy"
      },
      "outputs": [
        {
          "data": {
            "text/plain": [
              "Int64Index([10], dtype='int64')"
            ]
          },
          "execution_count": 32,
          "metadata": {},
          "output_type": "execute_result"
        }
      ],
      "source": [
        "idx[-1::]"
      ]
    },
    {
      "cell_type": "code",
      "execution_count": 33,
      "metadata": {
        "id": "0mtbfeYY54Jk"
      },
      "outputs": [
        {
          "data": {
            "text/plain": [
              "Int64Index([2, 6, 10], dtype='int64')"
            ]
          },
          "execution_count": 33,
          "metadata": {},
          "output_type": "execute_result"
        }
      ],
      "source": [
        "idx[::2]"
      ]
    },
    {
      "cell_type": "code",
      "execution_count": 34,
      "metadata": {
        "id": "CB_BwH3G57c9"
      },
      "outputs": [
        {
          "name": "stdout",
          "output_type": "stream",
          "text": [
            "Int64Index([2, 4, 6, 8, 10], dtype='int64')\n",
            "5\n",
            "(5,)\n",
            "1\n",
            "int64\n"
          ]
        }
      ],
      "source": [
        "print(idx)\n",
        "print(idx.size)\n",
        "print(idx.shape)\n",
        "print(idx.ndim)\n",
        "print(idx.dtype)"
      ]
    },
    {
      "cell_type": "markdown",
      "metadata": {
        "id": "M2xlGdrok22S"
      },
      "source": [
        "#### Index 연산"
      ]
    },
    {
      "cell_type": "code",
      "execution_count": 35,
      "metadata": {
        "id": "e2yx1bpE6B3_"
      },
      "outputs": [
        {
          "name": "stdout",
          "output_type": "stream",
          "text": [
            "Int64Index([1, 2, 4, 6, 8, 2, 4, 5, 6, 7], dtype='int64')\n",
            "Int64Index([1, 8], dtype='int64')\n",
            "Int64Index([-1, -2, -1, 0, 1], dtype='int64')\n",
            "Int64Index([2, 4, 6], dtype='int64')\n",
            "Int64Index([2, 4, 6], dtype='int64')\n",
            "Int64Index([1, 2, 4, 5, 6, 7, 8], dtype='int64')\n",
            "Int64Index([1, 2, 4, 5, 6, 7, 8], dtype='int64')\n",
            "Int64Index([2, 4, 6, 8], dtype='int64')\n",
            "Int64Index([1, 4, 6, 8], dtype='int64')\n",
            "Int64Index([1, 5, 7, 8], dtype='int64')\n"
          ]
        },
        {
          "name": "stderr",
          "output_type": "stream",
          "text": [
            "/Users/wjlee/opt/anaconda3/envs/study_ML_37/lib/python3.7/site-packages/ipykernel_launcher.py:8: FutureWarning: Index.__and__ operating as a set operation is deprecated, in the future this will be a logical operation matching Series.__and__.  Use index.intersection(other) instead\n",
            "  \n",
            "/Users/wjlee/opt/anaconda3/envs/study_ML_37/lib/python3.7/site-packages/ipykernel_launcher.py:10: FutureWarning: Index.__or__ operating as a set operation is deprecated, in the future this will be a logical operation matching Series.__or__.  Use index.union(other) instead\n",
            "  # Remove the CWD from sys.path while we load stuff.\n",
            "/Users/wjlee/opt/anaconda3/envs/study_ML_37/lib/python3.7/site-packages/ipykernel_launcher.py:13: FutureWarning: Index.__xor__ operating as a set operation is deprecated, in the future this will be a logical operation matching Series.__xor__.  Use index.symmetric_difference(other) instead\n",
            "  del sys.path[0]\n"
          ]
        }
      ],
      "source": [
        "idx1 = pd.Index([1, 2, 4, 6, 8])\n",
        "idx2 = pd.Index([2, 4, 5, 6, 7])\n",
        "\n",
        "print(idx1.append(idx2))\n",
        "print(idx1.difference(idx2))\n",
        "print(idx1 - idx2)\n",
        "print(idx1.intersection(idx2))\n",
        "print(idx1 & idx2)\n",
        "print(idx1.union(idx2))\n",
        "print(idx1 | idx2)\n",
        "print(idx1.delete(0))\n",
        "print(idx1.drop(2))\n",
        "print(idx1 ^ idx2)"
      ]
    },
    {
      "cell_type": "markdown",
      "metadata": {
        "id": "kd8eQIoYHoaS"
      },
      "source": [
        "\n",
        "\n",
        "---\n",
        "\n"
      ]
    },
    {
      "cell_type": "markdown",
      "metadata": {
        "id": "KZLKu-HM6yEm"
      },
      "source": [
        "## 인덱싱(Indexing)"
      ]
    },
    {
      "cell_type": "code",
      "execution_count": 36,
      "metadata": {
        "id": "2kLDyvXi60-A"
      },
      "outputs": [
        {
          "data": {
            "text/plain": [
              "a    0.00\n",
              "b    0.25\n",
              "c    0.50\n",
              "d    0.75\n",
              "e    1.00\n",
              "dtype: float64"
            ]
          },
          "execution_count": 36,
          "metadata": {},
          "output_type": "execute_result"
        }
      ],
      "source": [
        "s = pd.Series([0, 0.25, 0.5, 0.75, 1],\n",
        "            index=['a', 'b', 'c', 'd', 'e'])\n",
        "s"
      ]
    },
    {
      "cell_type": "code",
      "execution_count": 37,
      "metadata": {
        "id": "5oXPBg2kHqMH"
      },
      "outputs": [
        {
          "data": {
            "text/plain": [
              "0.25"
            ]
          },
          "execution_count": 37,
          "metadata": {},
          "output_type": "execute_result"
        }
      ],
      "source": [
        "s['b']"
      ]
    },
    {
      "cell_type": "code",
      "execution_count": 38,
      "metadata": {
        "id": "msZ7pmajIgiR"
      },
      "outputs": [
        {
          "data": {
            "text/plain": [
              "True"
            ]
          },
          "execution_count": 38,
          "metadata": {},
          "output_type": "execute_result"
        }
      ],
      "source": [
        "'b' in s"
      ]
    },
    {
      "cell_type": "code",
      "execution_count": 39,
      "metadata": {
        "id": "lyi7cVYbIjPF"
      },
      "outputs": [
        {
          "data": {
            "text/plain": [
              "Index(['a', 'b', 'c', 'd', 'e'], dtype='object')"
            ]
          },
          "execution_count": 39,
          "metadata": {},
          "output_type": "execute_result"
        }
      ],
      "source": [
        "s.keys()"
      ]
    },
    {
      "cell_type": "code",
      "execution_count": 40,
      "metadata": {
        "id": "AQc6QXxBIj9m"
      },
      "outputs": [
        {
          "data": {
            "text/plain": [
              "[('a', 0.0), ('b', 0.25), ('c', 0.5), ('d', 0.75), ('e', 1.0)]"
            ]
          },
          "execution_count": 40,
          "metadata": {},
          "output_type": "execute_result"
        }
      ],
      "source": [
        "list(s.items())"
      ]
    },
    {
      "cell_type": "code",
      "execution_count": 41,
      "metadata": {
        "id": "ZwWy7NqlImoZ"
      },
      "outputs": [
        {
          "data": {
            "text/plain": [
              "a    0.00\n",
              "b    0.25\n",
              "c    0.50\n",
              "d    0.75\n",
              "e    1.00\n",
              "f    1.25\n",
              "dtype: float64"
            ]
          },
          "execution_count": 41,
          "metadata": {},
          "output_type": "execute_result"
        }
      ],
      "source": [
        "s['f'] = 1.25\n",
        "s"
      ]
    },
    {
      "cell_type": "code",
      "execution_count": 42,
      "metadata": {
        "id": "r_q7ScSMIu4C"
      },
      "outputs": [
        {
          "data": {
            "text/plain": [
              "a    0.00\n",
              "b    0.25\n",
              "c    0.50\n",
              "d    0.75\n",
              "dtype: float64"
            ]
          },
          "execution_count": 42,
          "metadata": {},
          "output_type": "execute_result"
        }
      ],
      "source": [
        "s['a':'d']"
      ]
    },
    {
      "cell_type": "code",
      "execution_count": 43,
      "metadata": {
        "id": "1EPBjuijIzhX"
      },
      "outputs": [
        {
          "data": {
            "text/plain": [
              "a    0.00\n",
              "b    0.25\n",
              "c    0.50\n",
              "d    0.75\n",
              "dtype: float64"
            ]
          },
          "execution_count": 43,
          "metadata": {},
          "output_type": "execute_result"
        }
      ],
      "source": [
        "s[0:4]"
      ]
    },
    {
      "cell_type": "code",
      "execution_count": 44,
      "metadata": {
        "id": "3O4Cm0fXI1sZ"
      },
      "outputs": [
        {
          "data": {
            "text/plain": [
              "c    0.50\n",
              "d    0.75\n",
              "dtype: float64"
            ]
          },
          "execution_count": 44,
          "metadata": {},
          "output_type": "execute_result"
        }
      ],
      "source": [
        "s[(s > 0.4) & (s < 0.8)]"
      ]
    },
    {
      "cell_type": "code",
      "execution_count": 45,
      "metadata": {
        "id": "i9DDqXO0I9wo"
      },
      "outputs": [
        {
          "data": {
            "text/plain": [
              "a    0.0\n",
              "c    0.5\n",
              "e    1.0\n",
              "dtype: float64"
            ]
          },
          "execution_count": 45,
          "metadata": {},
          "output_type": "execute_result"
        }
      ],
      "source": [
        "s[(['a', 'c', 'e'])]"
      ]
    },
    {
      "cell_type": "markdown",
      "metadata": {
        "id": "NoRP6_bPrViW"
      },
      "source": [
        "### Series 인덱싱"
      ]
    },
    {
      "cell_type": "code",
      "execution_count": 46,
      "metadata": {
        "id": "lf8mRyNeI_b_"
      },
      "outputs": [
        {
          "data": {
            "text/plain": [
              "1    a\n",
              "3    b\n",
              "5    c\n",
              "7    d\n",
              "9    e\n",
              "dtype: object"
            ]
          },
          "execution_count": 46,
          "metadata": {},
          "output_type": "execute_result"
        }
      ],
      "source": [
        "s = pd.Series(['a', 'b', 'c', 'd', 'e'],\n",
        "            index=[1, 3, 5, 7, 9])\n",
        "s"
      ]
    },
    {
      "cell_type": "code",
      "execution_count": 47,
      "metadata": {
        "id": "5H1JoKlKLjsw"
      },
      "outputs": [
        {
          "data": {
            "text/plain": [
              "'a'"
            ]
          },
          "execution_count": 47,
          "metadata": {},
          "output_type": "execute_result"
        }
      ],
      "source": [
        "s[1]"
      ]
    },
    {
      "cell_type": "code",
      "execution_count": 48,
      "metadata": {
        "id": "hVSHrsMzLln2"
      },
      "outputs": [
        {
          "data": {
            "text/plain": [
              "5    c\n",
              "7    d\n",
              "dtype: object"
            ]
          },
          "execution_count": 48,
          "metadata": {},
          "output_type": "execute_result"
        }
      ],
      "source": [
        "s[2:4]"
      ]
    },
    {
      "cell_type": "code",
      "execution_count": 49,
      "metadata": {
        "id": "qtpxKX78Lmlm"
      },
      "outputs": [
        {
          "data": {
            "text/plain": [
              "'b'"
            ]
          },
          "execution_count": 49,
          "metadata": {},
          "output_type": "execute_result"
        }
      ],
      "source": [
        "s.iloc[1]"
      ]
    },
    {
      "cell_type": "code",
      "execution_count": 50,
      "metadata": {
        "id": "gy5ShWM4LqMU"
      },
      "outputs": [
        {
          "data": {
            "text/plain": [
              "5    c\n",
              "7    d\n",
              "dtype: object"
            ]
          },
          "execution_count": 50,
          "metadata": {},
          "output_type": "execute_result"
        }
      ],
      "source": [
        "s.iloc[2:4]"
      ]
    },
    {
      "cell_type": "code",
      "execution_count": 51,
      "metadata": {
        "id": "utldkXViqAfQ"
      },
      "outputs": [
        {
          "data": {
            "text/plain": [
              "0    NaN\n",
              "1      a\n",
              "2    NaN\n",
              "3      b\n",
              "4    NaN\n",
              "5      c\n",
              "6    NaN\n",
              "7      d\n",
              "8    NaN\n",
              "9      e\n",
              "dtype: object"
            ]
          },
          "execution_count": 51,
          "metadata": {},
          "output_type": "execute_result"
        }
      ],
      "source": [
        "s.reindex(range(10))"
      ]
    },
    {
      "cell_type": "code",
      "execution_count": 52,
      "metadata": {
        "id": "-4jACtEQqm2o"
      },
      "outputs": [
        {
          "data": {
            "text/plain": [
              "0    a\n",
              "1    a\n",
              "2    b\n",
              "3    b\n",
              "4    c\n",
              "5    c\n",
              "6    d\n",
              "7    d\n",
              "8    e\n",
              "9    e\n",
              "dtype: object"
            ]
          },
          "execution_count": 52,
          "metadata": {},
          "output_type": "execute_result"
        }
      ],
      "source": [
        "s.reindex(range(10), method='bfill')"
      ]
    },
    {
      "cell_type": "markdown",
      "metadata": {
        "id": "aOLEal9Hrli0"
      },
      "source": [
        "### DataFrame 인덱싱\n"
      ]
    },
    {
      "cell_type": "code",
      "execution_count": 53,
      "metadata": {
        "id": "77aifW07LsTZ"
      },
      "outputs": [
        {
          "data": {
            "text/html": [
              "<div>\n",
              "<style scoped>\n",
              "    .dataframe tbody tr th:only-of-type {\n",
              "        vertical-align: middle;\n",
              "    }\n",
              "\n",
              "    .dataframe tbody tr th {\n",
              "        vertical-align: top;\n",
              "    }\n",
              "\n",
              "    .dataframe thead th {\n",
              "        text-align: right;\n",
              "    }\n",
              "</style>\n",
              "<table border=\"1\" class=\"dataframe\">\n",
              "  <thead>\n",
              "    <tr style=\"text-align: right;\">\n",
              "      <th></th>\n",
              "      <th>인구수</th>\n",
              "      <th>남자인구수</th>\n",
              "      <th>여자인구수</th>\n",
              "    </tr>\n",
              "  </thead>\n",
              "  <tbody>\n",
              "    <tr>\n",
              "      <th>서울특별시</th>\n",
              "      <td>9720846</td>\n",
              "      <td>4732275</td>\n",
              "      <td>4988571</td>\n",
              "    </tr>\n",
              "    <tr>\n",
              "      <th>부산광역시</th>\n",
              "      <td>3404423</td>\n",
              "      <td>1668618</td>\n",
              "      <td>1735805</td>\n",
              "    </tr>\n",
              "    <tr>\n",
              "      <th>인천광역시</th>\n",
              "      <td>2947217</td>\n",
              "      <td>1476813</td>\n",
              "      <td>1470404</td>\n",
              "    </tr>\n",
              "    <tr>\n",
              "      <th>대구광역시</th>\n",
              "      <td>2427954</td>\n",
              "      <td>1198815</td>\n",
              "      <td>1229139</td>\n",
              "    </tr>\n",
              "    <tr>\n",
              "      <th>대전광역시</th>\n",
              "      <td>1471040</td>\n",
              "      <td>734441</td>\n",
              "      <td>736599</td>\n",
              "    </tr>\n",
              "    <tr>\n",
              "      <th>광주광역시</th>\n",
              "      <td>1455048</td>\n",
              "      <td>720060</td>\n",
              "      <td>734988</td>\n",
              "    </tr>\n",
              "  </tbody>\n",
              "</table>\n",
              "</div>"
            ],
            "text/plain": [
              "           인구수    남자인구수    여자인구수\n",
              "서울특별시  9720846  4732275  4988571\n",
              "부산광역시  3404423  1668618  1735805\n",
              "인천광역시  2947217  1476813  1470404\n",
              "대구광역시  2427954  1198815  1229139\n",
              "대전광역시  1471040   734441   736599\n",
              "광주광역시  1455048   720060   734988"
            ]
          },
          "execution_count": 53,
          "metadata": {},
          "output_type": "execute_result"
        }
      ],
      "source": [
        "korea_df"
      ]
    },
    {
      "cell_type": "code",
      "execution_count": 54,
      "metadata": {
        "id": "Gqv2LvUsL_hy"
      },
      "outputs": [
        {
          "data": {
            "text/plain": [
              "서울특별시    4732275\n",
              "부산광역시    1668618\n",
              "인천광역시    1476813\n",
              "대구광역시    1198815\n",
              "대전광역시     734441\n",
              "광주광역시     720060\n",
              "Name: 남자인구수, dtype: int64"
            ]
          },
          "execution_count": 54,
          "metadata": {},
          "output_type": "execute_result"
        }
      ],
      "source": [
        "korea_df['남자인구수']"
      ]
    },
    {
      "cell_type": "code",
      "execution_count": 55,
      "metadata": {
        "id": "ASLLVKjxOCaq"
      },
      "outputs": [
        {
          "data": {
            "text/plain": [
              "서울특별시    4732275\n",
              "부산광역시    1668618\n",
              "인천광역시    1476813\n",
              "대구광역시    1198815\n",
              "대전광역시     734441\n",
              "광주광역시     720060\n",
              "Name: 남자인구수, dtype: int64"
            ]
          },
          "execution_count": 55,
          "metadata": {},
          "output_type": "execute_result"
        }
      ],
      "source": [
        "korea_df.남자인구수"
      ]
    },
    {
      "cell_type": "code",
      "execution_count": 56,
      "metadata": {
        "id": "HwAFfjLBOEp5"
      },
      "outputs": [
        {
          "data": {
            "text/plain": [
              "서울특별시    4988571\n",
              "부산광역시    1735805\n",
              "인천광역시    1470404\n",
              "대구광역시    1229139\n",
              "대전광역시     736599\n",
              "광주광역시     734988\n",
              "Name: 여자인구수, dtype: int64"
            ]
          },
          "execution_count": 56,
          "metadata": {},
          "output_type": "execute_result"
        }
      ],
      "source": [
        "korea_df.여자인구수"
      ]
    },
    {
      "cell_type": "code",
      "execution_count": 57,
      "metadata": {
        "id": "pECRBE1iOJqe"
      },
      "outputs": [],
      "source": [
        "korea_df['남여비율'] = (korea_df['남자인구수'] * 100 / korea_df['여자인구수'])"
      ]
    },
    {
      "cell_type": "code",
      "execution_count": 58,
      "metadata": {
        "id": "MYpzQMFiOrGC"
      },
      "outputs": [
        {
          "data": {
            "text/plain": [
              "서울특별시     94.862336\n",
              "부산광역시     96.129346\n",
              "인천광역시    100.435867\n",
              "대구광역시     97.532907\n",
              "대전광역시     99.707032\n",
              "광주광역시     97.968946\n",
              "Name: 남여비율, dtype: float64"
            ]
          },
          "execution_count": 58,
          "metadata": {},
          "output_type": "execute_result"
        }
      ],
      "source": [
        "korea_df.남여비율"
      ]
    },
    {
      "cell_type": "code",
      "execution_count": 59,
      "metadata": {
        "id": "wVpY62uBOs9E"
      },
      "outputs": [
        {
          "data": {
            "text/plain": [
              "array([[9.72084600e+06, 4.73227500e+06, 4.98857100e+06, 9.48623363e+01],\n",
              "       [3.40442300e+06, 1.66861800e+06, 1.73580500e+06, 9.61293463e+01],\n",
              "       [2.94721700e+06, 1.47681300e+06, 1.47040400e+06, 1.00435867e+02],\n",
              "       [2.42795400e+06, 1.19881500e+06, 1.22913900e+06, 9.75329072e+01],\n",
              "       [1.47104000e+06, 7.34441000e+05, 7.36599000e+05, 9.97070319e+01],\n",
              "       [1.45504800e+06, 7.20060000e+05, 7.34988000e+05, 9.79689464e+01]])"
            ]
          },
          "execution_count": 59,
          "metadata": {},
          "output_type": "execute_result"
        }
      ],
      "source": [
        "korea_df.values"
      ]
    },
    {
      "cell_type": "code",
      "execution_count": 60,
      "metadata": {
        "id": "RRce4iuBO30i"
      },
      "outputs": [
        {
          "data": {
            "text/html": [
              "<div>\n",
              "<style scoped>\n",
              "    .dataframe tbody tr th:only-of-type {\n",
              "        vertical-align: middle;\n",
              "    }\n",
              "\n",
              "    .dataframe tbody tr th {\n",
              "        vertical-align: top;\n",
              "    }\n",
              "\n",
              "    .dataframe thead th {\n",
              "        text-align: right;\n",
              "    }\n",
              "</style>\n",
              "<table border=\"1\" class=\"dataframe\">\n",
              "  <thead>\n",
              "    <tr style=\"text-align: right;\">\n",
              "      <th></th>\n",
              "      <th>서울특별시</th>\n",
              "      <th>부산광역시</th>\n",
              "      <th>인천광역시</th>\n",
              "      <th>대구광역시</th>\n",
              "      <th>대전광역시</th>\n",
              "      <th>광주광역시</th>\n",
              "    </tr>\n",
              "  </thead>\n",
              "  <tbody>\n",
              "    <tr>\n",
              "      <th>인구수</th>\n",
              "      <td>9.720846e+06</td>\n",
              "      <td>3.404423e+06</td>\n",
              "      <td>2.947217e+06</td>\n",
              "      <td>2.427954e+06</td>\n",
              "      <td>1.471040e+06</td>\n",
              "      <td>1.455048e+06</td>\n",
              "    </tr>\n",
              "    <tr>\n",
              "      <th>남자인구수</th>\n",
              "      <td>4.732275e+06</td>\n",
              "      <td>1.668618e+06</td>\n",
              "      <td>1.476813e+06</td>\n",
              "      <td>1.198815e+06</td>\n",
              "      <td>7.344410e+05</td>\n",
              "      <td>7.200600e+05</td>\n",
              "    </tr>\n",
              "    <tr>\n",
              "      <th>여자인구수</th>\n",
              "      <td>4.988571e+06</td>\n",
              "      <td>1.735805e+06</td>\n",
              "      <td>1.470404e+06</td>\n",
              "      <td>1.229139e+06</td>\n",
              "      <td>7.365990e+05</td>\n",
              "      <td>7.349880e+05</td>\n",
              "    </tr>\n",
              "    <tr>\n",
              "      <th>남여비율</th>\n",
              "      <td>9.486234e+01</td>\n",
              "      <td>9.612935e+01</td>\n",
              "      <td>1.004359e+02</td>\n",
              "      <td>9.753291e+01</td>\n",
              "      <td>9.970703e+01</td>\n",
              "      <td>9.796895e+01</td>\n",
              "    </tr>\n",
              "  </tbody>\n",
              "</table>\n",
              "</div>"
            ],
            "text/plain": [
              "              서울특별시         부산광역시         인천광역시         대구광역시         대전광역시  \\\n",
              "인구수    9.720846e+06  3.404423e+06  2.947217e+06  2.427954e+06  1.471040e+06   \n",
              "남자인구수  4.732275e+06  1.668618e+06  1.476813e+06  1.198815e+06  7.344410e+05   \n",
              "여자인구수  4.988571e+06  1.735805e+06  1.470404e+06  1.229139e+06  7.365990e+05   \n",
              "남여비율   9.486234e+01  9.612935e+01  1.004359e+02  9.753291e+01  9.970703e+01   \n",
              "\n",
              "              광주광역시  \n",
              "인구수    1.455048e+06  \n",
              "남자인구수  7.200600e+05  \n",
              "여자인구수  7.349880e+05  \n",
              "남여비율   9.796895e+01  "
            ]
          },
          "execution_count": 60,
          "metadata": {},
          "output_type": "execute_result"
        }
      ],
      "source": [
        "korea_df.T"
      ]
    },
    {
      "cell_type": "code",
      "execution_count": 61,
      "metadata": {
        "id": "4kgf30KQO_s3"
      },
      "outputs": [
        {
          "data": {
            "text/plain": [
              "array([9.72084600e+06, 4.73227500e+06, 4.98857100e+06, 9.48623363e+01])"
            ]
          },
          "execution_count": 61,
          "metadata": {},
          "output_type": "execute_result"
        }
      ],
      "source": [
        "korea_df.values[0]"
      ]
    },
    {
      "cell_type": "code",
      "execution_count": 62,
      "metadata": {
        "id": "QmM75FOUPBgH"
      },
      "outputs": [
        {
          "data": {
            "text/plain": [
              "서울특별시    9720846\n",
              "부산광역시    3404423\n",
              "인천광역시    2947217\n",
              "대구광역시    2427954\n",
              "대전광역시    1471040\n",
              "광주광역시    1455048\n",
              "Name: 인구수, dtype: int64"
            ]
          },
          "execution_count": 62,
          "metadata": {},
          "output_type": "execute_result"
        }
      ],
      "source": [
        "korea_df['인구수']"
      ]
    },
    {
      "cell_type": "code",
      "execution_count": 63,
      "metadata": {
        "id": "TdhfKQSgPERt"
      },
      "outputs": [
        {
          "data": {
            "text/html": [
              "<div>\n",
              "<style scoped>\n",
              "    .dataframe tbody tr th:only-of-type {\n",
              "        vertical-align: middle;\n",
              "    }\n",
              "\n",
              "    .dataframe tbody tr th {\n",
              "        vertical-align: top;\n",
              "    }\n",
              "\n",
              "    .dataframe thead th {\n",
              "        text-align: right;\n",
              "    }\n",
              "</style>\n",
              "<table border=\"1\" class=\"dataframe\">\n",
              "  <thead>\n",
              "    <tr style=\"text-align: right;\">\n",
              "      <th></th>\n",
              "      <th>인구수</th>\n",
              "      <th>남자인구수</th>\n",
              "    </tr>\n",
              "  </thead>\n",
              "  <tbody>\n",
              "    <tr>\n",
              "      <th>서울특별시</th>\n",
              "      <td>9720846</td>\n",
              "      <td>4732275</td>\n",
              "    </tr>\n",
              "    <tr>\n",
              "      <th>부산광역시</th>\n",
              "      <td>3404423</td>\n",
              "      <td>1668618</td>\n",
              "    </tr>\n",
              "    <tr>\n",
              "      <th>인천광역시</th>\n",
              "      <td>2947217</td>\n",
              "      <td>1476813</td>\n",
              "    </tr>\n",
              "  </tbody>\n",
              "</table>\n",
              "</div>"
            ],
            "text/plain": [
              "           인구수    남자인구수\n",
              "서울특별시  9720846  4732275\n",
              "부산광역시  3404423  1668618\n",
              "인천광역시  2947217  1476813"
            ]
          },
          "execution_count": 63,
          "metadata": {},
          "output_type": "execute_result"
        }
      ],
      "source": [
        "korea_df.loc[:'인천광역시', :'남자인구수']"
      ]
    },
    {
      "cell_type": "code",
      "execution_count": 64,
      "metadata": {
        "id": "UKbn4mbdPGqb"
      },
      "outputs": [
        {
          "data": {
            "text/html": [
              "<div>\n",
              "<style scoped>\n",
              "    .dataframe tbody tr th:only-of-type {\n",
              "        vertical-align: middle;\n",
              "    }\n",
              "\n",
              "    .dataframe tbody tr th {\n",
              "        vertical-align: top;\n",
              "    }\n",
              "\n",
              "    .dataframe thead th {\n",
              "        text-align: right;\n",
              "    }\n",
              "</style>\n",
              "<table border=\"1\" class=\"dataframe\">\n",
              "  <thead>\n",
              "    <tr style=\"text-align: right;\">\n",
              "      <th></th>\n",
              "      <th>인구수</th>\n",
              "      <th>남자인구수</th>\n",
              "      <th>여자인구수</th>\n",
              "      <th>남여비율</th>\n",
              "    </tr>\n",
              "  </thead>\n",
              "  <tbody>\n",
              "    <tr>\n",
              "      <th>서울특별시</th>\n",
              "      <td>9720846</td>\n",
              "      <td>4732275</td>\n",
              "      <td>4988571</td>\n",
              "      <td>94.862336</td>\n",
              "    </tr>\n",
              "    <tr>\n",
              "      <th>부산광역시</th>\n",
              "      <td>3404423</td>\n",
              "      <td>1668618</td>\n",
              "      <td>1735805</td>\n",
              "      <td>96.129346</td>\n",
              "    </tr>\n",
              "    <tr>\n",
              "      <th>인천광역시</th>\n",
              "      <td>2947217</td>\n",
              "      <td>1476813</td>\n",
              "      <td>1470404</td>\n",
              "      <td>100.435867</td>\n",
              "    </tr>\n",
              "    <tr>\n",
              "      <th>대구광역시</th>\n",
              "      <td>2427954</td>\n",
              "      <td>1198815</td>\n",
              "      <td>1229139</td>\n",
              "      <td>97.532907</td>\n",
              "    </tr>\n",
              "  </tbody>\n",
              "</table>\n",
              "</div>"
            ],
            "text/plain": [
              "           인구수    남자인구수    여자인구수        남여비율\n",
              "서울특별시  9720846  4732275  4988571   94.862336\n",
              "부산광역시  3404423  1668618  1735805   96.129346\n",
              "인천광역시  2947217  1476813  1470404  100.435867\n",
              "대구광역시  2427954  1198815  1229139   97.532907"
            ]
          },
          "execution_count": 64,
          "metadata": {},
          "output_type": "execute_result"
        }
      ],
      "source": [
        "korea_df.loc[(korea_df.여자인구수 > 1000000)]"
      ]
    },
    {
      "cell_type": "code",
      "execution_count": 65,
      "metadata": {
        "id": "QMK8qC5YQRUc"
      },
      "outputs": [
        {
          "data": {
            "text/html": [
              "<div>\n",
              "<style scoped>\n",
              "    .dataframe tbody tr th:only-of-type {\n",
              "        vertical-align: middle;\n",
              "    }\n",
              "\n",
              "    .dataframe tbody tr th {\n",
              "        vertical-align: top;\n",
              "    }\n",
              "\n",
              "    .dataframe thead th {\n",
              "        text-align: right;\n",
              "    }\n",
              "</style>\n",
              "<table border=\"1\" class=\"dataframe\">\n",
              "  <thead>\n",
              "    <tr style=\"text-align: right;\">\n",
              "      <th></th>\n",
              "      <th>인구수</th>\n",
              "      <th>남자인구수</th>\n",
              "      <th>여자인구수</th>\n",
              "      <th>남여비율</th>\n",
              "    </tr>\n",
              "  </thead>\n",
              "  <tbody>\n",
              "    <tr>\n",
              "      <th>대전광역시</th>\n",
              "      <td>1471040</td>\n",
              "      <td>734441</td>\n",
              "      <td>736599</td>\n",
              "      <td>99.707032</td>\n",
              "    </tr>\n",
              "    <tr>\n",
              "      <th>광주광역시</th>\n",
              "      <td>1455048</td>\n",
              "      <td>720060</td>\n",
              "      <td>734988</td>\n",
              "      <td>97.968946</td>\n",
              "    </tr>\n",
              "  </tbody>\n",
              "</table>\n",
              "</div>"
            ],
            "text/plain": [
              "           인구수   남자인구수   여자인구수       남여비율\n",
              "대전광역시  1471040  734441  736599  99.707032\n",
              "광주광역시  1455048  720060  734988  97.968946"
            ]
          },
          "execution_count": 65,
          "metadata": {},
          "output_type": "execute_result"
        }
      ],
      "source": [
        "korea_df.loc[(korea_df.인구수 < 2000000)]"
      ]
    },
    {
      "cell_type": "code",
      "execution_count": 66,
      "metadata": {
        "id": "sKV0f9f5Yfxz"
      },
      "outputs": [
        {
          "data": {
            "text/html": [
              "<div>\n",
              "<style scoped>\n",
              "    .dataframe tbody tr th:only-of-type {\n",
              "        vertical-align: middle;\n",
              "    }\n",
              "\n",
              "    .dataframe tbody tr th {\n",
              "        vertical-align: top;\n",
              "    }\n",
              "\n",
              "    .dataframe thead th {\n",
              "        text-align: right;\n",
              "    }\n",
              "</style>\n",
              "<table border=\"1\" class=\"dataframe\">\n",
              "  <thead>\n",
              "    <tr style=\"text-align: right;\">\n",
              "      <th></th>\n",
              "      <th>인구수</th>\n",
              "      <th>남자인구수</th>\n",
              "      <th>여자인구수</th>\n",
              "      <th>남여비율</th>\n",
              "    </tr>\n",
              "  </thead>\n",
              "  <tbody>\n",
              "    <tr>\n",
              "      <th>서울특별시</th>\n",
              "      <td>9720846</td>\n",
              "      <td>4732275</td>\n",
              "      <td>4988571</td>\n",
              "      <td>94.862336</td>\n",
              "    </tr>\n",
              "    <tr>\n",
              "      <th>부산광역시</th>\n",
              "      <td>3404423</td>\n",
              "      <td>1668618</td>\n",
              "      <td>1735805</td>\n",
              "      <td>96.129346</td>\n",
              "    </tr>\n",
              "    <tr>\n",
              "      <th>인천광역시</th>\n",
              "      <td>2947217</td>\n",
              "      <td>1476813</td>\n",
              "      <td>1470404</td>\n",
              "      <td>100.435867</td>\n",
              "    </tr>\n",
              "  </tbody>\n",
              "</table>\n",
              "</div>"
            ],
            "text/plain": [
              "           인구수    남자인구수    여자인구수        남여비율\n",
              "서울특별시  9720846  4732275  4988571   94.862336\n",
              "부산광역시  3404423  1668618  1735805   96.129346\n",
              "인천광역시  2947217  1476813  1470404  100.435867"
            ]
          },
          "execution_count": 66,
          "metadata": {},
          "output_type": "execute_result"
        }
      ],
      "source": [
        "korea_df.loc[(korea_df.인구수 > 2500000)]"
      ]
    },
    {
      "cell_type": "code",
      "execution_count": 67,
      "metadata": {
        "id": "XYAGQU5IP7Md"
      },
      "outputs": [
        {
          "data": {
            "text/html": [
              "<div>\n",
              "<style scoped>\n",
              "    .dataframe tbody tr th:only-of-type {\n",
              "        vertical-align: middle;\n",
              "    }\n",
              "\n",
              "    .dataframe tbody tr th {\n",
              "        vertical-align: top;\n",
              "    }\n",
              "\n",
              "    .dataframe thead th {\n",
              "        text-align: right;\n",
              "    }\n",
              "</style>\n",
              "<table border=\"1\" class=\"dataframe\">\n",
              "  <thead>\n",
              "    <tr style=\"text-align: right;\">\n",
              "      <th></th>\n",
              "      <th>인구수</th>\n",
              "      <th>남자인구수</th>\n",
              "      <th>여자인구수</th>\n",
              "      <th>남여비율</th>\n",
              "    </tr>\n",
              "  </thead>\n",
              "  <tbody>\n",
              "    <tr>\n",
              "      <th>인천광역시</th>\n",
              "      <td>2947217</td>\n",
              "      <td>1476813</td>\n",
              "      <td>1470404</td>\n",
              "      <td>100.435867</td>\n",
              "    </tr>\n",
              "  </tbody>\n",
              "</table>\n",
              "</div>"
            ],
            "text/plain": [
              "           인구수    남자인구수    여자인구수        남여비율\n",
              "인천광역시  2947217  1476813  1470404  100.435867"
            ]
          },
          "execution_count": 67,
          "metadata": {},
          "output_type": "execute_result"
        }
      ],
      "source": [
        "korea_df.loc[(korea_df.남여비율 > 100)]"
      ]
    },
    {
      "cell_type": "code",
      "execution_count": 68,
      "metadata": {
        "id": "s752djzTPNiY"
      },
      "outputs": [
        {
          "data": {
            "text/html": [
              "<div>\n",
              "<style scoped>\n",
              "    .dataframe tbody tr th:only-of-type {\n",
              "        vertical-align: middle;\n",
              "    }\n",
              "\n",
              "    .dataframe tbody tr th {\n",
              "        vertical-align: top;\n",
              "    }\n",
              "\n",
              "    .dataframe thead th {\n",
              "        text-align: right;\n",
              "    }\n",
              "</style>\n",
              "<table border=\"1\" class=\"dataframe\">\n",
              "  <thead>\n",
              "    <tr style=\"text-align: right;\">\n",
              "      <th></th>\n",
              "      <th>인구수</th>\n",
              "      <th>남자인구수</th>\n",
              "      <th>여자인구수</th>\n",
              "      <th>남여비율</th>\n",
              "    </tr>\n",
              "  </thead>\n",
              "  <tbody>\n",
              "    <tr>\n",
              "      <th>서울특별시</th>\n",
              "      <td>9720846</td>\n",
              "      <td>4732275</td>\n",
              "      <td>4988571</td>\n",
              "      <td>94.862336</td>\n",
              "    </tr>\n",
              "    <tr>\n",
              "      <th>부산광역시</th>\n",
              "      <td>3404423</td>\n",
              "      <td>1668618</td>\n",
              "      <td>1735805</td>\n",
              "      <td>96.129346</td>\n",
              "    </tr>\n",
              "  </tbody>\n",
              "</table>\n",
              "</div>"
            ],
            "text/plain": [
              "           인구수    남자인구수    여자인구수       남여비율\n",
              "서울특별시  9720846  4732275  4988571  94.862336\n",
              "부산광역시  3404423  1668618  1735805  96.129346"
            ]
          },
          "execution_count": 68,
          "metadata": {},
          "output_type": "execute_result"
        }
      ],
      "source": [
        "korea_df.loc[(korea_df.인구수 > 2500000) & (korea_df.남여비율 < 100)]"
      ]
    },
    {
      "cell_type": "code",
      "execution_count": 69,
      "metadata": {
        "id": "NKk4cWARPQgE"
      },
      "outputs": [
        {
          "data": {
            "text/html": [
              "<div>\n",
              "<style scoped>\n",
              "    .dataframe tbody tr th:only-of-type {\n",
              "        vertical-align: middle;\n",
              "    }\n",
              "\n",
              "    .dataframe tbody tr th {\n",
              "        vertical-align: top;\n",
              "    }\n",
              "\n",
              "    .dataframe thead th {\n",
              "        text-align: right;\n",
              "    }\n",
              "</style>\n",
              "<table border=\"1\" class=\"dataframe\">\n",
              "  <thead>\n",
              "    <tr style=\"text-align: right;\">\n",
              "      <th></th>\n",
              "      <th>인구수</th>\n",
              "      <th>남자인구수</th>\n",
              "    </tr>\n",
              "  </thead>\n",
              "  <tbody>\n",
              "    <tr>\n",
              "      <th>서울특별시</th>\n",
              "      <td>9720846</td>\n",
              "      <td>4732275</td>\n",
              "    </tr>\n",
              "    <tr>\n",
              "      <th>부산광역시</th>\n",
              "      <td>3404423</td>\n",
              "      <td>1668618</td>\n",
              "    </tr>\n",
              "    <tr>\n",
              "      <th>인천광역시</th>\n",
              "      <td>2947217</td>\n",
              "      <td>1476813</td>\n",
              "    </tr>\n",
              "  </tbody>\n",
              "</table>\n",
              "</div>"
            ],
            "text/plain": [
              "           인구수    남자인구수\n",
              "서울특별시  9720846  4732275\n",
              "부산광역시  3404423  1668618\n",
              "인천광역시  2947217  1476813"
            ]
          },
          "execution_count": 69,
          "metadata": {},
          "output_type": "execute_result"
        }
      ],
      "source": [
        "korea_df.iloc[:3, :2]"
      ]
    },
    {
      "cell_type": "markdown",
      "metadata": {
        "id": "KJfzYxtksAMb"
      },
      "source": [
        "### 다중 인덱싱(Multi Indexing)\n",
        "\n",
        "* 1차원의 Series와 2차원의 DataFrame 객체를 넘어 3차원, 4차원 이상의 고차원 데이터 처리\n",
        "* 단일 인덱스 내에 여러 인덱스를 포함하는 다중 인덱싱"
      ]
    },
    {
      "cell_type": "markdown",
      "metadata": {
        "id": "K2c8rSnJ0NZx"
      },
      "source": [
        "#### 다중 인덱스 Series"
      ]
    },
    {
      "cell_type": "code",
      "execution_count": 70,
      "metadata": {
        "id": "kEA1qtgWtJcG"
      },
      "outputs": [
        {
          "data": {
            "text/html": [
              "<div>\n",
              "<style scoped>\n",
              "    .dataframe tbody tr th:only-of-type {\n",
              "        vertical-align: middle;\n",
              "    }\n",
              "\n",
              "    .dataframe tbody tr th {\n",
              "        vertical-align: top;\n",
              "    }\n",
              "\n",
              "    .dataframe thead th {\n",
              "        text-align: right;\n",
              "    }\n",
              "</style>\n",
              "<table border=\"1\" class=\"dataframe\">\n",
              "  <thead>\n",
              "    <tr style=\"text-align: right;\">\n",
              "      <th></th>\n",
              "      <th>인구수</th>\n",
              "      <th>남자인구수</th>\n",
              "      <th>여자인구수</th>\n",
              "      <th>남여비율</th>\n",
              "    </tr>\n",
              "  </thead>\n",
              "  <tbody>\n",
              "    <tr>\n",
              "      <th>서울특별시</th>\n",
              "      <td>9720846</td>\n",
              "      <td>4732275</td>\n",
              "      <td>4988571</td>\n",
              "      <td>94.862336</td>\n",
              "    </tr>\n",
              "    <tr>\n",
              "      <th>부산광역시</th>\n",
              "      <td>3404423</td>\n",
              "      <td>1668618</td>\n",
              "      <td>1735805</td>\n",
              "      <td>96.129346</td>\n",
              "    </tr>\n",
              "    <tr>\n",
              "      <th>인천광역시</th>\n",
              "      <td>2947217</td>\n",
              "      <td>1476813</td>\n",
              "      <td>1470404</td>\n",
              "      <td>100.435867</td>\n",
              "    </tr>\n",
              "    <tr>\n",
              "      <th>대구광역시</th>\n",
              "      <td>2427954</td>\n",
              "      <td>1198815</td>\n",
              "      <td>1229139</td>\n",
              "      <td>97.532907</td>\n",
              "    </tr>\n",
              "    <tr>\n",
              "      <th>대전광역시</th>\n",
              "      <td>1471040</td>\n",
              "      <td>734441</td>\n",
              "      <td>736599</td>\n",
              "      <td>99.707032</td>\n",
              "    </tr>\n",
              "    <tr>\n",
              "      <th>광주광역시</th>\n",
              "      <td>1455048</td>\n",
              "      <td>720060</td>\n",
              "      <td>734988</td>\n",
              "      <td>97.968946</td>\n",
              "    </tr>\n",
              "  </tbody>\n",
              "</table>\n",
              "</div>"
            ],
            "text/plain": [
              "           인구수    남자인구수    여자인구수        남여비율\n",
              "서울특별시  9720846  4732275  4988571   94.862336\n",
              "부산광역시  3404423  1668618  1735805   96.129346\n",
              "인천광역시  2947217  1476813  1470404  100.435867\n",
              "대구광역시  2427954  1198815  1229139   97.532907\n",
              "대전광역시  1471040   734441   736599   99.707032\n",
              "광주광역시  1455048   720060   734988   97.968946"
            ]
          },
          "execution_count": 70,
          "metadata": {},
          "output_type": "execute_result"
        }
      ],
      "source": [
        "korea_df"
      ]
    },
    {
      "cell_type": "code",
      "execution_count": 71,
      "metadata": {
        "id": "3nO23L67vKpP"
      },
      "outputs": [
        {
          "data": {
            "text/plain": [
              "[('서울특별시', 2010),\n",
              " ('서울특별시', 2020),\n",
              " ('부산광역시', 2010),\n",
              " ('부산광역시', 2020),\n",
              " ('인천광역시', 2010),\n",
              " ('인천광역시', 2020),\n",
              " ('대구광역시', 2010),\n",
              " ('대구광역시', 2020),\n",
              " ('대전광역시', 2010),\n",
              " ('대전광역시', 2020),\n",
              " ('광주광역시', 2010),\n",
              " ('광주광역시', 2020)]"
            ]
          },
          "execution_count": 71,
          "metadata": {},
          "output_type": "execute_result"
        }
      ],
      "source": [
        "idx_tuples = [('서울특별시', 2010), ('서울특별시', 2020),\n",
        "            ('부산광역시', 2010), ('부산광역시', 2020),\n",
        "            ('인천광역시', 2010), ('인천광역시', 2020),\n",
        "            ('대구광역시', 2010), ('대구광역시', 2020),\n",
        "            ('대전광역시', 2010), ('대전광역시', 2020),\n",
        "            ('광주광역시', 2010), ('광주광역시', 2020)]\n",
        "idx_tuples"
      ]
    },
    {
      "cell_type": "code",
      "execution_count": 72,
      "metadata": {
        "id": "FWw04oTC36Gy"
      },
      "outputs": [
        {
          "data": {
            "text/plain": [
              "(서울특별시, 2010)    10312545\n",
              "(서울특별시, 2020)     9720846\n",
              "(부산광역시, 2010)     2567910\n",
              "(부산광역시, 2020)     3404423\n",
              "(인천광역시, 2010)     2758296\n",
              "(인천광역시, 2020)     2947217\n",
              "(대구광역시, 2010)     2511676\n",
              "(대구광역시, 2020)     2427954\n",
              "(대전광역시, 2010)     1503664\n",
              "(대전광역시, 2020)     1471040\n",
              "(광주광역시, 2010)     1454636\n",
              "(광주광역시, 2020)     1455048\n",
              "dtype: int64"
            ]
          },
          "execution_count": 72,
          "metadata": {},
          "output_type": "execute_result"
        }
      ],
      "source": [
        "pop_tuples = [10312545, 9720846,\n",
        "            2567910, 3404423,\n",
        "            2758296, 2947217,\n",
        "            2511676, 2427954,\n",
        "            1503664, 1471040,\n",
        "            1454636, 1455048]\n",
        "population = pd.Series(pop_tuples, index=idx_tuples)\n",
        "population"
      ]
    },
    {
      "cell_type": "code",
      "execution_count": 73,
      "metadata": {
        "id": "1cOc-3Da1kGZ"
      },
      "outputs": [
        {
          "data": {
            "text/plain": [
              "MultiIndex([('서울특별시', 2010),\n",
              "            ('서울특별시', 2020),\n",
              "            ('부산광역시', 2010),\n",
              "            ('부산광역시', 2020),\n",
              "            ('인천광역시', 2010),\n",
              "            ('인천광역시', 2020),\n",
              "            ('대구광역시', 2010),\n",
              "            ('대구광역시', 2020),\n",
              "            ('대전광역시', 2010),\n",
              "            ('대전광역시', 2020),\n",
              "            ('광주광역시', 2010),\n",
              "            ('광주광역시', 2020)],\n",
              "           )"
            ]
          },
          "execution_count": 73,
          "metadata": {},
          "output_type": "execute_result"
        }
      ],
      "source": [
        "midx = pd.MultiIndex.from_tuples(idx_tuples)\n",
        "midx"
      ]
    },
    {
      "cell_type": "code",
      "execution_count": 74,
      "metadata": {
        "id": "q_dEok8s5yLx"
      },
      "outputs": [
        {
          "data": {
            "text/plain": [
              "서울특별시  2010    10312545\n",
              "       2020     9720846\n",
              "부산광역시  2010     2567910\n",
              "       2020     3404423\n",
              "인천광역시  2010     2758296\n",
              "       2020     2947217\n",
              "대구광역시  2010     2511676\n",
              "       2020     2427954\n",
              "대전광역시  2010     1503664\n",
              "       2020     1471040\n",
              "광주광역시  2010     1454636\n",
              "       2020     1455048\n",
              "dtype: int64"
            ]
          },
          "execution_count": 74,
          "metadata": {},
          "output_type": "execute_result"
        }
      ],
      "source": [
        "population = population.reindex(midx)\n",
        "population"
      ]
    },
    {
      "cell_type": "code",
      "execution_count": 75,
      "metadata": {
        "id": "NmhgBRyI5-W0"
      },
      "outputs": [
        {
          "data": {
            "text/plain": [
              "서울특별시    10312545\n",
              "부산광역시     2567910\n",
              "인천광역시     2758296\n",
              "대구광역시     2511676\n",
              "대전광역시     1503664\n",
              "광주광역시     1454636\n",
              "dtype: int64"
            ]
          },
          "execution_count": 75,
          "metadata": {},
          "output_type": "execute_result"
        }
      ],
      "source": [
        "population[:, 2010]"
      ]
    },
    {
      "cell_type": "code",
      "execution_count": 76,
      "metadata": {
        "id": "-t0tJ1mh6hkn"
      },
      "outputs": [
        {
          "data": {
            "text/plain": [
              "2010    1503664\n",
              "2020    1471040\n",
              "dtype: int64"
            ]
          },
          "execution_count": 76,
          "metadata": {},
          "output_type": "execute_result"
        }
      ],
      "source": [
        "population['대전광역시', :]"
      ]
    },
    {
      "cell_type": "code",
      "execution_count": 77,
      "metadata": {
        "id": "ppSy2UMT-LY-"
      },
      "outputs": [
        {
          "data": {
            "text/html": [
              "<div>\n",
              "<style scoped>\n",
              "    .dataframe tbody tr th:only-of-type {\n",
              "        vertical-align: middle;\n",
              "    }\n",
              "\n",
              "    .dataframe tbody tr th {\n",
              "        vertical-align: top;\n",
              "    }\n",
              "\n",
              "    .dataframe thead th {\n",
              "        text-align: right;\n",
              "    }\n",
              "</style>\n",
              "<table border=\"1\" class=\"dataframe\">\n",
              "  <thead>\n",
              "    <tr style=\"text-align: right;\">\n",
              "      <th></th>\n",
              "      <th>2010</th>\n",
              "      <th>2020</th>\n",
              "    </tr>\n",
              "  </thead>\n",
              "  <tbody>\n",
              "    <tr>\n",
              "      <th>광주광역시</th>\n",
              "      <td>1454636</td>\n",
              "      <td>1455048</td>\n",
              "    </tr>\n",
              "    <tr>\n",
              "      <th>대구광역시</th>\n",
              "      <td>2511676</td>\n",
              "      <td>2427954</td>\n",
              "    </tr>\n",
              "    <tr>\n",
              "      <th>대전광역시</th>\n",
              "      <td>1503664</td>\n",
              "      <td>1471040</td>\n",
              "    </tr>\n",
              "    <tr>\n",
              "      <th>부산광역시</th>\n",
              "      <td>2567910</td>\n",
              "      <td>3404423</td>\n",
              "    </tr>\n",
              "    <tr>\n",
              "      <th>서울특별시</th>\n",
              "      <td>10312545</td>\n",
              "      <td>9720846</td>\n",
              "    </tr>\n",
              "    <tr>\n",
              "      <th>인천광역시</th>\n",
              "      <td>2758296</td>\n",
              "      <td>2947217</td>\n",
              "    </tr>\n",
              "  </tbody>\n",
              "</table>\n",
              "</div>"
            ],
            "text/plain": [
              "           2010     2020\n",
              "광주광역시   1454636  1455048\n",
              "대구광역시   2511676  2427954\n",
              "대전광역시   1503664  1471040\n",
              "부산광역시   2567910  3404423\n",
              "서울특별시  10312545  9720846\n",
              "인천광역시   2758296  2947217"
            ]
          },
          "execution_count": 77,
          "metadata": {},
          "output_type": "execute_result"
        }
      ],
      "source": [
        "korea_mdf = population.unstack()\n",
        "korea_mdf"
      ]
    },
    {
      "cell_type": "code",
      "execution_count": 78,
      "metadata": {
        "id": "SCDTvAeL-SDk"
      },
      "outputs": [
        {
          "data": {
            "text/plain": [
              "광주광역시  2010     1454636\n",
              "       2020     1455048\n",
              "대구광역시  2010     2511676\n",
              "       2020     2427954\n",
              "대전광역시  2010     1503664\n",
              "       2020     1471040\n",
              "부산광역시  2010     2567910\n",
              "       2020     3404423\n",
              "서울특별시  2010    10312545\n",
              "       2020     9720846\n",
              "인천광역시  2010     2758296\n",
              "       2020     2947217\n",
              "dtype: int64"
            ]
          },
          "execution_count": 78,
          "metadata": {},
          "output_type": "execute_result"
        }
      ],
      "source": [
        "korea_mdf.stack()"
      ]
    },
    {
      "cell_type": "code",
      "execution_count": 79,
      "metadata": {
        "id": "0MYobeuhBp92"
      },
      "outputs": [
        {
          "data": {
            "text/plain": [
              "[5111259,\n",
              " 4732275,\n",
              " 1773170,\n",
              " 1668618,\n",
              " 1390356,\n",
              " 1476813,\n",
              " 1255245,\n",
              " 1198815,\n",
              " 753648,\n",
              " 734441,\n",
              " 721780,\n",
              " 720060]"
            ]
          },
          "execution_count": 79,
          "metadata": {},
          "output_type": "execute_result"
        }
      ],
      "source": [
        "male_tuple = [5111259, 4732275,\n",
        "            1773170, 1668618,\n",
        "            1390356, 1476813,\n",
        "            1255245, 1198815,\n",
        "            753648, 734441,\n",
        "            721780, 720060]\n",
        "male_tuple"
      ]
    },
    {
      "cell_type": "code",
      "execution_count": 80,
      "metadata": {
        "id": "x8Y7Z77sF6Jf"
      },
      "outputs": [
        {
          "data": {
            "text/html": [
              "<div>\n",
              "<style scoped>\n",
              "    .dataframe tbody tr th:only-of-type {\n",
              "        vertical-align: middle;\n",
              "    }\n",
              "\n",
              "    .dataframe tbody tr th {\n",
              "        vertical-align: top;\n",
              "    }\n",
              "\n",
              "    .dataframe thead th {\n",
              "        text-align: right;\n",
              "    }\n",
              "</style>\n",
              "<table border=\"1\" class=\"dataframe\">\n",
              "  <thead>\n",
              "    <tr style=\"text-align: right;\">\n",
              "      <th></th>\n",
              "      <th></th>\n",
              "      <th>총인구수</th>\n",
              "      <th>남자인구수</th>\n",
              "    </tr>\n",
              "  </thead>\n",
              "  <tbody>\n",
              "    <tr>\n",
              "      <th rowspan=\"2\" valign=\"top\">서울특별시</th>\n",
              "      <th>2010</th>\n",
              "      <td>10312545</td>\n",
              "      <td>5111259</td>\n",
              "    </tr>\n",
              "    <tr>\n",
              "      <th>2020</th>\n",
              "      <td>9720846</td>\n",
              "      <td>4732275</td>\n",
              "    </tr>\n",
              "    <tr>\n",
              "      <th rowspan=\"2\" valign=\"top\">부산광역시</th>\n",
              "      <th>2010</th>\n",
              "      <td>2567910</td>\n",
              "      <td>1773170</td>\n",
              "    </tr>\n",
              "    <tr>\n",
              "      <th>2020</th>\n",
              "      <td>3404423</td>\n",
              "      <td>1668618</td>\n",
              "    </tr>\n",
              "    <tr>\n",
              "      <th rowspan=\"2\" valign=\"top\">인천광역시</th>\n",
              "      <th>2010</th>\n",
              "      <td>2758296</td>\n",
              "      <td>1390356</td>\n",
              "    </tr>\n",
              "    <tr>\n",
              "      <th>2020</th>\n",
              "      <td>2947217</td>\n",
              "      <td>1476813</td>\n",
              "    </tr>\n",
              "    <tr>\n",
              "      <th rowspan=\"2\" valign=\"top\">대구광역시</th>\n",
              "      <th>2010</th>\n",
              "      <td>2511676</td>\n",
              "      <td>1255245</td>\n",
              "    </tr>\n",
              "    <tr>\n",
              "      <th>2020</th>\n",
              "      <td>2427954</td>\n",
              "      <td>1198815</td>\n",
              "    </tr>\n",
              "    <tr>\n",
              "      <th rowspan=\"2\" valign=\"top\">대전광역시</th>\n",
              "      <th>2010</th>\n",
              "      <td>1503664</td>\n",
              "      <td>753648</td>\n",
              "    </tr>\n",
              "    <tr>\n",
              "      <th>2020</th>\n",
              "      <td>1471040</td>\n",
              "      <td>734441</td>\n",
              "    </tr>\n",
              "    <tr>\n",
              "      <th rowspan=\"2\" valign=\"top\">광주광역시</th>\n",
              "      <th>2010</th>\n",
              "      <td>1454636</td>\n",
              "      <td>721780</td>\n",
              "    </tr>\n",
              "    <tr>\n",
              "      <th>2020</th>\n",
              "      <td>1455048</td>\n",
              "      <td>720060</td>\n",
              "    </tr>\n",
              "  </tbody>\n",
              "</table>\n",
              "</div>"
            ],
            "text/plain": [
              "                총인구수    남자인구수\n",
              "서울특별시 2010  10312545  5111259\n",
              "      2020   9720846  4732275\n",
              "부산광역시 2010   2567910  1773170\n",
              "      2020   3404423  1668618\n",
              "인천광역시 2010   2758296  1390356\n",
              "      2020   2947217  1476813\n",
              "대구광역시 2010   2511676  1255245\n",
              "      2020   2427954  1198815\n",
              "대전광역시 2010   1503664   753648\n",
              "      2020   1471040   734441\n",
              "광주광역시 2010   1454636   721780\n",
              "      2020   1455048   720060"
            ]
          },
          "execution_count": 80,
          "metadata": {},
          "output_type": "execute_result"
        }
      ],
      "source": [
        "korea_mdf = pd.DataFrame({'총인구수': population,\n",
        "                        '남자인구수': male_tuple})\n",
        "korea_mdf"
      ]
    },
    {
      "cell_type": "code",
      "execution_count": 81,
      "metadata": {
        "id": "mtXvWQcMGwCo"
      },
      "outputs": [
        {
          "data": {
            "text/plain": [
              "[5201286,\n",
              " 4988571,\n",
              " 1794740,\n",
              " 1735805,\n",
              " 1367940,\n",
              " 1470404,\n",
              " 1256431,\n",
              " 1229139,\n",
              " 750016,\n",
              " 736599,\n",
              " 732856,\n",
              " 734988]"
            ]
          },
          "execution_count": 81,
          "metadata": {},
          "output_type": "execute_result"
        }
      ],
      "source": [
        "female_tuple = [5201286, 4988571,\n",
        "                1794740, 1735805,\n",
        "                1367940, 1470404,\n",
        "                1256431, 1229139,\n",
        "                750016, 736599,\n",
        "                732856, 734988]\n",
        "female_tuple"
      ]
    },
    {
      "cell_type": "code",
      "execution_count": 82,
      "metadata": {
        "id": "iihD5i0hHZJl"
      },
      "outputs": [
        {
          "data": {
            "text/html": [
              "<div>\n",
              "<style scoped>\n",
              "    .dataframe tbody tr th:only-of-type {\n",
              "        vertical-align: middle;\n",
              "    }\n",
              "\n",
              "    .dataframe tbody tr th {\n",
              "        vertical-align: top;\n",
              "    }\n",
              "\n",
              "    .dataframe thead th {\n",
              "        text-align: right;\n",
              "    }\n",
              "</style>\n",
              "<table border=\"1\" class=\"dataframe\">\n",
              "  <thead>\n",
              "    <tr style=\"text-align: right;\">\n",
              "      <th></th>\n",
              "      <th></th>\n",
              "      <th>총인구수</th>\n",
              "      <th>남자인구수</th>\n",
              "      <th>여자인구수</th>\n",
              "    </tr>\n",
              "  </thead>\n",
              "  <tbody>\n",
              "    <tr>\n",
              "      <th rowspan=\"2\" valign=\"top\">서울특별시</th>\n",
              "      <th>2010</th>\n",
              "      <td>10312545</td>\n",
              "      <td>5111259</td>\n",
              "      <td>5201286</td>\n",
              "    </tr>\n",
              "    <tr>\n",
              "      <th>2020</th>\n",
              "      <td>9720846</td>\n",
              "      <td>4732275</td>\n",
              "      <td>4988571</td>\n",
              "    </tr>\n",
              "    <tr>\n",
              "      <th rowspan=\"2\" valign=\"top\">부산광역시</th>\n",
              "      <th>2010</th>\n",
              "      <td>2567910</td>\n",
              "      <td>1773170</td>\n",
              "      <td>1794740</td>\n",
              "    </tr>\n",
              "    <tr>\n",
              "      <th>2020</th>\n",
              "      <td>3404423</td>\n",
              "      <td>1668618</td>\n",
              "      <td>1735805</td>\n",
              "    </tr>\n",
              "    <tr>\n",
              "      <th rowspan=\"2\" valign=\"top\">인천광역시</th>\n",
              "      <th>2010</th>\n",
              "      <td>2758296</td>\n",
              "      <td>1390356</td>\n",
              "      <td>1367940</td>\n",
              "    </tr>\n",
              "    <tr>\n",
              "      <th>2020</th>\n",
              "      <td>2947217</td>\n",
              "      <td>1476813</td>\n",
              "      <td>1470404</td>\n",
              "    </tr>\n",
              "    <tr>\n",
              "      <th rowspan=\"2\" valign=\"top\">대구광역시</th>\n",
              "      <th>2010</th>\n",
              "      <td>2511676</td>\n",
              "      <td>1255245</td>\n",
              "      <td>1256431</td>\n",
              "    </tr>\n",
              "    <tr>\n",
              "      <th>2020</th>\n",
              "      <td>2427954</td>\n",
              "      <td>1198815</td>\n",
              "      <td>1229139</td>\n",
              "    </tr>\n",
              "    <tr>\n",
              "      <th rowspan=\"2\" valign=\"top\">대전광역시</th>\n",
              "      <th>2010</th>\n",
              "      <td>1503664</td>\n",
              "      <td>753648</td>\n",
              "      <td>750016</td>\n",
              "    </tr>\n",
              "    <tr>\n",
              "      <th>2020</th>\n",
              "      <td>1471040</td>\n",
              "      <td>734441</td>\n",
              "      <td>736599</td>\n",
              "    </tr>\n",
              "    <tr>\n",
              "      <th rowspan=\"2\" valign=\"top\">광주광역시</th>\n",
              "      <th>2010</th>\n",
              "      <td>1454636</td>\n",
              "      <td>721780</td>\n",
              "      <td>732856</td>\n",
              "    </tr>\n",
              "    <tr>\n",
              "      <th>2020</th>\n",
              "      <td>1455048</td>\n",
              "      <td>720060</td>\n",
              "      <td>734988</td>\n",
              "    </tr>\n",
              "  </tbody>\n",
              "</table>\n",
              "</div>"
            ],
            "text/plain": [
              "                총인구수    남자인구수    여자인구수\n",
              "서울특별시 2010  10312545  5111259  5201286\n",
              "      2020   9720846  4732275  4988571\n",
              "부산광역시 2010   2567910  1773170  1794740\n",
              "      2020   3404423  1668618  1735805\n",
              "인천광역시 2010   2758296  1390356  1367940\n",
              "      2020   2947217  1476813  1470404\n",
              "대구광역시 2010   2511676  1255245  1256431\n",
              "      2020   2427954  1198815  1229139\n",
              "대전광역시 2010   1503664   753648   750016\n",
              "      2020   1471040   734441   736599\n",
              "광주광역시 2010   1454636   721780   732856\n",
              "      2020   1455048   720060   734988"
            ]
          },
          "execution_count": 82,
          "metadata": {},
          "output_type": "execute_result"
        }
      ],
      "source": [
        "korea_mdf = pd.DataFrame({'총인구수': population,\n",
        "                        '남자인구수': male_tuple,\n",
        "                        '여자인구수': female_tuple})\n",
        "korea_mdf"
      ]
    },
    {
      "cell_type": "code",
      "execution_count": 83,
      "metadata": {
        "id": "tfEo_ilxI10d"
      },
      "outputs": [
        {
          "data": {
            "text/plain": [
              "서울특별시  2010     98.269140\n",
              "       2020     94.862336\n",
              "부산광역시  2010     98.798155\n",
              "       2020     96.129346\n",
              "인천광역시  2010    101.638668\n",
              "       2020    100.435867\n",
              "대구광역시  2010     99.905606\n",
              "       2020     97.532907\n",
              "대전광역시  2010    100.484256\n",
              "       2020     99.707032\n",
              "광주광역시  2010     98.488653\n",
              "       2020     97.968946\n",
              "dtype: float64"
            ]
          },
          "execution_count": 83,
          "metadata": {},
          "output_type": "execute_result"
        }
      ],
      "source": [
        "ratio = korea_mdf['남자인구수'] / korea_mdf.여자인구수 * 100\n",
        "ratio"
      ]
    },
    {
      "cell_type": "code",
      "execution_count": 84,
      "metadata": {
        "id": "SEZnxJ4gxR44"
      },
      "outputs": [
        {
          "data": {
            "text/html": [
              "<div>\n",
              "<style scoped>\n",
              "    .dataframe tbody tr th:only-of-type {\n",
              "        vertical-align: middle;\n",
              "    }\n",
              "\n",
              "    .dataframe tbody tr th {\n",
              "        vertical-align: top;\n",
              "    }\n",
              "\n",
              "    .dataframe thead th {\n",
              "        text-align: right;\n",
              "    }\n",
              "</style>\n",
              "<table border=\"1\" class=\"dataframe\">\n",
              "  <thead>\n",
              "    <tr style=\"text-align: right;\">\n",
              "      <th></th>\n",
              "      <th>2010</th>\n",
              "      <th>2020</th>\n",
              "    </tr>\n",
              "  </thead>\n",
              "  <tbody>\n",
              "    <tr>\n",
              "      <th>광주광역시</th>\n",
              "      <td>98.488653</td>\n",
              "      <td>97.968946</td>\n",
              "    </tr>\n",
              "    <tr>\n",
              "      <th>대구광역시</th>\n",
              "      <td>99.905606</td>\n",
              "      <td>97.532907</td>\n",
              "    </tr>\n",
              "    <tr>\n",
              "      <th>대전광역시</th>\n",
              "      <td>100.484256</td>\n",
              "      <td>99.707032</td>\n",
              "    </tr>\n",
              "    <tr>\n",
              "      <th>부산광역시</th>\n",
              "      <td>98.798155</td>\n",
              "      <td>96.129346</td>\n",
              "    </tr>\n",
              "    <tr>\n",
              "      <th>서울특별시</th>\n",
              "      <td>98.269140</td>\n",
              "      <td>94.862336</td>\n",
              "    </tr>\n",
              "    <tr>\n",
              "      <th>인천광역시</th>\n",
              "      <td>101.638668</td>\n",
              "      <td>100.435867</td>\n",
              "    </tr>\n",
              "  </tbody>\n",
              "</table>\n",
              "</div>"
            ],
            "text/plain": [
              "             2010        2020\n",
              "광주광역시   98.488653   97.968946\n",
              "대구광역시   99.905606   97.532907\n",
              "대전광역시  100.484256   99.707032\n",
              "부산광역시   98.798155   96.129346\n",
              "서울특별시   98.269140   94.862336\n",
              "인천광역시  101.638668  100.435867"
            ]
          },
          "execution_count": 84,
          "metadata": {},
          "output_type": "execute_result"
        }
      ],
      "source": [
        "ratio.unstack()"
      ]
    },
    {
      "cell_type": "code",
      "execution_count": 85,
      "metadata": {
        "id": "pjKTjkngxmdk"
      },
      "outputs": [
        {
          "data": {
            "text/html": [
              "<div>\n",
              "<style scoped>\n",
              "    .dataframe tbody tr th:only-of-type {\n",
              "        vertical-align: middle;\n",
              "    }\n",
              "\n",
              "    .dataframe tbody tr th {\n",
              "        vertical-align: top;\n",
              "    }\n",
              "\n",
              "    .dataframe thead th {\n",
              "        text-align: right;\n",
              "    }\n",
              "</style>\n",
              "<table border=\"1\" class=\"dataframe\">\n",
              "  <thead>\n",
              "    <tr style=\"text-align: right;\">\n",
              "      <th></th>\n",
              "      <th></th>\n",
              "      <th>총인구수</th>\n",
              "      <th>남자인구수</th>\n",
              "      <th>여자인구수</th>\n",
              "      <th>남여비율</th>\n",
              "    </tr>\n",
              "  </thead>\n",
              "  <tbody>\n",
              "    <tr>\n",
              "      <th rowspan=\"2\" valign=\"top\">서울특별시</th>\n",
              "      <th>2010</th>\n",
              "      <td>10312545</td>\n",
              "      <td>5111259</td>\n",
              "      <td>5201286</td>\n",
              "      <td>98.269140</td>\n",
              "    </tr>\n",
              "    <tr>\n",
              "      <th>2020</th>\n",
              "      <td>9720846</td>\n",
              "      <td>4732275</td>\n",
              "      <td>4988571</td>\n",
              "      <td>94.862336</td>\n",
              "    </tr>\n",
              "    <tr>\n",
              "      <th rowspan=\"2\" valign=\"top\">부산광역시</th>\n",
              "      <th>2010</th>\n",
              "      <td>2567910</td>\n",
              "      <td>1773170</td>\n",
              "      <td>1794740</td>\n",
              "      <td>98.798155</td>\n",
              "    </tr>\n",
              "    <tr>\n",
              "      <th>2020</th>\n",
              "      <td>3404423</td>\n",
              "      <td>1668618</td>\n",
              "      <td>1735805</td>\n",
              "      <td>96.129346</td>\n",
              "    </tr>\n",
              "    <tr>\n",
              "      <th rowspan=\"2\" valign=\"top\">인천광역시</th>\n",
              "      <th>2010</th>\n",
              "      <td>2758296</td>\n",
              "      <td>1390356</td>\n",
              "      <td>1367940</td>\n",
              "      <td>101.638668</td>\n",
              "    </tr>\n",
              "    <tr>\n",
              "      <th>2020</th>\n",
              "      <td>2947217</td>\n",
              "      <td>1476813</td>\n",
              "      <td>1470404</td>\n",
              "      <td>100.435867</td>\n",
              "    </tr>\n",
              "    <tr>\n",
              "      <th rowspan=\"2\" valign=\"top\">대구광역시</th>\n",
              "      <th>2010</th>\n",
              "      <td>2511676</td>\n",
              "      <td>1255245</td>\n",
              "      <td>1256431</td>\n",
              "      <td>99.905606</td>\n",
              "    </tr>\n",
              "    <tr>\n",
              "      <th>2020</th>\n",
              "      <td>2427954</td>\n",
              "      <td>1198815</td>\n",
              "      <td>1229139</td>\n",
              "      <td>97.532907</td>\n",
              "    </tr>\n",
              "    <tr>\n",
              "      <th rowspan=\"2\" valign=\"top\">대전광역시</th>\n",
              "      <th>2010</th>\n",
              "      <td>1503664</td>\n",
              "      <td>753648</td>\n",
              "      <td>750016</td>\n",
              "      <td>100.484256</td>\n",
              "    </tr>\n",
              "    <tr>\n",
              "      <th>2020</th>\n",
              "      <td>1471040</td>\n",
              "      <td>734441</td>\n",
              "      <td>736599</td>\n",
              "      <td>99.707032</td>\n",
              "    </tr>\n",
              "    <tr>\n",
              "      <th rowspan=\"2\" valign=\"top\">광주광역시</th>\n",
              "      <th>2010</th>\n",
              "      <td>1454636</td>\n",
              "      <td>721780</td>\n",
              "      <td>732856</td>\n",
              "      <td>98.488653</td>\n",
              "    </tr>\n",
              "    <tr>\n",
              "      <th>2020</th>\n",
              "      <td>1455048</td>\n",
              "      <td>720060</td>\n",
              "      <td>734988</td>\n",
              "      <td>97.968946</td>\n",
              "    </tr>\n",
              "  </tbody>\n",
              "</table>\n",
              "</div>"
            ],
            "text/plain": [
              "                총인구수    남자인구수    여자인구수        남여비율\n",
              "서울특별시 2010  10312545  5111259  5201286   98.269140\n",
              "      2020   9720846  4732275  4988571   94.862336\n",
              "부산광역시 2010   2567910  1773170  1794740   98.798155\n",
              "      2020   3404423  1668618  1735805   96.129346\n",
              "인천광역시 2010   2758296  1390356  1367940  101.638668\n",
              "      2020   2947217  1476813  1470404  100.435867\n",
              "대구광역시 2010   2511676  1255245  1256431   99.905606\n",
              "      2020   2427954  1198815  1229139   97.532907\n",
              "대전광역시 2010   1503664   753648   750016  100.484256\n",
              "      2020   1471040   734441   736599   99.707032\n",
              "광주광역시 2010   1454636   721780   732856   98.488653\n",
              "      2020   1455048   720060   734988   97.968946"
            ]
          },
          "execution_count": 85,
          "metadata": {},
          "output_type": "execute_result"
        }
      ],
      "source": [
        "korea_mdf = pd.DataFrame({'총인구수': population,\n",
        "                        '남자인구수': male_tuple,\n",
        "                        '여자인구수': female_tuple,\n",
        "                        '남여비율': ratio})\n",
        "korea_mdf"
      ]
    },
    {
      "cell_type": "markdown",
      "metadata": {
        "id": "dwMPxdAYzN2-"
      },
      "source": [
        "#### 다중 인덱스 생성"
      ]
    },
    {
      "cell_type": "code",
      "execution_count": 86,
      "metadata": {
        "id": "0AWJ--PgyQ9_"
      },
      "outputs": [
        {
          "data": {
            "text/html": [
              "<div>\n",
              "<style scoped>\n",
              "    .dataframe tbody tr th:only-of-type {\n",
              "        vertical-align: middle;\n",
              "    }\n",
              "\n",
              "    .dataframe tbody tr th {\n",
              "        vertical-align: top;\n",
              "    }\n",
              "\n",
              "    .dataframe thead th {\n",
              "        text-align: right;\n",
              "    }\n",
              "</style>\n",
              "<table border=\"1\" class=\"dataframe\">\n",
              "  <thead>\n",
              "    <tr style=\"text-align: right;\">\n",
              "      <th></th>\n",
              "      <th></th>\n",
              "      <th>c1</th>\n",
              "      <th>c2</th>\n",
              "      <th>c3</th>\n",
              "    </tr>\n",
              "  </thead>\n",
              "  <tbody>\n",
              "    <tr>\n",
              "      <th rowspan=\"2\" valign=\"top\">a</th>\n",
              "      <th>1</th>\n",
              "      <td>0.168993</td>\n",
              "      <td>0.744694</td>\n",
              "      <td>0.170828</td>\n",
              "    </tr>\n",
              "    <tr>\n",
              "      <th>2</th>\n",
              "      <td>0.497494</td>\n",
              "      <td>0.115184</td>\n",
              "      <td>0.884300</td>\n",
              "    </tr>\n",
              "    <tr>\n",
              "      <th rowspan=\"2\" valign=\"top\">b</th>\n",
              "      <th>1</th>\n",
              "      <td>0.868078</td>\n",
              "      <td>0.628188</td>\n",
              "      <td>0.569823</td>\n",
              "    </tr>\n",
              "    <tr>\n",
              "      <th>2</th>\n",
              "      <td>0.840043</td>\n",
              "      <td>0.167987</td>\n",
              "      <td>0.629102</td>\n",
              "    </tr>\n",
              "    <tr>\n",
              "      <th rowspan=\"2\" valign=\"top\">c</th>\n",
              "      <th>1</th>\n",
              "      <td>0.781733</td>\n",
              "      <td>0.859881</td>\n",
              "      <td>0.993059</td>\n",
              "    </tr>\n",
              "    <tr>\n",
              "      <th>2</th>\n",
              "      <td>0.906461</td>\n",
              "      <td>0.538412</td>\n",
              "      <td>0.496616</td>\n",
              "    </tr>\n",
              "  </tbody>\n",
              "</table>\n",
              "</div>"
            ],
            "text/plain": [
              "           c1        c2        c3\n",
              "a 1  0.168993  0.744694  0.170828\n",
              "  2  0.497494  0.115184  0.884300\n",
              "b 1  0.868078  0.628188  0.569823\n",
              "  2  0.840043  0.167987  0.629102\n",
              "c 1  0.781733  0.859881  0.993059\n",
              "  2  0.906461  0.538412  0.496616"
            ]
          },
          "execution_count": 86,
          "metadata": {},
          "output_type": "execute_result"
        }
      ],
      "source": [
        "df = pd.DataFrame(np.random.rand(6, 3),\n",
        "                index=[['a', 'a', 'b', 'b', 'c', 'c'], [1, 2, 1, 2, 1, 2]],\n",
        "                columns=['c1', 'c2', 'c3'])\n",
        "df"
      ]
    },
    {
      "cell_type": "code",
      "execution_count": 87,
      "metadata": {
        "id": "b9lRLS_l0tr8"
      },
      "outputs": [
        {
          "data": {
            "text/plain": [
              "MultiIndex([('a', 1),\n",
              "            ('a', 2),\n",
              "            ('b', 1),\n",
              "            ('b', 2),\n",
              "            ('c', 1),\n",
              "            ('c', 2)],\n",
              "           )"
            ]
          },
          "execution_count": 87,
          "metadata": {},
          "output_type": "execute_result"
        }
      ],
      "source": [
        "pd.MultiIndex.from_arrays([['a', 'a', 'b', 'b', 'c', 'c'], [1, 2, 1, 2, 1, 2]])"
      ]
    },
    {
      "cell_type": "code",
      "execution_count": 88,
      "metadata": {
        "id": "IkjKulZW2Ocr"
      },
      "outputs": [
        {
          "data": {
            "text/plain": [
              "MultiIndex([('a', 1),\n",
              "            ('a', 2),\n",
              "            ('b', 1),\n",
              "            ('b', 2),\n",
              "            ('c', 1),\n",
              "            ('c', 2)],\n",
              "           )"
            ]
          },
          "execution_count": 88,
          "metadata": {},
          "output_type": "execute_result"
        }
      ],
      "source": [
        "pd.MultiIndex.from_tuples([('a', 1),\n",
        "                        ('a', 2),\n",
        "                        ('b', 1),\n",
        "                        ('b', 2),\n",
        "                        ('c', 1),\n",
        "                        ('c', 2)])"
      ]
    },
    {
      "cell_type": "code",
      "execution_count": 89,
      "metadata": {
        "id": "xfQ8edOF2eN_"
      },
      "outputs": [
        {
          "data": {
            "text/plain": [
              "MultiIndex([('a', 1),\n",
              "            ('a', 2),\n",
              "            ('b', 1),\n",
              "            ('b', 2),\n",
              "            ('c', 1),\n",
              "            ('c', 2)],\n",
              "           )"
            ]
          },
          "execution_count": 89,
          "metadata": {},
          "output_type": "execute_result"
        }
      ],
      "source": [
        "pd.MultiIndex.from_product([['a', 'b', 'c'], [1, 2]])"
      ]
    },
    {
      "cell_type": "code",
      "execution_count": 90,
      "metadata": {
        "id": "bK3cXvJy3Bhg"
      },
      "outputs": [
        {
          "data": {
            "text/plain": [
              "MultiIndex([('a', 1),\n",
              "            ('a', 2),\n",
              "            ('b', 1),\n",
              "            ('b', 2),\n",
              "            ('c', 1),\n",
              "            ('c', 2)],\n",
              "           )"
            ]
          },
          "execution_count": 90,
          "metadata": {},
          "output_type": "execute_result"
        }
      ],
      "source": [
        "pd.MultiIndex(levels=[['a', 'b', 'c'], [1, 2]],\n",
        "            codes=[[0, 0, 1, 1, 2, 2], [0, 1, 0, 1, 0, 1]])"
      ]
    },
    {
      "cell_type": "code",
      "execution_count": 91,
      "metadata": {
        "id": "hWJShVRj5RFP"
      },
      "outputs": [
        {
          "data": {
            "text/plain": [
              "서울특별시  2010    10312545\n",
              "       2020     9720846\n",
              "부산광역시  2010     2567910\n",
              "       2020     3404423\n",
              "인천광역시  2010     2758296\n",
              "       2020     2947217\n",
              "대구광역시  2010     2511676\n",
              "       2020     2427954\n",
              "대전광역시  2010     1503664\n",
              "       2020     1471040\n",
              "광주광역시  2010     1454636\n",
              "       2020     1455048\n",
              "dtype: int64"
            ]
          },
          "execution_count": 91,
          "metadata": {},
          "output_type": "execute_result"
        }
      ],
      "source": [
        "population"
      ]
    },
    {
      "cell_type": "code",
      "execution_count": 92,
      "metadata": {
        "id": "KNos70_J5ZjD"
      },
      "outputs": [
        {
          "data": {
            "text/plain": [
              "행정구역   년도  \n",
              "서울특별시  2010    10312545\n",
              "       2020     9720846\n",
              "부산광역시  2010     2567910\n",
              "       2020     3404423\n",
              "인천광역시  2010     2758296\n",
              "       2020     2947217\n",
              "대구광역시  2010     2511676\n",
              "       2020     2427954\n",
              "대전광역시  2010     1503664\n",
              "       2020     1471040\n",
              "광주광역시  2010     1454636\n",
              "       2020     1455048\n",
              "dtype: int64"
            ]
          },
          "execution_count": 92,
          "metadata": {},
          "output_type": "execute_result"
        }
      ],
      "source": [
        "population.index.names = ['행정구역', '년도']\n",
        "population"
      ]
    },
    {
      "cell_type": "code",
      "execution_count": 93,
      "metadata": {
        "id": "Th-G-FAn6z-j"
      },
      "outputs": [
        {
          "data": {
            "text/html": [
              "<div>\n",
              "<style scoped>\n",
              "    .dataframe tbody tr th:only-of-type {\n",
              "        vertical-align: middle;\n",
              "    }\n",
              "\n",
              "    .dataframe tbody tr th {\n",
              "        vertical-align: top;\n",
              "    }\n",
              "\n",
              "    .dataframe thead tr th {\n",
              "        text-align: left;\n",
              "    }\n",
              "\n",
              "    .dataframe thead tr:last-of-type th {\n",
              "        text-align: right;\n",
              "    }\n",
              "</style>\n",
              "<table border=\"1\" class=\"dataframe\">\n",
              "  <thead>\n",
              "    <tr>\n",
              "      <th></th>\n",
              "      <th>col_name1</th>\n",
              "      <th colspan=\"2\" halign=\"left\">c1</th>\n",
              "      <th colspan=\"2\" halign=\"left\">c2</th>\n",
              "      <th colspan=\"2\" halign=\"left\">c3</th>\n",
              "    </tr>\n",
              "    <tr>\n",
              "      <th></th>\n",
              "      <th>col_name2</th>\n",
              "      <th>1</th>\n",
              "      <th>2</th>\n",
              "      <th>1</th>\n",
              "      <th>2</th>\n",
              "      <th>1</th>\n",
              "      <th>2</th>\n",
              "    </tr>\n",
              "    <tr>\n",
              "      <th>name1</th>\n",
              "      <th>name2</th>\n",
              "      <th></th>\n",
              "      <th></th>\n",
              "      <th></th>\n",
              "      <th></th>\n",
              "      <th></th>\n",
              "      <th></th>\n",
              "    </tr>\n",
              "  </thead>\n",
              "  <tbody>\n",
              "    <tr>\n",
              "      <th rowspan=\"2\" valign=\"top\">a</th>\n",
              "      <th>1</th>\n",
              "      <td>-1.16</td>\n",
              "      <td>1.01</td>\n",
              "      <td>-1.39</td>\n",
              "      <td>0.51</td>\n",
              "      <td>-1.16</td>\n",
              "      <td>-0.19</td>\n",
              "    </tr>\n",
              "    <tr>\n",
              "      <th>2</th>\n",
              "      <td>-0.22</td>\n",
              "      <td>-0.82</td>\n",
              "      <td>0.59</td>\n",
              "      <td>1.92</td>\n",
              "      <td>2.19</td>\n",
              "      <td>-1.02</td>\n",
              "    </tr>\n",
              "    <tr>\n",
              "      <th rowspan=\"2\" valign=\"top\">b</th>\n",
              "      <th>1</th>\n",
              "      <td>-0.43</td>\n",
              "      <td>-0.13</td>\n",
              "      <td>-0.85</td>\n",
              "      <td>0.46</td>\n",
              "      <td>-0.10</td>\n",
              "      <td>-1.80</td>\n",
              "    </tr>\n",
              "    <tr>\n",
              "      <th>2</th>\n",
              "      <td>0.41</td>\n",
              "      <td>0.12</td>\n",
              "      <td>-0.41</td>\n",
              "      <td>0.11</td>\n",
              "      <td>-0.74</td>\n",
              "      <td>-2.53</td>\n",
              "    </tr>\n",
              "    <tr>\n",
              "      <th rowspan=\"2\" valign=\"top\">c</th>\n",
              "      <th>1</th>\n",
              "      <td>0.51</td>\n",
              "      <td>1.53</td>\n",
              "      <td>0.85</td>\n",
              "      <td>-0.79</td>\n",
              "      <td>0.52</td>\n",
              "      <td>-1.71</td>\n",
              "    </tr>\n",
              "    <tr>\n",
              "      <th>2</th>\n",
              "      <td>-0.64</td>\n",
              "      <td>-1.22</td>\n",
              "      <td>-2.50</td>\n",
              "      <td>0.24</td>\n",
              "      <td>-0.21</td>\n",
              "      <td>-0.80</td>\n",
              "    </tr>\n",
              "  </tbody>\n",
              "</table>\n",
              "</div>"
            ],
            "text/plain": [
              "col_name1      c1          c2          c3      \n",
              "col_name2       1     2     1     2     1     2\n",
              "name1 name2                                    \n",
              "a     1     -1.16  1.01 -1.39  0.51 -1.16 -0.19\n",
              "      2     -0.22 -0.82  0.59  1.92  2.19 -1.02\n",
              "b     1     -0.43 -0.13 -0.85  0.46 -0.10 -1.80\n",
              "      2      0.41  0.12 -0.41  0.11 -0.74 -2.53\n",
              "c     1      0.51  1.53  0.85 -0.79  0.52 -1.71\n",
              "      2     -0.64 -1.22 -2.50  0.24 -0.21 -0.80"
            ]
          },
          "execution_count": 93,
          "metadata": {},
          "output_type": "execute_result"
        }
      ],
      "source": [
        "idx = pd.MultiIndex.from_product([['a', 'b', 'c'], [1, 2]],\n",
        "                                names=['name1', 'name2'])\n",
        "cols = pd.MultiIndex.from_product([['c1', 'c2', 'c3'], [1, 2]],\n",
        "                                names=['col_name1', 'col_name2'])\n",
        "data = np.round(np.random.randn(6, 6), 2)\n",
        "mdf = pd.DataFrame(data, index=idx, columns=cols)\n",
        "mdf"
      ]
    },
    {
      "cell_type": "code",
      "execution_count": 94,
      "metadata": {
        "id": "ooMpG3MG8nhc"
      },
      "outputs": [
        {
          "data": {
            "text/html": [
              "<div>\n",
              "<style scoped>\n",
              "    .dataframe tbody tr th:only-of-type {\n",
              "        vertical-align: middle;\n",
              "    }\n",
              "\n",
              "    .dataframe tbody tr th {\n",
              "        vertical-align: top;\n",
              "    }\n",
              "\n",
              "    .dataframe thead th {\n",
              "        text-align: right;\n",
              "    }\n",
              "</style>\n",
              "<table border=\"1\" class=\"dataframe\">\n",
              "  <thead>\n",
              "    <tr style=\"text-align: right;\">\n",
              "      <th></th>\n",
              "      <th>col_name2</th>\n",
              "      <th>1</th>\n",
              "      <th>2</th>\n",
              "    </tr>\n",
              "    <tr>\n",
              "      <th>name1</th>\n",
              "      <th>name2</th>\n",
              "      <th></th>\n",
              "      <th></th>\n",
              "    </tr>\n",
              "  </thead>\n",
              "  <tbody>\n",
              "    <tr>\n",
              "      <th rowspan=\"2\" valign=\"top\">a</th>\n",
              "      <th>1</th>\n",
              "      <td>-1.39</td>\n",
              "      <td>0.51</td>\n",
              "    </tr>\n",
              "    <tr>\n",
              "      <th>2</th>\n",
              "      <td>0.59</td>\n",
              "      <td>1.92</td>\n",
              "    </tr>\n",
              "    <tr>\n",
              "      <th rowspan=\"2\" valign=\"top\">b</th>\n",
              "      <th>1</th>\n",
              "      <td>-0.85</td>\n",
              "      <td>0.46</td>\n",
              "    </tr>\n",
              "    <tr>\n",
              "      <th>2</th>\n",
              "      <td>-0.41</td>\n",
              "      <td>0.11</td>\n",
              "    </tr>\n",
              "    <tr>\n",
              "      <th rowspan=\"2\" valign=\"top\">c</th>\n",
              "      <th>1</th>\n",
              "      <td>0.85</td>\n",
              "      <td>-0.79</td>\n",
              "    </tr>\n",
              "    <tr>\n",
              "      <th>2</th>\n",
              "      <td>-2.50</td>\n",
              "      <td>0.24</td>\n",
              "    </tr>\n",
              "  </tbody>\n",
              "</table>\n",
              "</div>"
            ],
            "text/plain": [
              "col_name2       1     2\n",
              "name1 name2            \n",
              "a     1     -1.39  0.51\n",
              "      2      0.59  1.92\n",
              "b     1     -0.85  0.46\n",
              "      2     -0.41  0.11\n",
              "c     1      0.85 -0.79\n",
              "      2     -2.50  0.24"
            ]
          },
          "execution_count": 94,
          "metadata": {},
          "output_type": "execute_result"
        }
      ],
      "source": [
        "mdf['c2']"
      ]
    },
    {
      "cell_type": "markdown",
      "metadata": {
        "id": "d2jFmy1x837m"
      },
      "source": [
        "#### 인덱싱 및 슬라이싱"
      ]
    },
    {
      "cell_type": "code",
      "execution_count": 95,
      "metadata": {
        "id": "5qDexsN98_3V"
      },
      "outputs": [
        {
          "data": {
            "text/plain": [
              "행정구역   년도  \n",
              "서울특별시  2010    10312545\n",
              "       2020     9720846\n",
              "부산광역시  2010     2567910\n",
              "       2020     3404423\n",
              "인천광역시  2010     2758296\n",
              "       2020     2947217\n",
              "대구광역시  2010     2511676\n",
              "       2020     2427954\n",
              "대전광역시  2010     1503664\n",
              "       2020     1471040\n",
              "광주광역시  2010     1454636\n",
              "       2020     1455048\n",
              "dtype: int64"
            ]
          },
          "execution_count": 95,
          "metadata": {},
          "output_type": "execute_result"
        }
      ],
      "source": [
        "population"
      ]
    },
    {
      "cell_type": "code",
      "execution_count": 96,
      "metadata": {
        "id": "daJEr_c_9EGT"
      },
      "outputs": [
        {
          "data": {
            "text/plain": [
              "2758296"
            ]
          },
          "execution_count": 96,
          "metadata": {},
          "output_type": "execute_result"
        }
      ],
      "source": [
        "population['인천광역시', 2010]"
      ]
    },
    {
      "cell_type": "code",
      "execution_count": 97,
      "metadata": {
        "id": "AqPBvowq9YY3"
      },
      "outputs": [
        {
          "data": {
            "text/plain": [
              "행정구역\n",
              "서울특별시    10312545\n",
              "부산광역시     2567910\n",
              "인천광역시     2758296\n",
              "대구광역시     2511676\n",
              "대전광역시     1503664\n",
              "광주광역시     1454636\n",
              "dtype: int64"
            ]
          },
          "execution_count": 97,
          "metadata": {},
          "output_type": "execute_result"
        }
      ],
      "source": [
        "population[:, 2010]"
      ]
    },
    {
      "cell_type": "code",
      "execution_count": 98,
      "metadata": {
        "id": "zkMhB7q1-DlM"
      },
      "outputs": [
        {
          "data": {
            "text/plain": [
              "행정구역   년도  \n",
              "서울특별시  2010    10312545\n",
              "       2020     9720846\n",
              "부산광역시  2020     3404423\n",
              "dtype: int64"
            ]
          },
          "execution_count": 98,
          "metadata": {},
          "output_type": "execute_result"
        }
      ],
      "source": [
        "population[population > 3000000]"
      ]
    },
    {
      "cell_type": "code",
      "execution_count": 99,
      "metadata": {
        "id": "tcQ-jXF--Q0m"
      },
      "outputs": [
        {
          "data": {
            "text/plain": [
              "행정구역   년도  \n",
              "대구광역시  2010    2511676\n",
              "       2020    2427954\n",
              "대전광역시  2010    1503664\n",
              "       2020    1471040\n",
              "dtype: int64"
            ]
          },
          "execution_count": 99,
          "metadata": {},
          "output_type": "execute_result"
        }
      ],
      "source": [
        "population[['대구광역시', '대전광역시']]"
      ]
    },
    {
      "cell_type": "code",
      "execution_count": 100,
      "metadata": {
        "id": "88uFVbPP-Z4g"
      },
      "outputs": [
        {
          "data": {
            "text/html": [
              "<div>\n",
              "<style scoped>\n",
              "    .dataframe tbody tr th:only-of-type {\n",
              "        vertical-align: middle;\n",
              "    }\n",
              "\n",
              "    .dataframe tbody tr th {\n",
              "        vertical-align: top;\n",
              "    }\n",
              "\n",
              "    .dataframe thead tr th {\n",
              "        text-align: left;\n",
              "    }\n",
              "\n",
              "    .dataframe thead tr:last-of-type th {\n",
              "        text-align: right;\n",
              "    }\n",
              "</style>\n",
              "<table border=\"1\" class=\"dataframe\">\n",
              "  <thead>\n",
              "    <tr>\n",
              "      <th></th>\n",
              "      <th>col_name1</th>\n",
              "      <th colspan=\"2\" halign=\"left\">c1</th>\n",
              "      <th colspan=\"2\" halign=\"left\">c2</th>\n",
              "      <th colspan=\"2\" halign=\"left\">c3</th>\n",
              "    </tr>\n",
              "    <tr>\n",
              "      <th></th>\n",
              "      <th>col_name2</th>\n",
              "      <th>1</th>\n",
              "      <th>2</th>\n",
              "      <th>1</th>\n",
              "      <th>2</th>\n",
              "      <th>1</th>\n",
              "      <th>2</th>\n",
              "    </tr>\n",
              "    <tr>\n",
              "      <th>name1</th>\n",
              "      <th>name2</th>\n",
              "      <th></th>\n",
              "      <th></th>\n",
              "      <th></th>\n",
              "      <th></th>\n",
              "      <th></th>\n",
              "      <th></th>\n",
              "    </tr>\n",
              "  </thead>\n",
              "  <tbody>\n",
              "    <tr>\n",
              "      <th rowspan=\"2\" valign=\"top\">a</th>\n",
              "      <th>1</th>\n",
              "      <td>-1.16</td>\n",
              "      <td>1.01</td>\n",
              "      <td>-1.39</td>\n",
              "      <td>0.51</td>\n",
              "      <td>-1.16</td>\n",
              "      <td>-0.19</td>\n",
              "    </tr>\n",
              "    <tr>\n",
              "      <th>2</th>\n",
              "      <td>-0.22</td>\n",
              "      <td>-0.82</td>\n",
              "      <td>0.59</td>\n",
              "      <td>1.92</td>\n",
              "      <td>2.19</td>\n",
              "      <td>-1.02</td>\n",
              "    </tr>\n",
              "    <tr>\n",
              "      <th rowspan=\"2\" valign=\"top\">b</th>\n",
              "      <th>1</th>\n",
              "      <td>-0.43</td>\n",
              "      <td>-0.13</td>\n",
              "      <td>-0.85</td>\n",
              "      <td>0.46</td>\n",
              "      <td>-0.10</td>\n",
              "      <td>-1.80</td>\n",
              "    </tr>\n",
              "    <tr>\n",
              "      <th>2</th>\n",
              "      <td>0.41</td>\n",
              "      <td>0.12</td>\n",
              "      <td>-0.41</td>\n",
              "      <td>0.11</td>\n",
              "      <td>-0.74</td>\n",
              "      <td>-2.53</td>\n",
              "    </tr>\n",
              "    <tr>\n",
              "      <th rowspan=\"2\" valign=\"top\">c</th>\n",
              "      <th>1</th>\n",
              "      <td>0.51</td>\n",
              "      <td>1.53</td>\n",
              "      <td>0.85</td>\n",
              "      <td>-0.79</td>\n",
              "      <td>0.52</td>\n",
              "      <td>-1.71</td>\n",
              "    </tr>\n",
              "    <tr>\n",
              "      <th>2</th>\n",
              "      <td>-0.64</td>\n",
              "      <td>-1.22</td>\n",
              "      <td>-2.50</td>\n",
              "      <td>0.24</td>\n",
              "      <td>-0.21</td>\n",
              "      <td>-0.80</td>\n",
              "    </tr>\n",
              "  </tbody>\n",
              "</table>\n",
              "</div>"
            ],
            "text/plain": [
              "col_name1      c1          c2          c3      \n",
              "col_name2       1     2     1     2     1     2\n",
              "name1 name2                                    \n",
              "a     1     -1.16  1.01 -1.39  0.51 -1.16 -0.19\n",
              "      2     -0.22 -0.82  0.59  1.92  2.19 -1.02\n",
              "b     1     -0.43 -0.13 -0.85  0.46 -0.10 -1.80\n",
              "      2      0.41  0.12 -0.41  0.11 -0.74 -2.53\n",
              "c     1      0.51  1.53  0.85 -0.79  0.52 -1.71\n",
              "      2     -0.64 -1.22 -2.50  0.24 -0.21 -0.80"
            ]
          },
          "execution_count": 100,
          "metadata": {},
          "output_type": "execute_result"
        }
      ],
      "source": [
        "mdf"
      ]
    },
    {
      "cell_type": "code",
      "execution_count": 101,
      "metadata": {
        "id": "RwkBWRU_-fHW"
      },
      "outputs": [
        {
          "data": {
            "text/plain": [
              "name1  name2\n",
              "a      1       -1.39\n",
              "       2        0.59\n",
              "b      1       -0.85\n",
              "       2       -0.41\n",
              "c      1        0.85\n",
              "       2       -2.50\n",
              "Name: (c2, 1), dtype: float64"
            ]
          },
          "execution_count": 101,
          "metadata": {},
          "output_type": "execute_result"
        }
      ],
      "source": [
        "mdf['c2', 1]"
      ]
    },
    {
      "cell_type": "code",
      "execution_count": 102,
      "metadata": {
        "id": "GVqzxZcq-tiq"
      },
      "outputs": [
        {
          "data": {
            "text/html": [
              "<div>\n",
              "<style scoped>\n",
              "    .dataframe tbody tr th:only-of-type {\n",
              "        vertical-align: middle;\n",
              "    }\n",
              "\n",
              "    .dataframe tbody tr th {\n",
              "        vertical-align: top;\n",
              "    }\n",
              "\n",
              "    .dataframe thead tr th {\n",
              "        text-align: left;\n",
              "    }\n",
              "\n",
              "    .dataframe thead tr:last-of-type th {\n",
              "        text-align: right;\n",
              "    }\n",
              "</style>\n",
              "<table border=\"1\" class=\"dataframe\">\n",
              "  <thead>\n",
              "    <tr>\n",
              "      <th></th>\n",
              "      <th>col_name1</th>\n",
              "      <th colspan=\"2\" halign=\"left\">c1</th>\n",
              "      <th colspan=\"2\" halign=\"left\">c2</th>\n",
              "    </tr>\n",
              "    <tr>\n",
              "      <th></th>\n",
              "      <th>col_name2</th>\n",
              "      <th>1</th>\n",
              "      <th>2</th>\n",
              "      <th>1</th>\n",
              "      <th>2</th>\n",
              "    </tr>\n",
              "    <tr>\n",
              "      <th>name1</th>\n",
              "      <th>name2</th>\n",
              "      <th></th>\n",
              "      <th></th>\n",
              "      <th></th>\n",
              "      <th></th>\n",
              "    </tr>\n",
              "  </thead>\n",
              "  <tbody>\n",
              "    <tr>\n",
              "      <th rowspan=\"2\" valign=\"top\">a</th>\n",
              "      <th>1</th>\n",
              "      <td>-1.16</td>\n",
              "      <td>1.01</td>\n",
              "      <td>-1.39</td>\n",
              "      <td>0.51</td>\n",
              "    </tr>\n",
              "    <tr>\n",
              "      <th>2</th>\n",
              "      <td>-0.22</td>\n",
              "      <td>-0.82</td>\n",
              "      <td>0.59</td>\n",
              "      <td>1.92</td>\n",
              "    </tr>\n",
              "    <tr>\n",
              "      <th>b</th>\n",
              "      <th>1</th>\n",
              "      <td>-0.43</td>\n",
              "      <td>-0.13</td>\n",
              "      <td>-0.85</td>\n",
              "      <td>0.46</td>\n",
              "    </tr>\n",
              "  </tbody>\n",
              "</table>\n",
              "</div>"
            ],
            "text/plain": [
              "col_name1      c1          c2      \n",
              "col_name2       1     2     1     2\n",
              "name1 name2                        \n",
              "a     1     -1.16  1.01 -1.39  0.51\n",
              "      2     -0.22 -0.82  0.59  1.92\n",
              "b     1     -0.43 -0.13 -0.85  0.46"
            ]
          },
          "execution_count": 102,
          "metadata": {},
          "output_type": "execute_result"
        }
      ],
      "source": [
        "mdf.iloc[:3, :4]"
      ]
    },
    {
      "cell_type": "code",
      "execution_count": 103,
      "metadata": {
        "id": "Ywhin1Dc--st"
      },
      "outputs": [
        {
          "data": {
            "text/plain": [
              "name1  name2\n",
              "a      1       -1.39\n",
              "       2        0.59\n",
              "b      1       -0.85\n",
              "       2       -0.41\n",
              "c      1        0.85\n",
              "       2       -2.50\n",
              "Name: (c2, 1), dtype: float64"
            ]
          },
          "execution_count": 103,
          "metadata": {},
          "output_type": "execute_result"
        }
      ],
      "source": [
        "mdf.loc[:, ('c2', 1)]"
      ]
    },
    {
      "cell_type": "code",
      "execution_count": 104,
      "metadata": {
        "id": "_Q9X9HWs_fMN"
      },
      "outputs": [
        {
          "data": {
            "text/html": [
              "<div>\n",
              "<style scoped>\n",
              "    .dataframe tbody tr th:only-of-type {\n",
              "        vertical-align: middle;\n",
              "    }\n",
              "\n",
              "    .dataframe tbody tr th {\n",
              "        vertical-align: top;\n",
              "    }\n",
              "\n",
              "    .dataframe thead tr th {\n",
              "        text-align: left;\n",
              "    }\n",
              "\n",
              "    .dataframe thead tr:last-of-type th {\n",
              "        text-align: right;\n",
              "    }\n",
              "</style>\n",
              "<table border=\"1\" class=\"dataframe\">\n",
              "  <thead>\n",
              "    <tr>\n",
              "      <th></th>\n",
              "      <th>col_name1</th>\n",
              "      <th>c1</th>\n",
              "      <th>c2</th>\n",
              "      <th>c3</th>\n",
              "    </tr>\n",
              "    <tr>\n",
              "      <th></th>\n",
              "      <th>col_name2</th>\n",
              "      <th>2</th>\n",
              "      <th>2</th>\n",
              "      <th>2</th>\n",
              "    </tr>\n",
              "    <tr>\n",
              "      <th>name1</th>\n",
              "      <th>name2</th>\n",
              "      <th></th>\n",
              "      <th></th>\n",
              "      <th></th>\n",
              "    </tr>\n",
              "  </thead>\n",
              "  <tbody>\n",
              "    <tr>\n",
              "      <th>a</th>\n",
              "      <th>2</th>\n",
              "      <td>-0.82</td>\n",
              "      <td>1.92</td>\n",
              "      <td>-1.02</td>\n",
              "    </tr>\n",
              "    <tr>\n",
              "      <th>b</th>\n",
              "      <th>2</th>\n",
              "      <td>0.12</td>\n",
              "      <td>0.11</td>\n",
              "      <td>-2.53</td>\n",
              "    </tr>\n",
              "    <tr>\n",
              "      <th>c</th>\n",
              "      <th>2</th>\n",
              "      <td>-1.22</td>\n",
              "      <td>0.24</td>\n",
              "      <td>-0.80</td>\n",
              "    </tr>\n",
              "  </tbody>\n",
              "</table>\n",
              "</div>"
            ],
            "text/plain": [
              "col_name1      c1    c2    c3\n",
              "col_name2       2     2     2\n",
              "name1 name2                  \n",
              "a     2     -0.82  1.92 -1.02\n",
              "b     2      0.12  0.11 -2.53\n",
              "c     2     -1.22  0.24 -0.80"
            ]
          },
          "execution_count": 104,
          "metadata": {},
          "output_type": "execute_result"
        }
      ],
      "source": [
        "idx_slice = pd.IndexSlice\n",
        "mdf.loc[idx_slice[:, 2], idx_slice[:, 2]]"
      ]
    },
    {
      "cell_type": "markdown",
      "metadata": {
        "id": "Nt4Rby0LA9M0"
      },
      "source": [
        "#### 다중 인덱스 재정렬"
      ]
    },
    {
      "cell_type": "code",
      "execution_count": 105,
      "metadata": {
        "id": "NgpfPvpaBBHR"
      },
      "outputs": [
        {
          "data": {
            "text/plain": [
              "MultiIndex([('a', 1),\n",
              "            ('a', 2),\n",
              "            ('b', 1),\n",
              "            ('b', 2),\n",
              "            ('c', 1),\n",
              "            ('c', 2)],\n",
              "           names=['name1', 'name2'])"
            ]
          },
          "execution_count": 105,
          "metadata": {},
          "output_type": "execute_result"
        }
      ],
      "source": [
        "idx"
      ]
    },
    {
      "cell_type": "code",
      "execution_count": 106,
      "metadata": {
        "id": "uniTQ5qIBMfP"
      },
      "outputs": [
        {
          "data": {
            "text/html": [
              "<div>\n",
              "<style scoped>\n",
              "    .dataframe tbody tr th:only-of-type {\n",
              "        vertical-align: middle;\n",
              "    }\n",
              "\n",
              "    .dataframe tbody tr th {\n",
              "        vertical-align: top;\n",
              "    }\n",
              "\n",
              "    .dataframe thead th {\n",
              "        text-align: right;\n",
              "    }\n",
              "</style>\n",
              "<table border=\"1\" class=\"dataframe\">\n",
              "  <thead>\n",
              "    <tr style=\"text-align: right;\">\n",
              "      <th></th>\n",
              "      <th></th>\n",
              "      <th>총인구수</th>\n",
              "      <th>남자인구수</th>\n",
              "      <th>여자인구수</th>\n",
              "      <th>남여비율</th>\n",
              "    </tr>\n",
              "    <tr>\n",
              "      <th>행정구역</th>\n",
              "      <th>년도</th>\n",
              "      <th></th>\n",
              "      <th></th>\n",
              "      <th></th>\n",
              "      <th></th>\n",
              "    </tr>\n",
              "  </thead>\n",
              "  <tbody>\n",
              "    <tr>\n",
              "      <th rowspan=\"2\" valign=\"top\">서울특별시</th>\n",
              "      <th>2010</th>\n",
              "      <td>10312545</td>\n",
              "      <td>5111259</td>\n",
              "      <td>5201286</td>\n",
              "      <td>98.269140</td>\n",
              "    </tr>\n",
              "    <tr>\n",
              "      <th>2020</th>\n",
              "      <td>9720846</td>\n",
              "      <td>4732275</td>\n",
              "      <td>4988571</td>\n",
              "      <td>94.862336</td>\n",
              "    </tr>\n",
              "    <tr>\n",
              "      <th rowspan=\"2\" valign=\"top\">부산광역시</th>\n",
              "      <th>2010</th>\n",
              "      <td>2567910</td>\n",
              "      <td>1773170</td>\n",
              "      <td>1794740</td>\n",
              "      <td>98.798155</td>\n",
              "    </tr>\n",
              "    <tr>\n",
              "      <th>2020</th>\n",
              "      <td>3404423</td>\n",
              "      <td>1668618</td>\n",
              "      <td>1735805</td>\n",
              "      <td>96.129346</td>\n",
              "    </tr>\n",
              "    <tr>\n",
              "      <th rowspan=\"2\" valign=\"top\">인천광역시</th>\n",
              "      <th>2010</th>\n",
              "      <td>2758296</td>\n",
              "      <td>1390356</td>\n",
              "      <td>1367940</td>\n",
              "      <td>101.638668</td>\n",
              "    </tr>\n",
              "    <tr>\n",
              "      <th>2020</th>\n",
              "      <td>2947217</td>\n",
              "      <td>1476813</td>\n",
              "      <td>1470404</td>\n",
              "      <td>100.435867</td>\n",
              "    </tr>\n",
              "    <tr>\n",
              "      <th rowspan=\"2\" valign=\"top\">대구광역시</th>\n",
              "      <th>2010</th>\n",
              "      <td>2511676</td>\n",
              "      <td>1255245</td>\n",
              "      <td>1256431</td>\n",
              "      <td>99.905606</td>\n",
              "    </tr>\n",
              "    <tr>\n",
              "      <th>2020</th>\n",
              "      <td>2427954</td>\n",
              "      <td>1198815</td>\n",
              "      <td>1229139</td>\n",
              "      <td>97.532907</td>\n",
              "    </tr>\n",
              "    <tr>\n",
              "      <th rowspan=\"2\" valign=\"top\">대전광역시</th>\n",
              "      <th>2010</th>\n",
              "      <td>1503664</td>\n",
              "      <td>753648</td>\n",
              "      <td>750016</td>\n",
              "      <td>100.484256</td>\n",
              "    </tr>\n",
              "    <tr>\n",
              "      <th>2020</th>\n",
              "      <td>1471040</td>\n",
              "      <td>734441</td>\n",
              "      <td>736599</td>\n",
              "      <td>99.707032</td>\n",
              "    </tr>\n",
              "    <tr>\n",
              "      <th rowspan=\"2\" valign=\"top\">광주광역시</th>\n",
              "      <th>2010</th>\n",
              "      <td>1454636</td>\n",
              "      <td>721780</td>\n",
              "      <td>732856</td>\n",
              "      <td>98.488653</td>\n",
              "    </tr>\n",
              "    <tr>\n",
              "      <th>2020</th>\n",
              "      <td>1455048</td>\n",
              "      <td>720060</td>\n",
              "      <td>734988</td>\n",
              "      <td>97.968946</td>\n",
              "    </tr>\n",
              "  </tbody>\n",
              "</table>\n",
              "</div>"
            ],
            "text/plain": [
              "                총인구수    남자인구수    여자인구수        남여비율\n",
              "행정구역  년도                                          \n",
              "서울특별시 2010  10312545  5111259  5201286   98.269140\n",
              "      2020   9720846  4732275  4988571   94.862336\n",
              "부산광역시 2010   2567910  1773170  1794740   98.798155\n",
              "      2020   3404423  1668618  1735805   96.129346\n",
              "인천광역시 2010   2758296  1390356  1367940  101.638668\n",
              "      2020   2947217  1476813  1470404  100.435867\n",
              "대구광역시 2010   2511676  1255245  1256431   99.905606\n",
              "      2020   2427954  1198815  1229139   97.532907\n",
              "대전광역시 2010   1503664   753648   750016  100.484256\n",
              "      2020   1471040   734441   736599   99.707032\n",
              "광주광역시 2010   1454636   721780   732856   98.488653\n",
              "      2020   1455048   720060   734988   97.968946"
            ]
          },
          "execution_count": 106,
          "metadata": {},
          "output_type": "execute_result"
        }
      ],
      "source": [
        "korea_mdf"
      ]
    },
    {
      "cell_type": "code",
      "execution_count": 107,
      "metadata": {
        "id": "zilkRp8RBm87"
      },
      "outputs": [
        {
          "data": {
            "text/html": [
              "<div>\n",
              "<style scoped>\n",
              "    .dataframe tbody tr th:only-of-type {\n",
              "        vertical-align: middle;\n",
              "    }\n",
              "\n",
              "    .dataframe tbody tr th {\n",
              "        vertical-align: top;\n",
              "    }\n",
              "\n",
              "    .dataframe thead th {\n",
              "        text-align: right;\n",
              "    }\n",
              "</style>\n",
              "<table border=\"1\" class=\"dataframe\">\n",
              "  <thead>\n",
              "    <tr style=\"text-align: right;\">\n",
              "      <th></th>\n",
              "      <th></th>\n",
              "      <th>총인구수</th>\n",
              "      <th>남자인구수</th>\n",
              "      <th>여자인구수</th>\n",
              "      <th>남여비율</th>\n",
              "    </tr>\n",
              "    <tr>\n",
              "      <th>행정구역</th>\n",
              "      <th>년도</th>\n",
              "      <th></th>\n",
              "      <th></th>\n",
              "      <th></th>\n",
              "      <th></th>\n",
              "    </tr>\n",
              "  </thead>\n",
              "  <tbody>\n",
              "    <tr>\n",
              "      <th rowspan=\"2\" valign=\"top\">광주광역시</th>\n",
              "      <th>2010</th>\n",
              "      <td>1454636</td>\n",
              "      <td>721780</td>\n",
              "      <td>732856</td>\n",
              "      <td>98.488653</td>\n",
              "    </tr>\n",
              "    <tr>\n",
              "      <th>2020</th>\n",
              "      <td>1455048</td>\n",
              "      <td>720060</td>\n",
              "      <td>734988</td>\n",
              "      <td>97.968946</td>\n",
              "    </tr>\n",
              "    <tr>\n",
              "      <th rowspan=\"2\" valign=\"top\">대구광역시</th>\n",
              "      <th>2010</th>\n",
              "      <td>2511676</td>\n",
              "      <td>1255245</td>\n",
              "      <td>1256431</td>\n",
              "      <td>99.905606</td>\n",
              "    </tr>\n",
              "    <tr>\n",
              "      <th>2020</th>\n",
              "      <td>2427954</td>\n",
              "      <td>1198815</td>\n",
              "      <td>1229139</td>\n",
              "      <td>97.532907</td>\n",
              "    </tr>\n",
              "    <tr>\n",
              "      <th rowspan=\"2\" valign=\"top\">대전광역시</th>\n",
              "      <th>2010</th>\n",
              "      <td>1503664</td>\n",
              "      <td>753648</td>\n",
              "      <td>750016</td>\n",
              "      <td>100.484256</td>\n",
              "    </tr>\n",
              "    <tr>\n",
              "      <th>2020</th>\n",
              "      <td>1471040</td>\n",
              "      <td>734441</td>\n",
              "      <td>736599</td>\n",
              "      <td>99.707032</td>\n",
              "    </tr>\n",
              "    <tr>\n",
              "      <th rowspan=\"2\" valign=\"top\">부산광역시</th>\n",
              "      <th>2010</th>\n",
              "      <td>2567910</td>\n",
              "      <td>1773170</td>\n",
              "      <td>1794740</td>\n",
              "      <td>98.798155</td>\n",
              "    </tr>\n",
              "    <tr>\n",
              "      <th>2020</th>\n",
              "      <td>3404423</td>\n",
              "      <td>1668618</td>\n",
              "      <td>1735805</td>\n",
              "      <td>96.129346</td>\n",
              "    </tr>\n",
              "    <tr>\n",
              "      <th rowspan=\"2\" valign=\"top\">서울특별시</th>\n",
              "      <th>2010</th>\n",
              "      <td>10312545</td>\n",
              "      <td>5111259</td>\n",
              "      <td>5201286</td>\n",
              "      <td>98.269140</td>\n",
              "    </tr>\n",
              "    <tr>\n",
              "      <th>2020</th>\n",
              "      <td>9720846</td>\n",
              "      <td>4732275</td>\n",
              "      <td>4988571</td>\n",
              "      <td>94.862336</td>\n",
              "    </tr>\n",
              "    <tr>\n",
              "      <th rowspan=\"2\" valign=\"top\">인천광역시</th>\n",
              "      <th>2010</th>\n",
              "      <td>2758296</td>\n",
              "      <td>1390356</td>\n",
              "      <td>1367940</td>\n",
              "      <td>101.638668</td>\n",
              "    </tr>\n",
              "    <tr>\n",
              "      <th>2020</th>\n",
              "      <td>2947217</td>\n",
              "      <td>1476813</td>\n",
              "      <td>1470404</td>\n",
              "      <td>100.435867</td>\n",
              "    </tr>\n",
              "  </tbody>\n",
              "</table>\n",
              "</div>"
            ],
            "text/plain": [
              "                총인구수    남자인구수    여자인구수        남여비율\n",
              "행정구역  년도                                          \n",
              "광주광역시 2010   1454636   721780   732856   98.488653\n",
              "      2020   1455048   720060   734988   97.968946\n",
              "대구광역시 2010   2511676  1255245  1256431   99.905606\n",
              "      2020   2427954  1198815  1229139   97.532907\n",
              "대전광역시 2010   1503664   753648   750016  100.484256\n",
              "      2020   1471040   734441   736599   99.707032\n",
              "부산광역시 2010   2567910  1773170  1794740   98.798155\n",
              "      2020   3404423  1668618  1735805   96.129346\n",
              "서울특별시 2010  10312545  5111259  5201286   98.269140\n",
              "      2020   9720846  4732275  4988571   94.862336\n",
              "인천광역시 2010   2758296  1390356  1367940  101.638668\n",
              "      2020   2947217  1476813  1470404  100.435867"
            ]
          },
          "execution_count": 107,
          "metadata": {},
          "output_type": "execute_result"
        }
      ],
      "source": [
        "#korea_mdf['서울특별시':'인천광역시']\n",
        "\n",
        "korea_mdf = korea_mdf.sort_index()\n",
        "korea_mdf"
      ]
    },
    {
      "cell_type": "code",
      "execution_count": 108,
      "metadata": {
        "id": "4928t860U-Ot"
      },
      "outputs": [
        {
          "data": {
            "text/html": [
              "<div>\n",
              "<style scoped>\n",
              "    .dataframe tbody tr th:only-of-type {\n",
              "        vertical-align: middle;\n",
              "    }\n",
              "\n",
              "    .dataframe tbody tr th {\n",
              "        vertical-align: top;\n",
              "    }\n",
              "\n",
              "    .dataframe thead th {\n",
              "        text-align: right;\n",
              "    }\n",
              "</style>\n",
              "<table border=\"1\" class=\"dataframe\">\n",
              "  <thead>\n",
              "    <tr style=\"text-align: right;\">\n",
              "      <th></th>\n",
              "      <th></th>\n",
              "      <th>총인구수</th>\n",
              "      <th>남자인구수</th>\n",
              "      <th>여자인구수</th>\n",
              "      <th>남여비율</th>\n",
              "    </tr>\n",
              "    <tr>\n",
              "      <th>행정구역</th>\n",
              "      <th>년도</th>\n",
              "      <th></th>\n",
              "      <th></th>\n",
              "      <th></th>\n",
              "      <th></th>\n",
              "    </tr>\n",
              "  </thead>\n",
              "  <tbody>\n",
              "    <tr>\n",
              "      <th rowspan=\"2\" valign=\"top\">서울특별시</th>\n",
              "      <th>2010</th>\n",
              "      <td>10312545</td>\n",
              "      <td>5111259</td>\n",
              "      <td>5201286</td>\n",
              "      <td>98.269140</td>\n",
              "    </tr>\n",
              "    <tr>\n",
              "      <th>2020</th>\n",
              "      <td>9720846</td>\n",
              "      <td>4732275</td>\n",
              "      <td>4988571</td>\n",
              "      <td>94.862336</td>\n",
              "    </tr>\n",
              "    <tr>\n",
              "      <th rowspan=\"2\" valign=\"top\">인천광역시</th>\n",
              "      <th>2010</th>\n",
              "      <td>2758296</td>\n",
              "      <td>1390356</td>\n",
              "      <td>1367940</td>\n",
              "      <td>101.638668</td>\n",
              "    </tr>\n",
              "    <tr>\n",
              "      <th>2020</th>\n",
              "      <td>2947217</td>\n",
              "      <td>1476813</td>\n",
              "      <td>1470404</td>\n",
              "      <td>100.435867</td>\n",
              "    </tr>\n",
              "  </tbody>\n",
              "</table>\n",
              "</div>"
            ],
            "text/plain": [
              "                총인구수    남자인구수    여자인구수        남여비율\n",
              "행정구역  년도                                          \n",
              "서울특별시 2010  10312545  5111259  5201286   98.269140\n",
              "      2020   9720846  4732275  4988571   94.862336\n",
              "인천광역시 2010   2758296  1390356  1367940  101.638668\n",
              "      2020   2947217  1476813  1470404  100.435867"
            ]
          },
          "execution_count": 108,
          "metadata": {},
          "output_type": "execute_result"
        }
      ],
      "source": [
        "korea_mdf['서울특별시':'인천광역시']"
      ]
    },
    {
      "cell_type": "code",
      "execution_count": 109,
      "metadata": {
        "id": "x0XfqiPwVaId"
      },
      "outputs": [
        {
          "data": {
            "text/html": [
              "<div>\n",
              "<style scoped>\n",
              "    .dataframe tbody tr th:only-of-type {\n",
              "        vertical-align: middle;\n",
              "    }\n",
              "\n",
              "    .dataframe tbody tr th {\n",
              "        vertical-align: top;\n",
              "    }\n",
              "\n",
              "    .dataframe thead tr th {\n",
              "        text-align: left;\n",
              "    }\n",
              "\n",
              "    .dataframe thead tr:last-of-type th {\n",
              "        text-align: right;\n",
              "    }\n",
              "</style>\n",
              "<table border=\"1\" class=\"dataframe\">\n",
              "  <thead>\n",
              "    <tr>\n",
              "      <th></th>\n",
              "      <th colspan=\"6\" halign=\"left\">총인구수</th>\n",
              "      <th colspan=\"4\" halign=\"left\">남자인구수</th>\n",
              "      <th>...</th>\n",
              "      <th colspan=\"4\" halign=\"left\">여자인구수</th>\n",
              "      <th colspan=\"6\" halign=\"left\">남여비율</th>\n",
              "    </tr>\n",
              "    <tr>\n",
              "      <th>행정구역</th>\n",
              "      <th>광주광역시</th>\n",
              "      <th>대구광역시</th>\n",
              "      <th>대전광역시</th>\n",
              "      <th>부산광역시</th>\n",
              "      <th>서울특별시</th>\n",
              "      <th>인천광역시</th>\n",
              "      <th>광주광역시</th>\n",
              "      <th>대구광역시</th>\n",
              "      <th>대전광역시</th>\n",
              "      <th>부산광역시</th>\n",
              "      <th>...</th>\n",
              "      <th>대전광역시</th>\n",
              "      <th>부산광역시</th>\n",
              "      <th>서울특별시</th>\n",
              "      <th>인천광역시</th>\n",
              "      <th>광주광역시</th>\n",
              "      <th>대구광역시</th>\n",
              "      <th>대전광역시</th>\n",
              "      <th>부산광역시</th>\n",
              "      <th>서울특별시</th>\n",
              "      <th>인천광역시</th>\n",
              "    </tr>\n",
              "    <tr>\n",
              "      <th>년도</th>\n",
              "      <th></th>\n",
              "      <th></th>\n",
              "      <th></th>\n",
              "      <th></th>\n",
              "      <th></th>\n",
              "      <th></th>\n",
              "      <th></th>\n",
              "      <th></th>\n",
              "      <th></th>\n",
              "      <th></th>\n",
              "      <th></th>\n",
              "      <th></th>\n",
              "      <th></th>\n",
              "      <th></th>\n",
              "      <th></th>\n",
              "      <th></th>\n",
              "      <th></th>\n",
              "      <th></th>\n",
              "      <th></th>\n",
              "      <th></th>\n",
              "      <th></th>\n",
              "    </tr>\n",
              "  </thead>\n",
              "  <tbody>\n",
              "    <tr>\n",
              "      <th>2010</th>\n",
              "      <td>1454636</td>\n",
              "      <td>2511676</td>\n",
              "      <td>1503664</td>\n",
              "      <td>2567910</td>\n",
              "      <td>10312545</td>\n",
              "      <td>2758296</td>\n",
              "      <td>721780</td>\n",
              "      <td>1255245</td>\n",
              "      <td>753648</td>\n",
              "      <td>1773170</td>\n",
              "      <td>...</td>\n",
              "      <td>750016</td>\n",
              "      <td>1794740</td>\n",
              "      <td>5201286</td>\n",
              "      <td>1367940</td>\n",
              "      <td>98.488653</td>\n",
              "      <td>99.905606</td>\n",
              "      <td>100.484256</td>\n",
              "      <td>98.798155</td>\n",
              "      <td>98.269140</td>\n",
              "      <td>101.638668</td>\n",
              "    </tr>\n",
              "    <tr>\n",
              "      <th>2020</th>\n",
              "      <td>1455048</td>\n",
              "      <td>2427954</td>\n",
              "      <td>1471040</td>\n",
              "      <td>3404423</td>\n",
              "      <td>9720846</td>\n",
              "      <td>2947217</td>\n",
              "      <td>720060</td>\n",
              "      <td>1198815</td>\n",
              "      <td>734441</td>\n",
              "      <td>1668618</td>\n",
              "      <td>...</td>\n",
              "      <td>736599</td>\n",
              "      <td>1735805</td>\n",
              "      <td>4988571</td>\n",
              "      <td>1470404</td>\n",
              "      <td>97.968946</td>\n",
              "      <td>97.532907</td>\n",
              "      <td>99.707032</td>\n",
              "      <td>96.129346</td>\n",
              "      <td>94.862336</td>\n",
              "      <td>100.435867</td>\n",
              "    </tr>\n",
              "  </tbody>\n",
              "</table>\n",
              "<p>2 rows × 24 columns</p>\n",
              "</div>"
            ],
            "text/plain": [
              "         총인구수                                                 남자인구수           \\\n",
              "행정구역    광주광역시    대구광역시    대전광역시    부산광역시     서울특별시    인천광역시   광주광역시    대구광역시   \n",
              "년도                                                                             \n",
              "2010  1454636  2511676  1503664  2567910  10312545  2758296  721780  1255245   \n",
              "2020  1455048  2427954  1471040  3404423   9720846  2947217  720060  1198815   \n",
              "\n",
              "                       ...   여자인구수                                  남여비율  \\\n",
              "행정구역   대전광역시    부산광역시  ...   대전광역시    부산광역시    서울특별시    인천광역시      광주광역시   \n",
              "년도                     ...                                                 \n",
              "2010  753648  1773170  ...  750016  1794740  5201286  1367940  98.488653   \n",
              "2020  734441  1668618  ...  736599  1735805  4988571  1470404  97.968946   \n",
              "\n",
              "                                                               \n",
              "행정구역      대구광역시       대전광역시      부산광역시      서울특별시       인천광역시  \n",
              "년도                                                             \n",
              "2010  99.905606  100.484256  98.798155  98.269140  101.638668  \n",
              "2020  97.532907   99.707032  96.129346  94.862336  100.435867  \n",
              "\n",
              "[2 rows x 24 columns]"
            ]
          },
          "execution_count": 109,
          "metadata": {},
          "output_type": "execute_result"
        }
      ],
      "source": [
        "korea_mdf.unstack(level=0)"
      ]
    },
    {
      "cell_type": "code",
      "execution_count": 110,
      "metadata": {
        "id": "K-x8Kr_lVpUC"
      },
      "outputs": [
        {
          "data": {
            "text/html": [
              "<div>\n",
              "<style scoped>\n",
              "    .dataframe tbody tr th:only-of-type {\n",
              "        vertical-align: middle;\n",
              "    }\n",
              "\n",
              "    .dataframe tbody tr th {\n",
              "        vertical-align: top;\n",
              "    }\n",
              "\n",
              "    .dataframe thead tr th {\n",
              "        text-align: left;\n",
              "    }\n",
              "\n",
              "    .dataframe thead tr:last-of-type th {\n",
              "        text-align: right;\n",
              "    }\n",
              "</style>\n",
              "<table border=\"1\" class=\"dataframe\">\n",
              "  <thead>\n",
              "    <tr>\n",
              "      <th></th>\n",
              "      <th colspan=\"2\" halign=\"left\">총인구수</th>\n",
              "      <th colspan=\"2\" halign=\"left\">남자인구수</th>\n",
              "      <th colspan=\"2\" halign=\"left\">여자인구수</th>\n",
              "      <th colspan=\"2\" halign=\"left\">남여비율</th>\n",
              "    </tr>\n",
              "    <tr>\n",
              "      <th>년도</th>\n",
              "      <th>2010</th>\n",
              "      <th>2020</th>\n",
              "      <th>2010</th>\n",
              "      <th>2020</th>\n",
              "      <th>2010</th>\n",
              "      <th>2020</th>\n",
              "      <th>2010</th>\n",
              "      <th>2020</th>\n",
              "    </tr>\n",
              "    <tr>\n",
              "      <th>행정구역</th>\n",
              "      <th></th>\n",
              "      <th></th>\n",
              "      <th></th>\n",
              "      <th></th>\n",
              "      <th></th>\n",
              "      <th></th>\n",
              "      <th></th>\n",
              "      <th></th>\n",
              "    </tr>\n",
              "  </thead>\n",
              "  <tbody>\n",
              "    <tr>\n",
              "      <th>광주광역시</th>\n",
              "      <td>1454636</td>\n",
              "      <td>1455048</td>\n",
              "      <td>721780</td>\n",
              "      <td>720060</td>\n",
              "      <td>732856</td>\n",
              "      <td>734988</td>\n",
              "      <td>98.488653</td>\n",
              "      <td>97.968946</td>\n",
              "    </tr>\n",
              "    <tr>\n",
              "      <th>대구광역시</th>\n",
              "      <td>2511676</td>\n",
              "      <td>2427954</td>\n",
              "      <td>1255245</td>\n",
              "      <td>1198815</td>\n",
              "      <td>1256431</td>\n",
              "      <td>1229139</td>\n",
              "      <td>99.905606</td>\n",
              "      <td>97.532907</td>\n",
              "    </tr>\n",
              "    <tr>\n",
              "      <th>대전광역시</th>\n",
              "      <td>1503664</td>\n",
              "      <td>1471040</td>\n",
              "      <td>753648</td>\n",
              "      <td>734441</td>\n",
              "      <td>750016</td>\n",
              "      <td>736599</td>\n",
              "      <td>100.484256</td>\n",
              "      <td>99.707032</td>\n",
              "    </tr>\n",
              "    <tr>\n",
              "      <th>부산광역시</th>\n",
              "      <td>2567910</td>\n",
              "      <td>3404423</td>\n",
              "      <td>1773170</td>\n",
              "      <td>1668618</td>\n",
              "      <td>1794740</td>\n",
              "      <td>1735805</td>\n",
              "      <td>98.798155</td>\n",
              "      <td>96.129346</td>\n",
              "    </tr>\n",
              "    <tr>\n",
              "      <th>서울특별시</th>\n",
              "      <td>10312545</td>\n",
              "      <td>9720846</td>\n",
              "      <td>5111259</td>\n",
              "      <td>4732275</td>\n",
              "      <td>5201286</td>\n",
              "      <td>4988571</td>\n",
              "      <td>98.269140</td>\n",
              "      <td>94.862336</td>\n",
              "    </tr>\n",
              "    <tr>\n",
              "      <th>인천광역시</th>\n",
              "      <td>2758296</td>\n",
              "      <td>2947217</td>\n",
              "      <td>1390356</td>\n",
              "      <td>1476813</td>\n",
              "      <td>1367940</td>\n",
              "      <td>1470404</td>\n",
              "      <td>101.638668</td>\n",
              "      <td>100.435867</td>\n",
              "    </tr>\n",
              "  </tbody>\n",
              "</table>\n",
              "</div>"
            ],
            "text/plain": [
              "           총인구수             남자인구수             여자인구수                 남여비율  \\\n",
              "년도         2010     2020     2010     2020     2010     2020        2010   \n",
              "행정구역                                                                       \n",
              "광주광역시   1454636  1455048   721780   720060   732856   734988   98.488653   \n",
              "대구광역시   2511676  2427954  1255245  1198815  1256431  1229139   99.905606   \n",
              "대전광역시   1503664  1471040   753648   734441   750016   736599  100.484256   \n",
              "부산광역시   2567910  3404423  1773170  1668618  1794740  1735805   98.798155   \n",
              "서울특별시  10312545  9720846  5111259  4732275  5201286  4988571   98.269140   \n",
              "인천광역시   2758296  2947217  1390356  1476813  1367940  1470404  101.638668   \n",
              "\n",
              "                   \n",
              "년도           2020  \n",
              "행정구역               \n",
              "광주광역시   97.968946  \n",
              "대구광역시   97.532907  \n",
              "대전광역시   99.707032  \n",
              "부산광역시   96.129346  \n",
              "서울특별시   94.862336  \n",
              "인천광역시  100.435867  "
            ]
          },
          "execution_count": 110,
          "metadata": {},
          "output_type": "execute_result"
        }
      ],
      "source": [
        "korea_mdf.unstack(level=1)"
      ]
    },
    {
      "cell_type": "code",
      "execution_count": 111,
      "metadata": {
        "id": "rWxg_YXIVw6x"
      },
      "outputs": [
        {
          "data": {
            "text/plain": [
              "행정구역   년도         \n",
              "광주광역시  2010  총인구수     1.454636e+06\n",
              "             남자인구수    7.217800e+05\n",
              "             여자인구수    7.328560e+05\n",
              "             남여비율     9.848865e+01\n",
              "       2020  총인구수     1.455048e+06\n",
              "             남자인구수    7.200600e+05\n",
              "             여자인구수    7.349880e+05\n",
              "             남여비율     9.796895e+01\n",
              "대구광역시  2010  총인구수     2.511676e+06\n",
              "             남자인구수    1.255245e+06\n",
              "             여자인구수    1.256431e+06\n",
              "             남여비율     9.990561e+01\n",
              "       2020  총인구수     2.427954e+06\n",
              "             남자인구수    1.198815e+06\n",
              "             여자인구수    1.229139e+06\n",
              "             남여비율     9.753291e+01\n",
              "대전광역시  2010  총인구수     1.503664e+06\n",
              "             남자인구수    7.536480e+05\n",
              "             여자인구수    7.500160e+05\n",
              "             남여비율     1.004843e+02\n",
              "       2020  총인구수     1.471040e+06\n",
              "             남자인구수    7.344410e+05\n",
              "             여자인구수    7.365990e+05\n",
              "             남여비율     9.970703e+01\n",
              "부산광역시  2010  총인구수     2.567910e+06\n",
              "             남자인구수    1.773170e+06\n",
              "             여자인구수    1.794740e+06\n",
              "             남여비율     9.879815e+01\n",
              "       2020  총인구수     3.404423e+06\n",
              "             남자인구수    1.668618e+06\n",
              "             여자인구수    1.735805e+06\n",
              "             남여비율     9.612935e+01\n",
              "서울특별시  2010  총인구수     1.031254e+07\n",
              "             남자인구수    5.111259e+06\n",
              "             여자인구수    5.201286e+06\n",
              "             남여비율     9.826914e+01\n",
              "       2020  총인구수     9.720846e+06\n",
              "             남자인구수    4.732275e+06\n",
              "             여자인구수    4.988571e+06\n",
              "             남여비율     9.486234e+01\n",
              "인천광역시  2010  총인구수     2.758296e+06\n",
              "             남자인구수    1.390356e+06\n",
              "             여자인구수    1.367940e+06\n",
              "             남여비율     1.016387e+02\n",
              "       2020  총인구수     2.947217e+06\n",
              "             남자인구수    1.476813e+06\n",
              "             여자인구수    1.470404e+06\n",
              "             남여비율     1.004359e+02\n",
              "dtype: float64"
            ]
          },
          "execution_count": 111,
          "metadata": {},
          "output_type": "execute_result"
        }
      ],
      "source": [
        "korea_mdf.stack()"
      ]
    },
    {
      "cell_type": "code",
      "execution_count": 112,
      "metadata": {
        "id": "tSCUmYovYiAA"
      },
      "outputs": [
        {
          "data": {
            "text/html": [
              "<div>\n",
              "<style scoped>\n",
              "    .dataframe tbody tr th:only-of-type {\n",
              "        vertical-align: middle;\n",
              "    }\n",
              "\n",
              "    .dataframe tbody tr th {\n",
              "        vertical-align: top;\n",
              "    }\n",
              "\n",
              "    .dataframe thead th {\n",
              "        text-align: right;\n",
              "    }\n",
              "</style>\n",
              "<table border=\"1\" class=\"dataframe\">\n",
              "  <thead>\n",
              "    <tr style=\"text-align: right;\">\n",
              "      <th></th>\n",
              "      <th></th>\n",
              "      <th>총인구수</th>\n",
              "      <th>남자인구수</th>\n",
              "      <th>여자인구수</th>\n",
              "      <th>남여비율</th>\n",
              "    </tr>\n",
              "    <tr>\n",
              "      <th>행정구역</th>\n",
              "      <th>년도</th>\n",
              "      <th></th>\n",
              "      <th></th>\n",
              "      <th></th>\n",
              "      <th></th>\n",
              "    </tr>\n",
              "  </thead>\n",
              "  <tbody>\n",
              "    <tr>\n",
              "      <th rowspan=\"2\" valign=\"top\">광주광역시</th>\n",
              "      <th>2010</th>\n",
              "      <td>1454636</td>\n",
              "      <td>721780</td>\n",
              "      <td>732856</td>\n",
              "      <td>98.488653</td>\n",
              "    </tr>\n",
              "    <tr>\n",
              "      <th>2020</th>\n",
              "      <td>1455048</td>\n",
              "      <td>720060</td>\n",
              "      <td>734988</td>\n",
              "      <td>97.968946</td>\n",
              "    </tr>\n",
              "    <tr>\n",
              "      <th rowspan=\"2\" valign=\"top\">대구광역시</th>\n",
              "      <th>2010</th>\n",
              "      <td>2511676</td>\n",
              "      <td>1255245</td>\n",
              "      <td>1256431</td>\n",
              "      <td>99.905606</td>\n",
              "    </tr>\n",
              "    <tr>\n",
              "      <th>2020</th>\n",
              "      <td>2427954</td>\n",
              "      <td>1198815</td>\n",
              "      <td>1229139</td>\n",
              "      <td>97.532907</td>\n",
              "    </tr>\n",
              "    <tr>\n",
              "      <th rowspan=\"2\" valign=\"top\">대전광역시</th>\n",
              "      <th>2010</th>\n",
              "      <td>1503664</td>\n",
              "      <td>753648</td>\n",
              "      <td>750016</td>\n",
              "      <td>100.484256</td>\n",
              "    </tr>\n",
              "    <tr>\n",
              "      <th>2020</th>\n",
              "      <td>1471040</td>\n",
              "      <td>734441</td>\n",
              "      <td>736599</td>\n",
              "      <td>99.707032</td>\n",
              "    </tr>\n",
              "    <tr>\n",
              "      <th rowspan=\"2\" valign=\"top\">부산광역시</th>\n",
              "      <th>2010</th>\n",
              "      <td>2567910</td>\n",
              "      <td>1773170</td>\n",
              "      <td>1794740</td>\n",
              "      <td>98.798155</td>\n",
              "    </tr>\n",
              "    <tr>\n",
              "      <th>2020</th>\n",
              "      <td>3404423</td>\n",
              "      <td>1668618</td>\n",
              "      <td>1735805</td>\n",
              "      <td>96.129346</td>\n",
              "    </tr>\n",
              "    <tr>\n",
              "      <th rowspan=\"2\" valign=\"top\">서울특별시</th>\n",
              "      <th>2010</th>\n",
              "      <td>10312545</td>\n",
              "      <td>5111259</td>\n",
              "      <td>5201286</td>\n",
              "      <td>98.269140</td>\n",
              "    </tr>\n",
              "    <tr>\n",
              "      <th>2020</th>\n",
              "      <td>9720846</td>\n",
              "      <td>4732275</td>\n",
              "      <td>4988571</td>\n",
              "      <td>94.862336</td>\n",
              "    </tr>\n",
              "    <tr>\n",
              "      <th rowspan=\"2\" valign=\"top\">인천광역시</th>\n",
              "      <th>2010</th>\n",
              "      <td>2758296</td>\n",
              "      <td>1390356</td>\n",
              "      <td>1367940</td>\n",
              "      <td>101.638668</td>\n",
              "    </tr>\n",
              "    <tr>\n",
              "      <th>2020</th>\n",
              "      <td>2947217</td>\n",
              "      <td>1476813</td>\n",
              "      <td>1470404</td>\n",
              "      <td>100.435867</td>\n",
              "    </tr>\n",
              "  </tbody>\n",
              "</table>\n",
              "</div>"
            ],
            "text/plain": [
              "                총인구수    남자인구수    여자인구수        남여비율\n",
              "행정구역  년도                                          \n",
              "광주광역시 2010   1454636   721780   732856   98.488653\n",
              "      2020   1455048   720060   734988   97.968946\n",
              "대구광역시 2010   2511676  1255245  1256431   99.905606\n",
              "      2020   2427954  1198815  1229139   97.532907\n",
              "대전광역시 2010   1503664   753648   750016  100.484256\n",
              "      2020   1471040   734441   736599   99.707032\n",
              "부산광역시 2010   2567910  1773170  1794740   98.798155\n",
              "      2020   3404423  1668618  1735805   96.129346\n",
              "서울특별시 2010  10312545  5111259  5201286   98.269140\n",
              "      2020   9720846  4732275  4988571   94.862336\n",
              "인천광역시 2010   2758296  1390356  1367940  101.638668\n",
              "      2020   2947217  1476813  1470404  100.435867"
            ]
          },
          "execution_count": 112,
          "metadata": {},
          "output_type": "execute_result"
        }
      ],
      "source": [
        "korea_mdf"
      ]
    },
    {
      "cell_type": "code",
      "execution_count": 113,
      "metadata": {
        "id": "wdWqvOFZWJPf"
      },
      "outputs": [
        {
          "data": {
            "text/html": [
              "<div>\n",
              "<style scoped>\n",
              "    .dataframe tbody tr th:only-of-type {\n",
              "        vertical-align: middle;\n",
              "    }\n",
              "\n",
              "    .dataframe tbody tr th {\n",
              "        vertical-align: top;\n",
              "    }\n",
              "\n",
              "    .dataframe thead th {\n",
              "        text-align: right;\n",
              "    }\n",
              "</style>\n",
              "<table border=\"1\" class=\"dataframe\">\n",
              "  <thead>\n",
              "    <tr style=\"text-align: right;\">\n",
              "      <th></th>\n",
              "      <th>행정구역</th>\n",
              "      <th>총인구수</th>\n",
              "      <th>남자인구수</th>\n",
              "      <th>여자인구수</th>\n",
              "      <th>남여비율</th>\n",
              "    </tr>\n",
              "    <tr>\n",
              "      <th>년도</th>\n",
              "      <th></th>\n",
              "      <th></th>\n",
              "      <th></th>\n",
              "      <th></th>\n",
              "      <th></th>\n",
              "    </tr>\n",
              "  </thead>\n",
              "  <tbody>\n",
              "    <tr>\n",
              "      <th>2010</th>\n",
              "      <td>광주광역시</td>\n",
              "      <td>1454636</td>\n",
              "      <td>721780</td>\n",
              "      <td>732856</td>\n",
              "      <td>98.488653</td>\n",
              "    </tr>\n",
              "    <tr>\n",
              "      <th>2020</th>\n",
              "      <td>광주광역시</td>\n",
              "      <td>1455048</td>\n",
              "      <td>720060</td>\n",
              "      <td>734988</td>\n",
              "      <td>97.968946</td>\n",
              "    </tr>\n",
              "    <tr>\n",
              "      <th>2010</th>\n",
              "      <td>대구광역시</td>\n",
              "      <td>2511676</td>\n",
              "      <td>1255245</td>\n",
              "      <td>1256431</td>\n",
              "      <td>99.905606</td>\n",
              "    </tr>\n",
              "    <tr>\n",
              "      <th>2020</th>\n",
              "      <td>대구광역시</td>\n",
              "      <td>2427954</td>\n",
              "      <td>1198815</td>\n",
              "      <td>1229139</td>\n",
              "      <td>97.532907</td>\n",
              "    </tr>\n",
              "    <tr>\n",
              "      <th>2010</th>\n",
              "      <td>대전광역시</td>\n",
              "      <td>1503664</td>\n",
              "      <td>753648</td>\n",
              "      <td>750016</td>\n",
              "      <td>100.484256</td>\n",
              "    </tr>\n",
              "    <tr>\n",
              "      <th>2020</th>\n",
              "      <td>대전광역시</td>\n",
              "      <td>1471040</td>\n",
              "      <td>734441</td>\n",
              "      <td>736599</td>\n",
              "      <td>99.707032</td>\n",
              "    </tr>\n",
              "    <tr>\n",
              "      <th>2010</th>\n",
              "      <td>부산광역시</td>\n",
              "      <td>2567910</td>\n",
              "      <td>1773170</td>\n",
              "      <td>1794740</td>\n",
              "      <td>98.798155</td>\n",
              "    </tr>\n",
              "    <tr>\n",
              "      <th>2020</th>\n",
              "      <td>부산광역시</td>\n",
              "      <td>3404423</td>\n",
              "      <td>1668618</td>\n",
              "      <td>1735805</td>\n",
              "      <td>96.129346</td>\n",
              "    </tr>\n",
              "    <tr>\n",
              "      <th>2010</th>\n",
              "      <td>서울특별시</td>\n",
              "      <td>10312545</td>\n",
              "      <td>5111259</td>\n",
              "      <td>5201286</td>\n",
              "      <td>98.269140</td>\n",
              "    </tr>\n",
              "    <tr>\n",
              "      <th>2020</th>\n",
              "      <td>서울특별시</td>\n",
              "      <td>9720846</td>\n",
              "      <td>4732275</td>\n",
              "      <td>4988571</td>\n",
              "      <td>94.862336</td>\n",
              "    </tr>\n",
              "    <tr>\n",
              "      <th>2010</th>\n",
              "      <td>인천광역시</td>\n",
              "      <td>2758296</td>\n",
              "      <td>1390356</td>\n",
              "      <td>1367940</td>\n",
              "      <td>101.638668</td>\n",
              "    </tr>\n",
              "    <tr>\n",
              "      <th>2020</th>\n",
              "      <td>인천광역시</td>\n",
              "      <td>2947217</td>\n",
              "      <td>1476813</td>\n",
              "      <td>1470404</td>\n",
              "      <td>100.435867</td>\n",
              "    </tr>\n",
              "  </tbody>\n",
              "</table>\n",
              "</div>"
            ],
            "text/plain": [
              "       행정구역      총인구수    남자인구수    여자인구수        남여비율\n",
              "년도                                                 \n",
              "2010  광주광역시   1454636   721780   732856   98.488653\n",
              "2020  광주광역시   1455048   720060   734988   97.968946\n",
              "2010  대구광역시   2511676  1255245  1256431   99.905606\n",
              "2020  대구광역시   2427954  1198815  1229139   97.532907\n",
              "2010  대전광역시   1503664   753648   750016  100.484256\n",
              "2020  대전광역시   1471040   734441   736599   99.707032\n",
              "2010  부산광역시   2567910  1773170  1794740   98.798155\n",
              "2020  부산광역시   3404423  1668618  1735805   96.129346\n",
              "2010  서울특별시  10312545  5111259  5201286   98.269140\n",
              "2020  서울특별시   9720846  4732275  4988571   94.862336\n",
              "2010  인천광역시   2758296  1390356  1367940  101.638668\n",
              "2020  인천광역시   2947217  1476813  1470404  100.435867"
            ]
          },
          "execution_count": 113,
          "metadata": {},
          "output_type": "execute_result"
        }
      ],
      "source": [
        "idx_flat = korea_mdf.reset_index(level=0)\n",
        "idx_flat"
      ]
    },
    {
      "cell_type": "code",
      "execution_count": 114,
      "metadata": {
        "id": "6LozVYW-W_Rx"
      },
      "outputs": [
        {
          "data": {
            "text/html": [
              "<div>\n",
              "<style scoped>\n",
              "    .dataframe tbody tr th:only-of-type {\n",
              "        vertical-align: middle;\n",
              "    }\n",
              "\n",
              "    .dataframe tbody tr th {\n",
              "        vertical-align: top;\n",
              "    }\n",
              "\n",
              "    .dataframe thead th {\n",
              "        text-align: right;\n",
              "    }\n",
              "</style>\n",
              "<table border=\"1\" class=\"dataframe\">\n",
              "  <thead>\n",
              "    <tr style=\"text-align: right;\">\n",
              "      <th></th>\n",
              "      <th>행정구역</th>\n",
              "      <th>년도</th>\n",
              "      <th>총인구수</th>\n",
              "      <th>남자인구수</th>\n",
              "      <th>여자인구수</th>\n",
              "      <th>남여비율</th>\n",
              "    </tr>\n",
              "  </thead>\n",
              "  <tbody>\n",
              "    <tr>\n",
              "      <th>0</th>\n",
              "      <td>광주광역시</td>\n",
              "      <td>2010</td>\n",
              "      <td>1454636</td>\n",
              "      <td>721780</td>\n",
              "      <td>732856</td>\n",
              "      <td>98.488653</td>\n",
              "    </tr>\n",
              "    <tr>\n",
              "      <th>1</th>\n",
              "      <td>광주광역시</td>\n",
              "      <td>2020</td>\n",
              "      <td>1455048</td>\n",
              "      <td>720060</td>\n",
              "      <td>734988</td>\n",
              "      <td>97.968946</td>\n",
              "    </tr>\n",
              "    <tr>\n",
              "      <th>2</th>\n",
              "      <td>대구광역시</td>\n",
              "      <td>2010</td>\n",
              "      <td>2511676</td>\n",
              "      <td>1255245</td>\n",
              "      <td>1256431</td>\n",
              "      <td>99.905606</td>\n",
              "    </tr>\n",
              "    <tr>\n",
              "      <th>3</th>\n",
              "      <td>대구광역시</td>\n",
              "      <td>2020</td>\n",
              "      <td>2427954</td>\n",
              "      <td>1198815</td>\n",
              "      <td>1229139</td>\n",
              "      <td>97.532907</td>\n",
              "    </tr>\n",
              "    <tr>\n",
              "      <th>4</th>\n",
              "      <td>대전광역시</td>\n",
              "      <td>2010</td>\n",
              "      <td>1503664</td>\n",
              "      <td>753648</td>\n",
              "      <td>750016</td>\n",
              "      <td>100.484256</td>\n",
              "    </tr>\n",
              "    <tr>\n",
              "      <th>5</th>\n",
              "      <td>대전광역시</td>\n",
              "      <td>2020</td>\n",
              "      <td>1471040</td>\n",
              "      <td>734441</td>\n",
              "      <td>736599</td>\n",
              "      <td>99.707032</td>\n",
              "    </tr>\n",
              "    <tr>\n",
              "      <th>6</th>\n",
              "      <td>부산광역시</td>\n",
              "      <td>2010</td>\n",
              "      <td>2567910</td>\n",
              "      <td>1773170</td>\n",
              "      <td>1794740</td>\n",
              "      <td>98.798155</td>\n",
              "    </tr>\n",
              "    <tr>\n",
              "      <th>7</th>\n",
              "      <td>부산광역시</td>\n",
              "      <td>2020</td>\n",
              "      <td>3404423</td>\n",
              "      <td>1668618</td>\n",
              "      <td>1735805</td>\n",
              "      <td>96.129346</td>\n",
              "    </tr>\n",
              "    <tr>\n",
              "      <th>8</th>\n",
              "      <td>서울특별시</td>\n",
              "      <td>2010</td>\n",
              "      <td>10312545</td>\n",
              "      <td>5111259</td>\n",
              "      <td>5201286</td>\n",
              "      <td>98.269140</td>\n",
              "    </tr>\n",
              "    <tr>\n",
              "      <th>9</th>\n",
              "      <td>서울특별시</td>\n",
              "      <td>2020</td>\n",
              "      <td>9720846</td>\n",
              "      <td>4732275</td>\n",
              "      <td>4988571</td>\n",
              "      <td>94.862336</td>\n",
              "    </tr>\n",
              "    <tr>\n",
              "      <th>10</th>\n",
              "      <td>인천광역시</td>\n",
              "      <td>2010</td>\n",
              "      <td>2758296</td>\n",
              "      <td>1390356</td>\n",
              "      <td>1367940</td>\n",
              "      <td>101.638668</td>\n",
              "    </tr>\n",
              "    <tr>\n",
              "      <th>11</th>\n",
              "      <td>인천광역시</td>\n",
              "      <td>2020</td>\n",
              "      <td>2947217</td>\n",
              "      <td>1476813</td>\n",
              "      <td>1470404</td>\n",
              "      <td>100.435867</td>\n",
              "    </tr>\n",
              "  </tbody>\n",
              "</table>\n",
              "</div>"
            ],
            "text/plain": [
              "     행정구역    년도      총인구수    남자인구수    여자인구수        남여비율\n",
              "0   광주광역시  2010   1454636   721780   732856   98.488653\n",
              "1   광주광역시  2020   1455048   720060   734988   97.968946\n",
              "2   대구광역시  2010   2511676  1255245  1256431   99.905606\n",
              "3   대구광역시  2020   2427954  1198815  1229139   97.532907\n",
              "4   대전광역시  2010   1503664   753648   750016  100.484256\n",
              "5   대전광역시  2020   1471040   734441   736599   99.707032\n",
              "6   부산광역시  2010   2567910  1773170  1794740   98.798155\n",
              "7   부산광역시  2020   3404423  1668618  1735805   96.129346\n",
              "8   서울특별시  2010  10312545  5111259  5201286   98.269140\n",
              "9   서울특별시  2020   9720846  4732275  4988571   94.862336\n",
              "10  인천광역시  2010   2758296  1390356  1367940  101.638668\n",
              "11  인천광역시  2020   2947217  1476813  1470404  100.435867"
            ]
          },
          "execution_count": 114,
          "metadata": {},
          "output_type": "execute_result"
        }
      ],
      "source": [
        "idx_flat = korea_mdf.reset_index(level=(0, 1))\n",
        "idx_flat"
      ]
    },
    {
      "cell_type": "code",
      "execution_count": 115,
      "metadata": {
        "id": "185tiItmY5wI"
      },
      "outputs": [
        {
          "name": "stderr",
          "output_type": "stream",
          "text": [
            "/Users/wjlee/opt/anaconda3/envs/study_ML_37/lib/python3.7/site-packages/ipykernel_launcher.py:1: FutureWarning: In a future version of pandas all arguments of DataFrame.set_index except for the argument 'keys' will be keyword-only\n",
            "  \"\"\"Entry point for launching an IPython kernel.\n"
          ]
        },
        {
          "data": {
            "text/html": [
              "<div>\n",
              "<style scoped>\n",
              "    .dataframe tbody tr th:only-of-type {\n",
              "        vertical-align: middle;\n",
              "    }\n",
              "\n",
              "    .dataframe tbody tr th {\n",
              "        vertical-align: top;\n",
              "    }\n",
              "\n",
              "    .dataframe thead th {\n",
              "        text-align: right;\n",
              "    }\n",
              "</style>\n",
              "<table border=\"1\" class=\"dataframe\">\n",
              "  <thead>\n",
              "    <tr style=\"text-align: right;\">\n",
              "      <th></th>\n",
              "      <th>년도</th>\n",
              "      <th>총인구수</th>\n",
              "      <th>남자인구수</th>\n",
              "      <th>여자인구수</th>\n",
              "      <th>남여비율</th>\n",
              "    </tr>\n",
              "    <tr>\n",
              "      <th>행정구역</th>\n",
              "      <th></th>\n",
              "      <th></th>\n",
              "      <th></th>\n",
              "      <th></th>\n",
              "      <th></th>\n",
              "    </tr>\n",
              "  </thead>\n",
              "  <tbody>\n",
              "    <tr>\n",
              "      <th>광주광역시</th>\n",
              "      <td>2010</td>\n",
              "      <td>1454636</td>\n",
              "      <td>721780</td>\n",
              "      <td>732856</td>\n",
              "      <td>98.488653</td>\n",
              "    </tr>\n",
              "    <tr>\n",
              "      <th>광주광역시</th>\n",
              "      <td>2020</td>\n",
              "      <td>1455048</td>\n",
              "      <td>720060</td>\n",
              "      <td>734988</td>\n",
              "      <td>97.968946</td>\n",
              "    </tr>\n",
              "    <tr>\n",
              "      <th>대구광역시</th>\n",
              "      <td>2010</td>\n",
              "      <td>2511676</td>\n",
              "      <td>1255245</td>\n",
              "      <td>1256431</td>\n",
              "      <td>99.905606</td>\n",
              "    </tr>\n",
              "    <tr>\n",
              "      <th>대구광역시</th>\n",
              "      <td>2020</td>\n",
              "      <td>2427954</td>\n",
              "      <td>1198815</td>\n",
              "      <td>1229139</td>\n",
              "      <td>97.532907</td>\n",
              "    </tr>\n",
              "    <tr>\n",
              "      <th>대전광역시</th>\n",
              "      <td>2010</td>\n",
              "      <td>1503664</td>\n",
              "      <td>753648</td>\n",
              "      <td>750016</td>\n",
              "      <td>100.484256</td>\n",
              "    </tr>\n",
              "    <tr>\n",
              "      <th>대전광역시</th>\n",
              "      <td>2020</td>\n",
              "      <td>1471040</td>\n",
              "      <td>734441</td>\n",
              "      <td>736599</td>\n",
              "      <td>99.707032</td>\n",
              "    </tr>\n",
              "    <tr>\n",
              "      <th>부산광역시</th>\n",
              "      <td>2010</td>\n",
              "      <td>2567910</td>\n",
              "      <td>1773170</td>\n",
              "      <td>1794740</td>\n",
              "      <td>98.798155</td>\n",
              "    </tr>\n",
              "    <tr>\n",
              "      <th>부산광역시</th>\n",
              "      <td>2020</td>\n",
              "      <td>3404423</td>\n",
              "      <td>1668618</td>\n",
              "      <td>1735805</td>\n",
              "      <td>96.129346</td>\n",
              "    </tr>\n",
              "    <tr>\n",
              "      <th>서울특별시</th>\n",
              "      <td>2010</td>\n",
              "      <td>10312545</td>\n",
              "      <td>5111259</td>\n",
              "      <td>5201286</td>\n",
              "      <td>98.269140</td>\n",
              "    </tr>\n",
              "    <tr>\n",
              "      <th>서울특별시</th>\n",
              "      <td>2020</td>\n",
              "      <td>9720846</td>\n",
              "      <td>4732275</td>\n",
              "      <td>4988571</td>\n",
              "      <td>94.862336</td>\n",
              "    </tr>\n",
              "    <tr>\n",
              "      <th>인천광역시</th>\n",
              "      <td>2010</td>\n",
              "      <td>2758296</td>\n",
              "      <td>1390356</td>\n",
              "      <td>1367940</td>\n",
              "      <td>101.638668</td>\n",
              "    </tr>\n",
              "    <tr>\n",
              "      <th>인천광역시</th>\n",
              "      <td>2020</td>\n",
              "      <td>2947217</td>\n",
              "      <td>1476813</td>\n",
              "      <td>1470404</td>\n",
              "      <td>100.435867</td>\n",
              "    </tr>\n",
              "  </tbody>\n",
              "</table>\n",
              "</div>"
            ],
            "text/plain": [
              "         년도      총인구수    남자인구수    여자인구수        남여비율\n",
              "행정구역                                               \n",
              "광주광역시  2010   1454636   721780   732856   98.488653\n",
              "광주광역시  2020   1455048   720060   734988   97.968946\n",
              "대구광역시  2010   2511676  1255245  1256431   99.905606\n",
              "대구광역시  2020   2427954  1198815  1229139   97.532907\n",
              "대전광역시  2010   1503664   753648   750016  100.484256\n",
              "대전광역시  2020   1471040   734441   736599   99.707032\n",
              "부산광역시  2010   2567910  1773170  1794740   98.798155\n",
              "부산광역시  2020   3404423  1668618  1735805   96.129346\n",
              "서울특별시  2010  10312545  5111259  5201286   98.269140\n",
              "서울특별시  2020   9720846  4732275  4988571   94.862336\n",
              "인천광역시  2010   2758296  1390356  1367940  101.638668\n",
              "인천광역시  2020   2947217  1476813  1470404  100.435867"
            ]
          },
          "execution_count": 115,
          "metadata": {},
          "output_type": "execute_result"
        }
      ],
      "source": [
        "idx_flat.set_index('행정구역', '년도')"
      ]
    },
    {
      "cell_type": "markdown",
      "metadata": {
        "id": "iTw6ejGdZuiw"
      },
      "source": [
        "## 데이터 연산"
      ]
    },
    {
      "cell_type": "code",
      "execution_count": 116,
      "metadata": {
        "id": "s89AjfxyYp2u"
      },
      "outputs": [
        {
          "data": {
            "text/plain": [
              "0    7\n",
              "1    1\n",
              "2    5\n",
              "3    1\n",
              "4    5\n",
              "dtype: int64"
            ]
          },
          "execution_count": 116,
          "metadata": {},
          "output_type": "execute_result"
        }
      ],
      "source": [
        "s = pd.Series(np.random.randint(0, 10, 5))\n",
        "s"
      ]
    },
    {
      "cell_type": "code",
      "execution_count": 117,
      "metadata": {
        "id": "EGXDMOzgZ8EW"
      },
      "outputs": [
        {
          "data": {
            "text/html": [
              "<div>\n",
              "<style scoped>\n",
              "    .dataframe tbody tr th:only-of-type {\n",
              "        vertical-align: middle;\n",
              "    }\n",
              "\n",
              "    .dataframe tbody tr th {\n",
              "        vertical-align: top;\n",
              "    }\n",
              "\n",
              "    .dataframe thead th {\n",
              "        text-align: right;\n",
              "    }\n",
              "</style>\n",
              "<table border=\"1\" class=\"dataframe\">\n",
              "  <thead>\n",
              "    <tr style=\"text-align: right;\">\n",
              "      <th></th>\n",
              "      <th>A</th>\n",
              "      <th>B</th>\n",
              "      <th>C</th>\n",
              "    </tr>\n",
              "  </thead>\n",
              "  <tbody>\n",
              "    <tr>\n",
              "      <th>0</th>\n",
              "      <td>1</td>\n",
              "      <td>5</td>\n",
              "      <td>3</td>\n",
              "    </tr>\n",
              "    <tr>\n",
              "      <th>1</th>\n",
              "      <td>0</td>\n",
              "      <td>6</td>\n",
              "      <td>8</td>\n",
              "    </tr>\n",
              "    <tr>\n",
              "      <th>2</th>\n",
              "      <td>3</td>\n",
              "      <td>0</td>\n",
              "      <td>9</td>\n",
              "    </tr>\n",
              "  </tbody>\n",
              "</table>\n",
              "</div>"
            ],
            "text/plain": [
              "   A  B  C\n",
              "0  1  5  3\n",
              "1  0  6  8\n",
              "2  3  0  9"
            ]
          },
          "execution_count": 117,
          "metadata": {},
          "output_type": "execute_result"
        }
      ],
      "source": [
        "df = pd.DataFrame(np.random.randint(0, 10, (3, 3)),\n",
        "                columns=['A', 'B', 'C'])\n",
        "df"
      ]
    },
    {
      "cell_type": "code",
      "execution_count": 118,
      "metadata": {
        "id": "iBbFzDqFabQv"
      },
      "outputs": [
        {
          "data": {
            "text/plain": [
              "0    1096.633158\n",
              "1       2.718282\n",
              "2     148.413159\n",
              "3       2.718282\n",
              "4     148.413159\n",
              "dtype: float64"
            ]
          },
          "execution_count": 118,
          "metadata": {},
          "output_type": "execute_result"
        }
      ],
      "source": [
        "np.exp(s)"
      ]
    },
    {
      "cell_type": "code",
      "execution_count": 119,
      "metadata": {
        "id": "LGsnlcjfagUv"
      },
      "outputs": [
        {
          "data": {
            "text/html": [
              "<div>\n",
              "<style scoped>\n",
              "    .dataframe tbody tr th:only-of-type {\n",
              "        vertical-align: middle;\n",
              "    }\n",
              "\n",
              "    .dataframe tbody tr th {\n",
              "        vertical-align: top;\n",
              "    }\n",
              "\n",
              "    .dataframe thead th {\n",
              "        text-align: right;\n",
              "    }\n",
              "</style>\n",
              "<table border=\"1\" class=\"dataframe\">\n",
              "  <thead>\n",
              "    <tr style=\"text-align: right;\">\n",
              "      <th></th>\n",
              "      <th>A</th>\n",
              "      <th>B</th>\n",
              "      <th>C</th>\n",
              "    </tr>\n",
              "  </thead>\n",
              "  <tbody>\n",
              "    <tr>\n",
              "      <th>0</th>\n",
              "      <td>0.707107</td>\n",
              "      <td>-7.071068e-01</td>\n",
              "      <td>-0.707107</td>\n",
              "    </tr>\n",
              "    <tr>\n",
              "      <th>1</th>\n",
              "      <td>1.000000</td>\n",
              "      <td>-1.836970e-16</td>\n",
              "      <td>1.000000</td>\n",
              "    </tr>\n",
              "    <tr>\n",
              "      <th>2</th>\n",
              "      <td>-0.707107</td>\n",
              "      <td>1.000000e+00</td>\n",
              "      <td>0.707107</td>\n",
              "    </tr>\n",
              "  </tbody>\n",
              "</table>\n",
              "</div>"
            ],
            "text/plain": [
              "          A             B         C\n",
              "0  0.707107 -7.071068e-01 -0.707107\n",
              "1  1.000000 -1.836970e-16  1.000000\n",
              "2 -0.707107  1.000000e+00  0.707107"
            ]
          },
          "execution_count": 119,
          "metadata": {},
          "output_type": "execute_result"
        }
      ],
      "source": [
        "np.cos(df * np.pi / 4)"
      ]
    },
    {
      "cell_type": "code",
      "execution_count": 120,
      "metadata": {
        "id": "lUpXJh0uajOg"
      },
      "outputs": [
        {
          "data": {
            "text/plain": [
              "0     NaN\n",
              "1     5.0\n",
              "2     9.0\n",
              "3    13.0\n",
              "4    17.0\n",
              "5     NaN\n",
              "dtype: float64"
            ]
          },
          "execution_count": 120,
          "metadata": {},
          "output_type": "execute_result"
        }
      ],
      "source": [
        "s1 = pd.Series([1, 3, 5, 7, 9], index=[0, 1, 2, 3, 4])\n",
        "s2 = pd.Series([2, 4, 6, 8, 10], index=[1, 2, 3, 4, 5])\n",
        "s1 + s2"
      ]
    },
    {
      "cell_type": "code",
      "execution_count": 121,
      "metadata": {
        "id": "UMNfm7S7caJd"
      },
      "outputs": [
        {
          "data": {
            "text/plain": [
              "0     1.0\n",
              "1     5.0\n",
              "2     9.0\n",
              "3    13.0\n",
              "4    17.0\n",
              "5    10.0\n",
              "dtype: float64"
            ]
          },
          "execution_count": 121,
          "metadata": {},
          "output_type": "execute_result"
        }
      ],
      "source": [
        "s1.add(s2, fill_value=0)"
      ]
    },
    {
      "cell_type": "code",
      "execution_count": 122,
      "metadata": {
        "id": "7gQjdKNYdHl4"
      },
      "outputs": [
        {
          "data": {
            "text/html": [
              "<div>\n",
              "<style scoped>\n",
              "    .dataframe tbody tr th:only-of-type {\n",
              "        vertical-align: middle;\n",
              "    }\n",
              "\n",
              "    .dataframe tbody tr th {\n",
              "        vertical-align: top;\n",
              "    }\n",
              "\n",
              "    .dataframe thead th {\n",
              "        text-align: right;\n",
              "    }\n",
              "</style>\n",
              "<table border=\"1\" class=\"dataframe\">\n",
              "  <thead>\n",
              "    <tr style=\"text-align: right;\">\n",
              "      <th></th>\n",
              "      <th>A</th>\n",
              "      <th>C</th>\n",
              "      <th>D</th>\n",
              "    </tr>\n",
              "  </thead>\n",
              "  <tbody>\n",
              "    <tr>\n",
              "      <th>0</th>\n",
              "      <td>9</td>\n",
              "      <td>11</td>\n",
              "      <td>4</td>\n",
              "    </tr>\n",
              "    <tr>\n",
              "      <th>1</th>\n",
              "      <td>18</td>\n",
              "      <td>0</td>\n",
              "      <td>1</td>\n",
              "    </tr>\n",
              "    <tr>\n",
              "      <th>2</th>\n",
              "      <td>0</td>\n",
              "      <td>15</td>\n",
              "      <td>9</td>\n",
              "    </tr>\n",
              "  </tbody>\n",
              "</table>\n",
              "</div>"
            ],
            "text/plain": [
              "    A   C  D\n",
              "0   9  11  4\n",
              "1  18   0  1\n",
              "2   0  15  9"
            ]
          },
          "execution_count": 122,
          "metadata": {},
          "output_type": "execute_result"
        }
      ],
      "source": [
        "df1 = pd.DataFrame(np.random.randint(0, 20, (3, 3)),\n",
        "                columns=list('ACD'))\n",
        "df1"
      ]
    },
    {
      "cell_type": "code",
      "execution_count": 123,
      "metadata": {
        "id": "RFDnK7BHdUGM"
      },
      "outputs": [
        {
          "data": {
            "text/html": [
              "<div>\n",
              "<style scoped>\n",
              "    .dataframe tbody tr th:only-of-type {\n",
              "        vertical-align: middle;\n",
              "    }\n",
              "\n",
              "    .dataframe tbody tr th {\n",
              "        vertical-align: top;\n",
              "    }\n",
              "\n",
              "    .dataframe thead th {\n",
              "        text-align: right;\n",
              "    }\n",
              "</style>\n",
              "<table border=\"1\" class=\"dataframe\">\n",
              "  <thead>\n",
              "    <tr style=\"text-align: right;\">\n",
              "      <th></th>\n",
              "      <th>B</th>\n",
              "      <th>A</th>\n",
              "      <th>E</th>\n",
              "      <th>C</th>\n",
              "      <th>D</th>\n",
              "    </tr>\n",
              "  </thead>\n",
              "  <tbody>\n",
              "    <tr>\n",
              "      <th>0</th>\n",
              "      <td>14</td>\n",
              "      <td>6</td>\n",
              "      <td>10</td>\n",
              "      <td>15</td>\n",
              "      <td>5</td>\n",
              "    </tr>\n",
              "    <tr>\n",
              "      <th>1</th>\n",
              "      <td>9</td>\n",
              "      <td>2</td>\n",
              "      <td>12</td>\n",
              "      <td>13</td>\n",
              "      <td>16</td>\n",
              "    </tr>\n",
              "    <tr>\n",
              "      <th>2</th>\n",
              "      <td>17</td>\n",
              "      <td>14</td>\n",
              "      <td>16</td>\n",
              "      <td>6</td>\n",
              "      <td>17</td>\n",
              "    </tr>\n",
              "    <tr>\n",
              "      <th>3</th>\n",
              "      <td>3</td>\n",
              "      <td>12</td>\n",
              "      <td>3</td>\n",
              "      <td>13</td>\n",
              "      <td>0</td>\n",
              "    </tr>\n",
              "    <tr>\n",
              "      <th>4</th>\n",
              "      <td>18</td>\n",
              "      <td>18</td>\n",
              "      <td>3</td>\n",
              "      <td>4</td>\n",
              "      <td>19</td>\n",
              "    </tr>\n",
              "  </tbody>\n",
              "</table>\n",
              "</div>"
            ],
            "text/plain": [
              "    B   A   E   C   D\n",
              "0  14   6  10  15   5\n",
              "1   9   2  12  13  16\n",
              "2  17  14  16   6  17\n",
              "3   3  12   3  13   0\n",
              "4  18  18   3   4  19"
            ]
          },
          "execution_count": 123,
          "metadata": {},
          "output_type": "execute_result"
        }
      ],
      "source": [
        "df2 = pd.DataFrame(np.random.randint(0, 20, (5, 5)),\n",
        "                columns=list('BAECD'))\n",
        "df2"
      ]
    },
    {
      "cell_type": "code",
      "execution_count": 124,
      "metadata": {
        "id": "2ZtF9SKVdeuy"
      },
      "outputs": [
        {
          "data": {
            "text/html": [
              "<div>\n",
              "<style scoped>\n",
              "    .dataframe tbody tr th:only-of-type {\n",
              "        vertical-align: middle;\n",
              "    }\n",
              "\n",
              "    .dataframe tbody tr th {\n",
              "        vertical-align: top;\n",
              "    }\n",
              "\n",
              "    .dataframe thead th {\n",
              "        text-align: right;\n",
              "    }\n",
              "</style>\n",
              "<table border=\"1\" class=\"dataframe\">\n",
              "  <thead>\n",
              "    <tr style=\"text-align: right;\">\n",
              "      <th></th>\n",
              "      <th>A</th>\n",
              "      <th>B</th>\n",
              "      <th>C</th>\n",
              "      <th>D</th>\n",
              "      <th>E</th>\n",
              "    </tr>\n",
              "  </thead>\n",
              "  <tbody>\n",
              "    <tr>\n",
              "      <th>0</th>\n",
              "      <td>15.0</td>\n",
              "      <td>NaN</td>\n",
              "      <td>26.0</td>\n",
              "      <td>9.0</td>\n",
              "      <td>NaN</td>\n",
              "    </tr>\n",
              "    <tr>\n",
              "      <th>1</th>\n",
              "      <td>20.0</td>\n",
              "      <td>NaN</td>\n",
              "      <td>13.0</td>\n",
              "      <td>17.0</td>\n",
              "      <td>NaN</td>\n",
              "    </tr>\n",
              "    <tr>\n",
              "      <th>2</th>\n",
              "      <td>14.0</td>\n",
              "      <td>NaN</td>\n",
              "      <td>21.0</td>\n",
              "      <td>26.0</td>\n",
              "      <td>NaN</td>\n",
              "    </tr>\n",
              "    <tr>\n",
              "      <th>3</th>\n",
              "      <td>NaN</td>\n",
              "      <td>NaN</td>\n",
              "      <td>NaN</td>\n",
              "      <td>NaN</td>\n",
              "      <td>NaN</td>\n",
              "    </tr>\n",
              "    <tr>\n",
              "      <th>4</th>\n",
              "      <td>NaN</td>\n",
              "      <td>NaN</td>\n",
              "      <td>NaN</td>\n",
              "      <td>NaN</td>\n",
              "      <td>NaN</td>\n",
              "    </tr>\n",
              "  </tbody>\n",
              "</table>\n",
              "</div>"
            ],
            "text/plain": [
              "      A   B     C     D   E\n",
              "0  15.0 NaN  26.0   9.0 NaN\n",
              "1  20.0 NaN  13.0  17.0 NaN\n",
              "2  14.0 NaN  21.0  26.0 NaN\n",
              "3   NaN NaN   NaN   NaN NaN\n",
              "4   NaN NaN   NaN   NaN NaN"
            ]
          },
          "execution_count": 124,
          "metadata": {},
          "output_type": "execute_result"
        }
      ],
      "source": [
        "df1 + df2"
      ]
    },
    {
      "cell_type": "code",
      "execution_count": 125,
      "metadata": {
        "id": "jHQflTypdq7U"
      },
      "outputs": [
        {
          "data": {
            "text/html": [
              "<div>\n",
              "<style scoped>\n",
              "    .dataframe tbody tr th:only-of-type {\n",
              "        vertical-align: middle;\n",
              "    }\n",
              "\n",
              "    .dataframe tbody tr th {\n",
              "        vertical-align: top;\n",
              "    }\n",
              "\n",
              "    .dataframe thead th {\n",
              "        text-align: right;\n",
              "    }\n",
              "</style>\n",
              "<table border=\"1\" class=\"dataframe\">\n",
              "  <thead>\n",
              "    <tr style=\"text-align: right;\">\n",
              "      <th></th>\n",
              "      <th>A</th>\n",
              "      <th>B</th>\n",
              "      <th>C</th>\n",
              "      <th>D</th>\n",
              "      <th>E</th>\n",
              "    </tr>\n",
              "  </thead>\n",
              "  <tbody>\n",
              "    <tr>\n",
              "      <th>0</th>\n",
              "      <td>15.000000</td>\n",
              "      <td>21.444444</td>\n",
              "      <td>26.000000</td>\n",
              "      <td>9.000000</td>\n",
              "      <td>17.444444</td>\n",
              "    </tr>\n",
              "    <tr>\n",
              "      <th>1</th>\n",
              "      <td>20.000000</td>\n",
              "      <td>16.444444</td>\n",
              "      <td>13.000000</td>\n",
              "      <td>17.000000</td>\n",
              "      <td>19.444444</td>\n",
              "    </tr>\n",
              "    <tr>\n",
              "      <th>2</th>\n",
              "      <td>14.000000</td>\n",
              "      <td>24.444444</td>\n",
              "      <td>21.000000</td>\n",
              "      <td>26.000000</td>\n",
              "      <td>23.444444</td>\n",
              "    </tr>\n",
              "    <tr>\n",
              "      <th>3</th>\n",
              "      <td>19.444444</td>\n",
              "      <td>10.444444</td>\n",
              "      <td>20.444444</td>\n",
              "      <td>7.444444</td>\n",
              "      <td>10.444444</td>\n",
              "    </tr>\n",
              "    <tr>\n",
              "      <th>4</th>\n",
              "      <td>25.444444</td>\n",
              "      <td>25.444444</td>\n",
              "      <td>11.444444</td>\n",
              "      <td>26.444444</td>\n",
              "      <td>10.444444</td>\n",
              "    </tr>\n",
              "  </tbody>\n",
              "</table>\n",
              "</div>"
            ],
            "text/plain": [
              "           A          B          C          D          E\n",
              "0  15.000000  21.444444  26.000000   9.000000  17.444444\n",
              "1  20.000000  16.444444  13.000000  17.000000  19.444444\n",
              "2  14.000000  24.444444  21.000000  26.000000  23.444444\n",
              "3  19.444444  10.444444  20.444444   7.444444  10.444444\n",
              "4  25.444444  25.444444  11.444444  26.444444  10.444444"
            ]
          },
          "execution_count": 125,
          "metadata": {},
          "output_type": "execute_result"
        }
      ],
      "source": [
        "fvalue = df1.stack().mean()\n",
        "df1.add(df2, fill_value=fvalue)"
      ]
    },
    {
      "cell_type": "markdown",
      "metadata": {
        "id": "zAl0KQLGfOGu"
      },
      "source": [
        "### 연산자 범용 함수\n"
      ]
    },
    {
      "cell_type": "markdown",
      "metadata": {
        "id": "rtf6di7UxZm-"
      },
      "source": [
        "#### add()"
      ]
    },
    {
      "cell_type": "code",
      "execution_count": 126,
      "metadata": {
        "id": "S0ZrcMDNevbl"
      },
      "outputs": [
        {
          "data": {
            "text/plain": [
              "array([[6, 9, 4],\n",
              "       [6, 5, 7],\n",
              "       [1, 5, 9]])"
            ]
          },
          "execution_count": 126,
          "metadata": {},
          "output_type": "execute_result"
        }
      ],
      "source": [
        "a = np.random.randint(1, 10, size=(3, 3))\n",
        "a"
      ]
    },
    {
      "cell_type": "code",
      "execution_count": 127,
      "metadata": {
        "id": "XwyOkCCRiJUJ"
      },
      "outputs": [
        {
          "data": {
            "text/plain": [
              "array([[12, 18,  8],\n",
              "       [12, 14, 11],\n",
              "       [ 7, 14, 13]])"
            ]
          },
          "execution_count": 127,
          "metadata": {},
          "output_type": "execute_result"
        }
      ],
      "source": [
        "a + a[0]"
      ]
    },
    {
      "cell_type": "code",
      "execution_count": 128,
      "metadata": {
        "id": "qIZRHvYqhnb4"
      },
      "outputs": [
        {
          "data": {
            "text/html": [
              "<div>\n",
              "<style scoped>\n",
              "    .dataframe tbody tr th:only-of-type {\n",
              "        vertical-align: middle;\n",
              "    }\n",
              "\n",
              "    .dataframe tbody tr th {\n",
              "        vertical-align: top;\n",
              "    }\n",
              "\n",
              "    .dataframe thead th {\n",
              "        text-align: right;\n",
              "    }\n",
              "</style>\n",
              "<table border=\"1\" class=\"dataframe\">\n",
              "  <thead>\n",
              "    <tr style=\"text-align: right;\">\n",
              "      <th></th>\n",
              "      <th>A</th>\n",
              "      <th>B</th>\n",
              "      <th>C</th>\n",
              "    </tr>\n",
              "  </thead>\n",
              "  <tbody>\n",
              "    <tr>\n",
              "      <th>0</th>\n",
              "      <td>6</td>\n",
              "      <td>9</td>\n",
              "      <td>4</td>\n",
              "    </tr>\n",
              "    <tr>\n",
              "      <th>1</th>\n",
              "      <td>6</td>\n",
              "      <td>5</td>\n",
              "      <td>7</td>\n",
              "    </tr>\n",
              "    <tr>\n",
              "      <th>2</th>\n",
              "      <td>1</td>\n",
              "      <td>5</td>\n",
              "      <td>9</td>\n",
              "    </tr>\n",
              "  </tbody>\n",
              "</table>\n",
              "</div>"
            ],
            "text/plain": [
              "   A  B  C\n",
              "0  6  9  4\n",
              "1  6  5  7\n",
              "2  1  5  9"
            ]
          },
          "execution_count": 128,
          "metadata": {},
          "output_type": "execute_result"
        }
      ],
      "source": [
        "df = pd.DataFrame(a, columns=list('ABC'))\n",
        "df"
      ]
    },
    {
      "cell_type": "code",
      "execution_count": 129,
      "metadata": {
        "id": "wJVgHWuVxpMJ"
      },
      "outputs": [
        {
          "data": {
            "text/html": [
              "<div>\n",
              "<style scoped>\n",
              "    .dataframe tbody tr th:only-of-type {\n",
              "        vertical-align: middle;\n",
              "    }\n",
              "\n",
              "    .dataframe tbody tr th {\n",
              "        vertical-align: top;\n",
              "    }\n",
              "\n",
              "    .dataframe thead th {\n",
              "        text-align: right;\n",
              "    }\n",
              "</style>\n",
              "<table border=\"1\" class=\"dataframe\">\n",
              "  <thead>\n",
              "    <tr style=\"text-align: right;\">\n",
              "      <th></th>\n",
              "      <th>A</th>\n",
              "      <th>B</th>\n",
              "      <th>C</th>\n",
              "    </tr>\n",
              "  </thead>\n",
              "  <tbody>\n",
              "    <tr>\n",
              "      <th>0</th>\n",
              "      <td>12</td>\n",
              "      <td>18</td>\n",
              "      <td>8</td>\n",
              "    </tr>\n",
              "    <tr>\n",
              "      <th>1</th>\n",
              "      <td>12</td>\n",
              "      <td>14</td>\n",
              "      <td>11</td>\n",
              "    </tr>\n",
              "    <tr>\n",
              "      <th>2</th>\n",
              "      <td>7</td>\n",
              "      <td>14</td>\n",
              "      <td>13</td>\n",
              "    </tr>\n",
              "  </tbody>\n",
              "</table>\n",
              "</div>"
            ],
            "text/plain": [
              "    A   B   C\n",
              "0  12  18   8\n",
              "1  12  14  11\n",
              "2   7  14  13"
            ]
          },
          "execution_count": 129,
          "metadata": {},
          "output_type": "execute_result"
        }
      ],
      "source": [
        "df + df.iloc[0]"
      ]
    },
    {
      "cell_type": "code",
      "execution_count": 130,
      "metadata": {
        "id": "O_OF4OrGq5Cl"
      },
      "outputs": [
        {
          "data": {
            "text/html": [
              "<div>\n",
              "<style scoped>\n",
              "    .dataframe tbody tr th:only-of-type {\n",
              "        vertical-align: middle;\n",
              "    }\n",
              "\n",
              "    .dataframe tbody tr th {\n",
              "        vertical-align: top;\n",
              "    }\n",
              "\n",
              "    .dataframe thead th {\n",
              "        text-align: right;\n",
              "    }\n",
              "</style>\n",
              "<table border=\"1\" class=\"dataframe\">\n",
              "  <thead>\n",
              "    <tr style=\"text-align: right;\">\n",
              "      <th></th>\n",
              "      <th>A</th>\n",
              "      <th>B</th>\n",
              "      <th>C</th>\n",
              "    </tr>\n",
              "  </thead>\n",
              "  <tbody>\n",
              "    <tr>\n",
              "      <th>0</th>\n",
              "      <td>12</td>\n",
              "      <td>18</td>\n",
              "      <td>8</td>\n",
              "    </tr>\n",
              "    <tr>\n",
              "      <th>1</th>\n",
              "      <td>12</td>\n",
              "      <td>14</td>\n",
              "      <td>11</td>\n",
              "    </tr>\n",
              "    <tr>\n",
              "      <th>2</th>\n",
              "      <td>7</td>\n",
              "      <td>14</td>\n",
              "      <td>13</td>\n",
              "    </tr>\n",
              "  </tbody>\n",
              "</table>\n",
              "</div>"
            ],
            "text/plain": [
              "    A   B   C\n",
              "0  12  18   8\n",
              "1  12  14  11\n",
              "2   7  14  13"
            ]
          },
          "execution_count": 130,
          "metadata": {},
          "output_type": "execute_result"
        }
      ],
      "source": [
        "df.add(df.iloc[0])"
      ]
    },
    {
      "cell_type": "markdown",
      "metadata": {
        "id": "b32g_aLTxriU"
      },
      "source": [
        "#### sub() / subtract()"
      ]
    },
    {
      "cell_type": "code",
      "execution_count": 131,
      "metadata": {
        "id": "_eJ9wpPKM8Ue"
      },
      "outputs": [
        {
          "data": {
            "text/plain": [
              "array([[6, 9, 4],\n",
              "       [6, 5, 7],\n",
              "       [1, 5, 9]])"
            ]
          },
          "execution_count": 131,
          "metadata": {},
          "output_type": "execute_result"
        }
      ],
      "source": [
        "a"
      ]
    },
    {
      "cell_type": "code",
      "execution_count": 132,
      "metadata": {
        "id": "d2kvlPJRhj05"
      },
      "outputs": [
        {
          "data": {
            "text/plain": [
              "array([[ 0,  0,  0],\n",
              "       [ 0, -4,  3],\n",
              "       [-5, -4,  5]])"
            ]
          },
          "execution_count": 132,
          "metadata": {},
          "output_type": "execute_result"
        }
      ],
      "source": [
        "a - a[0]"
      ]
    },
    {
      "cell_type": "code",
      "execution_count": 133,
      "metadata": {
        "id": "4_BYRrbnxzxV"
      },
      "outputs": [
        {
          "data": {
            "text/html": [
              "<div>\n",
              "<style scoped>\n",
              "    .dataframe tbody tr th:only-of-type {\n",
              "        vertical-align: middle;\n",
              "    }\n",
              "\n",
              "    .dataframe tbody tr th {\n",
              "        vertical-align: top;\n",
              "    }\n",
              "\n",
              "    .dataframe thead th {\n",
              "        text-align: right;\n",
              "    }\n",
              "</style>\n",
              "<table border=\"1\" class=\"dataframe\">\n",
              "  <thead>\n",
              "    <tr style=\"text-align: right;\">\n",
              "      <th></th>\n",
              "      <th>A</th>\n",
              "      <th>B</th>\n",
              "      <th>C</th>\n",
              "    </tr>\n",
              "  </thead>\n",
              "  <tbody>\n",
              "    <tr>\n",
              "      <th>0</th>\n",
              "      <td>6</td>\n",
              "      <td>9</td>\n",
              "      <td>4</td>\n",
              "    </tr>\n",
              "    <tr>\n",
              "      <th>1</th>\n",
              "      <td>6</td>\n",
              "      <td>5</td>\n",
              "      <td>7</td>\n",
              "    </tr>\n",
              "    <tr>\n",
              "      <th>2</th>\n",
              "      <td>1</td>\n",
              "      <td>5</td>\n",
              "      <td>9</td>\n",
              "    </tr>\n",
              "  </tbody>\n",
              "</table>\n",
              "</div>"
            ],
            "text/plain": [
              "   A  B  C\n",
              "0  6  9  4\n",
              "1  6  5  7\n",
              "2  1  5  9"
            ]
          },
          "execution_count": 133,
          "metadata": {},
          "output_type": "execute_result"
        }
      ],
      "source": [
        "df"
      ]
    },
    {
      "cell_type": "code",
      "execution_count": 134,
      "metadata": {
        "id": "u2AUSDI8q9z3"
      },
      "outputs": [
        {
          "data": {
            "text/html": [
              "<div>\n",
              "<style scoped>\n",
              "    .dataframe tbody tr th:only-of-type {\n",
              "        vertical-align: middle;\n",
              "    }\n",
              "\n",
              "    .dataframe tbody tr th {\n",
              "        vertical-align: top;\n",
              "    }\n",
              "\n",
              "    .dataframe thead th {\n",
              "        text-align: right;\n",
              "    }\n",
              "</style>\n",
              "<table border=\"1\" class=\"dataframe\">\n",
              "  <thead>\n",
              "    <tr style=\"text-align: right;\">\n",
              "      <th></th>\n",
              "      <th>A</th>\n",
              "      <th>B</th>\n",
              "      <th>C</th>\n",
              "    </tr>\n",
              "  </thead>\n",
              "  <tbody>\n",
              "    <tr>\n",
              "      <th>0</th>\n",
              "      <td>0</td>\n",
              "      <td>0</td>\n",
              "      <td>0</td>\n",
              "    </tr>\n",
              "    <tr>\n",
              "      <th>1</th>\n",
              "      <td>0</td>\n",
              "      <td>-4</td>\n",
              "      <td>3</td>\n",
              "    </tr>\n",
              "    <tr>\n",
              "      <th>2</th>\n",
              "      <td>-5</td>\n",
              "      <td>-4</td>\n",
              "      <td>5</td>\n",
              "    </tr>\n",
              "  </tbody>\n",
              "</table>\n",
              "</div>"
            ],
            "text/plain": [
              "   A  B  C\n",
              "0  0  0  0\n",
              "1  0 -4  3\n",
              "2 -5 -4  5"
            ]
          },
          "execution_count": 134,
          "metadata": {},
          "output_type": "execute_result"
        }
      ],
      "source": [
        "df - df.iloc[0]"
      ]
    },
    {
      "cell_type": "code",
      "execution_count": 135,
      "metadata": {
        "id": "JTtB-d7lxKCj"
      },
      "outputs": [
        {
          "data": {
            "text/html": [
              "<div>\n",
              "<style scoped>\n",
              "    .dataframe tbody tr th:only-of-type {\n",
              "        vertical-align: middle;\n",
              "    }\n",
              "\n",
              "    .dataframe tbody tr th {\n",
              "        vertical-align: top;\n",
              "    }\n",
              "\n",
              "    .dataframe thead th {\n",
              "        text-align: right;\n",
              "    }\n",
              "</style>\n",
              "<table border=\"1\" class=\"dataframe\">\n",
              "  <thead>\n",
              "    <tr style=\"text-align: right;\">\n",
              "      <th></th>\n",
              "      <th>A</th>\n",
              "      <th>B</th>\n",
              "      <th>C</th>\n",
              "    </tr>\n",
              "  </thead>\n",
              "  <tbody>\n",
              "    <tr>\n",
              "      <th>0</th>\n",
              "      <td>0</td>\n",
              "      <td>0</td>\n",
              "      <td>0</td>\n",
              "    </tr>\n",
              "    <tr>\n",
              "      <th>1</th>\n",
              "      <td>0</td>\n",
              "      <td>-4</td>\n",
              "      <td>3</td>\n",
              "    </tr>\n",
              "    <tr>\n",
              "      <th>2</th>\n",
              "      <td>-5</td>\n",
              "      <td>-4</td>\n",
              "      <td>5</td>\n",
              "    </tr>\n",
              "  </tbody>\n",
              "</table>\n",
              "</div>"
            ],
            "text/plain": [
              "   A  B  C\n",
              "0  0  0  0\n",
              "1  0 -4  3\n",
              "2 -5 -4  5"
            ]
          },
          "execution_count": 135,
          "metadata": {},
          "output_type": "execute_result"
        }
      ],
      "source": [
        "df.sub(df.iloc[0])"
      ]
    },
    {
      "cell_type": "code",
      "execution_count": 136,
      "metadata": {
        "id": "fLHUViwohvsr"
      },
      "outputs": [
        {
          "data": {
            "text/html": [
              "<div>\n",
              "<style scoped>\n",
              "    .dataframe tbody tr th:only-of-type {\n",
              "        vertical-align: middle;\n",
              "    }\n",
              "\n",
              "    .dataframe tbody tr th {\n",
              "        vertical-align: top;\n",
              "    }\n",
              "\n",
              "    .dataframe thead th {\n",
              "        text-align: right;\n",
              "    }\n",
              "</style>\n",
              "<table border=\"1\" class=\"dataframe\">\n",
              "  <thead>\n",
              "    <tr style=\"text-align: right;\">\n",
              "      <th></th>\n",
              "      <th>A</th>\n",
              "      <th>B</th>\n",
              "      <th>C</th>\n",
              "    </tr>\n",
              "  </thead>\n",
              "  <tbody>\n",
              "    <tr>\n",
              "      <th>0</th>\n",
              "      <td>-3</td>\n",
              "      <td>0</td>\n",
              "      <td>-5</td>\n",
              "    </tr>\n",
              "    <tr>\n",
              "      <th>1</th>\n",
              "      <td>1</td>\n",
              "      <td>0</td>\n",
              "      <td>2</td>\n",
              "    </tr>\n",
              "    <tr>\n",
              "      <th>2</th>\n",
              "      <td>-4</td>\n",
              "      <td>0</td>\n",
              "      <td>4</td>\n",
              "    </tr>\n",
              "  </tbody>\n",
              "</table>\n",
              "</div>"
            ],
            "text/plain": [
              "   A  B  C\n",
              "0 -3  0 -5\n",
              "1  1  0  2\n",
              "2 -4  0  4"
            ]
          },
          "execution_count": 136,
          "metadata": {},
          "output_type": "execute_result"
        }
      ],
      "source": [
        "df.subtract(df['B'], axis=0)"
      ]
    },
    {
      "cell_type": "markdown",
      "metadata": {
        "id": "k57PyNCpzN0e"
      },
      "source": [
        "#### mul() / multply()\n",
        "\n",
        "\n"
      ]
    },
    {
      "cell_type": "code",
      "execution_count": 137,
      "metadata": {
        "id": "oeNX64mMzl8X"
      },
      "outputs": [
        {
          "data": {
            "text/plain": [
              "array([[6, 9, 4],\n",
              "       [6, 5, 7],\n",
              "       [1, 5, 9]])"
            ]
          },
          "execution_count": 137,
          "metadata": {},
          "output_type": "execute_result"
        }
      ],
      "source": [
        "a"
      ]
    },
    {
      "cell_type": "code",
      "execution_count": 138,
      "metadata": {
        "id": "9XwcE7ySiMvS"
      },
      "outputs": [
        {
          "data": {
            "text/plain": [
              "array([[36, 45, 28],\n",
              "       [36, 25, 49],\n",
              "       [ 6, 25, 63]])"
            ]
          },
          "execution_count": 138,
          "metadata": {},
          "output_type": "execute_result"
        }
      ],
      "source": [
        "a * a[1]"
      ]
    },
    {
      "cell_type": "code",
      "execution_count": 139,
      "metadata": {
        "id": "42xISoWmzm8M"
      },
      "outputs": [
        {
          "data": {
            "text/html": [
              "<div>\n",
              "<style scoped>\n",
              "    .dataframe tbody tr th:only-of-type {\n",
              "        vertical-align: middle;\n",
              "    }\n",
              "\n",
              "    .dataframe tbody tr th {\n",
              "        vertical-align: top;\n",
              "    }\n",
              "\n",
              "    .dataframe thead th {\n",
              "        text-align: right;\n",
              "    }\n",
              "</style>\n",
              "<table border=\"1\" class=\"dataframe\">\n",
              "  <thead>\n",
              "    <tr style=\"text-align: right;\">\n",
              "      <th></th>\n",
              "      <th>A</th>\n",
              "      <th>B</th>\n",
              "      <th>C</th>\n",
              "    </tr>\n",
              "  </thead>\n",
              "  <tbody>\n",
              "    <tr>\n",
              "      <th>0</th>\n",
              "      <td>6</td>\n",
              "      <td>9</td>\n",
              "      <td>4</td>\n",
              "    </tr>\n",
              "    <tr>\n",
              "      <th>1</th>\n",
              "      <td>6</td>\n",
              "      <td>5</td>\n",
              "      <td>7</td>\n",
              "    </tr>\n",
              "    <tr>\n",
              "      <th>2</th>\n",
              "      <td>1</td>\n",
              "      <td>5</td>\n",
              "      <td>9</td>\n",
              "    </tr>\n",
              "  </tbody>\n",
              "</table>\n",
              "</div>"
            ],
            "text/plain": [
              "   A  B  C\n",
              "0  6  9  4\n",
              "1  6  5  7\n",
              "2  1  5  9"
            ]
          },
          "execution_count": 139,
          "metadata": {},
          "output_type": "execute_result"
        }
      ],
      "source": [
        "df"
      ]
    },
    {
      "cell_type": "code",
      "execution_count": 140,
      "metadata": {
        "id": "aS6XjFjCh2Jn"
      },
      "outputs": [
        {
          "data": {
            "text/html": [
              "<div>\n",
              "<style scoped>\n",
              "    .dataframe tbody tr th:only-of-type {\n",
              "        vertical-align: middle;\n",
              "    }\n",
              "\n",
              "    .dataframe tbody tr th {\n",
              "        vertical-align: top;\n",
              "    }\n",
              "\n",
              "    .dataframe thead th {\n",
              "        text-align: right;\n",
              "    }\n",
              "</style>\n",
              "<table border=\"1\" class=\"dataframe\">\n",
              "  <thead>\n",
              "    <tr style=\"text-align: right;\">\n",
              "      <th></th>\n",
              "      <th>A</th>\n",
              "      <th>B</th>\n",
              "      <th>C</th>\n",
              "    </tr>\n",
              "  </thead>\n",
              "  <tbody>\n",
              "    <tr>\n",
              "      <th>0</th>\n",
              "      <td>36</td>\n",
              "      <td>45</td>\n",
              "      <td>28</td>\n",
              "    </tr>\n",
              "    <tr>\n",
              "      <th>1</th>\n",
              "      <td>36</td>\n",
              "      <td>25</td>\n",
              "      <td>49</td>\n",
              "    </tr>\n",
              "    <tr>\n",
              "      <th>2</th>\n",
              "      <td>6</td>\n",
              "      <td>25</td>\n",
              "      <td>63</td>\n",
              "    </tr>\n",
              "  </tbody>\n",
              "</table>\n",
              "</div>"
            ],
            "text/plain": [
              "    A   B   C\n",
              "0  36  45  28\n",
              "1  36  25  49\n",
              "2   6  25  63"
            ]
          },
          "execution_count": 140,
          "metadata": {},
          "output_type": "execute_result"
        }
      ],
      "source": [
        "df * df.iloc[1]"
      ]
    },
    {
      "cell_type": "code",
      "execution_count": 141,
      "metadata": {
        "id": "GxIj27xmrGAR"
      },
      "outputs": [
        {
          "data": {
            "text/html": [
              "<div>\n",
              "<style scoped>\n",
              "    .dataframe tbody tr th:only-of-type {\n",
              "        vertical-align: middle;\n",
              "    }\n",
              "\n",
              "    .dataframe tbody tr th {\n",
              "        vertical-align: top;\n",
              "    }\n",
              "\n",
              "    .dataframe thead th {\n",
              "        text-align: right;\n",
              "    }\n",
              "</style>\n",
              "<table border=\"1\" class=\"dataframe\">\n",
              "  <thead>\n",
              "    <tr style=\"text-align: right;\">\n",
              "      <th></th>\n",
              "      <th>A</th>\n",
              "      <th>B</th>\n",
              "      <th>C</th>\n",
              "    </tr>\n",
              "  </thead>\n",
              "  <tbody>\n",
              "    <tr>\n",
              "      <th>0</th>\n",
              "      <td>36</td>\n",
              "      <td>45</td>\n",
              "      <td>28</td>\n",
              "    </tr>\n",
              "    <tr>\n",
              "      <th>1</th>\n",
              "      <td>36</td>\n",
              "      <td>25</td>\n",
              "      <td>49</td>\n",
              "    </tr>\n",
              "    <tr>\n",
              "      <th>2</th>\n",
              "      <td>6</td>\n",
              "      <td>25</td>\n",
              "      <td>63</td>\n",
              "    </tr>\n",
              "  </tbody>\n",
              "</table>\n",
              "</div>"
            ],
            "text/plain": [
              "    A   B   C\n",
              "0  36  45  28\n",
              "1  36  25  49\n",
              "2   6  25  63"
            ]
          },
          "execution_count": 141,
          "metadata": {},
          "output_type": "execute_result"
        }
      ],
      "source": [
        "df.mul(df.iloc[1])"
      ]
    },
    {
      "cell_type": "code",
      "execution_count": 142,
      "metadata": {
        "id": "HpE8CYBVvUML"
      },
      "outputs": [
        {
          "data": {
            "text/html": [
              "<div>\n",
              "<style scoped>\n",
              "    .dataframe tbody tr th:only-of-type {\n",
              "        vertical-align: middle;\n",
              "    }\n",
              "\n",
              "    .dataframe tbody tr th {\n",
              "        vertical-align: top;\n",
              "    }\n",
              "\n",
              "    .dataframe thead th {\n",
              "        text-align: right;\n",
              "    }\n",
              "</style>\n",
              "<table border=\"1\" class=\"dataframe\">\n",
              "  <thead>\n",
              "    <tr style=\"text-align: right;\">\n",
              "      <th></th>\n",
              "      <th>A</th>\n",
              "      <th>B</th>\n",
              "      <th>C</th>\n",
              "    </tr>\n",
              "  </thead>\n",
              "  <tbody>\n",
              "    <tr>\n",
              "      <th>0</th>\n",
              "      <td>6</td>\n",
              "      <td>45</td>\n",
              "      <td>36</td>\n",
              "    </tr>\n",
              "    <tr>\n",
              "      <th>1</th>\n",
              "      <td>6</td>\n",
              "      <td>25</td>\n",
              "      <td>63</td>\n",
              "    </tr>\n",
              "    <tr>\n",
              "      <th>2</th>\n",
              "      <td>1</td>\n",
              "      <td>25</td>\n",
              "      <td>81</td>\n",
              "    </tr>\n",
              "  </tbody>\n",
              "</table>\n",
              "</div>"
            ],
            "text/plain": [
              "   A   B   C\n",
              "0  6  45  36\n",
              "1  6  25  63\n",
              "2  1  25  81"
            ]
          },
          "execution_count": 142,
          "metadata": {},
          "output_type": "execute_result"
        }
      ],
      "source": [
        "df.multiply(df.iloc[2])"
      ]
    },
    {
      "cell_type": "markdown",
      "metadata": {
        "id": "hFAaKfw2zpFE"
      },
      "source": [
        "#### truediv() /  div() / divide() / floordiv()"
      ]
    },
    {
      "cell_type": "code",
      "execution_count": 143,
      "metadata": {
        "id": "BQ56Fdtyzyvp"
      },
      "outputs": [
        {
          "data": {
            "text/plain": [
              "array([[6, 9, 4],\n",
              "       [6, 5, 7],\n",
              "       [1, 5, 9]])"
            ]
          },
          "execution_count": 143,
          "metadata": {},
          "output_type": "execute_result"
        }
      ],
      "source": [
        "a"
      ]
    },
    {
      "cell_type": "code",
      "execution_count": 144,
      "metadata": {
        "id": "fgKLOKM5iQMu"
      },
      "outputs": [
        {
          "data": {
            "text/plain": [
              "array([[1.        , 1.        , 1.        ],\n",
              "       [1.        , 0.55555556, 1.75      ],\n",
              "       [0.16666667, 0.55555556, 2.25      ]])"
            ]
          },
          "execution_count": 144,
          "metadata": {},
          "output_type": "execute_result"
        }
      ],
      "source": [
        "a / a[0]"
      ]
    },
    {
      "cell_type": "code",
      "execution_count": 145,
      "metadata": {
        "id": "HjYXWxgfz5WD"
      },
      "outputs": [
        {
          "data": {
            "text/html": [
              "<div>\n",
              "<style scoped>\n",
              "    .dataframe tbody tr th:only-of-type {\n",
              "        vertical-align: middle;\n",
              "    }\n",
              "\n",
              "    .dataframe tbody tr th {\n",
              "        vertical-align: top;\n",
              "    }\n",
              "\n",
              "    .dataframe thead th {\n",
              "        text-align: right;\n",
              "    }\n",
              "</style>\n",
              "<table border=\"1\" class=\"dataframe\">\n",
              "  <thead>\n",
              "    <tr style=\"text-align: right;\">\n",
              "      <th></th>\n",
              "      <th>A</th>\n",
              "      <th>B</th>\n",
              "      <th>C</th>\n",
              "    </tr>\n",
              "  </thead>\n",
              "  <tbody>\n",
              "    <tr>\n",
              "      <th>0</th>\n",
              "      <td>6</td>\n",
              "      <td>9</td>\n",
              "      <td>4</td>\n",
              "    </tr>\n",
              "    <tr>\n",
              "      <th>1</th>\n",
              "      <td>6</td>\n",
              "      <td>5</td>\n",
              "      <td>7</td>\n",
              "    </tr>\n",
              "    <tr>\n",
              "      <th>2</th>\n",
              "      <td>1</td>\n",
              "      <td>5</td>\n",
              "      <td>9</td>\n",
              "    </tr>\n",
              "  </tbody>\n",
              "</table>\n",
              "</div>"
            ],
            "text/plain": [
              "   A  B  C\n",
              "0  6  9  4\n",
              "1  6  5  7\n",
              "2  1  5  9"
            ]
          },
          "execution_count": 145,
          "metadata": {},
          "output_type": "execute_result"
        }
      ],
      "source": [
        "df"
      ]
    },
    {
      "cell_type": "code",
      "execution_count": 146,
      "metadata": {
        "id": "Nw0xsKsAz9XV"
      },
      "outputs": [
        {
          "data": {
            "text/html": [
              "<div>\n",
              "<style scoped>\n",
              "    .dataframe tbody tr th:only-of-type {\n",
              "        vertical-align: middle;\n",
              "    }\n",
              "\n",
              "    .dataframe tbody tr th {\n",
              "        vertical-align: top;\n",
              "    }\n",
              "\n",
              "    .dataframe thead th {\n",
              "        text-align: right;\n",
              "    }\n",
              "</style>\n",
              "<table border=\"1\" class=\"dataframe\">\n",
              "  <thead>\n",
              "    <tr style=\"text-align: right;\">\n",
              "      <th></th>\n",
              "      <th>A</th>\n",
              "      <th>B</th>\n",
              "      <th>C</th>\n",
              "    </tr>\n",
              "  </thead>\n",
              "  <tbody>\n",
              "    <tr>\n",
              "      <th>0</th>\n",
              "      <td>1.000000</td>\n",
              "      <td>1.000000</td>\n",
              "      <td>1.00</td>\n",
              "    </tr>\n",
              "    <tr>\n",
              "      <th>1</th>\n",
              "      <td>1.000000</td>\n",
              "      <td>0.555556</td>\n",
              "      <td>1.75</td>\n",
              "    </tr>\n",
              "    <tr>\n",
              "      <th>2</th>\n",
              "      <td>0.166667</td>\n",
              "      <td>0.555556</td>\n",
              "      <td>2.25</td>\n",
              "    </tr>\n",
              "  </tbody>\n",
              "</table>\n",
              "</div>"
            ],
            "text/plain": [
              "          A         B     C\n",
              "0  1.000000  1.000000  1.00\n",
              "1  1.000000  0.555556  1.75\n",
              "2  0.166667  0.555556  2.25"
            ]
          },
          "execution_count": 146,
          "metadata": {},
          "output_type": "execute_result"
        }
      ],
      "source": [
        "df / df.iloc[0]"
      ]
    },
    {
      "cell_type": "code",
      "execution_count": 147,
      "metadata": {
        "id": "ZoSaKROE0Ab_"
      },
      "outputs": [
        {
          "data": {
            "text/html": [
              "<div>\n",
              "<style scoped>\n",
              "    .dataframe tbody tr th:only-of-type {\n",
              "        vertical-align: middle;\n",
              "    }\n",
              "\n",
              "    .dataframe tbody tr th {\n",
              "        vertical-align: top;\n",
              "    }\n",
              "\n",
              "    .dataframe thead th {\n",
              "        text-align: right;\n",
              "    }\n",
              "</style>\n",
              "<table border=\"1\" class=\"dataframe\">\n",
              "  <thead>\n",
              "    <tr style=\"text-align: right;\">\n",
              "      <th></th>\n",
              "      <th>A</th>\n",
              "      <th>B</th>\n",
              "      <th>C</th>\n",
              "    </tr>\n",
              "  </thead>\n",
              "  <tbody>\n",
              "    <tr>\n",
              "      <th>0</th>\n",
              "      <td>1.000000</td>\n",
              "      <td>1.000000</td>\n",
              "      <td>1.00</td>\n",
              "    </tr>\n",
              "    <tr>\n",
              "      <th>1</th>\n",
              "      <td>1.000000</td>\n",
              "      <td>0.555556</td>\n",
              "      <td>1.75</td>\n",
              "    </tr>\n",
              "    <tr>\n",
              "      <th>2</th>\n",
              "      <td>0.166667</td>\n",
              "      <td>0.555556</td>\n",
              "      <td>2.25</td>\n",
              "    </tr>\n",
              "  </tbody>\n",
              "</table>\n",
              "</div>"
            ],
            "text/plain": [
              "          A         B     C\n",
              "0  1.000000  1.000000  1.00\n",
              "1  1.000000  0.555556  1.75\n",
              "2  0.166667  0.555556  2.25"
            ]
          },
          "execution_count": 147,
          "metadata": {},
          "output_type": "execute_result"
        }
      ],
      "source": [
        "df.truediv(df.iloc[0])"
      ]
    },
    {
      "cell_type": "code",
      "execution_count": 148,
      "metadata": {
        "id": "Q21li5Sk0TJw"
      },
      "outputs": [
        {
          "data": {
            "text/html": [
              "<div>\n",
              "<style scoped>\n",
              "    .dataframe tbody tr th:only-of-type {\n",
              "        vertical-align: middle;\n",
              "    }\n",
              "\n",
              "    .dataframe tbody tr th {\n",
              "        vertical-align: top;\n",
              "    }\n",
              "\n",
              "    .dataframe thead th {\n",
              "        text-align: right;\n",
              "    }\n",
              "</style>\n",
              "<table border=\"1\" class=\"dataframe\">\n",
              "  <thead>\n",
              "    <tr style=\"text-align: right;\">\n",
              "      <th></th>\n",
              "      <th>A</th>\n",
              "      <th>B</th>\n",
              "      <th>C</th>\n",
              "    </tr>\n",
              "  </thead>\n",
              "  <tbody>\n",
              "    <tr>\n",
              "      <th>0</th>\n",
              "      <td>1.000000</td>\n",
              "      <td>1.8</td>\n",
              "      <td>0.571429</td>\n",
              "    </tr>\n",
              "    <tr>\n",
              "      <th>1</th>\n",
              "      <td>1.000000</td>\n",
              "      <td>1.0</td>\n",
              "      <td>1.000000</td>\n",
              "    </tr>\n",
              "    <tr>\n",
              "      <th>2</th>\n",
              "      <td>0.166667</td>\n",
              "      <td>1.0</td>\n",
              "      <td>1.285714</td>\n",
              "    </tr>\n",
              "  </tbody>\n",
              "</table>\n",
              "</div>"
            ],
            "text/plain": [
              "          A    B         C\n",
              "0  1.000000  1.8  0.571429\n",
              "1  1.000000  1.0  1.000000\n",
              "2  0.166667  1.0  1.285714"
            ]
          },
          "execution_count": 148,
          "metadata": {},
          "output_type": "execute_result"
        }
      ],
      "source": [
        "df.div(df.iloc[1])"
      ]
    },
    {
      "cell_type": "code",
      "execution_count": 149,
      "metadata": {
        "id": "ct4NWN-rp4Gp"
      },
      "outputs": [
        {
          "data": {
            "text/html": [
              "<div>\n",
              "<style scoped>\n",
              "    .dataframe tbody tr th:only-of-type {\n",
              "        vertical-align: middle;\n",
              "    }\n",
              "\n",
              "    .dataframe tbody tr th {\n",
              "        vertical-align: top;\n",
              "    }\n",
              "\n",
              "    .dataframe thead th {\n",
              "        text-align: right;\n",
              "    }\n",
              "</style>\n",
              "<table border=\"1\" class=\"dataframe\">\n",
              "  <thead>\n",
              "    <tr style=\"text-align: right;\">\n",
              "      <th></th>\n",
              "      <th>A</th>\n",
              "      <th>B</th>\n",
              "      <th>C</th>\n",
              "    </tr>\n",
              "  </thead>\n",
              "  <tbody>\n",
              "    <tr>\n",
              "      <th>0</th>\n",
              "      <td>6.0</td>\n",
              "      <td>1.8</td>\n",
              "      <td>0.444444</td>\n",
              "    </tr>\n",
              "    <tr>\n",
              "      <th>1</th>\n",
              "      <td>6.0</td>\n",
              "      <td>1.0</td>\n",
              "      <td>0.777778</td>\n",
              "    </tr>\n",
              "    <tr>\n",
              "      <th>2</th>\n",
              "      <td>1.0</td>\n",
              "      <td>1.0</td>\n",
              "      <td>1.000000</td>\n",
              "    </tr>\n",
              "  </tbody>\n",
              "</table>\n",
              "</div>"
            ],
            "text/plain": [
              "     A    B         C\n",
              "0  6.0  1.8  0.444444\n",
              "1  6.0  1.0  0.777778\n",
              "2  1.0  1.0  1.000000"
            ]
          },
          "execution_count": 149,
          "metadata": {},
          "output_type": "execute_result"
        }
      ],
      "source": [
        "df.divide(df.iloc[2])"
      ]
    },
    {
      "cell_type": "code",
      "execution_count": 150,
      "metadata": {
        "id": "2ShseE-LiYxb"
      },
      "outputs": [
        {
          "data": {
            "text/plain": [
              "array([[1, 1, 1],\n",
              "       [1, 0, 1],\n",
              "       [0, 0, 2]])"
            ]
          },
          "execution_count": 150,
          "metadata": {},
          "output_type": "execute_result"
        }
      ],
      "source": [
        "a // a[0]"
      ]
    },
    {
      "cell_type": "code",
      "execution_count": 151,
      "metadata": {
        "id": "XAbDLNYqovd9"
      },
      "outputs": [
        {
          "data": {
            "text/html": [
              "<div>\n",
              "<style scoped>\n",
              "    .dataframe tbody tr th:only-of-type {\n",
              "        vertical-align: middle;\n",
              "    }\n",
              "\n",
              "    .dataframe tbody tr th {\n",
              "        vertical-align: top;\n",
              "    }\n",
              "\n",
              "    .dataframe thead th {\n",
              "        text-align: right;\n",
              "    }\n",
              "</style>\n",
              "<table border=\"1\" class=\"dataframe\">\n",
              "  <thead>\n",
              "    <tr style=\"text-align: right;\">\n",
              "      <th></th>\n",
              "      <th>A</th>\n",
              "      <th>B</th>\n",
              "      <th>C</th>\n",
              "    </tr>\n",
              "  </thead>\n",
              "  <tbody>\n",
              "    <tr>\n",
              "      <th>0</th>\n",
              "      <td>1</td>\n",
              "      <td>1</td>\n",
              "      <td>1</td>\n",
              "    </tr>\n",
              "    <tr>\n",
              "      <th>1</th>\n",
              "      <td>1</td>\n",
              "      <td>0</td>\n",
              "      <td>1</td>\n",
              "    </tr>\n",
              "    <tr>\n",
              "      <th>2</th>\n",
              "      <td>0</td>\n",
              "      <td>0</td>\n",
              "      <td>2</td>\n",
              "    </tr>\n",
              "  </tbody>\n",
              "</table>\n",
              "</div>"
            ],
            "text/plain": [
              "   A  B  C\n",
              "0  1  1  1\n",
              "1  1  0  1\n",
              "2  0  0  2"
            ]
          },
          "execution_count": 151,
          "metadata": {},
          "output_type": "execute_result"
        }
      ],
      "source": [
        "df.floordiv(df.iloc[0])"
      ]
    },
    {
      "cell_type": "markdown",
      "metadata": {
        "id": "kd9HSQ6y0SwS"
      },
      "source": [
        "#### mod()"
      ]
    },
    {
      "cell_type": "code",
      "execution_count": 152,
      "metadata": {
        "id": "EzEbDy4iqOFR"
      },
      "outputs": [
        {
          "data": {
            "text/plain": [
              "array([[6, 9, 4],\n",
              "       [6, 5, 7],\n",
              "       [1, 5, 9]])"
            ]
          },
          "execution_count": 152,
          "metadata": {},
          "output_type": "execute_result"
        }
      ],
      "source": [
        "a"
      ]
    },
    {
      "cell_type": "code",
      "execution_count": 153,
      "metadata": {
        "id": "twDUry6dipns"
      },
      "outputs": [
        {
          "data": {
            "text/plain": [
              "array([[0, 0, 0],\n",
              "       [0, 5, 3],\n",
              "       [1, 5, 1]])"
            ]
          },
          "execution_count": 153,
          "metadata": {},
          "output_type": "execute_result"
        }
      ],
      "source": [
        "a % a[0]"
      ]
    },
    {
      "cell_type": "code",
      "execution_count": 154,
      "metadata": {
        "id": "aqQMEZTdqPUN"
      },
      "outputs": [
        {
          "data": {
            "text/html": [
              "<div>\n",
              "<style scoped>\n",
              "    .dataframe tbody tr th:only-of-type {\n",
              "        vertical-align: middle;\n",
              "    }\n",
              "\n",
              "    .dataframe tbody tr th {\n",
              "        vertical-align: top;\n",
              "    }\n",
              "\n",
              "    .dataframe thead th {\n",
              "        text-align: right;\n",
              "    }\n",
              "</style>\n",
              "<table border=\"1\" class=\"dataframe\">\n",
              "  <thead>\n",
              "    <tr style=\"text-align: right;\">\n",
              "      <th></th>\n",
              "      <th>A</th>\n",
              "      <th>B</th>\n",
              "      <th>C</th>\n",
              "    </tr>\n",
              "  </thead>\n",
              "  <tbody>\n",
              "    <tr>\n",
              "      <th>0</th>\n",
              "      <td>6</td>\n",
              "      <td>9</td>\n",
              "      <td>4</td>\n",
              "    </tr>\n",
              "    <tr>\n",
              "      <th>1</th>\n",
              "      <td>6</td>\n",
              "      <td>5</td>\n",
              "      <td>7</td>\n",
              "    </tr>\n",
              "    <tr>\n",
              "      <th>2</th>\n",
              "      <td>1</td>\n",
              "      <td>5</td>\n",
              "      <td>9</td>\n",
              "    </tr>\n",
              "  </tbody>\n",
              "</table>\n",
              "</div>"
            ],
            "text/plain": [
              "   A  B  C\n",
              "0  6  9  4\n",
              "1  6  5  7\n",
              "2  1  5  9"
            ]
          },
          "execution_count": 154,
          "metadata": {},
          "output_type": "execute_result"
        }
      ],
      "source": [
        "df"
      ]
    },
    {
      "cell_type": "code",
      "execution_count": 155,
      "metadata": {
        "id": "NdXlrc8LqQUE"
      },
      "outputs": [
        {
          "data": {
            "text/html": [
              "<div>\n",
              "<style scoped>\n",
              "    .dataframe tbody tr th:only-of-type {\n",
              "        vertical-align: middle;\n",
              "    }\n",
              "\n",
              "    .dataframe tbody tr th {\n",
              "        vertical-align: top;\n",
              "    }\n",
              "\n",
              "    .dataframe thead th {\n",
              "        text-align: right;\n",
              "    }\n",
              "</style>\n",
              "<table border=\"1\" class=\"dataframe\">\n",
              "  <thead>\n",
              "    <tr style=\"text-align: right;\">\n",
              "      <th></th>\n",
              "      <th>A</th>\n",
              "      <th>B</th>\n",
              "      <th>C</th>\n",
              "    </tr>\n",
              "  </thead>\n",
              "  <tbody>\n",
              "    <tr>\n",
              "      <th>0</th>\n",
              "      <td>0</td>\n",
              "      <td>0</td>\n",
              "      <td>0</td>\n",
              "    </tr>\n",
              "    <tr>\n",
              "      <th>1</th>\n",
              "      <td>0</td>\n",
              "      <td>5</td>\n",
              "      <td>3</td>\n",
              "    </tr>\n",
              "    <tr>\n",
              "      <th>2</th>\n",
              "      <td>1</td>\n",
              "      <td>5</td>\n",
              "      <td>1</td>\n",
              "    </tr>\n",
              "  </tbody>\n",
              "</table>\n",
              "</div>"
            ],
            "text/plain": [
              "   A  B  C\n",
              "0  0  0  0\n",
              "1  0  5  3\n",
              "2  1  5  1"
            ]
          },
          "execution_count": 155,
          "metadata": {},
          "output_type": "execute_result"
        }
      ],
      "source": [
        "df.mod(df.iloc[0])"
      ]
    },
    {
      "cell_type": "markdown",
      "metadata": {
        "id": "U7ZuwbTDp9Se"
      },
      "source": [
        "#### pow()"
      ]
    },
    {
      "cell_type": "code",
      "execution_count": 156,
      "metadata": {
        "id": "zHZfX4K5qU0Y"
      },
      "outputs": [
        {
          "data": {
            "text/plain": [
              "array([[6, 9, 4],\n",
              "       [6, 5, 7],\n",
              "       [1, 5, 9]])"
            ]
          },
          "execution_count": 156,
          "metadata": {},
          "output_type": "execute_result"
        }
      ],
      "source": [
        "a"
      ]
    },
    {
      "cell_type": "code",
      "execution_count": 157,
      "metadata": {
        "id": "KpA3rMqAispd"
      },
      "outputs": [
        {
          "data": {
            "text/plain": [
              "array([[    46656, 387420489,       256],\n",
              "       [    46656,   1953125,      2401],\n",
              "       [        1,   1953125,      6561]])"
            ]
          },
          "execution_count": 157,
          "metadata": {},
          "output_type": "execute_result"
        }
      ],
      "source": [
        "a ** a[0]"
      ]
    },
    {
      "cell_type": "code",
      "execution_count": 158,
      "metadata": {
        "id": "E0kXJgdWqWcw"
      },
      "outputs": [
        {
          "data": {
            "text/html": [
              "<div>\n",
              "<style scoped>\n",
              "    .dataframe tbody tr th:only-of-type {\n",
              "        vertical-align: middle;\n",
              "    }\n",
              "\n",
              "    .dataframe tbody tr th {\n",
              "        vertical-align: top;\n",
              "    }\n",
              "\n",
              "    .dataframe thead th {\n",
              "        text-align: right;\n",
              "    }\n",
              "</style>\n",
              "<table border=\"1\" class=\"dataframe\">\n",
              "  <thead>\n",
              "    <tr style=\"text-align: right;\">\n",
              "      <th></th>\n",
              "      <th>A</th>\n",
              "      <th>B</th>\n",
              "      <th>C</th>\n",
              "    </tr>\n",
              "  </thead>\n",
              "  <tbody>\n",
              "    <tr>\n",
              "      <th>0</th>\n",
              "      <td>6</td>\n",
              "      <td>9</td>\n",
              "      <td>4</td>\n",
              "    </tr>\n",
              "    <tr>\n",
              "      <th>1</th>\n",
              "      <td>6</td>\n",
              "      <td>5</td>\n",
              "      <td>7</td>\n",
              "    </tr>\n",
              "    <tr>\n",
              "      <th>2</th>\n",
              "      <td>1</td>\n",
              "      <td>5</td>\n",
              "      <td>9</td>\n",
              "    </tr>\n",
              "  </tbody>\n",
              "</table>\n",
              "</div>"
            ],
            "text/plain": [
              "   A  B  C\n",
              "0  6  9  4\n",
              "1  6  5  7\n",
              "2  1  5  9"
            ]
          },
          "execution_count": 158,
          "metadata": {},
          "output_type": "execute_result"
        }
      ],
      "source": [
        "df"
      ]
    },
    {
      "cell_type": "code",
      "execution_count": 159,
      "metadata": {
        "id": "x3QIEcXoqW27"
      },
      "outputs": [
        {
          "data": {
            "text/html": [
              "<div>\n",
              "<style scoped>\n",
              "    .dataframe tbody tr th:only-of-type {\n",
              "        vertical-align: middle;\n",
              "    }\n",
              "\n",
              "    .dataframe tbody tr th {\n",
              "        vertical-align: top;\n",
              "    }\n",
              "\n",
              "    .dataframe thead th {\n",
              "        text-align: right;\n",
              "    }\n",
              "</style>\n",
              "<table border=\"1\" class=\"dataframe\">\n",
              "  <thead>\n",
              "    <tr style=\"text-align: right;\">\n",
              "      <th></th>\n",
              "      <th>A</th>\n",
              "      <th>B</th>\n",
              "      <th>C</th>\n",
              "    </tr>\n",
              "  </thead>\n",
              "  <tbody>\n",
              "    <tr>\n",
              "      <th>0</th>\n",
              "      <td>46656</td>\n",
              "      <td>387420489</td>\n",
              "      <td>256</td>\n",
              "    </tr>\n",
              "    <tr>\n",
              "      <th>1</th>\n",
              "      <td>46656</td>\n",
              "      <td>1953125</td>\n",
              "      <td>2401</td>\n",
              "    </tr>\n",
              "    <tr>\n",
              "      <th>2</th>\n",
              "      <td>1</td>\n",
              "      <td>1953125</td>\n",
              "      <td>6561</td>\n",
              "    </tr>\n",
              "  </tbody>\n",
              "</table>\n",
              "</div>"
            ],
            "text/plain": [
              "       A          B     C\n",
              "0  46656  387420489   256\n",
              "1  46656    1953125  2401\n",
              "2      1    1953125  6561"
            ]
          },
          "execution_count": 159,
          "metadata": {},
          "output_type": "execute_result"
        }
      ],
      "source": [
        "df.pow(df.iloc[0])"
      ]
    },
    {
      "cell_type": "code",
      "execution_count": 160,
      "metadata": {
        "id": "CAZBCAMLqyLz"
      },
      "outputs": [
        {
          "data": {
            "text/plain": [
              "A    6\n",
              "C    4\n",
              "Name: 0, dtype: int64"
            ]
          },
          "execution_count": 160,
          "metadata": {},
          "output_type": "execute_result"
        }
      ],
      "source": [
        "row = df.iloc[0, ::2]\n",
        "row"
      ]
    },
    {
      "cell_type": "code",
      "execution_count": 161,
      "metadata": {
        "id": "s8fiykE0q5WM"
      },
      "outputs": [
        {
          "data": {
            "text/html": [
              "<div>\n",
              "<style scoped>\n",
              "    .dataframe tbody tr th:only-of-type {\n",
              "        vertical-align: middle;\n",
              "    }\n",
              "\n",
              "    .dataframe tbody tr th {\n",
              "        vertical-align: top;\n",
              "    }\n",
              "\n",
              "    .dataframe thead th {\n",
              "        text-align: right;\n",
              "    }\n",
              "</style>\n",
              "<table border=\"1\" class=\"dataframe\">\n",
              "  <thead>\n",
              "    <tr style=\"text-align: right;\">\n",
              "      <th></th>\n",
              "      <th>A</th>\n",
              "      <th>B</th>\n",
              "      <th>C</th>\n",
              "    </tr>\n",
              "  </thead>\n",
              "  <tbody>\n",
              "    <tr>\n",
              "      <th>0</th>\n",
              "      <td>0.0</td>\n",
              "      <td>NaN</td>\n",
              "      <td>0.0</td>\n",
              "    </tr>\n",
              "    <tr>\n",
              "      <th>1</th>\n",
              "      <td>0.0</td>\n",
              "      <td>NaN</td>\n",
              "      <td>3.0</td>\n",
              "    </tr>\n",
              "    <tr>\n",
              "      <th>2</th>\n",
              "      <td>-5.0</td>\n",
              "      <td>NaN</td>\n",
              "      <td>5.0</td>\n",
              "    </tr>\n",
              "  </tbody>\n",
              "</table>\n",
              "</div>"
            ],
            "text/plain": [
              "     A   B    C\n",
              "0  0.0 NaN  0.0\n",
              "1  0.0 NaN  3.0\n",
              "2 -5.0 NaN  5.0"
            ]
          },
          "execution_count": 161,
          "metadata": {},
          "output_type": "execute_result"
        }
      ],
      "source": [
        "df - row"
      ]
    },
    {
      "cell_type": "markdown",
      "metadata": {
        "id": "olpJULJ5x1KI"
      },
      "source": [
        "### 정렬(Sort)"
      ]
    },
    {
      "cell_type": "code",
      "execution_count": 162,
      "metadata": {
        "id": "Wplj3Uw00Isa"
      },
      "outputs": [
        {
          "data": {
            "text/plain": [
              "A    0\n",
              "D    1\n",
              "B    2\n",
              "C    3\n",
              "E    4\n",
              "dtype: int64"
            ]
          },
          "execution_count": 162,
          "metadata": {},
          "output_type": "execute_result"
        }
      ],
      "source": [
        "s = pd.Series(range(5), index=list('ADBCE'))\n",
        "s"
      ]
    },
    {
      "cell_type": "code",
      "execution_count": 163,
      "metadata": {
        "id": "6teCdpge0Xp6"
      },
      "outputs": [
        {
          "data": {
            "text/plain": [
              "A    0\n",
              "B    2\n",
              "C    3\n",
              "D    1\n",
              "E    4\n",
              "dtype: int64"
            ]
          },
          "execution_count": 163,
          "metadata": {},
          "output_type": "execute_result"
        }
      ],
      "source": [
        "s.sort_index()"
      ]
    },
    {
      "cell_type": "code",
      "execution_count": 164,
      "metadata": {
        "id": "l77lqhu71Nd4"
      },
      "outputs": [
        {
          "data": {
            "text/plain": [
              "A    0\n",
              "D    1\n",
              "B    2\n",
              "C    3\n",
              "E    4\n",
              "dtype: int64"
            ]
          },
          "execution_count": 164,
          "metadata": {},
          "output_type": "execute_result"
        }
      ],
      "source": [
        "s.sort_values()"
      ]
    },
    {
      "cell_type": "code",
      "execution_count": 165,
      "metadata": {
        "id": "HXw87Eo0x3tZ"
      },
      "outputs": [
        {
          "data": {
            "text/html": [
              "<div>\n",
              "<style scoped>\n",
              "    .dataframe tbody tr th:only-of-type {\n",
              "        vertical-align: middle;\n",
              "    }\n",
              "\n",
              "    .dataframe tbody tr th {\n",
              "        vertical-align: top;\n",
              "    }\n",
              "\n",
              "    .dataframe thead th {\n",
              "        text-align: right;\n",
              "    }\n",
              "</style>\n",
              "<table border=\"1\" class=\"dataframe\">\n",
              "  <thead>\n",
              "    <tr style=\"text-align: right;\">\n",
              "      <th></th>\n",
              "      <th>B</th>\n",
              "      <th>D</th>\n",
              "      <th>A</th>\n",
              "      <th>C</th>\n",
              "    </tr>\n",
              "  </thead>\n",
              "  <tbody>\n",
              "    <tr>\n",
              "      <th>2</th>\n",
              "      <td>5</td>\n",
              "      <td>9</td>\n",
              "      <td>3</td>\n",
              "      <td>0</td>\n",
              "    </tr>\n",
              "    <tr>\n",
              "      <th>4</th>\n",
              "      <td>4</td>\n",
              "      <td>7</td>\n",
              "      <td>9</td>\n",
              "      <td>5</td>\n",
              "    </tr>\n",
              "    <tr>\n",
              "      <th>1</th>\n",
              "      <td>8</td>\n",
              "      <td>3</td>\n",
              "      <td>4</td>\n",
              "      <td>7</td>\n",
              "    </tr>\n",
              "    <tr>\n",
              "      <th>3</th>\n",
              "      <td>9</td>\n",
              "      <td>3</td>\n",
              "      <td>4</td>\n",
              "      <td>2</td>\n",
              "    </tr>\n",
              "  </tbody>\n",
              "</table>\n",
              "</div>"
            ],
            "text/plain": [
              "   B  D  A  C\n",
              "2  5  9  3  0\n",
              "4  4  7  9  5\n",
              "1  8  3  4  7\n",
              "3  9  3  4  2"
            ]
          },
          "execution_count": 165,
          "metadata": {},
          "output_type": "execute_result"
        }
      ],
      "source": [
        "df = pd.DataFrame(np.random.randint(0, 10, (4, 4)),\n",
        "                                    index=[2, 4, 1, 3],\n",
        "                                    columns=list('BDAC'))\n",
        "df"
      ]
    },
    {
      "cell_type": "code",
      "execution_count": 166,
      "metadata": {
        "id": "EOsqFoi2zMZ3"
      },
      "outputs": [
        {
          "data": {
            "text/html": [
              "<div>\n",
              "<style scoped>\n",
              "    .dataframe tbody tr th:only-of-type {\n",
              "        vertical-align: middle;\n",
              "    }\n",
              "\n",
              "    .dataframe tbody tr th {\n",
              "        vertical-align: top;\n",
              "    }\n",
              "\n",
              "    .dataframe thead th {\n",
              "        text-align: right;\n",
              "    }\n",
              "</style>\n",
              "<table border=\"1\" class=\"dataframe\">\n",
              "  <thead>\n",
              "    <tr style=\"text-align: right;\">\n",
              "      <th></th>\n",
              "      <th>B</th>\n",
              "      <th>D</th>\n",
              "      <th>A</th>\n",
              "      <th>C</th>\n",
              "    </tr>\n",
              "  </thead>\n",
              "  <tbody>\n",
              "    <tr>\n",
              "      <th>1</th>\n",
              "      <td>8</td>\n",
              "      <td>3</td>\n",
              "      <td>4</td>\n",
              "      <td>7</td>\n",
              "    </tr>\n",
              "    <tr>\n",
              "      <th>2</th>\n",
              "      <td>5</td>\n",
              "      <td>9</td>\n",
              "      <td>3</td>\n",
              "      <td>0</td>\n",
              "    </tr>\n",
              "    <tr>\n",
              "      <th>3</th>\n",
              "      <td>9</td>\n",
              "      <td>3</td>\n",
              "      <td>4</td>\n",
              "      <td>2</td>\n",
              "    </tr>\n",
              "    <tr>\n",
              "      <th>4</th>\n",
              "      <td>4</td>\n",
              "      <td>7</td>\n",
              "      <td>9</td>\n",
              "      <td>5</td>\n",
              "    </tr>\n",
              "  </tbody>\n",
              "</table>\n",
              "</div>"
            ],
            "text/plain": [
              "   B  D  A  C\n",
              "1  8  3  4  7\n",
              "2  5  9  3  0\n",
              "3  9  3  4  2\n",
              "4  4  7  9  5"
            ]
          },
          "execution_count": 166,
          "metadata": {},
          "output_type": "execute_result"
        }
      ],
      "source": [
        "df.sort_index()"
      ]
    },
    {
      "cell_type": "code",
      "execution_count": 167,
      "metadata": {},
      "outputs": [
        {
          "data": {
            "text/html": [
              "<div>\n",
              "<style scoped>\n",
              "    .dataframe tbody tr th:only-of-type {\n",
              "        vertical-align: middle;\n",
              "    }\n",
              "\n",
              "    .dataframe tbody tr th {\n",
              "        vertical-align: top;\n",
              "    }\n",
              "\n",
              "    .dataframe thead th {\n",
              "        text-align: right;\n",
              "    }\n",
              "</style>\n",
              "<table border=\"1\" class=\"dataframe\">\n",
              "  <thead>\n",
              "    <tr style=\"text-align: right;\">\n",
              "      <th></th>\n",
              "      <th>A</th>\n",
              "      <th>B</th>\n",
              "      <th>C</th>\n",
              "      <th>D</th>\n",
              "    </tr>\n",
              "  </thead>\n",
              "  <tbody>\n",
              "    <tr>\n",
              "      <th>2</th>\n",
              "      <td>3</td>\n",
              "      <td>5</td>\n",
              "      <td>0</td>\n",
              "      <td>9</td>\n",
              "    </tr>\n",
              "    <tr>\n",
              "      <th>4</th>\n",
              "      <td>9</td>\n",
              "      <td>4</td>\n",
              "      <td>5</td>\n",
              "      <td>7</td>\n",
              "    </tr>\n",
              "    <tr>\n",
              "      <th>1</th>\n",
              "      <td>4</td>\n",
              "      <td>8</td>\n",
              "      <td>7</td>\n",
              "      <td>3</td>\n",
              "    </tr>\n",
              "    <tr>\n",
              "      <th>3</th>\n",
              "      <td>4</td>\n",
              "      <td>9</td>\n",
              "      <td>2</td>\n",
              "      <td>3</td>\n",
              "    </tr>\n",
              "  </tbody>\n",
              "</table>\n",
              "</div>"
            ],
            "text/plain": [
              "   A  B  C  D\n",
              "2  3  5  0  9\n",
              "4  9  4  5  7\n",
              "1  4  8  7  3\n",
              "3  4  9  2  3"
            ]
          },
          "execution_count": 167,
          "metadata": {},
          "output_type": "execute_result"
        }
      ],
      "source": [
        "df.sort_index(axis=1)"
      ]
    },
    {
      "cell_type": "code",
      "execution_count": 168,
      "metadata": {
        "id": "FZ8zzlx90kqU"
      },
      "outputs": [
        {
          "data": {
            "text/html": [
              "<div>\n",
              "<style scoped>\n",
              "    .dataframe tbody tr th:only-of-type {\n",
              "        vertical-align: middle;\n",
              "    }\n",
              "\n",
              "    .dataframe tbody tr th {\n",
              "        vertical-align: top;\n",
              "    }\n",
              "\n",
              "    .dataframe thead th {\n",
              "        text-align: right;\n",
              "    }\n",
              "</style>\n",
              "<table border=\"1\" class=\"dataframe\">\n",
              "  <thead>\n",
              "    <tr style=\"text-align: right;\">\n",
              "      <th></th>\n",
              "      <th>B</th>\n",
              "      <th>D</th>\n",
              "      <th>A</th>\n",
              "      <th>C</th>\n",
              "    </tr>\n",
              "  </thead>\n",
              "  <tbody>\n",
              "    <tr>\n",
              "      <th>2</th>\n",
              "      <td>5</td>\n",
              "      <td>9</td>\n",
              "      <td>3</td>\n",
              "      <td>0</td>\n",
              "    </tr>\n",
              "    <tr>\n",
              "      <th>1</th>\n",
              "      <td>8</td>\n",
              "      <td>3</td>\n",
              "      <td>4</td>\n",
              "      <td>7</td>\n",
              "    </tr>\n",
              "    <tr>\n",
              "      <th>3</th>\n",
              "      <td>9</td>\n",
              "      <td>3</td>\n",
              "      <td>4</td>\n",
              "      <td>2</td>\n",
              "    </tr>\n",
              "    <tr>\n",
              "      <th>4</th>\n",
              "      <td>4</td>\n",
              "      <td>7</td>\n",
              "      <td>9</td>\n",
              "      <td>5</td>\n",
              "    </tr>\n",
              "  </tbody>\n",
              "</table>\n",
              "</div>"
            ],
            "text/plain": [
              "   B  D  A  C\n",
              "2  5  9  3  0\n",
              "1  8  3  4  7\n",
              "3  9  3  4  2\n",
              "4  4  7  9  5"
            ]
          },
          "execution_count": 168,
          "metadata": {},
          "output_type": "execute_result"
        }
      ],
      "source": [
        "df.sort_values(by='A')"
      ]
    },
    {
      "cell_type": "code",
      "execution_count": 169,
      "metadata": {
        "id": "cfbgpa6R1T1r"
      },
      "outputs": [
        {
          "data": {
            "text/html": [
              "<div>\n",
              "<style scoped>\n",
              "    .dataframe tbody tr th:only-of-type {\n",
              "        vertical-align: middle;\n",
              "    }\n",
              "\n",
              "    .dataframe tbody tr th {\n",
              "        vertical-align: top;\n",
              "    }\n",
              "\n",
              "    .dataframe thead th {\n",
              "        text-align: right;\n",
              "    }\n",
              "</style>\n",
              "<table border=\"1\" class=\"dataframe\">\n",
              "  <thead>\n",
              "    <tr style=\"text-align: right;\">\n",
              "      <th></th>\n",
              "      <th>B</th>\n",
              "      <th>D</th>\n",
              "      <th>A</th>\n",
              "      <th>C</th>\n",
              "    </tr>\n",
              "  </thead>\n",
              "  <tbody>\n",
              "    <tr>\n",
              "      <th>2</th>\n",
              "      <td>5</td>\n",
              "      <td>9</td>\n",
              "      <td>3</td>\n",
              "      <td>0</td>\n",
              "    </tr>\n",
              "    <tr>\n",
              "      <th>3</th>\n",
              "      <td>9</td>\n",
              "      <td>3</td>\n",
              "      <td>4</td>\n",
              "      <td>2</td>\n",
              "    </tr>\n",
              "    <tr>\n",
              "      <th>1</th>\n",
              "      <td>8</td>\n",
              "      <td>3</td>\n",
              "      <td>4</td>\n",
              "      <td>7</td>\n",
              "    </tr>\n",
              "    <tr>\n",
              "      <th>4</th>\n",
              "      <td>4</td>\n",
              "      <td>7</td>\n",
              "      <td>9</td>\n",
              "      <td>5</td>\n",
              "    </tr>\n",
              "  </tbody>\n",
              "</table>\n",
              "</div>"
            ],
            "text/plain": [
              "   B  D  A  C\n",
              "2  5  9  3  0\n",
              "3  9  3  4  2\n",
              "1  8  3  4  7\n",
              "4  4  7  9  5"
            ]
          },
          "execution_count": 169,
          "metadata": {},
          "output_type": "execute_result"
        }
      ],
      "source": [
        "df.sort_values(by=['A', 'C'])"
      ]
    },
    {
      "cell_type": "markdown",
      "metadata": {
        "id": "Xrv5nCNj3K-0"
      },
      "source": [
        "### 순위(Ranking)\n"
      ]
    },
    {
      "cell_type": "code",
      "execution_count": 170,
      "metadata": {
        "id": "GYroEZZ4105r"
      },
      "outputs": [
        {
          "data": {
            "text/plain": [
              "0   -2\n",
              "1    4\n",
              "2    5\n",
              "3    7\n",
              "4    2\n",
              "5   -1\n",
              "6    4\n",
              "7    9\n",
              "8    4\n",
              "9   -1\n",
              "dtype: int64"
            ]
          },
          "execution_count": 170,
          "metadata": {},
          "output_type": "execute_result"
        }
      ],
      "source": [
        "s = pd.Series([-2, 4, 5, 7, 2, -1, 4, 9, 4, -1])\n",
        "s"
      ]
    },
    {
      "cell_type": "code",
      "execution_count": 171,
      "metadata": {
        "id": "S4pX_jtq2ih3"
      },
      "outputs": [
        {
          "data": {
            "text/plain": [
              "0     1.0\n",
              "1     6.0\n",
              "2     8.0\n",
              "3     9.0\n",
              "4     4.0\n",
              "5     2.5\n",
              "6     6.0\n",
              "7    10.0\n",
              "8     6.0\n",
              "9     2.5\n",
              "dtype: float64"
            ]
          },
          "execution_count": 171,
          "metadata": {},
          "output_type": "execute_result"
        }
      ],
      "source": [
        "s.rank()"
      ]
    },
    {
      "cell_type": "code",
      "execution_count": 172,
      "metadata": {
        "id": "qBjoTMbx2keP"
      },
      "outputs": [
        {
          "data": {
            "text/plain": [
              "0     1.0\n",
              "1     5.0\n",
              "2     8.0\n",
              "3     9.0\n",
              "4     4.0\n",
              "5     2.0\n",
              "6     6.0\n",
              "7    10.0\n",
              "8     7.0\n",
              "9     3.0\n",
              "dtype: float64"
            ]
          },
          "execution_count": 172,
          "metadata": {},
          "output_type": "execute_result"
        }
      ],
      "source": [
        "s.rank(method='first')"
      ]
    },
    {
      "cell_type": "code",
      "execution_count": 173,
      "metadata": {
        "id": "QRI_Z5KO2zG4"
      },
      "outputs": [
        {
          "data": {
            "text/plain": [
              "0     1.0\n",
              "1     5.0\n",
              "2     8.0\n",
              "3     9.0\n",
              "4     4.0\n",
              "5     2.0\n",
              "6     5.0\n",
              "7    10.0\n",
              "8     5.0\n",
              "9     2.0\n",
              "dtype: float64"
            ]
          },
          "execution_count": 173,
          "metadata": {},
          "output_type": "execute_result"
        }
      ],
      "source": [
        "s.rank(method='min')"
      ]
    },
    {
      "cell_type": "markdown",
      "metadata": {
        "id": "P6wc1ajiQe4r"
      },
      "source": [
        "### 고성능 연산"
      ]
    },
    {
      "cell_type": "code",
      "execution_count": 174,
      "metadata": {
        "id": "E4u2T6oSQhFu"
      },
      "outputs": [],
      "source": [
        "nrows, ncols = 100000, 100\n",
        "df1, df2, df3, df4 = (pd.DataFrame(np.random.rand(nrows, ncols)) for i in range(4))"
      ]
    },
    {
      "cell_type": "code",
      "execution_count": 175,
      "metadata": {
        "id": "SGg14HnyQvk2"
      },
      "outputs": [
        {
          "name": "stdout",
          "output_type": "stream",
          "text": [
            "7.95 ms ± 85.6 µs per loop (mean ± std. dev. of 7 runs, 100 loops each)\n"
          ]
        }
      ],
      "source": [
        "%timeit df1 + df2 + df3 + df4"
      ]
    },
    {
      "cell_type": "code",
      "execution_count": 176,
      "metadata": {
        "id": "k_GkpEnMQ0Fi"
      },
      "outputs": [
        {
          "name": "stdout",
          "output_type": "stream",
          "text": [
            "5.1 ms ± 10.4 µs per loop (mean ± std. dev. of 7 runs, 100 loops each)\n"
          ]
        }
      ],
      "source": [
        "%timeit pd.eval('df1 + df2 + df3 + df4')"
      ]
    },
    {
      "cell_type": "code",
      "execution_count": 177,
      "metadata": {
        "id": "qPAdmY8cQ7Sn"
      },
      "outputs": [
        {
          "name": "stdout",
          "output_type": "stream",
          "text": [
            "14.5 ms ± 223 µs per loop (mean ± std. dev. of 7 runs, 100 loops each)\n"
          ]
        }
      ],
      "source": [
        "%timeit df1 * -df2 / (-df3 * df4)"
      ]
    },
    {
      "cell_type": "code",
      "execution_count": 178,
      "metadata": {
        "id": "eZzfGsGuRE3e"
      },
      "outputs": [
        {
          "name": "stdout",
          "output_type": "stream",
          "text": [
            "5.51 ms ± 257 µs per loop (mean ± std. dev. of 7 runs, 100 loops each)\n"
          ]
        }
      ],
      "source": [
        "%timeit pd.eval('df1 * -df2 / (-df3 * df4)')"
      ]
    },
    {
      "cell_type": "code",
      "execution_count": 179,
      "metadata": {
        "id": "snts2jL2RVq-"
      },
      "outputs": [
        {
          "name": "stdout",
          "output_type": "stream",
          "text": [
            "9.55 ms ± 318 µs per loop (mean ± std. dev. of 7 runs, 100 loops each)\n"
          ]
        }
      ],
      "source": [
        "%timeit (df1 < df2) & (df2 <= df3) & (df3 != df4)"
      ]
    },
    {
      "cell_type": "code",
      "execution_count": 180,
      "metadata": {
        "id": "nb6RYOJtRdE8"
      },
      "outputs": [
        {
          "name": "stdout",
          "output_type": "stream",
          "text": [
            "11.2 ms ± 188 µs per loop (mean ± std. dev. of 7 runs, 100 loops each)\n"
          ]
        }
      ],
      "source": [
        "%timeit pd.eval('(df1 < df2) & (df2 <= df3) & (df3 != df4)')"
      ]
    },
    {
      "cell_type": "code",
      "execution_count": 181,
      "metadata": {
        "id": "MPmsqO2jRyVp"
      },
      "outputs": [
        {
          "data": {
            "text/html": [
              "<div>\n",
              "<style scoped>\n",
              "    .dataframe tbody tr th:only-of-type {\n",
              "        vertical-align: middle;\n",
              "    }\n",
              "\n",
              "    .dataframe tbody tr th {\n",
              "        vertical-align: top;\n",
              "    }\n",
              "\n",
              "    .dataframe thead th {\n",
              "        text-align: right;\n",
              "    }\n",
              "</style>\n",
              "<table border=\"1\" class=\"dataframe\">\n",
              "  <thead>\n",
              "    <tr style=\"text-align: right;\">\n",
              "      <th></th>\n",
              "      <th>A</th>\n",
              "      <th>B</th>\n",
              "      <th>C</th>\n",
              "      <th>D</th>\n",
              "      <th>E</th>\n",
              "    </tr>\n",
              "  </thead>\n",
              "  <tbody>\n",
              "    <tr>\n",
              "      <th>0</th>\n",
              "      <td>0.045774</td>\n",
              "      <td>0.975336</td>\n",
              "      <td>0.649040</td>\n",
              "      <td>0.927788</td>\n",
              "      <td>0.825934</td>\n",
              "    </tr>\n",
              "    <tr>\n",
              "      <th>1</th>\n",
              "      <td>0.324503</td>\n",
              "      <td>0.762620</td>\n",
              "      <td>0.470373</td>\n",
              "      <td>0.566045</td>\n",
              "      <td>0.954133</td>\n",
              "    </tr>\n",
              "    <tr>\n",
              "      <th>2</th>\n",
              "      <td>0.706391</td>\n",
              "      <td>0.543369</td>\n",
              "      <td>0.784455</td>\n",
              "      <td>0.994484</td>\n",
              "      <td>0.852799</td>\n",
              "    </tr>\n",
              "    <tr>\n",
              "      <th>3</th>\n",
              "      <td>0.733963</td>\n",
              "      <td>0.232357</td>\n",
              "      <td>0.372880</td>\n",
              "      <td>0.778815</td>\n",
              "      <td>0.214627</td>\n",
              "    </tr>\n",
              "    <tr>\n",
              "      <th>4</th>\n",
              "      <td>0.789938</td>\n",
              "      <td>0.456190</td>\n",
              "      <td>0.703442</td>\n",
              "      <td>0.794796</td>\n",
              "      <td>0.614962</td>\n",
              "    </tr>\n",
              "  </tbody>\n",
              "</table>\n",
              "</div>"
            ],
            "text/plain": [
              "          A         B         C         D         E\n",
              "0  0.045774  0.975336  0.649040  0.927788  0.825934\n",
              "1  0.324503  0.762620  0.470373  0.566045  0.954133\n",
              "2  0.706391  0.543369  0.784455  0.994484  0.852799\n",
              "3  0.733963  0.232357  0.372880  0.778815  0.214627\n",
              "4  0.789938  0.456190  0.703442  0.794796  0.614962"
            ]
          },
          "execution_count": 181,
          "metadata": {},
          "output_type": "execute_result"
        }
      ],
      "source": [
        "df = pd.DataFrame(np.random.rand(1000000, 5), columns=list('ABCDE'))\n",
        "df.head()"
      ]
    },
    {
      "cell_type": "code",
      "execution_count": 182,
      "metadata": {
        "id": "GNbooD08TyAD"
      },
      "outputs": [
        {
          "name": "stdout",
          "output_type": "stream",
          "text": [
            "3.74 ms ± 71.2 µs per loop (mean ± std. dev. of 7 runs, 100 loops each)\n"
          ]
        }
      ],
      "source": [
        "%timeit df['A'] + df['B'] / df['C'] - df['D'] * df['E']"
      ]
    },
    {
      "cell_type": "code",
      "execution_count": 183,
      "metadata": {
        "id": "fgwU0lS4UOl0"
      },
      "outputs": [
        {
          "name": "stdout",
          "output_type": "stream",
          "text": [
            "1.81 ms ± 24.6 µs per loop (mean ± std. dev. of 7 runs, 1000 loops each)\n"
          ]
        }
      ],
      "source": [
        "#%timeit pd.eval(\"df['A'] + df['B'] / df['C'] - df['D'] * df['E']\")\n",
        "#python 3.9.9에선 작동함\n",
        "%timeit pd.eval(\"df.A + df.B / df.C - df.D * df.E\")"
      ]
    },
    {
      "cell_type": "code",
      "execution_count": 184,
      "metadata": {
        "id": "roVl8OAOUiHt"
      },
      "outputs": [
        {
          "name": "stdout",
          "output_type": "stream",
          "text": [
            "2.74 ms ± 66.9 µs per loop (mean ± std. dev. of 7 runs, 100 loops each)\n"
          ]
        }
      ],
      "source": [
        "%timeit df.eval('A + B / C - D * E')"
      ]
    },
    {
      "cell_type": "code",
      "execution_count": 185,
      "metadata": {
        "id": "Hud7fAOtVGDC"
      },
      "outputs": [
        {
          "data": {
            "text/html": [
              "<div>\n",
              "<style scoped>\n",
              "    .dataframe tbody tr th:only-of-type {\n",
              "        vertical-align: middle;\n",
              "    }\n",
              "\n",
              "    .dataframe tbody tr th {\n",
              "        vertical-align: top;\n",
              "    }\n",
              "\n",
              "    .dataframe thead th {\n",
              "        text-align: right;\n",
              "    }\n",
              "</style>\n",
              "<table border=\"1\" class=\"dataframe\">\n",
              "  <thead>\n",
              "    <tr style=\"text-align: right;\">\n",
              "      <th></th>\n",
              "      <th>A</th>\n",
              "      <th>B</th>\n",
              "      <th>C</th>\n",
              "      <th>D</th>\n",
              "      <th>E</th>\n",
              "      <th>R</th>\n",
              "    </tr>\n",
              "  </thead>\n",
              "  <tbody>\n",
              "    <tr>\n",
              "      <th>0</th>\n",
              "      <td>0.045774</td>\n",
              "      <td>0.975336</td>\n",
              "      <td>0.649040</td>\n",
              "      <td>0.927788</td>\n",
              "      <td>0.825934</td>\n",
              "      <td>0.782218</td>\n",
              "    </tr>\n",
              "    <tr>\n",
              "      <th>1</th>\n",
              "      <td>0.324503</td>\n",
              "      <td>0.762620</td>\n",
              "      <td>0.470373</td>\n",
              "      <td>0.566045</td>\n",
              "      <td>0.954133</td>\n",
              "      <td>1.405731</td>\n",
              "    </tr>\n",
              "    <tr>\n",
              "      <th>2</th>\n",
              "      <td>0.706391</td>\n",
              "      <td>0.543369</td>\n",
              "      <td>0.784455</td>\n",
              "      <td>0.994484</td>\n",
              "      <td>0.852799</td>\n",
              "      <td>0.550968</td>\n",
              "    </tr>\n",
              "    <tr>\n",
              "      <th>3</th>\n",
              "      <td>0.733963</td>\n",
              "      <td>0.232357</td>\n",
              "      <td>0.372880</td>\n",
              "      <td>0.778815</td>\n",
              "      <td>0.214627</td>\n",
              "      <td>1.189951</td>\n",
              "    </tr>\n",
              "    <tr>\n",
              "      <th>4</th>\n",
              "      <td>0.789938</td>\n",
              "      <td>0.456190</td>\n",
              "      <td>0.703442</td>\n",
              "      <td>0.794796</td>\n",
              "      <td>0.614962</td>\n",
              "      <td>0.949679</td>\n",
              "    </tr>\n",
              "  </tbody>\n",
              "</table>\n",
              "</div>"
            ],
            "text/plain": [
              "          A         B         C         D         E         R\n",
              "0  0.045774  0.975336  0.649040  0.927788  0.825934  0.782218\n",
              "1  0.324503  0.762620  0.470373  0.566045  0.954133  1.405731\n",
              "2  0.706391  0.543369  0.784455  0.994484  0.852799  0.550968\n",
              "3  0.733963  0.232357  0.372880  0.778815  0.214627  1.189951\n",
              "4  0.789938  0.456190  0.703442  0.794796  0.614962  0.949679"
            ]
          },
          "execution_count": 185,
          "metadata": {},
          "output_type": "execute_result"
        }
      ],
      "source": [
        "df.eval('R = A + B / C - D * E', inplace=True)\n",
        "df.head()"
      ]
    },
    {
      "cell_type": "code",
      "execution_count": 186,
      "metadata": {
        "id": "qFaoM0OBVUbX"
      },
      "outputs": [
        {
          "data": {
            "text/html": [
              "<div>\n",
              "<style scoped>\n",
              "    .dataframe tbody tr th:only-of-type {\n",
              "        vertical-align: middle;\n",
              "    }\n",
              "\n",
              "    .dataframe tbody tr th {\n",
              "        vertical-align: top;\n",
              "    }\n",
              "\n",
              "    .dataframe thead th {\n",
              "        text-align: right;\n",
              "    }\n",
              "</style>\n",
              "<table border=\"1\" class=\"dataframe\">\n",
              "  <thead>\n",
              "    <tr style=\"text-align: right;\">\n",
              "      <th></th>\n",
              "      <th>A</th>\n",
              "      <th>B</th>\n",
              "      <th>C</th>\n",
              "      <th>D</th>\n",
              "      <th>E</th>\n",
              "      <th>R</th>\n",
              "    </tr>\n",
              "  </thead>\n",
              "  <tbody>\n",
              "    <tr>\n",
              "      <th>0</th>\n",
              "      <td>0.045774</td>\n",
              "      <td>0.975336</td>\n",
              "      <td>0.649040</td>\n",
              "      <td>0.927788</td>\n",
              "      <td>0.825934</td>\n",
              "      <td>-0.690670</td>\n",
              "    </tr>\n",
              "    <tr>\n",
              "      <th>1</th>\n",
              "      <td>0.324503</td>\n",
              "      <td>0.762620</td>\n",
              "      <td>0.470373</td>\n",
              "      <td>0.566045</td>\n",
              "      <td>0.954133</td>\n",
              "      <td>-0.756724</td>\n",
              "    </tr>\n",
              "    <tr>\n",
              "      <th>2</th>\n",
              "      <td>0.706391</td>\n",
              "      <td>0.543369</td>\n",
              "      <td>0.784455</td>\n",
              "      <td>0.994484</td>\n",
              "      <td>0.852799</td>\n",
              "      <td>0.861815</td>\n",
              "    </tr>\n",
              "    <tr>\n",
              "      <th>3</th>\n",
              "      <td>0.733963</td>\n",
              "      <td>0.232357</td>\n",
              "      <td>0.372880</td>\n",
              "      <td>0.778815</td>\n",
              "      <td>0.214627</td>\n",
              "      <td>0.277976</td>\n",
              "    </tr>\n",
              "    <tr>\n",
              "      <th>4</th>\n",
              "      <td>0.789938</td>\n",
              "      <td>0.456190</td>\n",
              "      <td>0.703442</td>\n",
              "      <td>0.794796</td>\n",
              "      <td>0.614962</td>\n",
              "      <td>0.630196</td>\n",
              "    </tr>\n",
              "  </tbody>\n",
              "</table>\n",
              "</div>"
            ],
            "text/plain": [
              "          A         B         C         D         E         R\n",
              "0  0.045774  0.975336  0.649040  0.927788  0.825934 -0.690670\n",
              "1  0.324503  0.762620  0.470373  0.566045  0.954133 -0.756724\n",
              "2  0.706391  0.543369  0.784455  0.994484  0.852799  0.861815\n",
              "3  0.733963  0.232357  0.372880  0.778815  0.214627  0.277976\n",
              "4  0.789938  0.456190  0.703442  0.794796  0.614962  0.630196"
            ]
          },
          "execution_count": 186,
          "metadata": {},
          "output_type": "execute_result"
        }
      ],
      "source": [
        "df.eval('R = A - B / C + D * E', inplace=True)\n",
        "df.head()"
      ]
    },
    {
      "cell_type": "code",
      "execution_count": 187,
      "metadata": {
        "id": "3_Z4QpBuVrJY"
      },
      "outputs": [
        {
          "data": {
            "text/plain": [
              "0         0.501308\n",
              "1         0.711328\n",
              "2         1.496943\n",
              "3         1.169066\n",
              "4         1.454858\n",
              "            ...   \n",
              "999995    0.124556\n",
              "999996    0.403737\n",
              "999997    1.295091\n",
              "999998    0.382681\n",
              "999999    1.048113\n",
              "Length: 1000000, dtype: float64"
            ]
          },
          "execution_count": 187,
          "metadata": {},
          "output_type": "execute_result"
        }
      ],
      "source": [
        "col_mean = df.mean(1)\n",
        "df['A'] + col_mean"
      ]
    },
    {
      "cell_type": "code",
      "execution_count": 188,
      "metadata": {
        "id": "Ge5N1eHXV7hs"
      },
      "outputs": [
        {
          "data": {
            "text/plain": [
              "0         0.501308\n",
              "1         0.711328\n",
              "2         1.496943\n",
              "3         1.169066\n",
              "4         1.454858\n",
              "            ...   \n",
              "999995    0.124556\n",
              "999996    0.403737\n",
              "999997    1.295091\n",
              "999998    0.382681\n",
              "999999    1.048113\n",
              "Length: 1000000, dtype: float64"
            ]
          },
          "execution_count": 188,
          "metadata": {},
          "output_type": "execute_result"
        }
      ],
      "source": [
        "df.eval('A + @col_mean')  #@: 외부 변수 참조"
      ]
    },
    {
      "cell_type": "code",
      "execution_count": 189,
      "metadata": {
        "id": "lSoS8MRFWKSm"
      },
      "outputs": [
        {
          "data": {
            "text/html": [
              "<div>\n",
              "<style scoped>\n",
              "    .dataframe tbody tr th:only-of-type {\n",
              "        vertical-align: middle;\n",
              "    }\n",
              "\n",
              "    .dataframe tbody tr th {\n",
              "        vertical-align: top;\n",
              "    }\n",
              "\n",
              "    .dataframe thead th {\n",
              "        text-align: right;\n",
              "    }\n",
              "</style>\n",
              "<table border=\"1\" class=\"dataframe\">\n",
              "  <thead>\n",
              "    <tr style=\"text-align: right;\">\n",
              "      <th></th>\n",
              "      <th>A</th>\n",
              "      <th>B</th>\n",
              "      <th>C</th>\n",
              "      <th>D</th>\n",
              "      <th>E</th>\n",
              "      <th>R</th>\n",
              "    </tr>\n",
              "  </thead>\n",
              "  <tbody>\n",
              "    <tr>\n",
              "      <th>6</th>\n",
              "      <td>0.178748</td>\n",
              "      <td>0.409609</td>\n",
              "      <td>0.422959</td>\n",
              "      <td>0.609745</td>\n",
              "      <td>0.004123</td>\n",
              "      <td>-0.787175</td>\n",
              "    </tr>\n",
              "    <tr>\n",
              "      <th>12</th>\n",
              "      <td>0.487340</td>\n",
              "      <td>0.233595</td>\n",
              "      <td>0.356902</td>\n",
              "      <td>0.185667</td>\n",
              "      <td>0.148487</td>\n",
              "      <td>-0.139598</td>\n",
              "    </tr>\n",
              "    <tr>\n",
              "      <th>22</th>\n",
              "      <td>0.324898</td>\n",
              "      <td>0.144079</td>\n",
              "      <td>0.209422</td>\n",
              "      <td>0.207813</td>\n",
              "      <td>0.063572</td>\n",
              "      <td>-0.349873</td>\n",
              "    </tr>\n",
              "    <tr>\n",
              "      <th>31</th>\n",
              "      <td>0.156400</td>\n",
              "      <td>0.359984</td>\n",
              "      <td>0.427178</td>\n",
              "      <td>0.820849</td>\n",
              "      <td>0.920796</td>\n",
              "      <td>0.069532</td>\n",
              "    </tr>\n",
              "    <tr>\n",
              "      <th>43</th>\n",
              "      <td>0.037114</td>\n",
              "      <td>0.181367</td>\n",
              "      <td>0.155790</td>\n",
              "      <td>0.061775</td>\n",
              "      <td>0.404809</td>\n",
              "      <td>-1.102057</td>\n",
              "    </tr>\n",
              "    <tr>\n",
              "      <th>...</th>\n",
              "      <td>...</td>\n",
              "      <td>...</td>\n",
              "      <td>...</td>\n",
              "      <td>...</td>\n",
              "      <td>...</td>\n",
              "      <td>...</td>\n",
              "    </tr>\n",
              "    <tr>\n",
              "      <th>999962</th>\n",
              "      <td>0.281802</td>\n",
              "      <td>0.465144</td>\n",
              "      <td>0.326395</td>\n",
              "      <td>0.516592</td>\n",
              "      <td>0.749495</td>\n",
              "      <td>-0.756111</td>\n",
              "    </tr>\n",
              "    <tr>\n",
              "      <th>999975</th>\n",
              "      <td>0.269639</td>\n",
              "      <td>0.259686</td>\n",
              "      <td>0.019533</td>\n",
              "      <td>0.804973</td>\n",
              "      <td>0.815002</td>\n",
              "      <td>-12.369198</td>\n",
              "    </tr>\n",
              "    <tr>\n",
              "      <th>999977</th>\n",
              "      <td>0.243848</td>\n",
              "      <td>0.174044</td>\n",
              "      <td>0.455387</td>\n",
              "      <td>0.337917</td>\n",
              "      <td>0.081376</td>\n",
              "      <td>-0.110843</td>\n",
              "    </tr>\n",
              "    <tr>\n",
              "      <th>999995</th>\n",
              "      <td>0.034205</td>\n",
              "      <td>0.147858</td>\n",
              "      <td>0.072874</td>\n",
              "      <td>0.853840</td>\n",
              "      <td>0.770340</td>\n",
              "      <td>-1.337013</td>\n",
              "    </tr>\n",
              "    <tr>\n",
              "      <th>999996</th>\n",
              "      <td>0.352490</td>\n",
              "      <td>0.443432</td>\n",
              "      <td>0.281203</td>\n",
              "      <td>0.217133</td>\n",
              "      <td>0.195248</td>\n",
              "      <td>-1.182026</td>\n",
              "    </tr>\n",
              "  </tbody>\n",
              "</table>\n",
              "<p>124959 rows × 6 columns</p>\n",
              "</div>"
            ],
            "text/plain": [
              "               A         B         C         D         E          R\n",
              "6       0.178748  0.409609  0.422959  0.609745  0.004123  -0.787175\n",
              "12      0.487340  0.233595  0.356902  0.185667  0.148487  -0.139598\n",
              "22      0.324898  0.144079  0.209422  0.207813  0.063572  -0.349873\n",
              "31      0.156400  0.359984  0.427178  0.820849  0.920796   0.069532\n",
              "43      0.037114  0.181367  0.155790  0.061775  0.404809  -1.102057\n",
              "...          ...       ...       ...       ...       ...        ...\n",
              "999962  0.281802  0.465144  0.326395  0.516592  0.749495  -0.756111\n",
              "999975  0.269639  0.259686  0.019533  0.804973  0.815002 -12.369198\n",
              "999977  0.243848  0.174044  0.455387  0.337917  0.081376  -0.110843\n",
              "999995  0.034205  0.147858  0.072874  0.853840  0.770340  -1.337013\n",
              "999996  0.352490  0.443432  0.281203  0.217133  0.195248  -1.182026\n",
              "\n",
              "[124959 rows x 6 columns]"
            ]
          },
          "execution_count": 189,
          "metadata": {},
          "output_type": "execute_result"
        }
      ],
      "source": [
        "df[(df.A < 0.5) & (df.B < 0.5) & (df.C < 0.5)]"
      ]
    },
    {
      "cell_type": "code",
      "execution_count": 190,
      "metadata": {
        "id": "DQGuGdV0WZ3Y"
      },
      "outputs": [
        {
          "data": {
            "text/html": [
              "<div>\n",
              "<style scoped>\n",
              "    .dataframe tbody tr th:only-of-type {\n",
              "        vertical-align: middle;\n",
              "    }\n",
              "\n",
              "    .dataframe tbody tr th {\n",
              "        vertical-align: top;\n",
              "    }\n",
              "\n",
              "    .dataframe thead th {\n",
              "        text-align: right;\n",
              "    }\n",
              "</style>\n",
              "<table border=\"1\" class=\"dataframe\">\n",
              "  <thead>\n",
              "    <tr style=\"text-align: right;\">\n",
              "      <th></th>\n",
              "      <th>A</th>\n",
              "      <th>B</th>\n",
              "      <th>C</th>\n",
              "      <th>D</th>\n",
              "      <th>E</th>\n",
              "      <th>R</th>\n",
              "    </tr>\n",
              "  </thead>\n",
              "  <tbody>\n",
              "    <tr>\n",
              "      <th>6</th>\n",
              "      <td>0.178748</td>\n",
              "      <td>0.409609</td>\n",
              "      <td>0.422959</td>\n",
              "      <td>0.609745</td>\n",
              "      <td>0.004123</td>\n",
              "      <td>-0.787175</td>\n",
              "    </tr>\n",
              "    <tr>\n",
              "      <th>12</th>\n",
              "      <td>0.487340</td>\n",
              "      <td>0.233595</td>\n",
              "      <td>0.356902</td>\n",
              "      <td>0.185667</td>\n",
              "      <td>0.148487</td>\n",
              "      <td>-0.139598</td>\n",
              "    </tr>\n",
              "    <tr>\n",
              "      <th>22</th>\n",
              "      <td>0.324898</td>\n",
              "      <td>0.144079</td>\n",
              "      <td>0.209422</td>\n",
              "      <td>0.207813</td>\n",
              "      <td>0.063572</td>\n",
              "      <td>-0.349873</td>\n",
              "    </tr>\n",
              "    <tr>\n",
              "      <th>31</th>\n",
              "      <td>0.156400</td>\n",
              "      <td>0.359984</td>\n",
              "      <td>0.427178</td>\n",
              "      <td>0.820849</td>\n",
              "      <td>0.920796</td>\n",
              "      <td>0.069532</td>\n",
              "    </tr>\n",
              "    <tr>\n",
              "      <th>43</th>\n",
              "      <td>0.037114</td>\n",
              "      <td>0.181367</td>\n",
              "      <td>0.155790</td>\n",
              "      <td>0.061775</td>\n",
              "      <td>0.404809</td>\n",
              "      <td>-1.102057</td>\n",
              "    </tr>\n",
              "    <tr>\n",
              "      <th>...</th>\n",
              "      <td>...</td>\n",
              "      <td>...</td>\n",
              "      <td>...</td>\n",
              "      <td>...</td>\n",
              "      <td>...</td>\n",
              "      <td>...</td>\n",
              "    </tr>\n",
              "    <tr>\n",
              "      <th>999962</th>\n",
              "      <td>0.281802</td>\n",
              "      <td>0.465144</td>\n",
              "      <td>0.326395</td>\n",
              "      <td>0.516592</td>\n",
              "      <td>0.749495</td>\n",
              "      <td>-0.756111</td>\n",
              "    </tr>\n",
              "    <tr>\n",
              "      <th>999975</th>\n",
              "      <td>0.269639</td>\n",
              "      <td>0.259686</td>\n",
              "      <td>0.019533</td>\n",
              "      <td>0.804973</td>\n",
              "      <td>0.815002</td>\n",
              "      <td>-12.369198</td>\n",
              "    </tr>\n",
              "    <tr>\n",
              "      <th>999977</th>\n",
              "      <td>0.243848</td>\n",
              "      <td>0.174044</td>\n",
              "      <td>0.455387</td>\n",
              "      <td>0.337917</td>\n",
              "      <td>0.081376</td>\n",
              "      <td>-0.110843</td>\n",
              "    </tr>\n",
              "    <tr>\n",
              "      <th>999995</th>\n",
              "      <td>0.034205</td>\n",
              "      <td>0.147858</td>\n",
              "      <td>0.072874</td>\n",
              "      <td>0.853840</td>\n",
              "      <td>0.770340</td>\n",
              "      <td>-1.337013</td>\n",
              "    </tr>\n",
              "    <tr>\n",
              "      <th>999996</th>\n",
              "      <td>0.352490</td>\n",
              "      <td>0.443432</td>\n",
              "      <td>0.281203</td>\n",
              "      <td>0.217133</td>\n",
              "      <td>0.195248</td>\n",
              "      <td>-1.182026</td>\n",
              "    </tr>\n",
              "  </tbody>\n",
              "</table>\n",
              "<p>124959 rows × 6 columns</p>\n",
              "</div>"
            ],
            "text/plain": [
              "               A         B         C         D         E          R\n",
              "6       0.178748  0.409609  0.422959  0.609745  0.004123  -0.787175\n",
              "12      0.487340  0.233595  0.356902  0.185667  0.148487  -0.139598\n",
              "22      0.324898  0.144079  0.209422  0.207813  0.063572  -0.349873\n",
              "31      0.156400  0.359984  0.427178  0.820849  0.920796   0.069532\n",
              "43      0.037114  0.181367  0.155790  0.061775  0.404809  -1.102057\n",
              "...          ...       ...       ...       ...       ...        ...\n",
              "999962  0.281802  0.465144  0.326395  0.516592  0.749495  -0.756111\n",
              "999975  0.269639  0.259686  0.019533  0.804973  0.815002 -12.369198\n",
              "999977  0.243848  0.174044  0.455387  0.337917  0.081376  -0.110843\n",
              "999995  0.034205  0.147858  0.072874  0.853840  0.770340  -1.337013\n",
              "999996  0.352490  0.443432  0.281203  0.217133  0.195248  -1.182026\n",
              "\n",
              "[124959 rows x 6 columns]"
            ]
          },
          "execution_count": 190,
          "metadata": {},
          "output_type": "execute_result"
        }
      ],
      "source": [
        "pd.eval(\"df[(df.A < 0.5) & (df.B < 0.5) & (df.C < 0.5)]\")"
      ]
    },
    {
      "cell_type": "code",
      "execution_count": 191,
      "metadata": {
        "id": "xhWXd_LEW3wL"
      },
      "outputs": [
        {
          "data": {
            "text/html": [
              "<div>\n",
              "<style scoped>\n",
              "    .dataframe tbody tr th:only-of-type {\n",
              "        vertical-align: middle;\n",
              "    }\n",
              "\n",
              "    .dataframe tbody tr th {\n",
              "        vertical-align: top;\n",
              "    }\n",
              "\n",
              "    .dataframe thead th {\n",
              "        text-align: right;\n",
              "    }\n",
              "</style>\n",
              "<table border=\"1\" class=\"dataframe\">\n",
              "  <thead>\n",
              "    <tr style=\"text-align: right;\">\n",
              "      <th></th>\n",
              "      <th>A</th>\n",
              "      <th>B</th>\n",
              "      <th>C</th>\n",
              "      <th>D</th>\n",
              "      <th>E</th>\n",
              "      <th>R</th>\n",
              "    </tr>\n",
              "  </thead>\n",
              "  <tbody>\n",
              "    <tr>\n",
              "      <th>6</th>\n",
              "      <td>0.178748</td>\n",
              "      <td>0.409609</td>\n",
              "      <td>0.422959</td>\n",
              "      <td>0.609745</td>\n",
              "      <td>0.004123</td>\n",
              "      <td>-0.787175</td>\n",
              "    </tr>\n",
              "    <tr>\n",
              "      <th>12</th>\n",
              "      <td>0.487340</td>\n",
              "      <td>0.233595</td>\n",
              "      <td>0.356902</td>\n",
              "      <td>0.185667</td>\n",
              "      <td>0.148487</td>\n",
              "      <td>-0.139598</td>\n",
              "    </tr>\n",
              "    <tr>\n",
              "      <th>22</th>\n",
              "      <td>0.324898</td>\n",
              "      <td>0.144079</td>\n",
              "      <td>0.209422</td>\n",
              "      <td>0.207813</td>\n",
              "      <td>0.063572</td>\n",
              "      <td>-0.349873</td>\n",
              "    </tr>\n",
              "    <tr>\n",
              "      <th>31</th>\n",
              "      <td>0.156400</td>\n",
              "      <td>0.359984</td>\n",
              "      <td>0.427178</td>\n",
              "      <td>0.820849</td>\n",
              "      <td>0.920796</td>\n",
              "      <td>0.069532</td>\n",
              "    </tr>\n",
              "    <tr>\n",
              "      <th>43</th>\n",
              "      <td>0.037114</td>\n",
              "      <td>0.181367</td>\n",
              "      <td>0.155790</td>\n",
              "      <td>0.061775</td>\n",
              "      <td>0.404809</td>\n",
              "      <td>-1.102057</td>\n",
              "    </tr>\n",
              "    <tr>\n",
              "      <th>...</th>\n",
              "      <td>...</td>\n",
              "      <td>...</td>\n",
              "      <td>...</td>\n",
              "      <td>...</td>\n",
              "      <td>...</td>\n",
              "      <td>...</td>\n",
              "    </tr>\n",
              "    <tr>\n",
              "      <th>999962</th>\n",
              "      <td>0.281802</td>\n",
              "      <td>0.465144</td>\n",
              "      <td>0.326395</td>\n",
              "      <td>0.516592</td>\n",
              "      <td>0.749495</td>\n",
              "      <td>-0.756111</td>\n",
              "    </tr>\n",
              "    <tr>\n",
              "      <th>999975</th>\n",
              "      <td>0.269639</td>\n",
              "      <td>0.259686</td>\n",
              "      <td>0.019533</td>\n",
              "      <td>0.804973</td>\n",
              "      <td>0.815002</td>\n",
              "      <td>-12.369198</td>\n",
              "    </tr>\n",
              "    <tr>\n",
              "      <th>999977</th>\n",
              "      <td>0.243848</td>\n",
              "      <td>0.174044</td>\n",
              "      <td>0.455387</td>\n",
              "      <td>0.337917</td>\n",
              "      <td>0.081376</td>\n",
              "      <td>-0.110843</td>\n",
              "    </tr>\n",
              "    <tr>\n",
              "      <th>999995</th>\n",
              "      <td>0.034205</td>\n",
              "      <td>0.147858</td>\n",
              "      <td>0.072874</td>\n",
              "      <td>0.853840</td>\n",
              "      <td>0.770340</td>\n",
              "      <td>-1.337013</td>\n",
              "    </tr>\n",
              "    <tr>\n",
              "      <th>999996</th>\n",
              "      <td>0.352490</td>\n",
              "      <td>0.443432</td>\n",
              "      <td>0.281203</td>\n",
              "      <td>0.217133</td>\n",
              "      <td>0.195248</td>\n",
              "      <td>-1.182026</td>\n",
              "    </tr>\n",
              "  </tbody>\n",
              "</table>\n",
              "<p>124959 rows × 6 columns</p>\n",
              "</div>"
            ],
            "text/plain": [
              "               A         B         C         D         E          R\n",
              "6       0.178748  0.409609  0.422959  0.609745  0.004123  -0.787175\n",
              "12      0.487340  0.233595  0.356902  0.185667  0.148487  -0.139598\n",
              "22      0.324898  0.144079  0.209422  0.207813  0.063572  -0.349873\n",
              "31      0.156400  0.359984  0.427178  0.820849  0.920796   0.069532\n",
              "43      0.037114  0.181367  0.155790  0.061775  0.404809  -1.102057\n",
              "...          ...       ...       ...       ...       ...        ...\n",
              "999962  0.281802  0.465144  0.326395  0.516592  0.749495  -0.756111\n",
              "999975  0.269639  0.259686  0.019533  0.804973  0.815002 -12.369198\n",
              "999977  0.243848  0.174044  0.455387  0.337917  0.081376  -0.110843\n",
              "999995  0.034205  0.147858  0.072874  0.853840  0.770340  -1.337013\n",
              "999996  0.352490  0.443432  0.281203  0.217133  0.195248  -1.182026\n",
              "\n",
              "[124959 rows x 6 columns]"
            ]
          },
          "execution_count": 191,
          "metadata": {},
          "output_type": "execute_result"
        }
      ],
      "source": [
        "df.query(\"(A < 0.5) and (B < 0.5) and (C < 0.5)\")"
      ]
    },
    {
      "cell_type": "code",
      "execution_count": 192,
      "metadata": {
        "id": "3LhXrBqBXZ3k"
      },
      "outputs": [
        {
          "data": {
            "text/html": [
              "<div>\n",
              "<style scoped>\n",
              "    .dataframe tbody tr th:only-of-type {\n",
              "        vertical-align: middle;\n",
              "    }\n",
              "\n",
              "    .dataframe tbody tr th {\n",
              "        vertical-align: top;\n",
              "    }\n",
              "\n",
              "    .dataframe thead th {\n",
              "        text-align: right;\n",
              "    }\n",
              "</style>\n",
              "<table border=\"1\" class=\"dataframe\">\n",
              "  <thead>\n",
              "    <tr style=\"text-align: right;\">\n",
              "      <th></th>\n",
              "      <th>A</th>\n",
              "      <th>B</th>\n",
              "      <th>C</th>\n",
              "      <th>D</th>\n",
              "      <th>E</th>\n",
              "      <th>R</th>\n",
              "    </tr>\n",
              "  </thead>\n",
              "  <tbody>\n",
              "    <tr>\n",
              "      <th>6</th>\n",
              "      <td>0.178748</td>\n",
              "      <td>0.409609</td>\n",
              "      <td>0.422959</td>\n",
              "      <td>0.609745</td>\n",
              "      <td>0.004123</td>\n",
              "      <td>-0.787175</td>\n",
              "    </tr>\n",
              "    <tr>\n",
              "      <th>12</th>\n",
              "      <td>0.487340</td>\n",
              "      <td>0.233595</td>\n",
              "      <td>0.356902</td>\n",
              "      <td>0.185667</td>\n",
              "      <td>0.148487</td>\n",
              "      <td>-0.139598</td>\n",
              "    </tr>\n",
              "    <tr>\n",
              "      <th>13</th>\n",
              "      <td>0.109669</td>\n",
              "      <td>0.099254</td>\n",
              "      <td>0.977260</td>\n",
              "      <td>0.887020</td>\n",
              "      <td>0.333869</td>\n",
              "      <td>0.304254</td>\n",
              "    </tr>\n",
              "    <tr>\n",
              "      <th>19</th>\n",
              "      <td>0.098582</td>\n",
              "      <td>0.092973</td>\n",
              "      <td>0.596501</td>\n",
              "      <td>0.545067</td>\n",
              "      <td>0.991664</td>\n",
              "      <td>0.483241</td>\n",
              "    </tr>\n",
              "    <tr>\n",
              "      <th>22</th>\n",
              "      <td>0.324898</td>\n",
              "      <td>0.144079</td>\n",
              "      <td>0.209422</td>\n",
              "      <td>0.207813</td>\n",
              "      <td>0.063572</td>\n",
              "      <td>-0.349873</td>\n",
              "    </tr>\n",
              "    <tr>\n",
              "      <th>...</th>\n",
              "      <td>...</td>\n",
              "      <td>...</td>\n",
              "      <td>...</td>\n",
              "      <td>...</td>\n",
              "      <td>...</td>\n",
              "      <td>...</td>\n",
              "    </tr>\n",
              "    <tr>\n",
              "      <th>999977</th>\n",
              "      <td>0.243848</td>\n",
              "      <td>0.174044</td>\n",
              "      <td>0.455387</td>\n",
              "      <td>0.337917</td>\n",
              "      <td>0.081376</td>\n",
              "      <td>-0.110843</td>\n",
              "    </tr>\n",
              "    <tr>\n",
              "      <th>999979</th>\n",
              "      <td>0.294530</td>\n",
              "      <td>0.439862</td>\n",
              "      <td>0.716062</td>\n",
              "      <td>0.913893</td>\n",
              "      <td>0.363409</td>\n",
              "      <td>0.012367</td>\n",
              "    </tr>\n",
              "    <tr>\n",
              "      <th>999987</th>\n",
              "      <td>0.373946</td>\n",
              "      <td>0.215852</td>\n",
              "      <td>0.929614</td>\n",
              "      <td>0.705169</td>\n",
              "      <td>0.864052</td>\n",
              "      <td>0.751053</td>\n",
              "    </tr>\n",
              "    <tr>\n",
              "      <th>999995</th>\n",
              "      <td>0.034205</td>\n",
              "      <td>0.147858</td>\n",
              "      <td>0.072874</td>\n",
              "      <td>0.853840</td>\n",
              "      <td>0.770340</td>\n",
              "      <td>-1.337013</td>\n",
              "    </tr>\n",
              "    <tr>\n",
              "      <th>999996</th>\n",
              "      <td>0.352490</td>\n",
              "      <td>0.443432</td>\n",
              "      <td>0.281203</td>\n",
              "      <td>0.217133</td>\n",
              "      <td>0.195248</td>\n",
              "      <td>-1.182026</td>\n",
              "    </tr>\n",
              "  </tbody>\n",
              "</table>\n",
              "<p>249319 rows × 6 columns</p>\n",
              "</div>"
            ],
            "text/plain": [
              "               A         B         C         D         E         R\n",
              "6       0.178748  0.409609  0.422959  0.609745  0.004123 -0.787175\n",
              "12      0.487340  0.233595  0.356902  0.185667  0.148487 -0.139598\n",
              "13      0.109669  0.099254  0.977260  0.887020  0.333869  0.304254\n",
              "19      0.098582  0.092973  0.596501  0.545067  0.991664  0.483241\n",
              "22      0.324898  0.144079  0.209422  0.207813  0.063572 -0.349873\n",
              "...          ...       ...       ...       ...       ...       ...\n",
              "999977  0.243848  0.174044  0.455387  0.337917  0.081376 -0.110843\n",
              "999979  0.294530  0.439862  0.716062  0.913893  0.363409  0.012367\n",
              "999987  0.373946  0.215852  0.929614  0.705169  0.864052  0.751053\n",
              "999995  0.034205  0.147858  0.072874  0.853840  0.770340 -1.337013\n",
              "999996  0.352490  0.443432  0.281203  0.217133  0.195248 -1.182026\n",
              "\n",
              "[249319 rows x 6 columns]"
            ]
          },
          "execution_count": 192,
          "metadata": {},
          "output_type": "execute_result"
        }
      ],
      "source": [
        "col_mean = df['D'].mean()\n",
        "df[(df.A < col_mean) & (df.B <col_mean)]"
      ]
    },
    {
      "cell_type": "code",
      "execution_count": 193,
      "metadata": {
        "id": "r2JhqnOzXnKh"
      },
      "outputs": [
        {
          "data": {
            "text/html": [
              "<div>\n",
              "<style scoped>\n",
              "    .dataframe tbody tr th:only-of-type {\n",
              "        vertical-align: middle;\n",
              "    }\n",
              "\n",
              "    .dataframe tbody tr th {\n",
              "        vertical-align: top;\n",
              "    }\n",
              "\n",
              "    .dataframe thead th {\n",
              "        text-align: right;\n",
              "    }\n",
              "</style>\n",
              "<table border=\"1\" class=\"dataframe\">\n",
              "  <thead>\n",
              "    <tr style=\"text-align: right;\">\n",
              "      <th></th>\n",
              "      <th>A</th>\n",
              "      <th>B</th>\n",
              "      <th>C</th>\n",
              "      <th>D</th>\n",
              "      <th>E</th>\n",
              "      <th>R</th>\n",
              "    </tr>\n",
              "  </thead>\n",
              "  <tbody>\n",
              "    <tr>\n",
              "      <th>6</th>\n",
              "      <td>0.178748</td>\n",
              "      <td>0.409609</td>\n",
              "      <td>0.422959</td>\n",
              "      <td>0.609745</td>\n",
              "      <td>0.004123</td>\n",
              "      <td>-0.787175</td>\n",
              "    </tr>\n",
              "    <tr>\n",
              "      <th>12</th>\n",
              "      <td>0.487340</td>\n",
              "      <td>0.233595</td>\n",
              "      <td>0.356902</td>\n",
              "      <td>0.185667</td>\n",
              "      <td>0.148487</td>\n",
              "      <td>-0.139598</td>\n",
              "    </tr>\n",
              "    <tr>\n",
              "      <th>13</th>\n",
              "      <td>0.109669</td>\n",
              "      <td>0.099254</td>\n",
              "      <td>0.977260</td>\n",
              "      <td>0.887020</td>\n",
              "      <td>0.333869</td>\n",
              "      <td>0.304254</td>\n",
              "    </tr>\n",
              "    <tr>\n",
              "      <th>19</th>\n",
              "      <td>0.098582</td>\n",
              "      <td>0.092973</td>\n",
              "      <td>0.596501</td>\n",
              "      <td>0.545067</td>\n",
              "      <td>0.991664</td>\n",
              "      <td>0.483241</td>\n",
              "    </tr>\n",
              "    <tr>\n",
              "      <th>22</th>\n",
              "      <td>0.324898</td>\n",
              "      <td>0.144079</td>\n",
              "      <td>0.209422</td>\n",
              "      <td>0.207813</td>\n",
              "      <td>0.063572</td>\n",
              "      <td>-0.349873</td>\n",
              "    </tr>\n",
              "    <tr>\n",
              "      <th>...</th>\n",
              "      <td>...</td>\n",
              "      <td>...</td>\n",
              "      <td>...</td>\n",
              "      <td>...</td>\n",
              "      <td>...</td>\n",
              "      <td>...</td>\n",
              "    </tr>\n",
              "    <tr>\n",
              "      <th>999977</th>\n",
              "      <td>0.243848</td>\n",
              "      <td>0.174044</td>\n",
              "      <td>0.455387</td>\n",
              "      <td>0.337917</td>\n",
              "      <td>0.081376</td>\n",
              "      <td>-0.110843</td>\n",
              "    </tr>\n",
              "    <tr>\n",
              "      <th>999979</th>\n",
              "      <td>0.294530</td>\n",
              "      <td>0.439862</td>\n",
              "      <td>0.716062</td>\n",
              "      <td>0.913893</td>\n",
              "      <td>0.363409</td>\n",
              "      <td>0.012367</td>\n",
              "    </tr>\n",
              "    <tr>\n",
              "      <th>999987</th>\n",
              "      <td>0.373946</td>\n",
              "      <td>0.215852</td>\n",
              "      <td>0.929614</td>\n",
              "      <td>0.705169</td>\n",
              "      <td>0.864052</td>\n",
              "      <td>0.751053</td>\n",
              "    </tr>\n",
              "    <tr>\n",
              "      <th>999995</th>\n",
              "      <td>0.034205</td>\n",
              "      <td>0.147858</td>\n",
              "      <td>0.072874</td>\n",
              "      <td>0.853840</td>\n",
              "      <td>0.770340</td>\n",
              "      <td>-1.337013</td>\n",
              "    </tr>\n",
              "    <tr>\n",
              "      <th>999996</th>\n",
              "      <td>0.352490</td>\n",
              "      <td>0.443432</td>\n",
              "      <td>0.281203</td>\n",
              "      <td>0.217133</td>\n",
              "      <td>0.195248</td>\n",
              "      <td>-1.182026</td>\n",
              "    </tr>\n",
              "  </tbody>\n",
              "</table>\n",
              "<p>249319 rows × 6 columns</p>\n",
              "</div>"
            ],
            "text/plain": [
              "               A         B         C         D         E         R\n",
              "6       0.178748  0.409609  0.422959  0.609745  0.004123 -0.787175\n",
              "12      0.487340  0.233595  0.356902  0.185667  0.148487 -0.139598\n",
              "13      0.109669  0.099254  0.977260  0.887020  0.333869  0.304254\n",
              "19      0.098582  0.092973  0.596501  0.545067  0.991664  0.483241\n",
              "22      0.324898  0.144079  0.209422  0.207813  0.063572 -0.349873\n",
              "...          ...       ...       ...       ...       ...       ...\n",
              "999977  0.243848  0.174044  0.455387  0.337917  0.081376 -0.110843\n",
              "999979  0.294530  0.439862  0.716062  0.913893  0.363409  0.012367\n",
              "999987  0.373946  0.215852  0.929614  0.705169  0.864052  0.751053\n",
              "999995  0.034205  0.147858  0.072874  0.853840  0.770340 -1.337013\n",
              "999996  0.352490  0.443432  0.281203  0.217133  0.195248 -1.182026\n",
              "\n",
              "[249319 rows x 6 columns]"
            ]
          },
          "execution_count": 193,
          "metadata": {},
          "output_type": "execute_result"
        }
      ],
      "source": [
        "df.query('A < @col_mean and B < @col_mean')"
      ]
    },
    {
      "cell_type": "markdown",
      "metadata": {
        "id": "098-pgqPZvz6"
      },
      "source": [
        "## 데이터 결합"
      ]
    },
    {
      "cell_type": "markdown",
      "metadata": {
        "id": "BCSOonbBpkpT"
      },
      "source": [
        "### Concat() / Append()"
      ]
    },
    {
      "cell_type": "code",
      "execution_count": 194,
      "metadata": {
        "id": "cTmO8pFKcd_W"
      },
      "outputs": [
        {
          "data": {
            "text/plain": [
              "1    a\n",
              "2    b\n",
              "3    c\n",
              "4    d\n",
              "dtype: object"
            ]
          },
          "execution_count": 194,
          "metadata": {},
          "output_type": "execute_result"
        }
      ],
      "source": [
        "s1 = pd.Series(['a', 'b'], index=[1, 2])\n",
        "s2 = pd.Series(['c', 'd'], index=[3, 4])\n",
        "pd.concat([s1, s2])"
      ]
    },
    {
      "cell_type": "code",
      "execution_count": 195,
      "metadata": {
        "id": "HnvsxJHqrAxj"
      },
      "outputs": [],
      "source": [
        "def create_df(cols, idx):\n",
        "    data = {c: [str(c.lower()) + str(i) for i in idx] for c in cols}\n",
        "    print(data)\n",
        "    return pd.DataFrame(data, idx)\n"
      ]
    },
    {
      "cell_type": "code",
      "execution_count": 196,
      "metadata": {
        "id": "mIqdS3_saR2D"
      },
      "outputs": [
        {
          "name": "stdout",
          "output_type": "stream",
          "text": [
            "{'A': ['a1', 'a2'], 'B': ['b1', 'b2']}\n"
          ]
        },
        {
          "data": {
            "text/html": [
              "<div>\n",
              "<style scoped>\n",
              "    .dataframe tbody tr th:only-of-type {\n",
              "        vertical-align: middle;\n",
              "    }\n",
              "\n",
              "    .dataframe tbody tr th {\n",
              "        vertical-align: top;\n",
              "    }\n",
              "\n",
              "    .dataframe thead th {\n",
              "        text-align: right;\n",
              "    }\n",
              "</style>\n",
              "<table border=\"1\" class=\"dataframe\">\n",
              "  <thead>\n",
              "    <tr style=\"text-align: right;\">\n",
              "      <th></th>\n",
              "      <th>A</th>\n",
              "      <th>B</th>\n",
              "    </tr>\n",
              "  </thead>\n",
              "  <tbody>\n",
              "    <tr>\n",
              "      <th>1</th>\n",
              "      <td>a1</td>\n",
              "      <td>b1</td>\n",
              "    </tr>\n",
              "    <tr>\n",
              "      <th>2</th>\n",
              "      <td>a2</td>\n",
              "      <td>b2</td>\n",
              "    </tr>\n",
              "  </tbody>\n",
              "</table>\n",
              "</div>"
            ],
            "text/plain": [
              "    A   B\n",
              "1  a1  b1\n",
              "2  a2  b2"
            ]
          },
          "execution_count": 196,
          "metadata": {},
          "output_type": "execute_result"
        }
      ],
      "source": [
        "df1 = create_df('AB', [1, 2])\n",
        "df1"
      ]
    },
    {
      "cell_type": "code",
      "execution_count": 197,
      "metadata": {
        "id": "9zjCkIpKawR7"
      },
      "outputs": [
        {
          "name": "stdout",
          "output_type": "stream",
          "text": [
            "{'A': ['a3', 'a4'], 'B': ['b3', 'b4']}\n"
          ]
        },
        {
          "data": {
            "text/html": [
              "<div>\n",
              "<style scoped>\n",
              "    .dataframe tbody tr th:only-of-type {\n",
              "        vertical-align: middle;\n",
              "    }\n",
              "\n",
              "    .dataframe tbody tr th {\n",
              "        vertical-align: top;\n",
              "    }\n",
              "\n",
              "    .dataframe thead th {\n",
              "        text-align: right;\n",
              "    }\n",
              "</style>\n",
              "<table border=\"1\" class=\"dataframe\">\n",
              "  <thead>\n",
              "    <tr style=\"text-align: right;\">\n",
              "      <th></th>\n",
              "      <th>A</th>\n",
              "      <th>B</th>\n",
              "    </tr>\n",
              "  </thead>\n",
              "  <tbody>\n",
              "    <tr>\n",
              "      <th>3</th>\n",
              "      <td>a3</td>\n",
              "      <td>b3</td>\n",
              "    </tr>\n",
              "    <tr>\n",
              "      <th>4</th>\n",
              "      <td>a4</td>\n",
              "      <td>b4</td>\n",
              "    </tr>\n",
              "  </tbody>\n",
              "</table>\n",
              "</div>"
            ],
            "text/plain": [
              "    A   B\n",
              "3  a3  b3\n",
              "4  a4  b4"
            ]
          },
          "execution_count": 197,
          "metadata": {},
          "output_type": "execute_result"
        }
      ],
      "source": [
        "df2 = create_df('AB', [3, 4])\n",
        "df2"
      ]
    },
    {
      "cell_type": "code",
      "execution_count": 198,
      "metadata": {
        "id": "1BoDpvACc_J2"
      },
      "outputs": [
        {
          "data": {
            "text/html": [
              "<div>\n",
              "<style scoped>\n",
              "    .dataframe tbody tr th:only-of-type {\n",
              "        vertical-align: middle;\n",
              "    }\n",
              "\n",
              "    .dataframe tbody tr th {\n",
              "        vertical-align: top;\n",
              "    }\n",
              "\n",
              "    .dataframe thead th {\n",
              "        text-align: right;\n",
              "    }\n",
              "</style>\n",
              "<table border=\"1\" class=\"dataframe\">\n",
              "  <thead>\n",
              "    <tr style=\"text-align: right;\">\n",
              "      <th></th>\n",
              "      <th>A</th>\n",
              "      <th>B</th>\n",
              "    </tr>\n",
              "  </thead>\n",
              "  <tbody>\n",
              "    <tr>\n",
              "      <th>1</th>\n",
              "      <td>a1</td>\n",
              "      <td>b1</td>\n",
              "    </tr>\n",
              "    <tr>\n",
              "      <th>2</th>\n",
              "      <td>a2</td>\n",
              "      <td>b2</td>\n",
              "    </tr>\n",
              "    <tr>\n",
              "      <th>3</th>\n",
              "      <td>a3</td>\n",
              "      <td>b3</td>\n",
              "    </tr>\n",
              "    <tr>\n",
              "      <th>4</th>\n",
              "      <td>a4</td>\n",
              "      <td>b4</td>\n",
              "    </tr>\n",
              "  </tbody>\n",
              "</table>\n",
              "</div>"
            ],
            "text/plain": [
              "    A   B\n",
              "1  a1  b1\n",
              "2  a2  b2\n",
              "3  a3  b3\n",
              "4  a4  b4"
            ]
          },
          "execution_count": 198,
          "metadata": {},
          "output_type": "execute_result"
        }
      ],
      "source": [
        "pd.concat([df1, df2])"
      ]
    },
    {
      "cell_type": "code",
      "execution_count": 199,
      "metadata": {
        "id": "JJL0XcfGdBVu"
      },
      "outputs": [
        {
          "name": "stdout",
          "output_type": "stream",
          "text": [
            "{'A': ['a0', 'a1'], 'B': ['b0', 'b1']}\n"
          ]
        },
        {
          "data": {
            "text/html": [
              "<div>\n",
              "<style scoped>\n",
              "    .dataframe tbody tr th:only-of-type {\n",
              "        vertical-align: middle;\n",
              "    }\n",
              "\n",
              "    .dataframe tbody tr th {\n",
              "        vertical-align: top;\n",
              "    }\n",
              "\n",
              "    .dataframe thead th {\n",
              "        text-align: right;\n",
              "    }\n",
              "</style>\n",
              "<table border=\"1\" class=\"dataframe\">\n",
              "  <thead>\n",
              "    <tr style=\"text-align: right;\">\n",
              "      <th></th>\n",
              "      <th>A</th>\n",
              "      <th>B</th>\n",
              "    </tr>\n",
              "  </thead>\n",
              "  <tbody>\n",
              "    <tr>\n",
              "      <th>0</th>\n",
              "      <td>a0</td>\n",
              "      <td>b0</td>\n",
              "    </tr>\n",
              "    <tr>\n",
              "      <th>1</th>\n",
              "      <td>a1</td>\n",
              "      <td>b1</td>\n",
              "    </tr>\n",
              "  </tbody>\n",
              "</table>\n",
              "</div>"
            ],
            "text/plain": [
              "    A   B\n",
              "0  a0  b0\n",
              "1  a1  b1"
            ]
          },
          "execution_count": 199,
          "metadata": {},
          "output_type": "execute_result"
        }
      ],
      "source": [
        "df3 = create_df('AB', [0, 1])\n",
        "df3"
      ]
    },
    {
      "cell_type": "code",
      "execution_count": 200,
      "metadata": {
        "id": "lYA3JakEdgKV"
      },
      "outputs": [
        {
          "name": "stdout",
          "output_type": "stream",
          "text": [
            "{'C': ['c0', 'c1'], 'D': ['d0', 'd1']}\n"
          ]
        },
        {
          "data": {
            "text/html": [
              "<div>\n",
              "<style scoped>\n",
              "    .dataframe tbody tr th:only-of-type {\n",
              "        vertical-align: middle;\n",
              "    }\n",
              "\n",
              "    .dataframe tbody tr th {\n",
              "        vertical-align: top;\n",
              "    }\n",
              "\n",
              "    .dataframe thead th {\n",
              "        text-align: right;\n",
              "    }\n",
              "</style>\n",
              "<table border=\"1\" class=\"dataframe\">\n",
              "  <thead>\n",
              "    <tr style=\"text-align: right;\">\n",
              "      <th></th>\n",
              "      <th>C</th>\n",
              "      <th>D</th>\n",
              "    </tr>\n",
              "  </thead>\n",
              "  <tbody>\n",
              "    <tr>\n",
              "      <th>0</th>\n",
              "      <td>c0</td>\n",
              "      <td>d0</td>\n",
              "    </tr>\n",
              "    <tr>\n",
              "      <th>1</th>\n",
              "      <td>c1</td>\n",
              "      <td>d1</td>\n",
              "    </tr>\n",
              "  </tbody>\n",
              "</table>\n",
              "</div>"
            ],
            "text/plain": [
              "    C   D\n",
              "0  c0  d0\n",
              "1  c1  d1"
            ]
          },
          "execution_count": 200,
          "metadata": {},
          "output_type": "execute_result"
        }
      ],
      "source": [
        "df4 = create_df('CD', [0, 1])\n",
        "df4"
      ]
    },
    {
      "cell_type": "code",
      "execution_count": 201,
      "metadata": {
        "id": "8QH83dOOdiAs"
      },
      "outputs": [
        {
          "data": {
            "text/html": [
              "<div>\n",
              "<style scoped>\n",
              "    .dataframe tbody tr th:only-of-type {\n",
              "        vertical-align: middle;\n",
              "    }\n",
              "\n",
              "    .dataframe tbody tr th {\n",
              "        vertical-align: top;\n",
              "    }\n",
              "\n",
              "    .dataframe thead th {\n",
              "        text-align: right;\n",
              "    }\n",
              "</style>\n",
              "<table border=\"1\" class=\"dataframe\">\n",
              "  <thead>\n",
              "    <tr style=\"text-align: right;\">\n",
              "      <th></th>\n",
              "      <th>A</th>\n",
              "      <th>B</th>\n",
              "      <th>C</th>\n",
              "      <th>D</th>\n",
              "    </tr>\n",
              "  </thead>\n",
              "  <tbody>\n",
              "    <tr>\n",
              "      <th>0</th>\n",
              "      <td>a0</td>\n",
              "      <td>b0</td>\n",
              "      <td>NaN</td>\n",
              "      <td>NaN</td>\n",
              "    </tr>\n",
              "    <tr>\n",
              "      <th>1</th>\n",
              "      <td>a1</td>\n",
              "      <td>b1</td>\n",
              "      <td>NaN</td>\n",
              "      <td>NaN</td>\n",
              "    </tr>\n",
              "    <tr>\n",
              "      <th>0</th>\n",
              "      <td>NaN</td>\n",
              "      <td>NaN</td>\n",
              "      <td>c0</td>\n",
              "      <td>d0</td>\n",
              "    </tr>\n",
              "    <tr>\n",
              "      <th>1</th>\n",
              "      <td>NaN</td>\n",
              "      <td>NaN</td>\n",
              "      <td>c1</td>\n",
              "      <td>d1</td>\n",
              "    </tr>\n",
              "  </tbody>\n",
              "</table>\n",
              "</div>"
            ],
            "text/plain": [
              "     A    B    C    D\n",
              "0   a0   b0  NaN  NaN\n",
              "1   a1   b1  NaN  NaN\n",
              "0  NaN  NaN   c0   d0\n",
              "1  NaN  NaN   c1   d1"
            ]
          },
          "execution_count": 201,
          "metadata": {},
          "output_type": "execute_result"
        }
      ],
      "source": [
        "pd.concat([df3, df4])"
      ]
    },
    {
      "cell_type": "code",
      "execution_count": 202,
      "metadata": {},
      "outputs": [
        {
          "data": {
            "text/html": [
              "<div>\n",
              "<style scoped>\n",
              "    .dataframe tbody tr th:only-of-type {\n",
              "        vertical-align: middle;\n",
              "    }\n",
              "\n",
              "    .dataframe tbody tr th {\n",
              "        vertical-align: top;\n",
              "    }\n",
              "\n",
              "    .dataframe thead th {\n",
              "        text-align: right;\n",
              "    }\n",
              "</style>\n",
              "<table border=\"1\" class=\"dataframe\">\n",
              "  <thead>\n",
              "    <tr style=\"text-align: right;\">\n",
              "      <th></th>\n",
              "      <th>A</th>\n",
              "      <th>B</th>\n",
              "      <th>C</th>\n",
              "      <th>D</th>\n",
              "    </tr>\n",
              "  </thead>\n",
              "  <tbody>\n",
              "    <tr>\n",
              "      <th>0</th>\n",
              "      <td>a0</td>\n",
              "      <td>b0</td>\n",
              "      <td>c0</td>\n",
              "      <td>d0</td>\n",
              "    </tr>\n",
              "    <tr>\n",
              "      <th>1</th>\n",
              "      <td>a1</td>\n",
              "      <td>b1</td>\n",
              "      <td>c1</td>\n",
              "      <td>d1</td>\n",
              "    </tr>\n",
              "  </tbody>\n",
              "</table>\n",
              "</div>"
            ],
            "text/plain": [
              "    A   B   C   D\n",
              "0  a0  b0  c0  d0\n",
              "1  a1  b1  c1  d1"
            ]
          },
          "execution_count": 202,
          "metadata": {},
          "output_type": "execute_result"
        }
      ],
      "source": [
        "pd.concat([df3, df4], axis=1)"
      ]
    },
    {
      "cell_type": "code",
      "execution_count": 203,
      "metadata": {},
      "outputs": [
        {
          "data": {
            "text/html": [
              "<div>\n",
              "<style scoped>\n",
              "    .dataframe tbody tr th:only-of-type {\n",
              "        vertical-align: middle;\n",
              "    }\n",
              "\n",
              "    .dataframe tbody tr th {\n",
              "        vertical-align: top;\n",
              "    }\n",
              "\n",
              "    .dataframe thead th {\n",
              "        text-align: right;\n",
              "    }\n",
              "</style>\n",
              "<table border=\"1\" class=\"dataframe\">\n",
              "  <thead>\n",
              "    <tr style=\"text-align: right;\">\n",
              "      <th></th>\n",
              "      <th>A</th>\n",
              "      <th>B</th>\n",
              "    </tr>\n",
              "  </thead>\n",
              "  <tbody>\n",
              "    <tr>\n",
              "      <th>1</th>\n",
              "      <td>a1</td>\n",
              "      <td>b1</td>\n",
              "    </tr>\n",
              "    <tr>\n",
              "      <th>2</th>\n",
              "      <td>a2</td>\n",
              "      <td>b2</td>\n",
              "    </tr>\n",
              "    <tr>\n",
              "      <th>0</th>\n",
              "      <td>a0</td>\n",
              "      <td>b0</td>\n",
              "    </tr>\n",
              "    <tr>\n",
              "      <th>1</th>\n",
              "      <td>a1</td>\n",
              "      <td>b1</td>\n",
              "    </tr>\n",
              "  </tbody>\n",
              "</table>\n",
              "</div>"
            ],
            "text/plain": [
              "    A   B\n",
              "1  a1  b1\n",
              "2  a2  b2\n",
              "0  a0  b0\n",
              "1  a1  b1"
            ]
          },
          "execution_count": 203,
          "metadata": {},
          "output_type": "execute_result"
        }
      ],
      "source": [
        "pd.concat([df1, df3])"
      ]
    },
    {
      "cell_type": "code",
      "execution_count": 204,
      "metadata": {
        "id": "b-ZOQg0gdk8E"
      },
      "outputs": [],
      "source": [
        "#pd.concat([df1, df3], verify_integrity=True)"
      ]
    },
    {
      "cell_type": "code",
      "execution_count": 205,
      "metadata": {
        "id": "v_SSoUNIeeGO"
      },
      "outputs": [
        {
          "data": {
            "text/html": [
              "<div>\n",
              "<style scoped>\n",
              "    .dataframe tbody tr th:only-of-type {\n",
              "        vertical-align: middle;\n",
              "    }\n",
              "\n",
              "    .dataframe tbody tr th {\n",
              "        vertical-align: top;\n",
              "    }\n",
              "\n",
              "    .dataframe thead th {\n",
              "        text-align: right;\n",
              "    }\n",
              "</style>\n",
              "<table border=\"1\" class=\"dataframe\">\n",
              "  <thead>\n",
              "    <tr style=\"text-align: right;\">\n",
              "      <th></th>\n",
              "      <th>A</th>\n",
              "      <th>B</th>\n",
              "    </tr>\n",
              "  </thead>\n",
              "  <tbody>\n",
              "    <tr>\n",
              "      <th>0</th>\n",
              "      <td>a1</td>\n",
              "      <td>b1</td>\n",
              "    </tr>\n",
              "    <tr>\n",
              "      <th>1</th>\n",
              "      <td>a2</td>\n",
              "      <td>b2</td>\n",
              "    </tr>\n",
              "    <tr>\n",
              "      <th>2</th>\n",
              "      <td>a0</td>\n",
              "      <td>b0</td>\n",
              "    </tr>\n",
              "    <tr>\n",
              "      <th>3</th>\n",
              "      <td>a1</td>\n",
              "      <td>b1</td>\n",
              "    </tr>\n",
              "  </tbody>\n",
              "</table>\n",
              "</div>"
            ],
            "text/plain": [
              "    A   B\n",
              "0  a1  b1\n",
              "1  a2  b2\n",
              "2  a0  b0\n",
              "3  a1  b1"
            ]
          },
          "execution_count": 205,
          "metadata": {},
          "output_type": "execute_result"
        }
      ],
      "source": [
        "pd.concat([df1, df3], ignore_index=True)"
      ]
    },
    {
      "cell_type": "code",
      "execution_count": 206,
      "metadata": {
        "id": "FxzZqsfYfGIr"
      },
      "outputs": [
        {
          "data": {
            "text/html": [
              "<div>\n",
              "<style scoped>\n",
              "    .dataframe tbody tr th:only-of-type {\n",
              "        vertical-align: middle;\n",
              "    }\n",
              "\n",
              "    .dataframe tbody tr th {\n",
              "        vertical-align: top;\n",
              "    }\n",
              "\n",
              "    .dataframe thead th {\n",
              "        text-align: right;\n",
              "    }\n",
              "</style>\n",
              "<table border=\"1\" class=\"dataframe\">\n",
              "  <thead>\n",
              "    <tr style=\"text-align: right;\">\n",
              "      <th></th>\n",
              "      <th></th>\n",
              "      <th>A</th>\n",
              "      <th>B</th>\n",
              "    </tr>\n",
              "  </thead>\n",
              "  <tbody>\n",
              "    <tr>\n",
              "      <th rowspan=\"2\" valign=\"top\">X</th>\n",
              "      <th>1</th>\n",
              "      <td>a1</td>\n",
              "      <td>b1</td>\n",
              "    </tr>\n",
              "    <tr>\n",
              "      <th>2</th>\n",
              "      <td>a2</td>\n",
              "      <td>b2</td>\n",
              "    </tr>\n",
              "    <tr>\n",
              "      <th rowspan=\"2\" valign=\"top\">Y</th>\n",
              "      <th>0</th>\n",
              "      <td>a0</td>\n",
              "      <td>b0</td>\n",
              "    </tr>\n",
              "    <tr>\n",
              "      <th>1</th>\n",
              "      <td>a1</td>\n",
              "      <td>b1</td>\n",
              "    </tr>\n",
              "  </tbody>\n",
              "</table>\n",
              "</div>"
            ],
            "text/plain": [
              "      A   B\n",
              "X 1  a1  b1\n",
              "  2  a2  b2\n",
              "Y 0  a0  b0\n",
              "  1  a1  b1"
            ]
          },
          "execution_count": 206,
          "metadata": {},
          "output_type": "execute_result"
        }
      ],
      "source": [
        "pd.concat([df1, df3], keys=['X', 'Y'])"
      ]
    },
    {
      "cell_type": "code",
      "execution_count": 207,
      "metadata": {
        "id": "HNPzK-lyfRI7"
      },
      "outputs": [
        {
          "name": "stdout",
          "output_type": "stream",
          "text": [
            "{'A': ['a1', 'a2'], 'B': ['b1', 'b2'], 'C': ['c1', 'c2']}\n",
            "{'B': ['b3', 'b4'], 'C': ['c3', 'c4'], 'D': ['d3', 'd4']}\n"
          ]
        },
        {
          "data": {
            "text/html": [
              "<div>\n",
              "<style scoped>\n",
              "    .dataframe tbody tr th:only-of-type {\n",
              "        vertical-align: middle;\n",
              "    }\n",
              "\n",
              "    .dataframe tbody tr th {\n",
              "        vertical-align: top;\n",
              "    }\n",
              "\n",
              "    .dataframe thead th {\n",
              "        text-align: right;\n",
              "    }\n",
              "</style>\n",
              "<table border=\"1\" class=\"dataframe\">\n",
              "  <thead>\n",
              "    <tr style=\"text-align: right;\">\n",
              "      <th></th>\n",
              "      <th>A</th>\n",
              "      <th>B</th>\n",
              "      <th>C</th>\n",
              "      <th>D</th>\n",
              "    </tr>\n",
              "  </thead>\n",
              "  <tbody>\n",
              "    <tr>\n",
              "      <th>1</th>\n",
              "      <td>a1</td>\n",
              "      <td>b1</td>\n",
              "      <td>c1</td>\n",
              "      <td>NaN</td>\n",
              "    </tr>\n",
              "    <tr>\n",
              "      <th>2</th>\n",
              "      <td>a2</td>\n",
              "      <td>b2</td>\n",
              "      <td>c2</td>\n",
              "      <td>NaN</td>\n",
              "    </tr>\n",
              "    <tr>\n",
              "      <th>3</th>\n",
              "      <td>NaN</td>\n",
              "      <td>b3</td>\n",
              "      <td>c3</td>\n",
              "      <td>d3</td>\n",
              "    </tr>\n",
              "    <tr>\n",
              "      <th>4</th>\n",
              "      <td>NaN</td>\n",
              "      <td>b4</td>\n",
              "      <td>c4</td>\n",
              "      <td>d4</td>\n",
              "    </tr>\n",
              "  </tbody>\n",
              "</table>\n",
              "</div>"
            ],
            "text/plain": [
              "     A   B   C    D\n",
              "1   a1  b1  c1  NaN\n",
              "2   a2  b2  c2  NaN\n",
              "3  NaN  b3  c3   d3\n",
              "4  NaN  b4  c4   d4"
            ]
          },
          "execution_count": 207,
          "metadata": {},
          "output_type": "execute_result"
        }
      ],
      "source": [
        "df5 = create_df('ABC', [1, 2])\n",
        "df6 = create_df('BCD', [3, 4])\n",
        "pd.concat([df5, df6])"
      ]
    },
    {
      "cell_type": "code",
      "execution_count": 208,
      "metadata": {
        "id": "ceNNvVDvfV0m"
      },
      "outputs": [
        {
          "data": {
            "text/html": [
              "<div>\n",
              "<style scoped>\n",
              "    .dataframe tbody tr th:only-of-type {\n",
              "        vertical-align: middle;\n",
              "    }\n",
              "\n",
              "    .dataframe tbody tr th {\n",
              "        vertical-align: top;\n",
              "    }\n",
              "\n",
              "    .dataframe thead th {\n",
              "        text-align: right;\n",
              "    }\n",
              "</style>\n",
              "<table border=\"1\" class=\"dataframe\">\n",
              "  <thead>\n",
              "    <tr style=\"text-align: right;\">\n",
              "      <th></th>\n",
              "      <th>B</th>\n",
              "      <th>C</th>\n",
              "    </tr>\n",
              "  </thead>\n",
              "  <tbody>\n",
              "    <tr>\n",
              "      <th>1</th>\n",
              "      <td>b1</td>\n",
              "      <td>c1</td>\n",
              "    </tr>\n",
              "    <tr>\n",
              "      <th>2</th>\n",
              "      <td>b2</td>\n",
              "      <td>c2</td>\n",
              "    </tr>\n",
              "    <tr>\n",
              "      <th>3</th>\n",
              "      <td>b3</td>\n",
              "      <td>c3</td>\n",
              "    </tr>\n",
              "    <tr>\n",
              "      <th>4</th>\n",
              "      <td>b4</td>\n",
              "      <td>c4</td>\n",
              "    </tr>\n",
              "  </tbody>\n",
              "</table>\n",
              "</div>"
            ],
            "text/plain": [
              "    B   C\n",
              "1  b1  c1\n",
              "2  b2  c2\n",
              "3  b3  c3\n",
              "4  b4  c4"
            ]
          },
          "execution_count": 208,
          "metadata": {},
          "output_type": "execute_result"
        }
      ],
      "source": [
        "pd.concat([df5, df6], join='inner')"
      ]
    },
    {
      "cell_type": "code",
      "execution_count": 209,
      "metadata": {
        "id": "ymWRBGuwgD5W"
      },
      "outputs": [
        {
          "data": {
            "text/html": [
              "<div>\n",
              "<style scoped>\n",
              "    .dataframe tbody tr th:only-of-type {\n",
              "        vertical-align: middle;\n",
              "    }\n",
              "\n",
              "    .dataframe tbody tr th {\n",
              "        vertical-align: top;\n",
              "    }\n",
              "\n",
              "    .dataframe thead th {\n",
              "        text-align: right;\n",
              "    }\n",
              "</style>\n",
              "<table border=\"1\" class=\"dataframe\">\n",
              "  <thead>\n",
              "    <tr style=\"text-align: right;\">\n",
              "      <th></th>\n",
              "      <th>A</th>\n",
              "      <th>B</th>\n",
              "      <th>C</th>\n",
              "      <th>D</th>\n",
              "    </tr>\n",
              "  </thead>\n",
              "  <tbody>\n",
              "    <tr>\n",
              "      <th>1</th>\n",
              "      <td>a1</td>\n",
              "      <td>b1</td>\n",
              "      <td>c1</td>\n",
              "      <td>NaN</td>\n",
              "    </tr>\n",
              "    <tr>\n",
              "      <th>2</th>\n",
              "      <td>a2</td>\n",
              "      <td>b2</td>\n",
              "      <td>c2</td>\n",
              "      <td>NaN</td>\n",
              "    </tr>\n",
              "    <tr>\n",
              "      <th>3</th>\n",
              "      <td>NaN</td>\n",
              "      <td>b3</td>\n",
              "      <td>c3</td>\n",
              "      <td>d3</td>\n",
              "    </tr>\n",
              "    <tr>\n",
              "      <th>4</th>\n",
              "      <td>NaN</td>\n",
              "      <td>b4</td>\n",
              "      <td>c4</td>\n",
              "      <td>d4</td>\n",
              "    </tr>\n",
              "  </tbody>\n",
              "</table>\n",
              "</div>"
            ],
            "text/plain": [
              "     A   B   C    D\n",
              "1   a1  b1  c1  NaN\n",
              "2   a2  b2  c2  NaN\n",
              "3  NaN  b3  c3   d3\n",
              "4  NaN  b4  c4   d4"
            ]
          },
          "execution_count": 209,
          "metadata": {},
          "output_type": "execute_result"
        }
      ],
      "source": [
        "df5.append(df6)"
      ]
    },
    {
      "cell_type": "markdown",
      "metadata": {
        "id": "XCDss0yIppQt"
      },
      "source": [
        "### 병합과 조인"
      ]
    },
    {
      "cell_type": "code",
      "execution_count": 210,
      "metadata": {
        "id": "tD2y5H3EosYY"
      },
      "outputs": [
        {
          "data": {
            "text/html": [
              "<div>\n",
              "<style scoped>\n",
              "    .dataframe tbody tr th:only-of-type {\n",
              "        vertical-align: middle;\n",
              "    }\n",
              "\n",
              "    .dataframe tbody tr th {\n",
              "        vertical-align: top;\n",
              "    }\n",
              "\n",
              "    .dataframe thead th {\n",
              "        text-align: right;\n",
              "    }\n",
              "</style>\n",
              "<table border=\"1\" class=\"dataframe\">\n",
              "  <thead>\n",
              "    <tr style=\"text-align: right;\">\n",
              "      <th></th>\n",
              "      <th>학생</th>\n",
              "      <th>학과</th>\n",
              "    </tr>\n",
              "  </thead>\n",
              "  <tbody>\n",
              "    <tr>\n",
              "      <th>0</th>\n",
              "      <td>홍길동</td>\n",
              "      <td>경영학과</td>\n",
              "    </tr>\n",
              "    <tr>\n",
              "      <th>1</th>\n",
              "      <td>이순신</td>\n",
              "      <td>교육학과</td>\n",
              "    </tr>\n",
              "    <tr>\n",
              "      <th>2</th>\n",
              "      <td>임꺽정</td>\n",
              "      <td>컴퓨터학과</td>\n",
              "    </tr>\n",
              "    <tr>\n",
              "      <th>3</th>\n",
              "      <td>김유신</td>\n",
              "      <td>통계학과</td>\n",
              "    </tr>\n",
              "  </tbody>\n",
              "</table>\n",
              "</div>"
            ],
            "text/plain": [
              "    학생     학과\n",
              "0  홍길동   경영학과\n",
              "1  이순신   교육학과\n",
              "2  임꺽정  컴퓨터학과\n",
              "3  김유신   통계학과"
            ]
          },
          "execution_count": 210,
          "metadata": {},
          "output_type": "execute_result"
        }
      ],
      "source": [
        "df1 = pd.DataFrame({'학생': ['홍길동', '이순신', '임꺽정', '김유신'],\n",
        "                    '학과': ['경영학과', '교육학과', '컴퓨터학과', '통계학과']})\n",
        "df1"
      ]
    },
    {
      "cell_type": "code",
      "execution_count": 211,
      "metadata": {
        "id": "-Gnfj0cVrQ-L"
      },
      "outputs": [
        {
          "data": {
            "text/html": [
              "<div>\n",
              "<style scoped>\n",
              "    .dataframe tbody tr th:only-of-type {\n",
              "        vertical-align: middle;\n",
              "    }\n",
              "\n",
              "    .dataframe tbody tr th {\n",
              "        vertical-align: top;\n",
              "    }\n",
              "\n",
              "    .dataframe thead th {\n",
              "        text-align: right;\n",
              "    }\n",
              "</style>\n",
              "<table border=\"1\" class=\"dataframe\">\n",
              "  <thead>\n",
              "    <tr style=\"text-align: right;\">\n",
              "      <th></th>\n",
              "      <th>학생</th>\n",
              "      <th>입학년도</th>\n",
              "    </tr>\n",
              "  </thead>\n",
              "  <tbody>\n",
              "    <tr>\n",
              "      <th>0</th>\n",
              "      <td>홍길동</td>\n",
              "      <td>2012</td>\n",
              "    </tr>\n",
              "    <tr>\n",
              "      <th>1</th>\n",
              "      <td>이순신</td>\n",
              "      <td>2016</td>\n",
              "    </tr>\n",
              "    <tr>\n",
              "      <th>2</th>\n",
              "      <td>임꺽정</td>\n",
              "      <td>2019</td>\n",
              "    </tr>\n",
              "    <tr>\n",
              "      <th>3</th>\n",
              "      <td>김유신</td>\n",
              "      <td>2020</td>\n",
              "    </tr>\n",
              "  </tbody>\n",
              "</table>\n",
              "</div>"
            ],
            "text/plain": [
              "    학생  입학년도\n",
              "0  홍길동  2012\n",
              "1  이순신  2016\n",
              "2  임꺽정  2019\n",
              "3  김유신  2020"
            ]
          },
          "execution_count": 211,
          "metadata": {},
          "output_type": "execute_result"
        }
      ],
      "source": [
        "df2 = pd.DataFrame({'학생': ['홍길동', '이순신', '임꺽정', '김유신'],\n",
        "                    '입학년도': [2012, 2016, 2019, 2020]})\n",
        "df2"
      ]
    },
    {
      "cell_type": "code",
      "execution_count": 212,
      "metadata": {
        "id": "4_L0wq5BrRqC"
      },
      "outputs": [
        {
          "data": {
            "text/html": [
              "<div>\n",
              "<style scoped>\n",
              "    .dataframe tbody tr th:only-of-type {\n",
              "        vertical-align: middle;\n",
              "    }\n",
              "\n",
              "    .dataframe tbody tr th {\n",
              "        vertical-align: top;\n",
              "    }\n",
              "\n",
              "    .dataframe thead th {\n",
              "        text-align: right;\n",
              "    }\n",
              "</style>\n",
              "<table border=\"1\" class=\"dataframe\">\n",
              "  <thead>\n",
              "    <tr style=\"text-align: right;\">\n",
              "      <th></th>\n",
              "      <th>학생</th>\n",
              "      <th>학과</th>\n",
              "      <th>입학년도</th>\n",
              "    </tr>\n",
              "  </thead>\n",
              "  <tbody>\n",
              "    <tr>\n",
              "      <th>0</th>\n",
              "      <td>홍길동</td>\n",
              "      <td>경영학과</td>\n",
              "      <td>2012</td>\n",
              "    </tr>\n",
              "    <tr>\n",
              "      <th>1</th>\n",
              "      <td>이순신</td>\n",
              "      <td>교육학과</td>\n",
              "      <td>2016</td>\n",
              "    </tr>\n",
              "    <tr>\n",
              "      <th>2</th>\n",
              "      <td>임꺽정</td>\n",
              "      <td>컴퓨터학과</td>\n",
              "      <td>2019</td>\n",
              "    </tr>\n",
              "    <tr>\n",
              "      <th>3</th>\n",
              "      <td>김유신</td>\n",
              "      <td>통계학과</td>\n",
              "      <td>2020</td>\n",
              "    </tr>\n",
              "  </tbody>\n",
              "</table>\n",
              "</div>"
            ],
            "text/plain": [
              "    학생     학과  입학년도\n",
              "0  홍길동   경영학과  2012\n",
              "1  이순신   교육학과  2016\n",
              "2  임꺽정  컴퓨터학과  2019\n",
              "3  김유신   통계학과  2020"
            ]
          },
          "execution_count": 212,
          "metadata": {},
          "output_type": "execute_result"
        }
      ],
      "source": [
        "df3 = pd.merge(df1, df2)\n",
        "df3"
      ]
    },
    {
      "cell_type": "code",
      "execution_count": 213,
      "metadata": {
        "id": "JB30RrgprcxI"
      },
      "outputs": [
        {
          "data": {
            "text/html": [
              "<div>\n",
              "<style scoped>\n",
              "    .dataframe tbody tr th:only-of-type {\n",
              "        vertical-align: middle;\n",
              "    }\n",
              "\n",
              "    .dataframe tbody tr th {\n",
              "        vertical-align: top;\n",
              "    }\n",
              "\n",
              "    .dataframe thead th {\n",
              "        text-align: right;\n",
              "    }\n",
              "</style>\n",
              "<table border=\"1\" class=\"dataframe\">\n",
              "  <thead>\n",
              "    <tr style=\"text-align: right;\">\n",
              "      <th></th>\n",
              "      <th>학과</th>\n",
              "      <th>학과장</th>\n",
              "    </tr>\n",
              "  </thead>\n",
              "  <tbody>\n",
              "    <tr>\n",
              "      <th>0</th>\n",
              "      <td>경영학과</td>\n",
              "      <td>황희</td>\n",
              "    </tr>\n",
              "    <tr>\n",
              "      <th>1</th>\n",
              "      <td>교육학과</td>\n",
              "      <td>장영실</td>\n",
              "    </tr>\n",
              "    <tr>\n",
              "      <th>2</th>\n",
              "      <td>컴퓨터학과</td>\n",
              "      <td>안창호</td>\n",
              "    </tr>\n",
              "    <tr>\n",
              "      <th>3</th>\n",
              "      <td>통계학과</td>\n",
              "      <td>정약용</td>\n",
              "    </tr>\n",
              "  </tbody>\n",
              "</table>\n",
              "</div>"
            ],
            "text/plain": [
              "      학과  학과장\n",
              "0   경영학과   황희\n",
              "1   교육학과  장영실\n",
              "2  컴퓨터학과  안창호\n",
              "3   통계학과  정약용"
            ]
          },
          "execution_count": 213,
          "metadata": {},
          "output_type": "execute_result"
        }
      ],
      "source": [
        "df4 = pd.DataFrame({'학과': ['경영학과', '교육학과', '컴퓨터학과', '통계학과'],\n",
        "                    '학과장': ['황희', '장영실', '안창호', '정약용']})\n",
        "df4"
      ]
    },
    {
      "cell_type": "code",
      "execution_count": 214,
      "metadata": {
        "id": "M-DPYK8-sZ1j"
      },
      "outputs": [
        {
          "data": {
            "text/html": [
              "<div>\n",
              "<style scoped>\n",
              "    .dataframe tbody tr th:only-of-type {\n",
              "        vertical-align: middle;\n",
              "    }\n",
              "\n",
              "    .dataframe tbody tr th {\n",
              "        vertical-align: top;\n",
              "    }\n",
              "\n",
              "    .dataframe thead th {\n",
              "        text-align: right;\n",
              "    }\n",
              "</style>\n",
              "<table border=\"1\" class=\"dataframe\">\n",
              "  <thead>\n",
              "    <tr style=\"text-align: right;\">\n",
              "      <th></th>\n",
              "      <th>학생</th>\n",
              "      <th>학과</th>\n",
              "      <th>입학년도</th>\n",
              "      <th>학과장</th>\n",
              "    </tr>\n",
              "  </thead>\n",
              "  <tbody>\n",
              "    <tr>\n",
              "      <th>0</th>\n",
              "      <td>홍길동</td>\n",
              "      <td>경영학과</td>\n",
              "      <td>2012</td>\n",
              "      <td>황희</td>\n",
              "    </tr>\n",
              "    <tr>\n",
              "      <th>1</th>\n",
              "      <td>이순신</td>\n",
              "      <td>교육학과</td>\n",
              "      <td>2016</td>\n",
              "      <td>장영실</td>\n",
              "    </tr>\n",
              "    <tr>\n",
              "      <th>2</th>\n",
              "      <td>임꺽정</td>\n",
              "      <td>컴퓨터학과</td>\n",
              "      <td>2019</td>\n",
              "      <td>안창호</td>\n",
              "    </tr>\n",
              "    <tr>\n",
              "      <th>3</th>\n",
              "      <td>김유신</td>\n",
              "      <td>통계학과</td>\n",
              "      <td>2020</td>\n",
              "      <td>정약용</td>\n",
              "    </tr>\n",
              "  </tbody>\n",
              "</table>\n",
              "</div>"
            ],
            "text/plain": [
              "    학생     학과  입학년도  학과장\n",
              "0  홍길동   경영학과  2012   황희\n",
              "1  이순신   교육학과  2016  장영실\n",
              "2  임꺽정  컴퓨터학과  2019  안창호\n",
              "3  김유신   통계학과  2020  정약용"
            ]
          },
          "execution_count": 214,
          "metadata": {},
          "output_type": "execute_result"
        }
      ],
      "source": [
        "pd.merge(df3, df4)"
      ]
    },
    {
      "cell_type": "code",
      "execution_count": 215,
      "metadata": {
        "id": "xvXEDN6GsgSF"
      },
      "outputs": [
        {
          "data": {
            "text/html": [
              "<div>\n",
              "<style scoped>\n",
              "    .dataframe tbody tr th:only-of-type {\n",
              "        vertical-align: middle;\n",
              "    }\n",
              "\n",
              "    .dataframe tbody tr th {\n",
              "        vertical-align: top;\n",
              "    }\n",
              "\n",
              "    .dataframe thead th {\n",
              "        text-align: right;\n",
              "    }\n",
              "</style>\n",
              "<table border=\"1\" class=\"dataframe\">\n",
              "  <thead>\n",
              "    <tr style=\"text-align: right;\">\n",
              "      <th></th>\n",
              "      <th>학과</th>\n",
              "      <th>과목</th>\n",
              "    </tr>\n",
              "  </thead>\n",
              "  <tbody>\n",
              "    <tr>\n",
              "      <th>0</th>\n",
              "      <td>경영학과</td>\n",
              "      <td>경영개론</td>\n",
              "    </tr>\n",
              "    <tr>\n",
              "      <th>1</th>\n",
              "      <td>교육학과</td>\n",
              "      <td>기초수학</td>\n",
              "    </tr>\n",
              "    <tr>\n",
              "      <th>2</th>\n",
              "      <td>교육학과</td>\n",
              "      <td>물리학</td>\n",
              "    </tr>\n",
              "    <tr>\n",
              "      <th>3</th>\n",
              "      <td>컴퓨터학과</td>\n",
              "      <td>프로그래밍</td>\n",
              "    </tr>\n",
              "    <tr>\n",
              "      <th>4</th>\n",
              "      <td>컴퓨터학과</td>\n",
              "      <td>운영체제</td>\n",
              "    </tr>\n",
              "    <tr>\n",
              "      <th>5</th>\n",
              "      <td>통계학과</td>\n",
              "      <td>확률론</td>\n",
              "    </tr>\n",
              "  </tbody>\n",
              "</table>\n",
              "</div>"
            ],
            "text/plain": [
              "      학과     과목\n",
              "0   경영학과   경영개론\n",
              "1   교육학과   기초수학\n",
              "2   교육학과    물리학\n",
              "3  컴퓨터학과  프로그래밍\n",
              "4  컴퓨터학과   운영체제\n",
              "5   통계학과    확률론"
            ]
          },
          "execution_count": 215,
          "metadata": {},
          "output_type": "execute_result"
        }
      ],
      "source": [
        "df5 = pd.DataFrame({'학과': ['경영학과', '교육학과', '교육학과', '컴퓨터학과', '컴퓨터학과', '통계학과'],\n",
        "                    '과목': ['경영개론', '기초수학', '물리학', '프로그래밍', '운영체제', '확률론']})\n",
        "df5"
      ]
    },
    {
      "cell_type": "code",
      "execution_count": 216,
      "metadata": {
        "id": "H9JRk6RVtLNJ"
      },
      "outputs": [
        {
          "data": {
            "text/html": [
              "<div>\n",
              "<style scoped>\n",
              "    .dataframe tbody tr th:only-of-type {\n",
              "        vertical-align: middle;\n",
              "    }\n",
              "\n",
              "    .dataframe tbody tr th {\n",
              "        vertical-align: top;\n",
              "    }\n",
              "\n",
              "    .dataframe thead th {\n",
              "        text-align: right;\n",
              "    }\n",
              "</style>\n",
              "<table border=\"1\" class=\"dataframe\">\n",
              "  <thead>\n",
              "    <tr style=\"text-align: right;\">\n",
              "      <th></th>\n",
              "      <th>학생</th>\n",
              "      <th>학과</th>\n",
              "      <th>과목</th>\n",
              "    </tr>\n",
              "  </thead>\n",
              "  <tbody>\n",
              "    <tr>\n",
              "      <th>0</th>\n",
              "      <td>홍길동</td>\n",
              "      <td>경영학과</td>\n",
              "      <td>경영개론</td>\n",
              "    </tr>\n",
              "    <tr>\n",
              "      <th>1</th>\n",
              "      <td>이순신</td>\n",
              "      <td>교육학과</td>\n",
              "      <td>기초수학</td>\n",
              "    </tr>\n",
              "    <tr>\n",
              "      <th>2</th>\n",
              "      <td>이순신</td>\n",
              "      <td>교육학과</td>\n",
              "      <td>물리학</td>\n",
              "    </tr>\n",
              "    <tr>\n",
              "      <th>3</th>\n",
              "      <td>임꺽정</td>\n",
              "      <td>컴퓨터학과</td>\n",
              "      <td>프로그래밍</td>\n",
              "    </tr>\n",
              "    <tr>\n",
              "      <th>4</th>\n",
              "      <td>임꺽정</td>\n",
              "      <td>컴퓨터학과</td>\n",
              "      <td>운영체제</td>\n",
              "    </tr>\n",
              "    <tr>\n",
              "      <th>5</th>\n",
              "      <td>김유신</td>\n",
              "      <td>통계학과</td>\n",
              "      <td>확률론</td>\n",
              "    </tr>\n",
              "  </tbody>\n",
              "</table>\n",
              "</div>"
            ],
            "text/plain": [
              "    학생     학과     과목\n",
              "0  홍길동   경영학과   경영개론\n",
              "1  이순신   교육학과   기초수학\n",
              "2  이순신   교육학과    물리학\n",
              "3  임꺽정  컴퓨터학과  프로그래밍\n",
              "4  임꺽정  컴퓨터학과   운영체제\n",
              "5  김유신   통계학과    확률론"
            ]
          },
          "execution_count": 216,
          "metadata": {},
          "output_type": "execute_result"
        }
      ],
      "source": [
        "pd.merge(df1, df5)"
      ]
    },
    {
      "cell_type": "code",
      "execution_count": 217,
      "metadata": {
        "id": "HCsJ0Wg7teqe"
      },
      "outputs": [
        {
          "data": {
            "text/html": [
              "<div>\n",
              "<style scoped>\n",
              "    .dataframe tbody tr th:only-of-type {\n",
              "        vertical-align: middle;\n",
              "    }\n",
              "\n",
              "    .dataframe tbody tr th {\n",
              "        vertical-align: top;\n",
              "    }\n",
              "\n",
              "    .dataframe thead th {\n",
              "        text-align: right;\n",
              "    }\n",
              "</style>\n",
              "<table border=\"1\" class=\"dataframe\">\n",
              "  <thead>\n",
              "    <tr style=\"text-align: right;\">\n",
              "      <th></th>\n",
              "      <th>학생</th>\n",
              "      <th>학과</th>\n",
              "      <th>입학년도</th>\n",
              "    </tr>\n",
              "  </thead>\n",
              "  <tbody>\n",
              "    <tr>\n",
              "      <th>0</th>\n",
              "      <td>홍길동</td>\n",
              "      <td>경영학과</td>\n",
              "      <td>2012</td>\n",
              "    </tr>\n",
              "    <tr>\n",
              "      <th>1</th>\n",
              "      <td>이순신</td>\n",
              "      <td>교육학과</td>\n",
              "      <td>2016</td>\n",
              "    </tr>\n",
              "    <tr>\n",
              "      <th>2</th>\n",
              "      <td>임꺽정</td>\n",
              "      <td>컴퓨터학과</td>\n",
              "      <td>2019</td>\n",
              "    </tr>\n",
              "    <tr>\n",
              "      <th>3</th>\n",
              "      <td>김유신</td>\n",
              "      <td>통계학과</td>\n",
              "      <td>2020</td>\n",
              "    </tr>\n",
              "  </tbody>\n",
              "</table>\n",
              "</div>"
            ],
            "text/plain": [
              "    학생     학과  입학년도\n",
              "0  홍길동   경영학과  2012\n",
              "1  이순신   교육학과  2016\n",
              "2  임꺽정  컴퓨터학과  2019\n",
              "3  김유신   통계학과  2020"
            ]
          },
          "execution_count": 217,
          "metadata": {},
          "output_type": "execute_result"
        }
      ],
      "source": [
        "pd.merge(df1, df2, on='학생')"
      ]
    },
    {
      "cell_type": "code",
      "execution_count": 218,
      "metadata": {
        "id": "U_ePghIst4fQ"
      },
      "outputs": [
        {
          "data": {
            "text/html": [
              "<div>\n",
              "<style scoped>\n",
              "    .dataframe tbody tr th:only-of-type {\n",
              "        vertical-align: middle;\n",
              "    }\n",
              "\n",
              "    .dataframe tbody tr th {\n",
              "        vertical-align: top;\n",
              "    }\n",
              "\n",
              "    .dataframe thead th {\n",
              "        text-align: right;\n",
              "    }\n",
              "</style>\n",
              "<table border=\"1\" class=\"dataframe\">\n",
              "  <thead>\n",
              "    <tr style=\"text-align: right;\">\n",
              "      <th></th>\n",
              "      <th>이름</th>\n",
              "      <th>성적</th>\n",
              "    </tr>\n",
              "  </thead>\n",
              "  <tbody>\n",
              "    <tr>\n",
              "      <th>0</th>\n",
              "      <td>홍길동</td>\n",
              "      <td>A</td>\n",
              "    </tr>\n",
              "    <tr>\n",
              "      <th>1</th>\n",
              "      <td>이순신</td>\n",
              "      <td>A+</td>\n",
              "    </tr>\n",
              "    <tr>\n",
              "      <th>2</th>\n",
              "      <td>임꺽정</td>\n",
              "      <td>B</td>\n",
              "    </tr>\n",
              "    <tr>\n",
              "      <th>3</th>\n",
              "      <td>김유신</td>\n",
              "      <td>A+</td>\n",
              "    </tr>\n",
              "  </tbody>\n",
              "</table>\n",
              "</div>"
            ],
            "text/plain": [
              "    이름  성적\n",
              "0  홍길동   A\n",
              "1  이순신  A+\n",
              "2  임꺽정   B\n",
              "3  김유신  A+"
            ]
          },
          "execution_count": 218,
          "metadata": {},
          "output_type": "execute_result"
        }
      ],
      "source": [
        "df6 = pd.DataFrame({'이름': ['홍길동', '이순신', '임꺽정', '김유신'],\n",
        "                    '성적': ['A', 'A+', 'B', 'A+']})\n",
        "df6"
      ]
    },
    {
      "cell_type": "code",
      "execution_count": 219,
      "metadata": {
        "id": "-PZ1D1VwuiTG"
      },
      "outputs": [
        {
          "data": {
            "text/html": [
              "<div>\n",
              "<style scoped>\n",
              "    .dataframe tbody tr th:only-of-type {\n",
              "        vertical-align: middle;\n",
              "    }\n",
              "\n",
              "    .dataframe tbody tr th {\n",
              "        vertical-align: top;\n",
              "    }\n",
              "\n",
              "    .dataframe thead th {\n",
              "        text-align: right;\n",
              "    }\n",
              "</style>\n",
              "<table border=\"1\" class=\"dataframe\">\n",
              "  <thead>\n",
              "    <tr style=\"text-align: right;\">\n",
              "      <th></th>\n",
              "      <th>학생</th>\n",
              "      <th>학과</th>\n",
              "      <th>이름</th>\n",
              "      <th>성적</th>\n",
              "    </tr>\n",
              "  </thead>\n",
              "  <tbody>\n",
              "    <tr>\n",
              "      <th>0</th>\n",
              "      <td>홍길동</td>\n",
              "      <td>경영학과</td>\n",
              "      <td>홍길동</td>\n",
              "      <td>A</td>\n",
              "    </tr>\n",
              "    <tr>\n",
              "      <th>1</th>\n",
              "      <td>이순신</td>\n",
              "      <td>교육학과</td>\n",
              "      <td>이순신</td>\n",
              "      <td>A+</td>\n",
              "    </tr>\n",
              "    <tr>\n",
              "      <th>2</th>\n",
              "      <td>임꺽정</td>\n",
              "      <td>컴퓨터학과</td>\n",
              "      <td>임꺽정</td>\n",
              "      <td>B</td>\n",
              "    </tr>\n",
              "    <tr>\n",
              "      <th>3</th>\n",
              "      <td>김유신</td>\n",
              "      <td>통계학과</td>\n",
              "      <td>김유신</td>\n",
              "      <td>A+</td>\n",
              "    </tr>\n",
              "  </tbody>\n",
              "</table>\n",
              "</div>"
            ],
            "text/plain": [
              "    학생     학과   이름  성적\n",
              "0  홍길동   경영학과  홍길동   A\n",
              "1  이순신   교육학과  이순신  A+\n",
              "2  임꺽정  컴퓨터학과  임꺽정   B\n",
              "3  김유신   통계학과  김유신  A+"
            ]
          },
          "execution_count": 219,
          "metadata": {},
          "output_type": "execute_result"
        }
      ],
      "source": [
        "pd.merge(df1, df6, left_on='학생', right_on='이름')"
      ]
    },
    {
      "cell_type": "code",
      "execution_count": 220,
      "metadata": {
        "id": "7z1jmMhSukPA"
      },
      "outputs": [
        {
          "data": {
            "text/html": [
              "<div>\n",
              "<style scoped>\n",
              "    .dataframe tbody tr th:only-of-type {\n",
              "        vertical-align: middle;\n",
              "    }\n",
              "\n",
              "    .dataframe tbody tr th {\n",
              "        vertical-align: top;\n",
              "    }\n",
              "\n",
              "    .dataframe thead th {\n",
              "        text-align: right;\n",
              "    }\n",
              "</style>\n",
              "<table border=\"1\" class=\"dataframe\">\n",
              "  <thead>\n",
              "    <tr style=\"text-align: right;\">\n",
              "      <th></th>\n",
              "      <th>학생</th>\n",
              "      <th>학과</th>\n",
              "      <th>성적</th>\n",
              "    </tr>\n",
              "  </thead>\n",
              "  <tbody>\n",
              "    <tr>\n",
              "      <th>0</th>\n",
              "      <td>홍길동</td>\n",
              "      <td>경영학과</td>\n",
              "      <td>A</td>\n",
              "    </tr>\n",
              "    <tr>\n",
              "      <th>1</th>\n",
              "      <td>이순신</td>\n",
              "      <td>교육학과</td>\n",
              "      <td>A+</td>\n",
              "    </tr>\n",
              "    <tr>\n",
              "      <th>2</th>\n",
              "      <td>임꺽정</td>\n",
              "      <td>컴퓨터학과</td>\n",
              "      <td>B</td>\n",
              "    </tr>\n",
              "    <tr>\n",
              "      <th>3</th>\n",
              "      <td>김유신</td>\n",
              "      <td>통계학과</td>\n",
              "      <td>A+</td>\n",
              "    </tr>\n",
              "  </tbody>\n",
              "</table>\n",
              "</div>"
            ],
            "text/plain": [
              "    학생     학과  성적\n",
              "0  홍길동   경영학과   A\n",
              "1  이순신   교육학과  A+\n",
              "2  임꺽정  컴퓨터학과   B\n",
              "3  김유신   통계학과  A+"
            ]
          },
          "execution_count": 220,
          "metadata": {},
          "output_type": "execute_result"
        }
      ],
      "source": [
        "pd.merge(df1, df6, left_on='학생', right_on='이름').drop('이름', axis=1)"
      ]
    },
    {
      "cell_type": "code",
      "execution_count": 221,
      "metadata": {
        "id": "xBdg5QbquseD"
      },
      "outputs": [],
      "source": [
        "mdf1 = df1.set_index('학생')\n",
        "mdf2 = df2.set_index('학생')"
      ]
    },
    {
      "cell_type": "code",
      "execution_count": 222,
      "metadata": {
        "id": "PkYo6QP-u5MM"
      },
      "outputs": [
        {
          "data": {
            "text/html": [
              "<div>\n",
              "<style scoped>\n",
              "    .dataframe tbody tr th:only-of-type {\n",
              "        vertical-align: middle;\n",
              "    }\n",
              "\n",
              "    .dataframe tbody tr th {\n",
              "        vertical-align: top;\n",
              "    }\n",
              "\n",
              "    .dataframe thead th {\n",
              "        text-align: right;\n",
              "    }\n",
              "</style>\n",
              "<table border=\"1\" class=\"dataframe\">\n",
              "  <thead>\n",
              "    <tr style=\"text-align: right;\">\n",
              "      <th></th>\n",
              "      <th>학과</th>\n",
              "    </tr>\n",
              "    <tr>\n",
              "      <th>학생</th>\n",
              "      <th></th>\n",
              "    </tr>\n",
              "  </thead>\n",
              "  <tbody>\n",
              "    <tr>\n",
              "      <th>홍길동</th>\n",
              "      <td>경영학과</td>\n",
              "    </tr>\n",
              "    <tr>\n",
              "      <th>이순신</th>\n",
              "      <td>교육학과</td>\n",
              "    </tr>\n",
              "    <tr>\n",
              "      <th>임꺽정</th>\n",
              "      <td>컴퓨터학과</td>\n",
              "    </tr>\n",
              "    <tr>\n",
              "      <th>김유신</th>\n",
              "      <td>통계학과</td>\n",
              "    </tr>\n",
              "  </tbody>\n",
              "</table>\n",
              "</div>"
            ],
            "text/plain": [
              "        학과\n",
              "학생        \n",
              "홍길동   경영학과\n",
              "이순신   교육학과\n",
              "임꺽정  컴퓨터학과\n",
              "김유신   통계학과"
            ]
          },
          "execution_count": 222,
          "metadata": {},
          "output_type": "execute_result"
        }
      ],
      "source": [
        "mdf1"
      ]
    },
    {
      "cell_type": "code",
      "execution_count": 223,
      "metadata": {
        "id": "ITON974EvRp8"
      },
      "outputs": [
        {
          "data": {
            "text/html": [
              "<div>\n",
              "<style scoped>\n",
              "    .dataframe tbody tr th:only-of-type {\n",
              "        vertical-align: middle;\n",
              "    }\n",
              "\n",
              "    .dataframe tbody tr th {\n",
              "        vertical-align: top;\n",
              "    }\n",
              "\n",
              "    .dataframe thead th {\n",
              "        text-align: right;\n",
              "    }\n",
              "</style>\n",
              "<table border=\"1\" class=\"dataframe\">\n",
              "  <thead>\n",
              "    <tr style=\"text-align: right;\">\n",
              "      <th></th>\n",
              "      <th>입학년도</th>\n",
              "    </tr>\n",
              "    <tr>\n",
              "      <th>학생</th>\n",
              "      <th></th>\n",
              "    </tr>\n",
              "  </thead>\n",
              "  <tbody>\n",
              "    <tr>\n",
              "      <th>홍길동</th>\n",
              "      <td>2012</td>\n",
              "    </tr>\n",
              "    <tr>\n",
              "      <th>이순신</th>\n",
              "      <td>2016</td>\n",
              "    </tr>\n",
              "    <tr>\n",
              "      <th>임꺽정</th>\n",
              "      <td>2019</td>\n",
              "    </tr>\n",
              "    <tr>\n",
              "      <th>김유신</th>\n",
              "      <td>2020</td>\n",
              "    </tr>\n",
              "  </tbody>\n",
              "</table>\n",
              "</div>"
            ],
            "text/plain": [
              "     입학년도\n",
              "학생       \n",
              "홍길동  2012\n",
              "이순신  2016\n",
              "임꺽정  2019\n",
              "김유신  2020"
            ]
          },
          "execution_count": 223,
          "metadata": {},
          "output_type": "execute_result"
        }
      ],
      "source": [
        "mdf2"
      ]
    },
    {
      "cell_type": "code",
      "execution_count": 224,
      "metadata": {
        "id": "pM9VHro8vR_b"
      },
      "outputs": [
        {
          "data": {
            "text/html": [
              "<div>\n",
              "<style scoped>\n",
              "    .dataframe tbody tr th:only-of-type {\n",
              "        vertical-align: middle;\n",
              "    }\n",
              "\n",
              "    .dataframe tbody tr th {\n",
              "        vertical-align: top;\n",
              "    }\n",
              "\n",
              "    .dataframe thead th {\n",
              "        text-align: right;\n",
              "    }\n",
              "</style>\n",
              "<table border=\"1\" class=\"dataframe\">\n",
              "  <thead>\n",
              "    <tr style=\"text-align: right;\">\n",
              "      <th></th>\n",
              "      <th>학과</th>\n",
              "      <th>입학년도</th>\n",
              "    </tr>\n",
              "    <tr>\n",
              "      <th>학생</th>\n",
              "      <th></th>\n",
              "      <th></th>\n",
              "    </tr>\n",
              "  </thead>\n",
              "  <tbody>\n",
              "    <tr>\n",
              "      <th>홍길동</th>\n",
              "      <td>경영학과</td>\n",
              "      <td>2012</td>\n",
              "    </tr>\n",
              "    <tr>\n",
              "      <th>이순신</th>\n",
              "      <td>교육학과</td>\n",
              "      <td>2016</td>\n",
              "    </tr>\n",
              "    <tr>\n",
              "      <th>임꺽정</th>\n",
              "      <td>컴퓨터학과</td>\n",
              "      <td>2019</td>\n",
              "    </tr>\n",
              "    <tr>\n",
              "      <th>김유신</th>\n",
              "      <td>통계학과</td>\n",
              "      <td>2020</td>\n",
              "    </tr>\n",
              "  </tbody>\n",
              "</table>\n",
              "</div>"
            ],
            "text/plain": [
              "        학과  입학년도\n",
              "학생              \n",
              "홍길동   경영학과  2012\n",
              "이순신   교육학과  2016\n",
              "임꺽정  컴퓨터학과  2019\n",
              "김유신   통계학과  2020"
            ]
          },
          "execution_count": 224,
          "metadata": {},
          "output_type": "execute_result"
        }
      ],
      "source": [
        "pd.merge(mdf1, mdf2, left_index=True, right_index=True)"
      ]
    },
    {
      "cell_type": "code",
      "execution_count": 225,
      "metadata": {
        "id": "tb70J4-YvYL-"
      },
      "outputs": [
        {
          "data": {
            "text/html": [
              "<div>\n",
              "<style scoped>\n",
              "    .dataframe tbody tr th:only-of-type {\n",
              "        vertical-align: middle;\n",
              "    }\n",
              "\n",
              "    .dataframe tbody tr th {\n",
              "        vertical-align: top;\n",
              "    }\n",
              "\n",
              "    .dataframe thead th {\n",
              "        text-align: right;\n",
              "    }\n",
              "</style>\n",
              "<table border=\"1\" class=\"dataframe\">\n",
              "  <thead>\n",
              "    <tr style=\"text-align: right;\">\n",
              "      <th></th>\n",
              "      <th>학과</th>\n",
              "      <th>입학년도</th>\n",
              "    </tr>\n",
              "    <tr>\n",
              "      <th>학생</th>\n",
              "      <th></th>\n",
              "      <th></th>\n",
              "    </tr>\n",
              "  </thead>\n",
              "  <tbody>\n",
              "    <tr>\n",
              "      <th>홍길동</th>\n",
              "      <td>경영학과</td>\n",
              "      <td>2012</td>\n",
              "    </tr>\n",
              "    <tr>\n",
              "      <th>이순신</th>\n",
              "      <td>교육학과</td>\n",
              "      <td>2016</td>\n",
              "    </tr>\n",
              "    <tr>\n",
              "      <th>임꺽정</th>\n",
              "      <td>컴퓨터학과</td>\n",
              "      <td>2019</td>\n",
              "    </tr>\n",
              "    <tr>\n",
              "      <th>김유신</th>\n",
              "      <td>통계학과</td>\n",
              "      <td>2020</td>\n",
              "    </tr>\n",
              "  </tbody>\n",
              "</table>\n",
              "</div>"
            ],
            "text/plain": [
              "        학과  입학년도\n",
              "학생              \n",
              "홍길동   경영학과  2012\n",
              "이순신   교육학과  2016\n",
              "임꺽정  컴퓨터학과  2019\n",
              "김유신   통계학과  2020"
            ]
          },
          "execution_count": 225,
          "metadata": {},
          "output_type": "execute_result"
        }
      ],
      "source": [
        "mdf1.join(mdf2)"
      ]
    },
    {
      "cell_type": "code",
      "execution_count": 226,
      "metadata": {
        "id": "h4jWcr7hvx93"
      },
      "outputs": [
        {
          "data": {
            "text/html": [
              "<div>\n",
              "<style scoped>\n",
              "    .dataframe tbody tr th:only-of-type {\n",
              "        vertical-align: middle;\n",
              "    }\n",
              "\n",
              "    .dataframe tbody tr th {\n",
              "        vertical-align: top;\n",
              "    }\n",
              "\n",
              "    .dataframe thead th {\n",
              "        text-align: right;\n",
              "    }\n",
              "</style>\n",
              "<table border=\"1\" class=\"dataframe\">\n",
              "  <thead>\n",
              "    <tr style=\"text-align: right;\">\n",
              "      <th></th>\n",
              "      <th>학과</th>\n",
              "      <th>이름</th>\n",
              "      <th>성적</th>\n",
              "    </tr>\n",
              "  </thead>\n",
              "  <tbody>\n",
              "    <tr>\n",
              "      <th>0</th>\n",
              "      <td>경영학과</td>\n",
              "      <td>홍길동</td>\n",
              "      <td>A</td>\n",
              "    </tr>\n",
              "    <tr>\n",
              "      <th>1</th>\n",
              "      <td>교육학과</td>\n",
              "      <td>이순신</td>\n",
              "      <td>A+</td>\n",
              "    </tr>\n",
              "    <tr>\n",
              "      <th>2</th>\n",
              "      <td>컴퓨터학과</td>\n",
              "      <td>임꺽정</td>\n",
              "      <td>B</td>\n",
              "    </tr>\n",
              "    <tr>\n",
              "      <th>3</th>\n",
              "      <td>통계학과</td>\n",
              "      <td>김유신</td>\n",
              "      <td>A+</td>\n",
              "    </tr>\n",
              "  </tbody>\n",
              "</table>\n",
              "</div>"
            ],
            "text/plain": [
              "      학과   이름  성적\n",
              "0   경영학과  홍길동   A\n",
              "1   교육학과  이순신  A+\n",
              "2  컴퓨터학과  임꺽정   B\n",
              "3   통계학과  김유신  A+"
            ]
          },
          "execution_count": 226,
          "metadata": {},
          "output_type": "execute_result"
        }
      ],
      "source": [
        "pd.merge(mdf1, df6, left_index=True, right_on='이름')"
      ]
    },
    {
      "cell_type": "code",
      "execution_count": 227,
      "metadata": {
        "id": "5BMgmFDyxmYX"
      },
      "outputs": [
        {
          "data": {
            "text/html": [
              "<div>\n",
              "<style scoped>\n",
              "    .dataframe tbody tr th:only-of-type {\n",
              "        vertical-align: middle;\n",
              "    }\n",
              "\n",
              "    .dataframe tbody tr th {\n",
              "        vertical-align: top;\n",
              "    }\n",
              "\n",
              "    .dataframe thead th {\n",
              "        text-align: right;\n",
              "    }\n",
              "</style>\n",
              "<table border=\"1\" class=\"dataframe\">\n",
              "  <thead>\n",
              "    <tr style=\"text-align: right;\">\n",
              "      <th></th>\n",
              "      <th>이름</th>\n",
              "      <th>주문음식</th>\n",
              "    </tr>\n",
              "  </thead>\n",
              "  <tbody>\n",
              "    <tr>\n",
              "      <th>0</th>\n",
              "      <td>홍길동</td>\n",
              "      <td>햄버거</td>\n",
              "    </tr>\n",
              "    <tr>\n",
              "      <th>1</th>\n",
              "      <td>이순신</td>\n",
              "      <td>피자</td>\n",
              "    </tr>\n",
              "    <tr>\n",
              "      <th>2</th>\n",
              "      <td>임꺽정</td>\n",
              "      <td>짜장면</td>\n",
              "    </tr>\n",
              "  </tbody>\n",
              "</table>\n",
              "</div>"
            ],
            "text/plain": [
              "    이름 주문음식\n",
              "0  홍길동  햄버거\n",
              "1  이순신   피자\n",
              "2  임꺽정  짜장면"
            ]
          },
          "execution_count": 227,
          "metadata": {},
          "output_type": "execute_result"
        }
      ],
      "source": [
        "df7 = pd.DataFrame({'이름': ['홍길동', '이순신', '임꺽정'],\n",
        "                    '주문음식': ['햄버거', '피자', '짜장면']})\n",
        "df7"
      ]
    },
    {
      "cell_type": "code",
      "execution_count": 228,
      "metadata": {
        "id": "K6REnIONx5IB"
      },
      "outputs": [
        {
          "data": {
            "text/html": [
              "<div>\n",
              "<style scoped>\n",
              "    .dataframe tbody tr th:only-of-type {\n",
              "        vertical-align: middle;\n",
              "    }\n",
              "\n",
              "    .dataframe tbody tr th {\n",
              "        vertical-align: top;\n",
              "    }\n",
              "\n",
              "    .dataframe thead th {\n",
              "        text-align: right;\n",
              "    }\n",
              "</style>\n",
              "<table border=\"1\" class=\"dataframe\">\n",
              "  <thead>\n",
              "    <tr style=\"text-align: right;\">\n",
              "      <th></th>\n",
              "      <th>이름</th>\n",
              "      <th>주문음료</th>\n",
              "    </tr>\n",
              "  </thead>\n",
              "  <tbody>\n",
              "    <tr>\n",
              "      <th>0</th>\n",
              "      <td>홍길동</td>\n",
              "      <td>콜라</td>\n",
              "    </tr>\n",
              "    <tr>\n",
              "      <th>1</th>\n",
              "      <td>이순신</td>\n",
              "      <td>사이다</td>\n",
              "    </tr>\n",
              "    <tr>\n",
              "      <th>2</th>\n",
              "      <td>김유진</td>\n",
              "      <td>커피</td>\n",
              "    </tr>\n",
              "  </tbody>\n",
              "</table>\n",
              "</div>"
            ],
            "text/plain": [
              "    이름 주문음료\n",
              "0  홍길동   콜라\n",
              "1  이순신  사이다\n",
              "2  김유진   커피"
            ]
          },
          "execution_count": 228,
          "metadata": {},
          "output_type": "execute_result"
        }
      ],
      "source": [
        "df8 = pd.DataFrame({'이름': ['홍길동', '이순신', '김유진'],\n",
        "                    '주문음료': ['콜라', '사이다', '커피']})\n",
        "df8"
      ]
    },
    {
      "cell_type": "code",
      "execution_count": 229,
      "metadata": {
        "id": "we6EQ2YbyuCl"
      },
      "outputs": [
        {
          "data": {
            "text/html": [
              "<div>\n",
              "<style scoped>\n",
              "    .dataframe tbody tr th:only-of-type {\n",
              "        vertical-align: middle;\n",
              "    }\n",
              "\n",
              "    .dataframe tbody tr th {\n",
              "        vertical-align: top;\n",
              "    }\n",
              "\n",
              "    .dataframe thead th {\n",
              "        text-align: right;\n",
              "    }\n",
              "</style>\n",
              "<table border=\"1\" class=\"dataframe\">\n",
              "  <thead>\n",
              "    <tr style=\"text-align: right;\">\n",
              "      <th></th>\n",
              "      <th>이름</th>\n",
              "      <th>주문음식</th>\n",
              "      <th>주문음료</th>\n",
              "    </tr>\n",
              "  </thead>\n",
              "  <tbody>\n",
              "    <tr>\n",
              "      <th>0</th>\n",
              "      <td>홍길동</td>\n",
              "      <td>햄버거</td>\n",
              "      <td>콜라</td>\n",
              "    </tr>\n",
              "    <tr>\n",
              "      <th>1</th>\n",
              "      <td>이순신</td>\n",
              "      <td>피자</td>\n",
              "      <td>사이다</td>\n",
              "    </tr>\n",
              "  </tbody>\n",
              "</table>\n",
              "</div>"
            ],
            "text/plain": [
              "    이름 주문음식 주문음료\n",
              "0  홍길동  햄버거   콜라\n",
              "1  이순신   피자  사이다"
            ]
          },
          "execution_count": 229,
          "metadata": {},
          "output_type": "execute_result"
        }
      ],
      "source": [
        "pd.merge(df7, df8)"
      ]
    },
    {
      "cell_type": "code",
      "execution_count": 230,
      "metadata": {
        "id": "6fXhbe-zyxk3"
      },
      "outputs": [
        {
          "data": {
            "text/html": [
              "<div>\n",
              "<style scoped>\n",
              "    .dataframe tbody tr th:only-of-type {\n",
              "        vertical-align: middle;\n",
              "    }\n",
              "\n",
              "    .dataframe tbody tr th {\n",
              "        vertical-align: top;\n",
              "    }\n",
              "\n",
              "    .dataframe thead th {\n",
              "        text-align: right;\n",
              "    }\n",
              "</style>\n",
              "<table border=\"1\" class=\"dataframe\">\n",
              "  <thead>\n",
              "    <tr style=\"text-align: right;\">\n",
              "      <th></th>\n",
              "      <th>이름</th>\n",
              "      <th>주문음식</th>\n",
              "      <th>주문음료</th>\n",
              "    </tr>\n",
              "  </thead>\n",
              "  <tbody>\n",
              "    <tr>\n",
              "      <th>0</th>\n",
              "      <td>홍길동</td>\n",
              "      <td>햄버거</td>\n",
              "      <td>콜라</td>\n",
              "    </tr>\n",
              "    <tr>\n",
              "      <th>1</th>\n",
              "      <td>이순신</td>\n",
              "      <td>피자</td>\n",
              "      <td>사이다</td>\n",
              "    </tr>\n",
              "  </tbody>\n",
              "</table>\n",
              "</div>"
            ],
            "text/plain": [
              "    이름 주문음식 주문음료\n",
              "0  홍길동  햄버거   콜라\n",
              "1  이순신   피자  사이다"
            ]
          },
          "execution_count": 230,
          "metadata": {},
          "output_type": "execute_result"
        }
      ],
      "source": [
        "pd.merge(df7, df8, how='inner')"
      ]
    },
    {
      "cell_type": "code",
      "execution_count": 231,
      "metadata": {
        "id": "elU9-4r3y4NE"
      },
      "outputs": [
        {
          "data": {
            "text/html": [
              "<div>\n",
              "<style scoped>\n",
              "    .dataframe tbody tr th:only-of-type {\n",
              "        vertical-align: middle;\n",
              "    }\n",
              "\n",
              "    .dataframe tbody tr th {\n",
              "        vertical-align: top;\n",
              "    }\n",
              "\n",
              "    .dataframe thead th {\n",
              "        text-align: right;\n",
              "    }\n",
              "</style>\n",
              "<table border=\"1\" class=\"dataframe\">\n",
              "  <thead>\n",
              "    <tr style=\"text-align: right;\">\n",
              "      <th></th>\n",
              "      <th>이름</th>\n",
              "      <th>주문음식</th>\n",
              "      <th>주문음료</th>\n",
              "    </tr>\n",
              "  </thead>\n",
              "  <tbody>\n",
              "    <tr>\n",
              "      <th>0</th>\n",
              "      <td>홍길동</td>\n",
              "      <td>햄버거</td>\n",
              "      <td>콜라</td>\n",
              "    </tr>\n",
              "    <tr>\n",
              "      <th>1</th>\n",
              "      <td>이순신</td>\n",
              "      <td>피자</td>\n",
              "      <td>사이다</td>\n",
              "    </tr>\n",
              "    <tr>\n",
              "      <th>2</th>\n",
              "      <td>임꺽정</td>\n",
              "      <td>짜장면</td>\n",
              "      <td>NaN</td>\n",
              "    </tr>\n",
              "    <tr>\n",
              "      <th>3</th>\n",
              "      <td>김유진</td>\n",
              "      <td>NaN</td>\n",
              "      <td>커피</td>\n",
              "    </tr>\n",
              "  </tbody>\n",
              "</table>\n",
              "</div>"
            ],
            "text/plain": [
              "    이름 주문음식 주문음료\n",
              "0  홍길동  햄버거   콜라\n",
              "1  이순신   피자  사이다\n",
              "2  임꺽정  짜장면  NaN\n",
              "3  김유진  NaN   커피"
            ]
          },
          "execution_count": 231,
          "metadata": {},
          "output_type": "execute_result"
        }
      ],
      "source": [
        "pd.merge(df7, df8, how='outer')"
      ]
    },
    {
      "cell_type": "code",
      "execution_count": 232,
      "metadata": {
        "id": "Ojd4m8oLy6tk"
      },
      "outputs": [
        {
          "data": {
            "text/html": [
              "<div>\n",
              "<style scoped>\n",
              "    .dataframe tbody tr th:only-of-type {\n",
              "        vertical-align: middle;\n",
              "    }\n",
              "\n",
              "    .dataframe tbody tr th {\n",
              "        vertical-align: top;\n",
              "    }\n",
              "\n",
              "    .dataframe thead th {\n",
              "        text-align: right;\n",
              "    }\n",
              "</style>\n",
              "<table border=\"1\" class=\"dataframe\">\n",
              "  <thead>\n",
              "    <tr style=\"text-align: right;\">\n",
              "      <th></th>\n",
              "      <th>이름</th>\n",
              "      <th>주문음식</th>\n",
              "      <th>주문음료</th>\n",
              "    </tr>\n",
              "  </thead>\n",
              "  <tbody>\n",
              "    <tr>\n",
              "      <th>0</th>\n",
              "      <td>홍길동</td>\n",
              "      <td>햄버거</td>\n",
              "      <td>콜라</td>\n",
              "    </tr>\n",
              "    <tr>\n",
              "      <th>1</th>\n",
              "      <td>이순신</td>\n",
              "      <td>피자</td>\n",
              "      <td>사이다</td>\n",
              "    </tr>\n",
              "    <tr>\n",
              "      <th>2</th>\n",
              "      <td>임꺽정</td>\n",
              "      <td>짜장면</td>\n",
              "      <td>NaN</td>\n",
              "    </tr>\n",
              "  </tbody>\n",
              "</table>\n",
              "</div>"
            ],
            "text/plain": [
              "    이름 주문음식 주문음료\n",
              "0  홍길동  햄버거   콜라\n",
              "1  이순신   피자  사이다\n",
              "2  임꺽정  짜장면  NaN"
            ]
          },
          "execution_count": 232,
          "metadata": {},
          "output_type": "execute_result"
        }
      ],
      "source": [
        "pd.merge(df7, df8, how='left')"
      ]
    },
    {
      "cell_type": "code",
      "execution_count": 233,
      "metadata": {
        "id": "R0Te8J7Py9Up"
      },
      "outputs": [
        {
          "data": {
            "text/html": [
              "<div>\n",
              "<style scoped>\n",
              "    .dataframe tbody tr th:only-of-type {\n",
              "        vertical-align: middle;\n",
              "    }\n",
              "\n",
              "    .dataframe tbody tr th {\n",
              "        vertical-align: top;\n",
              "    }\n",
              "\n",
              "    .dataframe thead th {\n",
              "        text-align: right;\n",
              "    }\n",
              "</style>\n",
              "<table border=\"1\" class=\"dataframe\">\n",
              "  <thead>\n",
              "    <tr style=\"text-align: right;\">\n",
              "      <th></th>\n",
              "      <th>이름</th>\n",
              "      <th>주문음식</th>\n",
              "      <th>주문음료</th>\n",
              "    </tr>\n",
              "  </thead>\n",
              "  <tbody>\n",
              "    <tr>\n",
              "      <th>0</th>\n",
              "      <td>홍길동</td>\n",
              "      <td>햄버거</td>\n",
              "      <td>콜라</td>\n",
              "    </tr>\n",
              "    <tr>\n",
              "      <th>1</th>\n",
              "      <td>이순신</td>\n",
              "      <td>피자</td>\n",
              "      <td>사이다</td>\n",
              "    </tr>\n",
              "    <tr>\n",
              "      <th>2</th>\n",
              "      <td>김유진</td>\n",
              "      <td>NaN</td>\n",
              "      <td>커피</td>\n",
              "    </tr>\n",
              "  </tbody>\n",
              "</table>\n",
              "</div>"
            ],
            "text/plain": [
              "    이름 주문음식 주문음료\n",
              "0  홍길동  햄버거   콜라\n",
              "1  이순신   피자  사이다\n",
              "2  김유진  NaN   커피"
            ]
          },
          "execution_count": 233,
          "metadata": {},
          "output_type": "execute_result"
        }
      ],
      "source": [
        "pd.merge(df7, df8, how='right')"
      ]
    },
    {
      "cell_type": "code",
      "execution_count": 234,
      "metadata": {
        "id": "7VZHxJsky_L0"
      },
      "outputs": [
        {
          "data": {
            "text/html": [
              "<div>\n",
              "<style scoped>\n",
              "    .dataframe tbody tr th:only-of-type {\n",
              "        vertical-align: middle;\n",
              "    }\n",
              "\n",
              "    .dataframe tbody tr th {\n",
              "        vertical-align: top;\n",
              "    }\n",
              "\n",
              "    .dataframe thead th {\n",
              "        text-align: right;\n",
              "    }\n",
              "</style>\n",
              "<table border=\"1\" class=\"dataframe\">\n",
              "  <thead>\n",
              "    <tr style=\"text-align: right;\">\n",
              "      <th></th>\n",
              "      <th>이름</th>\n",
              "      <th>순위</th>\n",
              "    </tr>\n",
              "  </thead>\n",
              "  <tbody>\n",
              "    <tr>\n",
              "      <th>0</th>\n",
              "      <td>홍길동</td>\n",
              "      <td>3</td>\n",
              "    </tr>\n",
              "    <tr>\n",
              "      <th>1</th>\n",
              "      <td>이순신</td>\n",
              "      <td>2</td>\n",
              "    </tr>\n",
              "    <tr>\n",
              "      <th>2</th>\n",
              "      <td>임꺽정</td>\n",
              "      <td>4</td>\n",
              "    </tr>\n",
              "    <tr>\n",
              "      <th>3</th>\n",
              "      <td>김유신</td>\n",
              "      <td>1</td>\n",
              "    </tr>\n",
              "  </tbody>\n",
              "</table>\n",
              "</div>"
            ],
            "text/plain": [
              "    이름  순위\n",
              "0  홍길동   3\n",
              "1  이순신   2\n",
              "2  임꺽정   4\n",
              "3  김유신   1"
            ]
          },
          "execution_count": 234,
          "metadata": {},
          "output_type": "execute_result"
        }
      ],
      "source": [
        "df9 = pd.DataFrame({'이름': ['홍길동', '이순신', '임꺽정', '김유신'],\n",
        "                    '순위': [3, 2, 4, 1]})\n",
        "df9"
      ]
    },
    {
      "cell_type": "code",
      "execution_count": 235,
      "metadata": {
        "id": "akYbKT0x0A0J"
      },
      "outputs": [
        {
          "data": {
            "text/html": [
              "<div>\n",
              "<style scoped>\n",
              "    .dataframe tbody tr th:only-of-type {\n",
              "        vertical-align: middle;\n",
              "    }\n",
              "\n",
              "    .dataframe tbody tr th {\n",
              "        vertical-align: top;\n",
              "    }\n",
              "\n",
              "    .dataframe thead th {\n",
              "        text-align: right;\n",
              "    }\n",
              "</style>\n",
              "<table border=\"1\" class=\"dataframe\">\n",
              "  <thead>\n",
              "    <tr style=\"text-align: right;\">\n",
              "      <th></th>\n",
              "      <th>이름</th>\n",
              "      <th>순위</th>\n",
              "    </tr>\n",
              "  </thead>\n",
              "  <tbody>\n",
              "    <tr>\n",
              "      <th>0</th>\n",
              "      <td>홍길동</td>\n",
              "      <td>4</td>\n",
              "    </tr>\n",
              "    <tr>\n",
              "      <th>1</th>\n",
              "      <td>이순신</td>\n",
              "      <td>1</td>\n",
              "    </tr>\n",
              "    <tr>\n",
              "      <th>2</th>\n",
              "      <td>임꺽정</td>\n",
              "      <td>3</td>\n",
              "    </tr>\n",
              "    <tr>\n",
              "      <th>3</th>\n",
              "      <td>김유신</td>\n",
              "      <td>2</td>\n",
              "    </tr>\n",
              "  </tbody>\n",
              "</table>\n",
              "</div>"
            ],
            "text/plain": [
              "    이름  순위\n",
              "0  홍길동   4\n",
              "1  이순신   1\n",
              "2  임꺽정   3\n",
              "3  김유신   2"
            ]
          },
          "execution_count": 235,
          "metadata": {},
          "output_type": "execute_result"
        }
      ],
      "source": [
        "df10 = pd.DataFrame({'이름': ['홍길동', '이순신', '임꺽정', '김유신'],\n",
        "                    '순위': [4, 1, 3, 2]})\n",
        "df10"
      ]
    },
    {
      "cell_type": "code",
      "execution_count": 236,
      "metadata": {
        "id": "hC82_HIA0Gts"
      },
      "outputs": [
        {
          "data": {
            "text/html": [
              "<div>\n",
              "<style scoped>\n",
              "    .dataframe tbody tr th:only-of-type {\n",
              "        vertical-align: middle;\n",
              "    }\n",
              "\n",
              "    .dataframe tbody tr th {\n",
              "        vertical-align: top;\n",
              "    }\n",
              "\n",
              "    .dataframe thead th {\n",
              "        text-align: right;\n",
              "    }\n",
              "</style>\n",
              "<table border=\"1\" class=\"dataframe\">\n",
              "  <thead>\n",
              "    <tr style=\"text-align: right;\">\n",
              "      <th></th>\n",
              "      <th>이름</th>\n",
              "      <th>순위_x</th>\n",
              "      <th>순위_y</th>\n",
              "    </tr>\n",
              "  </thead>\n",
              "  <tbody>\n",
              "    <tr>\n",
              "      <th>0</th>\n",
              "      <td>홍길동</td>\n",
              "      <td>3</td>\n",
              "      <td>4</td>\n",
              "    </tr>\n",
              "    <tr>\n",
              "      <th>1</th>\n",
              "      <td>이순신</td>\n",
              "      <td>2</td>\n",
              "      <td>1</td>\n",
              "    </tr>\n",
              "    <tr>\n",
              "      <th>2</th>\n",
              "      <td>임꺽정</td>\n",
              "      <td>4</td>\n",
              "      <td>3</td>\n",
              "    </tr>\n",
              "    <tr>\n",
              "      <th>3</th>\n",
              "      <td>김유신</td>\n",
              "      <td>1</td>\n",
              "      <td>2</td>\n",
              "    </tr>\n",
              "  </tbody>\n",
              "</table>\n",
              "</div>"
            ],
            "text/plain": [
              "    이름  순위_x  순위_y\n",
              "0  홍길동     3     4\n",
              "1  이순신     2     1\n",
              "2  임꺽정     4     3\n",
              "3  김유신     1     2"
            ]
          },
          "execution_count": 236,
          "metadata": {},
          "output_type": "execute_result"
        }
      ],
      "source": [
        "pd.merge(df9, df10, on=\"이름\")"
      ]
    },
    {
      "cell_type": "code",
      "execution_count": 237,
      "metadata": {
        "id": "lvanUKHh0NSl"
      },
      "outputs": [
        {
          "data": {
            "text/html": [
              "<div>\n",
              "<style scoped>\n",
              "    .dataframe tbody tr th:only-of-type {\n",
              "        vertical-align: middle;\n",
              "    }\n",
              "\n",
              "    .dataframe tbody tr th {\n",
              "        vertical-align: top;\n",
              "    }\n",
              "\n",
              "    .dataframe thead th {\n",
              "        text-align: right;\n",
              "    }\n",
              "</style>\n",
              "<table border=\"1\" class=\"dataframe\">\n",
              "  <thead>\n",
              "    <tr style=\"text-align: right;\">\n",
              "      <th></th>\n",
              "      <th>이름</th>\n",
              "      <th>순위_인기</th>\n",
              "      <th>순위_성적</th>\n",
              "    </tr>\n",
              "  </thead>\n",
              "  <tbody>\n",
              "    <tr>\n",
              "      <th>0</th>\n",
              "      <td>홍길동</td>\n",
              "      <td>3</td>\n",
              "      <td>4</td>\n",
              "    </tr>\n",
              "    <tr>\n",
              "      <th>1</th>\n",
              "      <td>이순신</td>\n",
              "      <td>2</td>\n",
              "      <td>1</td>\n",
              "    </tr>\n",
              "    <tr>\n",
              "      <th>2</th>\n",
              "      <td>임꺽정</td>\n",
              "      <td>4</td>\n",
              "      <td>3</td>\n",
              "    </tr>\n",
              "    <tr>\n",
              "      <th>3</th>\n",
              "      <td>김유신</td>\n",
              "      <td>1</td>\n",
              "      <td>2</td>\n",
              "    </tr>\n",
              "  </tbody>\n",
              "</table>\n",
              "</div>"
            ],
            "text/plain": [
              "    이름  순위_인기  순위_성적\n",
              "0  홍길동      3      4\n",
              "1  이순신      2      1\n",
              "2  임꺽정      4      3\n",
              "3  김유신      1      2"
            ]
          },
          "execution_count": 237,
          "metadata": {},
          "output_type": "execute_result"
        }
      ],
      "source": [
        "pd.merge(df9, df10, on=\"이름\", suffixes=[\"_인기\", \"_성적\"])"
      ]
    },
    {
      "cell_type": "markdown",
      "metadata": {
        "id": "TR_8q2S50uIk"
      },
      "source": [
        "## 데이터 집계와 그룹 연산"
      ]
    },
    {
      "cell_type": "markdown",
      "metadata": {
        "id": "NnkMJFRlWPm7"
      },
      "source": [
        "#### 집계 연산(Aggregation)\n"
      ]
    },
    {
      "cell_type": "code",
      "execution_count": 238,
      "metadata": {
        "id": "5AR3wQl_5QLq"
      },
      "outputs": [
        {
          "data": {
            "text/html": [
              "<div>\n",
              "<style scoped>\n",
              "    .dataframe tbody tr th:only-of-type {\n",
              "        vertical-align: middle;\n",
              "    }\n",
              "\n",
              "    .dataframe tbody tr th {\n",
              "        vertical-align: top;\n",
              "    }\n",
              "\n",
              "    .dataframe thead th {\n",
              "        text-align: right;\n",
              "    }\n",
              "</style>\n",
              "<table border=\"1\" class=\"dataframe\">\n",
              "  <thead>\n",
              "    <tr style=\"text-align: right;\">\n",
              "      <th></th>\n",
              "      <th>A</th>\n",
              "      <th>B</th>\n",
              "      <th>C</th>\n",
              "    </tr>\n",
              "  </thead>\n",
              "  <tbody>\n",
              "    <tr>\n",
              "      <th>1</th>\n",
              "      <td>1.00</td>\n",
              "      <td>1.2</td>\n",
              "      <td>NaN</td>\n",
              "    </tr>\n",
              "    <tr>\n",
              "      <th>2</th>\n",
              "      <td>2.40</td>\n",
              "      <td>5.5</td>\n",
              "      <td>4.2</td>\n",
              "    </tr>\n",
              "    <tr>\n",
              "      <th>3</th>\n",
              "      <td>NaN</td>\n",
              "      <td>NaN</td>\n",
              "      <td>NaN</td>\n",
              "    </tr>\n",
              "    <tr>\n",
              "      <th>4</th>\n",
              "      <td>0.44</td>\n",
              "      <td>-3.1</td>\n",
              "      <td>-4.1</td>\n",
              "    </tr>\n",
              "  </tbody>\n",
              "</table>\n",
              "</div>"
            ],
            "text/plain": [
              "      A    B    C\n",
              "1  1.00  1.2  NaN\n",
              "2  2.40  5.5  4.2\n",
              "3   NaN  NaN  NaN\n",
              "4  0.44 -3.1 -4.1"
            ]
          },
          "execution_count": 238,
          "metadata": {},
          "output_type": "execute_result"
        }
      ],
      "source": [
        "df = pd.DataFrame([[1, 1.2, np.nan],\n",
        "                    [2.4, 5.5, 4.2],\n",
        "                    [np.nan, np.nan, np.nan],\n",
        "                    [0.44, -3.1, -4.1]],\n",
        "                    index=[1, 2, 3, 4],\n",
        "                    columns=['A', 'B', 'C'])\n",
        "df"
      ]
    },
    {
      "cell_type": "code",
      "execution_count": 239,
      "metadata": {
        "id": "jI0_ZOegZh86"
      },
      "outputs": [
        {
          "data": {
            "text/html": [
              "<div>\n",
              "<style scoped>\n",
              "    .dataframe tbody tr th:only-of-type {\n",
              "        vertical-align: middle;\n",
              "    }\n",
              "\n",
              "    .dataframe tbody tr th {\n",
              "        vertical-align: top;\n",
              "    }\n",
              "\n",
              "    .dataframe thead th {\n",
              "        text-align: right;\n",
              "    }\n",
              "</style>\n",
              "<table border=\"1\" class=\"dataframe\">\n",
              "  <thead>\n",
              "    <tr style=\"text-align: right;\">\n",
              "      <th></th>\n",
              "      <th>A</th>\n",
              "      <th>B</th>\n",
              "      <th>C</th>\n",
              "    </tr>\n",
              "  </thead>\n",
              "  <tbody>\n",
              "    <tr>\n",
              "      <th>1</th>\n",
              "      <td>1.0</td>\n",
              "      <td>1.2</td>\n",
              "      <td>NaN</td>\n",
              "    </tr>\n",
              "    <tr>\n",
              "      <th>2</th>\n",
              "      <td>2.4</td>\n",
              "      <td>5.5</td>\n",
              "      <td>4.2</td>\n",
              "    </tr>\n",
              "  </tbody>\n",
              "</table>\n",
              "</div>"
            ],
            "text/plain": [
              "     A    B    C\n",
              "1  1.0  1.2  NaN\n",
              "2  2.4  5.5  4.2"
            ]
          },
          "execution_count": 239,
          "metadata": {},
          "output_type": "execute_result"
        }
      ],
      "source": [
        "df.head(2)"
      ]
    },
    {
      "cell_type": "code",
      "execution_count": 240,
      "metadata": {
        "id": "fd2vnUehZoWF"
      },
      "outputs": [
        {
          "data": {
            "text/html": [
              "<div>\n",
              "<style scoped>\n",
              "    .dataframe tbody tr th:only-of-type {\n",
              "        vertical-align: middle;\n",
              "    }\n",
              "\n",
              "    .dataframe tbody tr th {\n",
              "        vertical-align: top;\n",
              "    }\n",
              "\n",
              "    .dataframe thead th {\n",
              "        text-align: right;\n",
              "    }\n",
              "</style>\n",
              "<table border=\"1\" class=\"dataframe\">\n",
              "  <thead>\n",
              "    <tr style=\"text-align: right;\">\n",
              "      <th></th>\n",
              "      <th>A</th>\n",
              "      <th>B</th>\n",
              "      <th>C</th>\n",
              "    </tr>\n",
              "  </thead>\n",
              "  <tbody>\n",
              "    <tr>\n",
              "      <th>3</th>\n",
              "      <td>NaN</td>\n",
              "      <td>NaN</td>\n",
              "      <td>NaN</td>\n",
              "    </tr>\n",
              "    <tr>\n",
              "      <th>4</th>\n",
              "      <td>0.44</td>\n",
              "      <td>-3.1</td>\n",
              "      <td>-4.1</td>\n",
              "    </tr>\n",
              "  </tbody>\n",
              "</table>\n",
              "</div>"
            ],
            "text/plain": [
              "      A    B    C\n",
              "3   NaN  NaN  NaN\n",
              "4  0.44 -3.1 -4.1"
            ]
          },
          "execution_count": 240,
          "metadata": {},
          "output_type": "execute_result"
        }
      ],
      "source": [
        "df.tail(2)"
      ]
    },
    {
      "cell_type": "code",
      "execution_count": 241,
      "metadata": {
        "id": "I4DNBURwZq76"
      },
      "outputs": [
        {
          "data": {
            "text/html": [
              "<div>\n",
              "<style scoped>\n",
              "    .dataframe tbody tr th:only-of-type {\n",
              "        vertical-align: middle;\n",
              "    }\n",
              "\n",
              "    .dataframe tbody tr th {\n",
              "        vertical-align: top;\n",
              "    }\n",
              "\n",
              "    .dataframe thead th {\n",
              "        text-align: right;\n",
              "    }\n",
              "</style>\n",
              "<table border=\"1\" class=\"dataframe\">\n",
              "  <thead>\n",
              "    <tr style=\"text-align: right;\">\n",
              "      <th></th>\n",
              "      <th>A</th>\n",
              "      <th>B</th>\n",
              "      <th>C</th>\n",
              "    </tr>\n",
              "  </thead>\n",
              "  <tbody>\n",
              "    <tr>\n",
              "      <th>count</th>\n",
              "      <td>3.000000</td>\n",
              "      <td>3.00</td>\n",
              "      <td>2.000000</td>\n",
              "    </tr>\n",
              "    <tr>\n",
              "      <th>mean</th>\n",
              "      <td>1.280000</td>\n",
              "      <td>1.20</td>\n",
              "      <td>0.050000</td>\n",
              "    </tr>\n",
              "    <tr>\n",
              "      <th>std</th>\n",
              "      <td>1.009554</td>\n",
              "      <td>4.30</td>\n",
              "      <td>5.868986</td>\n",
              "    </tr>\n",
              "    <tr>\n",
              "      <th>min</th>\n",
              "      <td>0.440000</td>\n",
              "      <td>-3.10</td>\n",
              "      <td>-4.100000</td>\n",
              "    </tr>\n",
              "    <tr>\n",
              "      <th>25%</th>\n",
              "      <td>0.720000</td>\n",
              "      <td>-0.95</td>\n",
              "      <td>-2.025000</td>\n",
              "    </tr>\n",
              "    <tr>\n",
              "      <th>50%</th>\n",
              "      <td>1.000000</td>\n",
              "      <td>1.20</td>\n",
              "      <td>0.050000</td>\n",
              "    </tr>\n",
              "    <tr>\n",
              "      <th>75%</th>\n",
              "      <td>1.700000</td>\n",
              "      <td>3.35</td>\n",
              "      <td>2.125000</td>\n",
              "    </tr>\n",
              "    <tr>\n",
              "      <th>max</th>\n",
              "      <td>2.400000</td>\n",
              "      <td>5.50</td>\n",
              "      <td>4.200000</td>\n",
              "    </tr>\n",
              "  </tbody>\n",
              "</table>\n",
              "</div>"
            ],
            "text/plain": [
              "              A     B         C\n",
              "count  3.000000  3.00  2.000000\n",
              "mean   1.280000  1.20  0.050000\n",
              "std    1.009554  4.30  5.868986\n",
              "min    0.440000 -3.10 -4.100000\n",
              "25%    0.720000 -0.95 -2.025000\n",
              "50%    1.000000  1.20  0.050000\n",
              "75%    1.700000  3.35  2.125000\n",
              "max    2.400000  5.50  4.200000"
            ]
          },
          "execution_count": 241,
          "metadata": {},
          "output_type": "execute_result"
        }
      ],
      "source": [
        "df.describe()"
      ]
    },
    {
      "cell_type": "code",
      "execution_count": 242,
      "metadata": {
        "id": "M9mBVcqmZ-K_"
      },
      "outputs": [
        {
          "name": "stdout",
          "output_type": "stream",
          "text": [
            "      A    B    C\n",
            "1  1.00  1.2  NaN\n",
            "2  2.40  5.5  4.2\n",
            "3   NaN  NaN  NaN\n",
            "4  0.44 -3.1 -4.1\n",
            "2 2\n"
          ]
        }
      ],
      "source": [
        "print(df)\n",
        "print(np.argmin(df), np.argmax(df))"
      ]
    },
    {
      "cell_type": "code",
      "execution_count": 243,
      "metadata": {
        "id": "i65nWUsJa2p1"
      },
      "outputs": [
        {
          "name": "stdout",
          "output_type": "stream",
          "text": [
            "      A    B    C\n",
            "1  1.00  1.2  NaN\n",
            "2  2.40  5.5  4.2\n",
            "3   NaN  NaN  NaN\n",
            "4  0.44 -3.1 -4.1\n",
            "A    4\n",
            "B    4\n",
            "C    4\n",
            "dtype: int64\n",
            "A    2\n",
            "B    2\n",
            "C    2\n",
            "dtype: int64\n"
          ]
        }
      ],
      "source": [
        "print(df)\n",
        "print(df.idxmin())\n",
        "print(df.idxmax())"
      ]
    },
    {
      "cell_type": "code",
      "execution_count": 244,
      "metadata": {
        "id": "jqs9rYXAd-Kn"
      },
      "outputs": [
        {
          "name": "stdout",
          "output_type": "stream",
          "text": [
            "      A    B    C\n",
            "1  1.00  1.2  NaN\n",
            "2  2.40  5.5  4.2\n",
            "3   NaN  NaN  NaN\n",
            "4  0.44 -3.1 -4.1\n",
            "A    1.009554\n",
            "B    4.300000\n",
            "C    5.868986\n",
            "dtype: float64\n",
            "A     1.0192\n",
            "B    18.4900\n",
            "C    34.4450\n",
            "dtype: float64\n"
          ]
        }
      ],
      "source": [
        "print(df)\n",
        "print(df.std())\n",
        "print(df.var())"
      ]
    },
    {
      "cell_type": "code",
      "execution_count": 245,
      "metadata": {
        "id": "gYIy8wF7eNth"
      },
      "outputs": [
        {
          "name": "stdout",
          "output_type": "stream",
          "text": [
            "      A    B    C\n",
            "1  1.00  1.2  NaN\n",
            "2  2.40  5.5  4.2\n",
            "3   NaN  NaN  NaN\n",
            "4  0.44 -3.1 -4.1\n",
            "A    1.15207\n",
            "B    0.00000\n",
            "C        NaN\n",
            "dtype: float64\n",
            "A   NaN\n",
            "B   NaN\n",
            "C   NaN\n",
            "dtype: float64\n"
          ]
        }
      ],
      "source": [
        "print(df)\n",
        "print(df.skew())\n",
        "print(df.kurt())"
      ]
    },
    {
      "cell_type": "code",
      "execution_count": 246,
      "metadata": {
        "id": "IYZJFuMte3Jb"
      },
      "outputs": [
        {
          "name": "stdout",
          "output_type": "stream",
          "text": [
            "      A    B    C\n",
            "1  1.00  1.2  NaN\n",
            "2  2.40  5.5  4.2\n",
            "3   NaN  NaN  NaN\n",
            "4  0.44 -3.1 -4.1\n",
            "A    3.84\n",
            "B    3.60\n",
            "C    0.10\n",
            "dtype: float64\n",
            "      A    B    C\n",
            "1  1.00  1.2  NaN\n",
            "2  3.40  6.7  4.2\n",
            "3   NaN  NaN  NaN\n",
            "4  3.84  3.6  0.1\n"
          ]
        }
      ],
      "source": [
        "print(df)\n",
        "print(df.sum())\n",
        "print(df.cumsum())"
      ]
    },
    {
      "cell_type": "code",
      "execution_count": 247,
      "metadata": {
        "id": "zeo4laoDfARh"
      },
      "outputs": [
        {
          "name": "stdout",
          "output_type": "stream",
          "text": [
            "      A    B    C\n",
            "1  1.00  1.2  NaN\n",
            "2  2.40  5.5  4.2\n",
            "3   NaN  NaN  NaN\n",
            "4  0.44 -3.1 -4.1\n",
            "A     1.056\n",
            "B   -20.460\n",
            "C   -17.220\n",
            "dtype: float64\n",
            "       A      B      C\n",
            "1  1.000   1.20    NaN\n",
            "2  2.400   6.60   4.20\n",
            "3    NaN    NaN    NaN\n",
            "4  1.056 -20.46 -17.22\n"
          ]
        }
      ],
      "source": [
        "print(df)\n",
        "print(df.prod())\n",
        "print(df.cumprod())"
      ]
    },
    {
      "cell_type": "code",
      "execution_count": 248,
      "metadata": {
        "id": "uO8VFmO3mku9"
      },
      "outputs": [
        {
          "data": {
            "text/html": [
              "<div>\n",
              "<style scoped>\n",
              "    .dataframe tbody tr th:only-of-type {\n",
              "        vertical-align: middle;\n",
              "    }\n",
              "\n",
              "    .dataframe tbody tr th {\n",
              "        vertical-align: top;\n",
              "    }\n",
              "\n",
              "    .dataframe thead th {\n",
              "        text-align: right;\n",
              "    }\n",
              "</style>\n",
              "<table border=\"1\" class=\"dataframe\">\n",
              "  <thead>\n",
              "    <tr style=\"text-align: right;\">\n",
              "      <th></th>\n",
              "      <th>A</th>\n",
              "      <th>B</th>\n",
              "      <th>C</th>\n",
              "    </tr>\n",
              "  </thead>\n",
              "  <tbody>\n",
              "    <tr>\n",
              "      <th>1</th>\n",
              "      <td>NaN</td>\n",
              "      <td>NaN</td>\n",
              "      <td>NaN</td>\n",
              "    </tr>\n",
              "    <tr>\n",
              "      <th>2</th>\n",
              "      <td>1.4</td>\n",
              "      <td>4.3</td>\n",
              "      <td>NaN</td>\n",
              "    </tr>\n",
              "    <tr>\n",
              "      <th>3</th>\n",
              "      <td>NaN</td>\n",
              "      <td>NaN</td>\n",
              "      <td>NaN</td>\n",
              "    </tr>\n",
              "    <tr>\n",
              "      <th>4</th>\n",
              "      <td>NaN</td>\n",
              "      <td>NaN</td>\n",
              "      <td>NaN</td>\n",
              "    </tr>\n",
              "  </tbody>\n",
              "</table>\n",
              "</div>"
            ],
            "text/plain": [
              "     A    B   C\n",
              "1  NaN  NaN NaN\n",
              "2  1.4  4.3 NaN\n",
              "3  NaN  NaN NaN\n",
              "4  NaN  NaN NaN"
            ]
          },
          "execution_count": 248,
          "metadata": {},
          "output_type": "execute_result"
        }
      ],
      "source": [
        "df.diff()"
      ]
    },
    {
      "cell_type": "code",
      "execution_count": 249,
      "metadata": {
        "id": "TfgY7dimneBl"
      },
      "outputs": [
        {
          "data": {
            "text/plain": [
              "A    1.00\n",
              "B    1.20\n",
              "C    0.05\n",
              "Name: 0.5, dtype: float64"
            ]
          },
          "execution_count": 249,
          "metadata": {},
          "output_type": "execute_result"
        }
      ],
      "source": [
        "df.quantile()"
      ]
    },
    {
      "cell_type": "code",
      "execution_count": 250,
      "metadata": {
        "id": "dF_MpNjypa2z"
      },
      "outputs": [
        {
          "data": {
            "text/html": [
              "<div>\n",
              "<style scoped>\n",
              "    .dataframe tbody tr th:only-of-type {\n",
              "        vertical-align: middle;\n",
              "    }\n",
              "\n",
              "    .dataframe tbody tr th {\n",
              "        vertical-align: top;\n",
              "    }\n",
              "\n",
              "    .dataframe thead th {\n",
              "        text-align: right;\n",
              "    }\n",
              "</style>\n",
              "<table border=\"1\" class=\"dataframe\">\n",
              "  <thead>\n",
              "    <tr style=\"text-align: right;\">\n",
              "      <th></th>\n",
              "      <th>A</th>\n",
              "      <th>B</th>\n",
              "      <th>C</th>\n",
              "    </tr>\n",
              "  </thead>\n",
              "  <tbody>\n",
              "    <tr>\n",
              "      <th>1</th>\n",
              "      <td>NaN</td>\n",
              "      <td>NaN</td>\n",
              "      <td>NaN</td>\n",
              "    </tr>\n",
              "    <tr>\n",
              "      <th>2</th>\n",
              "      <td>1.400000</td>\n",
              "      <td>3.583333</td>\n",
              "      <td>NaN</td>\n",
              "    </tr>\n",
              "    <tr>\n",
              "      <th>3</th>\n",
              "      <td>0.000000</td>\n",
              "      <td>0.000000</td>\n",
              "      <td>0.00000</td>\n",
              "    </tr>\n",
              "    <tr>\n",
              "      <th>4</th>\n",
              "      <td>-0.816667</td>\n",
              "      <td>-1.563636</td>\n",
              "      <td>-1.97619</td>\n",
              "    </tr>\n",
              "  </tbody>\n",
              "</table>\n",
              "</div>"
            ],
            "text/plain": [
              "          A         B        C\n",
              "1       NaN       NaN      NaN\n",
              "2  1.400000  3.583333      NaN\n",
              "3  0.000000  0.000000  0.00000\n",
              "4 -0.816667 -1.563636 -1.97619"
            ]
          },
          "execution_count": 250,
          "metadata": {},
          "output_type": "execute_result"
        }
      ],
      "source": [
        "df.pct_change()"
      ]
    },
    {
      "cell_type": "code",
      "execution_count": 251,
      "metadata": {
        "id": "oE-GXjRSpN3-"
      },
      "outputs": [
        {
          "data": {
            "text/html": [
              "<div>\n",
              "<style scoped>\n",
              "    .dataframe tbody tr th:only-of-type {\n",
              "        vertical-align: middle;\n",
              "    }\n",
              "\n",
              "    .dataframe tbody tr th {\n",
              "        vertical-align: top;\n",
              "    }\n",
              "\n",
              "    .dataframe thead th {\n",
              "        text-align: right;\n",
              "    }\n",
              "</style>\n",
              "<table border=\"1\" class=\"dataframe\">\n",
              "  <thead>\n",
              "    <tr style=\"text-align: right;\">\n",
              "      <th></th>\n",
              "      <th>A</th>\n",
              "      <th>B</th>\n",
              "      <th>C</th>\n",
              "    </tr>\n",
              "  </thead>\n",
              "  <tbody>\n",
              "    <tr>\n",
              "      <th>A</th>\n",
              "      <td>1.000000</td>\n",
              "      <td>0.970725</td>\n",
              "      <td>1.0</td>\n",
              "    </tr>\n",
              "    <tr>\n",
              "      <th>B</th>\n",
              "      <td>0.970725</td>\n",
              "      <td>1.000000</td>\n",
              "      <td>1.0</td>\n",
              "    </tr>\n",
              "    <tr>\n",
              "      <th>C</th>\n",
              "      <td>1.000000</td>\n",
              "      <td>1.000000</td>\n",
              "      <td>1.0</td>\n",
              "    </tr>\n",
              "  </tbody>\n",
              "</table>\n",
              "</div>"
            ],
            "text/plain": [
              "          A         B    C\n",
              "A  1.000000  0.970725  1.0\n",
              "B  0.970725  1.000000  1.0\n",
              "C  1.000000  1.000000  1.0"
            ]
          },
          "execution_count": 251,
          "metadata": {},
          "output_type": "execute_result"
        }
      ],
      "source": [
        "df.corr()"
      ]
    },
    {
      "cell_type": "code",
      "execution_count": 252,
      "metadata": {
        "id": "NYkglCVFqZbI"
      },
      "outputs": [
        {
          "data": {
            "text/plain": [
              "A    0.970725\n",
              "B    1.000000\n",
              "C    1.000000\n",
              "dtype: float64"
            ]
          },
          "execution_count": 252,
          "metadata": {},
          "output_type": "execute_result"
        }
      ],
      "source": [
        "df.corrwith(df.B)"
      ]
    },
    {
      "cell_type": "code",
      "execution_count": 253,
      "metadata": {
        "id": "reK3YKyVpTh-"
      },
      "outputs": [
        {
          "data": {
            "text/html": [
              "<div>\n",
              "<style scoped>\n",
              "    .dataframe tbody tr th:only-of-type {\n",
              "        vertical-align: middle;\n",
              "    }\n",
              "\n",
              "    .dataframe tbody tr th {\n",
              "        vertical-align: top;\n",
              "    }\n",
              "\n",
              "    .dataframe thead th {\n",
              "        text-align: right;\n",
              "    }\n",
              "</style>\n",
              "<table border=\"1\" class=\"dataframe\">\n",
              "  <thead>\n",
              "    <tr style=\"text-align: right;\">\n",
              "      <th></th>\n",
              "      <th>A</th>\n",
              "      <th>B</th>\n",
              "      <th>C</th>\n",
              "    </tr>\n",
              "  </thead>\n",
              "  <tbody>\n",
              "    <tr>\n",
              "      <th>A</th>\n",
              "      <td>1.0192</td>\n",
              "      <td>4.214</td>\n",
              "      <td>8.134</td>\n",
              "    </tr>\n",
              "    <tr>\n",
              "      <th>B</th>\n",
              "      <td>4.2140</td>\n",
              "      <td>18.490</td>\n",
              "      <td>35.690</td>\n",
              "    </tr>\n",
              "    <tr>\n",
              "      <th>C</th>\n",
              "      <td>8.1340</td>\n",
              "      <td>35.690</td>\n",
              "      <td>34.445</td>\n",
              "    </tr>\n",
              "  </tbody>\n",
              "</table>\n",
              "</div>"
            ],
            "text/plain": [
              "        A       B       C\n",
              "A  1.0192   4.214   8.134\n",
              "B  4.2140  18.490  35.690\n",
              "C  8.1340  35.690  34.445"
            ]
          },
          "execution_count": 253,
          "metadata": {},
          "output_type": "execute_result"
        }
      ],
      "source": [
        "df.cov()"
      ]
    },
    {
      "cell_type": "code",
      "execution_count": 254,
      "metadata": {
        "id": "NYmiwnWmqmOE"
      },
      "outputs": [
        {
          "data": {
            "text/plain": [
              "array([ 1.2,  5.5,  nan, -3.1])"
            ]
          },
          "execution_count": 254,
          "metadata": {},
          "output_type": "execute_result"
        }
      ],
      "source": [
        "df['B'].unique()"
      ]
    },
    {
      "cell_type": "code",
      "execution_count": 255,
      "metadata": {
        "id": "uzOEBqYAq0bf"
      },
      "outputs": [
        {
          "data": {
            "text/plain": [
              "1.00    1\n",
              "2.40    1\n",
              "0.44    1\n",
              "Name: A, dtype: int64"
            ]
          },
          "execution_count": 255,
          "metadata": {},
          "output_type": "execute_result"
        }
      ],
      "source": [
        "df['A'].value_counts()"
      ]
    },
    {
      "cell_type": "markdown",
      "metadata": {
        "id": "iVaTvBns27tS"
      },
      "source": [
        "### GroupBy 연산"
      ]
    },
    {
      "cell_type": "code",
      "execution_count": 256,
      "metadata": {
        "id": "yOTrmBm58Wwm"
      },
      "outputs": [
        {
          "data": {
            "text/html": [
              "<div>\n",
              "<style scoped>\n",
              "    .dataframe tbody tr th:only-of-type {\n",
              "        vertical-align: middle;\n",
              "    }\n",
              "\n",
              "    .dataframe tbody tr th {\n",
              "        vertical-align: top;\n",
              "    }\n",
              "\n",
              "    .dataframe thead th {\n",
              "        text-align: right;\n",
              "    }\n",
              "</style>\n",
              "<table border=\"1\" class=\"dataframe\">\n",
              "  <thead>\n",
              "    <tr style=\"text-align: right;\">\n",
              "      <th></th>\n",
              "      <th>c1</th>\n",
              "      <th>c2</th>\n",
              "      <th>c3</th>\n",
              "      <th>c4</th>\n",
              "    </tr>\n",
              "  </thead>\n",
              "  <tbody>\n",
              "    <tr>\n",
              "      <th>0</th>\n",
              "      <td>a</td>\n",
              "      <td>A</td>\n",
              "      <td>4</td>\n",
              "      <td>0.262206</td>\n",
              "    </tr>\n",
              "    <tr>\n",
              "      <th>1</th>\n",
              "      <td>a</td>\n",
              "      <td>B</td>\n",
              "      <td>4</td>\n",
              "      <td>0.609604</td>\n",
              "    </tr>\n",
              "    <tr>\n",
              "      <th>2</th>\n",
              "      <td>b</td>\n",
              "      <td>B</td>\n",
              "      <td>4</td>\n",
              "      <td>0.610999</td>\n",
              "    </tr>\n",
              "    <tr>\n",
              "      <th>3</th>\n",
              "      <td>b</td>\n",
              "      <td>A</td>\n",
              "      <td>4</td>\n",
              "      <td>0.423829</td>\n",
              "    </tr>\n",
              "    <tr>\n",
              "      <th>4</th>\n",
              "      <td>c</td>\n",
              "      <td>D</td>\n",
              "      <td>4</td>\n",
              "      <td>0.898797</td>\n",
              "    </tr>\n",
              "    <tr>\n",
              "      <th>5</th>\n",
              "      <td>d</td>\n",
              "      <td>C</td>\n",
              "      <td>4</td>\n",
              "      <td>0.204751</td>\n",
              "    </tr>\n",
              "    <tr>\n",
              "      <th>6</th>\n",
              "      <td>b</td>\n",
              "      <td>C</td>\n",
              "      <td>4</td>\n",
              "      <td>0.200867</td>\n",
              "    </tr>\n",
              "  </tbody>\n",
              "</table>\n",
              "</div>"
            ],
            "text/plain": [
              "  c1 c2  c3        c4\n",
              "0  a  A   4  0.262206\n",
              "1  a  B   4  0.609604\n",
              "2  b  B   4  0.610999\n",
              "3  b  A   4  0.423829\n",
              "4  c  D   4  0.898797\n",
              "5  d  C   4  0.204751\n",
              "6  b  C   4  0.200867"
            ]
          },
          "execution_count": 256,
          "metadata": {},
          "output_type": "execute_result"
        }
      ],
      "source": [
        "df = pd.DataFrame({'c1': ['a', 'a', 'b', 'b', 'c', 'd', 'b'],\n",
        "                'c2': ['A', 'B', 'B', 'A', 'D', 'C', 'C'],\n",
        "                'c3': np.random.randint(7),\n",
        "                'c4': np.random.random(7)})\n",
        "df"
      ]
    },
    {
      "cell_type": "code",
      "execution_count": 257,
      "metadata": {
        "id": "8NNZKuIzXKFD"
      },
      "outputs": [
        {
          "data": {
            "text/plain": [
              "c1     object\n",
              "c2     object\n",
              "c3      int64\n",
              "c4    float64\n",
              "dtype: object"
            ]
          },
          "execution_count": 257,
          "metadata": {},
          "output_type": "execute_result"
        }
      ],
      "source": [
        "df.dtypes"
      ]
    },
    {
      "cell_type": "code",
      "execution_count": 258,
      "metadata": {
        "id": "YyL-IgRFJwPE"
      },
      "outputs": [
        {
          "data": {
            "text/plain": [
              "c1\n",
              "a    4.0\n",
              "b    4.0\n",
              "c    4.0\n",
              "d    4.0\n",
              "Name: c3, dtype: float64"
            ]
          },
          "execution_count": 258,
          "metadata": {},
          "output_type": "execute_result"
        }
      ],
      "source": [
        "df['c3'].groupby(df['c1']).mean()"
      ]
    },
    {
      "cell_type": "code",
      "execution_count": 259,
      "metadata": {
        "id": "5Jkhs5U-OMSE"
      },
      "outputs": [
        {
          "data": {
            "text/plain": [
              "c2\n",
              "A    0.114285\n",
              "B    0.000987\n",
              "C    0.002746\n",
              "D         NaN\n",
              "Name: c4, dtype: float64"
            ]
          },
          "execution_count": 259,
          "metadata": {},
          "output_type": "execute_result"
        }
      ],
      "source": [
        "df['c4'].groupby(df['c2']).std()"
      ]
    },
    {
      "cell_type": "code",
      "execution_count": 260,
      "metadata": {
        "id": "WpDjcHLtOSto"
      },
      "outputs": [
        {
          "data": {
            "text/plain": [
              "c1  c2\n",
              "a   A     0.262206\n",
              "    B     0.609604\n",
              "b   A     0.423829\n",
              "    B     0.610999\n",
              "    C     0.200867\n",
              "c   D     0.898797\n",
              "d   C     0.204751\n",
              "Name: c4, dtype: float64"
            ]
          },
          "execution_count": 260,
          "metadata": {},
          "output_type": "execute_result"
        }
      ],
      "source": [
        "df['c4'].groupby([df['c1'], df['c2']]).mean()"
      ]
    },
    {
      "cell_type": "code",
      "execution_count": 261,
      "metadata": {
        "id": "l4CCXC_jOkac"
      },
      "outputs": [
        {
          "data": {
            "text/html": [
              "<div>\n",
              "<style scoped>\n",
              "    .dataframe tbody tr th:only-of-type {\n",
              "        vertical-align: middle;\n",
              "    }\n",
              "\n",
              "    .dataframe tbody tr th {\n",
              "        vertical-align: top;\n",
              "    }\n",
              "\n",
              "    .dataframe thead th {\n",
              "        text-align: right;\n",
              "    }\n",
              "</style>\n",
              "<table border=\"1\" class=\"dataframe\">\n",
              "  <thead>\n",
              "    <tr style=\"text-align: right;\">\n",
              "      <th>c2</th>\n",
              "      <th>A</th>\n",
              "      <th>B</th>\n",
              "      <th>C</th>\n",
              "      <th>D</th>\n",
              "    </tr>\n",
              "    <tr>\n",
              "      <th>c1</th>\n",
              "      <th></th>\n",
              "      <th></th>\n",
              "      <th></th>\n",
              "      <th></th>\n",
              "    </tr>\n",
              "  </thead>\n",
              "  <tbody>\n",
              "    <tr>\n",
              "      <th>a</th>\n",
              "      <td>0.262206</td>\n",
              "      <td>0.609604</td>\n",
              "      <td>NaN</td>\n",
              "      <td>NaN</td>\n",
              "    </tr>\n",
              "    <tr>\n",
              "      <th>b</th>\n",
              "      <td>0.423829</td>\n",
              "      <td>0.610999</td>\n",
              "      <td>0.200867</td>\n",
              "      <td>NaN</td>\n",
              "    </tr>\n",
              "    <tr>\n",
              "      <th>c</th>\n",
              "      <td>NaN</td>\n",
              "      <td>NaN</td>\n",
              "      <td>NaN</td>\n",
              "      <td>0.898797</td>\n",
              "    </tr>\n",
              "    <tr>\n",
              "      <th>d</th>\n",
              "      <td>NaN</td>\n",
              "      <td>NaN</td>\n",
              "      <td>0.204751</td>\n",
              "      <td>NaN</td>\n",
              "    </tr>\n",
              "  </tbody>\n",
              "</table>\n",
              "</div>"
            ],
            "text/plain": [
              "c2         A         B         C         D\n",
              "c1                                        \n",
              "a   0.262206  0.609604       NaN       NaN\n",
              "b   0.423829  0.610999  0.200867       NaN\n",
              "c        NaN       NaN       NaN  0.898797\n",
              "d        NaN       NaN  0.204751       NaN"
            ]
          },
          "execution_count": 261,
          "metadata": {},
          "output_type": "execute_result"
        }
      ],
      "source": [
        "df['c4'].groupby([df['c1'], df['c2']]).mean().unstack()"
      ]
    },
    {
      "cell_type": "code",
      "execution_count": 262,
      "metadata": {
        "id": "v4t_XjXWROgc"
      },
      "outputs": [
        {
          "data": {
            "text/html": [
              "<div>\n",
              "<style scoped>\n",
              "    .dataframe tbody tr th:only-of-type {\n",
              "        vertical-align: middle;\n",
              "    }\n",
              "\n",
              "    .dataframe tbody tr th {\n",
              "        vertical-align: top;\n",
              "    }\n",
              "\n",
              "    .dataframe thead th {\n",
              "        text-align: right;\n",
              "    }\n",
              "</style>\n",
              "<table border=\"1\" class=\"dataframe\">\n",
              "  <thead>\n",
              "    <tr style=\"text-align: right;\">\n",
              "      <th></th>\n",
              "      <th>c3</th>\n",
              "      <th>c4</th>\n",
              "    </tr>\n",
              "    <tr>\n",
              "      <th>c1</th>\n",
              "      <th></th>\n",
              "      <th></th>\n",
              "    </tr>\n",
              "  </thead>\n",
              "  <tbody>\n",
              "    <tr>\n",
              "      <th>a</th>\n",
              "      <td>4.0</td>\n",
              "      <td>0.435905</td>\n",
              "    </tr>\n",
              "    <tr>\n",
              "      <th>b</th>\n",
              "      <td>4.0</td>\n",
              "      <td>0.411898</td>\n",
              "    </tr>\n",
              "    <tr>\n",
              "      <th>c</th>\n",
              "      <td>4.0</td>\n",
              "      <td>0.898797</td>\n",
              "    </tr>\n",
              "    <tr>\n",
              "      <th>d</th>\n",
              "      <td>4.0</td>\n",
              "      <td>0.204751</td>\n",
              "    </tr>\n",
              "  </tbody>\n",
              "</table>\n",
              "</div>"
            ],
            "text/plain": [
              "     c3        c4\n",
              "c1               \n",
              "a   4.0  0.435905\n",
              "b   4.0  0.411898\n",
              "c   4.0  0.898797\n",
              "d   4.0  0.204751"
            ]
          },
          "execution_count": 262,
          "metadata": {},
          "output_type": "execute_result"
        }
      ],
      "source": [
        "df.groupby('c1').mean()"
      ]
    },
    {
      "cell_type": "code",
      "execution_count": 263,
      "metadata": {
        "id": "WrFg05U5RXE6"
      },
      "outputs": [
        {
          "data": {
            "text/html": [
              "<div>\n",
              "<style scoped>\n",
              "    .dataframe tbody tr th:only-of-type {\n",
              "        vertical-align: middle;\n",
              "    }\n",
              "\n",
              "    .dataframe tbody tr th {\n",
              "        vertical-align: top;\n",
              "    }\n",
              "\n",
              "    .dataframe thead th {\n",
              "        text-align: right;\n",
              "    }\n",
              "</style>\n",
              "<table border=\"1\" class=\"dataframe\">\n",
              "  <thead>\n",
              "    <tr style=\"text-align: right;\">\n",
              "      <th></th>\n",
              "      <th></th>\n",
              "      <th>c3</th>\n",
              "      <th>c4</th>\n",
              "    </tr>\n",
              "    <tr>\n",
              "      <th>c1</th>\n",
              "      <th>c2</th>\n",
              "      <th></th>\n",
              "      <th></th>\n",
              "    </tr>\n",
              "  </thead>\n",
              "  <tbody>\n",
              "    <tr>\n",
              "      <th rowspan=\"2\" valign=\"top\">a</th>\n",
              "      <th>A</th>\n",
              "      <td>4.0</td>\n",
              "      <td>0.262206</td>\n",
              "    </tr>\n",
              "    <tr>\n",
              "      <th>B</th>\n",
              "      <td>4.0</td>\n",
              "      <td>0.609604</td>\n",
              "    </tr>\n",
              "    <tr>\n",
              "      <th rowspan=\"3\" valign=\"top\">b</th>\n",
              "      <th>A</th>\n",
              "      <td>4.0</td>\n",
              "      <td>0.423829</td>\n",
              "    </tr>\n",
              "    <tr>\n",
              "      <th>B</th>\n",
              "      <td>4.0</td>\n",
              "      <td>0.610999</td>\n",
              "    </tr>\n",
              "    <tr>\n",
              "      <th>C</th>\n",
              "      <td>4.0</td>\n",
              "      <td>0.200867</td>\n",
              "    </tr>\n",
              "    <tr>\n",
              "      <th>c</th>\n",
              "      <th>D</th>\n",
              "      <td>4.0</td>\n",
              "      <td>0.898797</td>\n",
              "    </tr>\n",
              "    <tr>\n",
              "      <th>d</th>\n",
              "      <th>C</th>\n",
              "      <td>4.0</td>\n",
              "      <td>0.204751</td>\n",
              "    </tr>\n",
              "  </tbody>\n",
              "</table>\n",
              "</div>"
            ],
            "text/plain": [
              "        c3        c4\n",
              "c1 c2               \n",
              "a  A   4.0  0.262206\n",
              "   B   4.0  0.609604\n",
              "b  A   4.0  0.423829\n",
              "   B   4.0  0.610999\n",
              "   C   4.0  0.200867\n",
              "c  D   4.0  0.898797\n",
              "d  C   4.0  0.204751"
            ]
          },
          "execution_count": 263,
          "metadata": {},
          "output_type": "execute_result"
        }
      ],
      "source": [
        "df.groupby(['c1', 'c2']).mean()"
      ]
    },
    {
      "cell_type": "code",
      "execution_count": 264,
      "metadata": {
        "id": "Oj5diRr-Rh3Y"
      },
      "outputs": [
        {
          "data": {
            "text/plain": [
              "c1  c2\n",
              "a   A     1\n",
              "    B     1\n",
              "b   A     1\n",
              "    B     1\n",
              "    C     1\n",
              "c   D     1\n",
              "d   C     1\n",
              "dtype: int64"
            ]
          },
          "execution_count": 264,
          "metadata": {},
          "output_type": "execute_result"
        }
      ],
      "source": [
        "df.groupby(['c1', 'c2']).size()"
      ]
    },
    {
      "cell_type": "code",
      "execution_count": 265,
      "metadata": {
        "id": "drwoM9kNViu9"
      },
      "outputs": [
        {
          "name": "stdout",
          "output_type": "stream",
          "text": [
            "a\n",
            "  c1 c2  c3        c4\n",
            "0  a  A   4  0.262206\n",
            "1  a  B   4  0.609604\n",
            "b\n",
            "  c1 c2  c3        c4\n",
            "2  b  B   4  0.610999\n",
            "3  b  A   4  0.423829\n",
            "6  b  C   4  0.200867\n",
            "c\n",
            "  c1 c2  c3        c4\n",
            "4  c  D   4  0.898797\n",
            "d\n",
            "  c1 c2  c3        c4\n",
            "5  d  C   4  0.204751\n"
          ]
        }
      ],
      "source": [
        "for c1, group in df.groupby('c1'):\n",
        "    print(c1)\n",
        "    print(group)"
      ]
    },
    {
      "cell_type": "code",
      "execution_count": 266,
      "metadata": {
        "id": "TYDUCgdCWQW7"
      },
      "outputs": [
        {
          "name": "stdout",
          "output_type": "stream",
          "text": [
            "('a', 'A')\n",
            "  c1 c2  c3        c4\n",
            "0  a  A   4  0.262206\n",
            "('a', 'B')\n",
            "  c1 c2  c3        c4\n",
            "1  a  B   4  0.609604\n",
            "('b', 'A')\n",
            "  c1 c2  c3        c4\n",
            "3  b  A   4  0.423829\n",
            "('b', 'B')\n",
            "  c1 c2  c3        c4\n",
            "2  b  B   4  0.610999\n",
            "('b', 'C')\n",
            "  c1 c2  c3        c4\n",
            "6  b  C   4  0.200867\n",
            "('c', 'D')\n",
            "  c1 c2  c3        c4\n",
            "4  c  D   4  0.898797\n",
            "('d', 'C')\n",
            "  c1 c2  c3        c4\n",
            "5  d  C   4  0.204751\n"
          ]
        }
      ],
      "source": [
        "for (c1, c2), group in df.groupby(['c1', 'c2']):\n",
        "    print((c1, c2))\n",
        "    print(group)"
      ]
    },
    {
      "cell_type": "code",
      "execution_count": 267,
      "metadata": {
        "id": "gqqcpQx6XFPD"
      },
      "outputs": [
        {
          "data": {
            "text/html": [
              "<div>\n",
              "<style scoped>\n",
              "    .dataframe tbody tr th:only-of-type {\n",
              "        vertical-align: middle;\n",
              "    }\n",
              "\n",
              "    .dataframe tbody tr th {\n",
              "        vertical-align: top;\n",
              "    }\n",
              "\n",
              "    .dataframe thead th {\n",
              "        text-align: right;\n",
              "    }\n",
              "</style>\n",
              "<table border=\"1\" class=\"dataframe\">\n",
              "  <thead>\n",
              "    <tr style=\"text-align: right;\">\n",
              "      <th></th>\n",
              "      <th></th>\n",
              "      <th>c4</th>\n",
              "    </tr>\n",
              "    <tr>\n",
              "      <th>c1</th>\n",
              "      <th>c2</th>\n",
              "      <th></th>\n",
              "    </tr>\n",
              "  </thead>\n",
              "  <tbody>\n",
              "    <tr>\n",
              "      <th rowspan=\"2\" valign=\"top\">a</th>\n",
              "      <th>A</th>\n",
              "      <td>0.262206</td>\n",
              "    </tr>\n",
              "    <tr>\n",
              "      <th>B</th>\n",
              "      <td>0.609604</td>\n",
              "    </tr>\n",
              "    <tr>\n",
              "      <th rowspan=\"3\" valign=\"top\">b</th>\n",
              "      <th>A</th>\n",
              "      <td>0.423829</td>\n",
              "    </tr>\n",
              "    <tr>\n",
              "      <th>B</th>\n",
              "      <td>0.610999</td>\n",
              "    </tr>\n",
              "    <tr>\n",
              "      <th>C</th>\n",
              "      <td>0.200867</td>\n",
              "    </tr>\n",
              "    <tr>\n",
              "      <th>c</th>\n",
              "      <th>D</th>\n",
              "      <td>0.898797</td>\n",
              "    </tr>\n",
              "    <tr>\n",
              "      <th>d</th>\n",
              "      <th>C</th>\n",
              "      <td>0.204751</td>\n",
              "    </tr>\n",
              "  </tbody>\n",
              "</table>\n",
              "</div>"
            ],
            "text/plain": [
              "             c4\n",
              "c1 c2          \n",
              "a  A   0.262206\n",
              "   B   0.609604\n",
              "b  A   0.423829\n",
              "   B   0.610999\n",
              "   C   0.200867\n",
              "c  D   0.898797\n",
              "d  C   0.204751"
            ]
          },
          "execution_count": 267,
          "metadata": {},
          "output_type": "execute_result"
        }
      ],
      "source": [
        "df.groupby(['c1', 'c2'])[['c4']].mean()"
      ]
    },
    {
      "cell_type": "code",
      "execution_count": 268,
      "metadata": {
        "id": "d7gVpUPyYgKO"
      },
      "outputs": [
        {
          "data": {
            "text/html": [
              "<div>\n",
              "<style scoped>\n",
              "    .dataframe tbody tr th:only-of-type {\n",
              "        vertical-align: middle;\n",
              "    }\n",
              "\n",
              "    .dataframe tbody tr th {\n",
              "        vertical-align: top;\n",
              "    }\n",
              "\n",
              "    .dataframe thead th {\n",
              "        text-align: right;\n",
              "    }\n",
              "</style>\n",
              "<table border=\"1\" class=\"dataframe\">\n",
              "  <thead>\n",
              "    <tr style=\"text-align: right;\">\n",
              "      <th></th>\n",
              "      <th>c3</th>\n",
              "    </tr>\n",
              "    <tr>\n",
              "      <th>c1</th>\n",
              "      <th></th>\n",
              "    </tr>\n",
              "  </thead>\n",
              "  <tbody>\n",
              "    <tr>\n",
              "      <th>a</th>\n",
              "      <td>4.0</td>\n",
              "    </tr>\n",
              "    <tr>\n",
              "      <th>b</th>\n",
              "      <td>4.0</td>\n",
              "    </tr>\n",
              "    <tr>\n",
              "      <th>c</th>\n",
              "      <td>4.0</td>\n",
              "    </tr>\n",
              "    <tr>\n",
              "      <th>d</th>\n",
              "      <td>4.0</td>\n",
              "    </tr>\n",
              "  </tbody>\n",
              "</table>\n",
              "</div>"
            ],
            "text/plain": [
              "     c3\n",
              "c1     \n",
              "a   4.0\n",
              "b   4.0\n",
              "c   4.0\n",
              "d   4.0"
            ]
          },
          "execution_count": 268,
          "metadata": {},
          "output_type": "execute_result"
        }
      ],
      "source": [
        "df.groupby('c1')[['c3']].quantile()"
      ]
    },
    {
      "cell_type": "code",
      "execution_count": 269,
      "metadata": {
        "id": "mS0V6sfQZyQv"
      },
      "outputs": [
        {
          "data": {
            "text/plain": [
              "c1\n",
              "a    2\n",
              "b    3\n",
              "c    1\n",
              "d    1\n",
              "Name: c3, dtype: int64"
            ]
          },
          "execution_count": 269,
          "metadata": {},
          "output_type": "execute_result"
        }
      ],
      "source": [
        "df.groupby('c1')['c3'].count()"
      ]
    },
    {
      "cell_type": "code",
      "execution_count": 270,
      "metadata": {
        "id": "bEv1Yx3dZ2kO"
      },
      "outputs": [
        {
          "data": {
            "text/plain": [
              "c1\n",
              "a    0.435905\n",
              "b    0.423829\n",
              "c    0.898797\n",
              "d    0.204751\n",
              "Name: c4, dtype: float64"
            ]
          },
          "execution_count": 270,
          "metadata": {},
          "output_type": "execute_result"
        }
      ],
      "source": [
        "df.groupby('c1')['c4'].median()"
      ]
    },
    {
      "cell_type": "code",
      "execution_count": 271,
      "metadata": {
        "id": "jsZefMocZ58d"
      },
      "outputs": [
        {
          "data": {
            "text/plain": [
              "c1\n",
              "a    0.245647\n",
              "b    0.205326\n",
              "c         NaN\n",
              "d         NaN\n",
              "Name: c4, dtype: float64"
            ]
          },
          "execution_count": 271,
          "metadata": {},
          "output_type": "execute_result"
        }
      ],
      "source": [
        "df.groupby('c1')['c4'].std()"
      ]
    },
    {
      "cell_type": "code",
      "execution_count": 272,
      "metadata": {
        "id": "zDCS1WJUalpC"
      },
      "outputs": [
        {
          "data": {
            "text/html": [
              "<div>\n",
              "<style scoped>\n",
              "    .dataframe tbody tr th:only-of-type {\n",
              "        vertical-align: middle;\n",
              "    }\n",
              "\n",
              "    .dataframe tbody tr th {\n",
              "        vertical-align: top;\n",
              "    }\n",
              "\n",
              "    .dataframe thead th {\n",
              "        text-align: right;\n",
              "    }\n",
              "</style>\n",
              "<table border=\"1\" class=\"dataframe\">\n",
              "  <thead>\n",
              "    <tr style=\"text-align: right;\">\n",
              "      <th></th>\n",
              "      <th></th>\n",
              "      <th>mean</th>\n",
              "      <th>min</th>\n",
              "      <th>max</th>\n",
              "    </tr>\n",
              "    <tr>\n",
              "      <th>c1</th>\n",
              "      <th>c2</th>\n",
              "      <th></th>\n",
              "      <th></th>\n",
              "      <th></th>\n",
              "    </tr>\n",
              "  </thead>\n",
              "  <tbody>\n",
              "    <tr>\n",
              "      <th rowspan=\"2\" valign=\"top\">a</th>\n",
              "      <th>A</th>\n",
              "      <td>0.262206</td>\n",
              "      <td>0.262206</td>\n",
              "      <td>0.262206</td>\n",
              "    </tr>\n",
              "    <tr>\n",
              "      <th>B</th>\n",
              "      <td>0.609604</td>\n",
              "      <td>0.609604</td>\n",
              "      <td>0.609604</td>\n",
              "    </tr>\n",
              "    <tr>\n",
              "      <th rowspan=\"3\" valign=\"top\">b</th>\n",
              "      <th>A</th>\n",
              "      <td>0.423829</td>\n",
              "      <td>0.423829</td>\n",
              "      <td>0.423829</td>\n",
              "    </tr>\n",
              "    <tr>\n",
              "      <th>B</th>\n",
              "      <td>0.610999</td>\n",
              "      <td>0.610999</td>\n",
              "      <td>0.610999</td>\n",
              "    </tr>\n",
              "    <tr>\n",
              "      <th>C</th>\n",
              "      <td>0.200867</td>\n",
              "      <td>0.200867</td>\n",
              "      <td>0.200867</td>\n",
              "    </tr>\n",
              "    <tr>\n",
              "      <th>c</th>\n",
              "      <th>D</th>\n",
              "      <td>0.898797</td>\n",
              "      <td>0.898797</td>\n",
              "      <td>0.898797</td>\n",
              "    </tr>\n",
              "    <tr>\n",
              "      <th>d</th>\n",
              "      <th>C</th>\n",
              "      <td>0.204751</td>\n",
              "      <td>0.204751</td>\n",
              "      <td>0.204751</td>\n",
              "    </tr>\n",
              "  </tbody>\n",
              "</table>\n",
              "</div>"
            ],
            "text/plain": [
              "           mean       min       max\n",
              "c1 c2                              \n",
              "a  A   0.262206  0.262206  0.262206\n",
              "   B   0.609604  0.609604  0.609604\n",
              "b  A   0.423829  0.423829  0.423829\n",
              "   B   0.610999  0.610999  0.610999\n",
              "   C   0.200867  0.200867  0.200867\n",
              "c  D   0.898797  0.898797  0.898797\n",
              "d  C   0.204751  0.204751  0.204751"
            ]
          },
          "execution_count": 272,
          "metadata": {},
          "output_type": "execute_result"
        }
      ],
      "source": [
        "df.groupby(['c1', 'c2'])['c4'].agg(['mean', 'min', 'max'])"
      ]
    },
    {
      "cell_type": "code",
      "execution_count": 273,
      "metadata": {
        "id": "b8GgSFhgbrGu"
      },
      "outputs": [
        {
          "data": {
            "text/html": [
              "<div>\n",
              "<style scoped>\n",
              "    .dataframe tbody tr th:only-of-type {\n",
              "        vertical-align: middle;\n",
              "    }\n",
              "\n",
              "    .dataframe tbody tr th {\n",
              "        vertical-align: top;\n",
              "    }\n",
              "\n",
              "    .dataframe thead th {\n",
              "        text-align: right;\n",
              "    }\n",
              "</style>\n",
              "<table border=\"1\" class=\"dataframe\">\n",
              "  <thead>\n",
              "    <tr style=\"text-align: right;\">\n",
              "      <th></th>\n",
              "      <th>c1</th>\n",
              "      <th>c2</th>\n",
              "      <th>c4</th>\n",
              "    </tr>\n",
              "  </thead>\n",
              "  <tbody>\n",
              "    <tr>\n",
              "      <th>0</th>\n",
              "      <td>a</td>\n",
              "      <td>A</td>\n",
              "      <td>0.262206</td>\n",
              "    </tr>\n",
              "    <tr>\n",
              "      <th>1</th>\n",
              "      <td>a</td>\n",
              "      <td>B</td>\n",
              "      <td>0.609604</td>\n",
              "    </tr>\n",
              "    <tr>\n",
              "      <th>2</th>\n",
              "      <td>b</td>\n",
              "      <td>A</td>\n",
              "      <td>0.423829</td>\n",
              "    </tr>\n",
              "    <tr>\n",
              "      <th>3</th>\n",
              "      <td>b</td>\n",
              "      <td>B</td>\n",
              "      <td>0.610999</td>\n",
              "    </tr>\n",
              "    <tr>\n",
              "      <th>4</th>\n",
              "      <td>b</td>\n",
              "      <td>C</td>\n",
              "      <td>0.200867</td>\n",
              "    </tr>\n",
              "    <tr>\n",
              "      <th>5</th>\n",
              "      <td>c</td>\n",
              "      <td>D</td>\n",
              "      <td>0.898797</td>\n",
              "    </tr>\n",
              "    <tr>\n",
              "      <th>6</th>\n",
              "      <td>d</td>\n",
              "      <td>C</td>\n",
              "      <td>0.204751</td>\n",
              "    </tr>\n",
              "  </tbody>\n",
              "</table>\n",
              "</div>"
            ],
            "text/plain": [
              "  c1 c2        c4\n",
              "0  a  A  0.262206\n",
              "1  a  B  0.609604\n",
              "2  b  A  0.423829\n",
              "3  b  B  0.610999\n",
              "4  b  C  0.200867\n",
              "5  c  D  0.898797\n",
              "6  d  C  0.204751"
            ]
          },
          "execution_count": 273,
          "metadata": {},
          "output_type": "execute_result"
        }
      ],
      "source": [
        "df.groupby(['c1', 'c2'], as_index=False)['c4'].mean()"
      ]
    },
    {
      "cell_type": "code",
      "execution_count": 274,
      "metadata": {
        "id": "-sBX539zduqJ"
      },
      "outputs": [
        {
          "data": {
            "text/plain": [
              "c1  c2\n",
              "a   A     0.262206\n",
              "    B     0.609604\n",
              "b   A     0.423829\n",
              "    B     0.610999\n",
              "    C     0.200867\n",
              "c   D     0.898797\n",
              "d   C     0.204751\n",
              "Name: c4, dtype: float64"
            ]
          },
          "execution_count": 274,
          "metadata": {},
          "output_type": "execute_result"
        }
      ],
      "source": [
        "df.groupby(['c1', 'c2'], group_keys=False)['c4'].mean()"
      ]
    },
    {
      "cell_type": "code",
      "execution_count": 275,
      "metadata": {
        "id": "ijUek7SAd3DR"
      },
      "outputs": [
        {
          "data": {
            "text/html": [
              "<div>\n",
              "<style scoped>\n",
              "    .dataframe tbody tr th:only-of-type {\n",
              "        vertical-align: middle;\n",
              "    }\n",
              "\n",
              "    .dataframe tbody tr th {\n",
              "        vertical-align: top;\n",
              "    }\n",
              "\n",
              "    .dataframe thead th {\n",
              "        text-align: right;\n",
              "    }\n",
              "</style>\n",
              "<table border=\"1\" class=\"dataframe\">\n",
              "  <thead>\n",
              "    <tr style=\"text-align: right;\">\n",
              "      <th></th>\n",
              "      <th>c1</th>\n",
              "      <th>c2</th>\n",
              "      <th>c3</th>\n",
              "      <th>c4</th>\n",
              "    </tr>\n",
              "  </thead>\n",
              "  <tbody>\n",
              "    <tr>\n",
              "      <th>2</th>\n",
              "      <td>b</td>\n",
              "      <td>B</td>\n",
              "      <td>4</td>\n",
              "      <td>0.610999</td>\n",
              "    </tr>\n",
              "    <tr>\n",
              "      <th>3</th>\n",
              "      <td>b</td>\n",
              "      <td>A</td>\n",
              "      <td>4</td>\n",
              "      <td>0.423829</td>\n",
              "    </tr>\n",
              "    <tr>\n",
              "      <th>6</th>\n",
              "      <td>b</td>\n",
              "      <td>C</td>\n",
              "      <td>4</td>\n",
              "      <td>0.200867</td>\n",
              "    </tr>\n",
              "    <tr>\n",
              "      <th>4</th>\n",
              "      <td>c</td>\n",
              "      <td>D</td>\n",
              "      <td>4</td>\n",
              "      <td>0.898797</td>\n",
              "    </tr>\n",
              "    <tr>\n",
              "      <th>5</th>\n",
              "      <td>d</td>\n",
              "      <td>C</td>\n",
              "      <td>4</td>\n",
              "      <td>0.204751</td>\n",
              "    </tr>\n",
              "  </tbody>\n",
              "</table>\n",
              "</div>"
            ],
            "text/plain": [
              "  c1 c2  c3        c4\n",
              "2  b  B   4  0.610999\n",
              "3  b  A   4  0.423829\n",
              "6  b  C   4  0.200867\n",
              "4  c  D   4  0.898797\n",
              "5  d  C   4  0.204751"
            ]
          },
          "execution_count": 275,
          "metadata": {},
          "output_type": "execute_result"
        }
      ],
      "source": [
        "def top(df, n=3, column='c1'):\n",
        "    return df.sort_values(by=column)[-n:]\n",
        "\n",
        "top(df, n=5)"
      ]
    },
    {
      "cell_type": "code",
      "execution_count": 276,
      "metadata": {
        "id": "3Tl7uqElcX7o"
      },
      "outputs": [
        {
          "data": {
            "text/html": [
              "<div>\n",
              "<style scoped>\n",
              "    .dataframe tbody tr th:only-of-type {\n",
              "        vertical-align: middle;\n",
              "    }\n",
              "\n",
              "    .dataframe tbody tr th {\n",
              "        vertical-align: top;\n",
              "    }\n",
              "\n",
              "    .dataframe thead th {\n",
              "        text-align: right;\n",
              "    }\n",
              "</style>\n",
              "<table border=\"1\" class=\"dataframe\">\n",
              "  <thead>\n",
              "    <tr style=\"text-align: right;\">\n",
              "      <th></th>\n",
              "      <th></th>\n",
              "      <th>c1</th>\n",
              "      <th>c2</th>\n",
              "      <th>c3</th>\n",
              "      <th>c4</th>\n",
              "    </tr>\n",
              "    <tr>\n",
              "      <th>c1</th>\n",
              "      <th></th>\n",
              "      <th></th>\n",
              "      <th></th>\n",
              "      <th></th>\n",
              "      <th></th>\n",
              "    </tr>\n",
              "  </thead>\n",
              "  <tbody>\n",
              "    <tr>\n",
              "      <th rowspan=\"2\" valign=\"top\">a</th>\n",
              "      <th>0</th>\n",
              "      <td>a</td>\n",
              "      <td>A</td>\n",
              "      <td>4</td>\n",
              "      <td>0.262206</td>\n",
              "    </tr>\n",
              "    <tr>\n",
              "      <th>1</th>\n",
              "      <td>a</td>\n",
              "      <td>B</td>\n",
              "      <td>4</td>\n",
              "      <td>0.609604</td>\n",
              "    </tr>\n",
              "    <tr>\n",
              "      <th rowspan=\"3\" valign=\"top\">b</th>\n",
              "      <th>2</th>\n",
              "      <td>b</td>\n",
              "      <td>B</td>\n",
              "      <td>4</td>\n",
              "      <td>0.610999</td>\n",
              "    </tr>\n",
              "    <tr>\n",
              "      <th>3</th>\n",
              "      <td>b</td>\n",
              "      <td>A</td>\n",
              "      <td>4</td>\n",
              "      <td>0.423829</td>\n",
              "    </tr>\n",
              "    <tr>\n",
              "      <th>6</th>\n",
              "      <td>b</td>\n",
              "      <td>C</td>\n",
              "      <td>4</td>\n",
              "      <td>0.200867</td>\n",
              "    </tr>\n",
              "    <tr>\n",
              "      <th>c</th>\n",
              "      <th>4</th>\n",
              "      <td>c</td>\n",
              "      <td>D</td>\n",
              "      <td>4</td>\n",
              "      <td>0.898797</td>\n",
              "    </tr>\n",
              "    <tr>\n",
              "      <th>d</th>\n",
              "      <th>5</th>\n",
              "      <td>d</td>\n",
              "      <td>C</td>\n",
              "      <td>4</td>\n",
              "      <td>0.204751</td>\n",
              "    </tr>\n",
              "  </tbody>\n",
              "</table>\n",
              "</div>"
            ],
            "text/plain": [
              "     c1 c2  c3        c4\n",
              "c1                      \n",
              "a  0  a  A   4  0.262206\n",
              "   1  a  B   4  0.609604\n",
              "b  2  b  B   4  0.610999\n",
              "   3  b  A   4  0.423829\n",
              "   6  b  C   4  0.200867\n",
              "c  4  c  D   4  0.898797\n",
              "d  5  d  C   4  0.204751"
            ]
          },
          "execution_count": 276,
          "metadata": {},
          "output_type": "execute_result"
        }
      ],
      "source": [
        "df.groupby('c1').apply(top)"
      ]
    },
    {
      "cell_type": "markdown",
      "metadata": {
        "id": "VS9PZhnt2_h8"
      },
      "source": [
        "### 피벗 테이블(Pivot Table)\n"
      ]
    },
    {
      "cell_type": "code",
      "execution_count": 277,
      "metadata": {
        "id": "hBXmgzUzeflH"
      },
      "outputs": [
        {
          "data": {
            "text/html": [
              "<div>\n",
              "<style scoped>\n",
              "    .dataframe tbody tr th:only-of-type {\n",
              "        vertical-align: middle;\n",
              "    }\n",
              "\n",
              "    .dataframe tbody tr th {\n",
              "        vertical-align: top;\n",
              "    }\n",
              "\n",
              "    .dataframe thead tr th {\n",
              "        text-align: left;\n",
              "    }\n",
              "\n",
              "    .dataframe thead tr:last-of-type th {\n",
              "        text-align: right;\n",
              "    }\n",
              "</style>\n",
              "<table border=\"1\" class=\"dataframe\">\n",
              "  <thead>\n",
              "    <tr>\n",
              "      <th></th>\n",
              "      <th colspan=\"4\" halign=\"left\">c3</th>\n",
              "      <th colspan=\"4\" halign=\"left\">c4</th>\n",
              "    </tr>\n",
              "    <tr>\n",
              "      <th>c2</th>\n",
              "      <th>A</th>\n",
              "      <th>B</th>\n",
              "      <th>C</th>\n",
              "      <th>D</th>\n",
              "      <th>A</th>\n",
              "      <th>B</th>\n",
              "      <th>C</th>\n",
              "      <th>D</th>\n",
              "    </tr>\n",
              "    <tr>\n",
              "      <th>c1</th>\n",
              "      <th></th>\n",
              "      <th></th>\n",
              "      <th></th>\n",
              "      <th></th>\n",
              "      <th></th>\n",
              "      <th></th>\n",
              "      <th></th>\n",
              "      <th></th>\n",
              "    </tr>\n",
              "  </thead>\n",
              "  <tbody>\n",
              "    <tr>\n",
              "      <th>a</th>\n",
              "      <td>4.0</td>\n",
              "      <td>4.0</td>\n",
              "      <td>NaN</td>\n",
              "      <td>NaN</td>\n",
              "      <td>0.262206</td>\n",
              "      <td>0.609604</td>\n",
              "      <td>NaN</td>\n",
              "      <td>NaN</td>\n",
              "    </tr>\n",
              "    <tr>\n",
              "      <th>b</th>\n",
              "      <td>4.0</td>\n",
              "      <td>4.0</td>\n",
              "      <td>4.0</td>\n",
              "      <td>NaN</td>\n",
              "      <td>0.423829</td>\n",
              "      <td>0.610999</td>\n",
              "      <td>0.200867</td>\n",
              "      <td>NaN</td>\n",
              "    </tr>\n",
              "    <tr>\n",
              "      <th>c</th>\n",
              "      <td>NaN</td>\n",
              "      <td>NaN</td>\n",
              "      <td>NaN</td>\n",
              "      <td>4.0</td>\n",
              "      <td>NaN</td>\n",
              "      <td>NaN</td>\n",
              "      <td>NaN</td>\n",
              "      <td>0.898797</td>\n",
              "    </tr>\n",
              "    <tr>\n",
              "      <th>d</th>\n",
              "      <td>NaN</td>\n",
              "      <td>NaN</td>\n",
              "      <td>4.0</td>\n",
              "      <td>NaN</td>\n",
              "      <td>NaN</td>\n",
              "      <td>NaN</td>\n",
              "      <td>0.204751</td>\n",
              "      <td>NaN</td>\n",
              "    </tr>\n",
              "  </tbody>\n",
              "</table>\n",
              "</div>"
            ],
            "text/plain": [
              "     c3                       c4                              \n",
              "c2    A    B    C    D         A         B         C         D\n",
              "c1                                                            \n",
              "a   4.0  4.0  NaN  NaN  0.262206  0.609604       NaN       NaN\n",
              "b   4.0  4.0  4.0  NaN  0.423829  0.610999  0.200867       NaN\n",
              "c   NaN  NaN  NaN  4.0       NaN       NaN       NaN  0.898797\n",
              "d   NaN  NaN  4.0  NaN       NaN       NaN  0.204751       NaN"
            ]
          },
          "execution_count": 277,
          "metadata": {},
          "output_type": "execute_result"
        }
      ],
      "source": [
        "df.pivot_table(['c3', 'c4'],\n",
        "                index=['c1'],\n",
        "                columns=['c2'])"
      ]
    },
    {
      "cell_type": "code",
      "execution_count": 278,
      "metadata": {
        "id": "voeul-pxfOb3"
      },
      "outputs": [
        {
          "data": {
            "text/html": [
              "<div>\n",
              "<style scoped>\n",
              "    .dataframe tbody tr th:only-of-type {\n",
              "        vertical-align: middle;\n",
              "    }\n",
              "\n",
              "    .dataframe tbody tr th {\n",
              "        vertical-align: top;\n",
              "    }\n",
              "\n",
              "    .dataframe thead tr th {\n",
              "        text-align: left;\n",
              "    }\n",
              "\n",
              "    .dataframe thead tr:last-of-type th {\n",
              "        text-align: right;\n",
              "    }\n",
              "</style>\n",
              "<table border=\"1\" class=\"dataframe\">\n",
              "  <thead>\n",
              "    <tr>\n",
              "      <th></th>\n",
              "      <th colspan=\"5\" halign=\"left\">c3</th>\n",
              "      <th colspan=\"5\" halign=\"left\">c4</th>\n",
              "    </tr>\n",
              "    <tr>\n",
              "      <th>c2</th>\n",
              "      <th>A</th>\n",
              "      <th>B</th>\n",
              "      <th>C</th>\n",
              "      <th>D</th>\n",
              "      <th>All</th>\n",
              "      <th>A</th>\n",
              "      <th>B</th>\n",
              "      <th>C</th>\n",
              "      <th>D</th>\n",
              "      <th>All</th>\n",
              "    </tr>\n",
              "    <tr>\n",
              "      <th>c1</th>\n",
              "      <th></th>\n",
              "      <th></th>\n",
              "      <th></th>\n",
              "      <th></th>\n",
              "      <th></th>\n",
              "      <th></th>\n",
              "      <th></th>\n",
              "      <th></th>\n",
              "      <th></th>\n",
              "      <th></th>\n",
              "    </tr>\n",
              "  </thead>\n",
              "  <tbody>\n",
              "    <tr>\n",
              "      <th>a</th>\n",
              "      <td>4.0</td>\n",
              "      <td>4.0</td>\n",
              "      <td>NaN</td>\n",
              "      <td>NaN</td>\n",
              "      <td>4.0</td>\n",
              "      <td>0.262206</td>\n",
              "      <td>0.609604</td>\n",
              "      <td>NaN</td>\n",
              "      <td>NaN</td>\n",
              "      <td>0.435905</td>\n",
              "    </tr>\n",
              "    <tr>\n",
              "      <th>b</th>\n",
              "      <td>4.0</td>\n",
              "      <td>4.0</td>\n",
              "      <td>4.0</td>\n",
              "      <td>NaN</td>\n",
              "      <td>4.0</td>\n",
              "      <td>0.423829</td>\n",
              "      <td>0.610999</td>\n",
              "      <td>0.200867</td>\n",
              "      <td>NaN</td>\n",
              "      <td>0.411898</td>\n",
              "    </tr>\n",
              "    <tr>\n",
              "      <th>c</th>\n",
              "      <td>NaN</td>\n",
              "      <td>NaN</td>\n",
              "      <td>NaN</td>\n",
              "      <td>4.0</td>\n",
              "      <td>4.0</td>\n",
              "      <td>NaN</td>\n",
              "      <td>NaN</td>\n",
              "      <td>NaN</td>\n",
              "      <td>0.898797</td>\n",
              "      <td>0.898797</td>\n",
              "    </tr>\n",
              "    <tr>\n",
              "      <th>d</th>\n",
              "      <td>NaN</td>\n",
              "      <td>NaN</td>\n",
              "      <td>4.0</td>\n",
              "      <td>NaN</td>\n",
              "      <td>4.0</td>\n",
              "      <td>NaN</td>\n",
              "      <td>NaN</td>\n",
              "      <td>0.204751</td>\n",
              "      <td>NaN</td>\n",
              "      <td>0.204751</td>\n",
              "    </tr>\n",
              "    <tr>\n",
              "      <th>All</th>\n",
              "      <td>4.0</td>\n",
              "      <td>4.0</td>\n",
              "      <td>4.0</td>\n",
              "      <td>4.0</td>\n",
              "      <td>4.0</td>\n",
              "      <td>0.343017</td>\n",
              "      <td>0.610301</td>\n",
              "      <td>0.202809</td>\n",
              "      <td>0.898797</td>\n",
              "      <td>0.458722</td>\n",
              "    </tr>\n",
              "  </tbody>\n",
              "</table>\n",
              "</div>"
            ],
            "text/plain": [
              "      c3                            c4                                        \n",
              "c2     A    B    C    D  All         A         B         C         D       All\n",
              "c1                                                                            \n",
              "a    4.0  4.0  NaN  NaN  4.0  0.262206  0.609604       NaN       NaN  0.435905\n",
              "b    4.0  4.0  4.0  NaN  4.0  0.423829  0.610999  0.200867       NaN  0.411898\n",
              "c    NaN  NaN  NaN  4.0  4.0       NaN       NaN       NaN  0.898797  0.898797\n",
              "d    NaN  NaN  4.0  NaN  4.0       NaN       NaN  0.204751       NaN  0.204751\n",
              "All  4.0  4.0  4.0  4.0  4.0  0.343017  0.610301  0.202809  0.898797  0.458722"
            ]
          },
          "execution_count": 278,
          "metadata": {},
          "output_type": "execute_result"
        }
      ],
      "source": [
        "df.pivot_table(['c3', 'c4'],\n",
        "                index=['c1'],\n",
        "                columns=['c2'],\n",
        "                margins=True)"
      ]
    },
    {
      "cell_type": "code",
      "execution_count": 279,
      "metadata": {
        "id": "VCusVjzqfXRb"
      },
      "outputs": [
        {
          "data": {
            "text/html": [
              "<div>\n",
              "<style scoped>\n",
              "    .dataframe tbody tr th:only-of-type {\n",
              "        vertical-align: middle;\n",
              "    }\n",
              "\n",
              "    .dataframe tbody tr th {\n",
              "        vertical-align: top;\n",
              "    }\n",
              "\n",
              "    .dataframe thead tr th {\n",
              "        text-align: left;\n",
              "    }\n",
              "\n",
              "    .dataframe thead tr:last-of-type th {\n",
              "        text-align: right;\n",
              "    }\n",
              "</style>\n",
              "<table border=\"1\" class=\"dataframe\">\n",
              "  <thead>\n",
              "    <tr>\n",
              "      <th></th>\n",
              "      <th colspan=\"5\" halign=\"left\">c3</th>\n",
              "      <th colspan=\"5\" halign=\"left\">c4</th>\n",
              "    </tr>\n",
              "    <tr>\n",
              "      <th>c2</th>\n",
              "      <th>A</th>\n",
              "      <th>B</th>\n",
              "      <th>C</th>\n",
              "      <th>D</th>\n",
              "      <th>All</th>\n",
              "      <th>A</th>\n",
              "      <th>B</th>\n",
              "      <th>C</th>\n",
              "      <th>D</th>\n",
              "      <th>All</th>\n",
              "    </tr>\n",
              "    <tr>\n",
              "      <th>c1</th>\n",
              "      <th></th>\n",
              "      <th></th>\n",
              "      <th></th>\n",
              "      <th></th>\n",
              "      <th></th>\n",
              "      <th></th>\n",
              "      <th></th>\n",
              "      <th></th>\n",
              "      <th></th>\n",
              "      <th></th>\n",
              "    </tr>\n",
              "  </thead>\n",
              "  <tbody>\n",
              "    <tr>\n",
              "      <th>a</th>\n",
              "      <td>4.0</td>\n",
              "      <td>4.0</td>\n",
              "      <td>NaN</td>\n",
              "      <td>NaN</td>\n",
              "      <td>8</td>\n",
              "      <td>0.262206</td>\n",
              "      <td>0.609604</td>\n",
              "      <td>NaN</td>\n",
              "      <td>NaN</td>\n",
              "      <td>0.871809</td>\n",
              "    </tr>\n",
              "    <tr>\n",
              "      <th>b</th>\n",
              "      <td>4.0</td>\n",
              "      <td>4.0</td>\n",
              "      <td>4.0</td>\n",
              "      <td>NaN</td>\n",
              "      <td>12</td>\n",
              "      <td>0.423829</td>\n",
              "      <td>0.610999</td>\n",
              "      <td>0.200867</td>\n",
              "      <td>NaN</td>\n",
              "      <td>1.235695</td>\n",
              "    </tr>\n",
              "    <tr>\n",
              "      <th>c</th>\n",
              "      <td>NaN</td>\n",
              "      <td>NaN</td>\n",
              "      <td>NaN</td>\n",
              "      <td>4.0</td>\n",
              "      <td>4</td>\n",
              "      <td>NaN</td>\n",
              "      <td>NaN</td>\n",
              "      <td>NaN</td>\n",
              "      <td>0.898797</td>\n",
              "      <td>0.898797</td>\n",
              "    </tr>\n",
              "    <tr>\n",
              "      <th>d</th>\n",
              "      <td>NaN</td>\n",
              "      <td>NaN</td>\n",
              "      <td>4.0</td>\n",
              "      <td>NaN</td>\n",
              "      <td>4</td>\n",
              "      <td>NaN</td>\n",
              "      <td>NaN</td>\n",
              "      <td>0.204751</td>\n",
              "      <td>NaN</td>\n",
              "      <td>0.204751</td>\n",
              "    </tr>\n",
              "    <tr>\n",
              "      <th>All</th>\n",
              "      <td>8.0</td>\n",
              "      <td>8.0</td>\n",
              "      <td>8.0</td>\n",
              "      <td>4.0</td>\n",
              "      <td>28</td>\n",
              "      <td>0.686035</td>\n",
              "      <td>1.220603</td>\n",
              "      <td>0.405618</td>\n",
              "      <td>0.898797</td>\n",
              "      <td>3.211053</td>\n",
              "    </tr>\n",
              "  </tbody>\n",
              "</table>\n",
              "</div>"
            ],
            "text/plain": [
              "      c3                           c4                                        \n",
              "c2     A    B    C    D All         A         B         C         D       All\n",
              "c1                                                                           \n",
              "a    4.0  4.0  NaN  NaN   8  0.262206  0.609604       NaN       NaN  0.871809\n",
              "b    4.0  4.0  4.0  NaN  12  0.423829  0.610999  0.200867       NaN  1.235695\n",
              "c    NaN  NaN  NaN  4.0   4       NaN       NaN       NaN  0.898797  0.898797\n",
              "d    NaN  NaN  4.0  NaN   4       NaN       NaN  0.204751       NaN  0.204751\n",
              "All  8.0  8.0  8.0  4.0  28  0.686035  1.220603  0.405618  0.898797  3.211053"
            ]
          },
          "execution_count": 279,
          "metadata": {},
          "output_type": "execute_result"
        }
      ],
      "source": [
        "df.pivot_table(['c3', 'c4'],\n",
        "                index=['c1'],\n",
        "                columns=['c2'],\n",
        "                margins=True,\n",
        "                aggfunc=sum)"
      ]
    },
    {
      "cell_type": "code",
      "execution_count": 280,
      "metadata": {
        "id": "OaUu1cdEgO6f"
      },
      "outputs": [
        {
          "data": {
            "text/html": [
              "<div>\n",
              "<style scoped>\n",
              "    .dataframe tbody tr th:only-of-type {\n",
              "        vertical-align: middle;\n",
              "    }\n",
              "\n",
              "    .dataframe tbody tr th {\n",
              "        vertical-align: top;\n",
              "    }\n",
              "\n",
              "    .dataframe thead tr th {\n",
              "        text-align: left;\n",
              "    }\n",
              "\n",
              "    .dataframe thead tr:last-of-type th {\n",
              "        text-align: right;\n",
              "    }\n",
              "</style>\n",
              "<table border=\"1\" class=\"dataframe\">\n",
              "  <thead>\n",
              "    <tr>\n",
              "      <th></th>\n",
              "      <th colspan=\"5\" halign=\"left\">c3</th>\n",
              "      <th colspan=\"5\" halign=\"left\">c4</th>\n",
              "    </tr>\n",
              "    <tr>\n",
              "      <th>c2</th>\n",
              "      <th>A</th>\n",
              "      <th>B</th>\n",
              "      <th>C</th>\n",
              "      <th>D</th>\n",
              "      <th>All</th>\n",
              "      <th>A</th>\n",
              "      <th>B</th>\n",
              "      <th>C</th>\n",
              "      <th>D</th>\n",
              "      <th>All</th>\n",
              "    </tr>\n",
              "    <tr>\n",
              "      <th>c1</th>\n",
              "      <th></th>\n",
              "      <th></th>\n",
              "      <th></th>\n",
              "      <th></th>\n",
              "      <th></th>\n",
              "      <th></th>\n",
              "      <th></th>\n",
              "      <th></th>\n",
              "      <th></th>\n",
              "      <th></th>\n",
              "    </tr>\n",
              "  </thead>\n",
              "  <tbody>\n",
              "    <tr>\n",
              "      <th>a</th>\n",
              "      <td>4</td>\n",
              "      <td>4</td>\n",
              "      <td>0</td>\n",
              "      <td>0</td>\n",
              "      <td>8</td>\n",
              "      <td>0.262206</td>\n",
              "      <td>0.609604</td>\n",
              "      <td>0.000000</td>\n",
              "      <td>0.000000</td>\n",
              "      <td>0.871809</td>\n",
              "    </tr>\n",
              "    <tr>\n",
              "      <th>b</th>\n",
              "      <td>4</td>\n",
              "      <td>4</td>\n",
              "      <td>4</td>\n",
              "      <td>0</td>\n",
              "      <td>12</td>\n",
              "      <td>0.423829</td>\n",
              "      <td>0.610999</td>\n",
              "      <td>0.200867</td>\n",
              "      <td>0.000000</td>\n",
              "      <td>1.235695</td>\n",
              "    </tr>\n",
              "    <tr>\n",
              "      <th>c</th>\n",
              "      <td>0</td>\n",
              "      <td>0</td>\n",
              "      <td>0</td>\n",
              "      <td>4</td>\n",
              "      <td>4</td>\n",
              "      <td>0.000000</td>\n",
              "      <td>0.000000</td>\n",
              "      <td>0.000000</td>\n",
              "      <td>0.898797</td>\n",
              "      <td>0.898797</td>\n",
              "    </tr>\n",
              "    <tr>\n",
              "      <th>d</th>\n",
              "      <td>0</td>\n",
              "      <td>0</td>\n",
              "      <td>4</td>\n",
              "      <td>0</td>\n",
              "      <td>4</td>\n",
              "      <td>0.000000</td>\n",
              "      <td>0.000000</td>\n",
              "      <td>0.204751</td>\n",
              "      <td>0.000000</td>\n",
              "      <td>0.204751</td>\n",
              "    </tr>\n",
              "    <tr>\n",
              "      <th>All</th>\n",
              "      <td>8</td>\n",
              "      <td>8</td>\n",
              "      <td>8</td>\n",
              "      <td>4</td>\n",
              "      <td>28</td>\n",
              "      <td>0.686035</td>\n",
              "      <td>1.220603</td>\n",
              "      <td>0.405618</td>\n",
              "      <td>0.898797</td>\n",
              "      <td>3.211053</td>\n",
              "    </tr>\n",
              "  </tbody>\n",
              "</table>\n",
              "</div>"
            ],
            "text/plain": [
              "    c3                     c4                                        \n",
              "c2   A  B  C  D All         A         B         C         D       All\n",
              "c1                                                                   \n",
              "a    4  4  0  0   8  0.262206  0.609604  0.000000  0.000000  0.871809\n",
              "b    4  4  4  0  12  0.423829  0.610999  0.200867  0.000000  1.235695\n",
              "c    0  0  0  4   4  0.000000  0.000000  0.000000  0.898797  0.898797\n",
              "d    0  0  4  0   4  0.000000  0.000000  0.204751  0.000000  0.204751\n",
              "All  8  8  8  4  28  0.686035  1.220603  0.405618  0.898797  3.211053"
            ]
          },
          "execution_count": 280,
          "metadata": {},
          "output_type": "execute_result"
        }
      ],
      "source": [
        "df.pivot_table(['c3', 'c4'],\n",
        "                index=['c1'],\n",
        "                columns=['c2'],\n",
        "                margins=True,\n",
        "                aggfunc=sum,\n",
        "                fill_value=0)"
      ]
    },
    {
      "cell_type": "code",
      "execution_count": 281,
      "metadata": {
        "id": "I77K4Mg8jyct"
      },
      "outputs": [
        {
          "data": {
            "text/html": [
              "<div>\n",
              "<style scoped>\n",
              "    .dataframe tbody tr th:only-of-type {\n",
              "        vertical-align: middle;\n",
              "    }\n",
              "\n",
              "    .dataframe tbody tr th {\n",
              "        vertical-align: top;\n",
              "    }\n",
              "\n",
              "    .dataframe thead th {\n",
              "        text-align: right;\n",
              "    }\n",
              "</style>\n",
              "<table border=\"1\" class=\"dataframe\">\n",
              "  <thead>\n",
              "    <tr style=\"text-align: right;\">\n",
              "      <th>c2</th>\n",
              "      <th>A</th>\n",
              "      <th>B</th>\n",
              "      <th>C</th>\n",
              "      <th>D</th>\n",
              "    </tr>\n",
              "    <tr>\n",
              "      <th>c1</th>\n",
              "      <th></th>\n",
              "      <th></th>\n",
              "      <th></th>\n",
              "      <th></th>\n",
              "    </tr>\n",
              "  </thead>\n",
              "  <tbody>\n",
              "    <tr>\n",
              "      <th>a</th>\n",
              "      <td>1</td>\n",
              "      <td>1</td>\n",
              "      <td>0</td>\n",
              "      <td>0</td>\n",
              "    </tr>\n",
              "    <tr>\n",
              "      <th>b</th>\n",
              "      <td>1</td>\n",
              "      <td>1</td>\n",
              "      <td>1</td>\n",
              "      <td>0</td>\n",
              "    </tr>\n",
              "    <tr>\n",
              "      <th>c</th>\n",
              "      <td>0</td>\n",
              "      <td>0</td>\n",
              "      <td>0</td>\n",
              "      <td>1</td>\n",
              "    </tr>\n",
              "    <tr>\n",
              "      <th>d</th>\n",
              "      <td>0</td>\n",
              "      <td>0</td>\n",
              "      <td>1</td>\n",
              "      <td>0</td>\n",
              "    </tr>\n",
              "  </tbody>\n",
              "</table>\n",
              "</div>"
            ],
            "text/plain": [
              "c2  A  B  C  D\n",
              "c1            \n",
              "a   1  1  0  0\n",
              "b   1  1  1  0\n",
              "c   0  0  0  1\n",
              "d   0  0  1  0"
            ]
          },
          "execution_count": 281,
          "metadata": {},
          "output_type": "execute_result"
        }
      ],
      "source": [
        "pd.crosstab(df.c1, df.c2)"
      ]
    },
    {
      "cell_type": "code",
      "execution_count": 282,
      "metadata": {
        "id": "xC-rXgvbgivr"
      },
      "outputs": [
        {
          "data": {
            "text/html": [
              "<div>\n",
              "<style scoped>\n",
              "    .dataframe tbody tr th:only-of-type {\n",
              "        vertical-align: middle;\n",
              "    }\n",
              "\n",
              "    .dataframe tbody tr th {\n",
              "        vertical-align: top;\n",
              "    }\n",
              "\n",
              "    .dataframe thead th {\n",
              "        text-align: right;\n",
              "    }\n",
              "</style>\n",
              "<table border=\"1\" class=\"dataframe\">\n",
              "  <thead>\n",
              "    <tr style=\"text-align: right;\">\n",
              "      <th>c2</th>\n",
              "      <th>A</th>\n",
              "      <th>B</th>\n",
              "      <th>C</th>\n",
              "      <th>D</th>\n",
              "      <th>All</th>\n",
              "    </tr>\n",
              "    <tr>\n",
              "      <th>c1</th>\n",
              "      <th></th>\n",
              "      <th></th>\n",
              "      <th></th>\n",
              "      <th></th>\n",
              "      <th></th>\n",
              "    </tr>\n",
              "  </thead>\n",
              "  <tbody>\n",
              "    <tr>\n",
              "      <th>a</th>\n",
              "      <td>4.0</td>\n",
              "      <td>4.0</td>\n",
              "      <td>NaN</td>\n",
              "      <td>NaN</td>\n",
              "      <td>8</td>\n",
              "    </tr>\n",
              "    <tr>\n",
              "      <th>b</th>\n",
              "      <td>4.0</td>\n",
              "      <td>4.0</td>\n",
              "      <td>4.0</td>\n",
              "      <td>NaN</td>\n",
              "      <td>12</td>\n",
              "    </tr>\n",
              "    <tr>\n",
              "      <th>c</th>\n",
              "      <td>NaN</td>\n",
              "      <td>NaN</td>\n",
              "      <td>NaN</td>\n",
              "      <td>4.0</td>\n",
              "      <td>4</td>\n",
              "    </tr>\n",
              "    <tr>\n",
              "      <th>d</th>\n",
              "      <td>NaN</td>\n",
              "      <td>NaN</td>\n",
              "      <td>4.0</td>\n",
              "      <td>NaN</td>\n",
              "      <td>4</td>\n",
              "    </tr>\n",
              "    <tr>\n",
              "      <th>All</th>\n",
              "      <td>8.0</td>\n",
              "      <td>8.0</td>\n",
              "      <td>8.0</td>\n",
              "      <td>4.0</td>\n",
              "      <td>28</td>\n",
              "    </tr>\n",
              "  </tbody>\n",
              "</table>\n",
              "</div>"
            ],
            "text/plain": [
              "c2     A    B    C    D  All\n",
              "c1                          \n",
              "a    4.0  4.0  NaN  NaN    8\n",
              "b    4.0  4.0  4.0  NaN   12\n",
              "c    NaN  NaN  NaN  4.0    4\n",
              "d    NaN  NaN  4.0  NaN    4\n",
              "All  8.0  8.0  8.0  4.0   28"
            ]
          },
          "execution_count": 282,
          "metadata": {},
          "output_type": "execute_result"
        }
      ],
      "source": [
        "pd.crosstab(df.c1, df.c2, values=df.c3, aggfunc=sum, margins=True)"
      ]
    },
    {
      "cell_type": "markdown",
      "metadata": {
        "id": "bbyFIbJkBjvD"
      },
      "source": [
        "### 범주형(Categorical) 데이터\n"
      ]
    },
    {
      "cell_type": "code",
      "execution_count": 283,
      "metadata": {
        "id": "A6tDHNBCBnTT"
      },
      "outputs": [
        {
          "data": {
            "text/plain": [
              "0    c1\n",
              "1    c2\n",
              "2    c1\n",
              "3    c2\n",
              "4    c1\n",
              "5    c1\n",
              "6    c2\n",
              "7    c1\n",
              "8    c2\n",
              "9    c1\n",
              "dtype: object"
            ]
          },
          "execution_count": 283,
          "metadata": {},
          "output_type": "execute_result"
        }
      ],
      "source": [
        "s = pd.Series(['c1', 'c2', 'c1', 'c2', 'c1'] * 2)\n",
        "s"
      ]
    },
    {
      "cell_type": "code",
      "execution_count": 284,
      "metadata": {
        "id": "v-_JtRj8B5Wk"
      },
      "outputs": [
        {
          "data": {
            "text/plain": [
              "array(['c1', 'c2'], dtype=object)"
            ]
          },
          "execution_count": 284,
          "metadata": {},
          "output_type": "execute_result"
        }
      ],
      "source": [
        "pd.unique(s)"
      ]
    },
    {
      "cell_type": "code",
      "execution_count": 285,
      "metadata": {
        "id": "8EnnyCEdB8J-"
      },
      "outputs": [
        {
          "data": {
            "text/plain": [
              "c1    6\n",
              "c2    4\n",
              "dtype: int64"
            ]
          },
          "execution_count": 285,
          "metadata": {},
          "output_type": "execute_result"
        }
      ],
      "source": [
        "pd.value_counts(s)"
      ]
    },
    {
      "cell_type": "code",
      "execution_count": 286,
      "metadata": {
        "id": "7Bi_tGNMCD7o"
      },
      "outputs": [
        {
          "data": {
            "text/plain": [
              "0    0\n",
              "1    1\n",
              "2    0\n",
              "3    1\n",
              "4    0\n",
              "5    0\n",
              "6    1\n",
              "7    0\n",
              "8    1\n",
              "9    0\n",
              "dtype: int64"
            ]
          },
          "execution_count": 286,
          "metadata": {},
          "output_type": "execute_result"
        }
      ],
      "source": [
        "code = pd.Series([0, 1, 0, 1, 0] * 2)\n",
        "code"
      ]
    },
    {
      "cell_type": "code",
      "execution_count": 287,
      "metadata": {
        "id": "4aO21aofCNNx"
      },
      "outputs": [
        {
          "data": {
            "text/plain": [
              "0    c1\n",
              "1    c2\n",
              "dtype: object"
            ]
          },
          "execution_count": 287,
          "metadata": {},
          "output_type": "execute_result"
        }
      ],
      "source": [
        "d = pd.Series(['c1', 'c2'])\n",
        "d"
      ]
    },
    {
      "cell_type": "code",
      "execution_count": 288,
      "metadata": {
        "id": "fJ5nbwbVCV0m"
      },
      "outputs": [
        {
          "data": {
            "text/plain": [
              "0    c1\n",
              "1    c2\n",
              "0    c1\n",
              "1    c2\n",
              "0    c1\n",
              "0    c1\n",
              "1    c2\n",
              "0    c1\n",
              "1    c2\n",
              "0    c1\n",
              "dtype: object"
            ]
          },
          "execution_count": 288,
          "metadata": {},
          "output_type": "execute_result"
        }
      ],
      "source": [
        "d.take(code)"
      ]
    },
    {
      "cell_type": "code",
      "execution_count": 289,
      "metadata": {
        "id": "MZyW5zGdCpx1"
      },
      "outputs": [
        {
          "data": {
            "text/html": [
              "<div>\n",
              "<style scoped>\n",
              "    .dataframe tbody tr th:only-of-type {\n",
              "        vertical-align: middle;\n",
              "    }\n",
              "\n",
              "    .dataframe tbody tr th {\n",
              "        vertical-align: top;\n",
              "    }\n",
              "\n",
              "    .dataframe thead th {\n",
              "        text-align: right;\n",
              "    }\n",
              "</style>\n",
              "<table border=\"1\" class=\"dataframe\">\n",
              "  <thead>\n",
              "    <tr style=\"text-align: right;\">\n",
              "      <th></th>\n",
              "      <th>id</th>\n",
              "      <th>c</th>\n",
              "      <th>v</th>\n",
              "    </tr>\n",
              "  </thead>\n",
              "  <tbody>\n",
              "    <tr>\n",
              "      <th>0</th>\n",
              "      <td>0</td>\n",
              "      <td>c1</td>\n",
              "      <td>3232</td>\n",
              "    </tr>\n",
              "    <tr>\n",
              "      <th>1</th>\n",
              "      <td>1</td>\n",
              "      <td>c2</td>\n",
              "      <td>1416</td>\n",
              "    </tr>\n",
              "    <tr>\n",
              "      <th>2</th>\n",
              "      <td>2</td>\n",
              "      <td>c1</td>\n",
              "      <td>2816</td>\n",
              "    </tr>\n",
              "    <tr>\n",
              "      <th>3</th>\n",
              "      <td>3</td>\n",
              "      <td>c2</td>\n",
              "      <td>2783</td>\n",
              "    </tr>\n",
              "    <tr>\n",
              "      <th>4</th>\n",
              "      <td>4</td>\n",
              "      <td>c1</td>\n",
              "      <td>4304</td>\n",
              "    </tr>\n",
              "    <tr>\n",
              "      <th>5</th>\n",
              "      <td>5</td>\n",
              "      <td>c1</td>\n",
              "      <td>2191</td>\n",
              "    </tr>\n",
              "    <tr>\n",
              "      <th>6</th>\n",
              "      <td>6</td>\n",
              "      <td>c2</td>\n",
              "      <td>4946</td>\n",
              "    </tr>\n",
              "    <tr>\n",
              "      <th>7</th>\n",
              "      <td>7</td>\n",
              "      <td>c1</td>\n",
              "      <td>3328</td>\n",
              "    </tr>\n",
              "    <tr>\n",
              "      <th>8</th>\n",
              "      <td>8</td>\n",
              "      <td>c2</td>\n",
              "      <td>2666</td>\n",
              "    </tr>\n",
              "    <tr>\n",
              "      <th>9</th>\n",
              "      <td>9</td>\n",
              "      <td>c1</td>\n",
              "      <td>3914</td>\n",
              "    </tr>\n",
              "  </tbody>\n",
              "</table>\n",
              "</div>"
            ],
            "text/plain": [
              "   id   c     v\n",
              "0   0  c1  3232\n",
              "1   1  c2  1416\n",
              "2   2  c1  2816\n",
              "3   3  c2  2783\n",
              "4   4  c1  4304\n",
              "5   5  c1  2191\n",
              "6   6  c2  4946\n",
              "7   7  c1  3328\n",
              "8   8  c2  2666\n",
              "9   9  c1  3914"
            ]
          },
          "execution_count": 289,
          "metadata": {},
          "output_type": "execute_result"
        }
      ],
      "source": [
        "df = pd.DataFrame({'id': np.arange(len(s)),\n",
        "                    'c': s,\n",
        "                    'v': np.random.randint(1000, 5000, size=len(s))})\n",
        "df"
      ]
    },
    {
      "cell_type": "code",
      "execution_count": 290,
      "metadata": {
        "id": "tOX0QS_iDe60"
      },
      "outputs": [
        {
          "data": {
            "text/plain": [
              "0    c1\n",
              "1    c2\n",
              "2    c1\n",
              "3    c2\n",
              "4    c1\n",
              "5    c1\n",
              "6    c2\n",
              "7    c1\n",
              "8    c2\n",
              "9    c1\n",
              "Name: c, dtype: category\n",
              "Categories (2, object): ['c1', 'c2']"
            ]
          },
          "execution_count": 290,
          "metadata": {},
          "output_type": "execute_result"
        }
      ],
      "source": [
        "c = df['c'].astype('category')\n",
        "c"
      ]
    },
    {
      "cell_type": "code",
      "execution_count": 291,
      "metadata": {
        "id": "vjDgdPmHE6nK"
      },
      "outputs": [
        {
          "data": {
            "text/plain": [
              "['c1', 'c2', 'c1', 'c2', 'c1', 'c1', 'c2', 'c1', 'c2', 'c1']\n",
              "Categories (2, object): ['c1', 'c2']"
            ]
          },
          "execution_count": 291,
          "metadata": {},
          "output_type": "execute_result"
        }
      ],
      "source": [
        "c.values"
      ]
    },
    {
      "cell_type": "code",
      "execution_count": 292,
      "metadata": {
        "id": "n30Dxm_JFeha"
      },
      "outputs": [
        {
          "data": {
            "text/plain": [
              "Index(['c1', 'c2'], dtype='object')"
            ]
          },
          "execution_count": 292,
          "metadata": {},
          "output_type": "execute_result"
        }
      ],
      "source": [
        "c.values.categories"
      ]
    },
    {
      "cell_type": "code",
      "execution_count": 293,
      "metadata": {
        "id": "Dm7eTHHUFloX"
      },
      "outputs": [
        {
          "data": {
            "text/plain": [
              "array([0, 1, 0, 1, 0, 0, 1, 0, 1, 0], dtype=int8)"
            ]
          },
          "execution_count": 293,
          "metadata": {},
          "output_type": "execute_result"
        }
      ],
      "source": [
        "c.values.codes"
      ]
    },
    {
      "cell_type": "code",
      "execution_count": 294,
      "metadata": {
        "id": "w9zC9hE8Fzbj"
      },
      "outputs": [
        {
          "data": {
            "text/plain": [
              "0    c1\n",
              "1    c2\n",
              "2    c1\n",
              "3    c2\n",
              "4    c1\n",
              "5    c1\n",
              "6    c2\n",
              "7    c1\n",
              "8    c2\n",
              "9    c1\n",
              "Name: c, dtype: category\n",
              "Categories (2, object): ['c1', 'c2']"
            ]
          },
          "execution_count": 294,
          "metadata": {},
          "output_type": "execute_result"
        }
      ],
      "source": [
        "df['c'] = c\n",
        "df.c"
      ]
    },
    {
      "cell_type": "code",
      "execution_count": 295,
      "metadata": {
        "id": "kHIkmMF3F7E6"
      },
      "outputs": [
        {
          "data": {
            "text/plain": [
              "['c1', 'c2', 'c3', 'c1', 'c2']\n",
              "Categories (3, object): ['c1', 'c2', 'c3']"
            ]
          },
          "execution_count": 295,
          "metadata": {},
          "output_type": "execute_result"
        }
      ],
      "source": [
        "c = pd.Categorical(['c1', 'c2', 'c3', 'c1', 'c2'])\n",
        "c"
      ]
    },
    {
      "cell_type": "code",
      "execution_count": 296,
      "metadata": {
        "id": "0Hd3a20OGIeK"
      },
      "outputs": [
        {
          "data": {
            "text/plain": [
              "['c1', 'c2', 'c3', 'c1', 'c2']\n",
              "Categories (3, object): ['c1', 'c2', 'c3']"
            ]
          },
          "execution_count": 296,
          "metadata": {},
          "output_type": "execute_result"
        }
      ],
      "source": [
        "categories = ['c1', 'c2', 'c3']\n",
        "codes = [0, 1, 2, 0, 1]\n",
        "c = pd.Categorical.from_codes(codes, categories)\n",
        "c"
      ]
    },
    {
      "cell_type": "code",
      "execution_count": 297,
      "metadata": {
        "id": "n3MRLHmPHKM2"
      },
      "outputs": [
        {
          "data": {
            "text/plain": [
              "['c1', 'c2', 'c3', 'c1', 'c2']\n",
              "Categories (3, object): ['c1' < 'c2' < 'c3']"
            ]
          },
          "execution_count": 297,
          "metadata": {},
          "output_type": "execute_result"
        }
      ],
      "source": [
        "pd.Categorical.from_codes(codes, categories, ordered=True)"
      ]
    },
    {
      "cell_type": "code",
      "execution_count": 298,
      "metadata": {
        "id": "2PYX6ou4HjlD"
      },
      "outputs": [
        {
          "data": {
            "text/plain": [
              "['c1', 'c2', 'c3', 'c1', 'c2']\n",
              "Categories (3, object): ['c1' < 'c2' < 'c3']"
            ]
          },
          "execution_count": 298,
          "metadata": {},
          "output_type": "execute_result"
        }
      ],
      "source": [
        "c.as_ordered()"
      ]
    },
    {
      "cell_type": "code",
      "execution_count": 299,
      "metadata": {
        "id": "tR-KJXBqH_DD"
      },
      "outputs": [
        {
          "data": {
            "text/plain": [
              "array([0, 1, 2, 0, 1], dtype=int8)"
            ]
          },
          "execution_count": 299,
          "metadata": {},
          "output_type": "execute_result"
        }
      ],
      "source": [
        "c.codes"
      ]
    },
    {
      "cell_type": "code",
      "execution_count": 300,
      "metadata": {
        "id": "Hiiiuv8DIJRJ"
      },
      "outputs": [
        {
          "data": {
            "text/plain": [
              "Index(['c1', 'c2', 'c3'], dtype='object')"
            ]
          },
          "execution_count": 300,
          "metadata": {},
          "output_type": "execute_result"
        }
      ],
      "source": [
        "c.categories"
      ]
    },
    {
      "cell_type": "code",
      "execution_count": 301,
      "metadata": {
        "id": "Oxhdd12PIQGR"
      },
      "outputs": [
        {
          "data": {
            "text/plain": [
              "Index(['c1', 'c2', 'c3', 'c4', 'c5'], dtype='object')"
            ]
          },
          "execution_count": 301,
          "metadata": {},
          "output_type": "execute_result"
        }
      ],
      "source": [
        "c = c.set_categories(['c1', 'c2', 'c3', 'c4', 'c5'])\n",
        "c.categories"
      ]
    },
    {
      "cell_type": "code",
      "execution_count": 302,
      "metadata": {
        "id": "w2kR4J0HIagG"
      },
      "outputs": [
        {
          "data": {
            "text/plain": [
              "c1    2\n",
              "c2    2\n",
              "c3    1\n",
              "c4    0\n",
              "c5    0\n",
              "dtype: int64"
            ]
          },
          "execution_count": 302,
          "metadata": {},
          "output_type": "execute_result"
        }
      ],
      "source": [
        "c.value_counts()"
      ]
    },
    {
      "cell_type": "code",
      "execution_count": 303,
      "metadata": {
        "id": "PP_HNmTxIsi7"
      },
      "outputs": [
        {
          "data": {
            "text/plain": [
              "['c1', 'c3', 'c1']\n",
              "Categories (5, object): ['c1', 'c2', 'c3', 'c4', 'c5']"
            ]
          },
          "execution_count": 303,
          "metadata": {},
          "output_type": "execute_result"
        }
      ],
      "source": [
        "c[c.isin(['c1', 'c3'])]"
      ]
    },
    {
      "cell_type": "code",
      "execution_count": 304,
      "metadata": {
        "id": "oOEz4iOoI4tx"
      },
      "outputs": [],
      "source": [
        "c = c.remove_unused_categories()"
      ]
    },
    {
      "cell_type": "code",
      "execution_count": 305,
      "metadata": {
        "id": "-Vrw8j9CJ1Qw"
      },
      "outputs": [
        {
          "data": {
            "text/plain": [
              "Index(['c1', 'c2', 'c3'], dtype='object')"
            ]
          },
          "execution_count": 305,
          "metadata": {},
          "output_type": "execute_result"
        }
      ],
      "source": [
        "c.categories"
      ]
    },
    {
      "cell_type": "markdown",
      "metadata": {
        "id": "wjRK-aLNzLKo"
      },
      "source": [
        "## 문자열 연산"
      ]
    },
    {
      "cell_type": "markdown",
      "metadata": {
        "id": "q1LwRoiH0h8A"
      },
      "source": [
        "#### 문자열 연산자"
      ]
    },
    {
      "cell_type": "code",
      "execution_count": 306,
      "metadata": {
        "id": "AXJwgoGYyPx7"
      },
      "outputs": [
        {
          "data": {
            "text/plain": [
              "0          Woong\n",
              "1            Lee\n",
              "2    Steven Jobs\n",
              "3     Larry Page\n",
              "4      Elon Musk\n",
              "5           None\n",
              "6     Bill Gates\n",
              "7           Mark\n",
              "8           Jeff\n",
              "dtype: object"
            ]
          },
          "execution_count": 306,
          "metadata": {},
          "output_type": "execute_result"
        }
      ],
      "source": [
        "name_tuple = ['Woong', 'Lee', 'Steven Jobs', 'Larry Page', 'Elon Musk', None, 'Bill Gates', 'Mark', 'Jeff']\n",
        "names = pd.Series(name_tuple)\n",
        "names"
      ]
    },
    {
      "cell_type": "code",
      "execution_count": 307,
      "metadata": {
        "id": "8UZuQclNzvy7"
      },
      "outputs": [
        {
          "data": {
            "text/plain": [
              "0          woong\n",
              "1            lee\n",
              "2    steven jobs\n",
              "3     larry page\n",
              "4      elon musk\n",
              "5           None\n",
              "6     bill gates\n",
              "7           mark\n",
              "8           jeff\n",
              "dtype: object"
            ]
          },
          "execution_count": 307,
          "metadata": {},
          "output_type": "execute_result"
        }
      ],
      "source": [
        "names.str.lower()"
      ]
    },
    {
      "cell_type": "code",
      "execution_count": 308,
      "metadata": {
        "id": "RKC2Y-_p1cgf"
      },
      "outputs": [
        {
          "data": {
            "text/plain": [
              "0     5.0\n",
              "1     3.0\n",
              "2    11.0\n",
              "3    10.0\n",
              "4     9.0\n",
              "5     NaN\n",
              "6    10.0\n",
              "7     4.0\n",
              "8     4.0\n",
              "dtype: float64"
            ]
          },
          "execution_count": 308,
          "metadata": {},
          "output_type": "execute_result"
        }
      ],
      "source": [
        "names.str.len()"
      ]
    },
    {
      "cell_type": "code",
      "execution_count": 309,
      "metadata": {
        "id": "pEza_iX71gdo"
      },
      "outputs": [
        {
          "data": {
            "text/plain": [
              "0           [Woong]\n",
              "1             [Lee]\n",
              "2    [Steven, Jobs]\n",
              "3     [Larry, Page]\n",
              "4      [Elon, Musk]\n",
              "5              None\n",
              "6     [Bill, Gates]\n",
              "7            [Mark]\n",
              "8            [Jeff]\n",
              "dtype: object"
            ]
          },
          "execution_count": 309,
          "metadata": {},
          "output_type": "execute_result"
        }
      ],
      "source": [
        "names.str.split()"
      ]
    },
    {
      "cell_type": "markdown",
      "metadata": {
        "id": "fmpHWLto8PPZ"
      },
      "source": [
        "#### 기타 연산자\n"
      ]
    },
    {
      "cell_type": "code",
      "execution_count": 310,
      "metadata": {
        "id": "8OoAFpYw5xUT"
      },
      "outputs": [
        {
          "data": {
            "text/plain": [
              "0    Woon\n",
              "1     Lee\n",
              "2    Stev\n",
              "3    Larr\n",
              "4    Elon\n",
              "5    None\n",
              "6    Bill\n",
              "7    Mark\n",
              "8    Jeff\n",
              "dtype: object"
            ]
          },
          "execution_count": 310,
          "metadata": {},
          "output_type": "execute_result"
        }
      ],
      "source": [
        "names.str[0:4]"
      ]
    },
    {
      "cell_type": "code",
      "execution_count": 311,
      "metadata": {
        "id": "psOVr0dE8_hQ"
      },
      "outputs": [
        {
          "data": {
            "text/plain": [
              "0    Woong\n",
              "1      Lee\n",
              "2     Jobs\n",
              "3     Page\n",
              "4     Musk\n",
              "5     None\n",
              "6    Gates\n",
              "7     Mark\n",
              "8     Jeff\n",
              "dtype: object"
            ]
          },
          "execution_count": 311,
          "metadata": {},
          "output_type": "execute_result"
        }
      ],
      "source": [
        "names.str.split().str.get(-1)"
      ]
    },
    {
      "cell_type": "code",
      "execution_count": 312,
      "metadata": {
        "id": "c1OM6UFk94ty"
      },
      "outputs": [
        {
          "data": {
            "text/plain": [
              "0                WoongWoong\n",
              "1                    LeeLee\n",
              "2    Steven JobsSteven Jobs\n",
              "3      Larry PageLarry Page\n",
              "4        Elon MuskElon Musk\n",
              "5                      None\n",
              "6      Bill GatesBill Gates\n",
              "7                  MarkMark\n",
              "8                  JeffJeff\n",
              "dtype: object"
            ]
          },
          "execution_count": 312,
          "metadata": {},
          "output_type": "execute_result"
        }
      ],
      "source": [
        "names.str.repeat(2)"
      ]
    },
    {
      "cell_type": "code",
      "execution_count": 313,
      "metadata": {
        "id": "8gTH3OAa9F7R"
      },
      "outputs": [
        {
          "data": {
            "text/plain": [
              "0                W*o*o*n*g\n",
              "1                    L*e*e\n",
              "2    S*t*e*v*e*n* *J*o*b*s\n",
              "3      L*a*r*r*y* *P*a*g*e\n",
              "4        E*l*o*n* *M*u*s*k\n",
              "5                     None\n",
              "6      B*i*l*l* *G*a*t*e*s\n",
              "7                  M*a*r*k\n",
              "8                  J*e*f*f\n",
              "dtype: object"
            ]
          },
          "execution_count": 313,
          "metadata": {},
          "output_type": "execute_result"
        }
      ],
      "source": [
        "names.str.join('*')"
      ]
    },
    {
      "cell_type": "markdown",
      "metadata": {
        "id": "cc5I6nYe2rIA"
      },
      "source": [
        "#### 정규표현식\n"
      ]
    },
    {
      "cell_type": "code",
      "execution_count": 314,
      "metadata": {
        "id": "f__zeZaV2hJt"
      },
      "outputs": [
        {
          "data": {
            "text/plain": [
              "0    True\n",
              "1    True\n",
              "2    True\n",
              "3    True\n",
              "4    True\n",
              "5    None\n",
              "6    True\n",
              "7    True\n",
              "8    True\n",
              "dtype: object"
            ]
          },
          "execution_count": 314,
          "metadata": {},
          "output_type": "execute_result"
        }
      ],
      "source": [
        "names.str.match('([A-Za-z]+)')"
      ]
    },
    {
      "cell_type": "code",
      "execution_count": 315,
      "metadata": {
        "id": "WE-XezJe4FJ1"
      },
      "outputs": [
        {
          "data": {
            "text/plain": [
              "0           [Woong]\n",
              "1             [Lee]\n",
              "2    [Steven, Jobs]\n",
              "3     [Larry, Page]\n",
              "4      [Elon, Musk]\n",
              "5              None\n",
              "6     [Bill, Gates]\n",
              "7            [Mark]\n",
              "8            [Jeff]\n",
              "dtype: object"
            ]
          },
          "execution_count": 315,
          "metadata": {},
          "output_type": "execute_result"
        }
      ],
      "source": [
        "names.str.findall('([A-Za-z]+)')"
      ]
    },
    {
      "cell_type": "markdown",
      "metadata": {
        "id": "coa1wuPKAjE4"
      },
      "source": [
        "## 시계열 처리"
      ]
    },
    {
      "cell_type": "code",
      "execution_count": 319,
      "metadata": {
        "id": "DpzWbv0F9eE2"
      },
      "outputs": [
        {
          "data": {
            "text/plain": [
              "2019-01-01    0\n",
              "2020-01-01    1\n",
              "2020-02-01    2\n",
              "2020-02-02    3\n",
              "2020-03-01    4\n",
              "dtype: int64"
            ]
          },
          "execution_count": 319,
          "metadata": {},
          "output_type": "execute_result"
        }
      ],
      "source": [
        "idx = pd.DatetimeIndex(['2019-01-01', '2020-01-01', '2020-02-01', '2020-02-02', '2020-03-01'])\n",
        "s = pd.Series([0, 1, 2, 3, 4], index=idx)\n",
        "s"
      ]
    },
    {
      "cell_type": "code",
      "execution_count": 320,
      "metadata": {
        "id": "ucLDgwSaBC-j"
      },
      "outputs": [
        {
          "data": {
            "text/plain": [
              "2020-01-01    1\n",
              "2020-02-01    2\n",
              "2020-02-02    3\n",
              "2020-03-01    4\n",
              "dtype: int64"
            ]
          },
          "execution_count": 320,
          "metadata": {},
          "output_type": "execute_result"
        }
      ],
      "source": [
        "s['2020-01-01':]"
      ]
    },
    {
      "cell_type": "code",
      "execution_count": 321,
      "metadata": {
        "id": "ULqUMOA6BLTV"
      },
      "outputs": [
        {
          "data": {
            "text/plain": [
              "2019-01-01    0\n",
              "2020-01-01    1\n",
              "dtype: int64"
            ]
          },
          "execution_count": 321,
          "metadata": {},
          "output_type": "execute_result"
        }
      ],
      "source": [
        "s[:'2020-01-01']"
      ]
    },
    {
      "cell_type": "code",
      "execution_count": 322,
      "metadata": {
        "id": "AWSo-DsCDlem"
      },
      "outputs": [
        {
          "data": {
            "text/plain": [
              "2019-01-01    0\n",
              "dtype: int64"
            ]
          },
          "execution_count": 322,
          "metadata": {},
          "output_type": "execute_result"
        }
      ],
      "source": [
        "s['2019']"
      ]
    },
    {
      "cell_type": "markdown",
      "metadata": {
        "id": "KuoU8dtlD7kR"
      },
      "source": [
        "#### 시계열 데이터 구조\n"
      ]
    },
    {
      "cell_type": "code",
      "execution_count": 323,
      "metadata": {
        "id": "WRDRlDNPDzAc"
      },
      "outputs": [
        {
          "data": {
            "text/plain": [
              "DatetimeIndex(['2019-12-12', '2020-01-01', '2020-02-02', '2020-03-04',\n",
              "               '2020-07-01'],\n",
              "              dtype='datetime64[ns]', freq=None)"
            ]
          },
          "execution_count": 323,
          "metadata": {},
          "output_type": "execute_result"
        }
      ],
      "source": [
        "from datetime import datetime\n",
        "dates = pd.to_datetime(['12-12-2019', datetime(2020, 1, 1), '2nd of Feb, 2020', '2020-Mar-4', '20200701'])\n",
        "dates"
      ]
    },
    {
      "cell_type": "code",
      "execution_count": 324,
      "metadata": {
        "id": "jEXv5UcQHKoZ"
      },
      "outputs": [
        {
          "data": {
            "text/plain": [
              "PeriodIndex(['2019-12-12', '2020-01-01', '2020-02-02', '2020-03-04',\n",
              "             '2020-07-01'],\n",
              "            dtype='period[D]')"
            ]
          },
          "execution_count": 324,
          "metadata": {},
          "output_type": "execute_result"
        }
      ],
      "source": [
        "dates.to_period('D')"
      ]
    },
    {
      "cell_type": "code",
      "execution_count": 325,
      "metadata": {
        "id": "i11dXCIKIKIA"
      },
      "outputs": [
        {
          "data": {
            "text/plain": [
              "TimedeltaIndex(['0 days', '20 days', '52 days', '83 days', '202 days'], dtype='timedelta64[ns]', freq=None)"
            ]
          },
          "execution_count": 325,
          "metadata": {},
          "output_type": "execute_result"
        }
      ],
      "source": [
        "dates - dates[0]"
      ]
    },
    {
      "cell_type": "code",
      "execution_count": 327,
      "metadata": {
        "id": "747a7Q8AIOVZ"
      },
      "outputs": [
        {
          "data": {
            "text/plain": [
              "DatetimeIndex(['2020-01-01', '2020-01-02', '2020-01-03', '2020-01-04',\n",
              "               '2020-01-05', '2020-01-06', '2020-01-07', '2020-01-08',\n",
              "               '2020-01-09', '2020-01-10',\n",
              "               ...\n",
              "               '2020-06-22', '2020-06-23', '2020-06-24', '2020-06-25',\n",
              "               '2020-06-26', '2020-06-27', '2020-06-28', '2020-06-29',\n",
              "               '2020-06-30', '2020-07-01'],\n",
              "              dtype='datetime64[ns]', length=183, freq='D')"
            ]
          },
          "execution_count": 327,
          "metadata": {},
          "output_type": "execute_result"
        }
      ],
      "source": [
        "pd.date_range('2020-01-01', '2020-07-01')"
      ]
    },
    {
      "cell_type": "code",
      "execution_count": 328,
      "metadata": {
        "id": "hfaW7kliITUq"
      },
      "outputs": [
        {
          "data": {
            "text/plain": [
              "DatetimeIndex(['2020-01-01', '2020-01-02', '2020-01-03', '2020-01-04',\n",
              "               '2020-01-05', '2020-01-06', '2020-01-07'],\n",
              "              dtype='datetime64[ns]', freq='D')"
            ]
          },
          "execution_count": 328,
          "metadata": {},
          "output_type": "execute_result"
        }
      ],
      "source": [
        "pd.date_range('2020-01-01', periods=7)"
      ]
    },
    {
      "cell_type": "code",
      "execution_count": 329,
      "metadata": {
        "id": "QnIaj9cfIwjG"
      },
      "outputs": [
        {
          "data": {
            "text/plain": [
              "DatetimeIndex(['2020-01-31', '2020-02-29', '2020-03-31', '2020-04-30',\n",
              "               '2020-05-31', '2020-06-30', '2020-07-31'],\n",
              "              dtype='datetime64[ns]', freq='M')"
            ]
          },
          "execution_count": 329,
          "metadata": {},
          "output_type": "execute_result"
        }
      ],
      "source": [
        "pd.date_range('2020-01-01', periods=7, freq='M')"
      ]
    },
    {
      "cell_type": "code",
      "execution_count": 330,
      "metadata": {
        "id": "3A5IqEhwI2KO"
      },
      "outputs": [
        {
          "data": {
            "text/plain": [
              "DatetimeIndex(['2020-01-01 00:00:00', '2020-01-01 01:00:00',\n",
              "               '2020-01-01 02:00:00', '2020-01-01 03:00:00',\n",
              "               '2020-01-01 04:00:00', '2020-01-01 05:00:00',\n",
              "               '2020-01-01 06:00:00'],\n",
              "              dtype='datetime64[ns]', freq='H')"
            ]
          },
          "execution_count": 330,
          "metadata": {},
          "output_type": "execute_result"
        }
      ],
      "source": [
        "pd.date_range('2020-01-01', periods=7, freq='H')"
      ]
    },
    {
      "cell_type": "code",
      "execution_count": 331,
      "metadata": {
        "id": "DmqQPTOgiHLD"
      },
      "outputs": [
        {
          "data": {
            "text/plain": [
              "DatetimeIndex(['2020-01-01 12:00:00', '2020-01-02 00:00:00', 'NaT'], dtype='datetime64[ns]', freq=None)"
            ]
          },
          "execution_count": 331,
          "metadata": {},
          "output_type": "execute_result"
        }
      ],
      "source": [
        "idx = pd.to_datetime(['2020-01-01 12:00:00', '2020-01-02 00:00:00'] + [None])\n",
        "idx"
      ]
    },
    {
      "cell_type": "code",
      "execution_count": 332,
      "metadata": {
        "id": "sWSFkY1EieM6"
      },
      "outputs": [
        {
          "data": {
            "text/plain": [
              "NaT"
            ]
          },
          "execution_count": 332,
          "metadata": {},
          "output_type": "execute_result"
        }
      ],
      "source": [
        "idx[2]"
      ]
    },
    {
      "cell_type": "code",
      "execution_count": 333,
      "metadata": {
        "id": "15Nbw1roimzp"
      },
      "outputs": [
        {
          "data": {
            "text/plain": [
              "array([False, False,  True])"
            ]
          },
          "execution_count": 333,
          "metadata": {},
          "output_type": "execute_result"
        }
      ],
      "source": [
        "pd.isnull(idx)"
      ]
    },
    {
      "cell_type": "markdown",
      "metadata": {
        "id": "eUdhdTqckQML"
      },
      "source": [
        "### 시계열 기본"
      ]
    },
    {
      "cell_type": "code",
      "execution_count": 335,
      "metadata": {
        "id": "o3C5bsKnkS3z"
      },
      "outputs": [
        {
          "data": {
            "text/plain": [
              "[datetime.datetime(2020, 1, 1, 0, 0),\n",
              " datetime.datetime(2020, 1, 2, 0, 0),\n",
              " datetime.datetime(2020, 1, 4, 0, 0),\n",
              " datetime.datetime(2020, 1, 7, 0, 0),\n",
              " datetime.datetime(2020, 1, 10, 0, 0),\n",
              " datetime.datetime(2020, 1, 11, 0, 0),\n",
              " datetime.datetime(2020, 1, 15, 0, 0)]"
            ]
          },
          "execution_count": 335,
          "metadata": {},
          "output_type": "execute_result"
        }
      ],
      "source": [
        "dates = [datetime(2020, 1, 1), datetime(2020, 1, 2), datetime(2020, 1, 4), datetime(2020, 1, 7),\n",
        "        datetime(2020, 1, 10), datetime(2020, 1, 11), datetime(2020, 1, 15)]\n",
        "dates"
      ]
    },
    {
      "cell_type": "code",
      "execution_count": 337,
      "metadata": {
        "id": "n0NOghJ3lK8f"
      },
      "outputs": [
        {
          "data": {
            "text/plain": [
              "2020-01-01   -0.323609\n",
              "2020-01-02    0.732223\n",
              "2020-01-04   -0.719217\n",
              "2020-01-07    0.436448\n",
              "2020-01-10    0.522419\n",
              "2020-01-11   -1.294082\n",
              "2020-01-15   -0.290543\n",
              "dtype: float64"
            ]
          },
          "execution_count": 337,
          "metadata": {},
          "output_type": "execute_result"
        }
      ],
      "source": [
        "ts = pd.Series(np.random.randn(7), index=dates)\n",
        "ts"
      ]
    },
    {
      "cell_type": "code",
      "execution_count": 338,
      "metadata": {
        "id": "_eTZ-8BOlYb_"
      },
      "outputs": [
        {
          "data": {
            "text/plain": [
              "DatetimeIndex(['2020-01-01', '2020-01-02', '2020-01-04', '2020-01-07',\n",
              "               '2020-01-10', '2020-01-11', '2020-01-15'],\n",
              "              dtype='datetime64[ns]', freq=None)"
            ]
          },
          "execution_count": 338,
          "metadata": {},
          "output_type": "execute_result"
        }
      ],
      "source": [
        "ts.index"
      ]
    },
    {
      "cell_type": "code",
      "execution_count": 339,
      "metadata": {
        "id": "vr-FEVSyll5c"
      },
      "outputs": [
        {
          "data": {
            "text/plain": [
              "Timestamp('2020-01-01 00:00:00')"
            ]
          },
          "execution_count": 339,
          "metadata": {},
          "output_type": "execute_result"
        }
      ],
      "source": [
        "ts.index[0]"
      ]
    },
    {
      "cell_type": "code",
      "execution_count": 340,
      "metadata": {
        "id": "aaRJ83ZNm1P4"
      },
      "outputs": [
        {
          "data": {
            "text/plain": [
              "-0.7192166098423102"
            ]
          },
          "execution_count": 340,
          "metadata": {},
          "output_type": "execute_result"
        }
      ],
      "source": [
        "ts[ts.index[2]]"
      ]
    },
    {
      "cell_type": "code",
      "execution_count": 341,
      "metadata": {
        "id": "h9tW0LHSnAT7"
      },
      "outputs": [
        {
          "data": {
            "text/plain": [
              "-0.7192166098423102"
            ]
          },
          "execution_count": 341,
          "metadata": {},
          "output_type": "execute_result"
        }
      ],
      "source": [
        "ts['20200104']"
      ]
    },
    {
      "cell_type": "code",
      "execution_count": 342,
      "metadata": {
        "id": "-PiTx7qanLSF"
      },
      "outputs": [
        {
          "data": {
            "text/plain": [
              "-0.7192166098423102"
            ]
          },
          "execution_count": 342,
          "metadata": {},
          "output_type": "execute_result"
        }
      ],
      "source": [
        "ts['1/4/2020']"
      ]
    },
    {
      "cell_type": "code",
      "execution_count": 345,
      "metadata": {
        "id": "RZXHXH79oL87"
      },
      "outputs": [
        {
          "data": {
            "text/plain": [
              "2017-10-01    1.870005\n",
              "2017-10-02   -1.898512\n",
              "2017-10-03    0.216734\n",
              "2017-10-04    0.454418\n",
              "2017-10-05   -0.195346\n",
              "                ...   \n",
              "2020-06-22   -0.450806\n",
              "2020-06-23   -0.489071\n",
              "2020-06-24   -0.655654\n",
              "2020-06-25    0.182375\n",
              "2020-06-26    1.188823\n",
              "Freq: D, Length: 1000, dtype: float64"
            ]
          },
          "execution_count": 345,
          "metadata": {},
          "output_type": "execute_result"
        }
      ],
      "source": [
        "ts = pd.Series(np.random.randn(1000),\n",
        "                index=pd.date_range('2017-10-01', periods=1000))\n",
        "ts"
      ]
    },
    {
      "cell_type": "code",
      "execution_count": 346,
      "metadata": {
        "id": "OrV7HKEkoZL7"
      },
      "outputs": [
        {
          "data": {
            "text/plain": [
              "2020-01-01   -2.613612\n",
              "2020-01-02    0.395901\n",
              "2020-01-03    0.525043\n",
              "2020-01-04    0.509501\n",
              "2020-01-05    0.418065\n",
              "                ...   \n",
              "2020-06-22   -0.450806\n",
              "2020-06-23   -0.489071\n",
              "2020-06-24   -0.655654\n",
              "2020-06-25    0.182375\n",
              "2020-06-26    1.188823\n",
              "Freq: D, Length: 178, dtype: float64"
            ]
          },
          "execution_count": 346,
          "metadata": {},
          "output_type": "execute_result"
        }
      ],
      "source": [
        "ts['2020']"
      ]
    },
    {
      "cell_type": "code",
      "execution_count": 347,
      "metadata": {
        "id": "bAtqzI_jor5X"
      },
      "outputs": [
        {
          "data": {
            "text/plain": [
              "2020-06-01   -0.517763\n",
              "2020-06-02   -0.386830\n",
              "2020-06-03   -0.274825\n",
              "2020-06-04    1.129476\n",
              "2020-06-05   -0.521181\n",
              "2020-06-06    1.047398\n",
              "2020-06-07   -1.324421\n",
              "2020-06-08   -0.643052\n",
              "2020-06-09   -0.797120\n",
              "2020-06-10   -1.869962\n",
              "2020-06-11    1.176939\n",
              "2020-06-12   -0.950394\n",
              "2020-06-13   -0.415061\n",
              "2020-06-14    0.580553\n",
              "2020-06-15    0.350323\n",
              "2020-06-16   -1.174110\n",
              "2020-06-17   -0.167764\n",
              "2020-06-18    0.646436\n",
              "2020-06-19    1.078535\n",
              "2020-06-20   -0.256058\n",
              "2020-06-21    0.336755\n",
              "2020-06-22   -0.450806\n",
              "2020-06-23   -0.489071\n",
              "2020-06-24   -0.655654\n",
              "2020-06-25    0.182375\n",
              "2020-06-26    1.188823\n",
              "Freq: D, dtype: float64"
            ]
          },
          "execution_count": 347,
          "metadata": {},
          "output_type": "execute_result"
        }
      ],
      "source": [
        "ts['2020-06']"
      ]
    },
    {
      "cell_type": "code",
      "execution_count": 348,
      "metadata": {
        "id": "AkHSxPFKpW3g"
      },
      "outputs": [
        {
          "data": {
            "text/plain": [
              "2020-06-20   -0.256058\n",
              "2020-06-21    0.336755\n",
              "2020-06-22   -0.450806\n",
              "2020-06-23   -0.489071\n",
              "2020-06-24   -0.655654\n",
              "2020-06-25    0.182375\n",
              "2020-06-26    1.188823\n",
              "Freq: D, dtype: float64"
            ]
          },
          "execution_count": 348,
          "metadata": {},
          "output_type": "execute_result"
        }
      ],
      "source": [
        "ts[datetime(2020, 6, 20):]"
      ]
    },
    {
      "cell_type": "code",
      "execution_count": 349,
      "metadata": {
        "id": "BLcA7EkOpdwC"
      },
      "outputs": [
        {
          "data": {
            "text/plain": [
              "2020-06-10   -1.869962\n",
              "2020-06-11    1.176939\n",
              "2020-06-12   -0.950394\n",
              "2020-06-13   -0.415061\n",
              "2020-06-14    0.580553\n",
              "2020-06-15    0.350323\n",
              "2020-06-16   -1.174110\n",
              "2020-06-17   -0.167764\n",
              "2020-06-18    0.646436\n",
              "2020-06-19    1.078535\n",
              "2020-06-20   -0.256058\n",
              "Freq: D, dtype: float64"
            ]
          },
          "execution_count": 349,
          "metadata": {},
          "output_type": "execute_result"
        }
      ],
      "source": [
        "ts['2020-06-10':'2020-06-20']"
      ]
    },
    {
      "cell_type": "code",
      "execution_count": 352,
      "metadata": {
        "id": "k2WCkszlqEwH"
      },
      "outputs": [
        {
          "data": {
            "text/html": [
              "<div>\n",
              "<style scoped>\n",
              "    .dataframe tbody tr th:only-of-type {\n",
              "        vertical-align: middle;\n",
              "    }\n",
              "\n",
              "    .dataframe tbody tr th {\n",
              "        vertical-align: top;\n",
              "    }\n",
              "\n",
              "    .dataframe thead th {\n",
              "        text-align: right;\n",
              "    }\n",
              "</style>\n",
              "<table border=\"1\" class=\"dataframe\">\n",
              "  <thead>\n",
              "    <tr style=\"text-align: right;\">\n",
              "      <th></th>\n",
              "      <th>A</th>\n",
              "      <th>B</th>\n",
              "      <th>C</th>\n",
              "      <th>D</th>\n",
              "    </tr>\n",
              "  </thead>\n",
              "  <tbody>\n",
              "    <tr>\n",
              "      <th>2017-10-01</th>\n",
              "      <td>1.049088</td>\n",
              "      <td>-0.194266</td>\n",
              "      <td>0.071072</td>\n",
              "      <td>-0.396038</td>\n",
              "    </tr>\n",
              "    <tr>\n",
              "      <th>2017-10-02</th>\n",
              "      <td>-0.808577</td>\n",
              "      <td>0.335096</td>\n",
              "      <td>0.044098</td>\n",
              "      <td>0.069696</td>\n",
              "    </tr>\n",
              "    <tr>\n",
              "      <th>2017-10-03</th>\n",
              "      <td>-1.915859</td>\n",
              "      <td>-0.101824</td>\n",
              "      <td>-0.307162</td>\n",
              "      <td>0.734383</td>\n",
              "    </tr>\n",
              "    <tr>\n",
              "      <th>2017-10-04</th>\n",
              "      <td>0.528826</td>\n",
              "      <td>0.942177</td>\n",
              "      <td>-0.778122</td>\n",
              "      <td>1.416348</td>\n",
              "    </tr>\n",
              "    <tr>\n",
              "      <th>2017-10-05</th>\n",
              "      <td>-1.788411</td>\n",
              "      <td>-0.553194</td>\n",
              "      <td>-0.284980</td>\n",
              "      <td>-0.313846</td>\n",
              "    </tr>\n",
              "    <tr>\n",
              "      <th>...</th>\n",
              "      <td>...</td>\n",
              "      <td>...</td>\n",
              "      <td>...</td>\n",
              "      <td>...</td>\n",
              "    </tr>\n",
              "    <tr>\n",
              "      <th>2020-06-22</th>\n",
              "      <td>0.241510</td>\n",
              "      <td>0.965602</td>\n",
              "      <td>-1.226448</td>\n",
              "      <td>0.242364</td>\n",
              "    </tr>\n",
              "    <tr>\n",
              "      <th>2020-06-23</th>\n",
              "      <td>0.103878</td>\n",
              "      <td>-0.191198</td>\n",
              "      <td>-0.091913</td>\n",
              "      <td>0.032360</td>\n",
              "    </tr>\n",
              "    <tr>\n",
              "      <th>2020-06-24</th>\n",
              "      <td>-1.097295</td>\n",
              "      <td>-0.123594</td>\n",
              "      <td>-0.315092</td>\n",
              "      <td>1.250740</td>\n",
              "    </tr>\n",
              "    <tr>\n",
              "      <th>2020-06-25</th>\n",
              "      <td>-2.067571</td>\n",
              "      <td>1.355657</td>\n",
              "      <td>0.835387</td>\n",
              "      <td>-1.027516</td>\n",
              "    </tr>\n",
              "    <tr>\n",
              "      <th>2020-06-26</th>\n",
              "      <td>-0.389017</td>\n",
              "      <td>-0.701425</td>\n",
              "      <td>0.904597</td>\n",
              "      <td>-0.479700</td>\n",
              "    </tr>\n",
              "  </tbody>\n",
              "</table>\n",
              "<p>1000 rows × 4 columns</p>\n",
              "</div>"
            ],
            "text/plain": [
              "                   A         B         C         D\n",
              "2017-10-01  1.049088 -0.194266  0.071072 -0.396038\n",
              "2017-10-02 -0.808577  0.335096  0.044098  0.069696\n",
              "2017-10-03 -1.915859 -0.101824 -0.307162  0.734383\n",
              "2017-10-04  0.528826  0.942177 -0.778122  1.416348\n",
              "2017-10-05 -1.788411 -0.553194 -0.284980 -0.313846\n",
              "...              ...       ...       ...       ...\n",
              "2020-06-22  0.241510  0.965602 -1.226448  0.242364\n",
              "2020-06-23  0.103878 -0.191198 -0.091913  0.032360\n",
              "2020-06-24 -1.097295 -0.123594 -0.315092  1.250740\n",
              "2020-06-25 -2.067571  1.355657  0.835387 -1.027516\n",
              "2020-06-26 -0.389017 -0.701425  0.904597 -0.479700\n",
              "\n",
              "[1000 rows x 4 columns]"
            ]
          },
          "execution_count": 352,
          "metadata": {},
          "output_type": "execute_result"
        }
      ],
      "source": [
        "tdf = pd.DataFrame(np.random.randn(1000, 4),\n",
        "                    index=pd.date_range('2017-10-01', periods=1000),\n",
        "                    columns=list('ABCD'))\n",
        "tdf"
      ]
    },
    {
      "cell_type": "code",
      "execution_count": 353,
      "metadata": {
        "id": "PDFICllKqwrv"
      },
      "outputs": [
        {
          "name": "stderr",
          "output_type": "stream",
          "text": [
            "/Users/wjlee/opt/anaconda3/envs/study_ML_37/lib/python3.7/site-packages/ipykernel_launcher.py:1: FutureWarning: Indexing a DataFrame with a datetimelike index using a single string to slice the rows, like `frame[string]`, is deprecated and will be removed in a future version. Use `frame.loc[string]` instead.\n",
            "  \"\"\"Entry point for launching an IPython kernel.\n"
          ]
        },
        {
          "data": {
            "text/html": [
              "<div>\n",
              "<style scoped>\n",
              "    .dataframe tbody tr th:only-of-type {\n",
              "        vertical-align: middle;\n",
              "    }\n",
              "\n",
              "    .dataframe tbody tr th {\n",
              "        vertical-align: top;\n",
              "    }\n",
              "\n",
              "    .dataframe thead th {\n",
              "        text-align: right;\n",
              "    }\n",
              "</style>\n",
              "<table border=\"1\" class=\"dataframe\">\n",
              "  <thead>\n",
              "    <tr style=\"text-align: right;\">\n",
              "      <th></th>\n",
              "      <th>A</th>\n",
              "      <th>B</th>\n",
              "      <th>C</th>\n",
              "      <th>D</th>\n",
              "    </tr>\n",
              "  </thead>\n",
              "  <tbody>\n",
              "    <tr>\n",
              "      <th>2020-01-01</th>\n",
              "      <td>-0.879773</td>\n",
              "      <td>0.992752</td>\n",
              "      <td>-0.287088</td>\n",
              "      <td>2.362476</td>\n",
              "    </tr>\n",
              "    <tr>\n",
              "      <th>2020-01-02</th>\n",
              "      <td>-0.916994</td>\n",
              "      <td>0.061561</td>\n",
              "      <td>1.183053</td>\n",
              "      <td>-1.884933</td>\n",
              "    </tr>\n",
              "    <tr>\n",
              "      <th>2020-01-03</th>\n",
              "      <td>-0.211809</td>\n",
              "      <td>0.894456</td>\n",
              "      <td>0.833053</td>\n",
              "      <td>0.853531</td>\n",
              "    </tr>\n",
              "    <tr>\n",
              "      <th>2020-01-04</th>\n",
              "      <td>0.396635</td>\n",
              "      <td>0.555838</td>\n",
              "      <td>-1.212726</td>\n",
              "      <td>-0.928222</td>\n",
              "    </tr>\n",
              "    <tr>\n",
              "      <th>2020-01-05</th>\n",
              "      <td>-0.065431</td>\n",
              "      <td>-0.048705</td>\n",
              "      <td>-0.100768</td>\n",
              "      <td>-0.825750</td>\n",
              "    </tr>\n",
              "    <tr>\n",
              "      <th>...</th>\n",
              "      <td>...</td>\n",
              "      <td>...</td>\n",
              "      <td>...</td>\n",
              "      <td>...</td>\n",
              "    </tr>\n",
              "    <tr>\n",
              "      <th>2020-06-22</th>\n",
              "      <td>0.241510</td>\n",
              "      <td>0.965602</td>\n",
              "      <td>-1.226448</td>\n",
              "      <td>0.242364</td>\n",
              "    </tr>\n",
              "    <tr>\n",
              "      <th>2020-06-23</th>\n",
              "      <td>0.103878</td>\n",
              "      <td>-0.191198</td>\n",
              "      <td>-0.091913</td>\n",
              "      <td>0.032360</td>\n",
              "    </tr>\n",
              "    <tr>\n",
              "      <th>2020-06-24</th>\n",
              "      <td>-1.097295</td>\n",
              "      <td>-0.123594</td>\n",
              "      <td>-0.315092</td>\n",
              "      <td>1.250740</td>\n",
              "    </tr>\n",
              "    <tr>\n",
              "      <th>2020-06-25</th>\n",
              "      <td>-2.067571</td>\n",
              "      <td>1.355657</td>\n",
              "      <td>0.835387</td>\n",
              "      <td>-1.027516</td>\n",
              "    </tr>\n",
              "    <tr>\n",
              "      <th>2020-06-26</th>\n",
              "      <td>-0.389017</td>\n",
              "      <td>-0.701425</td>\n",
              "      <td>0.904597</td>\n",
              "      <td>-0.479700</td>\n",
              "    </tr>\n",
              "  </tbody>\n",
              "</table>\n",
              "<p>178 rows × 4 columns</p>\n",
              "</div>"
            ],
            "text/plain": [
              "                   A         B         C         D\n",
              "2020-01-01 -0.879773  0.992752 -0.287088  2.362476\n",
              "2020-01-02 -0.916994  0.061561  1.183053 -1.884933\n",
              "2020-01-03 -0.211809  0.894456  0.833053  0.853531\n",
              "2020-01-04  0.396635  0.555838 -1.212726 -0.928222\n",
              "2020-01-05 -0.065431 -0.048705 -0.100768 -0.825750\n",
              "...              ...       ...       ...       ...\n",
              "2020-06-22  0.241510  0.965602 -1.226448  0.242364\n",
              "2020-06-23  0.103878 -0.191198 -0.091913  0.032360\n",
              "2020-06-24 -1.097295 -0.123594 -0.315092  1.250740\n",
              "2020-06-25 -2.067571  1.355657  0.835387 -1.027516\n",
              "2020-06-26 -0.389017 -0.701425  0.904597 -0.479700\n",
              "\n",
              "[178 rows x 4 columns]"
            ]
          },
          "execution_count": 353,
          "metadata": {},
          "output_type": "execute_result"
        }
      ],
      "source": [
        "tdf['2020']"
      ]
    },
    {
      "cell_type": "code",
      "execution_count": 354,
      "metadata": {
        "id": "3q6TX5rVq0q1"
      },
      "outputs": [
        {
          "data": {
            "text/html": [
              "<div>\n",
              "<style scoped>\n",
              "    .dataframe tbody tr th:only-of-type {\n",
              "        vertical-align: middle;\n",
              "    }\n",
              "\n",
              "    .dataframe tbody tr th {\n",
              "        vertical-align: top;\n",
              "    }\n",
              "\n",
              "    .dataframe thead th {\n",
              "        text-align: right;\n",
              "    }\n",
              "</style>\n",
              "<table border=\"1\" class=\"dataframe\">\n",
              "  <thead>\n",
              "    <tr style=\"text-align: right;\">\n",
              "      <th></th>\n",
              "      <th>A</th>\n",
              "      <th>B</th>\n",
              "      <th>C</th>\n",
              "      <th>D</th>\n",
              "    </tr>\n",
              "  </thead>\n",
              "  <tbody>\n",
              "    <tr>\n",
              "      <th>2020-06-01</th>\n",
              "      <td>-1.385743</td>\n",
              "      <td>-0.093249</td>\n",
              "      <td>0.121579</td>\n",
              "      <td>0.096340</td>\n",
              "    </tr>\n",
              "    <tr>\n",
              "      <th>2020-06-02</th>\n",
              "      <td>-0.373589</td>\n",
              "      <td>-2.395020</td>\n",
              "      <td>0.002645</td>\n",
              "      <td>1.635481</td>\n",
              "    </tr>\n",
              "    <tr>\n",
              "      <th>2020-06-03</th>\n",
              "      <td>0.535262</td>\n",
              "      <td>-1.101628</td>\n",
              "      <td>-1.719108</td>\n",
              "      <td>1.981807</td>\n",
              "    </tr>\n",
              "    <tr>\n",
              "      <th>2020-06-04</th>\n",
              "      <td>-0.805583</td>\n",
              "      <td>-1.189915</td>\n",
              "      <td>-0.411945</td>\n",
              "      <td>-1.201699</td>\n",
              "    </tr>\n",
              "    <tr>\n",
              "      <th>2020-06-05</th>\n",
              "      <td>-0.031397</td>\n",
              "      <td>-0.597926</td>\n",
              "      <td>0.175620</td>\n",
              "      <td>0.726288</td>\n",
              "    </tr>\n",
              "    <tr>\n",
              "      <th>2020-06-06</th>\n",
              "      <td>-0.853305</td>\n",
              "      <td>-1.917708</td>\n",
              "      <td>0.920657</td>\n",
              "      <td>0.154248</td>\n",
              "    </tr>\n",
              "    <tr>\n",
              "      <th>2020-06-07</th>\n",
              "      <td>0.387032</td>\n",
              "      <td>0.282391</td>\n",
              "      <td>0.106759</td>\n",
              "      <td>-1.174564</td>\n",
              "    </tr>\n",
              "    <tr>\n",
              "      <th>2020-06-08</th>\n",
              "      <td>0.597332</td>\n",
              "      <td>2.115290</td>\n",
              "      <td>0.278425</td>\n",
              "      <td>-0.378636</td>\n",
              "    </tr>\n",
              "    <tr>\n",
              "      <th>2020-06-09</th>\n",
              "      <td>0.683272</td>\n",
              "      <td>0.654035</td>\n",
              "      <td>-0.060936</td>\n",
              "      <td>-0.646863</td>\n",
              "    </tr>\n",
              "    <tr>\n",
              "      <th>2020-06-10</th>\n",
              "      <td>0.311458</td>\n",
              "      <td>-0.359102</td>\n",
              "      <td>0.399004</td>\n",
              "      <td>0.002474</td>\n",
              "    </tr>\n",
              "    <tr>\n",
              "      <th>2020-06-11</th>\n",
              "      <td>-1.230017</td>\n",
              "      <td>0.773058</td>\n",
              "      <td>2.236325</td>\n",
              "      <td>-0.247475</td>\n",
              "    </tr>\n",
              "    <tr>\n",
              "      <th>2020-06-12</th>\n",
              "      <td>-0.492303</td>\n",
              "      <td>0.487615</td>\n",
              "      <td>-0.283790</td>\n",
              "      <td>0.667798</td>\n",
              "    </tr>\n",
              "    <tr>\n",
              "      <th>2020-06-13</th>\n",
              "      <td>1.305861</td>\n",
              "      <td>0.256267</td>\n",
              "      <td>0.903027</td>\n",
              "      <td>-1.028890</td>\n",
              "    </tr>\n",
              "    <tr>\n",
              "      <th>2020-06-14</th>\n",
              "      <td>0.213325</td>\n",
              "      <td>2.038397</td>\n",
              "      <td>-0.463612</td>\n",
              "      <td>1.666993</td>\n",
              "    </tr>\n",
              "    <tr>\n",
              "      <th>2020-06-15</th>\n",
              "      <td>0.618446</td>\n",
              "      <td>-1.502215</td>\n",
              "      <td>0.016842</td>\n",
              "      <td>0.104905</td>\n",
              "    </tr>\n",
              "    <tr>\n",
              "      <th>2020-06-16</th>\n",
              "      <td>-0.796271</td>\n",
              "      <td>0.162015</td>\n",
              "      <td>-0.352372</td>\n",
              "      <td>0.927136</td>\n",
              "    </tr>\n",
              "    <tr>\n",
              "      <th>2020-06-17</th>\n",
              "      <td>-1.269273</td>\n",
              "      <td>-0.017014</td>\n",
              "      <td>-0.613754</td>\n",
              "      <td>0.285620</td>\n",
              "    </tr>\n",
              "    <tr>\n",
              "      <th>2020-06-18</th>\n",
              "      <td>0.344116</td>\n",
              "      <td>1.017403</td>\n",
              "      <td>0.516942</td>\n",
              "      <td>0.193555</td>\n",
              "    </tr>\n",
              "    <tr>\n",
              "      <th>2020-06-19</th>\n",
              "      <td>-1.053109</td>\n",
              "      <td>-0.341399</td>\n",
              "      <td>1.418353</td>\n",
              "      <td>0.501345</td>\n",
              "    </tr>\n",
              "    <tr>\n",
              "      <th>2020-06-20</th>\n",
              "      <td>1.028627</td>\n",
              "      <td>-1.280837</td>\n",
              "      <td>0.591441</td>\n",
              "      <td>-0.227961</td>\n",
              "    </tr>\n",
              "    <tr>\n",
              "      <th>2020-06-21</th>\n",
              "      <td>-0.995244</td>\n",
              "      <td>1.859033</td>\n",
              "      <td>-1.350595</td>\n",
              "      <td>1.246099</td>\n",
              "    </tr>\n",
              "    <tr>\n",
              "      <th>2020-06-22</th>\n",
              "      <td>0.241510</td>\n",
              "      <td>0.965602</td>\n",
              "      <td>-1.226448</td>\n",
              "      <td>0.242364</td>\n",
              "    </tr>\n",
              "    <tr>\n",
              "      <th>2020-06-23</th>\n",
              "      <td>0.103878</td>\n",
              "      <td>-0.191198</td>\n",
              "      <td>-0.091913</td>\n",
              "      <td>0.032360</td>\n",
              "    </tr>\n",
              "    <tr>\n",
              "      <th>2020-06-24</th>\n",
              "      <td>-1.097295</td>\n",
              "      <td>-0.123594</td>\n",
              "      <td>-0.315092</td>\n",
              "      <td>1.250740</td>\n",
              "    </tr>\n",
              "    <tr>\n",
              "      <th>2020-06-25</th>\n",
              "      <td>-2.067571</td>\n",
              "      <td>1.355657</td>\n",
              "      <td>0.835387</td>\n",
              "      <td>-1.027516</td>\n",
              "    </tr>\n",
              "    <tr>\n",
              "      <th>2020-06-26</th>\n",
              "      <td>-0.389017</td>\n",
              "      <td>-0.701425</td>\n",
              "      <td>0.904597</td>\n",
              "      <td>-0.479700</td>\n",
              "    </tr>\n",
              "  </tbody>\n",
              "</table>\n",
              "</div>"
            ],
            "text/plain": [
              "                   A         B         C         D\n",
              "2020-06-01 -1.385743 -0.093249  0.121579  0.096340\n",
              "2020-06-02 -0.373589 -2.395020  0.002645  1.635481\n",
              "2020-06-03  0.535262 -1.101628 -1.719108  1.981807\n",
              "2020-06-04 -0.805583 -1.189915 -0.411945 -1.201699\n",
              "2020-06-05 -0.031397 -0.597926  0.175620  0.726288\n",
              "2020-06-06 -0.853305 -1.917708  0.920657  0.154248\n",
              "2020-06-07  0.387032  0.282391  0.106759 -1.174564\n",
              "2020-06-08  0.597332  2.115290  0.278425 -0.378636\n",
              "2020-06-09  0.683272  0.654035 -0.060936 -0.646863\n",
              "2020-06-10  0.311458 -0.359102  0.399004  0.002474\n",
              "2020-06-11 -1.230017  0.773058  2.236325 -0.247475\n",
              "2020-06-12 -0.492303  0.487615 -0.283790  0.667798\n",
              "2020-06-13  1.305861  0.256267  0.903027 -1.028890\n",
              "2020-06-14  0.213325  2.038397 -0.463612  1.666993\n",
              "2020-06-15  0.618446 -1.502215  0.016842  0.104905\n",
              "2020-06-16 -0.796271  0.162015 -0.352372  0.927136\n",
              "2020-06-17 -1.269273 -0.017014 -0.613754  0.285620\n",
              "2020-06-18  0.344116  1.017403  0.516942  0.193555\n",
              "2020-06-19 -1.053109 -0.341399  1.418353  0.501345\n",
              "2020-06-20  1.028627 -1.280837  0.591441 -0.227961\n",
              "2020-06-21 -0.995244  1.859033 -1.350595  1.246099\n",
              "2020-06-22  0.241510  0.965602 -1.226448  0.242364\n",
              "2020-06-23  0.103878 -0.191198 -0.091913  0.032360\n",
              "2020-06-24 -1.097295 -0.123594 -0.315092  1.250740\n",
              "2020-06-25 -2.067571  1.355657  0.835387 -1.027516\n",
              "2020-06-26 -0.389017 -0.701425  0.904597 -0.479700"
            ]
          },
          "execution_count": 354,
          "metadata": {},
          "output_type": "execute_result"
        }
      ],
      "source": [
        "tdf.loc['2020-06']"
      ]
    },
    {
      "cell_type": "code",
      "execution_count": 357,
      "metadata": {
        "id": "n0FVEH7sq74X"
      },
      "outputs": [
        {
          "data": {
            "text/html": [
              "<div>\n",
              "<style scoped>\n",
              "    .dataframe tbody tr th:only-of-type {\n",
              "        vertical-align: middle;\n",
              "    }\n",
              "\n",
              "    .dataframe tbody tr th {\n",
              "        vertical-align: top;\n",
              "    }\n",
              "\n",
              "    .dataframe thead th {\n",
              "        text-align: right;\n",
              "    }\n",
              "</style>\n",
              "<table border=\"1\" class=\"dataframe\">\n",
              "  <thead>\n",
              "    <tr style=\"text-align: right;\">\n",
              "      <th></th>\n",
              "      <th>A</th>\n",
              "      <th>B</th>\n",
              "      <th>C</th>\n",
              "      <th>D</th>\n",
              "    </tr>\n",
              "  </thead>\n",
              "  <tbody>\n",
              "    <tr>\n",
              "      <th>2020-06-20</th>\n",
              "      <td>1.028627</td>\n",
              "      <td>-1.280837</td>\n",
              "      <td>0.591441</td>\n",
              "      <td>-0.227961</td>\n",
              "    </tr>\n",
              "    <tr>\n",
              "      <th>2020-06-21</th>\n",
              "      <td>-0.995244</td>\n",
              "      <td>1.859033</td>\n",
              "      <td>-1.350595</td>\n",
              "      <td>1.246099</td>\n",
              "    </tr>\n",
              "    <tr>\n",
              "      <th>2020-06-22</th>\n",
              "      <td>0.241510</td>\n",
              "      <td>0.965602</td>\n",
              "      <td>-1.226448</td>\n",
              "      <td>0.242364</td>\n",
              "    </tr>\n",
              "    <tr>\n",
              "      <th>2020-06-23</th>\n",
              "      <td>0.103878</td>\n",
              "      <td>-0.191198</td>\n",
              "      <td>-0.091913</td>\n",
              "      <td>0.032360</td>\n",
              "    </tr>\n",
              "    <tr>\n",
              "      <th>2020-06-24</th>\n",
              "      <td>-1.097295</td>\n",
              "      <td>-0.123594</td>\n",
              "      <td>-0.315092</td>\n",
              "      <td>1.250740</td>\n",
              "    </tr>\n",
              "    <tr>\n",
              "      <th>2020-06-25</th>\n",
              "      <td>-2.067571</td>\n",
              "      <td>1.355657</td>\n",
              "      <td>0.835387</td>\n",
              "      <td>-1.027516</td>\n",
              "    </tr>\n",
              "    <tr>\n",
              "      <th>2020-06-26</th>\n",
              "      <td>-0.389017</td>\n",
              "      <td>-0.701425</td>\n",
              "      <td>0.904597</td>\n",
              "      <td>-0.479700</td>\n",
              "    </tr>\n",
              "  </tbody>\n",
              "</table>\n",
              "</div>"
            ],
            "text/plain": [
              "                   A         B         C         D\n",
              "2020-06-20  1.028627 -1.280837  0.591441 -0.227961\n",
              "2020-06-21 -0.995244  1.859033 -1.350595  1.246099\n",
              "2020-06-22  0.241510  0.965602 -1.226448  0.242364\n",
              "2020-06-23  0.103878 -0.191198 -0.091913  0.032360\n",
              "2020-06-24 -1.097295 -0.123594 -0.315092  1.250740\n",
              "2020-06-25 -2.067571  1.355657  0.835387 -1.027516\n",
              "2020-06-26 -0.389017 -0.701425  0.904597 -0.479700"
            ]
          },
          "execution_count": 357,
          "metadata": {},
          "output_type": "execute_result"
        }
      ],
      "source": [
        "tdf['2020-06-20':]"
      ]
    },
    {
      "cell_type": "code",
      "execution_count": 358,
      "metadata": {
        "id": "hkbUwF9JrULg"
      },
      "outputs": [
        {
          "data": {
            "text/plain": [
              "2017-10-01    0.071072\n",
              "2017-10-02    0.044098\n",
              "2017-10-03   -0.307162\n",
              "2017-10-04   -0.778122\n",
              "2017-10-05   -0.284980\n",
              "                ...   \n",
              "2020-06-22   -1.226448\n",
              "2020-06-23   -0.091913\n",
              "2020-06-24   -0.315092\n",
              "2020-06-25    0.835387\n",
              "2020-06-26    0.904597\n",
              "Freq: D, Name: C, Length: 1000, dtype: float64"
            ]
          },
          "execution_count": 358,
          "metadata": {},
          "output_type": "execute_result"
        }
      ],
      "source": [
        "tdf['C']"
      ]
    },
    {
      "cell_type": "code",
      "execution_count": 360,
      "metadata": {
        "id": "Bo4Ao2zisOs6"
      },
      "outputs": [
        {
          "data": {
            "text/plain": [
              "2020-01-01    2.002381\n",
              "2020-01-01    0.154219\n",
              "2020-01-02   -0.523091\n",
              "2020-01-02    0.588517\n",
              "2020-01-03   -1.213323\n",
              "2020-01-04    0.136450\n",
              "2020-01-05    1.337919\n",
              "2020-01-05   -1.322315\n",
              "2020-01-06   -1.428393\n",
              "2020-01-07    0.764292\n",
              "dtype: float64"
            ]
          },
          "execution_count": 360,
          "metadata": {},
          "output_type": "execute_result"
        }
      ],
      "source": [
        "ts = pd.Series(np.random.randn(10),\n",
        "                index=pd.DatetimeIndex(['2020-01-01', '2020-01-01', '2020-01-02', '2020-01-02' ,'2020-01-03',\n",
        "                                        '2020-01-04', '2020-01-05', '2020-01-05', '2020-01-06', '2020-01-07']))\n",
        "ts"
      ]
    },
    {
      "cell_type": "code",
      "execution_count": 361,
      "metadata": {
        "id": "0jxhrhS3tBEq"
      },
      "outputs": [
        {
          "data": {
            "text/plain": [
              "False"
            ]
          },
          "execution_count": 361,
          "metadata": {},
          "output_type": "execute_result"
        }
      ],
      "source": [
        "ts.index.is_unique"
      ]
    },
    {
      "cell_type": "code",
      "execution_count": 362,
      "metadata": {
        "id": "4M9BEkp3tIKW"
      },
      "outputs": [
        {
          "data": {
            "text/plain": [
              "2020-01-01    2.002381\n",
              "2020-01-01    0.154219\n",
              "dtype: float64"
            ]
          },
          "execution_count": 362,
          "metadata": {},
          "output_type": "execute_result"
        }
      ],
      "source": [
        "ts['2020-01-01']"
      ]
    },
    {
      "cell_type": "code",
      "execution_count": 364,
      "metadata": {
        "id": "H8vDMscHtRUp"
      },
      "outputs": [
        {
          "data": {
            "text/plain": [
              "2020-01-01    1.078300\n",
              "2020-01-02    0.032713\n",
              "2020-01-03   -1.213323\n",
              "2020-01-04    0.136450\n",
              "2020-01-05    0.007802\n",
              "2020-01-06   -1.428393\n",
              "2020-01-07    0.764292\n",
              "dtype: float64"
            ]
          },
          "execution_count": 364,
          "metadata": {},
          "output_type": "execute_result"
        }
      ],
      "source": [
        "ts.groupby(level=0).mean()"
      ]
    },
    {
      "cell_type": "code",
      "execution_count": 365,
      "metadata": {
        "id": "eFP7MlKWtiNc"
      },
      "outputs": [
        {
          "data": {
            "text/plain": [
              "DatetimeIndex(['2020-01-01', '2020-01-02', '2020-01-03', '2020-01-04',\n",
              "               '2020-01-05', '2020-01-06', '2020-01-07', '2020-01-08',\n",
              "               '2020-01-09', '2020-01-10',\n",
              "               ...\n",
              "               '2020-06-22', '2020-06-23', '2020-06-24', '2020-06-25',\n",
              "               '2020-06-26', '2020-06-27', '2020-06-28', '2020-06-29',\n",
              "               '2020-06-30', '2020-07-01'],\n",
              "              dtype='datetime64[ns]', length=183, freq='D')"
            ]
          },
          "execution_count": 365,
          "metadata": {},
          "output_type": "execute_result"
        }
      ],
      "source": [
        "pd.date_range('2020-01-01', '2020-07-01')"
      ]
    },
    {
      "cell_type": "code",
      "execution_count": 366,
      "metadata": {
        "id": "k9MGkCSBuAQ1"
      },
      "outputs": [
        {
          "data": {
            "text/plain": [
              "DatetimeIndex(['2020-01-01', '2020-01-02', '2020-01-03', '2020-01-04',\n",
              "               '2020-01-05', '2020-01-06', '2020-01-07', '2020-01-08',\n",
              "               '2020-01-09', '2020-01-10'],\n",
              "              dtype='datetime64[ns]', freq='D')"
            ]
          },
          "execution_count": 366,
          "metadata": {},
          "output_type": "execute_result"
        }
      ],
      "source": [
        "pd.date_range(start='2020-01-01', periods=10)"
      ]
    },
    {
      "cell_type": "code",
      "execution_count": 367,
      "metadata": {
        "id": "Xhpa_AEWuGv5"
      },
      "outputs": [
        {
          "data": {
            "text/plain": [
              "DatetimeIndex(['2020-06-22', '2020-06-23', '2020-06-24', '2020-06-25',\n",
              "               '2020-06-26', '2020-06-27', '2020-06-28', '2020-06-29',\n",
              "               '2020-06-30', '2020-07-01'],\n",
              "              dtype='datetime64[ns]', freq='D')"
            ]
          },
          "execution_count": 367,
          "metadata": {},
          "output_type": "execute_result"
        }
      ],
      "source": [
        "pd.date_range(end='2020-07-01', periods=10)"
      ]
    },
    {
      "cell_type": "code",
      "execution_count": 368,
      "metadata": {
        "id": "OExzMN61uUfo"
      },
      "outputs": [
        {
          "data": {
            "text/plain": [
              "DatetimeIndex(['2020-07-01', '2020-07-02', '2020-07-03', '2020-07-06',\n",
              "               '2020-07-07'],\n",
              "              dtype='datetime64[ns]', freq='B')"
            ]
          },
          "execution_count": 368,
          "metadata": {},
          "output_type": "execute_result"
        }
      ],
      "source": [
        "pd.date_range('2020-07-01', '2020-07-07', freq='B') #Business day"
      ]
    },
    {
      "cell_type": "markdown",
      "metadata": {
        "id": "qyGkgydIJVm5"
      },
      "source": [
        "### 주기와 오프셋\n"
      ]
    },
    {
      "cell_type": "code",
      "execution_count": 369,
      "metadata": {
        "id": "00N0V3YjI7Vh"
      },
      "outputs": [
        {
          "data": {
            "text/plain": [
              "TimedeltaIndex(['0 days 00:00:00', '0 days 01:00:00', '0 days 02:00:00',\n",
              "                '0 days 03:00:00', '0 days 04:00:00', '0 days 05:00:00',\n",
              "                '0 days 06:00:00', '0 days 07:00:00', '0 days 08:00:00',\n",
              "                '0 days 09:00:00', '0 days 10:00:00', '0 days 11:00:00'],\n",
              "               dtype='timedelta64[ns]', freq='H')"
            ]
          },
          "execution_count": 369,
          "metadata": {},
          "output_type": "execute_result"
        }
      ],
      "source": [
        "pd.timedelta_range(0, periods=12, freq='H')"
      ]
    },
    {
      "cell_type": "code",
      "execution_count": 370,
      "metadata": {
        "id": "WSeShMblJDWE"
      },
      "outputs": [
        {
          "data": {
            "text/plain": [
              "TimedeltaIndex(['0 days 00:00:00', '0 days 00:01:00', '0 days 00:02:00',\n",
              "                '0 days 00:03:00', '0 days 00:04:00', '0 days 00:05:00',\n",
              "                '0 days 00:06:00', '0 days 00:07:00', '0 days 00:08:00',\n",
              "                '0 days 00:09:00', '0 days 00:10:00', '0 days 00:11:00',\n",
              "                '0 days 00:12:00', '0 days 00:13:00', '0 days 00:14:00',\n",
              "                '0 days 00:15:00', '0 days 00:16:00', '0 days 00:17:00',\n",
              "                '0 days 00:18:00', '0 days 00:19:00', '0 days 00:20:00',\n",
              "                '0 days 00:21:00', '0 days 00:22:00', '0 days 00:23:00',\n",
              "                '0 days 00:24:00', '0 days 00:25:00', '0 days 00:26:00',\n",
              "                '0 days 00:27:00', '0 days 00:28:00', '0 days 00:29:00',\n",
              "                '0 days 00:30:00', '0 days 00:31:00', '0 days 00:32:00',\n",
              "                '0 days 00:33:00', '0 days 00:34:00', '0 days 00:35:00',\n",
              "                '0 days 00:36:00', '0 days 00:37:00', '0 days 00:38:00',\n",
              "                '0 days 00:39:00', '0 days 00:40:00', '0 days 00:41:00',\n",
              "                '0 days 00:42:00', '0 days 00:43:00', '0 days 00:44:00',\n",
              "                '0 days 00:45:00', '0 days 00:46:00', '0 days 00:47:00',\n",
              "                '0 days 00:48:00', '0 days 00:49:00', '0 days 00:50:00',\n",
              "                '0 days 00:51:00', '0 days 00:52:00', '0 days 00:53:00',\n",
              "                '0 days 00:54:00', '0 days 00:55:00', '0 days 00:56:00',\n",
              "                '0 days 00:57:00', '0 days 00:58:00', '0 days 00:59:00'],\n",
              "               dtype='timedelta64[ns]', freq='T')"
            ]
          },
          "execution_count": 370,
          "metadata": {},
          "output_type": "execute_result"
        }
      ],
      "source": [
        "pd.timedelta_range(0, periods=60, freq='T')"
      ]
    },
    {
      "cell_type": "code",
      "execution_count": 371,
      "metadata": {
        "id": "IZVLhHbBJMpm"
      },
      "outputs": [
        {
          "data": {
            "text/plain": [
              "TimedeltaIndex(['0 days 00:00:00', '0 days 01:30:00', '0 days 03:00:00',\n",
              "                '0 days 04:30:00', '0 days 06:00:00', '0 days 07:30:00',\n",
              "                '0 days 09:00:00', '0 days 10:30:00', '0 days 12:00:00',\n",
              "                '0 days 13:30:00'],\n",
              "               dtype='timedelta64[ns]', freq='90T')"
            ]
          },
          "execution_count": 371,
          "metadata": {},
          "output_type": "execute_result"
        }
      ],
      "source": [
        "pd.timedelta_range(0, periods=10, freq='1H30T')"
      ]
    },
    {
      "cell_type": "code",
      "execution_count": 372,
      "metadata": {
        "id": "8Uzz7uZEK-mZ"
      },
      "outputs": [
        {
          "data": {
            "text/plain": [
              "DatetimeIndex(['2020-01-01', '2020-01-02', '2020-01-03', '2020-01-06',\n",
              "               '2020-01-07', '2020-01-08', '2020-01-09', '2020-01-10',\n",
              "               '2020-01-13', '2020-01-14', '2020-01-15', '2020-01-16',\n",
              "               '2020-01-17', '2020-01-20', '2020-01-21', '2020-01-22',\n",
              "               '2020-01-23', '2020-01-24', '2020-01-27', '2020-01-28'],\n",
              "              dtype='datetime64[ns]', freq='B')"
            ]
          },
          "execution_count": 372,
          "metadata": {},
          "output_type": "execute_result"
        }
      ],
      "source": [
        "pd.date_range('2020-01-01', periods=20, freq='B')"
      ]
    },
    {
      "cell_type": "code",
      "execution_count": 373,
      "metadata": {
        "id": "VGWXkmAh4ZcT"
      },
      "outputs": [
        {
          "data": {
            "text/plain": [
              "DatetimeIndex(['2020-01-01 00:00:00', '2020-01-01 02:00:00',\n",
              "               '2020-01-01 04:00:00', '2020-01-01 06:00:00',\n",
              "               '2020-01-01 08:00:00', '2020-01-01 10:00:00',\n",
              "               '2020-01-01 12:00:00', '2020-01-01 14:00:00',\n",
              "               '2020-01-01 16:00:00', '2020-01-01 18:00:00',\n",
              "               '2020-01-01 20:00:00', '2020-01-01 22:00:00',\n",
              "               '2020-01-02 00:00:00', '2020-01-02 02:00:00',\n",
              "               '2020-01-02 04:00:00', '2020-01-02 06:00:00',\n",
              "               '2020-01-02 08:00:00', '2020-01-02 10:00:00',\n",
              "               '2020-01-02 12:00:00', '2020-01-02 14:00:00',\n",
              "               '2020-01-02 16:00:00', '2020-01-02 18:00:00',\n",
              "               '2020-01-02 20:00:00', '2020-01-02 22:00:00',\n",
              "               '2020-01-03 00:00:00', '2020-01-03 02:00:00',\n",
              "               '2020-01-03 04:00:00', '2020-01-03 06:00:00',\n",
              "               '2020-01-03 08:00:00', '2020-01-03 10:00:00'],\n",
              "              dtype='datetime64[ns]', freq='2H')"
            ]
          },
          "execution_count": 373,
          "metadata": {},
          "output_type": "execute_result"
        }
      ],
      "source": [
        "pd.date_range('2020-01-01', periods=30, freq='2H')"
      ]
    },
    {
      "cell_type": "code",
      "execution_count": 374,
      "metadata": {
        "id": "2CeqVHBx33XS"
      },
      "outputs": [
        {
          "data": {
            "text/plain": [
              "DatetimeIndex(['2020-01-01 00:00:00', '2020-01-01 00:00:01',\n",
              "               '2020-01-01 00:00:02', '2020-01-01 00:00:03',\n",
              "               '2020-01-01 00:00:04', '2020-01-01 00:00:05',\n",
              "               '2020-01-01 00:00:06', '2020-01-01 00:00:07',\n",
              "               '2020-01-01 00:00:08', '2020-01-01 00:00:09',\n",
              "               '2020-01-01 00:00:10', '2020-01-01 00:00:11',\n",
              "               '2020-01-01 00:00:12', '2020-01-01 00:00:13',\n",
              "               '2020-01-01 00:00:14', '2020-01-01 00:00:15',\n",
              "               '2020-01-01 00:00:16', '2020-01-01 00:00:17',\n",
              "               '2020-01-01 00:00:18', '2020-01-01 00:00:19'],\n",
              "              dtype='datetime64[ns]', freq='S')"
            ]
          },
          "execution_count": 374,
          "metadata": {},
          "output_type": "execute_result"
        }
      ],
      "source": [
        "pd.date_range('2020-01-01', periods=20, freq='S')"
      ]
    },
    {
      "cell_type": "markdown",
      "metadata": {
        "id": "muiRlbyH7LPh"
      },
      "source": [
        "### 시프트(Shift)"
      ]
    },
    {
      "cell_type": "code",
      "execution_count": 375,
      "metadata": {
        "id": "nYJfyvH-5LZB"
      },
      "outputs": [
        {
          "data": {
            "text/plain": [
              "2020-01-01    1.188142\n",
              "2020-01-02   -1.011970\n",
              "2020-01-03    0.221574\n",
              "2020-01-06   -0.321387\n",
              "2020-01-07    0.602209\n",
              "Freq: B, dtype: float64"
            ]
          },
          "execution_count": 375,
          "metadata": {},
          "output_type": "execute_result"
        }
      ],
      "source": [
        "ts = pd.Series(np.random.randn(5),\n",
        "                index=pd.date_range('2020-01-01', periods=5, freq='B'))\n",
        "ts"
      ]
    },
    {
      "cell_type": "code",
      "execution_count": 376,
      "metadata": {
        "id": "Dve8sn3D5n4p"
      },
      "outputs": [
        {
          "data": {
            "text/plain": [
              "2020-01-01         NaN\n",
              "2020-01-02    1.188142\n",
              "2020-01-03   -1.011970\n",
              "2020-01-06    0.221574\n",
              "2020-01-07   -0.321387\n",
              "Freq: B, dtype: float64"
            ]
          },
          "execution_count": 376,
          "metadata": {},
          "output_type": "execute_result"
        }
      ],
      "source": [
        "ts.shift(1)"
      ]
    },
    {
      "cell_type": "code",
      "execution_count": 377,
      "metadata": {
        "id": "qWXBes3q5qo6"
      },
      "outputs": [
        {
          "data": {
            "text/plain": [
              "2020-01-01         NaN\n",
              "2020-01-02         NaN\n",
              "2020-01-03         NaN\n",
              "2020-01-06    1.188142\n",
              "2020-01-07   -1.011970\n",
              "Freq: B, dtype: float64"
            ]
          },
          "execution_count": 377,
          "metadata": {},
          "output_type": "execute_result"
        }
      ],
      "source": [
        "ts.shift(3)"
      ]
    },
    {
      "cell_type": "code",
      "execution_count": 378,
      "metadata": {
        "id": "ZN-dCvZU5tLx"
      },
      "outputs": [
        {
          "data": {
            "text/plain": [
              "2020-01-01   -1.011970\n",
              "2020-01-02    0.221574\n",
              "2020-01-03   -0.321387\n",
              "2020-01-06    0.602209\n",
              "2020-01-07         NaN\n",
              "Freq: B, dtype: float64"
            ]
          },
          "execution_count": 378,
          "metadata": {},
          "output_type": "execute_result"
        }
      ],
      "source": [
        "ts.shift(-1)"
      ]
    },
    {
      "cell_type": "code",
      "execution_count": 379,
      "metadata": {
        "id": "Yzi9nKB_53D-"
      },
      "outputs": [
        {
          "data": {
            "text/plain": [
              "2020-01-06    1.188142\n",
              "2020-01-07   -1.011970\n",
              "2020-01-08    0.221574\n",
              "2020-01-09   -0.321387\n",
              "2020-01-10    0.602209\n",
              "Freq: B, dtype: float64"
            ]
          },
          "execution_count": 379,
          "metadata": {},
          "output_type": "execute_result"
        }
      ],
      "source": [
        "ts.shift(3, freq='B')"
      ]
    },
    {
      "cell_type": "code",
      "execution_count": 380,
      "metadata": {
        "id": "oUavnBzH6IR1"
      },
      "outputs": [
        {
          "data": {
            "text/plain": [
              "2020-01-12    1.188142\n",
              "2020-01-12   -1.011970\n",
              "2020-01-12    0.221574\n",
              "2020-01-19   -0.321387\n",
              "2020-01-19    0.602209\n",
              "dtype: float64"
            ]
          },
          "execution_count": 380,
          "metadata": {},
          "output_type": "execute_result"
        }
      ],
      "source": [
        "ts.shift(2, freq='W')"
      ]
    },
    {
      "cell_type": "markdown",
      "metadata": {
        "id": "IGa7k2HO7PJp"
      },
      "source": [
        "### 시간대 처리\n",
        "\n",
        "* 국제표준시(Coordinated Universal Time, UTC)를 기준으로 떨어진 거리만큼 오프셋으로 시간대 처리\n",
        "* 전 세계의 시간대 정보를 모아놓은 올슨 데이터베이스를 활용한 라이브러리인 `pytz` 사용"
      ]
    },
    {
      "cell_type": "code",
      "execution_count": 381,
      "metadata": {
        "id": "FxrFeONy7QNb"
      },
      "outputs": [
        {
          "data": {
            "text/plain": [
              "['Africa/Abidjan', 'Africa/Accra', 'Africa/Addis_Ababa', 'Africa/Algiers', 'Africa/Asmara', 'Africa/Bamako', 'Africa/Bangui', 'Africa/Banjul', 'Africa/Bissau', 'Africa/Blantyre', 'Africa/Brazzaville', 'Africa/Bujumbura', 'Africa/Cairo', 'Africa/Casablanca', 'Africa/Ceuta', 'Africa/Conakry', 'Africa/Dakar', 'Africa/Dar_es_Salaam', 'Africa/Djibouti', 'Africa/Douala', 'Africa/El_Aaiun', 'Africa/Freetown', 'Africa/Gaborone', 'Africa/Harare', 'Africa/Johannesburg', 'Africa/Juba', 'Africa/Kampala', 'Africa/Khartoum', 'Africa/Kigali', 'Africa/Kinshasa', 'Africa/Lagos', 'Africa/Libreville', 'Africa/Lome', 'Africa/Luanda', 'Africa/Lubumbashi', 'Africa/Lusaka', 'Africa/Malabo', 'Africa/Maputo', 'Africa/Maseru', 'Africa/Mbabane', 'Africa/Mogadishu', 'Africa/Monrovia', 'Africa/Nairobi', 'Africa/Ndjamena', 'Africa/Niamey', 'Africa/Nouakchott', 'Africa/Ouagadougou', 'Africa/Porto-Novo', 'Africa/Sao_Tome', 'Africa/Tripoli', 'Africa/Tunis', 'Africa/Windhoek', 'America/Adak', 'America/Anchorage', 'America/Anguilla', 'America/Antigua', 'America/Araguaina', 'America/Argentina/Buenos_Aires', 'America/Argentina/Catamarca', 'America/Argentina/Cordoba', 'America/Argentina/Jujuy', 'America/Argentina/La_Rioja', 'America/Argentina/Mendoza', 'America/Argentina/Rio_Gallegos', 'America/Argentina/Salta', 'America/Argentina/San_Juan', 'America/Argentina/San_Luis', 'America/Argentina/Tucuman', 'America/Argentina/Ushuaia', 'America/Aruba', 'America/Asuncion', 'America/Atikokan', 'America/Bahia', 'America/Bahia_Banderas', 'America/Barbados', 'America/Belem', 'America/Belize', 'America/Blanc-Sablon', 'America/Boa_Vista', 'America/Bogota', 'America/Boise', 'America/Cambridge_Bay', 'America/Campo_Grande', 'America/Cancun', 'America/Caracas', 'America/Cayenne', 'America/Cayman', 'America/Chicago', 'America/Chihuahua', 'America/Costa_Rica', 'America/Creston', 'America/Cuiaba', 'America/Curacao', 'America/Danmarkshavn', 'America/Dawson', 'America/Dawson_Creek', 'America/Denver', 'America/Detroit', 'America/Dominica', 'America/Edmonton', 'America/Eirunepe', 'America/El_Salvador', 'America/Fort_Nelson', 'America/Fortaleza', 'America/Glace_Bay', 'America/Goose_Bay', 'America/Grand_Turk', 'America/Grenada', 'America/Guadeloupe', 'America/Guatemala', 'America/Guayaquil', 'America/Guyana', 'America/Halifax', 'America/Havana', 'America/Hermosillo', 'America/Indiana/Indianapolis', 'America/Indiana/Knox', 'America/Indiana/Marengo', 'America/Indiana/Petersburg', 'America/Indiana/Tell_City', 'America/Indiana/Vevay', 'America/Indiana/Vincennes', 'America/Indiana/Winamac', 'America/Inuvik', 'America/Iqaluit', 'America/Jamaica', 'America/Juneau', 'America/Kentucky/Louisville', 'America/Kentucky/Monticello', 'America/Kralendijk', 'America/La_Paz', 'America/Lima', 'America/Los_Angeles', 'America/Lower_Princes', 'America/Maceio', 'America/Managua', 'America/Manaus', 'America/Marigot', 'America/Martinique', 'America/Matamoros', 'America/Mazatlan', 'America/Menominee', 'America/Merida', 'America/Metlakatla', 'America/Mexico_City', 'America/Miquelon', 'America/Moncton', 'America/Monterrey', 'America/Montevideo', 'America/Montserrat', 'America/Nassau', 'America/New_York', 'America/Nipigon', 'America/Nome', 'America/Noronha', 'America/North_Dakota/Beulah', 'America/North_Dakota/Center', 'America/North_Dakota/New_Salem', 'America/Nuuk', 'America/Ojinaga', 'America/Panama', 'America/Pangnirtung', 'America/Paramaribo', 'America/Phoenix', 'America/Port-au-Prince', 'America/Port_of_Spain', 'America/Porto_Velho', 'America/Puerto_Rico', 'America/Punta_Arenas', 'America/Rainy_River', 'America/Rankin_Inlet', 'America/Recife', 'America/Regina', 'America/Resolute', 'America/Rio_Branco', 'America/Santarem', 'America/Santiago', 'America/Santo_Domingo', 'America/Sao_Paulo', 'America/Scoresbysund', 'America/Sitka', 'America/St_Barthelemy', 'America/St_Johns', 'America/St_Kitts', 'America/St_Lucia', 'America/St_Thomas', 'America/St_Vincent', 'America/Swift_Current', 'America/Tegucigalpa', 'America/Thule', 'America/Thunder_Bay', 'America/Tijuana', 'America/Toronto', 'America/Tortola', 'America/Vancouver', 'America/Whitehorse', 'America/Winnipeg', 'America/Yakutat', 'America/Yellowknife', 'Antarctica/Casey', 'Antarctica/Davis', 'Antarctica/DumontDUrville', 'Antarctica/Macquarie', 'Antarctica/Mawson', 'Antarctica/McMurdo', 'Antarctica/Palmer', 'Antarctica/Rothera', 'Antarctica/Syowa', 'Antarctica/Troll', 'Antarctica/Vostok', 'Arctic/Longyearbyen', 'Asia/Aden', 'Asia/Almaty', 'Asia/Amman', 'Asia/Anadyr', 'Asia/Aqtau', 'Asia/Aqtobe', 'Asia/Ashgabat', 'Asia/Atyrau', 'Asia/Baghdad', 'Asia/Bahrain', 'Asia/Baku', 'Asia/Bangkok', 'Asia/Barnaul', 'Asia/Beirut', 'Asia/Bishkek', 'Asia/Brunei', 'Asia/Chita', 'Asia/Choibalsan', 'Asia/Colombo', 'Asia/Damascus', 'Asia/Dhaka', 'Asia/Dili', 'Asia/Dubai', 'Asia/Dushanbe', 'Asia/Famagusta', 'Asia/Gaza', 'Asia/Hebron', 'Asia/Ho_Chi_Minh', 'Asia/Hong_Kong', 'Asia/Hovd', 'Asia/Irkutsk', 'Asia/Jakarta', 'Asia/Jayapura', 'Asia/Jerusalem', 'Asia/Kabul', 'Asia/Kamchatka', 'Asia/Karachi', 'Asia/Kathmandu', 'Asia/Khandyga', 'Asia/Kolkata', 'Asia/Krasnoyarsk', 'Asia/Kuala_Lumpur', 'Asia/Kuching', 'Asia/Kuwait', 'Asia/Macau', 'Asia/Magadan', 'Asia/Makassar', 'Asia/Manila', 'Asia/Muscat', 'Asia/Nicosia', 'Asia/Novokuznetsk', 'Asia/Novosibirsk', 'Asia/Omsk', 'Asia/Oral', 'Asia/Phnom_Penh', 'Asia/Pontianak', 'Asia/Pyongyang', 'Asia/Qatar', 'Asia/Qostanay', 'Asia/Qyzylorda', 'Asia/Riyadh', 'Asia/Sakhalin', 'Asia/Samarkand', 'Asia/Seoul', 'Asia/Shanghai', 'Asia/Singapore', 'Asia/Srednekolymsk', 'Asia/Taipei', 'Asia/Tashkent', 'Asia/Tbilisi', 'Asia/Tehran', 'Asia/Thimphu', 'Asia/Tokyo', 'Asia/Tomsk', 'Asia/Ulaanbaatar', 'Asia/Urumqi', 'Asia/Ust-Nera', 'Asia/Vientiane', 'Asia/Vladivostok', 'Asia/Yakutsk', 'Asia/Yangon', 'Asia/Yekaterinburg', 'Asia/Yerevan', 'Atlantic/Azores', 'Atlantic/Bermuda', 'Atlantic/Canary', 'Atlantic/Cape_Verde', 'Atlantic/Faroe', 'Atlantic/Madeira', 'Atlantic/Reykjavik', 'Atlantic/South_Georgia', 'Atlantic/St_Helena', 'Atlantic/Stanley', 'Australia/Adelaide', 'Australia/Brisbane', 'Australia/Broken_Hill', 'Australia/Darwin', 'Australia/Eucla', 'Australia/Hobart', 'Australia/Lindeman', 'Australia/Lord_Howe', 'Australia/Melbourne', 'Australia/Perth', 'Australia/Sydney', 'Canada/Atlantic', 'Canada/Central', 'Canada/Eastern', 'Canada/Mountain', 'Canada/Newfoundland', 'Canada/Pacific', 'Europe/Amsterdam', 'Europe/Andorra', 'Europe/Astrakhan', 'Europe/Athens', 'Europe/Belgrade', 'Europe/Berlin', 'Europe/Bratislava', 'Europe/Brussels', 'Europe/Bucharest', 'Europe/Budapest', 'Europe/Busingen', 'Europe/Chisinau', 'Europe/Copenhagen', 'Europe/Dublin', 'Europe/Gibraltar', 'Europe/Guernsey', 'Europe/Helsinki', 'Europe/Isle_of_Man', 'Europe/Istanbul', 'Europe/Jersey', 'Europe/Kaliningrad', 'Europe/Kiev', 'Europe/Kirov', 'Europe/Lisbon', 'Europe/Ljubljana', 'Europe/London', 'Europe/Luxembourg', 'Europe/Madrid', 'Europe/Malta', 'Europe/Mariehamn', 'Europe/Minsk', 'Europe/Monaco', 'Europe/Moscow', 'Europe/Oslo', 'Europe/Paris', 'Europe/Podgorica', 'Europe/Prague', 'Europe/Riga', 'Europe/Rome', 'Europe/Samara', 'Europe/San_Marino', 'Europe/Sarajevo', 'Europe/Saratov', 'Europe/Simferopol', 'Europe/Skopje', 'Europe/Sofia', 'Europe/Stockholm', 'Europe/Tallinn', 'Europe/Tirane', 'Europe/Ulyanovsk', 'Europe/Uzhgorod', 'Europe/Vaduz', 'Europe/Vatican', 'Europe/Vienna', 'Europe/Vilnius', 'Europe/Volgograd', 'Europe/Warsaw', 'Europe/Zagreb', 'Europe/Zaporozhye', 'Europe/Zurich', 'GMT', 'Indian/Antananarivo', 'Indian/Chagos', 'Indian/Christmas', 'Indian/Cocos', 'Indian/Comoro', 'Indian/Kerguelen', 'Indian/Mahe', 'Indian/Maldives', 'Indian/Mauritius', 'Indian/Mayotte', 'Indian/Reunion', 'Pacific/Apia', 'Pacific/Auckland', 'Pacific/Bougainville', 'Pacific/Chatham', 'Pacific/Chuuk', 'Pacific/Easter', 'Pacific/Efate', 'Pacific/Fakaofo', 'Pacific/Fiji', 'Pacific/Funafuti', 'Pacific/Galapagos', 'Pacific/Gambier', 'Pacific/Guadalcanal', 'Pacific/Guam', 'Pacific/Honolulu', 'Pacific/Kanton', 'Pacific/Kiritimati', 'Pacific/Kosrae', 'Pacific/Kwajalein', 'Pacific/Majuro', 'Pacific/Marquesas', 'Pacific/Midway', 'Pacific/Nauru', 'Pacific/Niue', 'Pacific/Norfolk', 'Pacific/Noumea', 'Pacific/Pago_Pago', 'Pacific/Palau', 'Pacific/Pitcairn', 'Pacific/Pohnpei', 'Pacific/Port_Moresby', 'Pacific/Rarotonga', 'Pacific/Saipan', 'Pacific/Tahiti', 'Pacific/Tarawa', 'Pacific/Tongatapu', 'Pacific/Wake', 'Pacific/Wallis', 'US/Alaska', 'US/Arizona', 'US/Central', 'US/Eastern', 'US/Hawaii', 'US/Mountain', 'US/Pacific', 'UTC']"
            ]
          },
          "execution_count": 381,
          "metadata": {},
          "output_type": "execute_result"
        }
      ],
      "source": [
        "import pytz\n",
        "pytz.common_timezones"
      ]
    },
    {
      "cell_type": "code",
      "execution_count": 382,
      "metadata": {
        "id": "GRjk1NK-7P3O"
      },
      "outputs": [],
      "source": [
        "tz = pytz.timezone('Asia/Seoul')"
      ]
    },
    {
      "cell_type": "code",
      "execution_count": 383,
      "metadata": {
        "id": "wjngkZuzOU1U"
      },
      "outputs": [
        {
          "data": {
            "text/plain": [
              "2020-01-01 09:00:00   -0.231974\n",
              "2020-01-02 09:00:00    0.944886\n",
              "2020-01-03 09:00:00   -1.401937\n",
              "2020-01-06 09:00:00   -1.879838\n",
              "2020-01-07 09:00:00   -1.992368\n",
              "2020-01-08 09:00:00    0.929822\n",
              "2020-01-09 09:00:00   -1.571033\n",
              "Freq: B, dtype: float64"
            ]
          },
          "execution_count": 383,
          "metadata": {},
          "output_type": "execute_result"
        }
      ],
      "source": [
        "dinx = pd.date_range('2020-01-01 09:00', periods=7, freq='B')\n",
        "ts = pd.Series(np.random.randn(len(dinx)), index=dinx)\n",
        "ts"
      ]
    },
    {
      "cell_type": "code",
      "execution_count": 384,
      "metadata": {
        "id": "_AxYonc1PV1o"
      },
      "outputs": [
        {
          "data": {
            "text/plain": [
              "DatetimeIndex(['2020-01-01 09:00:00+00:00', '2020-01-02 09:00:00+00:00',\n",
              "               '2020-01-03 09:00:00+00:00', '2020-01-06 09:00:00+00:00',\n",
              "               '2020-01-07 09:00:00+00:00', '2020-01-08 09:00:00+00:00',\n",
              "               '2020-01-09 09:00:00+00:00'],\n",
              "              dtype='datetime64[ns, UTC]', freq='B')"
            ]
          },
          "execution_count": 384,
          "metadata": {},
          "output_type": "execute_result"
        }
      ],
      "source": [
        "pd.date_range('2020-01-01 09:00', periods=7, freq='B', tz='UTC')"
      ]
    },
    {
      "cell_type": "code",
      "execution_count": 385,
      "metadata": {
        "id": "Zyc-pgsLPxHx"
      },
      "outputs": [
        {
          "data": {
            "text/plain": [
              "2020-01-01 09:00:00+00:00   -0.231974\n",
              "2020-01-02 09:00:00+00:00    0.944886\n",
              "2020-01-03 09:00:00+00:00   -1.401937\n",
              "2020-01-06 09:00:00+00:00   -1.879838\n",
              "2020-01-07 09:00:00+00:00   -1.992368\n",
              "2020-01-08 09:00:00+00:00    0.929822\n",
              "2020-01-09 09:00:00+00:00   -1.571033\n",
              "Freq: B, dtype: float64"
            ]
          },
          "execution_count": 385,
          "metadata": {},
          "output_type": "execute_result"
        }
      ],
      "source": [
        "ts_utc = ts.tz_localize('UTC')\n",
        "ts_utc"
      ]
    },
    {
      "cell_type": "code",
      "execution_count": 386,
      "metadata": {
        "id": "7ZOXCc73QJ6U"
      },
      "outputs": [
        {
          "data": {
            "text/plain": [
              "DatetimeIndex(['2020-01-01 09:00:00+00:00', '2020-01-02 09:00:00+00:00',\n",
              "               '2020-01-03 09:00:00+00:00', '2020-01-06 09:00:00+00:00',\n",
              "               '2020-01-07 09:00:00+00:00', '2020-01-08 09:00:00+00:00',\n",
              "               '2020-01-09 09:00:00+00:00'],\n",
              "              dtype='datetime64[ns, UTC]', freq='B')"
            ]
          },
          "execution_count": 386,
          "metadata": {},
          "output_type": "execute_result"
        }
      ],
      "source": [
        "ts_utc.index"
      ]
    },
    {
      "cell_type": "code",
      "execution_count": 387,
      "metadata": {
        "id": "gQTL-ZSBQMJ5"
      },
      "outputs": [
        {
          "data": {
            "text/plain": [
              "2020-01-01 18:00:00+09:00   -0.231974\n",
              "2020-01-02 18:00:00+09:00    0.944886\n",
              "2020-01-03 18:00:00+09:00   -1.401937\n",
              "2020-01-06 18:00:00+09:00   -1.879838\n",
              "2020-01-07 18:00:00+09:00   -1.992368\n",
              "2020-01-08 18:00:00+09:00    0.929822\n",
              "2020-01-09 18:00:00+09:00   -1.571033\n",
              "Freq: B, dtype: float64"
            ]
          },
          "execution_count": 387,
          "metadata": {},
          "output_type": "execute_result"
        }
      ],
      "source": [
        "ts_utc.tz_convert('Asia/Seoul')"
      ]
    },
    {
      "cell_type": "code",
      "execution_count": 388,
      "metadata": {
        "id": "Kgm-C70kQX1K"
      },
      "outputs": [
        {
          "data": {
            "text/plain": [
              "2020-01-01 09:00:00+09:00   -0.231974\n",
              "2020-01-02 09:00:00+09:00    0.944886\n",
              "2020-01-03 09:00:00+09:00   -1.401937\n",
              "2020-01-06 09:00:00+09:00   -1.879838\n",
              "2020-01-07 09:00:00+09:00   -1.992368\n",
              "2020-01-08 09:00:00+09:00    0.929822\n",
              "2020-01-09 09:00:00+09:00   -1.571033\n",
              "dtype: float64"
            ]
          },
          "execution_count": 388,
          "metadata": {},
          "output_type": "execute_result"
        }
      ],
      "source": [
        "ts_seoul = ts.tz_localize('Asia/Seoul')\n",
        "ts_seoul"
      ]
    },
    {
      "cell_type": "code",
      "execution_count": 389,
      "metadata": {
        "id": "uidYzkMEQiw-"
      },
      "outputs": [
        {
          "data": {
            "text/plain": [
              "2020-01-01 00:00:00+00:00   -0.231974\n",
              "2020-01-02 00:00:00+00:00    0.944886\n",
              "2020-01-03 00:00:00+00:00   -1.401937\n",
              "2020-01-06 00:00:00+00:00   -1.879838\n",
              "2020-01-07 00:00:00+00:00   -1.992368\n",
              "2020-01-08 00:00:00+00:00    0.929822\n",
              "2020-01-09 00:00:00+00:00   -1.571033\n",
              "dtype: float64"
            ]
          },
          "execution_count": 389,
          "metadata": {},
          "output_type": "execute_result"
        }
      ],
      "source": [
        "ts_seoul.tz_convert('UTC')"
      ]
    },
    {
      "cell_type": "code",
      "execution_count": 390,
      "metadata": {
        "id": "7T4KfZo1Q0vv"
      },
      "outputs": [
        {
          "data": {
            "text/plain": [
              "2020-01-01 01:00:00+01:00   -0.231974\n",
              "2020-01-02 01:00:00+01:00    0.944886\n",
              "2020-01-03 01:00:00+01:00   -1.401937\n",
              "2020-01-06 01:00:00+01:00   -1.879838\n",
              "2020-01-07 01:00:00+01:00   -1.992368\n",
              "2020-01-08 01:00:00+01:00    0.929822\n",
              "2020-01-09 01:00:00+01:00   -1.571033\n",
              "dtype: float64"
            ]
          },
          "execution_count": 390,
          "metadata": {},
          "output_type": "execute_result"
        }
      ],
      "source": [
        "ts_seoul.tz_convert('Europe/Berlin')"
      ]
    },
    {
      "cell_type": "code",
      "execution_count": 391,
      "metadata": {
        "id": "nlRi5wiLQ_2t"
      },
      "outputs": [
        {
          "data": {
            "text/plain": [
              "DatetimeIndex(['2020-01-01 09:00:00-05:00', '2020-01-02 09:00:00-05:00',\n",
              "               '2020-01-03 09:00:00-05:00', '2020-01-06 09:00:00-05:00',\n",
              "               '2020-01-07 09:00:00-05:00', '2020-01-08 09:00:00-05:00',\n",
              "               '2020-01-09 09:00:00-05:00'],\n",
              "              dtype='datetime64[ns, America/New_York]', freq=None)"
            ]
          },
          "execution_count": 391,
          "metadata": {},
          "output_type": "execute_result"
        }
      ],
      "source": [
        "ts.index.tz_localize('America/New_York')"
      ]
    },
    {
      "cell_type": "code",
      "execution_count": 395,
      "metadata": {
        "id": "tOnkPX7wRr1K"
      },
      "outputs": [
        {
          "data": {
            "text/plain": [
              "Timestamp('2020-01-01 12:00:00+0000', tz='UTC')"
            ]
          },
          "execution_count": 395,
          "metadata": {},
          "output_type": "execute_result"
        }
      ],
      "source": [
        "stamp = pd.Timestamp('2020-01-01 12:00')\n",
        "stamp_utc = stamp.tz_localize('UTC')\n",
        "stamp_utc"
      ]
    },
    {
      "cell_type": "code",
      "execution_count": 393,
      "metadata": {
        "id": "gzpDRNMbS7m4"
      },
      "outputs": [
        {
          "data": {
            "text/plain": [
              "1577880000000000000"
            ]
          },
          "execution_count": 393,
          "metadata": {},
          "output_type": "execute_result"
        }
      ],
      "source": [
        "stamp_utc.value"
      ]
    },
    {
      "cell_type": "code",
      "execution_count": 394,
      "metadata": {
        "id": "kV1-OuAyS1E1"
      },
      "outputs": [
        {
          "data": {
            "text/plain": [
              "Timestamp('2020-01-01 21:00:00+0900', tz='Asia/Seoul')"
            ]
          },
          "execution_count": 394,
          "metadata": {},
          "output_type": "execute_result"
        }
      ],
      "source": [
        "stamp_utc.tz_convert('Asia/Seoul')"
      ]
    },
    {
      "cell_type": "code",
      "execution_count": 396,
      "metadata": {
        "id": "vNWZbRg9S7ib"
      },
      "outputs": [
        {
          "data": {
            "text/plain": [
              "1577880000000000000"
            ]
          },
          "execution_count": 396,
          "metadata": {},
          "output_type": "execute_result"
        }
      ],
      "source": [
        "stamp_utc.tz_convert('Asia/Seoul').value"
      ]
    },
    {
      "cell_type": "code",
      "execution_count": 397,
      "metadata": {
        "id": "y2YmFHiTSbvl"
      },
      "outputs": [
        {
          "data": {
            "text/plain": [
              "Timestamp('2020-01-01 12:00:00-0500', tz='America/New_York')"
            ]
          },
          "execution_count": 397,
          "metadata": {},
          "output_type": "execute_result"
        }
      ],
      "source": [
        "stamp_ny = pd.Timestamp('2020-01-01 12:00', tz='America/New_York')\n",
        "stamp_ny"
      ]
    },
    {
      "cell_type": "code",
      "execution_count": 400,
      "metadata": {
        "id": "escRmC7CSp7D"
      },
      "outputs": [
        {
          "data": {
            "text/plain": [
              "1577898000000000000"
            ]
          },
          "execution_count": 400,
          "metadata": {},
          "output_type": "execute_result"
        }
      ],
      "source": [
        "stamp_ny.value"
      ]
    },
    {
      "cell_type": "code",
      "execution_count": 401,
      "metadata": {
        "id": "JktH-gJjSt3y"
      },
      "outputs": [
        {
          "data": {
            "text/plain": [
              "Timestamp('2020-01-01 20:00:00+0800', tz='Asia/Shanghai')"
            ]
          },
          "execution_count": 401,
          "metadata": {},
          "output_type": "execute_result"
        }
      ],
      "source": [
        "stamp_utc.tz_convert('Asia/Shanghai')"
      ]
    },
    {
      "cell_type": "code",
      "execution_count": 402,
      "metadata": {
        "id": "B8qC75WkVdUz"
      },
      "outputs": [
        {
          "data": {
            "text/plain": [
              "Timestamp('2020-01-01 12:00:00')"
            ]
          },
          "execution_count": 402,
          "metadata": {},
          "output_type": "execute_result"
        }
      ],
      "source": [
        "stmap = pd.Timestamp('2020-01-01 12:00', tz='Asia/Seoul')\n",
        "stamp"
      ]
    },
    {
      "cell_type": "code",
      "execution_count": 403,
      "metadata": {
        "id": "vW_WSrFYVr39"
      },
      "outputs": [
        {
          "data": {
            "text/plain": [
              "Timestamp('2020-01-01 13:00:00')"
            ]
          },
          "execution_count": 403,
          "metadata": {},
          "output_type": "execute_result"
        }
      ],
      "source": [
        "from pandas.tseries.offsets import Hour\n",
        "stamp + Hour()"
      ]
    },
    {
      "cell_type": "code",
      "execution_count": 404,
      "metadata": {
        "id": "eirSX--hVxsh"
      },
      "outputs": [
        {
          "data": {
            "text/plain": [
              "Timestamp('2020-01-01 15:00:00')"
            ]
          },
          "execution_count": 404,
          "metadata": {},
          "output_type": "execute_result"
        }
      ],
      "source": [
        "stamp + 3 * Hour()"
      ]
    },
    {
      "cell_type": "code",
      "execution_count": 405,
      "metadata": {
        "id": "c5O6aWCoV6tn"
      },
      "outputs": [
        {
          "data": {
            "text/plain": [
              "2020-01-01 09:00:00+00:00   -0.231974\n",
              "2020-01-02 09:00:00+00:00    0.944886\n",
              "2020-01-03 09:00:00+00:00   -1.401937\n",
              "2020-01-06 09:00:00+00:00   -1.879838\n",
              "2020-01-07 09:00:00+00:00   -1.992368\n",
              "2020-01-08 09:00:00+00:00    0.929822\n",
              "2020-01-09 09:00:00+00:00   -1.571033\n",
              "Freq: B, dtype: float64"
            ]
          },
          "execution_count": 405,
          "metadata": {},
          "output_type": "execute_result"
        }
      ],
      "source": [
        "ts_utc"
      ]
    },
    {
      "cell_type": "code",
      "execution_count": 407,
      "metadata": {
        "id": "fT1R8fH1YLxz"
      },
      "outputs": [],
      "source": [
        "ts1 = ts_utc[:5].tz_convert('Europe/Berlin')\n",
        "ts2 = ts_utc[2:].tz_convert('America/New_York')\n",
        "ts = ts1 + ts2"
      ]
    },
    {
      "cell_type": "code",
      "execution_count": 408,
      "metadata": {
        "id": "AImCb4SwZHDJ"
      },
      "outputs": [
        {
          "data": {
            "text/plain": [
              "DatetimeIndex(['2020-01-01 09:00:00+00:00', '2020-01-02 09:00:00+00:00',\n",
              "               '2020-01-03 09:00:00+00:00', '2020-01-06 09:00:00+00:00',\n",
              "               '2020-01-07 09:00:00+00:00', '2020-01-08 09:00:00+00:00',\n",
              "               '2020-01-09 09:00:00+00:00'],\n",
              "              dtype='datetime64[ns, UTC]', freq='B')"
            ]
          },
          "execution_count": 408,
          "metadata": {},
          "output_type": "execute_result"
        }
      ],
      "source": [
        "ts.index"
      ]
    },
    {
      "cell_type": "markdown",
      "metadata": {
        "id": "mBESoCw1ZPCb"
      },
      "source": [
        "### 기간과 기간 연산"
      ]
    },
    {
      "cell_type": "code",
      "execution_count": 409,
      "metadata": {
        "id": "zPuaVZFOZRXU"
      },
      "outputs": [
        {
          "data": {
            "text/plain": [
              "Period('2020', 'A-JAN')"
            ]
          },
          "execution_count": 409,
          "metadata": {},
          "output_type": "execute_result"
        }
      ],
      "source": [
        "p = pd.Period(2020, freq='A-JAN')\n",
        "p"
      ]
    },
    {
      "cell_type": "code",
      "execution_count": 410,
      "metadata": {
        "id": "Pa6d7K81c9D7"
      },
      "outputs": [
        {
          "data": {
            "text/plain": [
              "Period('2022', 'A-JAN')"
            ]
          },
          "execution_count": 410,
          "metadata": {},
          "output_type": "execute_result"
        }
      ],
      "source": [
        "p + 2"
      ]
    },
    {
      "cell_type": "code",
      "execution_count": 411,
      "metadata": {
        "id": "-8G5Fry1dA0Z"
      },
      "outputs": [
        {
          "data": {
            "text/plain": [
              "Period('2017', 'A-JAN')"
            ]
          },
          "execution_count": 411,
          "metadata": {},
          "output_type": "execute_result"
        }
      ],
      "source": [
        "p - 3"
      ]
    },
    {
      "cell_type": "code",
      "execution_count": 413,
      "metadata": {
        "id": "uX4eGfqPdJWX"
      },
      "outputs": [
        {
          "data": {
            "text/plain": [
              "<10 * YearEnds: month=1>"
            ]
          },
          "execution_count": 413,
          "metadata": {},
          "output_type": "execute_result"
        }
      ],
      "source": [
        "p1 = pd.Period(2010, freq='A-JAN')\n",
        "p2 = pd.Period(2020, freq='A-JAN')\n",
        "p2 - p1"
      ]
    },
    {
      "cell_type": "code",
      "execution_count": 414,
      "metadata": {
        "id": "bONu-Igwefj5"
      },
      "outputs": [],
      "source": [
        "pr = pd.period_range('2020-01-01', '2020-06-30', freq='M')"
      ]
    },
    {
      "cell_type": "code",
      "execution_count": 415,
      "metadata": {
        "id": "CgIISIP3esTI"
      },
      "outputs": [
        {
          "data": {
            "text/plain": [
              "2020-01   -0.089248\n",
              "2020-02    0.526188\n",
              "2020-03    0.363866\n",
              "2020-04   -0.124399\n",
              "2020-05   -0.324246\n",
              "2020-06   -0.373334\n",
              "Freq: M, dtype: float64"
            ]
          },
          "execution_count": 415,
          "metadata": {},
          "output_type": "execute_result"
        }
      ],
      "source": [
        "pd.Series(np.random.randn(6), index=pr)"
      ]
    },
    {
      "cell_type": "code",
      "execution_count": 416,
      "metadata": {
        "id": "3UbMifZ9g_2a"
      },
      "outputs": [
        {
          "data": {
            "text/plain": [
              "PeriodIndex(['2020-01', '2020-01', '2020-04'], dtype='period[M]')"
            ]
          },
          "execution_count": 416,
          "metadata": {},
          "output_type": "execute_result"
        }
      ],
      "source": [
        "pidx = pd.PeriodIndex(['2020-1', '2020-1', '2020-4'], freq='M')\n",
        "pidx"
      ]
    },
    {
      "cell_type": "code",
      "execution_count": 417,
      "metadata": {
        "id": "SrJaYKyFhqNK"
      },
      "outputs": [
        {
          "data": {
            "text/plain": [
              "Period('2020', 'A-FEB')"
            ]
          },
          "execution_count": 417,
          "metadata": {},
          "output_type": "execute_result"
        }
      ],
      "source": [
        "p = pd.Period('2020', freq='A-FEB')\n",
        "p"
      ]
    },
    {
      "cell_type": "code",
      "execution_count": 418,
      "metadata": {
        "id": "1zslgmgEhy_E"
      },
      "outputs": [
        {
          "data": {
            "text/plain": [
              "Period('2019-03', 'M')"
            ]
          },
          "execution_count": 418,
          "metadata": {},
          "output_type": "execute_result"
        }
      ],
      "source": [
        "p.asfreq('M', how='start')"
      ]
    },
    {
      "cell_type": "code",
      "execution_count": 419,
      "metadata": {
        "id": "Pf0MhblPh-4A"
      },
      "outputs": [
        {
          "data": {
            "text/plain": [
              "Period('2020-02', 'M')"
            ]
          },
          "execution_count": 419,
          "metadata": {},
          "output_type": "execute_result"
        }
      ],
      "source": [
        "p.asfreq('M', how='end')"
      ]
    },
    {
      "cell_type": "code",
      "execution_count": 420,
      "metadata": {
        "id": "TUAZmHE5iTDQ"
      },
      "outputs": [
        {
          "data": {
            "text/plain": [
              "Period('2020', 'A-OCT')"
            ]
          },
          "execution_count": 420,
          "metadata": {},
          "output_type": "execute_result"
        }
      ],
      "source": [
        "p = pd.Period('2020', freq='A-OCT')\n",
        "p"
      ]
    },
    {
      "cell_type": "code",
      "execution_count": 421,
      "metadata": {
        "id": "OXXVYyrSiXx5"
      },
      "outputs": [
        {
          "data": {
            "text/plain": [
              "Period('2019-11', 'M')"
            ]
          },
          "execution_count": 421,
          "metadata": {},
          "output_type": "execute_result"
        }
      ],
      "source": [
        "p.asfreq('M', how='start')"
      ]
    },
    {
      "cell_type": "code",
      "execution_count": 422,
      "metadata": {
        "id": "KwZxN0DSiZcR"
      },
      "outputs": [
        {
          "data": {
            "text/plain": [
              "Period('2020-10', 'M')"
            ]
          },
          "execution_count": 422,
          "metadata": {},
          "output_type": "execute_result"
        }
      ],
      "source": [
        "p.asfreq('M', how='end')"
      ]
    },
    {
      "cell_type": "code",
      "execution_count": 423,
      "metadata": {
        "id": "coUC21I4irbo"
      },
      "outputs": [
        {
          "data": {
            "text/plain": [
              "2010    0.696913\n",
              "2011    0.676093\n",
              "2012    2.099618\n",
              "2013   -0.582205\n",
              "2014    0.518523\n",
              "2015    0.356955\n",
              "2016    0.071253\n",
              "2017    0.483859\n",
              "2018   -0.286389\n",
              "2019   -1.192304\n",
              "2020   -1.339436\n",
              "Freq: A-JAN, dtype: float64"
            ]
          },
          "execution_count": 423,
          "metadata": {},
          "output_type": "execute_result"
        }
      ],
      "source": [
        "pr = pd.period_range('2010', '2020', freq='A-JAN')\n",
        "ts = pd.Series(np.random.randn(len(pr)), index=pr)\n",
        "ts"
      ]
    },
    {
      "cell_type": "code",
      "execution_count": 424,
      "metadata": {
        "id": "l1-o5TuTjJ_6"
      },
      "outputs": [
        {
          "data": {
            "text/plain": [
              "2009-02    0.696913\n",
              "2010-02    0.676093\n",
              "2011-02    2.099618\n",
              "2012-02   -0.582205\n",
              "2013-02    0.518523\n",
              "2014-02    0.356955\n",
              "2015-02    0.071253\n",
              "2016-02    0.483859\n",
              "2017-02   -0.286389\n",
              "2018-02   -1.192304\n",
              "2019-02   -1.339436\n",
              "Freq: M, dtype: float64"
            ]
          },
          "execution_count": 424,
          "metadata": {},
          "output_type": "execute_result"
        }
      ],
      "source": [
        "ts.asfreq('M', how='start')"
      ]
    },
    {
      "cell_type": "code",
      "execution_count": 425,
      "metadata": {
        "id": "OXKM1tInjOo5"
      },
      "outputs": [
        {
          "data": {
            "text/plain": [
              "2010-01-29    0.696913\n",
              "2011-01-31    0.676093\n",
              "2012-01-31    2.099618\n",
              "2013-01-31   -0.582205\n",
              "2014-01-31    0.518523\n",
              "2015-01-30    0.356955\n",
              "2016-01-29    0.071253\n",
              "2017-01-31    0.483859\n",
              "2018-01-31   -0.286389\n",
              "2019-01-31   -1.192304\n",
              "2020-01-31   -1.339436\n",
              "Freq: B, dtype: float64"
            ]
          },
          "execution_count": 425,
          "metadata": {},
          "output_type": "execute_result"
        }
      ],
      "source": [
        "ts.asfreq('B', how='end')"
      ]
    },
    {
      "cell_type": "code",
      "execution_count": 426,
      "metadata": {
        "id": "atGrrBMjj9sh"
      },
      "outputs": [
        {
          "data": {
            "text/plain": [
              "Period('2020Q2', 'Q-JAN')"
            ]
          },
          "execution_count": 426,
          "metadata": {},
          "output_type": "execute_result"
        }
      ],
      "source": [
        "p = pd.Period('2020Q2', freq='Q-JAN')\n",
        "p"
      ]
    },
    {
      "cell_type": "code",
      "execution_count": 427,
      "metadata": {
        "id": "eYrXQPsykF6O"
      },
      "outputs": [
        {
          "data": {
            "text/plain": [
              "Period('2019-05-01', 'D')"
            ]
          },
          "execution_count": 427,
          "metadata": {},
          "output_type": "execute_result"
        }
      ],
      "source": [
        "p.asfreq('D', 'start')"
      ]
    },
    {
      "cell_type": "code",
      "execution_count": 428,
      "metadata": {
        "id": "Ieb4UV57kPBS"
      },
      "outputs": [
        {
          "data": {
            "text/plain": [
              "Period('2019-07-31', 'D')"
            ]
          },
          "execution_count": 428,
          "metadata": {},
          "output_type": "execute_result"
        }
      ],
      "source": [
        "p.asfreq('D', 'end')"
      ]
    },
    {
      "cell_type": "code",
      "execution_count": 429,
      "metadata": {
        "id": "kQ0IShLqlPYy"
      },
      "outputs": [
        {
          "data": {
            "text/plain": [
              "2019Q3   -1.241992\n",
              "2019Q4   -0.048622\n",
              "2020Q1   -2.260985\n",
              "2020Q2    0.843829\n",
              "2020Q3   -0.484396\n",
              "Freq: Q-JAN, dtype: float64"
            ]
          },
          "execution_count": 429,
          "metadata": {},
          "output_type": "execute_result"
        }
      ],
      "source": [
        "pr = pd.period_range('2019Q3', '2020Q3', freq='Q-JAN')\n",
        "ts = pd.Series(np.random.randn(len(pr)), index=pr)\n",
        "ts"
      ]
    },
    {
      "cell_type": "code",
      "execution_count": 432,
      "metadata": {
        "id": "uIkBhkpnop55"
      },
      "outputs": [
        {
          "data": {
            "text/plain": [
              "2020-01-31    1.113880\n",
              "2020-04-30   -0.899666\n",
              "2020-07-31    0.015912\n",
              "2020-10-31   -1.247704\n",
              "2021-01-31   -1.258393\n",
              "Freq: Q-JAN, dtype: float64"
            ]
          },
          "execution_count": 432,
          "metadata": {},
          "output_type": "execute_result"
        }
      ],
      "source": [
        "pr = pd.date_range('2020-01-01', periods=5, freq='Q-JAN')\n",
        "ts = pd.Series(np.random.randn(5), index=pr)\n",
        "ts"
      ]
    },
    {
      "cell_type": "code",
      "execution_count": 433,
      "metadata": {
        "id": "u-37q4u_pTfy"
      },
      "outputs": [
        {
          "data": {
            "text/plain": [
              "2020Q4    1.113880\n",
              "2021Q1   -0.899666\n",
              "2021Q2    0.015912\n",
              "2021Q3   -1.247704\n",
              "2021Q4   -1.258393\n",
              "Freq: Q-JAN, dtype: float64"
            ]
          },
          "execution_count": 433,
          "metadata": {},
          "output_type": "execute_result"
        }
      ],
      "source": [
        "ts.to_period()"
      ]
    },
    {
      "cell_type": "code",
      "execution_count": 434,
      "metadata": {
        "id": "BNAgbJ62pzTh"
      },
      "outputs": [
        {
          "data": {
            "text/plain": [
              "2020-01-01   -0.913591\n",
              "2020-01-02    0.413957\n",
              "2020-01-03   -0.376334\n",
              "2020-01-04   -1.348413\n",
              "2020-01-05   -1.976274\n",
              "Freq: D, dtype: float64"
            ]
          },
          "execution_count": 434,
          "metadata": {},
          "output_type": "execute_result"
        }
      ],
      "source": [
        "pr = pd.date_range('2020-01-01', periods=5, freq='D')\n",
        "ts = pd.Series(np.random.randn(5), index=pr)\n",
        "ts"
      ]
    },
    {
      "cell_type": "code",
      "execution_count": 435,
      "metadata": {
        "id": "hNwIgsrkp4y3"
      },
      "outputs": [
        {
          "data": {
            "text/plain": [
              "2020-01   -0.913591\n",
              "2020-01    0.413957\n",
              "2020-01   -0.376334\n",
              "2020-01   -1.348413\n",
              "2020-01   -1.976274\n",
              "Freq: M, dtype: float64"
            ]
          },
          "execution_count": 435,
          "metadata": {},
          "output_type": "execute_result"
        }
      ],
      "source": [
        "p = ts.to_period('M')\n",
        "p"
      ]
    },
    {
      "cell_type": "code",
      "execution_count": 436,
      "metadata": {
        "id": "cwz_gBl-qWcp"
      },
      "outputs": [
        {
          "data": {
            "text/plain": [
              "2020-01-01   -0.913591\n",
              "2020-01-01    0.413957\n",
              "2020-01-01   -0.376334\n",
              "2020-01-01   -1.348413\n",
              "2020-01-01   -1.976274\n",
              "dtype: float64"
            ]
          },
          "execution_count": 436,
          "metadata": {},
          "output_type": "execute_result"
        }
      ],
      "source": [
        "p.to_timestamp(how='start')"
      ]
    },
    {
      "cell_type": "markdown",
      "metadata": {
        "id": "_7_r2sq0qoCb"
      },
      "source": [
        "### 리샘플링(Resampling)\n",
        "\n",
        "* 리샘플링(Resampling): 시계열의 빈도 변환\n",
        "* 다운샘플링(Down sampling): 상위 빈도 데이터를 하위 빈도 데이터로 집계\n",
        "* 업샘플링(Up sampling): 하위 빈도 데이터를 상위 빈도 데이터로 집계"
      ]
    },
    {
      "cell_type": "code",
      "execution_count": null,
      "metadata": {
        "id": "g16pgRe8qq2S"
      },
      "outputs": [],
      "source": []
    },
    {
      "cell_type": "code",
      "execution_count": null,
      "metadata": {
        "id": "dUOidLhdrSga"
      },
      "outputs": [],
      "source": []
    },
    {
      "cell_type": "code",
      "execution_count": null,
      "metadata": {
        "id": "syUsS-UtraUU"
      },
      "outputs": [],
      "source": []
    },
    {
      "cell_type": "code",
      "execution_count": null,
      "metadata": {
        "id": "wqGxv77wujni"
      },
      "outputs": [],
      "source": []
    },
    {
      "cell_type": "code",
      "execution_count": null,
      "metadata": {
        "id": "24TJiPXSu-cN"
      },
      "outputs": [],
      "source": []
    },
    {
      "cell_type": "code",
      "execution_count": null,
      "metadata": {
        "id": "iL0pJxPcwlt5"
      },
      "outputs": [],
      "source": []
    },
    {
      "cell_type": "code",
      "execution_count": null,
      "metadata": {
        "id": "UqjZ7uy1NTAM"
      },
      "outputs": [],
      "source": []
    },
    {
      "cell_type": "code",
      "execution_count": null,
      "metadata": {
        "id": "iTeIafSR1Hfx"
      },
      "outputs": [],
      "source": []
    },
    {
      "cell_type": "code",
      "execution_count": null,
      "metadata": {
        "id": "1KJJ4TSf1nMp"
      },
      "outputs": [],
      "source": []
    },
    {
      "cell_type": "code",
      "execution_count": null,
      "metadata": {
        "id": "79ITf-AM2Jcr"
      },
      "outputs": [],
      "source": []
    },
    {
      "cell_type": "code",
      "execution_count": null,
      "metadata": {
        "id": "kOBZwqXJ626g"
      },
      "outputs": [],
      "source": []
    },
    {
      "cell_type": "code",
      "execution_count": null,
      "metadata": {
        "id": "IZIifPcqBX28"
      },
      "outputs": [],
      "source": []
    },
    {
      "cell_type": "code",
      "execution_count": null,
      "metadata": {
        "id": "iEci9Ws3FNtG"
      },
      "outputs": [],
      "source": []
    },
    {
      "cell_type": "code",
      "execution_count": null,
      "metadata": {
        "id": "TPWnP2YNE2-Y"
      },
      "outputs": [],
      "source": []
    },
    {
      "cell_type": "code",
      "execution_count": null,
      "metadata": {
        "id": "r6b2V4P9B3eN"
      },
      "outputs": [],
      "source": []
    },
    {
      "cell_type": "code",
      "execution_count": null,
      "metadata": {
        "id": "YRU_MPfgC2OC"
      },
      "outputs": [],
      "source": []
    },
    {
      "cell_type": "code",
      "execution_count": null,
      "metadata": {
        "id": "bGwHQKT18B30"
      },
      "outputs": [],
      "source": []
    },
    {
      "cell_type": "code",
      "execution_count": null,
      "metadata": {
        "id": "0-fZbJgkCxvo"
      },
      "outputs": [],
      "source": []
    },
    {
      "cell_type": "markdown",
      "metadata": {
        "id": "gOTm-SAWFqUn"
      },
      "source": [
        "### 무빙 윈도우(Moving Window)"
      ]
    },
    {
      "cell_type": "code",
      "execution_count": null,
      "metadata": {
        "id": "ivW4TjmaFv_8"
      },
      "outputs": [],
      "source": []
    },
    {
      "cell_type": "code",
      "execution_count": null,
      "metadata": {
        "id": "g8NG71H-G3_1"
      },
      "outputs": [],
      "source": []
    },
    {
      "cell_type": "code",
      "execution_count": null,
      "metadata": {
        "id": "fPuiwcxR6r29"
      },
      "outputs": [],
      "source": []
    },
    {
      "cell_type": "code",
      "execution_count": null,
      "metadata": {
        "id": "rrS0Fv6IHkTD"
      },
      "outputs": [],
      "source": []
    },
    {
      "cell_type": "code",
      "execution_count": null,
      "metadata": {
        "id": "5eyUTf9gH7dy"
      },
      "outputs": [],
      "source": []
    },
    {
      "cell_type": "code",
      "execution_count": null,
      "metadata": {
        "id": "jE8ef_y7ISvQ"
      },
      "outputs": [],
      "source": []
    },
    {
      "cell_type": "code",
      "execution_count": null,
      "metadata": {
        "id": "YPivQozCIt2C"
      },
      "outputs": [],
      "source": []
    },
    {
      "cell_type": "code",
      "execution_count": null,
      "metadata": {
        "id": "uwUxlyN-I9Lr"
      },
      "outputs": [],
      "source": []
    },
    {
      "cell_type": "code",
      "execution_count": null,
      "metadata": {
        "id": "t6EOkaA7JQfk"
      },
      "outputs": [],
      "source": []
    },
    {
      "cell_type": "code",
      "execution_count": null,
      "metadata": {
        "id": "iOAqjinMJ-RM"
      },
      "outputs": [],
      "source": []
    },
    {
      "cell_type": "code",
      "execution_count": null,
      "metadata": {
        "id": "DMZPaDR0wR1P"
      },
      "outputs": [],
      "source": []
    },
    {
      "cell_type": "markdown",
      "metadata": {
        "id": "BOO7UiIisygc"
      },
      "source": [
        "## 데이터 읽기 및 저장\n"
      ]
    },
    {
      "cell_type": "markdown",
      "metadata": {
        "id": "gywGx4BUY8kK"
      },
      "source": [
        "### 텍스트 파일 읽기/쓰기"
      ]
    },
    {
      "cell_type": "code",
      "execution_count": null,
      "metadata": {
        "id": "YKleNV0lswbP"
      },
      "outputs": [],
      "source": []
    },
    {
      "cell_type": "code",
      "execution_count": null,
      "metadata": {
        "id": "uDL9fxU_N3e8"
      },
      "outputs": [],
      "source": []
    },
    {
      "cell_type": "code",
      "execution_count": null,
      "metadata": {
        "id": "8qpTNo0rNzQ1"
      },
      "outputs": [],
      "source": []
    },
    {
      "cell_type": "code",
      "execution_count": null,
      "metadata": {
        "id": "uFgOXuSWODON"
      },
      "outputs": [],
      "source": []
    },
    {
      "cell_type": "code",
      "execution_count": null,
      "metadata": {
        "id": "DxsJR_AHOGNM"
      },
      "outputs": [],
      "source": []
    },
    {
      "cell_type": "code",
      "execution_count": null,
      "metadata": {
        "id": "pINjVRJlOP3f"
      },
      "outputs": [],
      "source": []
    },
    {
      "cell_type": "code",
      "execution_count": null,
      "metadata": {
        "id": "_OOxJ6AoOdsa"
      },
      "outputs": [],
      "source": []
    },
    {
      "cell_type": "code",
      "execution_count": null,
      "metadata": {
        "id": "41CvMcUxOqG2"
      },
      "outputs": [],
      "source": []
    },
    {
      "cell_type": "code",
      "execution_count": null,
      "metadata": {
        "id": "IUWp5vjzPG_F"
      },
      "outputs": [],
      "source": []
    },
    {
      "cell_type": "code",
      "execution_count": null,
      "metadata": {
        "id": "lwh3G1yRQr1h"
      },
      "outputs": [],
      "source": []
    },
    {
      "cell_type": "code",
      "execution_count": null,
      "metadata": {
        "id": "PkUJzlMzRBue"
      },
      "outputs": [],
      "source": []
    },
    {
      "cell_type": "code",
      "execution_count": null,
      "metadata": {
        "id": "Ywb5JK5qRTvs"
      },
      "outputs": [],
      "source": []
    },
    {
      "cell_type": "code",
      "execution_count": null,
      "metadata": {
        "id": "PkEC01P2RaiM"
      },
      "outputs": [],
      "source": []
    },
    {
      "cell_type": "code",
      "execution_count": null,
      "metadata": {
        "id": "r-LMeRJUR8N4"
      },
      "outputs": [],
      "source": []
    },
    {
      "cell_type": "code",
      "execution_count": null,
      "metadata": {
        "id": "5eRV5ja3SawJ"
      },
      "outputs": [],
      "source": []
    },
    {
      "cell_type": "code",
      "execution_count": null,
      "metadata": {
        "id": "M7iJwB8MYwSv"
      },
      "outputs": [],
      "source": []
    },
    {
      "cell_type": "code",
      "execution_count": null,
      "metadata": {
        "id": "bsjS12WVZHcq"
      },
      "outputs": [],
      "source": []
    },
    {
      "cell_type": "code",
      "execution_count": null,
      "metadata": {
        "id": "QjP7lyGzZOpi"
      },
      "outputs": [],
      "source": []
    },
    {
      "cell_type": "code",
      "execution_count": null,
      "metadata": {
        "id": "fzxcYo0_ZUMI"
      },
      "outputs": [],
      "source": []
    },
    {
      "cell_type": "code",
      "execution_count": null,
      "metadata": {
        "id": "U0nvJRsTZg5E"
      },
      "outputs": [],
      "source": []
    },
    {
      "cell_type": "code",
      "execution_count": null,
      "metadata": {
        "id": "Xx7oQn_9axOD"
      },
      "outputs": [],
      "source": []
    },
    {
      "cell_type": "code",
      "execution_count": null,
      "metadata": {
        "id": "-cFa44vmbWJ-"
      },
      "outputs": [],
      "source": []
    },
    {
      "cell_type": "code",
      "execution_count": null,
      "metadata": {
        "id": "Sz4D4Rcrbkkj"
      },
      "outputs": [],
      "source": []
    },
    {
      "cell_type": "code",
      "execution_count": null,
      "metadata": {
        "id": "h-3yFqGYcc64"
      },
      "outputs": [],
      "source": []
    },
    {
      "cell_type": "code",
      "execution_count": null,
      "metadata": {
        "id": "8dwRbNbucm9_"
      },
      "outputs": [],
      "source": []
    },
    {
      "cell_type": "code",
      "execution_count": null,
      "metadata": {
        "id": "iEvJFXwTcx-y"
      },
      "outputs": [],
      "source": []
    },
    {
      "cell_type": "code",
      "execution_count": null,
      "metadata": {
        "id": "L5IlKRsKc7-X"
      },
      "outputs": [],
      "source": []
    },
    {
      "cell_type": "code",
      "execution_count": null,
      "metadata": {
        "id": "I2DeeF8rc-lS"
      },
      "outputs": [],
      "source": []
    },
    {
      "cell_type": "markdown",
      "metadata": {
        "id": "FbawLF89dKIZ"
      },
      "source": [
        "### 이진 데이터 파일 읽기/쓰기"
      ]
    },
    {
      "cell_type": "code",
      "execution_count": null,
      "metadata": {
        "id": "r86MX6x7dYgE"
      },
      "outputs": [],
      "source": []
    },
    {
      "cell_type": "code",
      "execution_count": null,
      "metadata": {
        "id": "V2GPiDLKdfmO"
      },
      "outputs": [],
      "source": []
    },
    {
      "cell_type": "code",
      "execution_count": null,
      "metadata": {
        "id": "B3eyfmJRdkQR"
      },
      "outputs": [],
      "source": []
    },
    {
      "cell_type": "code",
      "execution_count": null,
      "metadata": {
        "id": "UzOVC81Ed-2E"
      },
      "outputs": [],
      "source": []
    },
    {
      "cell_type": "code",
      "execution_count": null,
      "metadata": {
        "id": "uaO6OxkCeTq4"
      },
      "outputs": [],
      "source": []
    },
    {
      "cell_type": "code",
      "execution_count": null,
      "metadata": {
        "id": "OG_258xee3PR"
      },
      "outputs": [],
      "source": []
    },
    {
      "cell_type": "code",
      "execution_count": null,
      "metadata": {
        "id": "sWZ22PVde7Ha"
      },
      "outputs": [],
      "source": []
    },
    {
      "cell_type": "code",
      "execution_count": null,
      "metadata": {
        "id": "YglaWJ7CfAKj"
      },
      "outputs": [],
      "source": []
    },
    {
      "cell_type": "code",
      "execution_count": null,
      "metadata": {
        "id": "zjEeShTCfO8i"
      },
      "outputs": [],
      "source": []
    },
    {
      "cell_type": "code",
      "execution_count": null,
      "metadata": {
        "id": "wVRZCDhqfTgf"
      },
      "outputs": [],
      "source": []
    },
    {
      "cell_type": "code",
      "execution_count": null,
      "metadata": {
        "id": "SbB9VJMVfot5"
      },
      "outputs": [],
      "source": []
    },
    {
      "cell_type": "code",
      "execution_count": null,
      "metadata": {
        "id": "eVn_GwrTf7Eu"
      },
      "outputs": [],
      "source": []
    },
    {
      "cell_type": "code",
      "execution_count": null,
      "metadata": {
        "id": "GFvQJWz5gaXG"
      },
      "outputs": [],
      "source": []
    },
    {
      "cell_type": "code",
      "execution_count": null,
      "metadata": {
        "id": "Ij_Yh741gbp1"
      },
      "outputs": [],
      "source": []
    },
    {
      "cell_type": "markdown",
      "metadata": {
        "id": "TC1H-xT_2F8p"
      },
      "source": [
        "## 데이터 정제"
      ]
    },
    {
      "cell_type": "markdown",
      "metadata": {
        "id": "sHfYzJJsqoiD"
      },
      "source": [
        "### 누락값 처리\n",
        "\n",
        "* 대부분의 실제 데이터들은 정제되지 않고 누락값들이 존재\n",
        "* 서로 다른 데이터들은 다른 형태의 결측을 가짐\n",
        "* 결측 데이터는 `null`, `NaN`, `NA`로 표기"
      ]
    },
    {
      "cell_type": "markdown",
      "metadata": {
        "id": "eYG4GJ04HNea"
      },
      "source": [
        "#### None: 파이썬 누락 데이터"
      ]
    },
    {
      "cell_type": "code",
      "execution_count": null,
      "metadata": {
        "id": "SdbmIhZJqYk-"
      },
      "outputs": [],
      "source": []
    },
    {
      "cell_type": "code",
      "execution_count": null,
      "metadata": {
        "id": "TGgJm6tSOqz5"
      },
      "outputs": [],
      "source": []
    },
    {
      "cell_type": "markdown",
      "metadata": {
        "id": "Uz-ozgPrPj7g"
      },
      "source": [
        "#### NaN: 누락된 수치 데이터"
      ]
    },
    {
      "cell_type": "code",
      "execution_count": null,
      "metadata": {
        "id": "XIzPctmuPWfU"
      },
      "outputs": [],
      "source": []
    },
    {
      "cell_type": "code",
      "execution_count": null,
      "metadata": {
        "id": "9TVX3ZN5P6V3"
      },
      "outputs": [],
      "source": []
    },
    {
      "cell_type": "code",
      "execution_count": null,
      "metadata": {
        "id": "iVLmt-aQP8Gj"
      },
      "outputs": [],
      "source": []
    },
    {
      "cell_type": "code",
      "execution_count": null,
      "metadata": {
        "id": "hGP2AkgaSUSz"
      },
      "outputs": [],
      "source": []
    },
    {
      "cell_type": "code",
      "execution_count": null,
      "metadata": {
        "id": "TT4GHf_fSeRi"
      },
      "outputs": [],
      "source": []
    },
    {
      "cell_type": "code",
      "execution_count": null,
      "metadata": {
        "id": "U9qtvBxXSlfX"
      },
      "outputs": [],
      "source": []
    },
    {
      "cell_type": "code",
      "execution_count": null,
      "metadata": {
        "id": "FkOFTHSSS07A"
      },
      "outputs": [],
      "source": []
    },
    {
      "cell_type": "code",
      "execution_count": null,
      "metadata": {
        "id": "RWVqbN1oS6ZH"
      },
      "outputs": [],
      "source": []
    },
    {
      "cell_type": "code",
      "execution_count": null,
      "metadata": {
        "id": "d-jqa8t5S9z7"
      },
      "outputs": [],
      "source": []
    },
    {
      "cell_type": "code",
      "execution_count": null,
      "metadata": {
        "id": "BJHZK_CjTOUq"
      },
      "outputs": [],
      "source": []
    },
    {
      "cell_type": "markdown",
      "metadata": {
        "id": "TeZA_l5fUCks"
      },
      "source": [
        "#### Null 값 처리\n"
      ]
    },
    {
      "cell_type": "code",
      "execution_count": null,
      "metadata": {
        "id": "abbvoVnITo_y"
      },
      "outputs": [],
      "source": []
    },
    {
      "cell_type": "code",
      "execution_count": null,
      "metadata": {
        "id": "9gf6oys8akr0"
      },
      "outputs": [],
      "source": []
    },
    {
      "cell_type": "code",
      "execution_count": null,
      "metadata": {
        "id": "u9noWEenamtc"
      },
      "outputs": [],
      "source": []
    },
    {
      "cell_type": "code",
      "execution_count": null,
      "metadata": {
        "id": "EMWvOC5cauNb"
      },
      "outputs": [],
      "source": []
    },
    {
      "cell_type": "code",
      "execution_count": null,
      "metadata": {
        "id": "RVxZDos7azvf"
      },
      "outputs": [],
      "source": []
    },
    {
      "cell_type": "code",
      "execution_count": null,
      "metadata": {
        "id": "c02BqS-Aa9W-"
      },
      "outputs": [],
      "source": []
    },
    {
      "cell_type": "code",
      "execution_count": null,
      "metadata": {
        "id": "eKJY74ksbJx5"
      },
      "outputs": [],
      "source": []
    },
    {
      "cell_type": "code",
      "execution_count": null,
      "metadata": {
        "id": "hdqOfZdIbMAq"
      },
      "outputs": [],
      "source": []
    },
    {
      "cell_type": "code",
      "execution_count": null,
      "metadata": {
        "id": "Gk6hV9DibQsg"
      },
      "outputs": [],
      "source": []
    },
    {
      "cell_type": "code",
      "execution_count": null,
      "metadata": {
        "id": "88DA4w8ubUjj"
      },
      "outputs": [],
      "source": []
    },
    {
      "cell_type": "code",
      "execution_count": null,
      "metadata": {
        "id": "9F9FIW0-bYZs"
      },
      "outputs": [],
      "source": []
    },
    {
      "cell_type": "code",
      "execution_count": null,
      "metadata": {
        "id": "o3elF07Nqi2E"
      },
      "outputs": [],
      "source": []
    },
    {
      "cell_type": "code",
      "execution_count": null,
      "metadata": {
        "id": "w3Oe_XlsqlbP"
      },
      "outputs": [],
      "source": []
    },
    {
      "cell_type": "code",
      "execution_count": null,
      "metadata": {
        "id": "KDPaKJO7qsTY"
      },
      "outputs": [],
      "source": []
    },
    {
      "cell_type": "code",
      "execution_count": null,
      "metadata": {
        "id": "5kW3F5jAqvVP"
      },
      "outputs": [],
      "source": []
    },
    {
      "cell_type": "code",
      "execution_count": null,
      "metadata": {
        "id": "Gmo1xb_Xriuj"
      },
      "outputs": [],
      "source": []
    },
    {
      "cell_type": "code",
      "execution_count": null,
      "metadata": {
        "id": "JCXIWLKVq4rN"
      },
      "outputs": [],
      "source": []
    },
    {
      "cell_type": "code",
      "execution_count": null,
      "metadata": {
        "id": "BxA3XjSarl3J"
      },
      "outputs": [],
      "source": []
    },
    {
      "cell_type": "code",
      "execution_count": null,
      "metadata": {
        "id": "l0D2GjVeq8Fh"
      },
      "outputs": [],
      "source": []
    },
    {
      "cell_type": "markdown",
      "metadata": {
        "id": "FSLpWYGEiZRR"
      },
      "source": [
        "### 중복 제거"
      ]
    },
    {
      "cell_type": "code",
      "execution_count": null,
      "metadata": {
        "id": "Ii7qOLQ8s1hW"
      },
      "outputs": [],
      "source": []
    },
    {
      "cell_type": "code",
      "execution_count": null,
      "metadata": {
        "id": "14U6mS6fjOu9"
      },
      "outputs": [],
      "source": []
    },
    {
      "cell_type": "code",
      "execution_count": null,
      "metadata": {
        "id": "iLOdlpN5jR0d"
      },
      "outputs": [],
      "source": []
    },
    {
      "cell_type": "markdown",
      "metadata": {
        "id": "GaUfbZgwkCf-"
      },
      "source": [
        "### 값 치환"
      ]
    },
    {
      "cell_type": "code",
      "execution_count": null,
      "metadata": {
        "id": "VdG93-hpkE2j"
      },
      "outputs": [],
      "source": []
    },
    {
      "cell_type": "code",
      "execution_count": null,
      "metadata": {
        "id": "ZRnsdEEukSf3"
      },
      "outputs": [],
      "source": []
    },
    {
      "cell_type": "code",
      "execution_count": null,
      "metadata": {
        "id": "L3fSks4BkYSi"
      },
      "outputs": [],
      "source": []
    },
    {
      "cell_type": "code",
      "execution_count": null,
      "metadata": {
        "id": "_wtD7XeykdLs"
      },
      "outputs": [],
      "source": []
    },
    {
      "cell_type": "markdown",
      "metadata": {
        "id": "4sq_9jXcoFwb"
      },
      "source": [
        "## 참고문헌\n",
        "\n",
        "* Pandas 사이트: https://pandas.pydata.org/\n",
        "* Jake VanderPlas, \"Python Data Science Handbook\", O'Reilly\n",
        "* Wes Mckinney, \"Python for Data Analysis\", O'Reilly"
      ]
    }
  ],
  "metadata": {
    "colab": {
      "collapsed_sections": [],
      "include_colab_link": true,
      "name": "_Pandas 한번에 제대로 배우기.ipynb",
      "provenance": [],
      "toc_visible": true
    },
    "kernelspec": {
      "display_name": "Python 3",
      "name": "python3"
    },
    "language_info": {
      "codemirror_mode": {
        "name": "ipython",
        "version": 3
      },
      "file_extension": ".py",
      "mimetype": "text/x-python",
      "name": "python",
      "nbconvert_exporter": "python",
      "pygments_lexer": "ipython3",
      "version": "3.7.11"
    }
  },
  "nbformat": 4,
  "nbformat_minor": 0
}
